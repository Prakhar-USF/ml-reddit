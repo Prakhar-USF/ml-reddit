{
 "cells": [
  {
   "cell_type": "code",
   "execution_count": 1,
   "metadata": {},
   "outputs": [],
   "source": [
    "import pandas as pd\n",
    "from pathlib import Path"
   ]
  },
  {
   "cell_type": "code",
   "execution_count": 2,
   "metadata": {},
   "outputs": [],
   "source": [
    "path = Path('Data/')"
   ]
  },
  {
   "cell_type": "code",
   "execution_count": 3,
   "metadata": {},
   "outputs": [
    {
     "name": "stderr",
     "output_type": "stream",
     "text": [
      "/home/gokul/anaconda3/lib/python3.6/site-packages/pandas/io/feather_format.py:112: FutureWarning: `nthreads` argument is deprecated, pass `use_threads` instead\n",
      "  return feather.read_dataframe(path, nthreads=nthreads)\n"
     ]
    }
   ],
   "source": [
    "df = pd.read_feather('Data/May2015_subset.fthr')"
   ]
  },
  {
   "cell_type": "code",
   "execution_count": 4,
   "metadata": {},
   "outputs": [
    {
     "data": {
      "text/html": [
       "<div>\n",
       "<style scoped>\n",
       "    .dataframe tbody tr th:only-of-type {\n",
       "        vertical-align: middle;\n",
       "    }\n",
       "\n",
       "    .dataframe tbody tr th {\n",
       "        vertical-align: top;\n",
       "    }\n",
       "\n",
       "    .dataframe thead th {\n",
       "        text-align: right;\n",
       "    }\n",
       "</style>\n",
       "<table border=\"1\" class=\"dataframe\">\n",
       "  <thead>\n",
       "    <tr style=\"text-align: right;\">\n",
       "      <th></th>\n",
       "      <th>6195169</th>\n",
       "      <th>6195170</th>\n",
       "      <th>6195171</th>\n",
       "    </tr>\n",
       "  </thead>\n",
       "  <tbody>\n",
       "    <tr>\n",
       "      <th>created_utc</th>\n",
       "      <td>1433116781</td>\n",
       "      <td>1433116784</td>\n",
       "      <td>1433116785</td>\n",
       "    </tr>\n",
       "    <tr>\n",
       "      <th>ups</th>\n",
       "      <td>170</td>\n",
       "      <td>9</td>\n",
       "      <td>37</td>\n",
       "    </tr>\n",
       "    <tr>\n",
       "      <th>subreddit_id</th>\n",
       "      <td>t5_2qh13</td>\n",
       "      <td>t5_2qh13</td>\n",
       "      <td>t5_2qh13</td>\n",
       "    </tr>\n",
       "    <tr>\n",
       "      <th>link_id</th>\n",
       "      <td>t3_37zl5z</td>\n",
       "      <td>t3_380j06</td>\n",
       "      <td>t3_37z0mw</td>\n",
       "    </tr>\n",
       "    <tr>\n",
       "      <th>name</th>\n",
       "      <td>t1_crrbedn</td>\n",
       "      <td>t1_crrbefm</td>\n",
       "      <td>t1_crrbeft</td>\n",
       "    </tr>\n",
       "    <tr>\n",
       "      <th>score_hidden</th>\n",
       "      <td>0</td>\n",
       "      <td>0</td>\n",
       "      <td>0</td>\n",
       "    </tr>\n",
       "    <tr>\n",
       "      <th>author_flair_css_class</th>\n",
       "      <td>None</td>\n",
       "      <td>None</td>\n",
       "      <td>None</td>\n",
       "    </tr>\n",
       "    <tr>\n",
       "      <th>author_flair_text</th>\n",
       "      <td>None</td>\n",
       "      <td>None</td>\n",
       "      <td>None</td>\n",
       "    </tr>\n",
       "    <tr>\n",
       "      <th>subreddit</th>\n",
       "      <td>worldnews</td>\n",
       "      <td>worldnews</td>\n",
       "      <td>worldnews</td>\n",
       "    </tr>\n",
       "    <tr>\n",
       "      <th>id</th>\n",
       "      <td>crrbedn</td>\n",
       "      <td>crrbefm</td>\n",
       "      <td>crrbeft</td>\n",
       "    </tr>\n",
       "    <tr>\n",
       "      <th>removal_reason</th>\n",
       "      <td>None</td>\n",
       "      <td>None</td>\n",
       "      <td>None</td>\n",
       "    </tr>\n",
       "    <tr>\n",
       "      <th>gilded</th>\n",
       "      <td>0</td>\n",
       "      <td>0</td>\n",
       "      <td>0</td>\n",
       "    </tr>\n",
       "    <tr>\n",
       "      <th>downs</th>\n",
       "      <td>0</td>\n",
       "      <td>0</td>\n",
       "      <td>0</td>\n",
       "    </tr>\n",
       "    <tr>\n",
       "      <th>archived</th>\n",
       "      <td>0</td>\n",
       "      <td>0</td>\n",
       "      <td>0</td>\n",
       "    </tr>\n",
       "    <tr>\n",
       "      <th>author</th>\n",
       "      <td>yorrick21</td>\n",
       "      <td>ultron_maxim</td>\n",
       "      <td>knobbly_knees</td>\n",
       "    </tr>\n",
       "    <tr>\n",
       "      <th>score</th>\n",
       "      <td>170</td>\n",
       "      <td>9</td>\n",
       "      <td>37</td>\n",
       "    </tr>\n",
       "    <tr>\n",
       "      <th>retrieved_on</th>\n",
       "      <td>1433505916</td>\n",
       "      <td>1433505916</td>\n",
       "      <td>1433505916</td>\n",
       "    </tr>\n",
       "    <tr>\n",
       "      <th>body</th>\n",
       "      <td>Because it's not typically done to babies. It'...</td>\n",
       "      <td>&amp;gt; Nothing they are doing is illegal under i...</td>\n",
       "      <td>Apart from the risk of inhalation pneumonia.</td>\n",
       "    </tr>\n",
       "    <tr>\n",
       "      <th>distinguished</th>\n",
       "      <td>None</td>\n",
       "      <td>None</td>\n",
       "      <td>None</td>\n",
       "    </tr>\n",
       "    <tr>\n",
       "      <th>edited</th>\n",
       "      <td>0</td>\n",
       "      <td>0</td>\n",
       "      <td>0</td>\n",
       "    </tr>\n",
       "    <tr>\n",
       "      <th>controversiality</th>\n",
       "      <td>0</td>\n",
       "      <td>0</td>\n",
       "      <td>0</td>\n",
       "    </tr>\n",
       "    <tr>\n",
       "      <th>parent_id</th>\n",
       "      <td>t1_crrax76</td>\n",
       "      <td>t1_crrb19g</td>\n",
       "      <td>t1_crrb2cx</td>\n",
       "    </tr>\n",
       "  </tbody>\n",
       "</table>\n",
       "</div>"
      ],
      "text/plain": [
       "                                                                  6195169  \\\n",
       "created_utc                                                    1433116781   \n",
       "ups                                                                   170   \n",
       "subreddit_id                                                     t5_2qh13   \n",
       "link_id                                                         t3_37zl5z   \n",
       "name                                                           t1_crrbedn   \n",
       "score_hidden                                                            0   \n",
       "author_flair_css_class                                               None   \n",
       "author_flair_text                                                    None   \n",
       "subreddit                                                       worldnews   \n",
       "id                                                                crrbedn   \n",
       "removal_reason                                                       None   \n",
       "gilded                                                                  0   \n",
       "downs                                                                   0   \n",
       "archived                                                                0   \n",
       "author                                                          yorrick21   \n",
       "score                                                                 170   \n",
       "retrieved_on                                                   1433505916   \n",
       "body                    Because it's not typically done to babies. It'...   \n",
       "distinguished                                                        None   \n",
       "edited                                                                  0   \n",
       "controversiality                                                        0   \n",
       "parent_id                                                      t1_crrax76   \n",
       "\n",
       "                                                                  6195170  \\\n",
       "created_utc                                                    1433116784   \n",
       "ups                                                                     9   \n",
       "subreddit_id                                                     t5_2qh13   \n",
       "link_id                                                         t3_380j06   \n",
       "name                                                           t1_crrbefm   \n",
       "score_hidden                                                            0   \n",
       "author_flair_css_class                                               None   \n",
       "author_flair_text                                                    None   \n",
       "subreddit                                                       worldnews   \n",
       "id                                                                crrbefm   \n",
       "removal_reason                                                       None   \n",
       "gilded                                                                  0   \n",
       "downs                                                                   0   \n",
       "archived                                                                0   \n",
       "author                                                       ultron_maxim   \n",
       "score                                                                   9   \n",
       "retrieved_on                                                   1433505916   \n",
       "body                    &gt; Nothing they are doing is illegal under i...   \n",
       "distinguished                                                        None   \n",
       "edited                                                                  0   \n",
       "controversiality                                                        0   \n",
       "parent_id                                                      t1_crrb19g   \n",
       "\n",
       "                                                             6195171  \n",
       "created_utc                                               1433116785  \n",
       "ups                                                               37  \n",
       "subreddit_id                                                t5_2qh13  \n",
       "link_id                                                    t3_37z0mw  \n",
       "name                                                      t1_crrbeft  \n",
       "score_hidden                                                       0  \n",
       "author_flair_css_class                                          None  \n",
       "author_flair_text                                               None  \n",
       "subreddit                                                  worldnews  \n",
       "id                                                           crrbeft  \n",
       "removal_reason                                                  None  \n",
       "gilded                                                             0  \n",
       "downs                                                              0  \n",
       "archived                                                           0  \n",
       "author                                                 knobbly_knees  \n",
       "score                                                             37  \n",
       "retrieved_on                                              1433505916  \n",
       "body                    Apart from the risk of inhalation pneumonia.  \n",
       "distinguished                                                   None  \n",
       "edited                                                             0  \n",
       "controversiality                                                   0  \n",
       "parent_id                                                 t1_crrb2cx  "
      ]
     },
     "execution_count": 4,
     "metadata": {},
     "output_type": "execute_result"
    }
   ],
   "source": [
    "df.tail(3).T"
   ]
  },
  {
   "cell_type": "markdown",
   "metadata": {},
   "source": [
    "# What is t1, t3, and t5 ?\n",
    "$t_i$ are \n",
    "<img src=\"images/reddit_API.png\" alt=\"Drawing\" style=\"width: 200px;\"/>"
   ]
  },
  {
   "cell_type": "code",
   "execution_count": 5,
   "metadata": {},
   "outputs": [
    {
     "data": {
      "text/plain": [
       "'5.128976683577038 GB'"
      ]
     },
     "execution_count": 5,
     "metadata": {},
     "output_type": "execute_result"
    }
   ],
   "source": [
    "f\"{df.memory_usage(deep=True).sum() / 1023.0**3} GB\""
   ]
  },
  {
   "cell_type": "markdown",
   "metadata": {},
   "source": [
    "! Ohh, let's reduce those memory footprint."
   ]
  },
  {
   "cell_type": "code",
   "execution_count": 6,
   "metadata": {},
   "outputs": [
    {
     "data": {
      "text/plain": [
       "(6195172, 22)"
      ]
     },
     "execution_count": 6,
     "metadata": {},
     "output_type": "execute_result"
    }
   ],
   "source": [
    "df.shape"
   ]
  },
  {
   "cell_type": "code",
   "execution_count": 7,
   "metadata": {},
   "outputs": [],
   "source": [
    "df['subreddit'] = df.subreddit.astype('category')\n",
    "df['subreddit_id'] = df.subreddit_id.astype('category')\n",
    "df['author_flair_css_class'] = df.author_flair_css_class.astype('category')\n",
    "df['distinguished'] = df.distinguished.astype('category')\n",
    "df['link_id'] = df.link_id.astype('category')\n",
    "\n",
    "df.drop(['archived'], axis=1, inplace=True) # Only one value i.e. 0\n",
    "# df = df[~(df.body == '[deleted]')]  # remove [deleted] comments\n",
    "df.drop(['retrieved_on'], axis=1, inplace=True)\n",
    "df.drop(['id'], axis=1, inplace=True)"
   ]
  },
  {
   "cell_type": "code",
   "execution_count": 8,
   "metadata": {},
   "outputs": [
    {
     "data": {
      "text/plain": [
       "(6195172, 19)"
      ]
     },
     "execution_count": 8,
     "metadata": {},
     "output_type": "execute_result"
    }
   ],
   "source": [
    "df.shape"
   ]
  },
  {
   "cell_type": "code",
   "execution_count": 9,
   "metadata": {},
   "outputs": [
    {
     "data": {
      "text/plain": [
       "Index(['created_utc', 'ups', 'subreddit_id', 'link_id', 'name', 'score_hidden',\n",
       "       'author_flair_css_class', 'author_flair_text', 'subreddit',\n",
       "       'removal_reason', 'gilded', 'downs', 'author', 'score', 'body',\n",
       "       'distinguished', 'edited', 'controversiality', 'parent_id'],\n",
       "      dtype='object')"
      ]
     },
     "execution_count": 9,
     "metadata": {},
     "output_type": "execute_result"
    }
   ],
   "source": [
    "df.columns"
   ]
  },
  {
   "cell_type": "code",
   "execution_count": 10,
   "metadata": {},
   "outputs": [
    {
     "data": {
      "text/plain": [
       "array([None, 'legal'], dtype=object)"
      ]
     },
     "execution_count": 10,
     "metadata": {},
     "output_type": "execute_result"
    }
   ],
   "source": [
    "df.removal_reason.unique()"
   ]
  },
  {
   "cell_type": "code",
   "execution_count": 11,
   "metadata": {},
   "outputs": [
    {
     "data": {
      "text/plain": [
       "'3.2712493806750738 GB'"
      ]
     },
     "execution_count": 11,
     "metadata": {},
     "output_type": "execute_result"
    }
   ],
   "source": [
    "f\"{df.memory_usage(deep=True).sum() / 1023.0**3} GB\""
   ]
  },
  {
   "cell_type": "code",
   "execution_count": 12,
   "metadata": {},
   "outputs": [],
   "source": [
    "assert len(df.subreddit_id.unique()) == len(df.subreddit.unique())"
   ]
  },
  {
   "cell_type": "code",
   "execution_count": 13,
   "metadata": {
    "scrolled": false
   },
   "outputs": [
    {
     "data": {
      "text/plain": [
       "leagueoflegends      1223184\n",
       "funny                 745916\n",
       "news                  548287\n",
       "todayilearned         519910\n",
       "worldnews             490354\n",
       "movies                376601\n",
       "gaming                361265\n",
       "politics              244927\n",
       "explainlikeimfive     223148\n",
       "anime                 221118\n",
       "gameofthrones         191006\n",
       "motorcycles            89721\n",
       "science                89413\n",
       "conspiracy             78349\n",
       "tf2                    76549\n",
       "sex                    74912\n",
       "guns                   61234\n",
       "comicbooks             60303\n",
       "pokemon                59730\n",
       "food                   55231\n",
       "starcraft              53797\n",
       "askscience             53017\n",
       "mylittlepony           44119\n",
       "space                  42726\n",
       "skyrim                 40568\n",
       "circlejerk             30134\n",
       "facepalm               22562\n",
       "community              20635\n",
       "harrypotter            19998\n",
       "progresspics           13385\n",
       "drunk                  13027\n",
       "startrek               12275\n",
       "thewalkingdead         10357\n",
       "offbeat                10035\n",
       "lifehacks               7342\n",
       "doctorwho               6242\n",
       "breakingbad             3795\n",
       "Name: subreddit, dtype: int64"
      ]
     },
     "execution_count": 13,
     "metadata": {},
     "output_type": "execute_result"
    }
   ],
   "source": [
    "# No comments in a subreddits\n",
    "df.subreddit.value_counts()"
   ]
  },
  {
   "cell_type": "code",
   "execution_count": 14,
   "metadata": {},
   "outputs": [],
   "source": [
    "import matplotlib.pyplot as plt\n",
    "import numpy as np\n",
    "%matplotlib inline"
   ]
  },
  {
   "cell_type": "code",
   "execution_count": 15,
   "metadata": {},
   "outputs": [],
   "source": [
    "df['time'] = pd.to_datetime(df.created_utc, unit='s') "
   ]
  },
  {
   "cell_type": "code",
   "execution_count": 16,
   "metadata": {},
   "outputs": [
    {
     "data": {
      "text/plain": [
       "array(['t1_'], dtype='<U3')"
      ]
     },
     "execution_count": 16,
     "metadata": {},
     "output_type": "execute_result"
    }
   ],
   "source": [
    "np.unique([i[:3] for i in df.name.unique()])"
   ]
  },
  {
   "cell_type": "code",
   "execution_count": 17,
   "metadata": {},
   "outputs": [
    {
     "data": {
      "text/plain": [
       "array(['t1_', 't3_'], dtype='<U3')"
      ]
     },
     "execution_count": 17,
     "metadata": {},
     "output_type": "execute_result"
    }
   ],
   "source": [
    "np.unique([i[:3] for i in df.parent_id.unique()])"
   ]
  },
  {
   "cell_type": "code",
   "execution_count": 18,
   "metadata": {},
   "outputs": [],
   "source": [
    "df_first_comment = df[['link_id', 'time']].groupby(by=['link_id']).min()"
   ]
  },
  {
   "cell_type": "code",
   "execution_count": 19,
   "metadata": {},
   "outputs": [
    {
     "data": {
      "text/plain": [
       "(262519, 1)"
      ]
     },
     "execution_count": 19,
     "metadata": {},
     "output_type": "execute_result"
    }
   ],
   "source": [
    "df_first_comment.shape"
   ]
  },
  {
   "cell_type": "code",
   "execution_count": 20,
   "metadata": {},
   "outputs": [
    {
     "data": {
      "text/html": [
       "<div>\n",
       "<style scoped>\n",
       "    .dataframe tbody tr th:only-of-type {\n",
       "        vertical-align: middle;\n",
       "    }\n",
       "\n",
       "    .dataframe tbody tr th {\n",
       "        vertical-align: top;\n",
       "    }\n",
       "\n",
       "    .dataframe thead th {\n",
       "        text-align: right;\n",
       "    }\n",
       "</style>\n",
       "<table border=\"1\" class=\"dataframe\">\n",
       "  <thead>\n",
       "    <tr style=\"text-align: right;\">\n",
       "      <th></th>\n",
       "      <th>time</th>\n",
       "    </tr>\n",
       "    <tr>\n",
       "      <th>link_id</th>\n",
       "      <th></th>\n",
       "    </tr>\n",
       "  </thead>\n",
       "  <tbody>\n",
       "    <tr>\n",
       "      <th>t3_11411c</th>\n",
       "      <td>2015-05-31 02:50:41</td>\n",
       "    </tr>\n",
       "    <tr>\n",
       "      <th>t3_17f129</th>\n",
       "      <td>2015-05-19 13:53:19</td>\n",
       "    </tr>\n",
       "    <tr>\n",
       "      <th>t3_17xepd</th>\n",
       "      <td>2015-05-07 19:51:30</td>\n",
       "    </tr>\n",
       "    <tr>\n",
       "      <th>t3_19l2pc</th>\n",
       "      <td>2015-05-11 22:30:10</td>\n",
       "    </tr>\n",
       "    <tr>\n",
       "      <th>t3_1aw2dx</th>\n",
       "      <td>2015-05-06 18:52:22</td>\n",
       "    </tr>\n",
       "  </tbody>\n",
       "</table>\n",
       "</div>"
      ],
      "text/plain": [
       "                         time\n",
       "link_id                      \n",
       "t3_11411c 2015-05-31 02:50:41\n",
       "t3_17f129 2015-05-19 13:53:19\n",
       "t3_17xepd 2015-05-07 19:51:30\n",
       "t3_19l2pc 2015-05-11 22:30:10\n",
       "t3_1aw2dx 2015-05-06 18:52:22"
      ]
     },
     "execution_count": 20,
     "metadata": {},
     "output_type": "execute_result"
    }
   ],
   "source": [
    "df_first_comment.head()"
   ]
  },
  {
   "cell_type": "code",
   "execution_count": 21,
   "metadata": {},
   "outputs": [],
   "source": [
    "df_first_comment_dict = df_first_comment.to_dict('index')"
   ]
  },
  {
   "cell_type": "code",
   "execution_count": 22,
   "metadata": {},
   "outputs": [],
   "source": [
    "def time_lapse(x):\n",
    "    return df_first_comment_dict[x]['time']"
   ]
  },
  {
   "cell_type": "code",
   "execution_count": 23,
   "metadata": {},
   "outputs": [
    {
     "data": {
      "text/plain": [
       "Timestamp('2015-05-31 02:50:41')"
      ]
     },
     "execution_count": 23,
     "metadata": {},
     "output_type": "execute_result"
    }
   ],
   "source": [
    "time_lapse('t3_11411c')"
   ]
  },
  {
   "cell_type": "code",
   "execution_count": 24,
   "metadata": {},
   "outputs": [],
   "source": [
    "df['time_lapse'] = df.time - df.link_id.apply(time_lapse)"
   ]
  },
  {
   "cell_type": "code",
   "execution_count": 25,
   "metadata": {},
   "outputs": [
    {
     "data": {
      "text/html": [
       "<div>\n",
       "<style scoped>\n",
       "    .dataframe tbody tr th:only-of-type {\n",
       "        vertical-align: middle;\n",
       "    }\n",
       "\n",
       "    .dataframe tbody tr th {\n",
       "        vertical-align: top;\n",
       "    }\n",
       "\n",
       "    .dataframe thead th {\n",
       "        text-align: right;\n",
       "    }\n",
       "</style>\n",
       "<table border=\"1\" class=\"dataframe\">\n",
       "  <thead>\n",
       "    <tr style=\"text-align: right;\">\n",
       "      <th></th>\n",
       "      <th>6195167</th>\n",
       "      <th>6195168</th>\n",
       "      <th>6195169</th>\n",
       "      <th>6195170</th>\n",
       "      <th>6195171</th>\n",
       "    </tr>\n",
       "  </thead>\n",
       "  <tbody>\n",
       "    <tr>\n",
       "      <th>created_utc</th>\n",
       "      <td>1433116778</td>\n",
       "      <td>1433116780</td>\n",
       "      <td>1433116781</td>\n",
       "      <td>1433116784</td>\n",
       "      <td>1433116785</td>\n",
       "    </tr>\n",
       "    <tr>\n",
       "      <th>ups</th>\n",
       "      <td>1</td>\n",
       "      <td>1</td>\n",
       "      <td>170</td>\n",
       "      <td>9</td>\n",
       "      <td>37</td>\n",
       "    </tr>\n",
       "    <tr>\n",
       "      <th>subreddit_id</th>\n",
       "      <td>t5_2qh13</td>\n",
       "      <td>t5_2qh13</td>\n",
       "      <td>t5_2qh13</td>\n",
       "      <td>t5_2qh13</td>\n",
       "      <td>t5_2qh13</td>\n",
       "    </tr>\n",
       "    <tr>\n",
       "      <th>link_id</th>\n",
       "      <td>t3_37z0mw</td>\n",
       "      <td>t3_37z0mw</td>\n",
       "      <td>t3_37zl5z</td>\n",
       "      <td>t3_380j06</td>\n",
       "      <td>t3_37z0mw</td>\n",
       "    </tr>\n",
       "    <tr>\n",
       "      <th>name</th>\n",
       "      <td>t1_crrbebf</td>\n",
       "      <td>t1_crrbecs</td>\n",
       "      <td>t1_crrbedn</td>\n",
       "      <td>t1_crrbefm</td>\n",
       "      <td>t1_crrbeft</td>\n",
       "    </tr>\n",
       "    <tr>\n",
       "      <th>score_hidden</th>\n",
       "      <td>0</td>\n",
       "      <td>0</td>\n",
       "      <td>0</td>\n",
       "      <td>0</td>\n",
       "      <td>0</td>\n",
       "    </tr>\n",
       "    <tr>\n",
       "      <th>author_flair_css_class</th>\n",
       "      <td>NaN</td>\n",
       "      <td>NaN</td>\n",
       "      <td>NaN</td>\n",
       "      <td>NaN</td>\n",
       "      <td>NaN</td>\n",
       "    </tr>\n",
       "    <tr>\n",
       "      <th>author_flair_text</th>\n",
       "      <td>None</td>\n",
       "      <td>None</td>\n",
       "      <td>None</td>\n",
       "      <td>None</td>\n",
       "      <td>None</td>\n",
       "    </tr>\n",
       "    <tr>\n",
       "      <th>subreddit</th>\n",
       "      <td>worldnews</td>\n",
       "      <td>worldnews</td>\n",
       "      <td>worldnews</td>\n",
       "      <td>worldnews</td>\n",
       "      <td>worldnews</td>\n",
       "    </tr>\n",
       "    <tr>\n",
       "      <th>removal_reason</th>\n",
       "      <td>None</td>\n",
       "      <td>None</td>\n",
       "      <td>None</td>\n",
       "      <td>None</td>\n",
       "      <td>None</td>\n",
       "    </tr>\n",
       "    <tr>\n",
       "      <th>gilded</th>\n",
       "      <td>0</td>\n",
       "      <td>0</td>\n",
       "      <td>0</td>\n",
       "      <td>0</td>\n",
       "      <td>0</td>\n",
       "    </tr>\n",
       "    <tr>\n",
       "      <th>downs</th>\n",
       "      <td>0</td>\n",
       "      <td>0</td>\n",
       "      <td>0</td>\n",
       "      <td>0</td>\n",
       "      <td>0</td>\n",
       "    </tr>\n",
       "    <tr>\n",
       "      <th>author</th>\n",
       "      <td>Reddit_Moviemaker</td>\n",
       "      <td>racc8290</td>\n",
       "      <td>yorrick21</td>\n",
       "      <td>ultron_maxim</td>\n",
       "      <td>knobbly_knees</td>\n",
       "    </tr>\n",
       "    <tr>\n",
       "      <th>score</th>\n",
       "      <td>1</td>\n",
       "      <td>1</td>\n",
       "      <td>170</td>\n",
       "      <td>9</td>\n",
       "      <td>37</td>\n",
       "    </tr>\n",
       "    <tr>\n",
       "      <th>body</th>\n",
       "      <td>The key there is \"unless they're sociopaths\". ...</td>\n",
       "      <td>Pretty sure they don't just behead people outr...</td>\n",
       "      <td>Because it's not typically done to babies. It'...</td>\n",
       "      <td>&amp;gt; Nothing they are doing is illegal under i...</td>\n",
       "      <td>Apart from the risk of inhalation pneumonia.</td>\n",
       "    </tr>\n",
       "    <tr>\n",
       "      <th>distinguished</th>\n",
       "      <td>NaN</td>\n",
       "      <td>NaN</td>\n",
       "      <td>NaN</td>\n",
       "      <td>NaN</td>\n",
       "      <td>NaN</td>\n",
       "    </tr>\n",
       "    <tr>\n",
       "      <th>edited</th>\n",
       "      <td>0</td>\n",
       "      <td>0</td>\n",
       "      <td>0</td>\n",
       "      <td>0</td>\n",
       "      <td>0</td>\n",
       "    </tr>\n",
       "    <tr>\n",
       "      <th>controversiality</th>\n",
       "      <td>0</td>\n",
       "      <td>0</td>\n",
       "      <td>0</td>\n",
       "      <td>0</td>\n",
       "      <td>0</td>\n",
       "    </tr>\n",
       "    <tr>\n",
       "      <th>parent_id</th>\n",
       "      <td>t1_crr9oyk</td>\n",
       "      <td>t1_crraioh</td>\n",
       "      <td>t1_crrax76</td>\n",
       "      <td>t1_crrb19g</td>\n",
       "      <td>t1_crrb2cx</td>\n",
       "    </tr>\n",
       "    <tr>\n",
       "      <th>time</th>\n",
       "      <td>2015-05-31 23:59:38</td>\n",
       "      <td>2015-05-31 23:59:40</td>\n",
       "      <td>2015-05-31 23:59:41</td>\n",
       "      <td>2015-05-31 23:59:44</td>\n",
       "      <td>2015-05-31 23:59:45</td>\n",
       "    </tr>\n",
       "    <tr>\n",
       "      <th>time_lapse</th>\n",
       "      <td>0 days 06:55:13</td>\n",
       "      <td>0 days 06:55:15</td>\n",
       "      <td>0 days 03:53:43</td>\n",
       "      <td>0 days 00:29:46</td>\n",
       "      <td>0 days 06:55:20</td>\n",
       "    </tr>\n",
       "  </tbody>\n",
       "</table>\n",
       "</div>"
      ],
      "text/plain": [
       "                                                                  6195167  \\\n",
       "created_utc                                                    1433116778   \n",
       "ups                                                                     1   \n",
       "subreddit_id                                                     t5_2qh13   \n",
       "link_id                                                         t3_37z0mw   \n",
       "name                                                           t1_crrbebf   \n",
       "score_hidden                                                            0   \n",
       "author_flair_css_class                                                NaN   \n",
       "author_flair_text                                                    None   \n",
       "subreddit                                                       worldnews   \n",
       "removal_reason                                                       None   \n",
       "gilded                                                                  0   \n",
       "downs                                                                   0   \n",
       "author                                                  Reddit_Moviemaker   \n",
       "score                                                                   1   \n",
       "body                    The key there is \"unless they're sociopaths\". ...   \n",
       "distinguished                                                         NaN   \n",
       "edited                                                                  0   \n",
       "controversiality                                                        0   \n",
       "parent_id                                                      t1_crr9oyk   \n",
       "time                                                  2015-05-31 23:59:38   \n",
       "time_lapse                                                0 days 06:55:13   \n",
       "\n",
       "                                                                  6195168  \\\n",
       "created_utc                                                    1433116780   \n",
       "ups                                                                     1   \n",
       "subreddit_id                                                     t5_2qh13   \n",
       "link_id                                                         t3_37z0mw   \n",
       "name                                                           t1_crrbecs   \n",
       "score_hidden                                                            0   \n",
       "author_flair_css_class                                                NaN   \n",
       "author_flair_text                                                    None   \n",
       "subreddit                                                       worldnews   \n",
       "removal_reason                                                       None   \n",
       "gilded                                                                  0   \n",
       "downs                                                                   0   \n",
       "author                                                           racc8290   \n",
       "score                                                                   1   \n",
       "body                    Pretty sure they don't just behead people outr...   \n",
       "distinguished                                                         NaN   \n",
       "edited                                                                  0   \n",
       "controversiality                                                        0   \n",
       "parent_id                                                      t1_crraioh   \n",
       "time                                                  2015-05-31 23:59:40   \n",
       "time_lapse                                                0 days 06:55:15   \n",
       "\n",
       "                                                                  6195169  \\\n",
       "created_utc                                                    1433116781   \n",
       "ups                                                                   170   \n",
       "subreddit_id                                                     t5_2qh13   \n",
       "link_id                                                         t3_37zl5z   \n",
       "name                                                           t1_crrbedn   \n",
       "score_hidden                                                            0   \n",
       "author_flair_css_class                                                NaN   \n",
       "author_flair_text                                                    None   \n",
       "subreddit                                                       worldnews   \n",
       "removal_reason                                                       None   \n",
       "gilded                                                                  0   \n",
       "downs                                                                   0   \n",
       "author                                                          yorrick21   \n",
       "score                                                                 170   \n",
       "body                    Because it's not typically done to babies. It'...   \n",
       "distinguished                                                         NaN   \n",
       "edited                                                                  0   \n",
       "controversiality                                                        0   \n",
       "parent_id                                                      t1_crrax76   \n",
       "time                                                  2015-05-31 23:59:41   \n",
       "time_lapse                                                0 days 03:53:43   \n",
       "\n",
       "                                                                  6195170  \\\n",
       "created_utc                                                    1433116784   \n",
       "ups                                                                     9   \n",
       "subreddit_id                                                     t5_2qh13   \n",
       "link_id                                                         t3_380j06   \n",
       "name                                                           t1_crrbefm   \n",
       "score_hidden                                                            0   \n",
       "author_flair_css_class                                                NaN   \n",
       "author_flair_text                                                    None   \n",
       "subreddit                                                       worldnews   \n",
       "removal_reason                                                       None   \n",
       "gilded                                                                  0   \n",
       "downs                                                                   0   \n",
       "author                                                       ultron_maxim   \n",
       "score                                                                   9   \n",
       "body                    &gt; Nothing they are doing is illegal under i...   \n",
       "distinguished                                                         NaN   \n",
       "edited                                                                  0   \n",
       "controversiality                                                        0   \n",
       "parent_id                                                      t1_crrb19g   \n",
       "time                                                  2015-05-31 23:59:44   \n",
       "time_lapse                                                0 days 00:29:46   \n",
       "\n",
       "                                                             6195171  \n",
       "created_utc                                               1433116785  \n",
       "ups                                                               37  \n",
       "subreddit_id                                                t5_2qh13  \n",
       "link_id                                                    t3_37z0mw  \n",
       "name                                                      t1_crrbeft  \n",
       "score_hidden                                                       0  \n",
       "author_flair_css_class                                           NaN  \n",
       "author_flair_text                                               None  \n",
       "subreddit                                                  worldnews  \n",
       "removal_reason                                                  None  \n",
       "gilded                                                             0  \n",
       "downs                                                              0  \n",
       "author                                                 knobbly_knees  \n",
       "score                                                             37  \n",
       "body                    Apart from the risk of inhalation pneumonia.  \n",
       "distinguished                                                    NaN  \n",
       "edited                                                             0  \n",
       "controversiality                                                   0  \n",
       "parent_id                                                 t1_crrb2cx  \n",
       "time                                             2015-05-31 23:59:45  \n",
       "time_lapse                                           0 days 06:55:20  "
      ]
     },
     "execution_count": 25,
     "metadata": {},
     "output_type": "execute_result"
    }
   ],
   "source": [
    "df.tail(5).T"
   ]
  },
  {
   "cell_type": "code",
   "execution_count": 26,
   "metadata": {},
   "outputs": [],
   "source": [
    "df.time_lapse = df.time_lapse.apply(lambda x: x.total_seconds())"
   ]
  },
  {
   "cell_type": "code",
   "execution_count": 27,
   "metadata": {},
   "outputs": [
    {
     "data": {
      "image/png": "[encoded data removed]",
      "text/plain": [
       "<Figure size 432x288 with 1 Axes>"
      ]
     },
     "metadata": {},
     "output_type": "display_data"
    }
   ],
   "source": [
    "(df.time_lapse / (60*60)).hist(bins=800).set_xlim((0, 48));"
   ]
  },
  {
   "cell_type": "markdown",
   "metadata": {},
   "source": [
    "#### Create New Features  \n",
    "1) links to other subreddit  \n",
    "2) domain name of linked urls  \n",
    "3) no urls links  \n",
    "4) no of subbreddit links  \n",
    "5) word count  \n",
    "6) senti_neg  \n",
    "7) senti_pos  \n",
    "8) senti_compound  \n",
    "9) senti_neu  \n",
    "10) subjectivity  \n",
    "11) parent comment feautures  \n",
    "12) word to vectors  \n",
    "13) time elapsed  \n",
    "14) unique words  \n",
    "15) no of puntuations  \n",
    "16) \n",
    "a) *authorkarma*\n"
   ]
  },
  {
   "cell_type": "code",
   "execution_count": 28,
   "metadata": {},
   "outputs": [],
   "source": [
    "def pd_to_dict(df, index='', column=''):\n",
    "    return pd.Series(df[column].values, index=df[index]).to_dict()"
   ]
  },
  {
   "cell_type": "code",
   "execution_count": 29,
   "metadata": {},
   "outputs": [],
   "source": [
    "comment_to_parent_dict = pd_to_dict(df[['name', 'parent_id']],\n",
    "                                    index='name', column='parent_id')"
   ]
  },
  {
   "cell_type": "code",
   "execution_count": 30,
   "metadata": {},
   "outputs": [
    {
     "data": {
      "text/plain": [
       "6195172"
      ]
     },
     "execution_count": 30,
     "metadata": {},
     "output_type": "execute_result"
    }
   ],
   "source": [
    "len(comment_to_parent_dict)"
   ]
  },
  {
   "cell_type": "markdown",
   "metadata": {},
   "source": [
    "**I know there is much elagant way of doing this with recursion**"
   ]
  },
  {
   "cell_type": "code",
   "execution_count": 31,
   "metadata": {},
   "outputs": [],
   "source": [
    "def get_depth(x):\n",
    "    counter = 0\n",
    "    temp = x\n",
    "    while True:\n",
    "        if temp[:3] == 't3_':\n",
    "            return counter\n",
    "        try:\n",
    "            temp = comment_to_parent_dict[temp]\n",
    "        except KeyError:\n",
    "            return np.nan\n",
    "        counter += 1"
   ]
  },
  {
   "cell_type": "code",
   "execution_count": 32,
   "metadata": {},
   "outputs": [],
   "source": [
    "df['depth'] = df['name'].apply(get_depth)"
   ]
  },
  {
   "cell_type": "code",
   "execution_count": 33,
   "metadata": {},
   "outputs": [
    {
     "data": {
      "text/html": [
       "<div>\n",
       "<style scoped>\n",
       "    .dataframe tbody tr th:only-of-type {\n",
       "        vertical-align: middle;\n",
       "    }\n",
       "\n",
       "    .dataframe tbody tr th {\n",
       "        vertical-align: top;\n",
       "    }\n",
       "\n",
       "    .dataframe thead th {\n",
       "        text-align: right;\n",
       "    }\n",
       "</style>\n",
       "<table border=\"1\" class=\"dataframe\">\n",
       "  <thead>\n",
       "    <tr style=\"text-align: right;\">\n",
       "      <th></th>\n",
       "      <th>6195167</th>\n",
       "      <th>6195168</th>\n",
       "      <th>6195169</th>\n",
       "      <th>6195170</th>\n",
       "      <th>6195171</th>\n",
       "    </tr>\n",
       "  </thead>\n",
       "  <tbody>\n",
       "    <tr>\n",
       "      <th>created_utc</th>\n",
       "      <td>1433116778</td>\n",
       "      <td>1433116780</td>\n",
       "      <td>1433116781</td>\n",
       "      <td>1433116784</td>\n",
       "      <td>1433116785</td>\n",
       "    </tr>\n",
       "    <tr>\n",
       "      <th>ups</th>\n",
       "      <td>1</td>\n",
       "      <td>1</td>\n",
       "      <td>170</td>\n",
       "      <td>9</td>\n",
       "      <td>37</td>\n",
       "    </tr>\n",
       "    <tr>\n",
       "      <th>subreddit_id</th>\n",
       "      <td>t5_2qh13</td>\n",
       "      <td>t5_2qh13</td>\n",
       "      <td>t5_2qh13</td>\n",
       "      <td>t5_2qh13</td>\n",
       "      <td>t5_2qh13</td>\n",
       "    </tr>\n",
       "    <tr>\n",
       "      <th>link_id</th>\n",
       "      <td>t3_37z0mw</td>\n",
       "      <td>t3_37z0mw</td>\n",
       "      <td>t3_37zl5z</td>\n",
       "      <td>t3_380j06</td>\n",
       "      <td>t3_37z0mw</td>\n",
       "    </tr>\n",
       "    <tr>\n",
       "      <th>name</th>\n",
       "      <td>t1_crrbebf</td>\n",
       "      <td>t1_crrbecs</td>\n",
       "      <td>t1_crrbedn</td>\n",
       "      <td>t1_crrbefm</td>\n",
       "      <td>t1_crrbeft</td>\n",
       "    </tr>\n",
       "    <tr>\n",
       "      <th>score_hidden</th>\n",
       "      <td>0</td>\n",
       "      <td>0</td>\n",
       "      <td>0</td>\n",
       "      <td>0</td>\n",
       "      <td>0</td>\n",
       "    </tr>\n",
       "    <tr>\n",
       "      <th>author_flair_css_class</th>\n",
       "      <td>NaN</td>\n",
       "      <td>NaN</td>\n",
       "      <td>NaN</td>\n",
       "      <td>NaN</td>\n",
       "      <td>NaN</td>\n",
       "    </tr>\n",
       "    <tr>\n",
       "      <th>author_flair_text</th>\n",
       "      <td>None</td>\n",
       "      <td>None</td>\n",
       "      <td>None</td>\n",
       "      <td>None</td>\n",
       "      <td>None</td>\n",
       "    </tr>\n",
       "    <tr>\n",
       "      <th>subreddit</th>\n",
       "      <td>worldnews</td>\n",
       "      <td>worldnews</td>\n",
       "      <td>worldnews</td>\n",
       "      <td>worldnews</td>\n",
       "      <td>worldnews</td>\n",
       "    </tr>\n",
       "    <tr>\n",
       "      <th>removal_reason</th>\n",
       "      <td>None</td>\n",
       "      <td>None</td>\n",
       "      <td>None</td>\n",
       "      <td>None</td>\n",
       "      <td>None</td>\n",
       "    </tr>\n",
       "    <tr>\n",
       "      <th>gilded</th>\n",
       "      <td>0</td>\n",
       "      <td>0</td>\n",
       "      <td>0</td>\n",
       "      <td>0</td>\n",
       "      <td>0</td>\n",
       "    </tr>\n",
       "    <tr>\n",
       "      <th>downs</th>\n",
       "      <td>0</td>\n",
       "      <td>0</td>\n",
       "      <td>0</td>\n",
       "      <td>0</td>\n",
       "      <td>0</td>\n",
       "    </tr>\n",
       "    <tr>\n",
       "      <th>author</th>\n",
       "      <td>Reddit_Moviemaker</td>\n",
       "      <td>racc8290</td>\n",
       "      <td>yorrick21</td>\n",
       "      <td>ultron_maxim</td>\n",
       "      <td>knobbly_knees</td>\n",
       "    </tr>\n",
       "    <tr>\n",
       "      <th>score</th>\n",
       "      <td>1</td>\n",
       "      <td>1</td>\n",
       "      <td>170</td>\n",
       "      <td>9</td>\n",
       "      <td>37</td>\n",
       "    </tr>\n",
       "    <tr>\n",
       "      <th>body</th>\n",
       "      <td>The key there is \"unless they're sociopaths\". ...</td>\n",
       "      <td>Pretty sure they don't just behead people outr...</td>\n",
       "      <td>Because it's not typically done to babies. It'...</td>\n",
       "      <td>&amp;gt; Nothing they are doing is illegal under i...</td>\n",
       "      <td>Apart from the risk of inhalation pneumonia.</td>\n",
       "    </tr>\n",
       "    <tr>\n",
       "      <th>distinguished</th>\n",
       "      <td>NaN</td>\n",
       "      <td>NaN</td>\n",
       "      <td>NaN</td>\n",
       "      <td>NaN</td>\n",
       "      <td>NaN</td>\n",
       "    </tr>\n",
       "    <tr>\n",
       "      <th>edited</th>\n",
       "      <td>0</td>\n",
       "      <td>0</td>\n",
       "      <td>0</td>\n",
       "      <td>0</td>\n",
       "      <td>0</td>\n",
       "    </tr>\n",
       "    <tr>\n",
       "      <th>controversiality</th>\n",
       "      <td>0</td>\n",
       "      <td>0</td>\n",
       "      <td>0</td>\n",
       "      <td>0</td>\n",
       "      <td>0</td>\n",
       "    </tr>\n",
       "    <tr>\n",
       "      <th>parent_id</th>\n",
       "      <td>t1_crr9oyk</td>\n",
       "      <td>t1_crraioh</td>\n",
       "      <td>t1_crrax76</td>\n",
       "      <td>t1_crrb19g</td>\n",
       "      <td>t1_crrb2cx</td>\n",
       "    </tr>\n",
       "    <tr>\n",
       "      <th>time</th>\n",
       "      <td>2015-05-31 23:59:38</td>\n",
       "      <td>2015-05-31 23:59:40</td>\n",
       "      <td>2015-05-31 23:59:41</td>\n",
       "      <td>2015-05-31 23:59:44</td>\n",
       "      <td>2015-05-31 23:59:45</td>\n",
       "    </tr>\n",
       "    <tr>\n",
       "      <th>time_lapse</th>\n",
       "      <td>24913</td>\n",
       "      <td>24915</td>\n",
       "      <td>14023</td>\n",
       "      <td>1786</td>\n",
       "      <td>24920</td>\n",
       "    </tr>\n",
       "    <tr>\n",
       "      <th>depth</th>\n",
       "      <td>6</td>\n",
       "      <td>2</td>\n",
       "      <td>4</td>\n",
       "      <td>2</td>\n",
       "      <td>6</td>\n",
       "    </tr>\n",
       "  </tbody>\n",
       "</table>\n",
       "</div>"
      ],
      "text/plain": [
       "                                                                  6195167  \\\n",
       "created_utc                                                    1433116778   \n",
       "ups                                                                     1   \n",
       "subreddit_id                                                     t5_2qh13   \n",
       "link_id                                                         t3_37z0mw   \n",
       "name                                                           t1_crrbebf   \n",
       "score_hidden                                                            0   \n",
       "author_flair_css_class                                                NaN   \n",
       "author_flair_text                                                    None   \n",
       "subreddit                                                       worldnews   \n",
       "removal_reason                                                       None   \n",
       "gilded                                                                  0   \n",
       "downs                                                                   0   \n",
       "author                                                  Reddit_Moviemaker   \n",
       "score                                                                   1   \n",
       "body                    The key there is \"unless they're sociopaths\". ...   \n",
       "distinguished                                                         NaN   \n",
       "edited                                                                  0   \n",
       "controversiality                                                        0   \n",
       "parent_id                                                      t1_crr9oyk   \n",
       "time                                                  2015-05-31 23:59:38   \n",
       "time_lapse                                                          24913   \n",
       "depth                                                                   6   \n",
       "\n",
       "                                                                  6195168  \\\n",
       "created_utc                                                    1433116780   \n",
       "ups                                                                     1   \n",
       "subreddit_id                                                     t5_2qh13   \n",
       "link_id                                                         t3_37z0mw   \n",
       "name                                                           t1_crrbecs   \n",
       "score_hidden                                                            0   \n",
       "author_flair_css_class                                                NaN   \n",
       "author_flair_text                                                    None   \n",
       "subreddit                                                       worldnews   \n",
       "removal_reason                                                       None   \n",
       "gilded                                                                  0   \n",
       "downs                                                                   0   \n",
       "author                                                           racc8290   \n",
       "score                                                                   1   \n",
       "body                    Pretty sure they don't just behead people outr...   \n",
       "distinguished                                                         NaN   \n",
       "edited                                                                  0   \n",
       "controversiality                                                        0   \n",
       "parent_id                                                      t1_crraioh   \n",
       "time                                                  2015-05-31 23:59:40   \n",
       "time_lapse                                                          24915   \n",
       "depth                                                                   2   \n",
       "\n",
       "                                                                  6195169  \\\n",
       "created_utc                                                    1433116781   \n",
       "ups                                                                   170   \n",
       "subreddit_id                                                     t5_2qh13   \n",
       "link_id                                                         t3_37zl5z   \n",
       "name                                                           t1_crrbedn   \n",
       "score_hidden                                                            0   \n",
       "author_flair_css_class                                                NaN   \n",
       "author_flair_text                                                    None   \n",
       "subreddit                                                       worldnews   \n",
       "removal_reason                                                       None   \n",
       "gilded                                                                  0   \n",
       "downs                                                                   0   \n",
       "author                                                          yorrick21   \n",
       "score                                                                 170   \n",
       "body                    Because it's not typically done to babies. It'...   \n",
       "distinguished                                                         NaN   \n",
       "edited                                                                  0   \n",
       "controversiality                                                        0   \n",
       "parent_id                                                      t1_crrax76   \n",
       "time                                                  2015-05-31 23:59:41   \n",
       "time_lapse                                                          14023   \n",
       "depth                                                                   4   \n",
       "\n",
       "                                                                  6195170  \\\n",
       "created_utc                                                    1433116784   \n",
       "ups                                                                     9   \n",
       "subreddit_id                                                     t5_2qh13   \n",
       "link_id                                                         t3_380j06   \n",
       "name                                                           t1_crrbefm   \n",
       "score_hidden                                                            0   \n",
       "author_flair_css_class                                                NaN   \n",
       "author_flair_text                                                    None   \n",
       "subreddit                                                       worldnews   \n",
       "removal_reason                                                       None   \n",
       "gilded                                                                  0   \n",
       "downs                                                                   0   \n",
       "author                                                       ultron_maxim   \n",
       "score                                                                   9   \n",
       "body                    &gt; Nothing they are doing is illegal under i...   \n",
       "distinguished                                                         NaN   \n",
       "edited                                                                  0   \n",
       "controversiality                                                        0   \n",
       "parent_id                                                      t1_crrb19g   \n",
       "time                                                  2015-05-31 23:59:44   \n",
       "time_lapse                                                           1786   \n",
       "depth                                                                   2   \n",
       "\n",
       "                                                             6195171  \n",
       "created_utc                                               1433116785  \n",
       "ups                                                               37  \n",
       "subreddit_id                                                t5_2qh13  \n",
       "link_id                                                    t3_37z0mw  \n",
       "name                                                      t1_crrbeft  \n",
       "score_hidden                                                       0  \n",
       "author_flair_css_class                                           NaN  \n",
       "author_flair_text                                               None  \n",
       "subreddit                                                  worldnews  \n",
       "removal_reason                                                  None  \n",
       "gilded                                                             0  \n",
       "downs                                                              0  \n",
       "author                                                 knobbly_knees  \n",
       "score                                                             37  \n",
       "body                    Apart from the risk of inhalation pneumonia.  \n",
       "distinguished                                                    NaN  \n",
       "edited                                                             0  \n",
       "controversiality                                                   0  \n",
       "parent_id                                                 t1_crrb2cx  \n",
       "time                                             2015-05-31 23:59:45  \n",
       "time_lapse                                                     24920  \n",
       "depth                                                              6  "
      ]
     },
     "execution_count": 33,
     "metadata": {},
     "output_type": "execute_result"
    }
   ],
   "source": [
    "df.tail().T"
   ]
  },
  {
   "cell_type": "markdown",
   "metadata": {},
   "source": [
    "**It would be a better vizualization with count in log scale**  "
   ]
  },
  {
   "cell_type": "code",
   "execution_count": 34,
   "metadata": {},
   "outputs": [
    {
     "data": {
      "image/png": "[encoded data removed]",
      "text/plain": [
       "<Figure size 432x288 with 1 Axes>"
      ]
     },
     "metadata": {},
     "output_type": "display_data"
    }
   ],
   "source": [
    "df.depth[df.depth < 200].hist(bins=200).set_xlim((0,50));"
   ]
  },
  {
   "cell_type": "code",
   "execution_count": 35,
   "metadata": {},
   "outputs": [
    {
     "data": {
      "text/plain": [
       "count    6.133691e+06\n",
       "mean     3.532311e+00\n",
       "std      1.129264e+01\n",
       "min      1.000000e+00\n",
       "25%      1.000000e+00\n",
       "50%      2.000000e+00\n",
       "75%      5.000000e+00\n",
       "max      1.291000e+03\n",
       "Name: depth, dtype: float64"
      ]
     },
     "execution_count": 35,
     "metadata": {},
     "output_type": "execute_result"
    }
   ],
   "source": [
    "df.depth.describe()"
   ]
  },
  {
   "cell_type": "markdown",
   "metadata": {},
   "source": [
    "**Around 0.9 % of the data have broken links should we remove them ??**"
   ]
  },
  {
   "cell_type": "code",
   "execution_count": 36,
   "metadata": {},
   "outputs": [
    {
     "data": {
      "text/plain": [
       "0.009924018251632078"
      ]
     },
     "execution_count": 36,
     "metadata": {},
     "output_type": "execute_result"
    }
   ],
   "source": [
    "df.depth.isna().sum() / float(df.shape[0])"
   ]
  },
  {
   "cell_type": "code",
   "execution_count": 37,
   "metadata": {},
   "outputs": [],
   "source": [
    "import re"
   ]
  },
  {
   "cell_type": "markdown",
   "metadata": {},
   "source": [
    "Getting subreddit links from comments"
   ]
  },
  {
   "cell_type": "code",
   "execution_count": 38,
   "metadata": {},
   "outputs": [],
   "source": [
    "df['linked_sr'] = df.body.apply(lambda x: re.findall(r\"/r/([^\\s/]+)\", x))"
   ]
  },
  {
   "cell_type": "markdown",
   "metadata": {},
   "source": [
    "Removing the subbreddit links from comments"
   ]
  },
  {
   "cell_type": "code",
   "execution_count": 39,
   "metadata": {},
   "outputs": [],
   "source": [
    "df['body'] = df.body.apply(lambda x: re.sub(r\"(/r/[^\\s/]+)\", '', x))"
   ]
  },
  {
   "cell_type": "code",
   "execution_count": 40,
   "metadata": {},
   "outputs": [],
   "source": [
    "from urllib.parse import urlparse"
   ]
  },
  {
   "cell_type": "code",
   "execution_count": 41,
   "metadata": {},
   "outputs": [],
   "source": [
    "url_regex = r'''(?i)\\b((?:[a-z][\\w-]+:(?:/{1,3}|[a-z0-9%])|www\\d{0,3}[.]|[a-z0-9.\\-]+[.][a-z]{2,4}/)(?:[^\\s()<>]+|\\(([^\\s()<>]+|(\\([^\\s()<>]+\\)))*\\))+(?:\\(([^\\s()<>]+|(\\([^\\s()<>]+\\)))*\\)|[^\\s`!()\\[\\]{};:'\".,<>?«»“”‘’]))'''\n",
    "# url_regex = re.compile(url_regex)"
   ]
  },
  {
   "cell_type": "code",
   "execution_count": 42,
   "metadata": {},
   "outputs": [],
   "source": [
    "# very slow\n",
    "def get_domains_new(x):\n",
    "\n",
    "    def _domain(y):\n",
    "        try:\n",
    "            return urlparse(y).netloc.split('.')[-2]\n",
    "        except:\n",
    "            return ''\n",
    "\n",
    "    x = x.replace(' = ', '=')\n",
    "    x = x.replace(' : ', ':')\n",
    "    x = x.replace(' / ', '?')\n",
    "    # urls = url_regex.findall(x)\n",
    "    urls = re.findall(url_regex, x)\n",
    "    urls = [url[0] for url in urls]\n",
    "    urls = [url if url.startswith('http') else 'http://' + url for url in urls]\n",
    "    domain_names = [_domain(url) for url in urls]\n",
    "    domain_names = [d for d in domain_names if len(d) > 2]\n",
    "    return domain_names"
   ]
  },
  {
   "cell_type": "code",
   "execution_count": 43,
   "metadata": {},
   "outputs": [],
   "source": [
    "url_regex = r'http[s]?://(?:[a-zA-Z]|[0-9]|[$-_@.&+]|[!*\\(\\),]|(?:%[0-9a-fA-F][0-9a-fA-F]))+'"
   ]
  },
  {
   "cell_type": "code",
   "execution_count": 44,
   "metadata": {},
   "outputs": [],
   "source": [
    "def get_domains(x):\n",
    "    x = x.replace(' = ', '=')\n",
    "    x = x.replace(' : ', ':')\n",
    "    x = x.replace(' / ', '?')\n",
    "    urls = re.findall(url_regex, x)\n",
    "    try:\n",
    "        domain_names = [urlparse(url).netloc.split('.')[-2] for url in urls]\n",
    "    except:\n",
    "        return []\n",
    "    return domain_names"
   ]
  },
  {
   "cell_type": "code",
   "execution_count": 45,
   "metadata": {},
   "outputs": [],
   "source": [
    "df['linked_urls'] = df.body.apply(lambda x: get_domains(x))"
   ]
  },
  {
   "cell_type": "code",
   "execution_count": 46,
   "metadata": {},
   "outputs": [],
   "source": [
    "def remove_urls(x):\n",
    "    x = x.replace(' = ', '=')\n",
    "    x = x.replace(' : ', ':')\n",
    "    x = x.replace(' / ', '?')\n",
    "    return re.sub(url_regex, '', x)"
   ]
  },
  {
   "cell_type": "code",
   "execution_count": 47,
   "metadata": {},
   "outputs": [
    {
     "data": {
      "text/plain": [
       "'do you think this works '"
      ]
     },
     "execution_count": 47,
     "metadata": {},
     "output_type": "execute_result"
    }
   ],
   "source": [
    "remove_urls('do you think this works http://www.lol.com')"
   ]
  },
  {
   "cell_type": "code",
   "execution_count": 48,
   "metadata": {},
   "outputs": [],
   "source": [
    "df['body'] = df.body.apply(lambda x: remove_urls(x))"
   ]
  },
  {
   "cell_type": "code",
   "execution_count": 49,
   "metadata": {},
   "outputs": [],
   "source": [
    "df['no_of_linked_sr'] = df['linked_sr'].apply(lambda x: len(x))\n",
    "df['no_of_linked_urls'] = df['linked_urls'].apply(lambda x: len(x))"
   ]
  },
  {
   "cell_type": "code",
   "execution_count": 50,
   "metadata": {},
   "outputs": [
    {
     "data": {
      "text/plain": [
       "172012"
      ]
     },
     "execution_count": 50,
     "metadata": {},
     "output_type": "execute_result"
    }
   ],
   "source": [
    "all_linked_sr = []\n",
    "for l in df.linked_sr.values:\n",
    "    all_linked_sr += l\n",
    "len(all_linked_sr)"
   ]
  },
  {
   "cell_type": "code",
   "execution_count": 51,
   "metadata": {},
   "outputs": [],
   "source": [
    "from collections import Counter"
   ]
  },
  {
   "cell_type": "code",
   "execution_count": 52,
   "metadata": {},
   "outputs": [
    {
     "data": {
      "text/plain": [
       "[('politics', 11207),\n",
       " ('leagueoflegends', 10675),\n",
       " ('funny', 8178),\n",
       " ('worldnews', 5257),\n",
       " ('anime', 4050),\n",
       " ('explainlikeimfive', 4034),\n",
       " ('sex', 3539),\n",
       " ('leagueoflegends)', 3087),\n",
       " ('worldnews)', 2801),\n",
       " ('Politics.', 2569),\n",
       " ('politics&amp;subject=Question', 2561),\n",
       " ('worldnews.', 2507),\n",
       " ('help', 2393),\n",
       " ('worldnews](http:', 2387),\n",
       " ('sufficiencybot', 2382),\n",
       " ('sex)', 2309),\n",
       " ('gameofthrones', 2257),\n",
       " ('AutoModerator', 2132),\n",
       " ('mylittlepony', 2061),\n",
       " ('circlejerk)', 1871)]"
      ]
     },
     "execution_count": 52,
     "metadata": {},
     "output_type": "execute_result"
    }
   ],
   "source": [
    "top_sr_links = Counter(all_linked_sr)\n",
    "top_sr_links.most_common(20)"
   ]
  },
  {
   "cell_type": "code",
   "execution_count": 53,
   "metadata": {},
   "outputs": [
    {
     "data": {
      "text/plain": [
       "482277"
      ]
     },
     "execution_count": 53,
     "metadata": {},
     "output_type": "execute_result"
    }
   ],
   "source": [
    "all_linked_urls = []\n",
    "for l in df.linked_urls.values:\n",
    "    all_linked_urls += l\n",
    "len(all_linked_urls)"
   ]
  },
  {
   "cell_type": "code",
   "execution_count": 54,
   "metadata": {},
   "outputs": [
    {
     "data": {
      "text/plain": [
       "[('reddit', 87238),\n",
       " ('imgur', 59161),\n",
       " ('youtube', 55144),\n",
       " ('wikipedia', 38564),\n",
       " ('youtu', 14224),\n",
       " ('op', 8364),\n",
       " ('myanimelist', 7005),\n",
       " ('twitter', 6892),\n",
       " ('github', 5829),\n",
       " ('co', 4682),\n",
       " ('google', 3412),\n",
       " ('tumblr', 3323),\n",
       " ('wikia', 3136),\n",
       " ('imdb', 3097),\n",
       " ('wordpress', 2619),\n",
       " ('redditblog', 2420),\n",
       " ('amazon', 2086),\n",
       " ('nocookie', 2015),\n",
       " ('nytimes', 1960),\n",
       " ('wikimedia', 1839)]"
      ]
     },
     "execution_count": 54,
     "metadata": {},
     "output_type": "execute_result"
    }
   ],
   "source": [
    "top_url_links = Counter(all_linked_urls)\n",
    "top_url_links.most_common(20)"
   ]
  },
  {
   "cell_type": "code",
   "execution_count": 55,
   "metadata": {},
   "outputs": [],
   "source": [
    "allowed_urls = [i[0] for i in top_url_links.most_common(20)]"
   ]
  },
  {
   "cell_type": "code",
   "execution_count": 56,
   "metadata": {},
   "outputs": [],
   "source": [
    "def remove_urls(x):\n",
    "    y = []\n",
    "    for i in x:\n",
    "        if i in allowed_urls:\n",
    "            y += [i]\n",
    "    return y"
   ]
  },
  {
   "cell_type": "code",
   "execution_count": 57,
   "metadata": {},
   "outputs": [],
   "source": [
    "df['a_linked_urls'] = df['linked_urls'].apply(lambda x: remove_urls(x))"
   ]
  },
  {
   "cell_type": "code",
   "execution_count": 58,
   "metadata": {},
   "outputs": [],
   "source": [
    "df['subjectivity'] = df['body'].str.count('i ')"
   ]
  },
  {
   "cell_type": "code",
   "execution_count": 3,
   "metadata": {},
   "outputs": [],
   "source": [
    "from vaderSentiment.vaderSentiment import SentimentIntensityAnalyzer"
   ]
  },
  {
   "cell_type": "code",
   "execution_count": 4,
   "metadata": {},
   "outputs": [],
   "source": [
    "analyser = SentimentIntensityAnalyzer()"
   ]
  },
  {
   "cell_type": "code",
   "execution_count": 22,
   "metadata": {},
   "outputs": [],
   "source": [
    "df.to_pickle('Data/working_data.pkl')"
   ]
  },
  {
   "cell_type": "code",
   "execution_count": 21,
   "metadata": {},
   "outputs": [],
   "source": [
    "df = pd.read_pickle('Data/working_data.pkl')"
   ]
  },
  {
   "cell_type": "code",
   "execution_count": 22,
   "metadata": {},
   "outputs": [],
   "source": [
    "# from swifter import swifter, DataFrameAccessor"
   ]
  },
  {
   "cell_type": "code",
   "execution_count": 6,
   "metadata": {},
   "outputs": [],
   "source": [
    "def get_sentiment(x):\n",
    "#     senti = analyser.polarity_scores(x['body'])\n",
    "#     x['senti_neg'] = senti['neg']\n",
    "#     x['senti_neu'] = senti['neu']\n",
    "#     x['senti_pos'] = senti['pos']\n",
    "#     x['senti_compound'] = senti['compound']\n",
    "    return analyser.polarity_scores(x)"
   ]
  },
  {
   "cell_type": "code",
   "execution_count": 7,
   "metadata": {},
   "outputs": [],
   "source": [
    "from multiprocessing import Pool"
   ]
  },
  {
   "cell_type": "code",
   "execution_count": 8,
   "metadata": {},
   "outputs": [],
   "source": [
    "import numpy as np"
   ]
  },
  {
   "cell_type": "code",
   "execution_count": 9,
   "metadata": {},
   "outputs": [],
   "source": [
    "num_partitions = 100\n",
    "num_cores = 6"
   ]
  },
  {
   "cell_type": "code",
   "execution_count": 16,
   "metadata": {},
   "outputs": [],
   "source": [
    "def parallelize_dataframe(df, func):\n",
    "    df_split = np.array_split(df, num_partitions)\n",
    "    pool = Pool(num_cores)\n",
    "    df = pd.concat(pool.map(func, df_split))\n",
    "    pool.close()\n",
    "    pool.join()\n",
    "    return df"
   ]
  },
  {
   "cell_type": "code",
   "execution_count": 15,
   "metadata": {},
   "outputs": [],
   "source": [
    "def wrapper_get_sentiment(df):\n",
    "    df['sentiment'] = df['body'].apply(get_sentiment)\n",
    "    return df"
   ]
  },
  {
   "cell_type": "code",
   "execution_count": 1,
   "metadata": {
    "scrolled": false
   },
   "outputs": [],
   "source": [
    "sentiment = parallelize_dataframe(df['body'].to_frame(), wrapper_get_sentiment)"
   ]
  },
  {
   "cell_type": "code",
   "execution_count": null,
   "metadata": {},
   "outputs": [],
   "source": [
    "df.to_pickle('Data/working_data2.pkl')"
   ]
  },
  {
   "cell_type": "code",
   "execution_count": 29,
   "metadata": {},
   "outputs": [
    {
     "name": "stderr",
     "output_type": "stream",
     "text": [
      "\n",
      "Pandas Apply:   0%|          | 13457/6195172 [00:20<57:45, 1783.58it/s]  \u001b[A"
     ]
    }
   ],
   "source": [
    "# df['body'].swifter.apply(func=get_sentiment)"
   ]
  },
  {
   "cell_type": "code",
   "execution_count": 27,
   "metadata": {},
   "outputs": [],
   "source": [
    "# df['sentiment'] = df['body'].apply(func=get_sentiment, axis=1)"
   ]
  },
  {
   "cell_type": "code",
   "execution_count": null,
   "metadata": {},
   "outputs": [],
   "source": [
    "from sklearn.metrics import mean_squared_error, r2_score\n",
    "from sklearn.model_selection import train_test_split\n",
    "from sklearn.preprocessing import LabelBinarizer, MultiLabelBinarizer"
   ]
  }
 ],
 "metadata": {
  "kernelspec": {
   "display_name": "Python 3",
   "language": "python",
   "name": "python3"
  },
  "language_info": {
   "codemirror_mode": {
    "name": "ipython",
    "version": 3
   },
   "file_extension": ".py",
   "mimetype": "text/x-python",
   "name": "python",
   "nbconvert_exporter": "python",
   "pygments_lexer": "ipython3",
   "version": "3.6.5"
  }
 },
 "nbformat": 4,
 "nbformat_minor": 2
}
