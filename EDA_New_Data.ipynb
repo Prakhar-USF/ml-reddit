{
 "cells": [
  {
   "cell_type": "code",
   "execution_count": 1,
   "metadata": {},
   "outputs": [],
   "source": [
    "import pandas as pd\n",
    "from pathlib import Path"
   ]
  },
  {
   "cell_type": "code",
   "execution_count": 2,
   "metadata": {},
   "outputs": [],
   "source": [
    "path = Path('Data/')"
   ]
  },
  {
   "cell_type": "code",
   "execution_count": 3,
   "metadata": {},
   "outputs": [
    {
     "name": "stderr",
     "output_type": "stream",
     "text": [
      "/home/gokul/anaconda3/lib/python3.6/site-packages/pandas/io/feather_format.py:112: FutureWarning: `nthreads` argument is deprecated, pass `use_threads` instead\n",
      "  return feather.read_dataframe(path, nthreads=nthreads)\n"
     ]
    }
   ],
   "source": [
    "df = pd.read_feather('Data/May2015_subset.fthr')"
   ]
  },
  {
   "cell_type": "code",
   "execution_count": 4,
   "metadata": {},
   "outputs": [
    {
     "data": {
      "text/html": [
       "<div>\n",
       "<style scoped>\n",
       "    .dataframe tbody tr th:only-of-type {\n",
       "        vertical-align: middle;\n",
       "    }\n",
       "\n",
       "    .dataframe tbody tr th {\n",
       "        vertical-align: top;\n",
       "    }\n",
       "\n",
       "    .dataframe thead th {\n",
       "        text-align: right;\n",
       "    }\n",
       "</style>\n",
       "<table border=\"1\" class=\"dataframe\">\n",
       "  <thead>\n",
       "    <tr style=\"text-align: right;\">\n",
       "      <th></th>\n",
       "      <th>6195169</th>\n",
       "      <th>6195170</th>\n",
       "      <th>6195171</th>\n",
       "    </tr>\n",
       "  </thead>\n",
       "  <tbody>\n",
       "    <tr>\n",
       "      <th>created_utc</th>\n",
       "      <td>1433116781</td>\n",
       "      <td>1433116784</td>\n",
       "      <td>1433116785</td>\n",
       "    </tr>\n",
       "    <tr>\n",
       "      <th>ups</th>\n",
       "      <td>170</td>\n",
       "      <td>9</td>\n",
       "      <td>37</td>\n",
       "    </tr>\n",
       "    <tr>\n",
       "      <th>subreddit_id</th>\n",
       "      <td>t5_2qh13</td>\n",
       "      <td>t5_2qh13</td>\n",
       "      <td>t5_2qh13</td>\n",
       "    </tr>\n",
       "    <tr>\n",
       "      <th>link_id</th>\n",
       "      <td>t3_37zl5z</td>\n",
       "      <td>t3_380j06</td>\n",
       "      <td>t3_37z0mw</td>\n",
       "    </tr>\n",
       "    <tr>\n",
       "      <th>name</th>\n",
       "      <td>t1_crrbedn</td>\n",
       "      <td>t1_crrbefm</td>\n",
       "      <td>t1_crrbeft</td>\n",
       "    </tr>\n",
       "    <tr>\n",
       "      <th>score_hidden</th>\n",
       "      <td>0</td>\n",
       "      <td>0</td>\n",
       "      <td>0</td>\n",
       "    </tr>\n",
       "    <tr>\n",
       "      <th>author_flair_css_class</th>\n",
       "      <td>None</td>\n",
       "      <td>None</td>\n",
       "      <td>None</td>\n",
       "    </tr>\n",
       "    <tr>\n",
       "      <th>author_flair_text</th>\n",
       "      <td>None</td>\n",
       "      <td>None</td>\n",
       "      <td>None</td>\n",
       "    </tr>\n",
       "    <tr>\n",
       "      <th>subreddit</th>\n",
       "      <td>worldnews</td>\n",
       "      <td>worldnews</td>\n",
       "      <td>worldnews</td>\n",
       "    </tr>\n",
       "    <tr>\n",
       "      <th>id</th>\n",
       "      <td>crrbedn</td>\n",
       "      <td>crrbefm</td>\n",
       "      <td>crrbeft</td>\n",
       "    </tr>\n",
       "    <tr>\n",
       "      <th>removal_reason</th>\n",
       "      <td>None</td>\n",
       "      <td>None</td>\n",
       "      <td>None</td>\n",
       "    </tr>\n",
       "    <tr>\n",
       "      <th>gilded</th>\n",
       "      <td>0</td>\n",
       "      <td>0</td>\n",
       "      <td>0</td>\n",
       "    </tr>\n",
       "    <tr>\n",
       "      <th>downs</th>\n",
       "      <td>0</td>\n",
       "      <td>0</td>\n",
       "      <td>0</td>\n",
       "    </tr>\n",
       "    <tr>\n",
       "      <th>archived</th>\n",
       "      <td>0</td>\n",
       "      <td>0</td>\n",
       "      <td>0</td>\n",
       "    </tr>\n",
       "    <tr>\n",
       "      <th>author</th>\n",
       "      <td>yorrick21</td>\n",
       "      <td>ultron_maxim</td>\n",
       "      <td>knobbly_knees</td>\n",
       "    </tr>\n",
       "    <tr>\n",
       "      <th>score</th>\n",
       "      <td>170</td>\n",
       "      <td>9</td>\n",
       "      <td>37</td>\n",
       "    </tr>\n",
       "    <tr>\n",
       "      <th>retrieved_on</th>\n",
       "      <td>1433505916</td>\n",
       "      <td>1433505916</td>\n",
       "      <td>1433505916</td>\n",
       "    </tr>\n",
       "    <tr>\n",
       "      <th>body</th>\n",
       "      <td>Because it's not typically done to babies. It'...</td>\n",
       "      <td>&amp;gt; Nothing they are doing is illegal under i...</td>\n",
       "      <td>Apart from the risk of inhalation pneumonia.</td>\n",
       "    </tr>\n",
       "    <tr>\n",
       "      <th>distinguished</th>\n",
       "      <td>None</td>\n",
       "      <td>None</td>\n",
       "      <td>None</td>\n",
       "    </tr>\n",
       "    <tr>\n",
       "      <th>edited</th>\n",
       "      <td>0</td>\n",
       "      <td>0</td>\n",
       "      <td>0</td>\n",
       "    </tr>\n",
       "    <tr>\n",
       "      <th>controversiality</th>\n",
       "      <td>0</td>\n",
       "      <td>0</td>\n",
       "      <td>0</td>\n",
       "    </tr>\n",
       "    <tr>\n",
       "      <th>parent_id</th>\n",
       "      <td>t1_crrax76</td>\n",
       "      <td>t1_crrb19g</td>\n",
       "      <td>t1_crrb2cx</td>\n",
       "    </tr>\n",
       "  </tbody>\n",
       "</table>\n",
       "</div>"
      ],
      "text/plain": [
       "                                                                  6195169  \\\n",
       "created_utc                                                    1433116781   \n",
       "ups                                                                   170   \n",
       "subreddit_id                                                     t5_2qh13   \n",
       "link_id                                                         t3_37zl5z   \n",
       "name                                                           t1_crrbedn   \n",
       "score_hidden                                                            0   \n",
       "author_flair_css_class                                               None   \n",
       "author_flair_text                                                    None   \n",
       "subreddit                                                       worldnews   \n",
       "id                                                                crrbedn   \n",
       "removal_reason                                                       None   \n",
       "gilded                                                                  0   \n",
       "downs                                                                   0   \n",
       "archived                                                                0   \n",
       "author                                                          yorrick21   \n",
       "score                                                                 170   \n",
       "retrieved_on                                                   1433505916   \n",
       "body                    Because it's not typically done to babies. It'...   \n",
       "distinguished                                                        None   \n",
       "edited                                                                  0   \n",
       "controversiality                                                        0   \n",
       "parent_id                                                      t1_crrax76   \n",
       "\n",
       "                                                                  6195170  \\\n",
       "created_utc                                                    1433116784   \n",
       "ups                                                                     9   \n",
       "subreddit_id                                                     t5_2qh13   \n",
       "link_id                                                         t3_380j06   \n",
       "name                                                           t1_crrbefm   \n",
       "score_hidden                                                            0   \n",
       "author_flair_css_class                                               None   \n",
       "author_flair_text                                                    None   \n",
       "subreddit                                                       worldnews   \n",
       "id                                                                crrbefm   \n",
       "removal_reason                                                       None   \n",
       "gilded                                                                  0   \n",
       "downs                                                                   0   \n",
       "archived                                                                0   \n",
       "author                                                       ultron_maxim   \n",
       "score                                                                   9   \n",
       "retrieved_on                                                   1433505916   \n",
       "body                    &gt; Nothing they are doing is illegal under i...   \n",
       "distinguished                                                        None   \n",
       "edited                                                                  0   \n",
       "controversiality                                                        0   \n",
       "parent_id                                                      t1_crrb19g   \n",
       "\n",
       "                                                             6195171  \n",
       "created_utc                                               1433116785  \n",
       "ups                                                               37  \n",
       "subreddit_id                                                t5_2qh13  \n",
       "link_id                                                    t3_37z0mw  \n",
       "name                                                      t1_crrbeft  \n",
       "score_hidden                                                       0  \n",
       "author_flair_css_class                                          None  \n",
       "author_flair_text                                               None  \n",
       "subreddit                                                  worldnews  \n",
       "id                                                           crrbeft  \n",
       "removal_reason                                                  None  \n",
       "gilded                                                             0  \n",
       "downs                                                              0  \n",
       "archived                                                           0  \n",
       "author                                                 knobbly_knees  \n",
       "score                                                             37  \n",
       "retrieved_on                                              1433505916  \n",
       "body                    Apart from the risk of inhalation pneumonia.  \n",
       "distinguished                                                   None  \n",
       "edited                                                             0  \n",
       "controversiality                                                   0  \n",
       "parent_id                                                 t1_crrb2cx  "
      ]
     },
     "execution_count": 4,
     "metadata": {},
     "output_type": "execute_result"
    }
   ],
   "source": [
    "df.tail(3).T"
   ]
  },
  {
   "cell_type": "markdown",
   "metadata": {},
   "source": [
    "# What is t1, t3, and t5 ?\n",
    "$t_i$ are \n",
    "<img src=\"images/reddit_API.png\" alt=\"Drawing\" style=\"width: 200px;\"/>"
   ]
  },
  {
   "cell_type": "code",
   "execution_count": 5,
   "metadata": {},
   "outputs": [
    {
     "data": {
      "text/plain": [
       "'5.128976683577038 GB'"
      ]
     },
     "execution_count": 5,
     "metadata": {},
     "output_type": "execute_result"
    }
   ],
   "source": [
    "f\"{df.memory_usage(deep=True).sum() / 1023.0**3} GB\""
   ]
  },
  {
   "cell_type": "markdown",
   "metadata": {},
   "source": [
    "! Ohh, let's reduce those memory footprint."
   ]
  },
  {
   "cell_type": "code",
   "execution_count": 6,
   "metadata": {},
   "outputs": [
    {
     "data": {
      "text/plain": [
       "(6195172, 22)"
      ]
     },
     "execution_count": 6,
     "metadata": {},
     "output_type": "execute_result"
    }
   ],
   "source": [
    "df.shape"
   ]
  },
  {
   "cell_type": "code",
   "execution_count": 9,
   "metadata": {},
   "outputs": [],
   "source": [
    "df['subreddit'] = df.subreddit.astype('category')\n",
    "df['subreddit_id'] = df.subreddit_id.astype('category')\n",
    "df['author_flair_css_class'] = df.author_flair_css_class.astype('category')\n",
    "df['distinguished'] = df.distinguished.astype('category')\n",
    "df['link_id'] = df.link_id.astype('category')\n",
    "\n",
    "# df.drop(['archived'], inplace=True) # Only one value i.e. 0\n",
    "df = df[~(df.body == '[deleted]')]  # remove [deleted] comments\n",
    "df.drop(['retrieved_on'], axis=1, inplace=True)\n",
    "df.drop(['id'], axis=1, inplace=True)"
   ]
  },
  {
   "cell_type": "code",
   "execution_count": 10,
   "metadata": {},
   "outputs": [
    {
     "data": {
      "text/plain": [
       "(5703706, 20)"
      ]
     },
     "execution_count": 10,
     "metadata": {},
     "output_type": "execute_result"
    }
   ],
   "source": [
    "df.shape"
   ]
  },
  {
   "cell_type": "code",
   "execution_count": 11,
   "metadata": {},
   "outputs": [
    {
     "data": {
      "text/plain": [
       "Index(['created_utc', 'ups', 'subreddit_id', 'link_id', 'name', 'score_hidden',\n",
       "       'author_flair_css_class', 'author_flair_text', 'subreddit',\n",
       "       'removal_reason', 'gilded', 'downs', 'archived', 'author', 'score',\n",
       "       'body', 'distinguished', 'edited', 'controversiality', 'parent_id'],\n",
       "      dtype='object')"
      ]
     },
     "execution_count": 11,
     "metadata": {},
     "output_type": "execute_result"
    }
   ],
   "source": [
    "df.columns"
   ]
  },
  {
   "cell_type": "code",
   "execution_count": 12,
   "metadata": {},
   "outputs": [
    {
     "data": {
      "text/plain": [
       "array([None, 'legal'], dtype=object)"
      ]
     },
     "execution_count": 12,
     "metadata": {},
     "output_type": "execute_result"
    }
   ],
   "source": [
    "df.removal_reason.unique()"
   ]
  },
  {
   "cell_type": "code",
   "execution_count": 13,
   "metadata": {},
   "outputs": [
    {
     "data": {
      "text/plain": [
       "'3.1790213339480395 GB'"
      ]
     },
     "execution_count": 13,
     "metadata": {},
     "output_type": "execute_result"
    }
   ],
   "source": [
    "f\"{df.memory_usage(deep=True).sum() / 1023.0**3} GB\""
   ]
  },
  {
   "cell_type": "code",
   "execution_count": 15,
   "metadata": {},
   "outputs": [],
   "source": [
    "assert len(df.subreddit_id.unique()) == len(df.subreddit.unique())"
   ]
  },
  {
   "cell_type": "code",
   "execution_count": 16,
   "metadata": {
    "scrolled": false
   },
   "outputs": [
    {
     "data": {
      "text/plain": [
       "leagueoflegends      1155952\n",
       "funny                 695296\n",
       "todayilearned         489510\n",
       "news                  483832\n",
       "worldnews             445479\n",
       "movies                357404\n",
       "gaming                329248\n",
       "politics              231662\n",
       "anime                 212998\n",
       "explainlikeimfive     195420\n",
       "gameofthrones         177163\n",
       "motorcycles            86454\n",
       "tf2                    74232\n",
       "conspiracy             72686\n",
       "sex                    68850\n",
       "guns                   59279\n",
       "comicbooks             58618\n",
       "pokemon                57390\n",
       "science                55016\n",
       "food                   51488\n",
       "starcraft              51238\n",
       "mylittlepony           43395\n",
       "skyrim                 39172\n",
       "askscience             30946\n",
       "space                  29858\n",
       "facepalm               21069\n",
       "community              19688\n",
       "harrypotter            19423\n",
       "circlejerk             19265\n",
       "progresspics           12629\n",
       "drunk                  12264\n",
       "startrek               11801\n",
       "offbeat                 9483\n",
       "thewalkingdead          9216\n",
       "lifehacks               6765\n",
       "doctorwho               6023\n",
       "breakingbad             3494\n",
       "Name: subreddit, dtype: int64"
      ]
     },
     "execution_count": 16,
     "metadata": {},
     "output_type": "execute_result"
    }
   ],
   "source": [
    "# No comments in a subreddits\n",
    "df.subreddit.value_counts()"
   ]
  },
  {
   "cell_type": "code",
   "execution_count": 17,
   "metadata": {},
   "outputs": [],
   "source": [
    "import matplotlib.pyplot as plt\n",
    "import numpy as np\n",
    "%matplotlib inline"
   ]
  },
  {
   "cell_type": "code",
   "execution_count": 19,
   "metadata": {},
   "outputs": [
    {
     "name": "stderr",
     "output_type": "stream",
     "text": [
      "/home/gokul/anaconda3/lib/python3.6/site-packages/ipykernel_launcher.py:1: SettingWithCopyWarning: \n",
      "A value is trying to be set on a copy of a slice from a DataFrame.\n",
      "Try using .loc[row_indexer,col_indexer] = value instead\n",
      "\n",
      "See the caveats in the documentation: http://pandas.pydata.org/pandas-docs/stable/indexing.html#indexing-view-versus-copy\n",
      "  \"\"\"Entry point for launching an IPython kernel.\n"
     ]
    }
   ],
   "source": [
    "df['time'] = pd.to_datetime(df.created_utc, unit='s') "
   ]
  },
  {
   "cell_type": "code",
   "execution_count": 20,
   "metadata": {},
   "outputs": [
    {
     "data": {
      "text/plain": [
       "array(['t1_'], dtype='<U3')"
      ]
     },
     "execution_count": 20,
     "metadata": {},
     "output_type": "execute_result"
    }
   ],
   "source": [
    "np.unique([i[:3] for i in df.name.unique()])"
   ]
  },
  {
   "cell_type": "code",
   "execution_count": 21,
   "metadata": {},
   "outputs": [
    {
     "data": {
      "text/plain": [
       "array(['t1_', 't3_'], dtype='<U3')"
      ]
     },
     "execution_count": 21,
     "metadata": {},
     "output_type": "execute_result"
    }
   ],
   "source": [
    "np.unique([i[:3] for i in df.parent_id.unique()])"
   ]
  },
  {
   "cell_type": "code",
   "execution_count": 22,
   "metadata": {},
   "outputs": [],
   "source": [
    "df_first_comment = df[['link_id', 'time']].groupby(by=['link_id']).min()"
   ]
  },
  {
   "cell_type": "code",
   "execution_count": 23,
   "metadata": {},
   "outputs": [
    {
     "data": {
      "text/plain": [
       "(262519, 1)"
      ]
     },
     "execution_count": 23,
     "metadata": {},
     "output_type": "execute_result"
    }
   ],
   "source": [
    "df_first_comment.shape"
   ]
  },
  {
   "cell_type": "code",
   "execution_count": 24,
   "metadata": {},
   "outputs": [
    {
     "data": {
      "text/html": [
       "<div>\n",
       "<style scoped>\n",
       "    .dataframe tbody tr th:only-of-type {\n",
       "        vertical-align: middle;\n",
       "    }\n",
       "\n",
       "    .dataframe tbody tr th {\n",
       "        vertical-align: top;\n",
       "    }\n",
       "\n",
       "    .dataframe thead th {\n",
       "        text-align: right;\n",
       "    }\n",
       "</style>\n",
       "<table border=\"1\" class=\"dataframe\">\n",
       "  <thead>\n",
       "    <tr style=\"text-align: right;\">\n",
       "      <th></th>\n",
       "      <th>time</th>\n",
       "    </tr>\n",
       "    <tr>\n",
       "      <th>link_id</th>\n",
       "      <th></th>\n",
       "    </tr>\n",
       "  </thead>\n",
       "  <tbody>\n",
       "    <tr>\n",
       "      <th>t3_11411c</th>\n",
       "      <td>2015-05-31 02:50:41</td>\n",
       "    </tr>\n",
       "    <tr>\n",
       "      <th>t3_17f129</th>\n",
       "      <td>2015-05-19 13:53:19</td>\n",
       "    </tr>\n",
       "    <tr>\n",
       "      <th>t3_17xepd</th>\n",
       "      <td>2015-05-07 19:51:30</td>\n",
       "    </tr>\n",
       "    <tr>\n",
       "      <th>t3_19l2pc</th>\n",
       "      <td>2015-05-11 22:30:10</td>\n",
       "    </tr>\n",
       "    <tr>\n",
       "      <th>t3_1aw2dx</th>\n",
       "      <td>2015-05-06 18:52:22</td>\n",
       "    </tr>\n",
       "  </tbody>\n",
       "</table>\n",
       "</div>"
      ],
      "text/plain": [
       "                         time\n",
       "link_id                      \n",
       "t3_11411c 2015-05-31 02:50:41\n",
       "t3_17f129 2015-05-19 13:53:19\n",
       "t3_17xepd 2015-05-07 19:51:30\n",
       "t3_19l2pc 2015-05-11 22:30:10\n",
       "t3_1aw2dx 2015-05-06 18:52:22"
      ]
     },
     "execution_count": 24,
     "metadata": {},
     "output_type": "execute_result"
    }
   ],
   "source": [
    "df_first_comment.head()"
   ]
  },
  {
   "cell_type": "code",
   "execution_count": 25,
   "metadata": {},
   "outputs": [],
   "source": [
    "df_first_comment_dict = df_first_comment.to_dict('index')"
   ]
  },
  {
   "cell_type": "code",
   "execution_count": 26,
   "metadata": {},
   "outputs": [],
   "source": [
    "def time_lapse(x):\n",
    "    return df_first_comment_dict[x]['time']"
   ]
  },
  {
   "cell_type": "code",
   "execution_count": 27,
   "metadata": {},
   "outputs": [
    {
     "data": {
      "text/plain": [
       "Timestamp('2015-05-31 02:50:41')"
      ]
     },
     "execution_count": 27,
     "metadata": {},
     "output_type": "execute_result"
    }
   ],
   "source": [
    "time_lapse('t3_11411c')"
   ]
  },
  {
   "cell_type": "code",
   "execution_count": 28,
   "metadata": {},
   "outputs": [
    {
     "name": "stderr",
     "output_type": "stream",
     "text": [
      "/home/gokul/anaconda3/lib/python3.6/site-packages/ipykernel_launcher.py:1: SettingWithCopyWarning: \n",
      "A value is trying to be set on a copy of a slice from a DataFrame.\n",
      "Try using .loc[row_indexer,col_indexer] = value instead\n",
      "\n",
      "See the caveats in the documentation: http://pandas.pydata.org/pandas-docs/stable/indexing.html#indexing-view-versus-copy\n",
      "  \"\"\"Entry point for launching an IPython kernel.\n"
     ]
    }
   ],
   "source": [
    "df['time_lapse'] = df.time - df.link_id.apply(time_lapse)"
   ]
  },
  {
   "cell_type": "code",
   "execution_count": 29,
   "metadata": {},
   "outputs": [
    {
     "data": {
      "text/html": [
       "<div>\n",
       "<style scoped>\n",
       "    .dataframe tbody tr th:only-of-type {\n",
       "        vertical-align: middle;\n",
       "    }\n",
       "\n",
       "    .dataframe tbody tr th {\n",
       "        vertical-align: top;\n",
       "    }\n",
       "\n",
       "    .dataframe thead th {\n",
       "        text-align: right;\n",
       "    }\n",
       "</style>\n",
       "<table border=\"1\" class=\"dataframe\">\n",
       "  <thead>\n",
       "    <tr style=\"text-align: right;\">\n",
       "      <th></th>\n",
       "      <th>6195167</th>\n",
       "      <th>6195168</th>\n",
       "      <th>6195169</th>\n",
       "      <th>6195170</th>\n",
       "      <th>6195171</th>\n",
       "    </tr>\n",
       "  </thead>\n",
       "  <tbody>\n",
       "    <tr>\n",
       "      <th>created_utc</th>\n",
       "      <td>1433116778</td>\n",
       "      <td>1433116780</td>\n",
       "      <td>1433116781</td>\n",
       "      <td>1433116784</td>\n",
       "      <td>1433116785</td>\n",
       "    </tr>\n",
       "    <tr>\n",
       "      <th>ups</th>\n",
       "      <td>1</td>\n",
       "      <td>1</td>\n",
       "      <td>170</td>\n",
       "      <td>9</td>\n",
       "      <td>37</td>\n",
       "    </tr>\n",
       "    <tr>\n",
       "      <th>subreddit_id</th>\n",
       "      <td>t5_2qh13</td>\n",
       "      <td>t5_2qh13</td>\n",
       "      <td>t5_2qh13</td>\n",
       "      <td>t5_2qh13</td>\n",
       "      <td>t5_2qh13</td>\n",
       "    </tr>\n",
       "    <tr>\n",
       "      <th>link_id</th>\n",
       "      <td>t3_37z0mw</td>\n",
       "      <td>t3_37z0mw</td>\n",
       "      <td>t3_37zl5z</td>\n",
       "      <td>t3_380j06</td>\n",
       "      <td>t3_37z0mw</td>\n",
       "    </tr>\n",
       "    <tr>\n",
       "      <th>name</th>\n",
       "      <td>t1_crrbebf</td>\n",
       "      <td>t1_crrbecs</td>\n",
       "      <td>t1_crrbedn</td>\n",
       "      <td>t1_crrbefm</td>\n",
       "      <td>t1_crrbeft</td>\n",
       "    </tr>\n",
       "    <tr>\n",
       "      <th>score_hidden</th>\n",
       "      <td>0</td>\n",
       "      <td>0</td>\n",
       "      <td>0</td>\n",
       "      <td>0</td>\n",
       "      <td>0</td>\n",
       "    </tr>\n",
       "    <tr>\n",
       "      <th>author_flair_css_class</th>\n",
       "      <td>NaN</td>\n",
       "      <td>NaN</td>\n",
       "      <td>NaN</td>\n",
       "      <td>NaN</td>\n",
       "      <td>NaN</td>\n",
       "    </tr>\n",
       "    <tr>\n",
       "      <th>author_flair_text</th>\n",
       "      <td>None</td>\n",
       "      <td>None</td>\n",
       "      <td>None</td>\n",
       "      <td>None</td>\n",
       "      <td>None</td>\n",
       "    </tr>\n",
       "    <tr>\n",
       "      <th>subreddit</th>\n",
       "      <td>worldnews</td>\n",
       "      <td>worldnews</td>\n",
       "      <td>worldnews</td>\n",
       "      <td>worldnews</td>\n",
       "      <td>worldnews</td>\n",
       "    </tr>\n",
       "    <tr>\n",
       "      <th>removal_reason</th>\n",
       "      <td>None</td>\n",
       "      <td>None</td>\n",
       "      <td>None</td>\n",
       "      <td>None</td>\n",
       "      <td>None</td>\n",
       "    </tr>\n",
       "    <tr>\n",
       "      <th>gilded</th>\n",
       "      <td>0</td>\n",
       "      <td>0</td>\n",
       "      <td>0</td>\n",
       "      <td>0</td>\n",
       "      <td>0</td>\n",
       "    </tr>\n",
       "    <tr>\n",
       "      <th>downs</th>\n",
       "      <td>0</td>\n",
       "      <td>0</td>\n",
       "      <td>0</td>\n",
       "      <td>0</td>\n",
       "      <td>0</td>\n",
       "    </tr>\n",
       "    <tr>\n",
       "      <th>archived</th>\n",
       "      <td>0</td>\n",
       "      <td>0</td>\n",
       "      <td>0</td>\n",
       "      <td>0</td>\n",
       "      <td>0</td>\n",
       "    </tr>\n",
       "    <tr>\n",
       "      <th>author</th>\n",
       "      <td>Reddit_Moviemaker</td>\n",
       "      <td>racc8290</td>\n",
       "      <td>yorrick21</td>\n",
       "      <td>ultron_maxim</td>\n",
       "      <td>knobbly_knees</td>\n",
       "    </tr>\n",
       "    <tr>\n",
       "      <th>score</th>\n",
       "      <td>1</td>\n",
       "      <td>1</td>\n",
       "      <td>170</td>\n",
       "      <td>9</td>\n",
       "      <td>37</td>\n",
       "    </tr>\n",
       "    <tr>\n",
       "      <th>body</th>\n",
       "      <td>The key there is \"unless they're sociopaths\". ...</td>\n",
       "      <td>Pretty sure they don't just behead people outr...</td>\n",
       "      <td>Because it's not typically done to babies. It'...</td>\n",
       "      <td>&amp;gt; Nothing they are doing is illegal under i...</td>\n",
       "      <td>Apart from the risk of inhalation pneumonia.</td>\n",
       "    </tr>\n",
       "    <tr>\n",
       "      <th>distinguished</th>\n",
       "      <td>NaN</td>\n",
       "      <td>NaN</td>\n",
       "      <td>NaN</td>\n",
       "      <td>NaN</td>\n",
       "      <td>NaN</td>\n",
       "    </tr>\n",
       "    <tr>\n",
       "      <th>edited</th>\n",
       "      <td>0</td>\n",
       "      <td>0</td>\n",
       "      <td>0</td>\n",
       "      <td>0</td>\n",
       "      <td>0</td>\n",
       "    </tr>\n",
       "    <tr>\n",
       "      <th>controversiality</th>\n",
       "      <td>0</td>\n",
       "      <td>0</td>\n",
       "      <td>0</td>\n",
       "      <td>0</td>\n",
       "      <td>0</td>\n",
       "    </tr>\n",
       "    <tr>\n",
       "      <th>parent_id</th>\n",
       "      <td>t1_crr9oyk</td>\n",
       "      <td>t1_crraioh</td>\n",
       "      <td>t1_crrax76</td>\n",
       "      <td>t1_crrb19g</td>\n",
       "      <td>t1_crrb2cx</td>\n",
       "    </tr>\n",
       "    <tr>\n",
       "      <th>time</th>\n",
       "      <td>2015-05-31 23:59:38</td>\n",
       "      <td>2015-05-31 23:59:40</td>\n",
       "      <td>2015-05-31 23:59:41</td>\n",
       "      <td>2015-05-31 23:59:44</td>\n",
       "      <td>2015-05-31 23:59:45</td>\n",
       "    </tr>\n",
       "    <tr>\n",
       "      <th>time_lapse</th>\n",
       "      <td>0 days 06:55:13</td>\n",
       "      <td>0 days 06:55:15</td>\n",
       "      <td>0 days 03:53:43</td>\n",
       "      <td>0 days 00:29:46</td>\n",
       "      <td>0 days 06:55:20</td>\n",
       "    </tr>\n",
       "  </tbody>\n",
       "</table>\n",
       "</div>"
      ],
      "text/plain": [
       "                                                                  6195167  \\\n",
       "created_utc                                                    1433116778   \n",
       "ups                                                                     1   \n",
       "subreddit_id                                                     t5_2qh13   \n",
       "link_id                                                         t3_37z0mw   \n",
       "name                                                           t1_crrbebf   \n",
       "score_hidden                                                            0   \n",
       "author_flair_css_class                                                NaN   \n",
       "author_flair_text                                                    None   \n",
       "subreddit                                                       worldnews   \n",
       "removal_reason                                                       None   \n",
       "gilded                                                                  0   \n",
       "downs                                                                   0   \n",
       "archived                                                                0   \n",
       "author                                                  Reddit_Moviemaker   \n",
       "score                                                                   1   \n",
       "body                    The key there is \"unless they're sociopaths\". ...   \n",
       "distinguished                                                         NaN   \n",
       "edited                                                                  0   \n",
       "controversiality                                                        0   \n",
       "parent_id                                                      t1_crr9oyk   \n",
       "time                                                  2015-05-31 23:59:38   \n",
       "time_lapse                                                0 days 06:55:13   \n",
       "\n",
       "                                                                  6195168  \\\n",
       "created_utc                                                    1433116780   \n",
       "ups                                                                     1   \n",
       "subreddit_id                                                     t5_2qh13   \n",
       "link_id                                                         t3_37z0mw   \n",
       "name                                                           t1_crrbecs   \n",
       "score_hidden                                                            0   \n",
       "author_flair_css_class                                                NaN   \n",
       "author_flair_text                                                    None   \n",
       "subreddit                                                       worldnews   \n",
       "removal_reason                                                       None   \n",
       "gilded                                                                  0   \n",
       "downs                                                                   0   \n",
       "archived                                                                0   \n",
       "author                                                           racc8290   \n",
       "score                                                                   1   \n",
       "body                    Pretty sure they don't just behead people outr...   \n",
       "distinguished                                                         NaN   \n",
       "edited                                                                  0   \n",
       "controversiality                                                        0   \n",
       "parent_id                                                      t1_crraioh   \n",
       "time                                                  2015-05-31 23:59:40   \n",
       "time_lapse                                                0 days 06:55:15   \n",
       "\n",
       "                                                                  6195169  \\\n",
       "created_utc                                                    1433116781   \n",
       "ups                                                                   170   \n",
       "subreddit_id                                                     t5_2qh13   \n",
       "link_id                                                         t3_37zl5z   \n",
       "name                                                           t1_crrbedn   \n",
       "score_hidden                                                            0   \n",
       "author_flair_css_class                                                NaN   \n",
       "author_flair_text                                                    None   \n",
       "subreddit                                                       worldnews   \n",
       "removal_reason                                                       None   \n",
       "gilded                                                                  0   \n",
       "downs                                                                   0   \n",
       "archived                                                                0   \n",
       "author                                                          yorrick21   \n",
       "score                                                                 170   \n",
       "body                    Because it's not typically done to babies. It'...   \n",
       "distinguished                                                         NaN   \n",
       "edited                                                                  0   \n",
       "controversiality                                                        0   \n",
       "parent_id                                                      t1_crrax76   \n",
       "time                                                  2015-05-31 23:59:41   \n",
       "time_lapse                                                0 days 03:53:43   \n",
       "\n",
       "                                                                  6195170  \\\n",
       "created_utc                                                    1433116784   \n",
       "ups                                                                     9   \n",
       "subreddit_id                                                     t5_2qh13   \n",
       "link_id                                                         t3_380j06   \n",
       "name                                                           t1_crrbefm   \n",
       "score_hidden                                                            0   \n",
       "author_flair_css_class                                                NaN   \n",
       "author_flair_text                                                    None   \n",
       "subreddit                                                       worldnews   \n",
       "removal_reason                                                       None   \n",
       "gilded                                                                  0   \n",
       "downs                                                                   0   \n",
       "archived                                                                0   \n",
       "author                                                       ultron_maxim   \n",
       "score                                                                   9   \n",
       "body                    &gt; Nothing they are doing is illegal under i...   \n",
       "distinguished                                                         NaN   \n",
       "edited                                                                  0   \n",
       "controversiality                                                        0   \n",
       "parent_id                                                      t1_crrb19g   \n",
       "time                                                  2015-05-31 23:59:44   \n",
       "time_lapse                                                0 days 00:29:46   \n",
       "\n",
       "                                                             6195171  \n",
       "created_utc                                               1433116785  \n",
       "ups                                                               37  \n",
       "subreddit_id                                                t5_2qh13  \n",
       "link_id                                                    t3_37z0mw  \n",
       "name                                                      t1_crrbeft  \n",
       "score_hidden                                                       0  \n",
       "author_flair_css_class                                           NaN  \n",
       "author_flair_text                                               None  \n",
       "subreddit                                                  worldnews  \n",
       "removal_reason                                                  None  \n",
       "gilded                                                             0  \n",
       "downs                                                              0  \n",
       "archived                                                           0  \n",
       "author                                                 knobbly_knees  \n",
       "score                                                             37  \n",
       "body                    Apart from the risk of inhalation pneumonia.  \n",
       "distinguished                                                    NaN  \n",
       "edited                                                             0  \n",
       "controversiality                                                   0  \n",
       "parent_id                                                 t1_crrb2cx  \n",
       "time                                             2015-05-31 23:59:45  \n",
       "time_lapse                                           0 days 06:55:20  "
      ]
     },
     "execution_count": 29,
     "metadata": {},
     "output_type": "execute_result"
    }
   ],
   "source": [
    "df.tail(5).T"
   ]
  },
  {
   "cell_type": "code",
   "execution_count": 30,
   "metadata": {},
   "outputs": [
    {
     "name": "stderr",
     "output_type": "stream",
     "text": [
      "/home/gokul/anaconda3/lib/python3.6/site-packages/pandas/core/generic.py:4405: SettingWithCopyWarning: \n",
      "A value is trying to be set on a copy of a slice from a DataFrame.\n",
      "Try using .loc[row_indexer,col_indexer] = value instead\n",
      "\n",
      "See the caveats in the documentation: http://pandas.pydata.org/pandas-docs/stable/indexing.html#indexing-view-versus-copy\n",
      "  self[name] = value\n"
     ]
    }
   ],
   "source": [
    "df.time_lapse = df.time_lapse.apply(lambda x: x.seconds)"
   ]
  },
  {
   "cell_type": "code",
   "execution_count": 31,
   "metadata": {},
   "outputs": [
    {
     "data": {
      "text/plain": [
       "<matplotlib.axes._subplots.AxesSubplot at 0x7ff7f873a080>"
      ]
     },
     "execution_count": 31,
     "metadata": {},
     "output_type": "execute_result"
    },
    {
     "data": {
      "image/png": "[encoded data removed]",
      "text/plain": [
       "<Figure size 432x288 with 1 Axes>"
      ]
     },
     "metadata": {},
     "output_type": "display_data"
    }
   ],
   "source": [
    "(df.time_lapse / (60*60)).hist(bins=100)"
   ]
  },
  {
   "cell_type": "markdown",
   "metadata": {},
   "source": [
    "#### Create New Features  \n",
    "1) links to other subreddit  \n",
    "2) domain name of linked urls  \n",
    "3) no urls links  \n",
    "4) no of subbreddit links  \n",
    "5) word cound  \n",
    "6) senti_neg  \n",
    "7) senti_pos  \n",
    "8) senti_compound  \n",
    "9) senti_neu  \n",
    "10) subjectivity  \n",
    "11) parent comment feautures  \n",
    "12) word to vectors  \n",
    "13) time elapsed  \n",
    "14) unique words  \n",
    "15) no of puntuations  \n",
    "16) \n",
    "a) *authorkarma*\n"
   ]
  },
  {
   "cell_type": "code",
   "execution_count": null,
   "metadata": {},
   "outputs": [],
   "source": [
    "df.loc[:10, ['name', 'parent_id']].to_dict('records')"
   ]
  }
 ],
 "metadata": {
  "kernelspec": {
   "display_name": "Python 3",
   "language": "python",
   "name": "python3"
  },
  "language_info": {
   "codemirror_mode": {
    "name": "ipython",
    "version": 3
   },
   "file_extension": ".py",
   "mimetype": "text/x-python",
   "name": "python",
   "nbconvert_exporter": "python",
   "pygments_lexer": "ipython3",
   "version": "3.6.5"
  }
 },
 "nbformat": 4,
 "nbformat_minor": 2
}
