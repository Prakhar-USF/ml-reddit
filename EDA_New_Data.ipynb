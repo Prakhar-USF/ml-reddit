{
 "cells": [
  {
   "cell_type": "code",
   "execution_count": 2,
   "metadata": {},
   "outputs": [],
   "source": [
    "import pandas as pd\n",
    "from pathlib import Path"
   ]
  },
  {
   "cell_type": "code",
   "execution_count": 3,
   "metadata": {},
   "outputs": [],
   "source": [
    "path = Path('Data/')"
   ]
  },
  {
   "cell_type": "code",
   "execution_count": 4,
   "metadata": {},
   "outputs": [
    {
     "name": "stderr",
     "output_type": "stream",
     "text": [
      "/home/gokul/anaconda3/lib/python3.6/site-packages/pandas/io/feather_format.py:112: FutureWarning: `nthreads` argument is deprecated, pass `use_threads` instead\n",
      "  return feather.read_dataframe(path, nthreads=nthreads)\n"
     ]
    }
   ],
   "source": [
    "df = pd.read_feather('Data/May2015_subset.fthr')"
   ]
  },
  {
   "cell_type": "code",
   "execution_count": 10,
   "metadata": {},
   "outputs": [
    {
     "data": {
      "text/html": [
       "<div>\n",
       "<style scoped>\n",
       "    .dataframe tbody tr th:only-of-type {\n",
       "        vertical-align: middle;\n",
       "    }\n",
       "\n",
       "    .dataframe tbody tr th {\n",
       "        vertical-align: top;\n",
       "    }\n",
       "\n",
       "    .dataframe thead th {\n",
       "        text-align: right;\n",
       "    }\n",
       "</style>\n",
       "<table border=\"1\" class=\"dataframe\">\n",
       "  <thead>\n",
       "    <tr style=\"text-align: right;\">\n",
       "      <th></th>\n",
       "      <th>0</th>\n",
       "      <th>1</th>\n",
       "      <th>2</th>\n",
       "    </tr>\n",
       "  </thead>\n",
       "  <tbody>\n",
       "    <tr>\n",
       "      <th>created_utc</th>\n",
       "      <td>1430438402</td>\n",
       "      <td>1430438411</td>\n",
       "      <td>1430438412</td>\n",
       "    </tr>\n",
       "    <tr>\n",
       "      <th>ups</th>\n",
       "      <td>1</td>\n",
       "      <td>12</td>\n",
       "      <td>1</td>\n",
       "    </tr>\n",
       "    <tr>\n",
       "      <th>subreddit_id</th>\n",
       "      <td>t5_2qh22</td>\n",
       "      <td>t5_2qh22</td>\n",
       "      <td>t5_2qh22</td>\n",
       "    </tr>\n",
       "    <tr>\n",
       "      <th>link_id</th>\n",
       "      <td>t3_34gb0n</td>\n",
       "      <td>t3_34gfze</td>\n",
       "      <td>t3_34b6gv</td>\n",
       "    </tr>\n",
       "    <tr>\n",
       "      <th>name</th>\n",
       "      <td>t1_cqug92d</td>\n",
       "      <td>t1_cqug99n</td>\n",
       "      <td>t1_cqug9aa</td>\n",
       "    </tr>\n",
       "    <tr>\n",
       "      <th>score_hidden</th>\n",
       "      <td>0</td>\n",
       "      <td>0</td>\n",
       "      <td>0</td>\n",
       "    </tr>\n",
       "    <tr>\n",
       "      <th>author_flair_css_class</th>\n",
       "      <td>None</td>\n",
       "      <td>MAL</td>\n",
       "      <td>MAL</td>\n",
       "    </tr>\n",
       "    <tr>\n",
       "      <th>author_flair_text</th>\n",
       "      <td>None</td>\n",
       "      <td>http://myanimelist.net/animelist/Link_of_Hyrule</td>\n",
       "      <td>http://myanimelist.net/profile/TenWoTsuke</td>\n",
       "    </tr>\n",
       "    <tr>\n",
       "      <th>subreddit</th>\n",
       "      <td>anime</td>\n",
       "      <td>anime</td>\n",
       "      <td>anime</td>\n",
       "    </tr>\n",
       "    <tr>\n",
       "      <th>id</th>\n",
       "      <td>cqug92d</td>\n",
       "      <td>cqug99n</td>\n",
       "      <td>cqug9aa</td>\n",
       "    </tr>\n",
       "    <tr>\n",
       "      <th>removal_reason</th>\n",
       "      <td>None</td>\n",
       "      <td>None</td>\n",
       "      <td>None</td>\n",
       "    </tr>\n",
       "    <tr>\n",
       "      <th>gilded</th>\n",
       "      <td>0</td>\n",
       "      <td>0</td>\n",
       "      <td>0</td>\n",
       "    </tr>\n",
       "    <tr>\n",
       "      <th>downs</th>\n",
       "      <td>0</td>\n",
       "      <td>0</td>\n",
       "      <td>0</td>\n",
       "    </tr>\n",
       "    <tr>\n",
       "      <th>archived</th>\n",
       "      <td>0</td>\n",
       "      <td>0</td>\n",
       "      <td>0</td>\n",
       "    </tr>\n",
       "    <tr>\n",
       "      <th>author</th>\n",
       "      <td>anweisz</td>\n",
       "      <td>The_Sordid_Critic</td>\n",
       "      <td>WingsOfLight</td>\n",
       "    </tr>\n",
       "    <tr>\n",
       "      <th>score</th>\n",
       "      <td>1</td>\n",
       "      <td>12</td>\n",
       "      <td>1</td>\n",
       "    </tr>\n",
       "    <tr>\n",
       "      <th>retrieved_on</th>\n",
       "      <td>1432703080</td>\n",
       "      <td>1432703082</td>\n",
       "      <td>1432703083</td>\n",
       "    </tr>\n",
       "    <tr>\n",
       "      <th>body</th>\n",
       "      <td>I can see how that could easily go. People oft...</td>\n",
       "      <td>I could participate in this, but by that time,...</td>\n",
       "      <td>Restart your browser/clear your cache and it s...</td>\n",
       "    </tr>\n",
       "    <tr>\n",
       "      <th>distinguished</th>\n",
       "      <td>None</td>\n",
       "      <td>None</td>\n",
       "      <td>None</td>\n",
       "    </tr>\n",
       "    <tr>\n",
       "      <th>edited</th>\n",
       "      <td>0</td>\n",
       "      <td>0</td>\n",
       "      <td>0</td>\n",
       "    </tr>\n",
       "    <tr>\n",
       "      <th>controversiality</th>\n",
       "      <td>0</td>\n",
       "      <td>0</td>\n",
       "      <td>0</td>\n",
       "    </tr>\n",
       "    <tr>\n",
       "      <th>parent_id</th>\n",
       "      <td>t1_cqufskw</td>\n",
       "      <td>t3_34gfze</td>\n",
       "      <td>t1_cqug0f9</td>\n",
       "    </tr>\n",
       "  </tbody>\n",
       "</table>\n",
       "</div>"
      ],
      "text/plain": [
       "                                                                        0  \\\n",
       "created_utc                                                    1430438402   \n",
       "ups                                                                     1   \n",
       "subreddit_id                                                     t5_2qh22   \n",
       "link_id                                                         t3_34gb0n   \n",
       "name                                                           t1_cqug92d   \n",
       "score_hidden                                                            0   \n",
       "author_flair_css_class                                               None   \n",
       "author_flair_text                                                    None   \n",
       "subreddit                                                           anime   \n",
       "id                                                                cqug92d   \n",
       "removal_reason                                                       None   \n",
       "gilded                                                                  0   \n",
       "downs                                                                   0   \n",
       "archived                                                                0   \n",
       "author                                                            anweisz   \n",
       "score                                                                   1   \n",
       "retrieved_on                                                   1432703080   \n",
       "body                    I can see how that could easily go. People oft...   \n",
       "distinguished                                                        None   \n",
       "edited                                                                  0   \n",
       "controversiality                                                        0   \n",
       "parent_id                                                      t1_cqufskw   \n",
       "\n",
       "                                                                        1  \\\n",
       "created_utc                                                    1430438411   \n",
       "ups                                                                    12   \n",
       "subreddit_id                                                     t5_2qh22   \n",
       "link_id                                                         t3_34gfze   \n",
       "name                                                           t1_cqug99n   \n",
       "score_hidden                                                            0   \n",
       "author_flair_css_class                                                MAL   \n",
       "author_flair_text         http://myanimelist.net/animelist/Link_of_Hyrule   \n",
       "subreddit                                                           anime   \n",
       "id                                                                cqug99n   \n",
       "removal_reason                                                       None   \n",
       "gilded                                                                  0   \n",
       "downs                                                                   0   \n",
       "archived                                                                0   \n",
       "author                                                  The_Sordid_Critic   \n",
       "score                                                                  12   \n",
       "retrieved_on                                                   1432703082   \n",
       "body                    I could participate in this, but by that time,...   \n",
       "distinguished                                                        None   \n",
       "edited                                                                  0   \n",
       "controversiality                                                        0   \n",
       "parent_id                                                       t3_34gfze   \n",
       "\n",
       "                                                                        2  \n",
       "created_utc                                                    1430438412  \n",
       "ups                                                                     1  \n",
       "subreddit_id                                                     t5_2qh22  \n",
       "link_id                                                         t3_34b6gv  \n",
       "name                                                           t1_cqug9aa  \n",
       "score_hidden                                                            0  \n",
       "author_flair_css_class                                                MAL  \n",
       "author_flair_text               http://myanimelist.net/profile/TenWoTsuke  \n",
       "subreddit                                                           anime  \n",
       "id                                                                cqug9aa  \n",
       "removal_reason                                                       None  \n",
       "gilded                                                                  0  \n",
       "downs                                                                   0  \n",
       "archived                                                                0  \n",
       "author                                                       WingsOfLight  \n",
       "score                                                                   1  \n",
       "retrieved_on                                                   1432703083  \n",
       "body                    Restart your browser/clear your cache and it s...  \n",
       "distinguished                                                        None  \n",
       "edited                                                                  0  \n",
       "controversiality                                                        0  \n",
       "parent_id                                                      t1_cqug0f9  "
      ]
     },
     "execution_count": 10,
     "metadata": {},
     "output_type": "execute_result"
    }
   ],
   "source": [
    "df.head(3).T"
   ]
  },
  {
   "cell_type": "markdown",
   "metadata": {},
   "source": [
    "# What is t1, t3, and t5 ?\n",
    "$t_i$ are \n",
    "![](images/reddit_API.png)"
   ]
  },
  {
   "cell_type": "code",
   "execution_count": 8,
   "metadata": {},
   "outputs": [
    {
     "data": {
      "text/plain": [
       "'5.128976683577038 GB'"
      ]
     },
     "execution_count": 8,
     "metadata": {},
     "output_type": "execute_result"
    }
   ],
   "source": [
    "f\"{df.memory_usage(deep=True).sum() / 1023.0**3} GB\""
   ]
  },
  {
   "cell_type": "markdown",
   "metadata": {},
   "source": [
    "! Ohh, let's reduce those memory footprint."
   ]
  },
  {
   "cell_type": "code",
   "execution_count": 39,
   "metadata": {},
   "outputs": [
    {
     "data": {
      "text/plain": [
       "(6195172, 22)"
      ]
     },
     "execution_count": 39,
     "metadata": {},
     "output_type": "execute_result"
    }
   ],
   "source": [
    "df.shape"
   ]
  },
  {
   "cell_type": "code",
   "execution_count": 33,
   "metadata": {},
   "outputs": [],
   "source": [
    "df['subreddit'] = df.subreddit.astype('category')\n",
    "df['subreddit_id'] = df.subreddit_id.astype('category')\n",
    "df['author_flair_css_class'] = df.author_flair_css_class.astype('category')\n",
    "df['distinguished'] = df.distinguished.astype('category')\n",
    "df['link_id'] = df.link_id.astype('category')\n",
    "\n",
    "df.drop(['archived'], inplace=True) # Only one value i.e. 0\n",
    "df = df[~(df.body == '[deleted]')]  # remove [deleted] comments"
   ]
  },
  {
   "cell_type": "code",
   "execution_count": 43,
   "metadata": {},
   "outputs": [
    {
     "data": {
      "text/plain": [
       "(5703706, 22)"
      ]
     },
     "execution_count": 43,
     "metadata": {},
     "output_type": "execute_result"
    }
   ],
   "source": [
    "df.shape"
   ]
  },
  {
   "cell_type": "code",
   "execution_count": 37,
   "metadata": {},
   "outputs": [
    {
     "data": {
      "text/plain": [
       "array([None, 'legal'], dtype=object)"
      ]
     },
     "execution_count": 37,
     "metadata": {},
     "output_type": "execute_result"
    }
   ],
   "source": [
    "df.removal_reason.unique()"
   ]
  },
  {
   "cell_type": "code",
   "execution_count": 34,
   "metadata": {},
   "outputs": [
    {
     "data": {
      "text/plain": [
       "'3.734180583385416 GB'"
      ]
     },
     "execution_count": 34,
     "metadata": {},
     "output_type": "execute_result"
    }
   ],
   "source": [
    "f\"{df.memory_usage(deep=True).sum() / 1023.0**3} GB\""
   ]
  },
  {
   "cell_type": "code",
   "execution_count": 11,
   "metadata": {},
   "outputs": [
    {
     "data": {
      "text/plain": [
       "leagueoflegends      1223184\n",
       "funny                 745916\n",
       "news                  548287\n",
       "todayilearned         519910\n",
       "worldnews             490354\n",
       "movies                376601\n",
       "gaming                361265\n",
       "politics              244927\n",
       "explainlikeimfive     223148\n",
       "anime                 221118\n",
       "gameofthrones         191006\n",
       "motorcycles            89721\n",
       "science                89413\n",
       "conspiracy             78349\n",
       "tf2                    76549\n",
       "sex                    74912\n",
       "guns                   61234\n",
       "comicbooks             60303\n",
       "pokemon                59730\n",
       "food                   55231\n",
       "starcraft              53797\n",
       "askscience             53017\n",
       "mylittlepony           44119\n",
       "space                  42726\n",
       "skyrim                 40568\n",
       "circlejerk             30134\n",
       "facepalm               22562\n",
       "community              20635\n",
       "harrypotter            19998\n",
       "progresspics           13385\n",
       "drunk                  13027\n",
       "startrek               12275\n",
       "thewalkingdead         10357\n",
       "offbeat                10035\n",
       "lifehacks               7342\n",
       "doctorwho               6242\n",
       "breakingbad             3795\n",
       "Name: subreddit, dtype: int64"
      ]
     },
     "execution_count": 11,
     "metadata": {},
     "output_type": "execute_result"
    }
   ],
   "source": [
    "# No comments in a subreddits\n",
    "df.subreddit.value_counts()"
   ]
  },
  {
   "cell_type": "code",
   "execution_count": 13,
   "metadata": {},
   "outputs": [],
   "source": [
    "import matplotlib.pyplot as plt\n",
    "%matplotlib inline"
   ]
  },
  {
   "cell_type": "code",
   "execution_count": 16,
   "metadata": {},
   "outputs": [
    {
     "data": {
      "text/plain": [
       "count    6.195172e+06\n",
       "mean     7.942966e+00\n",
       "std      6.334749e+01\n",
       "min     -1.428000e+03\n",
       "25%      1.000000e+00\n",
       "50%      1.000000e+00\n",
       "75%      3.000000e+00\n",
       "max      5.642000e+03\n",
       "Name: score, dtype: float64"
      ]
     },
     "execution_count": 16,
     "metadata": {},
     "output_type": "execute_result"
    }
   ],
   "source": [
    "df."
   ]
  }
 ],
 "metadata": {
  "kernelspec": {
   "display_name": "Python 3",
   "language": "python",
   "name": "python3"
  },
  "language_info": {
   "codemirror_mode": {
    "name": "ipython",
    "version": 3
   },
   "file_extension": ".py",
   "mimetype": "text/x-python",
   "name": "python",
   "nbconvert_exporter": "python",
   "pygments_lexer": "ipython3",
   "version": "3.6.5"
  }
 },
 "nbformat": 4,
 "nbformat_minor": 2
}
