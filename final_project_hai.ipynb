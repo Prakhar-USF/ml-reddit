{
 "cells": [
  {
   "cell_type": "code",
   "execution_count": 3,
   "metadata": {},
   "outputs": [],
   "source": [
    "import numpy as np\n",
    "import matplotlib.pyplot as plt\n",
    "import os\n",
    "import pandas as pd\n",
    "import re\n",
    "import seaborn as sns\n",
    "from sklearn.linear_model import LinearRegression\n",
    "from sklearn.model_selection import train_test_split\n"
   ]
  },
  {
   "cell_type": "markdown",
   "metadata": {},
   "source": [
    "# Load dataset"
   ]
  },
  {
   "cell_type": "code",
   "execution_count": 4,
   "metadata": {},
   "outputs": [],
   "source": [
    "headers = ['text','id', 'subreddit', 'meta', 'time', 'author', 'ups', 'downs', 'authorlinkkarma', 'authorkarma', 'authorisgold']\n",
    "# reddit.columns = headers"
   ]
  },
  {
   "cell_type": "code",
   "execution_count": 138,
   "metadata": {},
   "outputs": [],
   "source": [
    "reddit = pd.read_csv('comments.csv', names= headers, date_parser=['time'])  # header=None"
   ]
  },
  {
   "cell_type": "markdown",
   "metadata": {},
   "source": [
    "# Preprocess"
   ]
  },
  {
   "cell_type": "code",
   "execution_count": 139,
   "metadata": {},
   "outputs": [],
   "source": [
    "# delete comments with NaN text\n",
    "reddit = reddit[reddit['text'].notna()]"
   ]
  },
  {
   "cell_type": "code",
   "execution_count": 140,
   "metadata": {},
   "outputs": [],
   "source": [
    "# drop duplicates -- turns out that there are a lot of duplicated rows\n",
    "reddit = reddit.drop_duplicates()"
   ]
  },
  {
   "cell_type": "markdown",
   "metadata": {},
   "source": [
    "# EDA"
   ]
  },
  {
   "cell_type": "code",
   "execution_count": 141,
   "metadata": {},
   "outputs": [
    {
     "data": {
      "text/plain": [
       "(97929, 11)"
      ]
     },
     "execution_count": 141,
     "metadata": {},
     "output_type": "execute_result"
    }
   ],
   "source": [
    "reddit.shape"
   ]
  },
  {
   "cell_type": "code",
   "execution_count": 142,
   "metadata": {},
   "outputs": [
    {
     "data": {
      "text/html": [
       "<div>\n",
       "<style scoped>\n",
       "    .dataframe tbody tr th:only-of-type {\n",
       "        vertical-align: middle;\n",
       "    }\n",
       "\n",
       "    .dataframe tbody tr th {\n",
       "        vertical-align: top;\n",
       "    }\n",
       "\n",
       "    .dataframe thead th {\n",
       "        text-align: right;\n",
       "    }\n",
       "</style>\n",
       "<table border=\"1\" class=\"dataframe\">\n",
       "  <thead>\n",
       "    <tr style=\"text-align: right;\">\n",
       "      <th></th>\n",
       "      <th>time</th>\n",
       "      <th>ups</th>\n",
       "      <th>downs</th>\n",
       "      <th>authorlinkkarma</th>\n",
       "      <th>authorkarma</th>\n",
       "      <th>authorisgold</th>\n",
       "    </tr>\n",
       "  </thead>\n",
       "  <tbody>\n",
       "    <tr>\n",
       "      <th>count</th>\n",
       "      <td>9.792900e+04</td>\n",
       "      <td>97929.000000</td>\n",
       "      <td>97929.0</td>\n",
       "      <td>9.792100e+04</td>\n",
       "      <td>9.792100e+04</td>\n",
       "      <td>88615.000000</td>\n",
       "    </tr>\n",
       "    <tr>\n",
       "      <th>mean</th>\n",
       "      <td>1.455394e+09</td>\n",
       "      <td>53.935106</td>\n",
       "      <td>0.0</td>\n",
       "      <td>5.128443e+03</td>\n",
       "      <td>1.755740e+04</td>\n",
       "      <td>0.089928</td>\n",
       "    </tr>\n",
       "    <tr>\n",
       "      <th>std</th>\n",
       "      <td>1.731083e+06</td>\n",
       "      <td>264.842723</td>\n",
       "      <td>0.0</td>\n",
       "      <td>6.021745e+04</td>\n",
       "      <td>6.161786e+04</td>\n",
       "      <td>0.286081</td>\n",
       "    </tr>\n",
       "    <tr>\n",
       "      <th>min</th>\n",
       "      <td>1.400891e+09</td>\n",
       "      <td>-164.000000</td>\n",
       "      <td>0.0</td>\n",
       "      <td>0.000000e+00</td>\n",
       "      <td>-1.000000e+02</td>\n",
       "      <td>0.000000</td>\n",
       "    </tr>\n",
       "    <tr>\n",
       "      <th>25%</th>\n",
       "      <td>1.455559e+09</td>\n",
       "      <td>1.000000</td>\n",
       "      <td>0.0</td>\n",
       "      <td>1.000000e+00</td>\n",
       "      <td>3.280000e+02</td>\n",
       "      <td>0.000000</td>\n",
       "    </tr>\n",
       "    <tr>\n",
       "      <th>50%</th>\n",
       "      <td>1.455629e+09</td>\n",
       "      <td>4.000000</td>\n",
       "      <td>0.0</td>\n",
       "      <td>1.060000e+02</td>\n",
       "      <td>2.913000e+03</td>\n",
       "      <td>0.000000</td>\n",
       "    </tr>\n",
       "    <tr>\n",
       "      <th>75%</th>\n",
       "      <td>1.455656e+09</td>\n",
       "      <td>16.000000</td>\n",
       "      <td>0.0</td>\n",
       "      <td>1.476000e+03</td>\n",
       "      <td>1.347400e+04</td>\n",
       "      <td>0.000000</td>\n",
       "    </tr>\n",
       "    <tr>\n",
       "      <th>max</th>\n",
       "      <td>1.455688e+09</td>\n",
       "      <td>6453.000000</td>\n",
       "      <td>0.0</td>\n",
       "      <td>5.650077e+06</td>\n",
       "      <td>2.220594e+06</td>\n",
       "      <td>1.000000</td>\n",
       "    </tr>\n",
       "  </tbody>\n",
       "</table>\n",
       "</div>"
      ],
      "text/plain": [
       "               time           ups    downs  authorlinkkarma   authorkarma  \\\n",
       "count  9.792900e+04  97929.000000  97929.0     9.792100e+04  9.792100e+04   \n",
       "mean   1.455394e+09     53.935106      0.0     5.128443e+03  1.755740e+04   \n",
       "std    1.731083e+06    264.842723      0.0     6.021745e+04  6.161786e+04   \n",
       "min    1.400891e+09   -164.000000      0.0     0.000000e+00 -1.000000e+02   \n",
       "25%    1.455559e+09      1.000000      0.0     1.000000e+00  3.280000e+02   \n",
       "50%    1.455629e+09      4.000000      0.0     1.060000e+02  2.913000e+03   \n",
       "75%    1.455656e+09     16.000000      0.0     1.476000e+03  1.347400e+04   \n",
       "max    1.455688e+09   6453.000000      0.0     5.650077e+06  2.220594e+06   \n",
       "\n",
       "       authorisgold  \n",
       "count  88615.000000  \n",
       "mean       0.089928  \n",
       "std        0.286081  \n",
       "min        0.000000  \n",
       "25%        0.000000  \n",
       "50%        0.000000  \n",
       "75%        0.000000  \n",
       "max        1.000000  "
      ]
     },
     "execution_count": 142,
     "metadata": {},
     "output_type": "execute_result"
    }
   ],
   "source": [
    "reddit.describe()"
   ]
  },
  {
   "cell_type": "code",
   "execution_count": 10,
   "metadata": {},
   "outputs": [
    {
     "data": {
      "text/plain": [
       "array([0.])"
      ]
     },
     "execution_count": 10,
     "metadata": {},
     "output_type": "execute_result"
    }
   ],
   "source": [
    "reddit.downs.unique()"
   ]
  },
  {
   "cell_type": "markdown",
   "metadata": {},
   "source": [
    "### A few initial observations about the data:\n",
    "* No comments have any downvotes. --> This feature could be excluded. \n",
    "* Most authors are not gold users.\n",
    "* 'Gaming' is the topic that users seem to be most actively posting comments. "
   ]
  },
  {
   "cell_type": "code",
   "execution_count": 29,
   "metadata": {},
   "outputs": [
    {
     "data": {
      "text/plain": [
       "(array([0, 1, 2, 3, 4, 5, 6]), <a list of 7 Text xticklabel objects>)"
      ]
     },
     "execution_count": 29,
     "metadata": {},
     "output_type": "execute_result"
    },
    {
     "data": {
      "image/png": "[encoded data removed]",
      "text/plain": [
       "<Figure size 432x288 with 1 Axes>"
      ]
     },
     "metadata": {
      "needs_background": "light"
     },
     "output_type": "display_data"
    }
   ],
   "source": [
    "reddit.meta.value_counts().plot.bar()\n",
    "plt.xticks(rotation=30)"
   ]
  },
  {
   "cell_type": "markdown",
   "metadata": {},
   "source": [
    "# Feature engineering"
   ]
  },
  {
   "cell_type": "markdown",
   "metadata": {},
   "source": [
    "### Number of links in the comment"
   ]
  },
  {
   "cell_type": "code",
   "execution_count": 143,
   "metadata": {},
   "outputs": [],
   "source": [
    "reddit['num_link'] = reddit['text'].str.count('http') + reddit['text'].str.count('https')"
   ]
  },
  {
   "cell_type": "code",
   "execution_count": 13,
   "metadata": {},
   "outputs": [],
   "source": [
    "# Now remove all the links out of the text\n"
   ]
  },
  {
   "cell_type": "code",
   "execution_count": 106,
   "metadata": {},
   "outputs": [],
   "source": [
    "# # p_link = re.compile(\"https? : //([\\w_-]+(?:(?:\\.[\\w_-]+)+)([\\w.,@?^=%&:/~+#-]*[\\w@?^=%&/~+#-]*))?\")\n",
    "# p_link = re.compile('(https? : \\/\\/)(\\s)?(www\\.)?(\\s?)(\\w+\\.)*([\\w\\-\\s]+\\/)*([\\w-]+)+\\/?\\s?')\n"
   ]
  },
  {
   "cell_type": "code",
   "execution_count": 137,
   "metadata": {},
   "outputs": [
    {
     "name": "stdout",
     "output_type": "stream",
     "text": [
      "[('http : //', '', 'www.', '', 'nytimes.', 'us/', 'reagan-nominates-anthony-kennedy-to-supreme-court'), ('http : //', '', '', '', 'imgur.', 'com/', 'pbeveod')]\n"
     ]
    }
   ],
   "source": [
    "# text = \"easonable : http : //www.nytimes.com/1987/11/12/us/reagan-nominates-anthony-kennedy-to-supreme-court.html ? pagewanted = all equally ridiculous , here 's a 1970 law review article in which mcconnell argues for presidential dominion in the supreme court nomination process http : //imgur.com/pbeveod\"\n",
    "# result = p_link.findall(text)\n",
    "# print(result)"
   ]
  },
  {
   "cell_type": "code",
   "execution_count": 112,
   "metadata": {},
   "outputs": [
    {
     "data": {
      "text/plain": [
       "\"easonable : com/1987/11/12/.html ? pagewanted = all equally ridiculous , here 's a 1970 law review article in which mcconnell argues for presidential dominion in the supreme court nomination process imgur.com/pbeveod\""
      ]
     },
     "execution_count": 112,
     "metadata": {},
     "output_type": "execute_result"
    }
   ],
   "source": [
    "# for element in result[0]:\n",
    "#     text = text.replace(element, '')\n",
    "# text"
   ]
  },
  {
   "cell_type": "code",
   "execution_count": 122,
   "metadata": {
    "scrolled": true
   },
   "outputs": [
    {
     "data": {
      "text/plain": [
       "\"easonable : com/1987/11/12/.html ? pagewanted = all equally ridiculous , here 's a 1970 law review article in which mcconnell argues for presidential dominion in the supreme court nomination process imgur.com/pbeveod\""
      ]
     },
     "execution_count": 122,
     "metadata": {},
     "output_type": "execute_result"
    }
   ],
   "source": [
    "# text.replace(':','')\n",
    "# text"
   ]
  },
  {
   "cell_type": "markdown",
   "metadata": {},
   "source": [
    "### Word count"
   ]
  },
  {
   "cell_type": "code",
   "execution_count": 152,
   "metadata": {},
   "outputs": [],
   "source": [
    "# remove punctuations\n",
    "reddit.text = reddit.text.str.replace('[.,?!;:]', '')"
   ]
  },
  {
   "cell_type": "code",
   "execution_count": 153,
   "metadata": {},
   "outputs": [],
   "source": [
    "reddit['word_count'] = reddit['text'].str.split().str.len()"
   ]
  },
  {
   "cell_type": "code",
   "execution_count": 154,
   "metadata": {},
   "outputs": [
    {
     "data": {
      "text/plain": [
       "10000"
      ]
     },
     "execution_count": 154,
     "metadata": {},
     "output_type": "execute_result"
    }
   ],
   "source": [
    "reddit.word_count.max()"
   ]
  },
  {
   "cell_type": "code",
   "execution_count": 33,
   "metadata": {},
   "outputs": [
    {
     "data": {
      "text/plain": [
       "(array([1.400e+01, 1.627e+03, 2.377e+03, ..., 0.000e+00, 0.000e+00,\n",
       "        1.000e+00]),\n",
       " array([0.000e+00, 1.000e+00, 2.000e+00, ..., 9.998e+03, 9.999e+03,\n",
       "        1.000e+04]),\n",
       " <a list of 10000 Patch objects>)"
      ]
     },
     "execution_count": 33,
     "metadata": {},
     "output_type": "execute_result"
    },
    {
     "data": {
      "image/png": "[encoded data removed]",
      "text/plain": [
       "<Figure size 432x288 with 1 Axes>"
      ]
     },
     "metadata": {
      "needs_background": "light"
     },
     "output_type": "display_data"
    }
   ],
   "source": [
    "plt.hist(x=reddit['word_count'], bins=10000)"
   ]
  },
  {
   "cell_type": "markdown",
   "metadata": {},
   "source": [
    "__Note__: Most comments seem to have less than 400 words but there are some dubiously long comments. --> Outliers to remove. Will treat them separately."
   ]
  },
  {
   "cell_type": "code",
   "execution_count": 34,
   "metadata": {},
   "outputs": [],
   "source": [
    "reddit_long = reddit[reddit.word_count >= 400]\n",
    "reddit = reddit[reddit.word_count < 400]"
   ]
  },
  {
   "cell_type": "code",
   "execution_count": 35,
   "metadata": {},
   "outputs": [
    {
     "data": {
      "text/plain": [
       "(array([7.3080e+03, 1.2709e+04, 1.2746e+04, 1.0361e+04, 8.1420e+03,\n",
       "        6.2430e+03, 5.0490e+03, 3.9790e+03, 3.3070e+03, 2.6230e+03,\n",
       "        2.5120e+03, 1.9680e+03, 1.6800e+03, 1.5320e+03, 1.3740e+03,\n",
       "        1.2100e+03, 1.1010e+03, 1.0960e+03, 9.0300e+02, 7.1100e+02,\n",
       "        6.7400e+02, 6.4800e+02, 5.9800e+02, 5.2200e+02, 4.3500e+02,\n",
       "        4.3300e+02, 4.0000e+02, 4.1500e+02, 3.3200e+02, 2.6600e+02,\n",
       "        3.3000e+02, 3.0800e+02, 2.5700e+02, 1.9900e+02, 2.6000e+02,\n",
       "        2.4500e+02, 2.2600e+02, 2.1700e+02, 1.9400e+02, 1.9100e+02,\n",
       "        1.8000e+02, 1.6100e+02, 1.4300e+02, 1.4400e+02, 1.1300e+02,\n",
       "        1.3700e+02, 1.1700e+02, 1.6200e+02, 9.4000e+01, 8.7000e+01,\n",
       "        8.0000e+01, 7.7000e+01, 7.6000e+01, 8.8000e+01, 5.8000e+01,\n",
       "        6.1000e+01, 6.5000e+01, 6.4000e+01, 7.2000e+01, 6.8000e+01,\n",
       "        5.8000e+01, 5.8000e+01, 4.3000e+01, 6.7000e+01, 5.6000e+01,\n",
       "        4.9000e+01, 3.6000e+01, 7.5000e+01, 5.4000e+01, 5.6000e+01,\n",
       "        3.4000e+01, 3.7000e+01, 5.4000e+01, 4.3000e+01, 4.7000e+01,\n",
       "        4.6000e+01, 3.3000e+01, 3.1000e+01, 4.4000e+01, 3.3000e+01,\n",
       "        3.3000e+01, 4.1000e+01, 2.5000e+01, 1.6000e+01, 3.2000e+01,\n",
       "        3.3000e+01, 2.2000e+01, 2.1000e+01, 2.8000e+01, 2.7000e+01,\n",
       "        1.3000e+01, 1.5000e+01, 2.4000e+01, 2.7000e+01, 9.0000e+00,\n",
       "        3.9000e+01, 4.0000e+00, 3.0000e+00, 1.8000e+01, 4.0000e+00]),\n",
       " array([  0.  ,   3.99,   7.98,  11.97,  15.96,  19.95,  23.94,  27.93,\n",
       "         31.92,  35.91,  39.9 ,  43.89,  47.88,  51.87,  55.86,  59.85,\n",
       "         63.84,  67.83,  71.82,  75.81,  79.8 ,  83.79,  87.78,  91.77,\n",
       "         95.76,  99.75, 103.74, 107.73, 111.72, 115.71, 119.7 , 123.69,\n",
       "        127.68, 131.67, 135.66, 139.65, 143.64, 147.63, 151.62, 155.61,\n",
       "        159.6 , 163.59, 167.58, 171.57, 175.56, 179.55, 183.54, 187.53,\n",
       "        191.52, 195.51, 199.5 , 203.49, 207.48, 211.47, 215.46, 219.45,\n",
       "        223.44, 227.43, 231.42, 235.41, 239.4 , 243.39, 247.38, 251.37,\n",
       "        255.36, 259.35, 263.34, 267.33, 271.32, 275.31, 279.3 , 283.29,\n",
       "        287.28, 291.27, 295.26, 299.25, 303.24, 307.23, 311.22, 315.21,\n",
       "        319.2 , 323.19, 327.18, 331.17, 335.16, 339.15, 343.14, 347.13,\n",
       "        351.12, 355.11, 359.1 , 363.09, 367.08, 371.07, 375.06, 379.05,\n",
       "        383.04, 387.03, 391.02, 395.01, 399.  ]),\n",
       " <a list of 100 Patch objects>)"
      ]
     },
     "execution_count": 35,
     "metadata": {},
     "output_type": "execute_result"
    },
    {
     "data": {
      "image/png": "[encoded data removed]",
      "text/plain": [
       "<Figure size 432x288 with 1 Axes>"
      ]
     },
     "metadata": {
      "needs_background": "light"
     },
     "output_type": "display_data"
    }
   ],
   "source": [
    "plt.hist(x=reddit['word_count'], bins=100)"
   ]
  },
  {
   "cell_type": "markdown",
   "metadata": {},
   "source": [
    "### Word count categorical\n",
    "Based on this distribution, we'll discretize comments based on word count into 4 groups: short, medium, long, and very long comments."
   ]
  },
  {
   "cell_type": "code",
   "execution_count": 44,
   "metadata": {},
   "outputs": [],
   "source": [
    "# bins = pd.IntervalIndex.from_tuples([(0, 50), (50, 100), (100, 400)])\n",
    "# reddit['word_count_cat'] = pd.cut(reddit['word_count'], bins, labels=['short', 'medium', 'long'])\n",
    "bins = pd.IntervalIndex.from_tuples([(0, 25), (25, 50), (50, 100), (100, 400)])\n",
    "reddit['word_count_cat'] = pd.cut(reddit['word_count'], bins, labels=['short', 'medium', 'long', 'very long'])"
   ]
  },
  {
   "cell_type": "code",
   "execution_count": 45,
   "metadata": {},
   "outputs": [
    {
     "data": {
      "text/plain": [
       "(array([0, 1, 2, 3]), <a list of 4 Text xticklabel objects>)"
      ]
     },
     "execution_count": 45,
     "metadata": {},
     "output_type": "execute_result"
    },
    {
     "data": {
      "image/png": "[encoded data removed]",
      "text/plain": [
       "<Figure size 432x288 with 1 Axes>"
      ]
     },
     "metadata": {
      "needs_background": "light"
     },
     "output_type": "display_data"
    }
   ],
   "source": [
    "reddit.word_count_cat.value_counts().plot.bar()\n",
    "plt.xticks(rotation=30)"
   ]
  },
  {
   "cell_type": "markdown",
   "metadata": {},
   "source": [
    "### Subjectivity"
   ]
  },
  {
   "cell_type": "code",
   "execution_count": 155,
   "metadata": {},
   "outputs": [],
   "source": [
    "reddit['subjectivity'] = reddit['text'].str.count('i ')"
   ]
  },
  {
   "cell_type": "markdown",
   "metadata": {},
   "source": [
    "__Question__: Why are weird duplicates that `drop_duplicates` couldn't get rid of?"
   ]
  },
  {
   "cell_type": "code",
   "execution_count": 156,
   "metadata": {},
   "outputs": [],
   "source": [
    "reddit = reddit.drop_duplicates()"
   ]
  },
  {
   "cell_type": "code",
   "execution_count": 157,
   "metadata": {},
   "outputs": [
    {
     "data": {
      "text/plain": [
       "(97929, 15)"
      ]
     },
     "execution_count": 157,
     "metadata": {},
     "output_type": "execute_result"
    }
   ],
   "source": [
    "reddit.shape"
   ]
  },
  {
   "cell_type": "code",
   "execution_count": 158,
   "metadata": {},
   "outputs": [
    {
     "data": {
      "text/html": [
       "<div>\n",
       "<style scoped>\n",
       "    .dataframe tbody tr th:only-of-type {\n",
       "        vertical-align: middle;\n",
       "    }\n",
       "\n",
       "    .dataframe tbody tr th {\n",
       "        vertical-align: top;\n",
       "    }\n",
       "\n",
       "    .dataframe thead th {\n",
       "        text-align: right;\n",
       "    }\n",
       "</style>\n",
       "<table border=\"1\" class=\"dataframe\">\n",
       "  <thead>\n",
       "    <tr style=\"text-align: right;\">\n",
       "      <th></th>\n",
       "      <th>text</th>\n",
       "      <th>id</th>\n",
       "      <th>subreddit</th>\n",
       "      <th>meta</th>\n",
       "      <th>time</th>\n",
       "      <th>author</th>\n",
       "      <th>ups</th>\n",
       "      <th>downs</th>\n",
       "      <th>authorlinkkarma</th>\n",
       "      <th>authorkarma</th>\n",
       "      <th>authorisgold</th>\n",
       "      <th>num_link</th>\n",
       "      <th>sentence_count</th>\n",
       "      <th>word_count</th>\n",
       "      <th>subjectivity</th>\n",
       "    </tr>\n",
       "  </thead>\n",
       "  <tbody>\n",
       "    <tr>\n",
       "      <th>415682</th>\n",
       "      <td>my journey began on april 4  2015 i had extrem...</td>\n",
       "      <td>d00rve2</td>\n",
       "      <td>progresspics</td>\n",
       "      <td>lifestyle</td>\n",
       "      <td>1.455554e+09</td>\n",
       "      <td>SwinginCrabWhacka</td>\n",
       "      <td>32.0</td>\n",
       "      <td>0.0</td>\n",
       "      <td>566.0</td>\n",
       "      <td>15176.0</td>\n",
       "      <td>0.0</td>\n",
       "      <td>0</td>\n",
       "      <td>388</td>\n",
       "      <td>351</td>\n",
       "      <td>32</td>\n",
       "    </tr>\n",
       "    <tr>\n",
       "      <th>472125</th>\n",
       "      <td>my journey began on april 4  2015 i had extrem...</td>\n",
       "      <td>d00rve2</td>\n",
       "      <td>progresspics</td>\n",
       "      <td>lifestyle</td>\n",
       "      <td>1.455554e+09</td>\n",
       "      <td>SwinginCrabWhacka</td>\n",
       "      <td>33.0</td>\n",
       "      <td>0.0</td>\n",
       "      <td>566.0</td>\n",
       "      <td>15176.0</td>\n",
       "      <td>0.0</td>\n",
       "      <td>0</td>\n",
       "      <td>388</td>\n",
       "      <td>351</td>\n",
       "      <td>32</td>\n",
       "    </tr>\n",
       "    <tr>\n",
       "      <th>574945</th>\n",
       "      <td>my journey began on april 4  2015 i had extrem...</td>\n",
       "      <td>d00rve2</td>\n",
       "      <td>progresspics</td>\n",
       "      <td>lifestyle</td>\n",
       "      <td>1.455554e+09</td>\n",
       "      <td>SwinginCrabWhacka</td>\n",
       "      <td>35.0</td>\n",
       "      <td>0.0</td>\n",
       "      <td>566.0</td>\n",
       "      <td>15176.0</td>\n",
       "      <td>0.0</td>\n",
       "      <td>0</td>\n",
       "      <td>388</td>\n",
       "      <td>351</td>\n",
       "      <td>32</td>\n",
       "    </tr>\n",
       "    <tr>\n",
       "      <th>649423</th>\n",
       "      <td>my journey began on april 4  2015 i had extrem...</td>\n",
       "      <td>d00rve2</td>\n",
       "      <td>progresspics</td>\n",
       "      <td>lifestyle</td>\n",
       "      <td>1.455554e+09</td>\n",
       "      <td>SwinginCrabWhacka</td>\n",
       "      <td>31.0</td>\n",
       "      <td>0.0</td>\n",
       "      <td>566.0</td>\n",
       "      <td>15176.0</td>\n",
       "      <td>0.0</td>\n",
       "      <td>0</td>\n",
       "      <td>388</td>\n",
       "      <td>351</td>\n",
       "      <td>32</td>\n",
       "    </tr>\n",
       "    <tr>\n",
       "      <th>2148885</th>\n",
       "      <td>i feel you the game 's not fun anymore for me ...</td>\n",
       "      <td>d01vlky</td>\n",
       "      <td>dota2</td>\n",
       "      <td>gaming</td>\n",
       "      <td>1.455632e+09</td>\n",
       "      <td>da7thsin</td>\n",
       "      <td>8.0</td>\n",
       "      <td>0.0</td>\n",
       "      <td>4.0</td>\n",
       "      <td>3339.0</td>\n",
       "      <td>0.0</td>\n",
       "      <td>0</td>\n",
       "      <td>514</td>\n",
       "      <td>489</td>\n",
       "      <td>32</td>\n",
       "    </tr>\n",
       "    <tr>\n",
       "      <th>2251322</th>\n",
       "      <td>i feel you the game 's not fun anymore for me ...</td>\n",
       "      <td>d01vlky</td>\n",
       "      <td>dota2</td>\n",
       "      <td>gaming</td>\n",
       "      <td>1.455632e+09</td>\n",
       "      <td>da7thsin</td>\n",
       "      <td>6.0</td>\n",
       "      <td>0.0</td>\n",
       "      <td>4.0</td>\n",
       "      <td>3339.0</td>\n",
       "      <td>0.0</td>\n",
       "      <td>0</td>\n",
       "      <td>514</td>\n",
       "      <td>489</td>\n",
       "      <td>32</td>\n",
       "    </tr>\n",
       "    <tr>\n",
       "      <th>2347976</th>\n",
       "      <td>i feel you the game 's not fun anymore for me ...</td>\n",
       "      <td>d01vlky</td>\n",
       "      <td>dota2</td>\n",
       "      <td>gaming</td>\n",
       "      <td>1.455632e+09</td>\n",
       "      <td>da7thsin</td>\n",
       "      <td>7.0</td>\n",
       "      <td>0.0</td>\n",
       "      <td>4.0</td>\n",
       "      <td>3339.0</td>\n",
       "      <td>0.0</td>\n",
       "      <td>0</td>\n",
       "      <td>514</td>\n",
       "      <td>489</td>\n",
       "      <td>32</td>\n",
       "    </tr>\n",
       "  </tbody>\n",
       "</table>\n",
       "</div>"
      ],
      "text/plain": [
       "                                                      text       id  \\\n",
       "415682   my journey began on april 4  2015 i had extrem...  d00rve2   \n",
       "472125   my journey began on april 4  2015 i had extrem...  d00rve2   \n",
       "574945   my journey began on april 4  2015 i had extrem...  d00rve2   \n",
       "649423   my journey began on april 4  2015 i had extrem...  d00rve2   \n",
       "2148885  i feel you the game 's not fun anymore for me ...  d01vlky   \n",
       "2251322  i feel you the game 's not fun anymore for me ...  d01vlky   \n",
       "2347976  i feel you the game 's not fun anymore for me ...  d01vlky   \n",
       "\n",
       "            subreddit       meta          time             author   ups  \\\n",
       "415682   progresspics  lifestyle  1.455554e+09  SwinginCrabWhacka  32.0   \n",
       "472125   progresspics  lifestyle  1.455554e+09  SwinginCrabWhacka  33.0   \n",
       "574945   progresspics  lifestyle  1.455554e+09  SwinginCrabWhacka  35.0   \n",
       "649423   progresspics  lifestyle  1.455554e+09  SwinginCrabWhacka  31.0   \n",
       "2148885         dota2     gaming  1.455632e+09           da7thsin   8.0   \n",
       "2251322         dota2     gaming  1.455632e+09           da7thsin   6.0   \n",
       "2347976         dota2     gaming  1.455632e+09           da7thsin   7.0   \n",
       "\n",
       "         downs  authorlinkkarma  authorkarma  authorisgold  num_link  \\\n",
       "415682     0.0            566.0      15176.0           0.0         0   \n",
       "472125     0.0            566.0      15176.0           0.0         0   \n",
       "574945     0.0            566.0      15176.0           0.0         0   \n",
       "649423     0.0            566.0      15176.0           0.0         0   \n",
       "2148885    0.0              4.0       3339.0           0.0         0   \n",
       "2251322    0.0              4.0       3339.0           0.0         0   \n",
       "2347976    0.0              4.0       3339.0           0.0         0   \n",
       "\n",
       "         sentence_count  word_count  subjectivity  \n",
       "415682              388         351            32  \n",
       "472125              388         351            32  \n",
       "574945              388         351            32  \n",
       "649423              388         351            32  \n",
       "2148885             514         489            32  \n",
       "2251322             514         489            32  \n",
       "2347976             514         489            32  "
      ]
     },
     "execution_count": 158,
     "metadata": {},
     "output_type": "execute_result"
    }
   ],
   "source": [
    "reddit[reddit.subjectivity == 32]"
   ]
  },
  {
   "cell_type": "code",
   "execution_count": 56,
   "metadata": {},
   "outputs": [
    {
     "data": {
      "text/plain": [
       "(array([7.8739e+04, 8.8370e+03, 3.8030e+03, 2.0970e+03, 1.1450e+03,\n",
       "        7.4000e+02, 4.0900e+02, 3.2200e+02, 2.0800e+02, 1.4300e+02,\n",
       "        1.5300e+02, 9.5000e+01, 1.1100e+02, 7.6000e+01, 4.2000e+01,\n",
       "        9.2000e+01, 1.9000e+01, 1.6000e+01, 3.2000e+01, 9.0000e+00,\n",
       "        2.0000e+01, 1.3000e+01, 5.0000e+00, 2.0000e+00, 6.0000e+00,\n",
       "        0.0000e+00, 0.0000e+00, 1.0000e+00, 0.0000e+00, 4.0000e+00]),\n",
       " array([ 0.        ,  1.06666667,  2.13333333,  3.2       ,  4.26666667,\n",
       "         5.33333333,  6.4       ,  7.46666667,  8.53333333,  9.6       ,\n",
       "        10.66666667, 11.73333333, 12.8       , 13.86666667, 14.93333333,\n",
       "        16.        , 17.06666667, 18.13333333, 19.2       , 20.26666667,\n",
       "        21.33333333, 22.4       , 23.46666667, 24.53333333, 25.6       ,\n",
       "        26.66666667, 27.73333333, 28.8       , 29.86666667, 30.93333333,\n",
       "        32.        ]),\n",
       " <a list of 30 Patch objects>)"
      ]
     },
     "execution_count": 56,
     "metadata": {},
     "output_type": "execute_result"
    },
    {
     "data": {
      "image/png": "[encoded data removed]",
      "text/plain": [
       "<Figure size 432x288 with 1 Axes>"
      ]
     },
     "metadata": {
      "needs_background": "light"
     },
     "output_type": "display_data"
    }
   ],
   "source": [
    "plt.hist(reddit.subjectivity, bins=30)"
   ]
  },
  {
   "cell_type": "markdown",
   "metadata": {},
   "source": [
    "### Number of unique words"
   ]
  },
  {
   "cell_type": "code",
   "execution_count": 159,
   "metadata": {},
   "outputs": [
    {
     "data": {
      "text/html": [
       "<div>\n",
       "<style scoped>\n",
       "    .dataframe tbody tr th:only-of-type {\n",
       "        vertical-align: middle;\n",
       "    }\n",
       "\n",
       "    .dataframe tbody tr th {\n",
       "        vertical-align: top;\n",
       "    }\n",
       "\n",
       "    .dataframe thead th {\n",
       "        text-align: right;\n",
       "    }\n",
       "</style>\n",
       "<table border=\"1\" class=\"dataframe\">\n",
       "  <thead>\n",
       "    <tr style=\"text-align: right;\">\n",
       "      <th></th>\n",
       "      <th>text</th>\n",
       "      <th>id</th>\n",
       "      <th>subreddit</th>\n",
       "      <th>meta</th>\n",
       "      <th>time</th>\n",
       "      <th>author</th>\n",
       "      <th>ups</th>\n",
       "      <th>downs</th>\n",
       "      <th>authorlinkkarma</th>\n",
       "      <th>authorkarma</th>\n",
       "      <th>authorisgold</th>\n",
       "      <th>num_link</th>\n",
       "      <th>sentence_count</th>\n",
       "      <th>word_count</th>\n",
       "      <th>subjectivity</th>\n",
       "    </tr>\n",
       "  </thead>\n",
       "  <tbody>\n",
       "    <tr>\n",
       "      <th>4</th>\n",
       "      <td>disclaimer  i think obama should nominate some...</td>\n",
       "      <td>d028c5d</td>\n",
       "      <td>politics</td>\n",
       "      <td>news</td>\n",
       "      <td>1.455651e+09</td>\n",
       "      <td>degausse</td>\n",
       "      <td>3.0</td>\n",
       "      <td>0.0</td>\n",
       "      <td>1.0</td>\n",
       "      <td>1941.0</td>\n",
       "      <td>0.0</td>\n",
       "      <td>0</td>\n",
       "      <td>101</td>\n",
       "      <td>93</td>\n",
       "      <td>1</td>\n",
       "    </tr>\n",
       "    <tr>\n",
       "      <th>6</th>\n",
       "      <td>either way the process will be dragged out unt...</td>\n",
       "      <td>d026od6</td>\n",
       "      <td>politics</td>\n",
       "      <td>news</td>\n",
       "      <td>1.455648e+09</td>\n",
       "      <td>cyberspyder</td>\n",
       "      <td>5.0</td>\n",
       "      <td>0.0</td>\n",
       "      <td>1300.0</td>\n",
       "      <td>6462.0</td>\n",
       "      <td>1.0</td>\n",
       "      <td>0</td>\n",
       "      <td>47</td>\n",
       "      <td>47</td>\n",
       "      <td>0</td>\n",
       "    </tr>\n",
       "    <tr>\n",
       "      <th>7</th>\n",
       "      <td>republicans have always battled with severe ca...</td>\n",
       "      <td>d026wk3</td>\n",
       "      <td>politics</td>\n",
       "      <td>news</td>\n",
       "      <td>1.455649e+09</td>\n",
       "      <td>jabb0</td>\n",
       "      <td>15.0</td>\n",
       "      <td>0.0</td>\n",
       "      <td>44981.0</td>\n",
       "      <td>141501.0</td>\n",
       "      <td>0.0</td>\n",
       "      <td>0</td>\n",
       "      <td>10</td>\n",
       "      <td>10</td>\n",
       "      <td>0</td>\n",
       "    </tr>\n",
       "    <tr>\n",
       "      <th>8</th>\n",
       "      <td>politics were so different back then people on...</td>\n",
       "      <td>d02a3k3</td>\n",
       "      <td>politics</td>\n",
       "      <td>news</td>\n",
       "      <td>1.455653e+09</td>\n",
       "      <td>Hypertension123456</td>\n",
       "      <td>2.0</td>\n",
       "      <td>0.0</td>\n",
       "      <td>46.0</td>\n",
       "      <td>42036.0</td>\n",
       "      <td>0.0</td>\n",
       "      <td>1</td>\n",
       "      <td>25</td>\n",
       "      <td>23</td>\n",
       "      <td>0</td>\n",
       "    </tr>\n",
       "    <tr>\n",
       "      <th>9</th>\n",
       "      <td>equally ridiculous  here 's a 1970 law review ...</td>\n",
       "      <td>d025wad</td>\n",
       "      <td>politics</td>\n",
       "      <td>news</td>\n",
       "      <td>1.455647e+09</td>\n",
       "      <td>trash_reason</td>\n",
       "      <td>26.0</td>\n",
       "      <td>0.0</td>\n",
       "      <td>5613.0</td>\n",
       "      <td>1361.0</td>\n",
       "      <td>0.0</td>\n",
       "      <td>1</td>\n",
       "      <td>25</td>\n",
       "      <td>24</td>\n",
       "      <td>0</td>\n",
       "    </tr>\n",
       "  </tbody>\n",
       "</table>\n",
       "</div>"
      ],
      "text/plain": [
       "                                                text       id subreddit  meta  \\\n",
       "4  disclaimer  i think obama should nominate some...  d028c5d  politics  news   \n",
       "6  either way the process will be dragged out unt...  d026od6  politics  news   \n",
       "7  republicans have always battled with severe ca...  d026wk3  politics  news   \n",
       "8  politics were so different back then people on...  d02a3k3  politics  news   \n",
       "9  equally ridiculous  here 's a 1970 law review ...  d025wad  politics  news   \n",
       "\n",
       "           time              author   ups  downs  authorlinkkarma  \\\n",
       "4  1.455651e+09            degausse   3.0    0.0              1.0   \n",
       "6  1.455648e+09         cyberspyder   5.0    0.0           1300.0   \n",
       "7  1.455649e+09               jabb0  15.0    0.0          44981.0   \n",
       "8  1.455653e+09  Hypertension123456   2.0    0.0             46.0   \n",
       "9  1.455647e+09        trash_reason  26.0    0.0           5613.0   \n",
       "\n",
       "   authorkarma  authorisgold  num_link  sentence_count  word_count  \\\n",
       "4       1941.0           0.0         0             101          93   \n",
       "6       6462.0           1.0         0              47          47   \n",
       "7     141501.0           0.0         0              10          10   \n",
       "8      42036.0           0.0         1              25          23   \n",
       "9       1361.0           0.0         1              25          24   \n",
       "\n",
       "   subjectivity  \n",
       "4             1  \n",
       "6             0  \n",
       "7             0  \n",
       "8             0  \n",
       "9             0  "
      ]
     },
     "execution_count": 159,
     "metadata": {},
     "output_type": "execute_result"
    }
   ],
   "source": [
    "reddit.head(5)"
   ]
  },
  {
   "cell_type": "markdown",
   "metadata": {},
   "source": [
    "# Model fitting"
   ]
  },
  {
   "cell_type": "code",
   "execution_count": 165,
   "metadata": {},
   "outputs": [],
   "source": [
    "y = reddit.ups\n",
    "x = reddit.drop(axis=1, columns='ups')"
   ]
  },
  {
   "cell_type": "code",
   "execution_count": 170,
   "metadata": {},
   "outputs": [],
   "source": [
    "X_train, X_test, y_train, y_test = train_test_split(x, y, test_size=0.33, random_state=42)"
   ]
  },
  {
   "cell_type": "markdown",
   "metadata": {},
   "source": [
    "## Linear Regression"
   ]
  },
  {
   "cell_type": "code",
   "execution_count": 161,
   "metadata": {},
   "outputs": [],
   "source": [
    "from sklearn.model_selection import train_test_split"
   ]
  },
  {
   "cell_type": "code",
   "execution_count": 171,
   "metadata": {},
   "outputs": [
    {
     "data": {
      "text/html": [
       "<div>\n",
       "<style scoped>\n",
       "    .dataframe tbody tr th:only-of-type {\n",
       "        vertical-align: middle;\n",
       "    }\n",
       "\n",
       "    .dataframe tbody tr th {\n",
       "        vertical-align: top;\n",
       "    }\n",
       "\n",
       "    .dataframe thead th {\n",
       "        text-align: right;\n",
       "    }\n",
       "</style>\n",
       "<table border=\"1\" class=\"dataframe\">\n",
       "  <thead>\n",
       "    <tr style=\"text-align: right;\">\n",
       "      <th></th>\n",
       "      <th>text</th>\n",
       "      <th>id</th>\n",
       "      <th>subreddit</th>\n",
       "      <th>meta</th>\n",
       "      <th>time</th>\n",
       "      <th>author</th>\n",
       "      <th>downs</th>\n",
       "      <th>authorlinkkarma</th>\n",
       "      <th>authorkarma</th>\n",
       "      <th>authorisgold</th>\n",
       "      <th>num_link</th>\n",
       "      <th>sentence_count</th>\n",
       "      <th>word_count</th>\n",
       "      <th>subjectivity</th>\n",
       "    </tr>\n",
       "  </thead>\n",
       "  <tbody>\n",
       "    <tr>\n",
       "      <th>73867</th>\n",
       "      <td>not gon na lie man  even as a conservative i h...</td>\n",
       "      <td>d02pxvy</td>\n",
       "      <td>conservative</td>\n",
       "      <td>news</td>\n",
       "      <td>1.455676e+09</td>\n",
       "      <td>RedOctober28</td>\n",
       "      <td>0.0</td>\n",
       "      <td>1566.0</td>\n",
       "      <td>3122.0</td>\n",
       "      <td>0.0</td>\n",
       "      <td>0</td>\n",
       "      <td>39</td>\n",
       "      <td>37</td>\n",
       "      <td>1</td>\n",
       "    </tr>\n",
       "    <tr>\n",
       "      <th>2160247</th>\n",
       "      <td>i can see what you 're going for i assume that...</td>\n",
       "      <td>d01370m</td>\n",
       "      <td>pokemon</td>\n",
       "      <td>gaming</td>\n",
       "      <td>1.455571e+09</td>\n",
       "      <td>yourenotthebossame</td>\n",
       "      <td>0.0</td>\n",
       "      <td>0.0</td>\n",
       "      <td>0.0</td>\n",
       "      <td>NaN</td>\n",
       "      <td>0</td>\n",
       "      <td>75</td>\n",
       "      <td>72</td>\n",
       "      <td>4</td>\n",
       "    </tr>\n",
       "    <tr>\n",
       "      <th>796823</th>\n",
       "      <td>from the video description  &amp;gt  the pws plasm...</td>\n",
       "      <td>d00vkld</td>\n",
       "      <td>space</td>\n",
       "      <td>learning</td>\n",
       "      <td>1.455560e+09</td>\n",
       "      <td>Sail_Etna</td>\n",
       "      <td>0.0</td>\n",
       "      <td>2203.0</td>\n",
       "      <td>129.0</td>\n",
       "      <td>0.0</td>\n",
       "      <td>0</td>\n",
       "      <td>448</td>\n",
       "      <td>425</td>\n",
       "      <td>1</td>\n",
       "    </tr>\n",
       "    <tr>\n",
       "      <th>34</th>\n",
       "      <td>what a fucking loser</td>\n",
       "      <td>d01tknu</td>\n",
       "      <td>offbeat</td>\n",
       "      <td>news</td>\n",
       "      <td>1.455627e+09</td>\n",
       "      <td>wildebeestsandangels</td>\n",
       "      <td>0.0</td>\n",
       "      <td>730.0</td>\n",
       "      <td>37620.0</td>\n",
       "      <td>0.0</td>\n",
       "      <td>0</td>\n",
       "      <td>4</td>\n",
       "      <td>4</td>\n",
       "      <td>0</td>\n",
       "    </tr>\n",
       "    <tr>\n",
       "      <th>1076999</th>\n",
       "      <td>well is they</td>\n",
       "      <td>d02si4m</td>\n",
       "      <td>funny</td>\n",
       "      <td>humor</td>\n",
       "      <td>1.455680e+09</td>\n",
       "      <td>cheeeeeese</td>\n",
       "      <td>0.0</td>\n",
       "      <td>0.0</td>\n",
       "      <td>0.0</td>\n",
       "      <td>NaN</td>\n",
       "      <td>0</td>\n",
       "      <td>3</td>\n",
       "      <td>3</td>\n",
       "      <td>0</td>\n",
       "    </tr>\n",
       "  </tbody>\n",
       "</table>\n",
       "</div>"
      ],
      "text/plain": [
       "                                                      text       id  \\\n",
       "73867    not gon na lie man  even as a conservative i h...  d02pxvy   \n",
       "2160247  i can see what you 're going for i assume that...  d01370m   \n",
       "796823   from the video description  &gt  the pws plasm...  d00vkld   \n",
       "34                                   what a fucking loser   d01tknu   \n",
       "1076999                                      well is they   d02si4m   \n",
       "\n",
       "            subreddit      meta          time                author  downs  \\\n",
       "73867    conservative      news  1.455676e+09          RedOctober28    0.0   \n",
       "2160247       pokemon    gaming  1.455571e+09    yourenotthebossame    0.0   \n",
       "796823          space  learning  1.455560e+09             Sail_Etna    0.0   \n",
       "34            offbeat      news  1.455627e+09  wildebeestsandangels    0.0   \n",
       "1076999         funny     humor  1.455680e+09            cheeeeeese    0.0   \n",
       "\n",
       "         authorlinkkarma  authorkarma  authorisgold  num_link  sentence_count  \\\n",
       "73867             1566.0       3122.0           0.0         0              39   \n",
       "2160247              0.0          0.0           NaN         0              75   \n",
       "796823            2203.0        129.0           0.0         0             448   \n",
       "34                 730.0      37620.0           0.0         0               4   \n",
       "1076999              0.0          0.0           NaN         0               3   \n",
       "\n",
       "         word_count  subjectivity  \n",
       "73867            37             1  \n",
       "2160247          72             4  \n",
       "796823          425             1  \n",
       "34                4             0  \n",
       "1076999           3             0  "
      ]
     },
     "execution_count": 171,
     "metadata": {},
     "output_type": "execute_result"
    }
   ],
   "source": [
    "X_train.head(5)"
   ]
  },
  {
   "cell_type": "code",
   "execution_count": null,
   "metadata": {},
   "outputs": [],
   "source": []
  }
 ],
 "metadata": {
  "kernelspec": {
   "display_name": "Python 3",
   "language": "python",
   "name": "python3"
  },
  "language_info": {
   "codemirror_mode": {
    "name": "ipython",
    "version": 3
   },
   "file_extension": ".py",
   "mimetype": "text/x-python",
   "name": "python",
   "nbconvert_exporter": "python",
   "pygments_lexer": "ipython3",
   "version": "3.6.6"
  }
 },
 "nbformat": 4,
 "nbformat_minor": 2
}
