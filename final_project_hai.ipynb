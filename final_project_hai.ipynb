{
 "cells": [
  {
   "cell_type": "code",
   "execution_count": 1,
   "metadata": {},
   "outputs": [],
   "source": [
    "import numpy as np\n",
    "import matplotlib.pyplot as plt\n",
    "import os\n",
    "import pandas as pd\n",
    "import re\n",
    "import seaborn as sns\n",
    "from sklearn.feature_extraction.text import TfidfVectorizer\n",
    "from sklearn.feature_extraction import DictVectorizer\n",
    "from sklearn.linear_model import LinearRegression\n",
    "from sklearn.metrics import mean_squared_error\n",
    "from sklearn.model_selection import train_test_split\n",
    "from scipy.sparse import hstack\n"
   ]
  },
  {
   "cell_type": "markdown",
   "metadata": {},
   "source": [
    "# Load dataset"
   ]
  },
  {
   "cell_type": "code",
   "execution_count": 2,
   "metadata": {},
   "outputs": [],
   "source": [
    "headers = ['text','id', 'subreddit', 'meta', 'time', 'author', 'ups', 'downs', 'authorlinkkarma', 'authorkarma', 'authorisgold']\n",
    "# reddit.columns = headers"
   ]
  },
  {
   "cell_type": "code",
   "execution_count": 3,
   "metadata": {},
   "outputs": [],
   "source": [
    "reddit = pd.read_csv('comments.csv', names= headers, date_parser=['time'])  # header=None"
   ]
  },
  {
   "cell_type": "code",
   "execution_count": 4,
   "metadata": {},
   "outputs": [
    {
     "data": {
      "text/plain": [
       "(2726000, 11)"
      ]
     },
     "execution_count": 4,
     "metadata": {},
     "output_type": "execute_result"
    }
   ],
   "source": [
    "reddit.shape"
   ]
  },
  {
   "cell_type": "markdown",
   "metadata": {},
   "source": [
    "# Preprocess"
   ]
  },
  {
   "cell_type": "code",
   "execution_count": 5,
   "metadata": {},
   "outputs": [
    {
     "data": {
      "text/plain": [
       "text               184261\n",
       "id                      0\n",
       "subreddit               0\n",
       "meta                    0\n",
       "time                15814\n",
       "author              15814\n",
       "ups                 15814\n",
       "downs               15814\n",
       "authorlinkkarma       253\n",
       "authorkarma           253\n",
       "authorisgold        35410\n",
       "dtype: int64"
      ]
     },
     "execution_count": 5,
     "metadata": {},
     "output_type": "execute_result"
    }
   ],
   "source": [
    "reddit.isnull().sum()"
   ]
  },
  {
   "cell_type": "code",
   "execution_count": 6,
   "metadata": {},
   "outputs": [],
   "source": [
    "# delete comments with NaN text\n",
    "reddit = reddit[reddit['text'].notna()]"
   ]
  },
  {
   "cell_type": "markdown",
   "metadata": {},
   "source": [
    "A lot of comments are there but the text are deleted. We should get rid of those records as well:"
   ]
  },
  {
   "cell_type": "code",
   "execution_count": 7,
   "metadata": {},
   "outputs": [
    {
     "data": {
      "text/html": [
       "<div>\n",
       "<style scoped>\n",
       "    .dataframe tbody tr th:only-of-type {\n",
       "        vertical-align: middle;\n",
       "    }\n",
       "\n",
       "    .dataframe tbody tr th {\n",
       "        vertical-align: top;\n",
       "    }\n",
       "\n",
       "    .dataframe thead th {\n",
       "        text-align: right;\n",
       "    }\n",
       "</style>\n",
       "<table border=\"1\" class=\"dataframe\">\n",
       "  <thead>\n",
       "    <tr style=\"text-align: right;\">\n",
       "      <th></th>\n",
       "      <th>text</th>\n",
       "      <th>id</th>\n",
       "      <th>subreddit</th>\n",
       "      <th>meta</th>\n",
       "      <th>time</th>\n",
       "      <th>author</th>\n",
       "      <th>ups</th>\n",
       "      <th>downs</th>\n",
       "      <th>authorlinkkarma</th>\n",
       "      <th>authorkarma</th>\n",
       "      <th>authorisgold</th>\n",
       "    </tr>\n",
       "  </thead>\n",
       "  <tbody>\n",
       "    <tr>\n",
       "      <th>39</th>\n",
       "      <td>[ deleted ]</td>\n",
       "      <td>d028eod</td>\n",
       "      <td>worldnews</td>\n",
       "      <td>news</td>\n",
       "      <td>1.455651e+09</td>\n",
       "      <td>[deleted]</td>\n",
       "      <td>-1.0</td>\n",
       "      <td>0.0</td>\n",
       "      <td>0.0</td>\n",
       "      <td>0.0</td>\n",
       "      <td>NaN</td>\n",
       "    </tr>\n",
       "    <tr>\n",
       "      <th>252</th>\n",
       "      <td>[ removed ]</td>\n",
       "      <td>d02cx5w</td>\n",
       "      <td>worldnews</td>\n",
       "      <td>news</td>\n",
       "      <td>1.455657e+09</td>\n",
       "      <td>[deleted]</td>\n",
       "      <td>1.0</td>\n",
       "      <td>0.0</td>\n",
       "      <td>0.0</td>\n",
       "      <td>0.0</td>\n",
       "      <td>NaN</td>\n",
       "    </tr>\n",
       "    <tr>\n",
       "      <th>264</th>\n",
       "      <td>those pundits do n't have eighth time .</td>\n",
       "      <td>d02okk5</td>\n",
       "      <td>politics</td>\n",
       "      <td>news</td>\n",
       "      <td>1.455674e+09</td>\n",
       "      <td>1blah1</td>\n",
       "      <td>1.0</td>\n",
       "      <td>0.0</td>\n",
       "      <td>0.0</td>\n",
       "      <td>0.0</td>\n",
       "      <td>NaN</td>\n",
       "    </tr>\n",
       "    <tr>\n",
       "      <th>265</th>\n",
       "      <td>people think trump is an idiot. they are wrong...</td>\n",
       "      <td>d02kj5o</td>\n",
       "      <td>politics</td>\n",
       "      <td>news</td>\n",
       "      <td>1.455668e+09</td>\n",
       "      <td>ntt2wtt</td>\n",
       "      <td>1.0</td>\n",
       "      <td>0.0</td>\n",
       "      <td>0.0</td>\n",
       "      <td>0.0</td>\n",
       "      <td>NaN</td>\n",
       "    </tr>\n",
       "    <tr>\n",
       "      <th>266</th>\n",
       "      <td>make no mistake. donald trump knows exactly wh...</td>\n",
       "      <td>d02k5ou</td>\n",
       "      <td>politics</td>\n",
       "      <td>news</td>\n",
       "      <td>1.455667e+09</td>\n",
       "      <td>fuckingoff</td>\n",
       "      <td>1.0</td>\n",
       "      <td>0.0</td>\n",
       "      <td>0.0</td>\n",
       "      <td>0.0</td>\n",
       "      <td>NaN</td>\n",
       "    </tr>\n",
       "    <tr>\n",
       "      <th>403</th>\n",
       "      <td>[ deleted ]</td>\n",
       "      <td>d02brz5</td>\n",
       "      <td>worldnews</td>\n",
       "      <td>news</td>\n",
       "      <td>1.455655e+09</td>\n",
       "      <td>[deleted]</td>\n",
       "      <td>0.0</td>\n",
       "      <td>0.0</td>\n",
       "      <td>0.0</td>\n",
       "      <td>0.0</td>\n",
       "      <td>NaN</td>\n",
       "    </tr>\n",
       "    <tr>\n",
       "      <th>411</th>\n",
       "      <td>[ deleted ]</td>\n",
       "      <td>d024aa7</td>\n",
       "      <td>politics</td>\n",
       "      <td>news</td>\n",
       "      <td>1.455645e+09</td>\n",
       "      <td>[deleted]</td>\n",
       "      <td>1.0</td>\n",
       "      <td>0.0</td>\n",
       "      <td>0.0</td>\n",
       "      <td>0.0</td>\n",
       "      <td>NaN</td>\n",
       "    </tr>\n",
       "    <tr>\n",
       "      <th>420</th>\n",
       "      <td>[ deleted ]</td>\n",
       "      <td>d01xwhf</td>\n",
       "      <td>worldnews</td>\n",
       "      <td>news</td>\n",
       "      <td>1.455636e+09</td>\n",
       "      <td>[deleted]</td>\n",
       "      <td>16.0</td>\n",
       "      <td>0.0</td>\n",
       "      <td>0.0</td>\n",
       "      <td>0.0</td>\n",
       "      <td>NaN</td>\n",
       "    </tr>\n",
       "    <tr>\n",
       "      <th>430</th>\n",
       "      <td>[ deleted ]</td>\n",
       "      <td>d01nnv6</td>\n",
       "      <td>worldnews</td>\n",
       "      <td>news</td>\n",
       "      <td>1.455605e+09</td>\n",
       "      <td>[deleted]</td>\n",
       "      <td>-65.0</td>\n",
       "      <td>0.0</td>\n",
       "      <td>0.0</td>\n",
       "      <td>0.0</td>\n",
       "      <td>NaN</td>\n",
       "    </tr>\n",
       "    <tr>\n",
       "      <th>441</th>\n",
       "      <td>[ deleted ]</td>\n",
       "      <td>d022qbv</td>\n",
       "      <td>politics</td>\n",
       "      <td>news</td>\n",
       "      <td>1.455643e+09</td>\n",
       "      <td>[deleted]</td>\n",
       "      <td>1.0</td>\n",
       "      <td>0.0</td>\n",
       "      <td>0.0</td>\n",
       "      <td>0.0</td>\n",
       "      <td>NaN</td>\n",
       "    </tr>\n",
       "  </tbody>\n",
       "</table>\n",
       "</div>"
      ],
      "text/plain": [
       "                                                  text       id  subreddit  \\\n",
       "39                                         [ deleted ]  d028eod  worldnews   \n",
       "252                                        [ removed ]  d02cx5w  worldnews   \n",
       "264            those pundits do n't have eighth time .  d02okk5   politics   \n",
       "265  people think trump is an idiot. they are wrong...  d02kj5o   politics   \n",
       "266  make no mistake. donald trump knows exactly wh...  d02k5ou   politics   \n",
       "403                                        [ deleted ]  d02brz5  worldnews   \n",
       "411                                        [ deleted ]  d024aa7   politics   \n",
       "420                                        [ deleted ]  d01xwhf  worldnews   \n",
       "430                                        [ deleted ]  d01nnv6  worldnews   \n",
       "441                                        [ deleted ]  d022qbv   politics   \n",
       "\n",
       "     meta          time      author   ups  downs  authorlinkkarma  \\\n",
       "39   news  1.455651e+09   [deleted]  -1.0    0.0              0.0   \n",
       "252  news  1.455657e+09   [deleted]   1.0    0.0              0.0   \n",
       "264  news  1.455674e+09      1blah1   1.0    0.0              0.0   \n",
       "265  news  1.455668e+09     ntt2wtt   1.0    0.0              0.0   \n",
       "266  news  1.455667e+09  fuckingoff   1.0    0.0              0.0   \n",
       "403  news  1.455655e+09   [deleted]   0.0    0.0              0.0   \n",
       "411  news  1.455645e+09   [deleted]   1.0    0.0              0.0   \n",
       "420  news  1.455636e+09   [deleted]  16.0    0.0              0.0   \n",
       "430  news  1.455605e+09   [deleted] -65.0    0.0              0.0   \n",
       "441  news  1.455643e+09   [deleted]   1.0    0.0              0.0   \n",
       "\n",
       "     authorkarma  authorisgold  \n",
       "39           0.0           NaN  \n",
       "252          0.0           NaN  \n",
       "264          0.0           NaN  \n",
       "265          0.0           NaN  \n",
       "266          0.0           NaN  \n",
       "403          0.0           NaN  \n",
       "411          0.0           NaN  \n",
       "420          0.0           NaN  \n",
       "430          0.0           NaN  \n",
       "441          0.0           NaN  "
      ]
     },
     "execution_count": 7,
     "metadata": {},
     "output_type": "execute_result"
    }
   ],
   "source": [
    "reddit[reddit.authorisgold.isna()][:10]"
   ]
  },
  {
   "cell_type": "code",
   "execution_count": 8,
   "metadata": {},
   "outputs": [],
   "source": [
    "reddit = reddit[reddit.text.str.find('[deleted]')!= False]"
   ]
  },
  {
   "cell_type": "markdown",
   "metadata": {},
   "source": [
    "Some other comments have non-void text but the text is actually empty. We should also get rid of them."
   ]
  },
  {
   "cell_type": "code",
   "execution_count": 9,
   "metadata": {},
   "outputs": [],
   "source": [
    "reddit = reddit[reddit.text.str.len() != 0]"
   ]
  },
  {
   "cell_type": "code",
   "execution_count": 10,
   "metadata": {},
   "outputs": [],
   "source": [
    "# drop duplicates -- turns out that there are a lot of duplicated rows\n",
    "reddit = reddit.drop_duplicates()"
   ]
  },
  {
   "cell_type": "code",
   "execution_count": 11,
   "metadata": {},
   "outputs": [],
   "source": [
    "# NAs in authorlinkkarma and authorkarma are annoying duplicates! --> should simply delete them\n",
    "reddit = reddit[reddit.authorlinkkarma.isna() == False]"
   ]
  },
  {
   "cell_type": "code",
   "execution_count": 12,
   "metadata": {},
   "outputs": [],
   "source": [
    "# fill NA's in author is gold with 0\n",
    "reddit['authorisgold'].fillna(0, inplace=True)"
   ]
  },
  {
   "cell_type": "markdown",
   "metadata": {},
   "source": [
    "# EDA"
   ]
  },
  {
   "cell_type": "code",
   "execution_count": 13,
   "metadata": {},
   "outputs": [
    {
     "data": {
      "text/html": [
       "<div>\n",
       "<style scoped>\n",
       "    .dataframe tbody tr th:only-of-type {\n",
       "        vertical-align: middle;\n",
       "    }\n",
       "\n",
       "    .dataframe tbody tr th {\n",
       "        vertical-align: top;\n",
       "    }\n",
       "\n",
       "    .dataframe thead th {\n",
       "        text-align: right;\n",
       "    }\n",
       "</style>\n",
       "<table border=\"1\" class=\"dataframe\">\n",
       "  <thead>\n",
       "    <tr style=\"text-align: right;\">\n",
       "      <th></th>\n",
       "      <th>time</th>\n",
       "      <th>ups</th>\n",
       "      <th>downs</th>\n",
       "      <th>authorlinkkarma</th>\n",
       "      <th>authorkarma</th>\n",
       "      <th>authorisgold</th>\n",
       "    </tr>\n",
       "  </thead>\n",
       "  <tbody>\n",
       "    <tr>\n",
       "      <th>count</th>\n",
       "      <td>9.792100e+04</td>\n",
       "      <td>97921.000000</td>\n",
       "      <td>97921.0</td>\n",
       "      <td>9.792100e+04</td>\n",
       "      <td>9.792100e+04</td>\n",
       "      <td>97921.000000</td>\n",
       "    </tr>\n",
       "    <tr>\n",
       "      <th>mean</th>\n",
       "      <td>1.455394e+09</td>\n",
       "      <td>53.915646</td>\n",
       "      <td>0.0</td>\n",
       "      <td>5.128443e+03</td>\n",
       "      <td>1.755740e+04</td>\n",
       "      <td>0.081382</td>\n",
       "    </tr>\n",
       "    <tr>\n",
       "      <th>std</th>\n",
       "      <td>1.731153e+06</td>\n",
       "      <td>264.824208</td>\n",
       "      <td>0.0</td>\n",
       "      <td>6.021745e+04</td>\n",
       "      <td>6.161786e+04</td>\n",
       "      <td>0.273422</td>\n",
       "    </tr>\n",
       "    <tr>\n",
       "      <th>min</th>\n",
       "      <td>1.400891e+09</td>\n",
       "      <td>-164.000000</td>\n",
       "      <td>0.0</td>\n",
       "      <td>0.000000e+00</td>\n",
       "      <td>-1.000000e+02</td>\n",
       "      <td>0.000000</td>\n",
       "    </tr>\n",
       "    <tr>\n",
       "      <th>25%</th>\n",
       "      <td>1.455559e+09</td>\n",
       "      <td>1.000000</td>\n",
       "      <td>0.0</td>\n",
       "      <td>1.000000e+00</td>\n",
       "      <td>3.280000e+02</td>\n",
       "      <td>0.000000</td>\n",
       "    </tr>\n",
       "    <tr>\n",
       "      <th>50%</th>\n",
       "      <td>1.455629e+09</td>\n",
       "      <td>4.000000</td>\n",
       "      <td>0.0</td>\n",
       "      <td>1.060000e+02</td>\n",
       "      <td>2.913000e+03</td>\n",
       "      <td>0.000000</td>\n",
       "    </tr>\n",
       "    <tr>\n",
       "      <th>75%</th>\n",
       "      <td>1.455656e+09</td>\n",
       "      <td>16.000000</td>\n",
       "      <td>0.0</td>\n",
       "      <td>1.476000e+03</td>\n",
       "      <td>1.347400e+04</td>\n",
       "      <td>0.000000</td>\n",
       "    </tr>\n",
       "    <tr>\n",
       "      <th>max</th>\n",
       "      <td>1.455688e+09</td>\n",
       "      <td>6453.000000</td>\n",
       "      <td>0.0</td>\n",
       "      <td>5.650077e+06</td>\n",
       "      <td>2.220594e+06</td>\n",
       "      <td>1.000000</td>\n",
       "    </tr>\n",
       "  </tbody>\n",
       "</table>\n",
       "</div>"
      ],
      "text/plain": [
       "               time           ups    downs  authorlinkkarma   authorkarma  \\\n",
       "count  9.792100e+04  97921.000000  97921.0     9.792100e+04  9.792100e+04   \n",
       "mean   1.455394e+09     53.915646      0.0     5.128443e+03  1.755740e+04   \n",
       "std    1.731153e+06    264.824208      0.0     6.021745e+04  6.161786e+04   \n",
       "min    1.400891e+09   -164.000000      0.0     0.000000e+00 -1.000000e+02   \n",
       "25%    1.455559e+09      1.000000      0.0     1.000000e+00  3.280000e+02   \n",
       "50%    1.455629e+09      4.000000      0.0     1.060000e+02  2.913000e+03   \n",
       "75%    1.455656e+09     16.000000      0.0     1.476000e+03  1.347400e+04   \n",
       "max    1.455688e+09   6453.000000      0.0     5.650077e+06  2.220594e+06   \n",
       "\n",
       "       authorisgold  \n",
       "count  97921.000000  \n",
       "mean       0.081382  \n",
       "std        0.273422  \n",
       "min        0.000000  \n",
       "25%        0.000000  \n",
       "50%        0.000000  \n",
       "75%        0.000000  \n",
       "max        1.000000  "
      ]
     },
     "execution_count": 13,
     "metadata": {},
     "output_type": "execute_result"
    }
   ],
   "source": [
    "reddit.describe()"
   ]
  },
  {
   "cell_type": "code",
   "execution_count": 14,
   "metadata": {},
   "outputs": [
    {
     "data": {
      "text/plain": [
       "array([0.])"
      ]
     },
     "execution_count": 14,
     "metadata": {},
     "output_type": "execute_result"
    }
   ],
   "source": [
    "reddit.downs.unique()"
   ]
  },
  {
   "cell_type": "markdown",
   "metadata": {},
   "source": [
    "### A few initial observations about the data:\n",
    "* No comments have any downvotes. --> This feature could be excluded. \n",
    "* Most authors are not gold users.\n",
    "* 'Gaming' is the topic that users seem to be most actively posting comments. "
   ]
  },
  {
   "cell_type": "code",
   "execution_count": 15,
   "metadata": {},
   "outputs": [
    {
     "data": {
      "text/plain": [
       "(array([0, 1, 2, 3, 4, 5, 6]), <a list of 7 Text xticklabel objects>)"
      ]
     },
     "execution_count": 15,
     "metadata": {},
     "output_type": "execute_result"
    },
    {
     "data": {
      "image/png": "[encoded data removed]",
      "text/plain": [
       "<Figure size 432x288 with 1 Axes>"
      ]
     },
     "metadata": {
      "needs_background": "light"
     },
     "output_type": "display_data"
    }
   ],
   "source": [
    "reddit.meta.value_counts().plot.bar()\n",
    "plt.xticks(rotation=30)"
   ]
  },
  {
   "cell_type": "markdown",
   "metadata": {},
   "source": [
    "Most comments receive up to 1000 upvotes. There are a number of comments that receive an extreme high number of upvotes (more than 5000). However, the interval between 1000 and 5000 upvotes is almost deserted. For the sake of generalization, we will focus on the majority of comments which are those that receive less than 1000 upvotes."
   ]
  },
  {
   "cell_type": "code",
   "execution_count": 16,
   "metadata": {},
   "outputs": [
    {
     "name": "stderr",
     "output_type": "stream",
     "text": [
      "/anaconda3/envs/ml/lib/python3.6/site-packages/scipy/stats/stats.py:1713: FutureWarning: Using a non-tuple sequence for multidimensional indexing is deprecated; use `arr[tuple(seq)]` instead of `arr[seq]`. In the future this will be interpreted as an array index, `arr[np.array(seq)]`, which will result either in an error or a different result.\n",
      "  return np.add.reduce(sorted[indexer] * weights, axis=axis) / sumval\n"
     ]
    },
    {
     "data": {
      "text/plain": [
       "<matplotlib.axes._subplots.AxesSubplot at 0x1a28a394a8>"
      ]
     },
     "execution_count": 16,
     "metadata": {},
     "output_type": "execute_result"
    },
    {
     "data": {
      "image/png": "[encoded data removed]",
      "text/plain": [
       "<Figure size 432x288 with 1 Axes>"
      ]
     },
     "metadata": {},
     "output_type": "display_data"
    }
   ],
   "source": [
    "sns.set_style('darkgrid')\n",
    "sns.distplot(reddit['ups'])"
   ]
  },
  {
   "cell_type": "code",
   "execution_count": 17,
   "metadata": {},
   "outputs": [],
   "source": [
    "reddit = reddit[reddit['ups'] <= 1000]"
   ]
  },
  {
   "cell_type": "code",
   "execution_count": 18,
   "metadata": {},
   "outputs": [
    {
     "data": {
      "text/plain": [
       "<matplotlib.axes._subplots.AxesSubplot at 0x1a1ce83668>"
      ]
     },
     "execution_count": 18,
     "metadata": {},
     "output_type": "execute_result"
    },
    {
     "data": {
      "image/png": "[encoded data removed]",
      "text/plain": [
       "<Figure size 432x288 with 1 Axes>"
      ]
     },
     "metadata": {},
     "output_type": "display_data"
    }
   ],
   "source": [
    "sns.set_style('darkgrid')\n",
    "sns.distplot(reddit['ups'])"
   ]
  },
  {
   "cell_type": "markdown",
   "metadata": {},
   "source": [
    "A closer look shows that looking at comments receiving less than 200 upvotes should be an even more reasonable choice.\n",
    "\n",
    "__Question__. What's strange is that there are negative number of upvotes. Why so?"
   ]
  },
  {
   "cell_type": "code",
   "execution_count": 19,
   "metadata": {},
   "outputs": [],
   "source": [
    "reddit = reddit[reddit['ups'] <= 200]"
   ]
  },
  {
   "cell_type": "markdown",
   "metadata": {},
   "source": [
    "# Feature engineering"
   ]
  },
  {
   "cell_type": "markdown",
   "metadata": {},
   "source": [
    "### Number of links in the comment"
   ]
  },
  {
   "cell_type": "code",
   "execution_count": 20,
   "metadata": {},
   "outputs": [],
   "source": [
    "reddit['num_link'] = reddit['text'].str.count('http') + reddit['text'].str.count('https')"
   ]
  },
  {
   "cell_type": "code",
   "execution_count": 21,
   "metadata": {},
   "outputs": [],
   "source": [
    "# Now remove all the links out of the text\n"
   ]
  },
  {
   "cell_type": "code",
   "execution_count": 22,
   "metadata": {},
   "outputs": [],
   "source": [
    "# # p_link = re.compile(\"https? : //([\\w_-]+(?:(?:\\.[\\w_-]+)+)([\\w.,@?^=%&:/~+#-]*[\\w@?^=%&/~+#-]*))?\")\n",
    "# p_link = re.compile('(https? : \\/\\/)(\\s)?(www\\.)?(\\s?)(\\w+\\.)*([\\w\\-\\s]+\\/)*([\\w-]+)+\\/?\\s?')\n"
   ]
  },
  {
   "cell_type": "code",
   "execution_count": 23,
   "metadata": {},
   "outputs": [],
   "source": [
    "# text = \"easonable : http : //www.nytimes.com/1987/11/12/us/reagan-nominates-anthony-kennedy-to-supreme-court.html ? pagewanted = all equally ridiculous , here 's a 1970 law review article in which mcconnell argues for presidential dominion in the supreme court nomination process http : //imgur.com/pbeveod\"\n",
    "# result = p_link.findall(text)\n",
    "# print(result)"
   ]
  },
  {
   "cell_type": "code",
   "execution_count": 24,
   "metadata": {},
   "outputs": [],
   "source": [
    "# for element in result[0]:\n",
    "#     text = text.replace(element, '')\n",
    "# text"
   ]
  },
  {
   "cell_type": "code",
   "execution_count": 25,
   "metadata": {
    "scrolled": true
   },
   "outputs": [],
   "source": [
    "# text.replace(':','')\n",
    "# text"
   ]
  },
  {
   "cell_type": "markdown",
   "metadata": {},
   "source": [
    "### Word count"
   ]
  },
  {
   "cell_type": "code",
   "execution_count": 26,
   "metadata": {},
   "outputs": [],
   "source": [
    "# remove punctuations\n",
    "reddit.text = reddit.text.str.replace('[.,?!;:]', '')"
   ]
  },
  {
   "cell_type": "code",
   "execution_count": 27,
   "metadata": {},
   "outputs": [],
   "source": [
    "reddit['word_count'] = reddit['text'].str.split().str.len()"
   ]
  },
  {
   "cell_type": "code",
   "execution_count": 47,
   "metadata": {},
   "outputs": [],
   "source": [
    "# After removing comments of more than 200 upvotes, very lengthy comments are already removed\n",
    "# reddit.word_count.max()"
   ]
  },
  {
   "cell_type": "code",
   "execution_count": 48,
   "metadata": {},
   "outputs": [
    {
     "data": {
      "text/plain": [
       "<matplotlib.axes._subplots.AxesSubplot at 0x1a276ec0b8>"
      ]
     },
     "execution_count": 48,
     "metadata": {},
     "output_type": "execute_result"
    },
    {
     "data": {
      "image/png": "[encoded data removed]",
      "text/plain": [
       "<Figure size 432x288 with 1 Axes>"
      ]
     },
     "metadata": {},
     "output_type": "display_data"
    }
   ],
   "source": [
    "sns.distplot(reddit['word_count'])\n",
    "# plt.hist(x=reddit['word_count'], bins=10000)"
   ]
  },
  {
   "cell_type": "markdown",
   "metadata": {},
   "source": [
    "__Note__: Most comments seem to have less than 400 words but there are some dubiously long comments. --> Outliers to remove. Will treat them separately. --> No need to worry about anymore. After removing those comments that receive more than 200 upvotes, the outliers in terms of word count are removed as a by-product."
   ]
  },
  {
   "cell_type": "code",
   "execution_count": 30,
   "metadata": {},
   "outputs": [],
   "source": [
    "# reddit_long = reddit[reddit.word_count >= 400]\n",
    "# reddit = reddit[reddit.word_count < 400]"
   ]
  },
  {
   "cell_type": "markdown",
   "metadata": {},
   "source": [
    "### Word count categorical\n",
    "Based on this distribution, we'll discretize comments based on word count into 4 groups: short, medium, long, and very long comments."
   ]
  },
  {
   "cell_type": "code",
   "execution_count": 50,
   "metadata": {},
   "outputs": [],
   "source": [
    "bins=[-1, 25, 50, 100, 500]\n",
    "reddit['word_count_cat'] = pd.cut(reddit['word_count'], bins, labels=['short', 'medium', 'long', 'very long'])"
   ]
  },
  {
   "cell_type": "code",
   "execution_count": 51,
   "metadata": {},
   "outputs": [
    {
     "data": {
      "text/plain": [
       "(array([0, 1, 2, 3]), <a list of 4 Text xticklabel objects>)"
      ]
     },
     "execution_count": 51,
     "metadata": {},
     "output_type": "execute_result"
    },
    {
     "data": {
      "image/png": "[encoded data removed]",
      "text/plain": [
       "<Figure size 432x288 with 1 Axes>"
      ]
     },
     "metadata": {},
     "output_type": "display_data"
    }
   ],
   "source": [
    "reddit.word_count_cat.value_counts().plot.bar()\n",
    "plt.xticks(rotation=30)"
   ]
  },
  {
   "cell_type": "markdown",
   "metadata": {},
   "source": [
    "### Subjectivity"
   ]
  },
  {
   "cell_type": "code",
   "execution_count": 34,
   "metadata": {},
   "outputs": [],
   "source": [
    "# number of times the user uses 'I' in the comment\n",
    "reddit['subjectivity'] = reddit['text'].str.count('i ')"
   ]
  },
  {
   "cell_type": "markdown",
   "metadata": {},
   "source": [
    "__Question__: Why are weird duplicates that `drop_duplicates` couldn't get rid of?"
   ]
  },
  {
   "cell_type": "code",
   "execution_count": 35,
   "metadata": {},
   "outputs": [],
   "source": [
    "# reddit = reddit.drop_duplicates()"
   ]
  },
  {
   "cell_type": "code",
   "execution_count": 52,
   "metadata": {},
   "outputs": [
    {
     "data": {
      "text/html": [
       "<div>\n",
       "<style scoped>\n",
       "    .dataframe tbody tr th:only-of-type {\n",
       "        vertical-align: middle;\n",
       "    }\n",
       "\n",
       "    .dataframe tbody tr th {\n",
       "        vertical-align: top;\n",
       "    }\n",
       "\n",
       "    .dataframe thead th {\n",
       "        text-align: right;\n",
       "    }\n",
       "</style>\n",
       "<table border=\"1\" class=\"dataframe\">\n",
       "  <thead>\n",
       "    <tr style=\"text-align: right;\">\n",
       "      <th></th>\n",
       "      <th>text</th>\n",
       "      <th>id</th>\n",
       "      <th>subreddit</th>\n",
       "      <th>meta</th>\n",
       "      <th>time</th>\n",
       "      <th>author</th>\n",
       "      <th>ups</th>\n",
       "      <th>downs</th>\n",
       "      <th>authorlinkkarma</th>\n",
       "      <th>authorkarma</th>\n",
       "      <th>authorisgold</th>\n",
       "      <th>num_link</th>\n",
       "      <th>word_count</th>\n",
       "      <th>word_count_cat</th>\n",
       "      <th>subjectivity</th>\n",
       "    </tr>\n",
       "  </thead>\n",
       "  <tbody>\n",
       "    <tr>\n",
       "      <th>415682</th>\n",
       "      <td>my journey began on april 4  2015 i had extrem...</td>\n",
       "      <td>d00rve2</td>\n",
       "      <td>progresspics</td>\n",
       "      <td>lifestyle</td>\n",
       "      <td>1.455554e+09</td>\n",
       "      <td>SwinginCrabWhacka</td>\n",
       "      <td>32.0</td>\n",
       "      <td>0.0</td>\n",
       "      <td>0.566</td>\n",
       "      <td>0.566</td>\n",
       "      <td>0.0</td>\n",
       "      <td>0</td>\n",
       "      <td>351</td>\n",
       "      <td>very long</td>\n",
       "      <td>32</td>\n",
       "    </tr>\n",
       "    <tr>\n",
       "      <th>472125</th>\n",
       "      <td>my journey began on april 4  2015 i had extrem...</td>\n",
       "      <td>d00rve2</td>\n",
       "      <td>progresspics</td>\n",
       "      <td>lifestyle</td>\n",
       "      <td>1.455554e+09</td>\n",
       "      <td>SwinginCrabWhacka</td>\n",
       "      <td>33.0</td>\n",
       "      <td>0.0</td>\n",
       "      <td>0.566</td>\n",
       "      <td>0.566</td>\n",
       "      <td>0.0</td>\n",
       "      <td>0</td>\n",
       "      <td>351</td>\n",
       "      <td>very long</td>\n",
       "      <td>32</td>\n",
       "    </tr>\n",
       "    <tr>\n",
       "      <th>574945</th>\n",
       "      <td>my journey began on april 4  2015 i had extrem...</td>\n",
       "      <td>d00rve2</td>\n",
       "      <td>progresspics</td>\n",
       "      <td>lifestyle</td>\n",
       "      <td>1.455554e+09</td>\n",
       "      <td>SwinginCrabWhacka</td>\n",
       "      <td>35.0</td>\n",
       "      <td>0.0</td>\n",
       "      <td>0.566</td>\n",
       "      <td>0.566</td>\n",
       "      <td>0.0</td>\n",
       "      <td>0</td>\n",
       "      <td>351</td>\n",
       "      <td>very long</td>\n",
       "      <td>32</td>\n",
       "    </tr>\n",
       "    <tr>\n",
       "      <th>649423</th>\n",
       "      <td>my journey began on april 4  2015 i had extrem...</td>\n",
       "      <td>d00rve2</td>\n",
       "      <td>progresspics</td>\n",
       "      <td>lifestyle</td>\n",
       "      <td>1.455554e+09</td>\n",
       "      <td>SwinginCrabWhacka</td>\n",
       "      <td>31.0</td>\n",
       "      <td>0.0</td>\n",
       "      <td>0.566</td>\n",
       "      <td>0.566</td>\n",
       "      <td>0.0</td>\n",
       "      <td>0</td>\n",
       "      <td>351</td>\n",
       "      <td>very long</td>\n",
       "      <td>32</td>\n",
       "    </tr>\n",
       "  </tbody>\n",
       "</table>\n",
       "</div>"
      ],
      "text/plain": [
       "                                                     text       id  \\\n",
       "415682  my journey began on april 4  2015 i had extrem...  d00rve2   \n",
       "472125  my journey began on april 4  2015 i had extrem...  d00rve2   \n",
       "574945  my journey began on april 4  2015 i had extrem...  d00rve2   \n",
       "649423  my journey began on april 4  2015 i had extrem...  d00rve2   \n",
       "\n",
       "           subreddit       meta          time             author   ups  downs  \\\n",
       "415682  progresspics  lifestyle  1.455554e+09  SwinginCrabWhacka  32.0    0.0   \n",
       "472125  progresspics  lifestyle  1.455554e+09  SwinginCrabWhacka  33.0    0.0   \n",
       "574945  progresspics  lifestyle  1.455554e+09  SwinginCrabWhacka  35.0    0.0   \n",
       "649423  progresspics  lifestyle  1.455554e+09  SwinginCrabWhacka  31.0    0.0   \n",
       "\n",
       "        authorlinkkarma  authorkarma  authorisgold  num_link  word_count  \\\n",
       "415682            0.566        0.566           0.0         0         351   \n",
       "472125            0.566        0.566           0.0         0         351   \n",
       "574945            0.566        0.566           0.0         0         351   \n",
       "649423            0.566        0.566           0.0         0         351   \n",
       "\n",
       "       word_count_cat  subjectivity  \n",
       "415682      very long            32  \n",
       "472125      very long            32  \n",
       "574945      very long            32  \n",
       "649423      very long            32  "
      ]
     },
     "execution_count": 52,
     "metadata": {},
     "output_type": "execute_result"
    }
   ],
   "source": [
    "reddit[reddit.subjectivity == 32]  # why same comment but 4 records of different numbers of upvotes?"
   ]
  },
  {
   "cell_type": "code",
   "execution_count": 54,
   "metadata": {},
   "outputs": [
    {
     "name": "stderr",
     "output_type": "stream",
     "text": [
      "/anaconda3/envs/ml/lib/python3.6/site-packages/scipy/stats/stats.py:1713: FutureWarning: Using a non-tuple sequence for multidimensional indexing is deprecated; use `arr[tuple(seq)]` instead of `arr[seq]`. In the future this will be interpreted as an array index, `arr[np.array(seq)]`, which will result either in an error or a different result.\n",
      "  return np.add.reduce(sorted[indexer] * weights, axis=axis) / sumval\n"
     ]
    },
    {
     "data": {
      "text/plain": [
       "<matplotlib.axes._subplots.AxesSubplot at 0x1a27f4feb8>"
      ]
     },
     "execution_count": 54,
     "metadata": {},
     "output_type": "execute_result"
    },
    {
     "data": {
      "image/png": "[encoded data removed]",
      "text/plain": [
       "<Figure size 432x288 with 1 Axes>"
      ]
     },
     "metadata": {},
     "output_type": "display_data"
    }
   ],
   "source": [
    "sns.distplot(reddit.subjectivity, kde=False)"
   ]
  },
  {
   "cell_type": "markdown",
   "metadata": {},
   "source": [
    "### Number of unique words"
   ]
  },
  {
   "cell_type": "markdown",
   "metadata": {},
   "source": [
    "# Numericalize and normalize data"
   ]
  },
  {
   "cell_type": "code",
   "execution_count": 76,
   "metadata": {},
   "outputs": [
    {
     "name": "stdout",
     "output_type": "stream",
     "text": [
      "{'author', 'word_count_cat', 'subreddit', 'text', 'ups', 'authorlinkkarma', 'downs', 'word_count', 'authorkarma', 'id', 'subjectivity', 'authorisgold', 'time', 'meta', 'num_link'}\n",
      "\n",
      "Number of columns in the dataframe: 15\n"
     ]
    }
   ],
   "source": [
    "all_col = set(reddit.columns)\n",
    "print(all_col) \n",
    "print(f\"\\nNumber of columns in the dataframe: {len(all_col)}\")"
   ]
  },
  {
   "cell_type": "code",
   "execution_count": 81,
   "metadata": {},
   "outputs": [
    {
     "data": {
      "text/plain": [
       "5"
      ]
     },
     "execution_count": 81,
     "metadata": {},
     "output_type": "execute_result"
    }
   ],
   "source": [
    "# Categorical variables\n",
    "# _variables = ['subreddit','meta', 'time', 'author', \n",
    "#                  'authorlinkkarma', 'authorkarma', 'authorisgold', 'word_count_cat']\n",
    "\n",
    "# Excluded variables\n",
    "excluded_variables = ['id', 'author', 'ups', 'downs', 'text']  # ups is the response variable, downs is trivial\n",
    "                                                               # text is for separate td-idf transformation \n",
    "len(excluded_variables)"
   ]
  },
  {
   "cell_type": "code",
   "execution_count": 82,
   "metadata": {},
   "outputs": [
    {
     "data": {
      "text/plain": [
       "['word_count_cat',\n",
       " 'subreddit',\n",
       " 'authorlinkkarma',\n",
       " 'word_count',\n",
       " 'authorkarma',\n",
       " 'subjectivity',\n",
       " 'authorisgold',\n",
       " 'time',\n",
       " 'meta',\n",
       " 'num_link']"
      ]
     },
     "execution_count": 82,
     "metadata": {},
     "output_type": "execute_result"
    }
   ],
   "source": [
    "# Numerical variables\n",
    "inde_variables = list(all_col.difference(set(excluded_variables)))\n",
    "inde_variables"
   ]
  },
  {
   "cell_type": "markdown",
   "metadata": {},
   "source": [
    "### Normalize karma"
   ]
  },
  {
   "cell_type": "markdown",
   "metadata": {},
   "source": [
    "`authorlinkkarma` and `authorkarma` are very large values, more than allowed for dtype('float64') --> We will normalize these 2 columns by dividing by 1000."
   ]
  },
  {
   "cell_type": "code",
   "execution_count": 43,
   "metadata": {},
   "outputs": [],
   "source": [
    "reddit['authorkarma'] = reddit['authorlinkkarma']/1000\n",
    "reddit['authorlinkkarma'] = reddit['authorlinkkarma']/1000"
   ]
  },
  {
   "cell_type": "markdown",
   "metadata": {},
   "source": [
    "### Vectorize `text`"
   ]
  },
  {
   "cell_type": "code",
   "execution_count": 83,
   "metadata": {},
   "outputs": [],
   "source": [
    "vectorizer = TfidfVectorizer()\n",
    "X_tfidf = vectorizer.fit_transform(reddit['text'])"
   ]
  },
  {
   "cell_type": "markdown",
   "metadata": {},
   "source": [
    "### Numericalize categorical variables"
   ]
  },
  {
   "cell_type": "code",
   "execution_count": 86,
   "metadata": {},
   "outputs": [],
   "source": [
    "encoder = DictVectorizer()\n",
    "X_inde = encoder.fit_transform(reddit[inde_variables].to_dict('records'))"
   ]
  },
  {
   "cell_type": "markdown",
   "metadata": {},
   "source": [
    "# Model fitting"
   ]
  },
  {
   "cell_type": "code",
   "execution_count": 88,
   "metadata": {},
   "outputs": [],
   "source": [
    "y = reddit.ups\n",
    "x = hstack([X_tfidf, X_inde])\n",
    "# x = hstack([X_tfidf, X_categ, reddit[num_variables]])"
   ]
  },
  {
   "cell_type": "markdown",
   "metadata": {},
   "source": [
    "### Split into a test set and a training set"
   ]
  },
  {
   "cell_type": "code",
   "execution_count": 89,
   "metadata": {},
   "outputs": [],
   "source": [
    "X_train, X_test, y_train, y_test = train_test_split(x, y, test_size=0.33, random_state=42)"
   ]
  },
  {
   "cell_type": "markdown",
   "metadata": {},
   "source": [
    "## Linear Regression"
   ]
  },
  {
   "cell_type": "code",
   "execution_count": 90,
   "metadata": {},
   "outputs": [],
   "source": [
    "lm_model = LinearRegression()"
   ]
  },
  {
   "cell_type": "code",
   "execution_count": 91,
   "metadata": {},
   "outputs": [
    {
     "data": {
      "text/plain": [
       "LinearRegression(copy_X=True, fit_intercept=True, n_jobs=None,\n",
       "         normalize=False)"
      ]
     },
     "execution_count": 91,
     "metadata": {},
     "output_type": "execute_result"
    }
   ],
   "source": [
    "lm_model.fit(X_train, y_train)"
   ]
  },
  {
   "cell_type": "code",
   "execution_count": 94,
   "metadata": {},
   "outputs": [],
   "source": [
    "y_predicted = lm_model.predict(X_test)"
   ]
  },
  {
   "cell_type": "code",
   "execution_count": 95,
   "metadata": {},
   "outputs": [
    {
     "name": "stdout",
     "output_type": "stream",
     "text": [
      "954.1\n"
     ]
    }
   ],
   "source": [
    "mse = mean_squared_error(y_test, y_predicted)\n",
    "print(f\"{mse:.4}\")"
   ]
  },
  {
   "cell_type": "code",
   "execution_count": 97,
   "metadata": {},
   "outputs": [
    {
     "data": {
      "text/plain": [
       "Text(0.5, 1.0, 'Redisual plot')"
      ]
     },
     "execution_count": 97,
     "metadata": {},
     "output_type": "execute_result"
    },
    {
     "data": {
      "image/png": "[encoded data removed]",
      "text/plain": [
       "<Figure size 432x288 with 1 Axes>"
      ]
     },
     "metadata": {},
     "output_type": "display_data"
    }
   ],
   "source": [
    "# Why there are no dots\n",
    "ax = sns.regplot(y_predicted, y_test - y_predicted);\n",
    "ax.set_xlabel(\"Predicted prices: $\\hat{Y}_i$\")\n",
    "ax.set_ylabel(\"Residuals: $\\epsilon_i$\")\n",
    "ax.set_title(\"Redisual plot\")"
   ]
  },
  {
   "cell_type": "code",
   "execution_count": 98,
   "metadata": {},
   "outputs": [],
   "source": [
    "from sklearn.metrics import r2_score"
   ]
  },
  {
   "cell_type": "code",
   "execution_count": 99,
   "metadata": {
    "scrolled": true
   },
   "outputs": [
    {
     "data": {
      "text/plain": [
       "-4.7267523727967387e-05"
      ]
     },
     "execution_count": 99,
     "metadata": {},
     "output_type": "execute_result"
    }
   ],
   "source": [
    "r2_score(y_pred=y_predicted, y_true=y_test)"
   ]
  },
  {
   "cell_type": "markdown",
   "metadata": {},
   "source": [
    "$R^2$ is terrible! Is something wrong here."
   ]
  }
 ],
 "metadata": {
  "kernelspec": {
   "display_name": "Python 3",
   "language": "python",
   "name": "python3"
  },
  "language_info": {
   "codemirror_mode": {
    "name": "ipython",
    "version": 3
   },
   "file_extension": ".py",
   "mimetype": "text/x-python",
   "name": "python",
   "nbconvert_exporter": "python",
   "pygments_lexer": "ipython3",
   "version": "3.6.6"
  }
 },
 "nbformat": 4,
 "nbformat_minor": 2
}
