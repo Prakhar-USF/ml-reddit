{
 "cells": [
  {
   "cell_type": "code",
   "execution_count": 9,
   "metadata": {},
   "outputs": [],
   "source": [
    "import numpy as np\n",
    "import matplotlib.pyplot as plt\n",
    "import os\n",
    "import pandas as pd\n",
    "import re\n",
    "import seaborn as sns\n",
    "from sklearn.feature_extraction.text import TfidfVectorizer\n",
    "from sklearn.feature_extraction import DictVectorizer\n",
    "from sklearn.linear_model import LinearRegression\n",
    "from sklearn.model_selection import train_test_split\n",
    "from scipy.sparse import hstack\n"
   ]
  },
  {
   "cell_type": "markdown",
   "metadata": {},
   "source": [
    "# Load dataset"
   ]
  },
  {
   "cell_type": "code",
   "execution_count": 10,
   "metadata": {},
   "outputs": [],
   "source": [
    "headers = ['text','id', 'subreddit', 'meta', 'time', 'author', 'ups', 'downs', 'authorlinkkarma', 'authorkarma', 'authorisgold']\n",
    "# reddit.columns = headers"
   ]
  },
  {
   "cell_type": "code",
   "execution_count": 91,
   "metadata": {},
   "outputs": [],
   "source": [
    "reddit = pd.read_csv('comments.csv', names= headers, date_parser=['time'])  # header=None"
   ]
  },
  {
   "cell_type": "code",
   "execution_count": 94,
   "metadata": {},
   "outputs": [
    {
     "data": {
      "text/plain": [
       "(2726000, 11)"
      ]
     },
     "execution_count": 94,
     "metadata": {},
     "output_type": "execute_result"
    }
   ],
   "source": [
    "reddit.shape"
   ]
  },
  {
   "cell_type": "markdown",
   "metadata": {},
   "source": [
    "# Preprocess"
   ]
  },
  {
   "cell_type": "code",
   "execution_count": 137,
   "metadata": {},
   "outputs": [
    {
     "data": {
      "text/plain": [
       "text                  0\n",
       "id                    0\n",
       "subreddit             0\n",
       "meta                  0\n",
       "time                  0\n",
       "author                0\n",
       "ups                   0\n",
       "downs                 0\n",
       "authorlinkkarma       0\n",
       "authorkarma           0\n",
       "authorisgold       9314\n",
       "dtype: int64"
      ]
     },
     "execution_count": 137,
     "metadata": {},
     "output_type": "execute_result"
    }
   ],
   "source": [
    "reddit.isnull().sum()"
   ]
  },
  {
   "cell_type": "code",
   "execution_count": 95,
   "metadata": {},
   "outputs": [],
   "source": [
    "# delete comments with NaN text\n",
    "reddit = reddit[reddit['text'].notna()]"
   ]
  },
  {
   "cell_type": "markdown",
   "metadata": {},
   "source": [
    "A lot of comments are there but the text are deleted. We should get rid of those records as well:"
   ]
  },
  {
   "cell_type": "code",
   "execution_count": 124,
   "metadata": {},
   "outputs": [
    {
     "data": {
      "text/html": [
       "<div>\n",
       "<style scoped>\n",
       "    .dataframe tbody tr th:only-of-type {\n",
       "        vertical-align: middle;\n",
       "    }\n",
       "\n",
       "    .dataframe tbody tr th {\n",
       "        vertical-align: top;\n",
       "    }\n",
       "\n",
       "    .dataframe thead th {\n",
       "        text-align: right;\n",
       "    }\n",
       "</style>\n",
       "<table border=\"1\" class=\"dataframe\">\n",
       "  <thead>\n",
       "    <tr style=\"text-align: right;\">\n",
       "      <th></th>\n",
       "      <th>text</th>\n",
       "      <th>id</th>\n",
       "      <th>subreddit</th>\n",
       "      <th>meta</th>\n",
       "      <th>time</th>\n",
       "      <th>author</th>\n",
       "      <th>ups</th>\n",
       "      <th>downs</th>\n",
       "      <th>authorlinkkarma</th>\n",
       "      <th>authorkarma</th>\n",
       "      <th>authorisgold</th>\n",
       "    </tr>\n",
       "  </thead>\n",
       "  <tbody>\n",
       "    <tr>\n",
       "      <th>39</th>\n",
       "      <td>[ deleted ]</td>\n",
       "      <td>d028eod</td>\n",
       "      <td>worldnews</td>\n",
       "      <td>news</td>\n",
       "      <td>1.455651e+09</td>\n",
       "      <td>[deleted]</td>\n",
       "      <td>-1.0</td>\n",
       "      <td>0.0</td>\n",
       "      <td>0.0</td>\n",
       "      <td>0.0</td>\n",
       "      <td>NaN</td>\n",
       "    </tr>\n",
       "    <tr>\n",
       "      <th>252</th>\n",
       "      <td>[ removed ]</td>\n",
       "      <td>d02cx5w</td>\n",
       "      <td>worldnews</td>\n",
       "      <td>news</td>\n",
       "      <td>1.455657e+09</td>\n",
       "      <td>[deleted]</td>\n",
       "      <td>1.0</td>\n",
       "      <td>0.0</td>\n",
       "      <td>0.0</td>\n",
       "      <td>0.0</td>\n",
       "      <td>NaN</td>\n",
       "    </tr>\n",
       "    <tr>\n",
       "      <th>264</th>\n",
       "      <td>those pundits do n't have eighth time .</td>\n",
       "      <td>d02okk5</td>\n",
       "      <td>politics</td>\n",
       "      <td>news</td>\n",
       "      <td>1.455674e+09</td>\n",
       "      <td>1blah1</td>\n",
       "      <td>1.0</td>\n",
       "      <td>0.0</td>\n",
       "      <td>0.0</td>\n",
       "      <td>0.0</td>\n",
       "      <td>NaN</td>\n",
       "    </tr>\n",
       "    <tr>\n",
       "      <th>265</th>\n",
       "      <td>people think trump is an idiot. they are wrong...</td>\n",
       "      <td>d02kj5o</td>\n",
       "      <td>politics</td>\n",
       "      <td>news</td>\n",
       "      <td>1.455668e+09</td>\n",
       "      <td>ntt2wtt</td>\n",
       "      <td>1.0</td>\n",
       "      <td>0.0</td>\n",
       "      <td>0.0</td>\n",
       "      <td>0.0</td>\n",
       "      <td>NaN</td>\n",
       "    </tr>\n",
       "    <tr>\n",
       "      <th>266</th>\n",
       "      <td>make no mistake. donald trump knows exactly wh...</td>\n",
       "      <td>d02k5ou</td>\n",
       "      <td>politics</td>\n",
       "      <td>news</td>\n",
       "      <td>1.455667e+09</td>\n",
       "      <td>fuckingoff</td>\n",
       "      <td>1.0</td>\n",
       "      <td>0.0</td>\n",
       "      <td>0.0</td>\n",
       "      <td>0.0</td>\n",
       "      <td>NaN</td>\n",
       "    </tr>\n",
       "    <tr>\n",
       "      <th>403</th>\n",
       "      <td>[ deleted ]</td>\n",
       "      <td>d02brz5</td>\n",
       "      <td>worldnews</td>\n",
       "      <td>news</td>\n",
       "      <td>1.455655e+09</td>\n",
       "      <td>[deleted]</td>\n",
       "      <td>0.0</td>\n",
       "      <td>0.0</td>\n",
       "      <td>0.0</td>\n",
       "      <td>0.0</td>\n",
       "      <td>NaN</td>\n",
       "    </tr>\n",
       "    <tr>\n",
       "      <th>411</th>\n",
       "      <td>[ deleted ]</td>\n",
       "      <td>d024aa7</td>\n",
       "      <td>politics</td>\n",
       "      <td>news</td>\n",
       "      <td>1.455645e+09</td>\n",
       "      <td>[deleted]</td>\n",
       "      <td>1.0</td>\n",
       "      <td>0.0</td>\n",
       "      <td>0.0</td>\n",
       "      <td>0.0</td>\n",
       "      <td>NaN</td>\n",
       "    </tr>\n",
       "    <tr>\n",
       "      <th>420</th>\n",
       "      <td>[ deleted ]</td>\n",
       "      <td>d01xwhf</td>\n",
       "      <td>worldnews</td>\n",
       "      <td>news</td>\n",
       "      <td>1.455636e+09</td>\n",
       "      <td>[deleted]</td>\n",
       "      <td>16.0</td>\n",
       "      <td>0.0</td>\n",
       "      <td>0.0</td>\n",
       "      <td>0.0</td>\n",
       "      <td>NaN</td>\n",
       "    </tr>\n",
       "    <tr>\n",
       "      <th>430</th>\n",
       "      <td>[ deleted ]</td>\n",
       "      <td>d01nnv6</td>\n",
       "      <td>worldnews</td>\n",
       "      <td>news</td>\n",
       "      <td>1.455605e+09</td>\n",
       "      <td>[deleted]</td>\n",
       "      <td>-65.0</td>\n",
       "      <td>0.0</td>\n",
       "      <td>0.0</td>\n",
       "      <td>0.0</td>\n",
       "      <td>NaN</td>\n",
       "    </tr>\n",
       "    <tr>\n",
       "      <th>441</th>\n",
       "      <td>[ deleted ]</td>\n",
       "      <td>d022qbv</td>\n",
       "      <td>politics</td>\n",
       "      <td>news</td>\n",
       "      <td>1.455643e+09</td>\n",
       "      <td>[deleted]</td>\n",
       "      <td>1.0</td>\n",
       "      <td>0.0</td>\n",
       "      <td>0.0</td>\n",
       "      <td>0.0</td>\n",
       "      <td>NaN</td>\n",
       "    </tr>\n",
       "  </tbody>\n",
       "</table>\n",
       "</div>"
      ],
      "text/plain": [
       "                                                  text       id  subreddit  \\\n",
       "39                                         [ deleted ]  d028eod  worldnews   \n",
       "252                                        [ removed ]  d02cx5w  worldnews   \n",
       "264            those pundits do n't have eighth time .  d02okk5   politics   \n",
       "265  people think trump is an idiot. they are wrong...  d02kj5o   politics   \n",
       "266  make no mistake. donald trump knows exactly wh...  d02k5ou   politics   \n",
       "403                                        [ deleted ]  d02brz5  worldnews   \n",
       "411                                        [ deleted ]  d024aa7   politics   \n",
       "420                                        [ deleted ]  d01xwhf  worldnews   \n",
       "430                                        [ deleted ]  d01nnv6  worldnews   \n",
       "441                                        [ deleted ]  d022qbv   politics   \n",
       "\n",
       "     meta          time      author   ups  downs  authorlinkkarma  \\\n",
       "39   news  1.455651e+09   [deleted]  -1.0    0.0              0.0   \n",
       "252  news  1.455657e+09   [deleted]   1.0    0.0              0.0   \n",
       "264  news  1.455674e+09      1blah1   1.0    0.0              0.0   \n",
       "265  news  1.455668e+09     ntt2wtt   1.0    0.0              0.0   \n",
       "266  news  1.455667e+09  fuckingoff   1.0    0.0              0.0   \n",
       "403  news  1.455655e+09   [deleted]   0.0    0.0              0.0   \n",
       "411  news  1.455645e+09   [deleted]   1.0    0.0              0.0   \n",
       "420  news  1.455636e+09   [deleted]  16.0    0.0              0.0   \n",
       "430  news  1.455605e+09   [deleted] -65.0    0.0              0.0   \n",
       "441  news  1.455643e+09   [deleted]   1.0    0.0              0.0   \n",
       "\n",
       "     authorkarma  authorisgold  \n",
       "39           0.0           NaN  \n",
       "252          0.0           NaN  \n",
       "264          0.0           NaN  \n",
       "265          0.0           NaN  \n",
       "266          0.0           NaN  \n",
       "403          0.0           NaN  \n",
       "411          0.0           NaN  \n",
       "420          0.0           NaN  \n",
       "430          0.0           NaN  \n",
       "441          0.0           NaN  "
      ]
     },
     "execution_count": 124,
     "metadata": {},
     "output_type": "execute_result"
    }
   ],
   "source": [
    "reddit[reddit.authorisgold.isna()][:10]"
   ]
  },
  {
   "cell_type": "code",
   "execution_count": 125,
   "metadata": {},
   "outputs": [],
   "source": [
    "reddit = reddit[reddit.text.str.find('[deleted]')!= False]"
   ]
  },
  {
   "cell_type": "markdown",
   "metadata": {},
   "source": [
    "Some other comments have non-void text but the text is actually empty. We should also get rid of them."
   ]
  },
  {
   "cell_type": "code",
   "execution_count": 152,
   "metadata": {},
   "outputs": [],
   "source": [
    "reddit = reddit[reddit.text.str.len() != 0]"
   ]
  },
  {
   "cell_type": "code",
   "execution_count": 98,
   "metadata": {},
   "outputs": [],
   "source": [
    "# drop duplicates -- turns out that there are a lot of duplicated rows\n",
    "reddit = reddit.drop_duplicates()"
   ]
  },
  {
   "cell_type": "code",
   "execution_count": 128,
   "metadata": {},
   "outputs": [],
   "source": [
    "# NAs in authorlinkkarma and authorkarma are annoying duplicates! --> should simply delete them\n",
    "reddit = reddit[reddit.authorlinkkarma.isna() == False]"
   ]
  },
  {
   "cell_type": "code",
   "execution_count": 133,
   "metadata": {},
   "outputs": [],
   "source": [
    "# fill NA's in author is gold with 0\n",
    "reddit['authorlinkkarma'].fillna(0, inplace=True)"
   ]
  },
  {
   "cell_type": "markdown",
   "metadata": {},
   "source": [
    "# EDA"
   ]
  },
  {
   "cell_type": "code",
   "execution_count": 138,
   "metadata": {},
   "outputs": [
    {
     "data": {
      "text/html": [
       "<div>\n",
       "<style scoped>\n",
       "    .dataframe tbody tr th:only-of-type {\n",
       "        vertical-align: middle;\n",
       "    }\n",
       "\n",
       "    .dataframe tbody tr th {\n",
       "        vertical-align: top;\n",
       "    }\n",
       "\n",
       "    .dataframe thead th {\n",
       "        text-align: right;\n",
       "    }\n",
       "</style>\n",
       "<table border=\"1\" class=\"dataframe\">\n",
       "  <thead>\n",
       "    <tr style=\"text-align: right;\">\n",
       "      <th></th>\n",
       "      <th>time</th>\n",
       "      <th>ups</th>\n",
       "      <th>downs</th>\n",
       "      <th>authorlinkkarma</th>\n",
       "      <th>authorkarma</th>\n",
       "      <th>authorisgold</th>\n",
       "    </tr>\n",
       "  </thead>\n",
       "  <tbody>\n",
       "    <tr>\n",
       "      <th>count</th>\n",
       "      <td>9.792100e+04</td>\n",
       "      <td>97921.000000</td>\n",
       "      <td>97921.0</td>\n",
       "      <td>9.792100e+04</td>\n",
       "      <td>9.792100e+04</td>\n",
       "      <td>88607.000000</td>\n",
       "    </tr>\n",
       "    <tr>\n",
       "      <th>mean</th>\n",
       "      <td>1.455394e+09</td>\n",
       "      <td>53.915646</td>\n",
       "      <td>0.0</td>\n",
       "      <td>5.128443e+03</td>\n",
       "      <td>1.755740e+04</td>\n",
       "      <td>0.089936</td>\n",
       "    </tr>\n",
       "    <tr>\n",
       "      <th>std</th>\n",
       "      <td>1.731153e+06</td>\n",
       "      <td>264.824208</td>\n",
       "      <td>0.0</td>\n",
       "      <td>6.021745e+04</td>\n",
       "      <td>6.161786e+04</td>\n",
       "      <td>0.286092</td>\n",
       "    </tr>\n",
       "    <tr>\n",
       "      <th>min</th>\n",
       "      <td>1.400891e+09</td>\n",
       "      <td>-164.000000</td>\n",
       "      <td>0.0</td>\n",
       "      <td>0.000000e+00</td>\n",
       "      <td>-1.000000e+02</td>\n",
       "      <td>0.000000</td>\n",
       "    </tr>\n",
       "    <tr>\n",
       "      <th>25%</th>\n",
       "      <td>1.455559e+09</td>\n",
       "      <td>1.000000</td>\n",
       "      <td>0.0</td>\n",
       "      <td>1.000000e+00</td>\n",
       "      <td>3.280000e+02</td>\n",
       "      <td>0.000000</td>\n",
       "    </tr>\n",
       "    <tr>\n",
       "      <th>50%</th>\n",
       "      <td>1.455629e+09</td>\n",
       "      <td>4.000000</td>\n",
       "      <td>0.0</td>\n",
       "      <td>1.060000e+02</td>\n",
       "      <td>2.913000e+03</td>\n",
       "      <td>0.000000</td>\n",
       "    </tr>\n",
       "    <tr>\n",
       "      <th>75%</th>\n",
       "      <td>1.455656e+09</td>\n",
       "      <td>16.000000</td>\n",
       "      <td>0.0</td>\n",
       "      <td>1.476000e+03</td>\n",
       "      <td>1.347400e+04</td>\n",
       "      <td>0.000000</td>\n",
       "    </tr>\n",
       "    <tr>\n",
       "      <th>max</th>\n",
       "      <td>1.455688e+09</td>\n",
       "      <td>6453.000000</td>\n",
       "      <td>0.0</td>\n",
       "      <td>5.650077e+06</td>\n",
       "      <td>2.220594e+06</td>\n",
       "      <td>1.000000</td>\n",
       "    </tr>\n",
       "  </tbody>\n",
       "</table>\n",
       "</div>"
      ],
      "text/plain": [
       "               time           ups    downs  authorlinkkarma   authorkarma  \\\n",
       "count  9.792100e+04  97921.000000  97921.0     9.792100e+04  9.792100e+04   \n",
       "mean   1.455394e+09     53.915646      0.0     5.128443e+03  1.755740e+04   \n",
       "std    1.731153e+06    264.824208      0.0     6.021745e+04  6.161786e+04   \n",
       "min    1.400891e+09   -164.000000      0.0     0.000000e+00 -1.000000e+02   \n",
       "25%    1.455559e+09      1.000000      0.0     1.000000e+00  3.280000e+02   \n",
       "50%    1.455629e+09      4.000000      0.0     1.060000e+02  2.913000e+03   \n",
       "75%    1.455656e+09     16.000000      0.0     1.476000e+03  1.347400e+04   \n",
       "max    1.455688e+09   6453.000000      0.0     5.650077e+06  2.220594e+06   \n",
       "\n",
       "       authorisgold  \n",
       "count  88607.000000  \n",
       "mean       0.089936  \n",
       "std        0.286092  \n",
       "min        0.000000  \n",
       "25%        0.000000  \n",
       "50%        0.000000  \n",
       "75%        0.000000  \n",
       "max        1.000000  "
      ]
     },
     "execution_count": 138,
     "metadata": {},
     "output_type": "execute_result"
    }
   ],
   "source": [
    "reddit.describe()"
   ]
  },
  {
   "cell_type": "code",
   "execution_count": 139,
   "metadata": {},
   "outputs": [
    {
     "data": {
      "text/plain": [
       "array([0.])"
      ]
     },
     "execution_count": 139,
     "metadata": {},
     "output_type": "execute_result"
    }
   ],
   "source": [
    "reddit.downs.unique()"
   ]
  },
  {
   "cell_type": "markdown",
   "metadata": {},
   "source": [
    "### A few initial observations about the data:\n",
    "* No comments have any downvotes. --> This feature could be excluded. \n",
    "* Most authors are not gold users.\n",
    "* 'Gaming' is the topic that users seem to be most actively posting comments. "
   ]
  },
  {
   "cell_type": "code",
   "execution_count": 29,
   "metadata": {},
   "outputs": [
    {
     "data": {
      "text/plain": [
       "(array([0, 1, 2, 3, 4, 5, 6]), <a list of 7 Text xticklabel objects>)"
      ]
     },
     "execution_count": 29,
     "metadata": {},
     "output_type": "execute_result"
    },
    {
     "data": {
      "image/png": "[encoded data removed]",
      "text/plain": [
       "<Figure size 432x288 with 1 Axes>"
      ]
     },
     "metadata": {
      "needs_background": "light"
     },
     "output_type": "display_data"
    }
   ],
   "source": [
    "reddit.meta.value_counts().plot.bar()\n",
    "plt.xticks(rotation=30)"
   ]
  },
  {
   "cell_type": "markdown",
   "metadata": {},
   "source": [
    "# Feature engineering"
   ]
  },
  {
   "cell_type": "markdown",
   "metadata": {},
   "source": [
    "### Number of links in the comment"
   ]
  },
  {
   "cell_type": "code",
   "execution_count": 140,
   "metadata": {},
   "outputs": [],
   "source": [
    "reddit['num_link'] = reddit['text'].str.count('http') + reddit['text'].str.count('https')"
   ]
  },
  {
   "cell_type": "code",
   "execution_count": 13,
   "metadata": {},
   "outputs": [],
   "source": [
    "# Now remove all the links out of the text\n"
   ]
  },
  {
   "cell_type": "code",
   "execution_count": 106,
   "metadata": {},
   "outputs": [],
   "source": [
    "# # p_link = re.compile(\"https? : //([\\w_-]+(?:(?:\\.[\\w_-]+)+)([\\w.,@?^=%&:/~+#-]*[\\w@?^=%&/~+#-]*))?\")\n",
    "# p_link = re.compile('(https? : \\/\\/)(\\s)?(www\\.)?(\\s?)(\\w+\\.)*([\\w\\-\\s]+\\/)*([\\w-]+)+\\/?\\s?')\n"
   ]
  },
  {
   "cell_type": "code",
   "execution_count": 137,
   "metadata": {},
   "outputs": [
    {
     "name": "stdout",
     "output_type": "stream",
     "text": [
      "[('http : //', '', 'www.', '', 'nytimes.', 'us/', 'reagan-nominates-anthony-kennedy-to-supreme-court'), ('http : //', '', '', '', 'imgur.', 'com/', 'pbeveod')]\n"
     ]
    }
   ],
   "source": [
    "# text = \"easonable : http : //www.nytimes.com/1987/11/12/us/reagan-nominates-anthony-kennedy-to-supreme-court.html ? pagewanted = all equally ridiculous , here 's a 1970 law review article in which mcconnell argues for presidential dominion in the supreme court nomination process http : //imgur.com/pbeveod\"\n",
    "# result = p_link.findall(text)\n",
    "# print(result)"
   ]
  },
  {
   "cell_type": "code",
   "execution_count": 112,
   "metadata": {},
   "outputs": [
    {
     "data": {
      "text/plain": [
       "\"easonable : com/1987/11/12/.html ? pagewanted = all equally ridiculous , here 's a 1970 law review article in which mcconnell argues for presidential dominion in the supreme court nomination process imgur.com/pbeveod\""
      ]
     },
     "execution_count": 112,
     "metadata": {},
     "output_type": "execute_result"
    }
   ],
   "source": [
    "# for element in result[0]:\n",
    "#     text = text.replace(element, '')\n",
    "# text"
   ]
  },
  {
   "cell_type": "code",
   "execution_count": 122,
   "metadata": {
    "scrolled": true
   },
   "outputs": [
    {
     "data": {
      "text/plain": [
       "\"easonable : com/1987/11/12/.html ? pagewanted = all equally ridiculous , here 's a 1970 law review article in which mcconnell argues for presidential dominion in the supreme court nomination process imgur.com/pbeveod\""
      ]
     },
     "execution_count": 122,
     "metadata": {},
     "output_type": "execute_result"
    }
   ],
   "source": [
    "# text.replace(':','')\n",
    "# text"
   ]
  },
  {
   "cell_type": "markdown",
   "metadata": {},
   "source": [
    "### Word count"
   ]
  },
  {
   "cell_type": "code",
   "execution_count": 141,
   "metadata": {},
   "outputs": [],
   "source": [
    "# remove punctuations\n",
    "reddit.text = reddit.text.str.replace('[.,?!;:]', '')"
   ]
  },
  {
   "cell_type": "code",
   "execution_count": 142,
   "metadata": {},
   "outputs": [],
   "source": [
    "reddit['word_count'] = reddit['text'].str.split().str.len()"
   ]
  },
  {
   "cell_type": "code",
   "execution_count": 143,
   "metadata": {},
   "outputs": [
    {
     "data": {
      "text/plain": [
       "10000"
      ]
     },
     "execution_count": 143,
     "metadata": {},
     "output_type": "execute_result"
    }
   ],
   "source": [
    "reddit.word_count.max()"
   ]
  },
  {
   "cell_type": "code",
   "execution_count": 20,
   "metadata": {},
   "outputs": [
    {
     "data": {
      "text/plain": [
       "(array([1.400e+01, 1.627e+03, 2.377e+03, ..., 0.000e+00, 0.000e+00,\n",
       "        1.000e+00]),\n",
       " array([0.000e+00, 1.000e+00, 2.000e+00, ..., 9.998e+03, 9.999e+03,\n",
       "        1.000e+04]),\n",
       " <a list of 10000 Patch objects>)"
      ]
     },
     "execution_count": 20,
     "metadata": {},
     "output_type": "execute_result"
    },
    {
     "data": {
      "image/png": "[encoded data removed]",
      "text/plain": [
       "<Figure size 432x288 with 1 Axes>"
      ]
     },
     "metadata": {
      "needs_background": "light"
     },
     "output_type": "display_data"
    }
   ],
   "source": [
    "plt.hist(x=reddit['word_count'], bins=10000)"
   ]
  },
  {
   "cell_type": "markdown",
   "metadata": {},
   "source": [
    "__Note__: Most comments seem to have less than 400 words but there are some dubiously long comments. --> Outliers to remove. Will treat them separately."
   ]
  },
  {
   "cell_type": "code",
   "execution_count": 147,
   "metadata": {},
   "outputs": [],
   "source": [
    "reddit_long = reddit[reddit.word_count >= 400]\n",
    "reddit = reddit[reddit.word_count < 400]"
   ]
  },
  {
   "cell_type": "code",
   "execution_count": 22,
   "metadata": {},
   "outputs": [
    {
     "data": {
      "text/plain": [
       "(array([7.3080e+03, 1.2709e+04, 1.2746e+04, 1.0361e+04, 8.1420e+03,\n",
       "        6.2430e+03, 5.0490e+03, 3.9790e+03, 3.3070e+03, 2.6230e+03,\n",
       "        2.5120e+03, 1.9680e+03, 1.6800e+03, 1.5320e+03, 1.3740e+03,\n",
       "        1.2100e+03, 1.1010e+03, 1.0960e+03, 9.0300e+02, 7.1100e+02,\n",
       "        6.7400e+02, 6.4800e+02, 5.9800e+02, 5.2200e+02, 4.3500e+02,\n",
       "        4.3300e+02, 4.0000e+02, 4.1500e+02, 3.3200e+02, 2.6600e+02,\n",
       "        3.3000e+02, 3.0800e+02, 2.5700e+02, 1.9900e+02, 2.6000e+02,\n",
       "        2.4500e+02, 2.2600e+02, 2.1700e+02, 1.9400e+02, 1.9100e+02,\n",
       "        1.8000e+02, 1.6100e+02, 1.4300e+02, 1.4400e+02, 1.1300e+02,\n",
       "        1.3700e+02, 1.1700e+02, 1.6200e+02, 9.4000e+01, 8.7000e+01,\n",
       "        8.0000e+01, 7.7000e+01, 7.6000e+01, 8.8000e+01, 5.8000e+01,\n",
       "        6.1000e+01, 6.5000e+01, 6.4000e+01, 7.2000e+01, 6.8000e+01,\n",
       "        5.8000e+01, 5.8000e+01, 4.3000e+01, 6.7000e+01, 5.6000e+01,\n",
       "        4.9000e+01, 3.6000e+01, 7.5000e+01, 5.4000e+01, 5.6000e+01,\n",
       "        3.4000e+01, 3.7000e+01, 5.4000e+01, 4.3000e+01, 4.7000e+01,\n",
       "        4.6000e+01, 3.3000e+01, 3.1000e+01, 4.4000e+01, 3.3000e+01,\n",
       "        3.3000e+01, 4.1000e+01, 2.5000e+01, 1.6000e+01, 3.2000e+01,\n",
       "        3.3000e+01, 2.2000e+01, 2.1000e+01, 2.8000e+01, 2.7000e+01,\n",
       "        1.3000e+01, 1.5000e+01, 2.4000e+01, 2.7000e+01, 9.0000e+00,\n",
       "        3.9000e+01, 4.0000e+00, 3.0000e+00, 1.8000e+01, 4.0000e+00]),\n",
       " array([  0.  ,   3.99,   7.98,  11.97,  15.96,  19.95,  23.94,  27.93,\n",
       "         31.92,  35.91,  39.9 ,  43.89,  47.88,  51.87,  55.86,  59.85,\n",
       "         63.84,  67.83,  71.82,  75.81,  79.8 ,  83.79,  87.78,  91.77,\n",
       "         95.76,  99.75, 103.74, 107.73, 111.72, 115.71, 119.7 , 123.69,\n",
       "        127.68, 131.67, 135.66, 139.65, 143.64, 147.63, 151.62, 155.61,\n",
       "        159.6 , 163.59, 167.58, 171.57, 175.56, 179.55, 183.54, 187.53,\n",
       "        191.52, 195.51, 199.5 , 203.49, 207.48, 211.47, 215.46, 219.45,\n",
       "        223.44, 227.43, 231.42, 235.41, 239.4 , 243.39, 247.38, 251.37,\n",
       "        255.36, 259.35, 263.34, 267.33, 271.32, 275.31, 279.3 , 283.29,\n",
       "        287.28, 291.27, 295.26, 299.25, 303.24, 307.23, 311.22, 315.21,\n",
       "        319.2 , 323.19, 327.18, 331.17, 335.16, 339.15, 343.14, 347.13,\n",
       "        351.12, 355.11, 359.1 , 363.09, 367.08, 371.07, 375.06, 379.05,\n",
       "        383.04, 387.03, 391.02, 395.01, 399.  ]),\n",
       " <a list of 100 Patch objects>)"
      ]
     },
     "execution_count": 22,
     "metadata": {},
     "output_type": "execute_result"
    },
    {
     "data": {
      "image/png": "[encoded data removed]",
      "text/plain": [
       "<Figure size 432x288 with 1 Axes>"
      ]
     },
     "metadata": {
      "needs_background": "light"
     },
     "output_type": "display_data"
    }
   ],
   "source": [
    "plt.hist(x=reddit['word_count'], bins=100)"
   ]
  },
  {
   "cell_type": "markdown",
   "metadata": {},
   "source": [
    "### Word count categorical\n",
    "Based on this distribution, we'll discretize comments based on word count into 4 groups: short, medium, long, and very long comments."
   ]
  },
  {
   "cell_type": "code",
   "execution_count": 154,
   "metadata": {},
   "outputs": [],
   "source": [
    "bins=[-1, 25, 50, 100, 500]\n",
    "reddit['word_count_cat'] = pd.cut(reddit['word_count'], bins, labels=['short', 'medium', 'long', 'very long'])"
   ]
  },
  {
   "cell_type": "code",
   "execution_count": 155,
   "metadata": {},
   "outputs": [
    {
     "data": {
      "text/plain": [
       "(array([0, 1, 2, 3]), <a list of 4 Text xticklabel objects>)"
      ]
     },
     "execution_count": 155,
     "metadata": {},
     "output_type": "execute_result"
    },
    {
     "data": {
      "image/png": "[encoded data removed]",
      "text/plain": [
       "<Figure size 432x288 with 1 Axes>"
      ]
     },
     "metadata": {
      "needs_background": "light"
     },
     "output_type": "display_data"
    }
   ],
   "source": [
    "reddit.word_count_cat.value_counts().plot.bar()\n",
    "plt.xticks(rotation=30)"
   ]
  },
  {
   "cell_type": "markdown",
   "metadata": {},
   "source": [
    "### Subjectivity"
   ]
  },
  {
   "cell_type": "code",
   "execution_count": 158,
   "metadata": {},
   "outputs": [],
   "source": [
    "reddit['subjectivity'] = reddit['text'].str.count('i ')"
   ]
  },
  {
   "cell_type": "markdown",
   "metadata": {},
   "source": [
    "__Question__: Why are weird duplicates that `drop_duplicates` couldn't get rid of?"
   ]
  },
  {
   "cell_type": "code",
   "execution_count": 26,
   "metadata": {},
   "outputs": [],
   "source": [
    "# reddit = reddit.drop_duplicates()"
   ]
  },
  {
   "cell_type": "code",
   "execution_count": 31,
   "metadata": {},
   "outputs": [
    {
     "data": {
      "text/html": [
       "<div>\n",
       "<style scoped>\n",
       "    .dataframe tbody tr th:only-of-type {\n",
       "        vertical-align: middle;\n",
       "    }\n",
       "\n",
       "    .dataframe tbody tr th {\n",
       "        vertical-align: top;\n",
       "    }\n",
       "\n",
       "    .dataframe thead th {\n",
       "        text-align: right;\n",
       "    }\n",
       "</style>\n",
       "<table border=\"1\" class=\"dataframe\">\n",
       "  <thead>\n",
       "    <tr style=\"text-align: right;\">\n",
       "      <th></th>\n",
       "      <th>text</th>\n",
       "      <th>id</th>\n",
       "      <th>subreddit</th>\n",
       "      <th>meta</th>\n",
       "      <th>time</th>\n",
       "      <th>author</th>\n",
       "      <th>ups</th>\n",
       "      <th>downs</th>\n",
       "      <th>authorlinkkarma</th>\n",
       "      <th>authorkarma</th>\n",
       "      <th>authorisgold</th>\n",
       "      <th>num_link</th>\n",
       "      <th>word_count</th>\n",
       "      <th>word_count_cat</th>\n",
       "      <th>subjectivity</th>\n",
       "    </tr>\n",
       "  </thead>\n",
       "  <tbody>\n",
       "    <tr>\n",
       "      <th>415682</th>\n",
       "      <td>my journey began on april 4  2015 i had extrem...</td>\n",
       "      <td>d00rve2</td>\n",
       "      <td>progresspics</td>\n",
       "      <td>lifestyle</td>\n",
       "      <td>1.455554e+09</td>\n",
       "      <td>SwinginCrabWhacka</td>\n",
       "      <td>32.0</td>\n",
       "      <td>0.0</td>\n",
       "      <td>566.0</td>\n",
       "      <td>15176.0</td>\n",
       "      <td>0.0</td>\n",
       "      <td>0</td>\n",
       "      <td>351</td>\n",
       "      <td>(100, 400]</td>\n",
       "      <td>32</td>\n",
       "    </tr>\n",
       "    <tr>\n",
       "      <th>472125</th>\n",
       "      <td>my journey began on april 4  2015 i had extrem...</td>\n",
       "      <td>d00rve2</td>\n",
       "      <td>progresspics</td>\n",
       "      <td>lifestyle</td>\n",
       "      <td>1.455554e+09</td>\n",
       "      <td>SwinginCrabWhacka</td>\n",
       "      <td>33.0</td>\n",
       "      <td>0.0</td>\n",
       "      <td>566.0</td>\n",
       "      <td>15176.0</td>\n",
       "      <td>0.0</td>\n",
       "      <td>0</td>\n",
       "      <td>351</td>\n",
       "      <td>(100, 400]</td>\n",
       "      <td>32</td>\n",
       "    </tr>\n",
       "    <tr>\n",
       "      <th>574945</th>\n",
       "      <td>my journey began on april 4  2015 i had extrem...</td>\n",
       "      <td>d00rve2</td>\n",
       "      <td>progresspics</td>\n",
       "      <td>lifestyle</td>\n",
       "      <td>1.455554e+09</td>\n",
       "      <td>SwinginCrabWhacka</td>\n",
       "      <td>35.0</td>\n",
       "      <td>0.0</td>\n",
       "      <td>566.0</td>\n",
       "      <td>15176.0</td>\n",
       "      <td>0.0</td>\n",
       "      <td>0</td>\n",
       "      <td>351</td>\n",
       "      <td>(100, 400]</td>\n",
       "      <td>32</td>\n",
       "    </tr>\n",
       "    <tr>\n",
       "      <th>649423</th>\n",
       "      <td>my journey began on april 4  2015 i had extrem...</td>\n",
       "      <td>d00rve2</td>\n",
       "      <td>progresspics</td>\n",
       "      <td>lifestyle</td>\n",
       "      <td>1.455554e+09</td>\n",
       "      <td>SwinginCrabWhacka</td>\n",
       "      <td>31.0</td>\n",
       "      <td>0.0</td>\n",
       "      <td>566.0</td>\n",
       "      <td>15176.0</td>\n",
       "      <td>0.0</td>\n",
       "      <td>0</td>\n",
       "      <td>351</td>\n",
       "      <td>(100, 400]</td>\n",
       "      <td>32</td>\n",
       "    </tr>\n",
       "  </tbody>\n",
       "</table>\n",
       "</div>"
      ],
      "text/plain": [
       "                                                     text       id  \\\n",
       "415682  my journey began on april 4  2015 i had extrem...  d00rve2   \n",
       "472125  my journey began on april 4  2015 i had extrem...  d00rve2   \n",
       "574945  my journey began on april 4  2015 i had extrem...  d00rve2   \n",
       "649423  my journey began on april 4  2015 i had extrem...  d00rve2   \n",
       "\n",
       "           subreddit       meta          time             author   ups  downs  \\\n",
       "415682  progresspics  lifestyle  1.455554e+09  SwinginCrabWhacka  32.0    0.0   \n",
       "472125  progresspics  lifestyle  1.455554e+09  SwinginCrabWhacka  33.0    0.0   \n",
       "574945  progresspics  lifestyle  1.455554e+09  SwinginCrabWhacka  35.0    0.0   \n",
       "649423  progresspics  lifestyle  1.455554e+09  SwinginCrabWhacka  31.0    0.0   \n",
       "\n",
       "        authorlinkkarma  authorkarma  authorisgold  num_link  word_count  \\\n",
       "415682            566.0      15176.0           0.0         0         351   \n",
       "472125            566.0      15176.0           0.0         0         351   \n",
       "574945            566.0      15176.0           0.0         0         351   \n",
       "649423            566.0      15176.0           0.0         0         351   \n",
       "\n",
       "       word_count_cat  subjectivity  \n",
       "415682     (100, 400]            32  \n",
       "472125     (100, 400]            32  \n",
       "574945     (100, 400]            32  \n",
       "649423     (100, 400]            32  "
      ]
     },
     "execution_count": 31,
     "metadata": {},
     "output_type": "execute_result"
    }
   ],
   "source": [
    "reddit[reddit.subjectivity == 32]  # why same comment but 4 records of different numbers of upvotes?"
   ]
  },
  {
   "cell_type": "code",
   "execution_count": 29,
   "metadata": {},
   "outputs": [
    {
     "data": {
      "text/plain": [
       "(array([7.8739e+04, 8.8370e+03, 3.8030e+03, 2.0970e+03, 1.1450e+03,\n",
       "        7.4000e+02, 4.0900e+02, 3.2200e+02, 2.0800e+02, 1.4300e+02,\n",
       "        1.5300e+02, 9.5000e+01, 1.1100e+02, 7.6000e+01, 4.2000e+01,\n",
       "        9.2000e+01, 1.9000e+01, 1.6000e+01, 3.2000e+01, 9.0000e+00,\n",
       "        2.0000e+01, 1.3000e+01, 5.0000e+00, 2.0000e+00, 6.0000e+00,\n",
       "        0.0000e+00, 0.0000e+00, 1.0000e+00, 0.0000e+00, 4.0000e+00]),\n",
       " array([ 0.        ,  1.06666667,  2.13333333,  3.2       ,  4.26666667,\n",
       "         5.33333333,  6.4       ,  7.46666667,  8.53333333,  9.6       ,\n",
       "        10.66666667, 11.73333333, 12.8       , 13.86666667, 14.93333333,\n",
       "        16.        , 17.06666667, 18.13333333, 19.2       , 20.26666667,\n",
       "        21.33333333, 22.4       , 23.46666667, 24.53333333, 25.6       ,\n",
       "        26.66666667, 27.73333333, 28.8       , 29.86666667, 30.93333333,\n",
       "        32.        ]),\n",
       " <a list of 30 Patch objects>)"
      ]
     },
     "execution_count": 29,
     "metadata": {},
     "output_type": "execute_result"
    },
    {
     "data": {
      "image/png": "[encoded data removed]",
      "text/plain": [
       "<Figure size 432x288 with 1 Axes>"
      ]
     },
     "metadata": {
      "needs_background": "light"
     },
     "output_type": "display_data"
    }
   ],
   "source": [
    "plt.hist(reddit.subjectivity, bins=30)"
   ]
  },
  {
   "cell_type": "markdown",
   "metadata": {},
   "source": [
    "### Number of unique words"
   ]
  },
  {
   "cell_type": "markdown",
   "metadata": {},
   "source": [
    "# Numericalize data"
   ]
  },
  {
   "cell_type": "code",
   "execution_count": 159,
   "metadata": {},
   "outputs": [
    {
     "name": "stdout",
     "output_type": "stream",
     "text": [
      "{'meta', 'author', 'id', 'subreddit', 'authorlinkkarma', 'word_count_cat', 'downs', 'authorkarma', 'time', 'subjectivity', 'ups', 'authorisgold', 'text', 'word_count', 'num_link'}\n",
      "\n",
      "Number of columns in the dataframe: 15\n"
     ]
    }
   ],
   "source": [
    "all_col = set(reddit.columns)\n",
    "print(all_col) \n",
    "print(f\"\\nNumber of columns in the dataframe: {len(all_col)}\")"
   ]
  },
  {
   "cell_type": "code",
   "execution_count": 161,
   "metadata": {},
   "outputs": [
    {
     "data": {
      "text/plain": [
       "(9, 4)"
      ]
     },
     "execution_count": 161,
     "metadata": {},
     "output_type": "execute_result"
    }
   ],
   "source": [
    "# Categorical variables\n",
    "categ_variables = ['subreddit','meta', 'time', 'author', 'ups', \n",
    "                 'authorlinkkarma', 'authorkarma', 'authorisgold', 'word_count_cat']\n",
    "\n",
    "# Excluded variables\n",
    "excluded_variables = ['id', 'author', 'ups', 'downs']  # ups is the response variable, downs is trivial\n",
    "len(categ_variables), len(excluded_variables)"
   ]
  },
  {
   "cell_type": "code",
   "execution_count": 162,
   "metadata": {},
   "outputs": [
    {
     "data": {
      "text/plain": [
       "['subjectivity', 'num_link', 'word_count']"
      ]
     },
     "execution_count": 162,
     "metadata": {},
     "output_type": "execute_result"
    }
   ],
   "source": [
    "# Numerical variables\n",
    "num_variables = list(all_col.difference(set(categ_variables).union(set(excluded_variables))))\n",
    "num_variables = num_variables[1:]\n",
    "num_variables"
   ]
  },
  {
   "cell_type": "markdown",
   "metadata": {},
   "source": [
    "### Vectorize `text`"
   ]
  },
  {
   "cell_type": "code",
   "execution_count": 163,
   "metadata": {},
   "outputs": [],
   "source": [
    "vectorizer = TfidfVectorizer()\n",
    "X_tfidf = vectorizer.fit_transform(reddit['text'])"
   ]
  },
  {
   "cell_type": "markdown",
   "metadata": {},
   "source": [
    "### Numericalize categorical variables"
   ]
  },
  {
   "cell_type": "code",
   "execution_count": 164,
   "metadata": {},
   "outputs": [],
   "source": [
    "encoder = DictVectorizer()\n",
    "X_categ = encoder.fit_transform(reddit[categ_variables].to_dict('records'))"
   ]
  },
  {
   "cell_type": "markdown",
   "metadata": {},
   "source": [
    "# Model fitting"
   ]
  },
  {
   "cell_type": "code",
   "execution_count": 165,
   "metadata": {},
   "outputs": [],
   "source": [
    "y = reddit.ups\n",
    "x = hstack([X_tfidf, X_categ, reddit[num_variables]])"
   ]
  },
  {
   "cell_type": "markdown",
   "metadata": {},
   "source": [
    "### Split into a test set and a training set"
   ]
  },
  {
   "cell_type": "code",
   "execution_count": 166,
   "metadata": {},
   "outputs": [],
   "source": [
    "X_train, X_test, y_train, y_test = train_test_split(x, y, test_size=0.33, random_state=42)"
   ]
  },
  {
   "cell_type": "markdown",
   "metadata": {},
   "source": [
    "## Linear Regression"
   ]
  },
  {
   "cell_type": "code",
   "execution_count": 167,
   "metadata": {},
   "outputs": [],
   "source": [
    "lm_model = LinearRegression()"
   ]
  },
  {
   "cell_type": "code",
   "execution_count": 169,
   "metadata": {},
   "outputs": [
    {
     "data": {
      "text/html": [
       "<div>\n",
       "<style scoped>\n",
       "    .dataframe tbody tr th:only-of-type {\n",
       "        vertical-align: middle;\n",
       "    }\n",
       "\n",
       "    .dataframe tbody tr th {\n",
       "        vertical-align: top;\n",
       "    }\n",
       "\n",
       "    .dataframe thead th {\n",
       "        text-align: right;\n",
       "    }\n",
       "</style>\n",
       "<table border=\"1\" class=\"dataframe\">\n",
       "  <thead>\n",
       "    <tr style=\"text-align: right;\">\n",
       "      <th></th>\n",
       "      <th>time</th>\n",
       "      <th>ups</th>\n",
       "      <th>downs</th>\n",
       "      <th>authorlinkkarma</th>\n",
       "      <th>authorkarma</th>\n",
       "      <th>authorisgold</th>\n",
       "      <th>num_link</th>\n",
       "      <th>word_count</th>\n",
       "      <th>subjectivity</th>\n",
       "    </tr>\n",
       "  </thead>\n",
       "  <tbody>\n",
       "    <tr>\n",
       "      <th>count</th>\n",
       "      <td>9.711900e+04</td>\n",
       "      <td>97119.000000</td>\n",
       "      <td>97119.0</td>\n",
       "      <td>9.711900e+04</td>\n",
       "      <td>9.711900e+04</td>\n",
       "      <td>87835.000000</td>\n",
       "      <td>97119.000000</td>\n",
       "      <td>97119.000000</td>\n",
       "      <td>97119.000000</td>\n",
       "    </tr>\n",
       "    <tr>\n",
       "      <th>mean</th>\n",
       "      <td>1.455398e+09</td>\n",
       "      <td>52.930261</td>\n",
       "      <td>0.0</td>\n",
       "      <td>5.044801e+03</td>\n",
       "      <td>1.749696e+04</td>\n",
       "      <td>0.089156</td>\n",
       "      <td>0.189448</td>\n",
       "      <td>35.591645</td>\n",
       "      <td>0.906620</td>\n",
       "    </tr>\n",
       "    <tr>\n",
       "      <th>std</th>\n",
       "      <td>1.672372e+06</td>\n",
       "      <td>258.156817</td>\n",
       "      <td>0.0</td>\n",
       "      <td>5.950061e+04</td>\n",
       "      <td>6.155876e+04</td>\n",
       "      <td>0.284970</td>\n",
       "      <td>1.130853</td>\n",
       "      <td>49.672784</td>\n",
       "      <td>1.844877</td>\n",
       "    </tr>\n",
       "    <tr>\n",
       "      <th>min</th>\n",
       "      <td>1.400892e+09</td>\n",
       "      <td>-164.000000</td>\n",
       "      <td>0.0</td>\n",
       "      <td>0.000000e+00</td>\n",
       "      <td>-1.000000e+02</td>\n",
       "      <td>0.000000</td>\n",
       "      <td>0.000000</td>\n",
       "      <td>0.000000</td>\n",
       "      <td>0.000000</td>\n",
       "    </tr>\n",
       "    <tr>\n",
       "      <th>25%</th>\n",
       "      <td>1.455560e+09</td>\n",
       "      <td>1.000000</td>\n",
       "      <td>0.0</td>\n",
       "      <td>1.000000e+00</td>\n",
       "      <td>3.280000e+02</td>\n",
       "      <td>0.000000</td>\n",
       "      <td>0.000000</td>\n",
       "      <td>9.000000</td>\n",
       "      <td>0.000000</td>\n",
       "    </tr>\n",
       "    <tr>\n",
       "      <th>50%</th>\n",
       "      <td>1.455629e+09</td>\n",
       "      <td>4.000000</td>\n",
       "      <td>0.0</td>\n",
       "      <td>1.050000e+02</td>\n",
       "      <td>2.907000e+03</td>\n",
       "      <td>0.000000</td>\n",
       "      <td>0.000000</td>\n",
       "      <td>18.000000</td>\n",
       "      <td>0.000000</td>\n",
       "    </tr>\n",
       "    <tr>\n",
       "      <th>75%</th>\n",
       "      <td>1.455656e+09</td>\n",
       "      <td>16.000000</td>\n",
       "      <td>0.0</td>\n",
       "      <td>1.475000e+03</td>\n",
       "      <td>1.345900e+04</td>\n",
       "      <td>0.000000</td>\n",
       "      <td>0.000000</td>\n",
       "      <td>40.000000</td>\n",
       "      <td>1.000000</td>\n",
       "    </tr>\n",
       "    <tr>\n",
       "      <th>max</th>\n",
       "      <td>1.455688e+09</td>\n",
       "      <td>5656.000000</td>\n",
       "      <td>0.0</td>\n",
       "      <td>5.650077e+06</td>\n",
       "      <td>2.220594e+06</td>\n",
       "      <td>1.000000</td>\n",
       "      <td>60.000000</td>\n",
       "      <td>399.000000</td>\n",
       "      <td>32.000000</td>\n",
       "    </tr>\n",
       "  </tbody>\n",
       "</table>\n",
       "</div>"
      ],
      "text/plain": [
       "               time           ups    downs  authorlinkkarma   authorkarma  \\\n",
       "count  9.711900e+04  97119.000000  97119.0     9.711900e+04  9.711900e+04   \n",
       "mean   1.455398e+09     52.930261      0.0     5.044801e+03  1.749696e+04   \n",
       "std    1.672372e+06    258.156817      0.0     5.950061e+04  6.155876e+04   \n",
       "min    1.400892e+09   -164.000000      0.0     0.000000e+00 -1.000000e+02   \n",
       "25%    1.455560e+09      1.000000      0.0     1.000000e+00  3.280000e+02   \n",
       "50%    1.455629e+09      4.000000      0.0     1.050000e+02  2.907000e+03   \n",
       "75%    1.455656e+09     16.000000      0.0     1.475000e+03  1.345900e+04   \n",
       "max    1.455688e+09   5656.000000      0.0     5.650077e+06  2.220594e+06   \n",
       "\n",
       "       authorisgold      num_link    word_count  subjectivity  \n",
       "count  87835.000000  97119.000000  97119.000000  97119.000000  \n",
       "mean       0.089156      0.189448     35.591645      0.906620  \n",
       "std        0.284970      1.130853     49.672784      1.844877  \n",
       "min        0.000000      0.000000      0.000000      0.000000  \n",
       "25%        0.000000      0.000000      9.000000      0.000000  \n",
       "50%        0.000000      0.000000     18.000000      0.000000  \n",
       "75%        0.000000      0.000000     40.000000      1.000000  \n",
       "max        1.000000     60.000000    399.000000     32.000000  "
      ]
     },
     "execution_count": 169,
     "metadata": {},
     "output_type": "execute_result"
    }
   ],
   "source": [
    "reddit.describe()"
   ]
  },
  {
   "cell_type": "code",
   "execution_count": 168,
   "metadata": {},
   "outputs": [
    {
     "ename": "ValueError",
     "evalue": "Input contains NaN, infinity or a value too large for dtype('float64').",
     "output_type": "error",
     "traceback": [
      "\u001b[0;31m---------------------------------------------------------------------------\u001b[0m",
      "\u001b[0;31mValueError\u001b[0m                                Traceback (most recent call last)",
      "\u001b[0;32m<ipython-input-168-382d91f0a264>\u001b[0m in \u001b[0;36m<module>\u001b[0;34m\u001b[0m\n\u001b[0;32m----> 1\u001b[0;31m \u001b[0mlm_model\u001b[0m\u001b[0;34m.\u001b[0m\u001b[0mfit\u001b[0m\u001b[0;34m(\u001b[0m\u001b[0mX_train\u001b[0m\u001b[0;34m,\u001b[0m \u001b[0my_train\u001b[0m\u001b[0;34m)\u001b[0m\u001b[0;34m\u001b[0m\u001b[0m\n\u001b[0m",
      "\u001b[0;32m/anaconda3/envs/ml/lib/python3.6/site-packages/sklearn/linear_model/base.py\u001b[0m in \u001b[0;36mfit\u001b[0;34m(self, X, y, sample_weight)\u001b[0m\n\u001b[1;32m    456\u001b[0m         \u001b[0mn_jobs_\u001b[0m \u001b[0;34m=\u001b[0m \u001b[0mself\u001b[0m\u001b[0;34m.\u001b[0m\u001b[0mn_jobs\u001b[0m\u001b[0;34m\u001b[0m\u001b[0m\n\u001b[1;32m    457\u001b[0m         X, y = check_X_y(X, y, accept_sparse=['csr', 'csc', 'coo'],\n\u001b[0;32m--> 458\u001b[0;31m                          y_numeric=True, multi_output=True)\n\u001b[0m\u001b[1;32m    459\u001b[0m \u001b[0;34m\u001b[0m\u001b[0m\n\u001b[1;32m    460\u001b[0m         \u001b[0;32mif\u001b[0m \u001b[0msample_weight\u001b[0m \u001b[0;32mis\u001b[0m \u001b[0;32mnot\u001b[0m \u001b[0;32mNone\u001b[0m \u001b[0;32mand\u001b[0m \u001b[0mnp\u001b[0m\u001b[0;34m.\u001b[0m\u001b[0matleast_1d\u001b[0m\u001b[0;34m(\u001b[0m\u001b[0msample_weight\u001b[0m\u001b[0;34m)\u001b[0m\u001b[0;34m.\u001b[0m\u001b[0mndim\u001b[0m \u001b[0;34m>\u001b[0m \u001b[0;36m1\u001b[0m\u001b[0;34m:\u001b[0m\u001b[0;34m\u001b[0m\u001b[0m\n",
      "\u001b[0;32m/anaconda3/envs/ml/lib/python3.6/site-packages/sklearn/utils/validation.py\u001b[0m in \u001b[0;36mcheck_X_y\u001b[0;34m(X, y, accept_sparse, accept_large_sparse, dtype, order, copy, force_all_finite, ensure_2d, allow_nd, multi_output, ensure_min_samples, ensure_min_features, y_numeric, warn_on_dtype, estimator)\u001b[0m\n\u001b[1;32m    745\u001b[0m                     \u001b[0mensure_min_features\u001b[0m\u001b[0;34m=\u001b[0m\u001b[0mensure_min_features\u001b[0m\u001b[0;34m,\u001b[0m\u001b[0;34m\u001b[0m\u001b[0m\n\u001b[1;32m    746\u001b[0m                     \u001b[0mwarn_on_dtype\u001b[0m\u001b[0;34m=\u001b[0m\u001b[0mwarn_on_dtype\u001b[0m\u001b[0;34m,\u001b[0m\u001b[0;34m\u001b[0m\u001b[0m\n\u001b[0;32m--> 747\u001b[0;31m                     estimator=estimator)\n\u001b[0m\u001b[1;32m    748\u001b[0m     \u001b[0;32mif\u001b[0m \u001b[0mmulti_output\u001b[0m\u001b[0;34m:\u001b[0m\u001b[0;34m\u001b[0m\u001b[0m\n\u001b[1;32m    749\u001b[0m         y = check_array(y, 'csr', force_all_finite=True, ensure_2d=False,\n",
      "\u001b[0;32m/anaconda3/envs/ml/lib/python3.6/site-packages/sklearn/utils/validation.py\u001b[0m in \u001b[0;36mcheck_array\u001b[0;34m(array, accept_sparse, accept_large_sparse, dtype, order, copy, force_all_finite, ensure_2d, allow_nd, ensure_min_samples, ensure_min_features, warn_on_dtype, estimator)\u001b[0m\n\u001b[1;32m    510\u001b[0m                                       \u001b[0mdtype\u001b[0m\u001b[0;34m=\u001b[0m\u001b[0mdtype\u001b[0m\u001b[0;34m,\u001b[0m \u001b[0mcopy\u001b[0m\u001b[0;34m=\u001b[0m\u001b[0mcopy\u001b[0m\u001b[0;34m,\u001b[0m\u001b[0;34m\u001b[0m\u001b[0m\n\u001b[1;32m    511\u001b[0m                                       \u001b[0mforce_all_finite\u001b[0m\u001b[0;34m=\u001b[0m\u001b[0mforce_all_finite\u001b[0m\u001b[0;34m,\u001b[0m\u001b[0;34m\u001b[0m\u001b[0m\n\u001b[0;32m--> 512\u001b[0;31m                                       accept_large_sparse=accept_large_sparse)\n\u001b[0m\u001b[1;32m    513\u001b[0m     \u001b[0;32melse\u001b[0m\u001b[0;34m:\u001b[0m\u001b[0;34m\u001b[0m\u001b[0m\n\u001b[1;32m    514\u001b[0m         \u001b[0;31m# If np.array(..) gives ComplexWarning, then we convert the warning\u001b[0m\u001b[0;34m\u001b[0m\u001b[0;34m\u001b[0m\u001b[0m\n",
      "\u001b[0;32m/anaconda3/envs/ml/lib/python3.6/site-packages/sklearn/utils/validation.py\u001b[0m in \u001b[0;36m_ensure_sparse_format\u001b[0;34m(spmatrix, accept_sparse, dtype, copy, force_all_finite, accept_large_sparse)\u001b[0m\n\u001b[1;32m    343\u001b[0m         \u001b[0;32melse\u001b[0m\u001b[0;34m:\u001b[0m\u001b[0;34m\u001b[0m\u001b[0m\n\u001b[1;32m    344\u001b[0m             _assert_all_finite(spmatrix.data,\n\u001b[0;32m--> 345\u001b[0;31m                                allow_nan=force_all_finite == 'allow-nan')\n\u001b[0m\u001b[1;32m    346\u001b[0m \u001b[0;34m\u001b[0m\u001b[0m\n\u001b[1;32m    347\u001b[0m     \u001b[0;32mreturn\u001b[0m \u001b[0mspmatrix\u001b[0m\u001b[0;34m\u001b[0m\u001b[0m\n",
      "\u001b[0;32m/anaconda3/envs/ml/lib/python3.6/site-packages/sklearn/utils/validation.py\u001b[0m in \u001b[0;36m_assert_all_finite\u001b[0;34m(X, allow_nan)\u001b[0m\n\u001b[1;32m     54\u001b[0m                 not allow_nan and not np.isfinite(X).all()):\n\u001b[1;32m     55\u001b[0m             \u001b[0mtype_err\u001b[0m \u001b[0;34m=\u001b[0m \u001b[0;34m'infinity'\u001b[0m \u001b[0;32mif\u001b[0m \u001b[0mallow_nan\u001b[0m \u001b[0;32melse\u001b[0m \u001b[0;34m'NaN, infinity'\u001b[0m\u001b[0;34m\u001b[0m\u001b[0m\n\u001b[0;32m---> 56\u001b[0;31m             \u001b[0;32mraise\u001b[0m \u001b[0mValueError\u001b[0m\u001b[0;34m(\u001b[0m\u001b[0mmsg_err\u001b[0m\u001b[0;34m.\u001b[0m\u001b[0mformat\u001b[0m\u001b[0;34m(\u001b[0m\u001b[0mtype_err\u001b[0m\u001b[0;34m,\u001b[0m \u001b[0mX\u001b[0m\u001b[0;34m.\u001b[0m\u001b[0mdtype\u001b[0m\u001b[0;34m)\u001b[0m\u001b[0;34m)\u001b[0m\u001b[0;34m\u001b[0m\u001b[0m\n\u001b[0m\u001b[1;32m     57\u001b[0m \u001b[0;34m\u001b[0m\u001b[0m\n\u001b[1;32m     58\u001b[0m \u001b[0;34m\u001b[0m\u001b[0m\n",
      "\u001b[0;31mValueError\u001b[0m: Input contains NaN, infinity or a value too large for dtype('float64')."
     ]
    }
   ],
   "source": [
    "lm_model.fit(X_train, y_train)"
   ]
  },
  {
   "cell_type": "code",
   "execution_count": null,
   "metadata": {},
   "outputs": [],
   "source": []
  }
 ],
 "metadata": {
  "kernelspec": {
   "display_name": "Python 3",
   "language": "python",
   "name": "python3"
  },
  "language_info": {
   "codemirror_mode": {
    "name": "ipython",
    "version": 3
   },
   "file_extension": ".py",
   "mimetype": "text/x-python",
   "name": "python",
   "nbconvert_exporter": "python",
   "pygments_lexer": "ipython3",
   "version": "3.6.6"
  }
 },
 "nbformat": 4,
 "nbformat_minor": 2
}
