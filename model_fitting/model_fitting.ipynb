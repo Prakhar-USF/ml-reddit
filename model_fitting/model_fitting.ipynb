{
 "cells": [
  {
   "cell_type": "markdown",
   "metadata": {},
   "source": [
    "## Importing Libraries"
   ]
  },
  {
   "cell_type": "code",
   "execution_count": 107,
   "metadata": {
    "ExecuteTime": {
     "end_time": "2018-12-06T05:34:39.734458Z",
     "start_time": "2018-12-06T05:34:39.700594Z"
    }
   },
   "outputs": [],
   "source": [
    "import pandas as pd\n",
    "import pandas as pd\n",
    "import numpy as np\n",
    "import matplotlib.pyplot as plt\n",
    "\n",
    "from scipy.sparse import hstack\n",
    "from sklearn.preprocessing import LabelBinarizer\n",
    "from sklearn.model_selection import train_test_split\n",
    "from sklearn.ensemble import RandomForestRegressor\n",
    "from sklearn.metrics import mean_squared_error, r2_score"
   ]
  },
  {
   "cell_type": "markdown",
   "metadata": {},
   "source": [
    "## Final touchups to the dataframe"
   ]
  },
  {
   "cell_type": "markdown",
   "metadata": {},
   "source": [
    "Reading dataframe processed by `preprocessing.ipynb` and `add_scraped_data.ipynb`"
   ]
  },
  {
   "cell_type": "code",
   "execution_count": 108,
   "metadata": {
    "ExecuteTime": {
     "end_time": "2018-12-06T05:34:52.956707Z",
     "start_time": "2018-12-06T05:34:41.656753Z"
    }
   },
   "outputs": [
    {
     "name": "stdout",
     "output_type": "stream",
     "text": [
      "1.5236726389121131 GB\n"
     ]
    }
   ],
   "source": [
    "df = pd.read_pickle('../Data/working_dataset_v2.pkl')\n",
    "print(f\"{df.memory_usage(deep=True).sum() / 1023.0**3} GB\")"
   ]
  },
  {
   "cell_type": "markdown",
   "metadata": {},
   "source": [
    "Parent cos angle is `None` for the roots, should be imputed to 1"
   ]
  },
  {
   "cell_type": "code",
   "execution_count": 109,
   "metadata": {
    "ExecuteTime": {
     "end_time": "2018-12-06T05:34:53.190043Z",
     "start_time": "2018-12-06T05:34:52.959853Z"
    }
   },
   "outputs": [],
   "source": [
    "df.loc[df.is_root, 'parent_cos_angle'] = 1"
   ]
  },
  {
   "cell_type": "markdown",
   "metadata": {},
   "source": [
    "Word count needs to be capped, let's see what the 99.5 percentile is:"
   ]
  },
  {
   "cell_type": "code",
   "execution_count": 110,
   "metadata": {
    "ExecuteTime": {
     "end_time": "2018-12-06T05:34:53.224605Z",
     "start_time": "2018-12-06T05:34:53.192445Z"
    }
   },
   "outputs": [
    {
     "data": {
      "text/plain": [
       "(2114, 285.0)"
      ]
     },
     "execution_count": 110,
     "metadata": {},
     "output_type": "execute_result"
    }
   ],
   "source": [
    "df.word_counts.max(), df.word_counts.quantile(0.995)"
   ]
  },
  {
   "cell_type": "markdown",
   "metadata": {},
   "source": [
    "Hence, let's remove the comments that have word counts more than 280, as these are probably outliers:"
   ]
  },
  {
   "cell_type": "code",
   "execution_count": 111,
   "metadata": {
    "ExecuteTime": {
     "end_time": "2018-12-06T05:34:54.175729Z",
     "start_time": "2018-12-06T05:34:53.228305Z"
    }
   },
   "outputs": [],
   "source": [
    "df = df[df['word_counts'] < 280]"
   ]
  },
  {
   "cell_type": "markdown",
   "metadata": {},
   "source": [
    "Observations with `removed` or `deleted` in body are not useful. Neither are the ones with emoty body:"
   ]
  },
  {
   "cell_type": "code",
   "execution_count": 112,
   "metadata": {
    "ExecuteTime": {
     "end_time": "2018-12-06T05:35:02.485702Z",
     "start_time": "2018-12-06T05:35:00.314326Z"
    }
   },
   "outputs": [],
   "source": [
    "df = df[df.body != '[deleted]']\n",
    "df = df[df.body != '[removed]']\n",
    "df = df[df.body != '']"
   ]
  },
  {
   "cell_type": "markdown",
   "metadata": {},
   "source": [
    "Also, let's remove the remaining NA values in the columns useful to us:"
   ]
  },
  {
   "cell_type": "code",
   "execution_count": 113,
   "metadata": {
    "ExecuteTime": {
     "end_time": "2018-12-06T05:35:08.079159Z",
     "start_time": "2018-12-06T05:35:06.448409Z"
    },
    "scrolled": true
   },
   "outputs": [],
   "source": [
    "df.reset_index(inplace=True, drop=True)\n",
    "\n",
    "df = df[~df.title_cos_angle.isna()]\n",
    "df = df[~df.parent_cos_angle.isna()]\n",
    "df = df[~df.comment_tree_root_score.isna()]"
   ]
  },
  {
   "cell_type": "markdown",
   "metadata": {},
   "source": [
    "## Transforming df to make it model ready"
   ]
  },
  {
   "cell_type": "markdown",
   "metadata": {},
   "source": [
    "So, the columns now are:"
   ]
  },
  {
   "cell_type": "code",
   "execution_count": 5,
   "metadata": {
    "ExecuteTime": {
     "end_time": "2018-12-05T09:54:23.126700Z",
     "start_time": "2018-12-05T09:54:23.111885Z"
    }
   },
   "outputs": [
    {
     "data": {
      "text/plain": [
       "Index(['created_utc', 'ups', 'subreddit_id', 'link_id', 'name', 'score_hidden',\n",
       "       'author_flair_css_class', 'author_flair_text', 'subreddit', 'gilded',\n",
       "       'downs', 'author', 'score', 'body', 'distinguished', 'edited',\n",
       "       'controversiality', 'parent_id', 'time', 'is_flair', 'is_flair_css',\n",
       "       'time_lapse', 'depth', 'parent_score', 'time_since_parent',\n",
       "       'comment_tree_root_id', 'comment_tree_root_score',\n",
       "       'time_since_comment_tree_root', 'linked_sr', 'linked_urls',\n",
       "       'no_of_linked_sr', 'no_of_linked_urls', 'subjectivity', 'is_edited',\n",
       "       'is_quoted', 'no_quoted', 'senti_neg', 'senti_neu', 'senti_pos',\n",
       "       'senti_comp', 'word_counts', 'url', 'num_comments', 'over_18',\n",
       "       'link_score', 'selftext', 'title', 'upvote_ratio', 'link_ups',\n",
       "       'link_created_time', 'time_since_link', 'is_root', 'is_selftext',\n",
       "       'parent_cos_angle', 'title_cos_angle'],\n",
       "      dtype='object')"
      ]
     },
     "execution_count": 5,
     "metadata": {},
     "output_type": "execute_result"
    }
   ],
   "source": [
    "df.columns"
   ]
  },
  {
   "cell_type": "markdown",
   "metadata": {},
   "source": [
    "We want to split these into three broad categories, and thus treat them accordingly:"
   ]
  },
  {
   "cell_type": "markdown",
   "metadata": {},
   "source": [
    "* **Categorical Variables** - `subreddit`, `distinguished`"
   ]
  },
  {
   "cell_type": "markdown",
   "metadata": {
    "ExecuteTime": {
     "end_time": "2018-12-06T05:45:40.278654Z",
     "start_time": "2018-12-06T05:45:40.272997Z"
    }
   },
   "source": [
    "* **Boolean Variables** - `over_18`, `is_edited`, `is_quoted`, `is_root`, `is_selftext`, `is_flair`, `is_flair_css`"
   ]
  },
  {
   "cell_type": "markdown",
   "metadata": {
    "ExecuteTime": {
     "end_time": "2018-12-06T05:45:20.363176Z",
     "start_time": "2018-12-06T05:45:20.349369Z"
    }
   },
   "source": [
    "* **Numeric Variables** - `gilded`, `controversiality`, `num_comments`, `link_score`, `upvote_ratio`, `link_ups`, `time_since_link`, `depth`, `no_of_linked_sr`, `no_of_linked_urls`, `parent_score`, `comment_tree_root_score`, `time_since_comment_tree_root`, `subjectivity`, `senti_neg`, `senti_pos`, `senti_neu`, `senti_comp`, `no_quoted`, `time_since_parent`, `word_counts`, `title_cos_angle`, `parent_cos_angle`"
   ]
  },
  {
   "cell_type": "code",
   "execution_count": 84,
   "metadata": {
    "ExecuteTime": {
     "end_time": "2018-12-06T03:14:45.379602Z",
     "start_time": "2018-12-06T03:14:45.371589Z"
    }
   },
   "outputs": [],
   "source": [
    "cat_cols = ['subreddit', 'distinguished']\n",
    "bool_cols = ['over_18', 'is_edited', 'is_quoted', 'is_root', 'is_selftext', 'is_flair', 'is_flair_css']\n",
    "\n",
    "numeric_cols = ['gilded', 'controversiality', 'num_comments', 'link_score',\n",
    "                'upvote_ratio', 'link_ups', 'time_since_link', 'depth',\n",
    "                'no_of_linked_sr', 'no_of_linked_urls', 'parent_score',\n",
    "                'comment_tree_root_score', 'time_since_comment_tree_root',\n",
    "                'subjectivity', 'senti_neg', 'senti_pos', 'senti_neu',\n",
    "                'senti_comp', 'no_quoted', 'time_since_parent', 'word_counts',\n",
    "                'title_cos_angle', 'parent_cos_angle']"
   ]
  },
  {
   "cell_type": "markdown",
   "metadata": {},
   "source": [
    "The variables above will be transformed as the following:\n",
    "* **Categorical columns:** Transformed using sklearn's `LabelBinarizer()`\n",
    "* **Boolean columns:** Transformed to integer\n",
    "* **Numeric columns:** Take them as is"
   ]
  },
  {
   "cell_type": "code",
   "execution_count": 116,
   "metadata": {
    "ExecuteTime": {
     "end_time": "2018-12-06T05:47:34.932726Z",
     "start_time": "2018-12-06T05:47:34.431299Z"
    }
   },
   "outputs": [
    {
     "data": {
      "text/plain": [
       "57"
      ]
     },
     "execution_count": 116,
     "metadata": {},
     "output_type": "execute_result"
    }
   ],
   "source": [
    "import gc\n",
    "gc.collect()"
   ]
  },
  {
   "cell_type": "code",
   "execution_count": 117,
   "metadata": {
    "ExecuteTime": {
     "end_time": "2018-12-06T05:47:51.475510Z",
     "start_time": "2018-12-06T05:47:51.471247Z"
    }
   },
   "outputs": [],
   "source": [
    "lb = LabelBinarizer()"
   ]
  },
  {
   "cell_type": "code",
   "execution_count": 87,
   "metadata": {
    "ExecuteTime": {
     "end_time": "2018-12-06T03:15:24.444850Z",
     "start_time": "2018-12-06T03:15:17.132012Z"
    }
   },
   "outputs": [],
   "source": [
    "cat = [lb.fit_transform(df[col]) for col in cat_cols]\n",
    "bol = [df[col].astype('int') for col in bool_cols]\n",
    "t = df.loc[:, numeric_cols].values\n",
    "final = [t] + bol + cat"
   ]
  },
  {
   "cell_type": "markdown",
   "metadata": {},
   "source": [
    "Now, we're finally in the situation to define our arrays `x` (Explanatory variables) and `y` (Target variable)"
   ]
  },
  {
   "cell_type": "code",
   "execution_count": 88,
   "metadata": {
    "ExecuteTime": {
     "end_time": "2018-12-06T03:15:25.817653Z",
     "start_time": "2018-12-06T03:15:24.448492Z"
    }
   },
   "outputs": [],
   "source": [
    "y = df.score.values\n",
    "x = np.column_stack(tuple(final))"
   ]
  },
  {
   "cell_type": "markdown",
   "metadata": {},
   "source": [
    "## Model Fitting"
   ]
  },
  {
   "cell_type": "markdown",
   "metadata": {},
   "source": [
    "First, we'll make a test-train split that we'll use for all our data:"
   ]
  },
  {
   "cell_type": "code",
   "execution_count": 90,
   "metadata": {
    "ExecuteTime": {
     "end_time": "2018-12-06T03:15:37.066652Z",
     "start_time": "2018-12-06T03:15:34.688360Z"
    }
   },
   "outputs": [],
   "source": [
    "X_train, X_test, y_train, y_test = train_test_split(X, Y, test_size=0.2,\n",
    "                                                    random_state=10)"
   ]
  },
  {
   "cell_type": "markdown",
   "metadata": {},
   "source": [
    "Let's start with fitting a plain Linear Regression model:"
   ]
  },
  {
   "cell_type": "code",
   "execution_count": null,
   "metadata": {},
   "outputs": [],
   "source": []
  },
  {
   "cell_type": "markdown",
   "metadata": {},
   "source": [
    "Let's try a Random Forest model and see how well it does:"
   ]
  },
  {
   "cell_type": "code",
   "execution_count": 91,
   "metadata": {
    "ExecuteTime": {
     "end_time": "2018-12-06T04:19:35.678109Z",
     "start_time": "2018-12-06T03:15:38.867295Z"
    }
   },
   "outputs": [
    {
     "data": {
      "text/plain": [
       "RandomForestRegressor(bootstrap=True, criterion='mse', max_depth=None,\n",
       "           max_features='auto', max_leaf_nodes=None,\n",
       "           min_impurity_decrease=0.0, min_impurity_split=None,\n",
       "           min_samples_leaf=10, min_samples_split=2,\n",
       "           min_weight_fraction_leaf=0.0, n_estimators=40, n_jobs=-1,\n",
       "           oob_score=False, random_state=None, verbose=0, warm_start=False)"
      ]
     },
     "execution_count": 91,
     "metadata": {},
     "output_type": "execute_result"
    }
   ],
   "source": [
    "rf = RandomForestRegressor(n_jobs=-1, n_estimators=40, min_samples_leaf=10)\n",
    "rf.fit(X_train, y_train)"
   ]
  },
  {
   "cell_type": "code",
   "execution_count": 92,
   "metadata": {
    "ExecuteTime": {
     "end_time": "2018-12-06T04:19:40.230246Z",
     "start_time": "2018-12-06T04:19:35.725364Z"
    }
   },
   "outputs": [
    {
     "name": "stdout",
     "output_type": "stream",
     "text": [
      "R-Sq: 0.7327\n",
      "RMSE: 36.12762572592019\n"
     ]
    }
   ],
   "source": [
    "y_predicted = rf.predict(X_test)\n",
    "r2 = r2_score(y_test, y_predicted)\n",
    "mse = mean_squared_error(y_test, y_predicted)\n",
    "print(f\"R-Sq: {r2:.4}\")\n",
    "print(f\"RMSE: {np.sqrt(mse)}\")"
   ]
  },
  {
   "cell_type": "code",
   "execution_count": 120,
   "metadata": {
    "ExecuteTime": {
     "end_time": "2018-12-06T06:07:59.390255Z",
     "start_time": "2018-12-06T06:07:53.068737Z"
    }
   },
   "outputs": [
    {
     "data": {
      "image/png": "[encoded data removed]",
      "text/plain": [
       "<Figure size 432x288 with 1 Axes>"
      ]
     },
     "metadata": {
      "needs_background": "light"
     },
     "output_type": "display_data"
    }
   ],
   "source": [
    "plot = plt.scatter(y_test,y_predicted)"
   ]
  },
  {
   "cell_type": "code",
   "execution_count": 95,
   "metadata": {
    "ExecuteTime": {
     "end_time": "2018-12-06T04:21:10.526997Z",
     "start_time": "2018-12-06T04:21:06.365343Z"
    }
   },
   "outputs": [
    {
     "data": {
      "image/png": "[encoded data removed]",
      "text/plain": [
       "<Figure size 432x288 with 1 Axes>"
      ]
     },
     "metadata": {
      "needs_background": "light"
     },
     "output_type": "display_data"
    }
   ],
   "source": [
    "plt.hist(abs(y_test - y_predicted), bins=400, range=[0, 500], log=True);"
   ]
  },
  {
   "cell_type": "markdown",
   "metadata": {},
   "source": [
    "Let's also check feature importance:"
   ]
  },
  {
   "cell_type": "code",
   "execution_count": 132,
   "metadata": {
    "ExecuteTime": {
     "end_time": "2018-12-06T06:30:50.136483Z",
     "start_time": "2018-12-06T06:30:49.883095Z"
    },
    "scrolled": true
   },
   "outputs": [
    {
     "name": "stdout",
     "output_type": "stream",
     "text": [
      "comment_tree_root_score       : 58.78%\n",
      "time_since_comment_tree_root  : 12.19%\n",
      "parent_score                  :  5.50%\n",
      "time_since_parent             :  5.08%\n",
      "depth                         :  4.45%\n",
      "gilded                        :  4.01%\n",
      "is_root                       :  1.74%\n",
      "time_since_link               :  1.32%\n",
      "num_comments                  :  0.82%\n",
      "title_cos_angle               :  0.76%\n",
      "parent_cos_angle              :  0.71%\n",
      "word_counts                   :  0.66%\n",
      "controversiality              :  0.54%\n",
      "upvote_ratio                  :  0.53%\n",
      "senti_comp                    :  0.48%\n",
      "senti_neu                     :  0.43%\n",
      "link_ups                      :  0.43%\n",
      "link_score                    :  0.39%\n",
      "senti_neg                     :  0.33%\n",
      "senti_pos                     :  0.32%\n",
      "is_edited                     :  0.10%\n",
      "subreddit_gaming              :  0.09%\n",
      "subreddit_worldnews           :  0.09%\n",
      "subjectivity                  :  0.07%\n",
      "subreddit_movies              :  0.06%\n",
      "is_selftext                   :  0.05%\n",
      "no_of_linked_urls             :  0.04%\n",
      "over_18                       :  0.01%\n",
      "no_quoted                     :  0.01%\n",
      "is_quoted                     :  0.01%\n",
      "subreddit_science             :  0.00%\n",
      "no_of_linked_sr               :  0.00%\n",
      "subreddit_food                :  0.00%\n",
      "is_flair_css                  :  0.00%\n",
      "is_flair                      :  0.00%\n",
      "distinguished_admin           :  0.00%\n",
      "distinguished_moderator       :  0.00%\n",
      "distinguished_user            :  0.00%\n",
      "\n",
      "Total importance: 100.00%\n"
     ]
    }
   ],
   "source": [
    "X_non_text = pd.get_dummies(df[cat_cols])\n",
    "\n",
    "feature_names = list(X_non_text.columns)+bool_cols+numeric_cols\n",
    "\n",
    "i = 0\n",
    "feature_importance = dict(zip(feature_names, rf.feature_importances_))\n",
    "for name, importance in sorted(feature_importance.items(), key=lambda x: x[1], reverse=True):\n",
    "    print(f\"{name:<30}: {importance:>6.2%}\")\n",
    "  \n",
    "print(f\"\\nTotal importance: {sum(feature_importance.values()):.2%}\")"
   ]
  },
  {
   "cell_type": "code",
   "execution_count": null,
   "metadata": {},
   "outputs": [],
   "source": []
  }
 ],
 "metadata": {
  "kernelspec": {
   "display_name": "Python 3",
   "language": "python",
   "name": "python3"
  },
  "language_info": {
   "codemirror_mode": {
    "name": "ipython",
    "version": 3
   },
   "file_extension": ".py",
   "mimetype": "text/x-python",
   "name": "python",
   "nbconvert_exporter": "python",
   "pygments_lexer": "ipython3",
   "version": "3.6.6"
  },
  "toc": {
   "base_numbering": 1,
   "nav_menu": {},
   "number_sections": true,
   "sideBar": true,
   "skip_h1_title": false,
   "title_cell": "Table of Contents",
   "title_sidebar": "Contents",
   "toc_cell": false,
   "toc_position": {},
   "toc_section_display": true,
   "toc_window_display": false
  }
 },
 "nbformat": 4,
 "nbformat_minor": 2
}
