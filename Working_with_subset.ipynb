{
 "cells": [
  {
   "cell_type": "code",
   "execution_count": 1,
   "metadata": {
    "ExecuteTime": {
     "end_time": "2018-12-01T20:55:43.636245Z",
     "start_time": "2018-12-01T20:55:42.964755Z"
    }
   },
   "outputs": [],
   "source": [
    "import re\n",
    "\n",
    "import pandas as pd\n",
    "import re, string\n",
    "import numpy as np\n",
    "import matplotlib.pyplot as plt\n",
    "\n",
    "from pathlib import Path\n",
    "from collections import Counter\n",
    "from multiprocessing import Pool\n",
    "from urllib.parse import urlparse\n",
    "\n",
    "%matplotlib inline"
   ]
  },
  {
   "cell_type": "code",
   "execution_count": 2,
   "metadata": {
    "ExecuteTime": {
     "end_time": "2018-12-01T20:55:45.256785Z",
     "start_time": "2018-12-01T20:55:44.354776Z"
    }
   },
   "outputs": [],
   "source": [
    "from sklearn.metrics import mean_squared_error, r2_score\n",
    "from sklearn.model_selection import train_test_split\n",
    "from sklearn.preprocessing import LabelBinarizer, MultiLabelBinarizer\n",
    "from sklearn.feature_extraction.text import TfidfVectorizer\n",
    "from sklearn.linear_model import LinearRegression"
   ]
  },
  {
   "cell_type": "code",
   "execution_count": 3,
   "metadata": {
    "ExecuteTime": {
     "end_time": "2018-12-01T19:17:46.500301Z",
     "start_time": "2018-12-01T19:17:46.497858Z"
    }
   },
   "outputs": [],
   "source": [
    "path = Path('Data/')"
   ]
  },
  {
   "cell_type": "code",
   "execution_count": 4,
   "metadata": {
    "ExecuteTime": {
     "end_time": "2018-12-01T19:18:02.357749Z",
     "start_time": "2018-12-01T19:17:55.466620Z"
    }
   },
   "outputs": [
    {
     "name": "stderr",
     "output_type": "stream",
     "text": [
      "/home/gokul/anaconda3/lib/python3.6/site-packages/pandas/io/feather_format.py:112: FutureWarning: `nthreads` argument is deprecated, pass `use_threads` instead\n",
      "  return feather.read_dataframe(path, nthreads=nthreads)\n"
     ]
    }
   ],
   "source": [
    "df = pd.read_feather('Data/May2015_subset.fthr')"
   ]
  },
  {
   "cell_type": "code",
   "execution_count": 5,
   "metadata": {
    "ExecuteTime": {
     "end_time": "2018-12-01T19:18:07.170000Z",
     "start_time": "2018-12-01T19:18:06.603244Z"
    }
   },
   "outputs": [
    {
     "data": {
      "text/plain": [
       "leagueoflegends      1223184\n",
       "funny                 745916\n",
       "news                  548287\n",
       "todayilearned         519910\n",
       "worldnews             490354\n",
       "movies                376601\n",
       "gaming                361265\n",
       "politics              244927\n",
       "explainlikeimfive     223148\n",
       "anime                 221118\n",
       "gameofthrones         191006\n",
       "motorcycles            89721\n",
       "science                89413\n",
       "conspiracy             78349\n",
       "tf2                    76549\n",
       "sex                    74912\n",
       "guns                   61234\n",
       "comicbooks             60303\n",
       "pokemon                59730\n",
       "food                   55231\n",
       "starcraft              53797\n",
       "askscience             53017\n",
       "mylittlepony           44119\n",
       "space                  42726\n",
       "skyrim                 40568\n",
       "circlejerk             30134\n",
       "facepalm               22562\n",
       "community              20635\n",
       "harrypotter            19998\n",
       "progresspics           13385\n",
       "drunk                  13027\n",
       "startrek               12275\n",
       "thewalkingdead         10357\n",
       "offbeat                10035\n",
       "lifehacks               7342\n",
       "doctorwho               6242\n",
       "breakingbad             3795\n",
       "Name: subreddit, dtype: int64"
      ]
     },
     "execution_count": 5,
     "metadata": {},
     "output_type": "execute_result"
    }
   ],
   "source": [
    "df.subreddit.value_counts()"
   ]
  },
  {
   "cell_type": "code",
   "execution_count": 6,
   "metadata": {
    "ExecuteTime": {
     "end_time": "2018-12-01T19:19:43.427106Z",
     "start_time": "2018-12-01T19:19:43.420091Z"
    }
   },
   "outputs": [],
   "source": [
    "subreddit_list = ['worldnews', 'movies', 'gaming', 'science', 'food']"
   ]
  },
  {
   "cell_type": "code",
   "execution_count": 7,
   "metadata": {
    "ExecuteTime": {
     "end_time": "2018-12-01T19:19:52.305344Z",
     "start_time": "2018-12-01T19:19:51.284908Z"
    }
   },
   "outputs": [],
   "source": [
    "df = df[df.subreddit.isin(subreddit_list)]"
   ]
  },
  {
   "cell_type": "code",
   "execution_count": 8,
   "metadata": {
    "ExecuteTime": {
     "end_time": "2018-12-01T19:19:56.805799Z",
     "start_time": "2018-12-01T19:19:56.796362Z"
    }
   },
   "outputs": [
    {
     "data": {
      "text/plain": [
       "(1372864, 22)"
      ]
     },
     "execution_count": 8,
     "metadata": {},
     "output_type": "execute_result"
    }
   ],
   "source": [
    "df.shape"
   ]
  },
  {
   "cell_type": "code",
   "execution_count": 10,
   "metadata": {},
   "outputs": [],
   "source": [
    "df['subreddit'] = df.subreddit.astype('category')\n",
    "df['subreddit_id'] = df.subreddit_id.astype('category')\n",
    "df['distinguished'] = df.distinguished.astype('category')\n",
    "df['link_id'] = df.link_id.astype('category')\n",
    "\n",
    "df.drop(['archived', 'retrieved_on', 'id',\n",
    "         'author_flair_css_class', 'author_flair_text',\n",
    "         'removal_reason'], axis=1, inplace=True)"
   ]
  },
  {
   "cell_type": "code",
   "execution_count": 9,
   "metadata": {
    "ExecuteTime": {
     "end_time": "2018-12-01T19:20:25.429894Z",
     "start_time": "2018-12-01T19:20:25.328333Z"
    }
   },
   "outputs": [],
   "source": [
    "df.distinguished.replace(to_replace=np.NaN, value='user', inplace=True)"
   ]
  },
  {
   "cell_type": "code",
   "execution_count": 10,
   "metadata": {
    "ExecuteTime": {
     "end_time": "2018-12-01T19:20:32.350794Z",
     "start_time": "2018-12-01T19:20:32.336213Z"
    }
   },
   "outputs": [
    {
     "data": {
      "text/plain": [
       "Index(['created_utc', 'ups', 'subreddit_id', 'link_id', 'name', 'score_hidden',\n",
       "       'author_flair_css_class', 'author_flair_text', 'subreddit', 'id',\n",
       "       'removal_reason', 'gilded', 'downs', 'archived', 'author', 'score',\n",
       "       'retrieved_on', 'body', 'distinguished', 'edited', 'controversiality',\n",
       "       'parent_id'],\n",
       "      dtype='object')"
      ]
     },
     "execution_count": 10,
     "metadata": {},
     "output_type": "execute_result"
    }
   ],
   "source": [
    "df.columns"
   ]
  },
  {
   "cell_type": "code",
   "execution_count": 11,
   "metadata": {
    "ExecuteTime": {
     "end_time": "2018-12-01T19:20:35.276530Z",
     "start_time": "2018-12-01T19:20:34.411328Z"
    }
   },
   "outputs": [
    {
     "data": {
      "text/plain": [
       "'1.1661081546498158 GB'"
      ]
     },
     "execution_count": 11,
     "metadata": {},
     "output_type": "execute_result"
    }
   ],
   "source": [
    "f\"{df.memory_usage(deep=True).sum() / 1023.0**3} GB\""
   ]
  },
  {
   "cell_type": "code",
   "execution_count": 12,
   "metadata": {
    "ExecuteTime": {
     "end_time": "2018-12-01T19:20:35.372144Z",
     "start_time": "2018-12-01T19:20:35.277835Z"
    }
   },
   "outputs": [],
   "source": [
    "assert len(df.subreddit_id.unique()) == len(df.subreddit.unique())"
   ]
  },
  {
   "cell_type": "code",
   "execution_count": 13,
   "metadata": {
    "ExecuteTime": {
     "end_time": "2018-12-01T19:20:36.175702Z",
     "start_time": "2018-12-01T19:20:36.052981Z"
    }
   },
   "outputs": [
    {
     "data": {
      "text/plain": [
       "worldnews    490354\n",
       "movies       376601\n",
       "gaming       361265\n",
       "science       89413\n",
       "food          55231\n",
       "Name: subreddit, dtype: int64"
      ]
     },
     "execution_count": 13,
     "metadata": {},
     "output_type": "execute_result"
    }
   ],
   "source": [
    "df.subreddit.value_counts()"
   ]
  },
  {
   "cell_type": "code",
   "execution_count": 14,
   "metadata": {
    "ExecuteTime": {
     "end_time": "2018-12-01T19:20:39.606234Z",
     "start_time": "2018-12-01T19:20:39.558548Z"
    }
   },
   "outputs": [],
   "source": [
    "df['time'] = pd.to_datetime(df.created_utc, unit='s')"
   ]
  },
  {
   "cell_type": "code",
   "execution_count": 15,
   "metadata": {
    "ExecuteTime": {
     "end_time": "2018-12-01T19:20:42.728332Z",
     "start_time": "2018-12-01T19:20:42.578624Z"
    }
   },
   "outputs": [],
   "source": [
    "df_first_comment = df[['link_id', 'time']].groupby(by=['link_id']).min()"
   ]
  },
  {
   "cell_type": "code",
   "execution_count": 16,
   "metadata": {
    "ExecuteTime": {
     "end_time": "2018-12-01T19:20:47.430510Z",
     "start_time": "2018-12-01T19:20:47.420322Z"
    }
   },
   "outputs": [
    {
     "data": {
      "text/plain": [
       "(46546, 1)"
      ]
     },
     "execution_count": 16,
     "metadata": {},
     "output_type": "execute_result"
    }
   ],
   "source": [
    "df_first_comment.shape"
   ]
  },
  {
   "cell_type": "code",
   "execution_count": 17,
   "metadata": {
    "ExecuteTime": {
     "end_time": "2018-12-01T19:20:57.421666Z",
     "start_time": "2018-12-01T19:20:56.807239Z"
    }
   },
   "outputs": [],
   "source": [
    "df_first_comment_dict = df_first_comment.to_dict('index')"
   ]
  },
  {
   "cell_type": "code",
   "execution_count": 18,
   "metadata": {
    "ExecuteTime": {
     "end_time": "2018-12-01T19:21:13.511936Z",
     "start_time": "2018-12-01T19:21:13.504664Z"
    }
   },
   "outputs": [],
   "source": [
    "def time_lapse(x):\n",
    "    return df_first_comment_dict[x]['time']"
   ]
  },
  {
   "cell_type": "code",
   "execution_count": 19,
   "metadata": {
    "ExecuteTime": {
     "end_time": "2018-12-01T19:21:23.425761Z",
     "start_time": "2018-12-01T19:21:22.970319Z"
    }
   },
   "outputs": [],
   "source": [
    "df['time_lapse'] = df.time - df.link_id.apply(time_lapse)"
   ]
  },
  {
   "cell_type": "code",
   "execution_count": 20,
   "metadata": {
    "ExecuteTime": {
     "end_time": "2018-12-01T19:21:33.183020Z",
     "start_time": "2018-12-01T19:21:25.842104Z"
    }
   },
   "outputs": [],
   "source": [
    "df.time_lapse = df.time_lapse.apply(lambda x: x.total_seconds())"
   ]
  },
  {
   "cell_type": "code",
   "execution_count": 21,
   "metadata": {
    "ExecuteTime": {
     "end_time": "2018-12-01T19:21:34.338029Z",
     "start_time": "2018-12-01T19:21:33.184346Z"
    }
   },
   "outputs": [
    {
     "data": {
      "image/png": "[encoded data removed]",
      "text/plain": [
       "<Figure size 432x288 with 1 Axes>"
      ]
     },
     "metadata": {},
     "output_type": "display_data"
    }
   ],
   "source": [
    "(df.time_lapse / (60*60)).hist(bins=800).set_xlim((0, 48));"
   ]
  },
  {
   "cell_type": "code",
   "execution_count": 3,
   "metadata": {
    "ExecuteTime": {
     "end_time": "2018-12-01T20:55:50.797974Z",
     "start_time": "2018-12-01T20:55:50.789239Z"
    }
   },
   "outputs": [],
   "source": [
    "def pd_to_dict(df, index='', column=''):\n",
    "    return pd.Series(df[column].values, index=df[index]).to_dict()"
   ]
  },
  {
   "cell_type": "code",
   "execution_count": 23,
   "metadata": {
    "ExecuteTime": {
     "end_time": "2018-12-01T19:21:52.721380Z",
     "start_time": "2018-12-01T19:21:52.339239Z"
    }
   },
   "outputs": [],
   "source": [
    "comment_to_parent_dict = pd_to_dict(df[['name', 'parent_id']],\n",
    "                                    index='name', column='parent_id')"
   ]
  },
  {
   "cell_type": "code",
   "execution_count": 24,
   "metadata": {
    "ExecuteTime": {
     "end_time": "2018-12-01T19:21:52.909770Z",
     "start_time": "2018-12-01T19:21:52.905407Z"
    }
   },
   "outputs": [
    {
     "data": {
      "text/plain": [
       "1372864"
      ]
     },
     "execution_count": 24,
     "metadata": {},
     "output_type": "execute_result"
    }
   ],
   "source": [
    "len(comment_to_parent_dict)"
   ]
  },
  {
   "cell_type": "code",
   "execution_count": 25,
   "metadata": {
    "ExecuteTime": {
     "end_time": "2018-12-01T19:21:57.978030Z",
     "start_time": "2018-12-01T19:21:57.968652Z"
    }
   },
   "outputs": [],
   "source": [
    "def get_depth(x):\n",
    "    counter = 0\n",
    "    temp = x\n",
    "    while True:\n",
    "        if temp[:3] == 't3_':\n",
    "            return counter\n",
    "        try:\n",
    "            temp = comment_to_parent_dict[temp]\n",
    "        except KeyError:\n",
    "            return np.nan\n",
    "        counter += 1"
   ]
  },
  {
   "cell_type": "code",
   "execution_count": 26,
   "metadata": {
    "ExecuteTime": {
     "end_time": "2018-12-01T19:22:00.642962Z",
     "start_time": "2018-12-01T19:21:58.788009Z"
    }
   },
   "outputs": [],
   "source": [
    "df['depth'] = df['name'].apply(get_depth)"
   ]
  },
  {
   "cell_type": "code",
   "execution_count": 27,
   "metadata": {
    "ExecuteTime": {
     "end_time": "2018-12-01T19:22:07.091665Z",
     "start_time": "2018-12-01T19:22:07.067516Z"
    }
   },
   "outputs": [
    {
     "data": {
      "text/plain": [
       "0.01057424479045266"
      ]
     },
     "execution_count": 27,
     "metadata": {},
     "output_type": "execute_result"
    }
   ],
   "source": [
    "df.depth.isna().sum() / float(df.shape[0])"
   ]
  },
  {
   "cell_type": "code",
   "execution_count": 28,
   "metadata": {
    "ExecuteTime": {
     "end_time": "2018-12-01T19:22:14.025883Z",
     "start_time": "2018-12-01T19:22:12.446019Z"
    }
   },
   "outputs": [],
   "source": [
    "df['linked_sr'] = df.body.apply(lambda x: re.findall(r\"/r/([^\\s/]+)\", x))"
   ]
  },
  {
   "cell_type": "code",
   "execution_count": 29,
   "metadata": {
    "ExecuteTime": {
     "end_time": "2018-12-01T19:22:15.203161Z",
     "start_time": "2018-12-01T19:22:14.027733Z"
    }
   },
   "outputs": [],
   "source": [
    "df['body'] = df.body.apply(lambda x: re.sub(r\"(/r/[^\\s/]+)\", '', x))"
   ]
  },
  {
   "cell_type": "code",
   "execution_count": 30,
   "metadata": {
    "ExecuteTime": {
     "end_time": "2018-12-01T19:22:15.209860Z",
     "start_time": "2018-12-01T19:22:15.206792Z"
    }
   },
   "outputs": [],
   "source": [
    "url_regex = r'http[s]?://(?:[a-zA-Z]|[0-9]|[$-_@.&+]|[!*\\(\\),]|(?:%[0-9a-fA-F][0-9a-fA-F]))+'"
   ]
  },
  {
   "cell_type": "code",
   "execution_count": 31,
   "metadata": {
    "ExecuteTime": {
     "end_time": "2018-12-01T19:22:15.893173Z",
     "start_time": "2018-12-01T19:22:15.882436Z"
    }
   },
   "outputs": [],
   "source": [
    "def get_domains(x):\n",
    "    x = x.replace(' = ', '=')\n",
    "    x = x.replace(' : ', ':')\n",
    "    x = x.replace(' / ', '?')\n",
    "    urls = re.findall(url_regex, x)\n",
    "    try:\n",
    "        domain_names = [urlparse(url).netloc.split('.')[-2] for url in urls]\n",
    "    except:\n",
    "        return []\n",
    "    return domain_names"
   ]
  },
  {
   "cell_type": "code",
   "execution_count": 32,
   "metadata": {
    "ExecuteTime": {
     "end_time": "2018-12-01T19:22:20.712086Z",
     "start_time": "2018-12-01T19:22:16.967915Z"
    }
   },
   "outputs": [],
   "source": [
    "df['linked_urls'] = df.body.apply(lambda x: get_domains(x))"
   ]
  },
  {
   "cell_type": "code",
   "execution_count": 33,
   "metadata": {
    "ExecuteTime": {
     "end_time": "2018-12-01T19:22:21.315276Z",
     "start_time": "2018-12-01T19:22:21.308396Z"
    }
   },
   "outputs": [],
   "source": [
    "def remove_urls(x):\n",
    "    x = x.replace(' = ', '=')\n",
    "    x = x.replace(' : ', ':')\n",
    "    x = x.replace(' / ', '?')\n",
    "    return re.sub(url_regex, '', x)"
   ]
  },
  {
   "cell_type": "code",
   "execution_count": 34,
   "metadata": {
    "ExecuteTime": {
     "end_time": "2018-12-01T19:22:25.890067Z",
     "start_time": "2018-12-01T19:22:23.172506Z"
    }
   },
   "outputs": [],
   "source": [
    "df['body'] = df.body.apply(lambda x: remove_urls(x))"
   ]
  },
  {
   "cell_type": "code",
   "execution_count": 35,
   "metadata": {
    "ExecuteTime": {
     "end_time": "2018-12-01T19:22:27.459073Z",
     "start_time": "2018-12-01T19:22:26.778059Z"
    }
   },
   "outputs": [],
   "source": [
    "df['no_of_linked_sr'] = df['linked_sr'].apply(lambda x: len(x))\n",
    "df['no_of_linked_urls'] = df['linked_urls'].apply(lambda x: len(x))"
   ]
  },
  {
   "cell_type": "code",
   "execution_count": 36,
   "metadata": {
    "ExecuteTime": {
     "end_time": "2018-12-01T19:22:28.248691Z",
     "start_time": "2018-12-01T19:22:28.136176Z"
    }
   },
   "outputs": [
    {
     "data": {
      "text/plain": [
       "35356"
      ]
     },
     "execution_count": 36,
     "metadata": {},
     "output_type": "execute_result"
    }
   ],
   "source": [
    "all_linked_sr = []\n",
    "for l in df.linked_sr.values:\n",
    "    all_linked_sr += l\n",
    "len(all_linked_sr)"
   ]
  },
  {
   "cell_type": "code",
   "execution_count": 37,
   "metadata": {
    "ExecuteTime": {
     "end_time": "2018-12-01T19:22:29.018936Z",
     "start_time": "2018-12-01T19:22:29.002100Z"
    }
   },
   "outputs": [
    {
     "data": {
      "text/plain": [
       "[('worldnews', 4946),\n",
       " ('worldnews)', 2796),\n",
       " ('worldnews.', 2489),\n",
       " ('help', 2387),\n",
       " ('worldnews](http:', 2387),\n",
       " ('food),', 1594),\n",
       " ('gaming', 1435),\n",
       " ('food)', 1283),\n",
       " ('movies', 1225),\n",
       " ('science', 1044),\n",
       " ('movies)', 467),\n",
       " ('EverythingScience.', 459),\n",
       " ('AutoModerator', 452),\n",
       " ('conspiracy', 241),\n",
       " ('science.', 206),\n",
       " ('movies.', 191),\n",
       " ('Movies', 176),\n",
       " ('food', 174),\n",
       " ('nottheonion', 156),\n",
       " ('science)', 136)]"
      ]
     },
     "execution_count": 37,
     "metadata": {},
     "output_type": "execute_result"
    }
   ],
   "source": [
    "top_sr_links = Counter(all_linked_sr)\n",
    "top_sr_links.most_common(20)"
   ]
  },
  {
   "cell_type": "markdown",
   "metadata": {},
   "source": [
    "Should not probably use the actual names."
   ]
  },
  {
   "cell_type": "code",
   "execution_count": 38,
   "metadata": {
    "ExecuteTime": {
     "end_time": "2018-12-01T19:22:31.607240Z",
     "start_time": "2018-12-01T19:22:31.484151Z"
    }
   },
   "outputs": [
    {
     "data": {
      "text/plain": [
       "106993"
      ]
     },
     "execution_count": 38,
     "metadata": {},
     "output_type": "execute_result"
    }
   ],
   "source": [
    "all_linked_urls = []\n",
    "for l in df.linked_urls.values:\n",
    "    all_linked_urls += l\n",
    "len(all_linked_urls)"
   ]
  },
  {
   "cell_type": "code",
   "execution_count": 39,
   "metadata": {
    "ExecuteTime": {
     "end_time": "2018-12-01T19:22:32.478726Z",
     "start_time": "2018-12-01T19:22:32.457672Z"
    }
   },
   "outputs": [
    {
     "data": {
      "text/plain": [
       "[('reddit', 20232),\n",
       " ('youtube', 14216),\n",
       " ('wikipedia', 11078),\n",
       " ('imgur', 8154),\n",
       " ('youtu', 3616),\n",
       " ('redditblog', 2393),\n",
       " ('imdb', 2132),\n",
       " ('co', 1811),\n",
       " ('theguardian', 823),\n",
       " ('google', 733),\n",
       " ('github', 606),\n",
       " ('wordpress', 556),\n",
       " ('nytimes', 508),\n",
       " ('twitter', 432),\n",
       " ('amazon', 425)]"
      ]
     },
     "execution_count": 39,
     "metadata": {},
     "output_type": "execute_result"
    }
   ],
   "source": [
    "top_url_links = Counter(all_linked_urls)\n",
    "top_url_links.most_common(15)"
   ]
  },
  {
   "cell_type": "code",
   "execution_count": 40,
   "metadata": {
    "ExecuteTime": {
     "end_time": "2018-12-01T19:22:33.644095Z",
     "start_time": "2018-12-01T19:22:33.627738Z"
    }
   },
   "outputs": [],
   "source": [
    "allowed_urls = [i[0] for i in top_url_links.most_common(15)]"
   ]
  },
  {
   "cell_type": "code",
   "execution_count": 41,
   "metadata": {
    "ExecuteTime": {
     "end_time": "2018-12-01T19:22:35.466028Z",
     "start_time": "2018-12-01T19:22:35.463261Z"
    }
   },
   "outputs": [],
   "source": [
    "def remove_urls(x):\n",
    "    y = []\n",
    "    for i in x:\n",
    "        if i in allowed_urls:\n",
    "            y += [i]\n",
    "    return y"
   ]
  },
  {
   "cell_type": "code",
   "execution_count": 42,
   "metadata": {
    "ExecuteTime": {
     "end_time": "2018-12-01T19:22:37.359635Z",
     "start_time": "2018-12-01T19:22:36.633131Z"
    }
   },
   "outputs": [],
   "source": [
    "df['a_linked_urls'] = df['linked_urls'].apply(lambda x: remove_urls(x))"
   ]
  },
  {
   "cell_type": "markdown",
   "metadata": {},
   "source": [
    "Small I doesn't work for subjectivity"
   ]
  },
  {
   "cell_type": "code",
   "execution_count": 43,
   "metadata": {
    "ExecuteTime": {
     "end_time": "2018-12-01T19:22:46.455150Z",
     "start_time": "2018-12-01T19:22:45.672782Z"
    }
   },
   "outputs": [],
   "source": [
    "df['subjectivity'] = df['body'].str.count('I ')"
   ]
  },
  {
   "cell_type": "code",
   "execution_count": 44,
   "metadata": {
    "ExecuteTime": {
     "end_time": "2018-12-01T19:22:55.533233Z",
     "start_time": "2018-12-01T19:22:55.339493Z"
    }
   },
   "outputs": [],
   "source": [
    "df['is_edited'] = df.edited.apply(lambda x: x > 0)"
   ]
  },
  {
   "cell_type": "code",
   "execution_count": 45,
   "metadata": {
    "ExecuteTime": {
     "end_time": "2018-12-01T19:22:57.116281Z",
     "start_time": "2018-12-01T19:22:56.072134Z"
    }
   },
   "outputs": [
    {
     "data": {
      "text/plain": [
       "'1.4112581959444024 GB'"
      ]
     },
     "execution_count": 45,
     "metadata": {},
     "output_type": "execute_result"
    }
   ],
   "source": [
    "f\"{df.memory_usage(deep=True).sum() / 1023.0**3} GB\""
   ]
  },
  {
   "cell_type": "markdown",
   "metadata": {},
   "source": [
    "To check if the comment is quotes another comment."
   ]
  },
  {
   "cell_type": "code",
   "execution_count": 46,
   "metadata": {
    "ExecuteTime": {
     "end_time": "2018-12-01T19:23:02.997652Z",
     "start_time": "2018-12-01T19:23:02.389399Z"
    }
   },
   "outputs": [],
   "source": [
    "# if the comment is qouted\n",
    "df['is_quoted'] = df.body.str.contains('&gt;')"
   ]
  },
  {
   "cell_type": "code",
   "execution_count": 47,
   "metadata": {
    "ExecuteTime": {
     "end_time": "2018-12-01T19:23:08.839675Z",
     "start_time": "2018-12-01T19:23:08.125667Z"
    }
   },
   "outputs": [],
   "source": [
    "df['no_quoted'] = df.body.str.count('&gt;')"
   ]
  },
  {
   "cell_type": "code",
   "execution_count": 48,
   "metadata": {
    "ExecuteTime": {
     "end_time": "2018-12-01T19:23:12.207707Z",
     "start_time": "2018-12-01T19:23:11.263185Z"
    }
   },
   "outputs": [],
   "source": [
    "comment_to_score = pd_to_dict(df[['name', 'score']],\n",
    "                              index='name', column='score')"
   ]
  },
  {
   "cell_type": "code",
   "execution_count": 49,
   "metadata": {
    "ExecuteTime": {
     "end_time": "2018-12-01T19:23:13.761477Z",
     "start_time": "2018-12-01T19:23:13.754324Z"
    }
   },
   "outputs": [],
   "source": [
    "def get_parent_score(x):\n",
    "    try:\n",
    "        return comment_to_score[x]\n",
    "    except:\n",
    "        return 0"
   ]
  },
  {
   "cell_type": "code",
   "execution_count": 50,
   "metadata": {
    "ExecuteTime": {
     "end_time": "2018-12-01T19:23:23.027785Z",
     "start_time": "2018-12-01T19:23:22.252263Z"
    }
   },
   "outputs": [],
   "source": [
    "df['parent_score'] = df.parent_id.apply(lambda x: get_parent_score(x))"
   ]
  },
  {
   "cell_type": "code",
   "execution_count": 51,
   "metadata": {
    "ExecuteTime": {
     "end_time": "2018-12-01T19:23:33.295568Z",
     "start_time": "2018-12-01T19:23:29.688873Z"
    }
   },
   "outputs": [],
   "source": [
    "comment_to_time = pd_to_dict(df[['name', 'time']],\n",
    "                              index='name', column='time')"
   ]
  },
  {
   "cell_type": "code",
   "execution_count": 52,
   "metadata": {
    "ExecuteTime": {
     "end_time": "2018-12-01T19:23:33.300604Z",
     "start_time": "2018-12-01T19:23:33.297697Z"
    }
   },
   "outputs": [],
   "source": [
    "def get_time_since_parent(pi):\n",
    "    try:\n",
    "        return comment_to_time[pi]\n",
    "    except:\n",
    "        return np.nan"
   ]
  },
  {
   "cell_type": "code",
   "execution_count": 53,
   "metadata": {
    "ExecuteTime": {
     "end_time": "2018-12-01T19:23:37.761483Z",
     "start_time": "2018-12-01T19:23:36.922312Z"
    }
   },
   "outputs": [],
   "source": [
    "df['time_since_parent'] = df.parent_id.apply(get_time_since_parent)"
   ]
  },
  {
   "cell_type": "code",
   "execution_count": 54,
   "metadata": {
    "ExecuteTime": {
     "end_time": "2018-12-01T19:23:39.319110Z",
     "start_time": "2018-12-01T19:23:39.227727Z"
    }
   },
   "outputs": [],
   "source": [
    "df.loc[df.time_since_parent.isna(), 'time_since_parent'] = df.time"
   ]
  },
  {
   "cell_type": "code",
   "execution_count": 55,
   "metadata": {
    "ExecuteTime": {
     "end_time": "2018-12-01T19:23:40.916506Z",
     "start_time": "2018-12-01T19:23:40.902980Z"
    }
   },
   "outputs": [],
   "source": [
    "df.time_since_parent = df.time - df.time_since_parent"
   ]
  },
  {
   "cell_type": "code",
   "execution_count": 56,
   "metadata": {
    "ExecuteTime": {
     "end_time": "2018-12-01T19:23:49.418215Z",
     "start_time": "2018-12-01T19:23:41.939601Z"
    }
   },
   "outputs": [],
   "source": [
    "df.time_since_parent = df.time_since_parent.apply(lambda x: x.total_seconds())"
   ]
  },
  {
   "cell_type": "code",
   "execution_count": 57,
   "metadata": {
    "ExecuteTime": {
     "end_time": "2018-12-01T19:24:02.367051Z",
     "start_time": "2018-12-01T19:24:02.200614Z"
    }
   },
   "outputs": [
    {
     "name": "stderr",
     "output_type": "stream",
     "text": [
      "/home/gokul/anaconda3/lib/python3.6/site-packages/requests/__init__.py:80: RequestsDependencyWarning: urllib3 (1.24.1) or chardet (3.0.4) doesn't match a supported version!\n",
      "  RequestsDependencyWarning)\n"
     ]
    }
   ],
   "source": [
    "from vaderSentiment.vaderSentiment import SentimentIntensityAnalyzer"
   ]
  },
  {
   "cell_type": "code",
   "execution_count": 58,
   "metadata": {
    "ExecuteTime": {
     "end_time": "2018-12-01T19:24:04.633476Z",
     "start_time": "2018-12-01T19:24:04.594504Z"
    }
   },
   "outputs": [],
   "source": [
    "analyser = SentimentIntensityAnalyzer()"
   ]
  },
  {
   "cell_type": "code",
   "execution_count": 59,
   "metadata": {
    "ExecuteTime": {
     "end_time": "2018-12-01T19:24:05.342558Z",
     "start_time": "2018-12-01T19:24:05.334201Z"
    }
   },
   "outputs": [],
   "source": [
    "def get_sentiment(x):\n",
    "    return analyser.polarity_scores(x)"
   ]
  },
  {
   "cell_type": "code",
   "execution_count": 4,
   "metadata": {
    "ExecuteTime": {
     "end_time": "2018-12-01T20:56:18.305543Z",
     "start_time": "2018-12-01T20:56:18.297526Z"
    }
   },
   "outputs": [],
   "source": [
    "num_partitions = 100\n",
    "num_cores = 6"
   ]
  },
  {
   "cell_type": "code",
   "execution_count": 5,
   "metadata": {
    "ExecuteTime": {
     "end_time": "2018-12-01T20:56:18.743143Z",
     "start_time": "2018-12-01T20:56:18.739282Z"
    }
   },
   "outputs": [],
   "source": [
    "def parallelize_dataframe(df, func):\n",
    "    df_split = np.array_split(df, num_partitions)\n",
    "    pool = Pool(num_cores)\n",
    "    df = pd.concat(pool.map(func, df_split))\n",
    "    pool.close()\n",
    "    pool.join()\n",
    "    return df"
   ]
  },
  {
   "cell_type": "code",
   "execution_count": 62,
   "metadata": {
    "ExecuteTime": {
     "end_time": "2018-12-01T19:24:19.368467Z",
     "start_time": "2018-12-01T19:24:19.365835Z"
    }
   },
   "outputs": [],
   "source": [
    "def wrapper_get_sentiment(df):\n",
    "    df['sentiment'] = df['body'].apply(get_sentiment)\n",
    "    return df"
   ]
  },
  {
   "cell_type": "code",
   "execution_count": 63,
   "metadata": {
    "ExecuteTime": {
     "end_time": "2018-12-01T19:28:35.069964Z",
     "start_time": "2018-12-01T19:24:23.182902Z"
    }
   },
   "outputs": [],
   "source": [
    "sentiment = parallelize_dataframe(df['body'].to_frame(), wrapper_get_sentiment)"
   ]
  },
  {
   "cell_type": "code",
   "execution_count": 64,
   "metadata": {
    "ExecuteTime": {
     "end_time": "2018-12-01T19:28:37.214265Z",
     "start_time": "2018-12-01T19:28:37.133086Z"
    }
   },
   "outputs": [],
   "source": [
    "sentiment.drop(['body'], axis=1, inplace=True)"
   ]
  },
  {
   "cell_type": "code",
   "execution_count": 65,
   "metadata": {
    "ExecuteTime": {
     "end_time": "2018-12-01T19:28:42.734311Z",
     "start_time": "2018-12-01T19:28:41.724673Z"
    }
   },
   "outputs": [],
   "source": [
    "df['senti_neg'] = sentiment['sentiment'].apply(lambda x: x['neg'])\n",
    "df['senti_neu'] = sentiment['sentiment'].apply(lambda x: x['neu'])\n",
    "df['senti_pos'] = sentiment['sentiment'].apply(lambda x: x['pos'])\n",
    "df['senti_comp'] = sentiment['sentiment'].apply(lambda x: x['compound'])"
   ]
  },
  {
   "cell_type": "code",
   "execution_count": 66,
   "metadata": {
    "ExecuteTime": {
     "end_time": "2018-12-01T19:28:43.355904Z",
     "start_time": "2018-12-01T19:28:43.242978Z"
    }
   },
   "outputs": [],
   "source": [
    "del sentiment"
   ]
  },
  {
   "cell_type": "code",
   "execution_count": 95,
   "metadata": {},
   "outputs": [],
   "source": [
    "df.to_pickle('Data/working_sub.pkl')"
   ]
  },
  {
   "cell_type": "code",
   "execution_count": 79,
   "metadata": {
    "ExecuteTime": {
     "end_time": "2018-12-01T22:00:52.091868Z",
     "start_time": "2018-12-01T22:00:47.927797Z"
    }
   },
   "outputs": [],
   "source": [
    "df = pd.read_pickle('Data/working_sub.pkl')"
   ]
  },
  {
   "cell_type": "code",
   "execution_count": 86,
   "metadata": {
    "ExecuteTime": {
     "end_time": "2018-12-01T22:43:40.526647Z",
     "start_time": "2018-12-01T22:43:39.839778Z"
    }
   },
   "outputs": [
    {
     "data": {
      "text/plain": [
       "(45400,)"
      ]
     },
     "execution_count": 86,
     "metadata": {},
     "output_type": "execute_result"
    }
   ],
   "source": [
    "df.parent_id[df.parent_id.str.startswith('t3_')].unique().shape"
   ]
  },
  {
   "cell_type": "code",
   "execution_count": 7,
   "metadata": {
    "ExecuteTime": {
     "end_time": "2018-12-01T20:56:32.388017Z",
     "start_time": "2018-12-01T20:56:32.382015Z"
    }
   },
   "outputs": [
    {
     "data": {
      "text/plain": [
       "(1372864, 34)"
      ]
     },
     "execution_count": 7,
     "metadata": {},
     "output_type": "execute_result"
    }
   ],
   "source": [
    "df.shape"
   ]
  },
  {
   "cell_type": "code",
   "execution_count": 7,
   "metadata": {},
   "outputs": [],
   "source": [
    "# sub_punct = lambda x: re.sub(r'['+string.punctuation+']+', ' ', x)\n",
    "# df['body'] = df['body'].apply(sub_punct)"
   ]
  },
  {
   "cell_type": "code",
   "execution_count": 8,
   "metadata": {
    "ExecuteTime": {
     "end_time": "2018-12-01T20:56:46.310596Z",
     "start_time": "2018-12-01T20:56:46.306463Z"
    }
   },
   "outputs": [],
   "source": [
    "def get_word_count(df):\n",
    "    df['word_count'] = df['body'].apply(lambda x: len(x.split()))\n",
    "    return df"
   ]
  },
  {
   "cell_type": "code",
   "execution_count": 9,
   "metadata": {
    "ExecuteTime": {
     "end_time": "2018-12-01T20:56:49.364748Z",
     "start_time": "2018-12-01T20:56:46.902834Z"
    }
   },
   "outputs": [],
   "source": [
    "word_counts = parallelize_dataframe(df['body'].to_frame(), get_word_count)\n",
    "df['word_counts'] = word_counts.word_count"
   ]
  },
  {
   "cell_type": "code",
   "execution_count": 10,
   "metadata": {
    "ExecuteTime": {
     "end_time": "2018-12-01T20:56:49.436948Z",
     "start_time": "2018-12-01T20:56:49.367488Z"
    }
   },
   "outputs": [],
   "source": [
    "del word_counts"
   ]
  },
  {
   "cell_type": "code",
   "execution_count": 11,
   "metadata": {
    "ExecuteTime": {
     "end_time": "2018-12-01T20:56:49.443169Z",
     "start_time": "2018-12-01T20:56:49.439532Z"
    }
   },
   "outputs": [],
   "source": [
    "import string"
   ]
  },
  {
   "cell_type": "code",
   "execution_count": 12,
   "metadata": {
    "ExecuteTime": {
     "end_time": "2018-12-01T20:56:49.450307Z",
     "start_time": "2018-12-01T20:56:49.446660Z"
    }
   },
   "outputs": [],
   "source": [
    "from sklearn.feature_extraction.stop_words import ENGLISH_STOP_WORDS"
   ]
  },
  {
   "cell_type": "code",
   "execution_count": 13,
   "metadata": {
    "ExecuteTime": {
     "end_time": "2018-12-01T20:56:54.859454Z",
     "start_time": "2018-12-01T20:56:54.855936Z"
    }
   },
   "outputs": [],
   "source": [
    "table = str.maketrans({key: ' ' for key in string.digits + string.punctuation + '\\t\\n\\r'})"
   ]
  },
  {
   "cell_type": "code",
   "execution_count": 18,
   "metadata": {
    "ExecuteTime": {
     "end_time": "2018-12-01T20:57:54.754841Z",
     "start_time": "2018-12-01T20:57:54.749614Z"
    }
   },
   "outputs": [],
   "source": [
    "def load_glove(filename):\n",
    "    glove = {}\n",
    "    with open(filename, 'r') as read_file:\n",
    "        for line in read_file:\n",
    "            key = line.split(' ')[0]\n",
    "            vector = np.array(line.split(' ')[1:], dtype=np.float)\n",
    "            glove[key] = vector\n",
    "\n",
    "    return glove"
   ]
  },
  {
   "cell_type": "code",
   "execution_count": 14,
   "metadata": {
    "ExecuteTime": {
     "end_time": "2018-12-01T20:57:16.457522Z",
     "start_time": "2018-12-01T20:57:16.452853Z"
    }
   },
   "outputs": [],
   "source": [
    "def words(text):\n",
    "    text = text.lower()\n",
    "    text = text.translate(table).strip()\n",
    "    terms = text.split(' ')\n",
    "    terms = [t for t in terms if len(t) > 2]\n",
    "    terms = [t for t in terms if t not in ENGLISH_STOP_WORDS]\n",
    "\n",
    "    return terms"
   ]
  },
  {
   "cell_type": "code",
   "execution_count": 16,
   "metadata": {
    "ExecuteTime": {
     "end_time": "2018-12-01T20:57:47.832946Z",
     "start_time": "2018-12-01T20:57:47.827227Z"
    }
   },
   "outputs": [],
   "source": [
    "def get_doc2vec(text, gloves):\n",
    "    count_words = 0\n",
    "    final_vector = 0\n",
    "    terms = words(text)\n",
    "\n",
    "    for t in terms:\n",
    "        if t in gloves.keys():\n",
    "            count_words += 1\n",
    "            final_vector += gloves[t]\n",
    "    if count_words != 0:\n",
    "        return final_vector / count_words\n",
    "    else:\n",
    "        return None"
   ]
  },
  {
   "cell_type": "code",
   "execution_count": 19,
   "metadata": {
    "ExecuteTime": {
     "end_time": "2018-12-01T20:59:38.550804Z",
     "start_time": "2018-12-01T20:57:58.718797Z"
    }
   },
   "outputs": [],
   "source": [
    "# gloves = load_glove('Data/glove.6B.50d.txt')\n",
    "gloves = load_glove('Data/glove.twitter.27B.200d.txt')"
   ]
  },
  {
   "cell_type": "code",
   "execution_count": 20,
   "metadata": {
    "ExecuteTime": {
     "end_time": "2018-12-01T20:59:38.556259Z",
     "start_time": "2018-12-01T20:59:38.553066Z"
    }
   },
   "outputs": [],
   "source": [
    "def wrapper_get_centroid(df):\n",
    "    df['doc2vec'] = df['body'].apply(lambda x: get_doc2vec(x, gloves))\n",
    "    return df"
   ]
  },
  {
   "cell_type": "code",
   "execution_count": 21,
   "metadata": {
    "ExecuteTime": {
     "end_time": "2018-12-01T21:00:06.999796Z",
     "start_time": "2018-12-01T20:59:40.296846Z"
    }
   },
   "outputs": [],
   "source": [
    "doc2vec = parallelize_dataframe(df['body'].to_frame(), wrapper_get_centroid)"
   ]
  },
  {
   "cell_type": "code",
   "execution_count": 22,
   "metadata": {
    "ExecuteTime": {
     "end_time": "2018-12-01T21:00:20.278233Z",
     "start_time": "2018-12-01T21:00:20.267892Z"
    }
   },
   "outputs": [],
   "source": [
    "doc2vec = doc2vec.doc2vec.values"
   ]
  },
  {
   "cell_type": "code",
   "execution_count": 23,
   "metadata": {
    "ExecuteTime": {
     "end_time": "2018-12-01T21:00:21.323669Z",
     "start_time": "2018-12-01T21:00:21.302905Z"
    }
   },
   "outputs": [],
   "source": [
    "df['doc2vec'] = doc2vec"
   ]
  },
  {
   "cell_type": "code",
   "execution_count": 83,
   "metadata": {
    "ExecuteTime": {
     "end_time": "2018-12-01T19:48:40.373779Z",
     "start_time": "2018-12-01T19:48:38.422239Z"
    }
   },
   "outputs": [],
   "source": [
    "del gloves"
   ]
  },
  {
   "cell_type": "code",
   "execution_count": 84,
   "metadata": {
    "ExecuteTime": {
     "end_time": "2018-12-01T19:48:40.458023Z",
     "start_time": "2018-12-01T19:48:40.378182Z"
    }
   },
   "outputs": [],
   "source": [
    "del doc2vec"
   ]
  },
  {
   "cell_type": "code",
   "execution_count": 24,
   "metadata": {
    "ExecuteTime": {
     "end_time": "2018-12-01T21:00:30.015342Z",
     "start_time": "2018-12-01T21:00:27.875675Z"
    }
   },
   "outputs": [],
   "source": [
    "comment_to_body = pd_to_dict(df[['name', 'body']],\n",
    "                                index='name', column='body')\n",
    "comment_to_parent = pd_to_dict(df[['name', 'parent_id']],\n",
    "                                index='name', column='parent_id')"
   ]
  },
  {
   "cell_type": "code",
   "execution_count": 25,
   "metadata": {
    "ExecuteTime": {
     "end_time": "2018-12-01T21:00:36.445189Z",
     "start_time": "2018-12-01T21:00:36.439983Z"
    }
   },
   "outputs": [],
   "source": [
    "def get_cosine_angle(cmnt_id):\n",
    "    child = comment_to_body[cmnt_id]\n",
    "    try:\n",
    "        parent = comment_to_body[comment_to_parent[cmnt_id]]\n",
    "    except KeyError:\n",
    "        return None\n",
    "    child = get_doc2vec(child, gloves)\n",
    "    parent = get_doc2vec(parent, gloves)\n",
    "    if child is None:\n",
    "        return None\n",
    "    if parent is None:\n",
    "        return None\n",
    "    return child.dot(parent)"
   ]
  },
  {
   "cell_type": "code",
   "execution_count": 26,
   "metadata": {
    "ExecuteTime": {
     "end_time": "2018-12-01T21:00:37.421212Z",
     "start_time": "2018-12-01T21:00:37.418234Z"
    }
   },
   "outputs": [],
   "source": [
    "import gc"
   ]
  },
  {
   "cell_type": "code",
   "execution_count": 27,
   "metadata": {
    "ExecuteTime": {
     "end_time": "2018-12-01T21:00:38.203619Z",
     "start_time": "2018-12-01T21:00:37.962883Z"
    }
   },
   "outputs": [
    {
     "data": {
      "text/plain": [
       "42"
      ]
     },
     "execution_count": 27,
     "metadata": {},
     "output_type": "execute_result"
    }
   ],
   "source": [
    "gc.collect()"
   ]
  },
  {
   "cell_type": "code",
   "execution_count": 28,
   "metadata": {
    "ExecuteTime": {
     "end_time": "2018-12-01T21:00:39.171156Z",
     "start_time": "2018-12-01T21:00:39.166407Z"
    }
   },
   "outputs": [
    {
     "data": {
      "text/plain": [
       "array(['t1_crrbdt2', 't1_crrbdtt', 't1_crrbdvn', 't1_crrbdxj',\n",
       "       't1_crrbdxr', 't1_crrbebf', 't1_crrbecs', 't1_crrbedn',\n",
       "       't1_crrbefm', 't1_crrbeft'], dtype=object)"
      ]
     },
     "execution_count": 28,
     "metadata": {},
     "output_type": "execute_result"
    }
   ],
   "source": [
    "df.name.values[-10:]"
   ]
  },
  {
   "cell_type": "code",
   "execution_count": 30,
   "metadata": {
    "ExecuteTime": {
     "end_time": "2018-12-01T21:00:43.979239Z",
     "start_time": "2018-12-01T21:00:43.968331Z"
    }
   },
   "outputs": [
    {
     "data": {
      "text/plain": [
       "12.462472865496432"
      ]
     },
     "execution_count": 30,
     "metadata": {},
     "output_type": "execute_result"
    }
   ],
   "source": [
    "get_cosine_angle('t1_crrbdvn')"
   ]
  },
  {
   "cell_type": "code",
   "execution_count": 31,
   "metadata": {
    "ExecuteTime": {
     "end_time": "2018-12-01T21:00:45.801484Z",
     "start_time": "2018-12-01T21:00:45.797961Z"
    }
   },
   "outputs": [],
   "source": [
    "def wrapper_get_cosine(df):\n",
    "    df['cosine_angle'] = df['name'].apply(get_cosine_angle)\n",
    "    return df"
   ]
  },
  {
   "cell_type": "code",
   "execution_count": 32,
   "metadata": {
    "ExecuteTime": {
     "end_time": "2018-12-01T21:01:23.365580Z",
     "start_time": "2018-12-01T21:00:47.395143Z"
    }
   },
   "outputs": [],
   "source": [
    "cosine_angle = parallelize_dataframe(df['name'].to_frame(), wrapper_get_cosine)"
   ]
  },
  {
   "cell_type": "code",
   "execution_count": 33,
   "metadata": {
    "ExecuteTime": {
     "end_time": "2018-12-01T21:01:23.379716Z",
     "start_time": "2018-12-01T21:01:23.368624Z"
    }
   },
   "outputs": [],
   "source": [
    "df['cos_angle'] = cosine_angle.cosine_angle"
   ]
  },
  {
   "cell_type": "code",
   "execution_count": 34,
   "metadata": {
    "ExecuteTime": {
     "end_time": "2018-12-01T21:01:23.702550Z",
     "start_time": "2018-12-01T21:01:23.382171Z"
    }
   },
   "outputs": [
    {
     "data": {
      "text/plain": [
       "7"
      ]
     },
     "execution_count": 34,
     "metadata": {},
     "output_type": "execute_result"
    }
   ],
   "source": [
    "gc.collect()"
   ]
  },
  {
   "cell_type": "code",
   "execution_count": 28,
   "metadata": {},
   "outputs": [],
   "source": [
    "# df.to_pickle('Data/working_sub_glove.pkl')"
   ]
  },
  {
   "cell_type": "code",
   "execution_count": 35,
   "metadata": {
    "ExecuteTime": {
     "end_time": "2018-12-01T21:01:23.746138Z",
     "start_time": "2018-12-01T21:01:23.704826Z"
    }
   },
   "outputs": [
    {
     "data": {
      "text/plain": [
       "215.0"
      ]
     },
     "execution_count": 35,
     "metadata": {},
     "output_type": "execute_result"
    }
   ],
   "source": [
    "df.word_counts.quantile(0.99)"
   ]
  },
  {
   "cell_type": "code",
   "execution_count": 36,
   "metadata": {
    "ExecuteTime": {
     "end_time": "2018-12-01T21:01:24.478399Z",
     "start_time": "2018-12-01T21:01:23.748591Z"
    }
   },
   "outputs": [],
   "source": [
    "# remove comments that have  more than 500 words (outliers)\n",
    "df = df[df['word_counts'] < 250]"
   ]
  },
  {
   "cell_type": "code",
   "execution_count": 37,
   "metadata": {
    "ExecuteTime": {
     "end_time": "2018-12-01T21:01:24.972240Z",
     "start_time": "2018-12-01T21:01:24.480584Z"
    }
   },
   "outputs": [],
   "source": [
    "df = df[~df.depth.isna()]"
   ]
  },
  {
   "cell_type": "code",
   "execution_count": 38,
   "metadata": {
    "ExecuteTime": {
     "end_time": "2018-12-01T21:01:25.603760Z",
     "start_time": "2018-12-01T21:01:24.974630Z"
    }
   },
   "outputs": [],
   "source": [
    "df.drop(['score_hidden'], axis=1, inplace=True)"
   ]
  },
  {
   "cell_type": "code",
   "execution_count": 39,
   "metadata": {
    "ExecuteTime": {
     "end_time": "2018-12-01T21:01:27.337853Z",
     "start_time": "2018-12-01T21:01:25.606177Z"
    }
   },
   "outputs": [],
   "source": [
    "df = df[df.body != '[deleted]']\n",
    "df = df[df.body != '[removed]']\n",
    "df = df[df.body != '']"
   ]
  },
  {
   "cell_type": "code",
   "execution_count": 40,
   "metadata": {
    "ExecuteTime": {
     "end_time": "2018-12-01T21:01:27.830029Z",
     "start_time": "2018-12-01T21:01:27.340280Z"
    }
   },
   "outputs": [],
   "source": [
    "df = df[~df.doc2vec.isna()]"
   ]
  },
  {
   "cell_type": "code",
   "execution_count": 41,
   "metadata": {
    "ExecuteTime": {
     "end_time": "2018-12-01T21:01:28.232827Z",
     "start_time": "2018-12-01T21:01:27.832267Z"
    }
   },
   "outputs": [],
   "source": [
    "df = df[~df.cos_angle.isna()]"
   ]
  },
  {
   "cell_type": "code",
   "execution_count": 42,
   "metadata": {
    "ExecuteTime": {
     "end_time": "2018-12-01T21:01:28.240011Z",
     "start_time": "2018-12-01T21:01:28.235623Z"
    }
   },
   "outputs": [
    {
     "data": {
      "text/plain": [
       "(834565, 36)"
      ]
     },
     "execution_count": 42,
     "metadata": {},
     "output_type": "execute_result"
    }
   ],
   "source": [
    "df.shape"
   ]
  },
  {
   "cell_type": "code",
   "execution_count": 43,
   "metadata": {
    "ExecuteTime": {
     "end_time": "2018-12-01T21:01:28.249132Z",
     "start_time": "2018-12-01T21:01:28.242499Z"
    }
   },
   "outputs": [
    {
     "data": {
      "text/plain": [
       "Index(['created_utc', 'ups', 'subreddit_id', 'link_id', 'name', 'subreddit',\n",
       "       'gilded', 'downs', 'author', 'score', 'body', 'distinguished', 'edited',\n",
       "       'controversiality', 'parent_id', 'time', 'time_lapse', 'depth',\n",
       "       'linked_sr', 'linked_urls', 'no_of_linked_sr', 'no_of_linked_urls',\n",
       "       'a_linked_urls', 'subjectivity', 'is_edited', 'is_quoted', 'no_quoted',\n",
       "       'parent_score', 'time_since_parent', 'senti_neg', 'senti_neu',\n",
       "       'senti_pos', 'senti_comp', 'word_counts', 'doc2vec', 'cos_angle'],\n",
       "      dtype='object')"
      ]
     },
     "execution_count": 43,
     "metadata": {},
     "output_type": "execute_result"
    }
   ],
   "source": [
    "df.columns"
   ]
  },
  {
   "cell_type": "code",
   "execution_count": 44,
   "metadata": {
    "ExecuteTime": {
     "end_time": "2018-12-01T21:01:31.097798Z",
     "start_time": "2018-12-01T21:01:30.592219Z"
    }
   },
   "outputs": [],
   "source": [
    "df.drop(['doc2vec'], inplace=True, axis=1)"
   ]
  },
  {
   "cell_type": "code",
   "execution_count": 69,
   "metadata": {},
   "outputs": [],
   "source": [
    "df.to_pickle('Data/temp.pkl')"
   ]
  },
  {
   "cell_type": "code",
   "execution_count": 6,
   "metadata": {},
   "outputs": [],
   "source": [
    "df = pd.read_pickle('Data/temp.pkl')"
   ]
  },
  {
   "cell_type": "code",
   "execution_count": 45,
   "metadata": {
    "ExecuteTime": {
     "end_time": "2018-12-01T21:01:35.345236Z",
     "start_time": "2018-12-01T21:01:34.602557Z"
    }
   },
   "outputs": [
    {
     "data": {
      "text/plain": [
       "'0.659080884564148 GB'"
      ]
     },
     "execution_count": 45,
     "metadata": {},
     "output_type": "execute_result"
    }
   ],
   "source": [
    "f\"{df.memory_usage(deep=True).sum() / 1023.0**3} GB\""
   ]
  },
  {
   "cell_type": "code",
   "execution_count": 33,
   "metadata": {},
   "outputs": [],
   "source": [
    "doc2vec = np.vstack([i for i in df.doc2vec.values])"
   ]
  },
  {
   "cell_type": "code",
   "execution_count": 49,
   "metadata": {},
   "outputs": [],
   "source": [
    "np.save('Data/doc2vec.npy', doc2vec)"
   ]
  },
  {
   "cell_type": "code",
   "execution_count": 34,
   "metadata": {},
   "outputs": [],
   "source": [
    "df.drop(['doc2vec'], inplace=True, axis=1)"
   ]
  },
  {
   "cell_type": "code",
   "execution_count": 46,
   "metadata": {
    "ExecuteTime": {
     "end_time": "2018-12-01T21:02:04.880640Z",
     "start_time": "2018-12-01T21:02:04.874570Z"
    }
   },
   "outputs": [
    {
     "data": {
      "text/plain": [
       "Index(['created_utc', 'ups', 'subreddit_id', 'link_id', 'name', 'subreddit',\n",
       "       'gilded', 'downs', 'author', 'score', 'body', 'distinguished', 'edited',\n",
       "       'controversiality', 'parent_id', 'time', 'time_lapse', 'depth',\n",
       "       'linked_sr', 'linked_urls', 'no_of_linked_sr', 'no_of_linked_urls',\n",
       "       'a_linked_urls', 'subjectivity', 'is_edited', 'is_quoted', 'no_quoted',\n",
       "       'parent_score', 'time_since_parent', 'senti_neg', 'senti_neu',\n",
       "       'senti_pos', 'senti_comp', 'word_counts', 'cos_angle'],\n",
       "      dtype='object')"
      ]
     },
     "execution_count": 46,
     "metadata": {},
     "output_type": "execute_result"
    }
   ],
   "source": [
    "df.columns"
   ]
  },
  {
   "cell_type": "code",
   "execution_count": 44,
   "metadata": {
    "ExecuteTime": {
     "end_time": "2018-12-01T19:57:00.533370Z",
     "start_time": "2018-12-01T19:57:00.507693Z"
    }
   },
   "outputs": [
    {
     "data": {
      "text/plain": [
       "False    793966\n",
       "True      47380\n",
       "Name: is_quoted, dtype: int64"
      ]
     },
     "execution_count": 44,
     "metadata": {},
     "output_type": "execute_result"
    }
   ],
   "source": [
    "df.is_quoted.value_counts()"
   ]
  },
  {
   "cell_type": "code",
   "execution_count": 51,
   "metadata": {},
   "outputs": [],
   "source": [
    "df.to_pickle('Data/working_sub_d2v.pkl')"
   ]
  },
  {
   "cell_type": "code",
   "execution_count": 5,
   "metadata": {},
   "outputs": [],
   "source": [
    "df = pd.read_pickle('Data/working_sub_d2v.pkl')\n",
    "doc2vec = np.load('Data/doc2vec.npy')"
   ]
  },
  {
   "cell_type": "code",
   "execution_count": 65,
   "metadata": {},
   "outputs": [],
   "source": [
    "vectorizer = TfidfVectorizer(min_df=30)\n",
    "#X_tfidf = vectorizer.fit_transform(df['body'])"
   ]
  },
  {
   "cell_type": "code",
   "execution_count": 47,
   "metadata": {
    "ExecuteTime": {
     "end_time": "2018-12-01T21:02:31.561026Z",
     "start_time": "2018-12-01T21:02:31.550199Z"
    }
   },
   "outputs": [],
   "source": [
    "numeric_cols = ['gilded', 'controversiality', 'time_lapse', 'depth', 'no_of_linked_sr',\n",
    "                'no_of_linked_urls', 'subjectivity', 'no_quoted', 'parent_score',\n",
    "                'senti_neg', 'senti_neu', 'senti_pos', 'senti_comp', 'word_counts',\n",
    "                'time_since_parent', 'cos_angle']"
   ]
  },
  {
   "cell_type": "code",
   "execution_count": 48,
   "metadata": {
    "ExecuteTime": {
     "end_time": "2018-12-01T21:02:32.747388Z",
     "start_time": "2018-12-01T21:02:32.742961Z"
    }
   },
   "outputs": [],
   "source": [
    "from scipy.sparse import hstack"
   ]
  },
  {
   "cell_type": "code",
   "execution_count": 49,
   "metadata": {
    "ExecuteTime": {
     "end_time": "2018-12-01T21:02:43.302898Z",
     "start_time": "2018-12-01T21:02:34.320555Z"
    }
   },
   "outputs": [],
   "source": [
    "lb = LabelBinarizer()\n",
    "mlb = MultiLabelBinarizer()\n",
    "\n",
    "y = df.score.values\n",
    "x = np.hstack((lb.fit_transform(df.subreddit),\n",
    "               lb.fit_transform(df.distinguished),\n",
    "               lb.fit_transform(df.is_edited),\n",
    "               lb.fit_transform(df.is_quoted),\n",
    "               mlb.fit_transform(df.a_linked_urls),\n",
    "               df.loc[:, numeric_cols].values))\n",
    "               #, doc2vec))"
   ]
  },
  {
   "cell_type": "code",
   "execution_count": 53,
   "metadata": {
    "ExecuteTime": {
     "end_time": "2018-12-01T21:03:53.165055Z",
     "start_time": "2018-12-01T21:03:53.158346Z"
    }
   },
   "outputs": [],
   "source": [
    "del df, doc2vec"
   ]
  },
  {
   "cell_type": "code",
   "execution_count": 54,
   "metadata": {
    "ExecuteTime": {
     "end_time": "2018-12-01T21:03:59.766491Z",
     "start_time": "2018-12-01T21:03:59.759265Z"
    }
   },
   "outputs": [],
   "source": [
    "np.random.seed(42)"
   ]
  },
  {
   "cell_type": "code",
   "execution_count": 55,
   "metadata": {
    "ExecuteTime": {
     "end_time": "2018-12-01T21:04:00.465215Z",
     "start_time": "2018-12-01T21:04:00.454694Z"
    }
   },
   "outputs": [
    {
     "data": {
      "text/plain": [
       "(834565, 41)"
      ]
     },
     "execution_count": 55,
     "metadata": {},
     "output_type": "execute_result"
    }
   ],
   "source": [
    "x.shape"
   ]
  },
  {
   "cell_type": "code",
   "execution_count": 56,
   "metadata": {
    "ExecuteTime": {
     "end_time": "2018-12-01T21:04:01.316366Z",
     "start_time": "2018-12-01T21:04:01.311995Z"
    }
   },
   "outputs": [
    {
     "data": {
      "text/plain": [
       "(834565,)"
      ]
     },
     "execution_count": 56,
     "metadata": {},
     "output_type": "execute_result"
    }
   ],
   "source": [
    "y.shape"
   ]
  },
  {
   "cell_type": "code",
   "execution_count": 57,
   "metadata": {
    "ExecuteTime": {
     "end_time": "2018-12-01T21:04:04.083142Z",
     "start_time": "2018-12-01T21:04:04.051390Z"
    }
   },
   "outputs": [
    {
     "data": {
      "text/plain": [
       "(834565, 41)"
      ]
     },
     "execution_count": 57,
     "metadata": {},
     "output_type": "execute_result"
    }
   ],
   "source": [
    "np.isnan(x).shape"
   ]
  },
  {
   "cell_type": "code",
   "execution_count": 59,
   "metadata": {
    "ExecuteTime": {
     "end_time": "2018-12-01T21:04:13.014771Z",
     "start_time": "2018-12-01T21:04:12.692081Z"
    }
   },
   "outputs": [],
   "source": [
    "X_train, X_test, y_train, y_test = train_test_split(x, y, test_size=0.2,\n",
    "                                                    random_state=42)"
   ]
  },
  {
   "cell_type": "markdown",
   "metadata": {},
   "source": [
    "Things to try:\n",
    "1. Take cosine between the word to vec for past n comments\n",
    "2. Remove the first comment\n",
    "3. Try gradient boosting\n",
    "4. Try getting topic infor\n",
    "5. log transform"
   ]
  },
  {
   "cell_type": "code",
   "execution_count": 60,
   "metadata": {
    "ExecuteTime": {
     "end_time": "2018-12-01T21:04:15.932954Z",
     "start_time": "2018-12-01T21:04:15.929702Z"
    }
   },
   "outputs": [],
   "source": [
    "from sklearn.neighbors import KNeighborsRegressor"
   ]
  },
  {
   "cell_type": "code",
   "execution_count": 17,
   "metadata": {},
   "outputs": [],
   "source": [
    "from sklearn.ensemble import RandomForestRegressor"
   ]
  },
  {
   "cell_type": "code",
   "execution_count": 62,
   "metadata": {
    "ExecuteTime": {
     "end_time": "2018-12-01T21:04:23.164909Z",
     "start_time": "2018-12-01T21:04:23.126279Z"
    }
   },
   "outputs": [],
   "source": [
    "from sklearn.ensemble import GradientBoostingRegressor"
   ]
  },
  {
   "cell_type": "code",
   "execution_count": 63,
   "metadata": {
    "ExecuteTime": {
     "end_time": "2018-12-01T21:08:24.232527Z",
     "start_time": "2018-12-01T21:04:23.852140Z"
    }
   },
   "outputs": [
    {
     "data": {
      "text/plain": [
       "GradientBoostingRegressor(alpha=0.9, criterion='friedman_mse', init=None,\n",
       "             learning_rate=0.1, loss='ls', max_depth=3, max_features=None,\n",
       "             max_leaf_nodes=None, min_impurity_decrease=0.0,\n",
       "             min_impurity_split=None, min_samples_leaf=10,\n",
       "             min_samples_split=2, min_weight_fraction_leaf=0.0,\n",
       "             n_estimators=100, n_iter_no_change=None, presort='auto',\n",
       "             random_state=None, subsample=1.0, tol=0.0001,\n",
       "             validation_fraction=0.1, verbose=0, warm_start=False)"
      ]
     },
     "execution_count": 63,
     "metadata": {},
     "output_type": "execute_result"
    }
   ],
   "source": [
    "m = GradientBoostingRegressor(n_estimators=100, min_samples_leaf=10)\n",
    "m.fit(X_train, y_train)"
   ]
  },
  {
   "cell_type": "code",
   "execution_count": 64,
   "metadata": {
    "ExecuteTime": {
     "end_time": "2018-12-01T21:08:24.680150Z",
     "start_time": "2018-12-01T21:08:24.234782Z"
    }
   },
   "outputs": [
    {
     "name": "stdout",
     "output_type": "stream",
     "text": [
      "R-Sq: 0.2638\n",
      "RMSE: 40.91939357206602\n"
     ]
    }
   ],
   "source": [
    "y_predicted = m.predict(X_test)\n",
    "r2 = r2_score(y_test, y_predicted)\n",
    "mse = mean_squared_error(y_test, y_predicted)\n",
    "print(f\"R-Sq: {r2:.4}\")\n",
    "print(f\"RMSE: {np.sqrt(mse)}\")"
   ]
  },
  {
   "cell_type": "code",
   "execution_count": 68,
   "metadata": {
    "ExecuteTime": {
     "end_time": "2018-12-01T21:17:18.112374Z",
     "start_time": "2018-12-01T21:17:10.962085Z"
    }
   },
   "outputs": [
    {
     "data": {
      "text/plain": [
       "KNeighborsRegressor(algorithm='auto', leaf_size=30, metric='minkowski',\n",
       "          metric_params=None, n_jobs=None, n_neighbors=5, p=2,\n",
       "          weights='uniform')"
      ]
     },
     "execution_count": 68,
     "metadata": {},
     "output_type": "execute_result"
    }
   ],
   "source": [
    "m = KNeighborsRegressor()\n",
    "m.fit(X_train, y_train)"
   ]
  },
  {
   "cell_type": "code",
   "execution_count": 69,
   "metadata": {
    "ExecuteTime": {
     "end_time": "2018-12-01T21:17:30.912908Z",
     "start_time": "2018-12-01T21:17:18.114916Z"
    }
   },
   "outputs": [
    {
     "name": "stdout",
     "output_type": "stream",
     "text": [
      "R-Sq: 0.08632\n",
      "RMSE: 45.58570497618411\n"
     ]
    }
   ],
   "source": [
    "y_predicted = m.predict(X_test)\n",
    "r2 = r2_score(y_test, y_predicted)\n",
    "mse = mean_squared_error(y_test, y_predicted)\n",
    "print(f\"R-Sq: {r2:.4}\")\n",
    "print(f\"RMSE: {np.sqrt(mse)}\")"
   ]
  },
  {
   "cell_type": "code",
   "execution_count": 34,
   "metadata": {},
   "outputs": [
    {
     "data": {
      "text/plain": [
       "GradientBoostingRegressor(alpha=0.9, criterion='friedman_mse', init=None,\n",
       "             learning_rate=0.1, loss='ls', max_depth=3, max_features=None,\n",
       "             max_leaf_nodes=None, min_impurity_decrease=0.0,\n",
       "             min_impurity_split=None, min_samples_leaf=10,\n",
       "             min_samples_split=2, min_weight_fraction_leaf=0.0,\n",
       "             n_estimators=100, n_iter_no_change=None, presort='auto',\n",
       "             random_state=None, subsample=1.0, tol=0.0001,\n",
       "             validation_fraction=0.1, verbose=0, warm_start=False)"
      ]
     },
     "execution_count": 34,
     "metadata": {},
     "output_type": "execute_result"
    }
   ],
   "source": [
    "m = GradientBoostingRegressor(n_estimators=100, min_samples_leaf=10)\n",
    "m.fit(X_train, y_train)"
   ]
  },
  {
   "cell_type": "code",
   "execution_count": null,
   "metadata": {
    "ExecuteTime": {
     "end_time": "2018-12-01T21:42:59.694915Z",
     "start_time": "2018-12-01T21:42:55.964Z"
    }
   },
   "outputs": [],
   "source": [
    "y_predicted = m.predict(X_test)\n",
    "r2 = r2_score(y_test, y_predicted)\n",
    "mse = mean_squared_error(y_test, y_predicted)\n",
    "print(f\"R-Sq: {r2:.4}\")\n",
    "print(f\"RMSE: {np.sqrt(mse)}\")"
   ]
  },
  {
   "cell_type": "code",
   "execution_count": 77,
   "metadata": {
    "ExecuteTime": {
     "end_time": "2018-12-01T21:43:05.418152Z",
     "start_time": "2018-12-01T21:43:04.760932Z"
    }
   },
   "outputs": [
    {
     "data": {
      "image/png": "[encoded data removed]",
      "text/plain": [
       "<Figure size 432x288 with 1 Axes>"
      ]
     },
     "metadata": {},
     "output_type": "display_data"
    }
   ],
   "source": [
    "plt.hist(abs(y_test - y_predicted), bins=200, range=[0, 50]);"
   ]
  },
  {
   "cell_type": "markdown",
   "metadata": {},
   "source": [
    "-------------"
   ]
  },
  {
   "cell_type": "code",
   "execution_count": 18,
   "metadata": {},
   "outputs": [
    {
     "data": {
      "text/plain": [
       "RandomForestRegressor(bootstrap=True, criterion='mse', max_depth=None,\n",
       "           max_features='auto', max_leaf_nodes=None,\n",
       "           min_impurity_decrease=0.0, min_impurity_split=None,\n",
       "           min_samples_leaf=10, min_samples_split=2,\n",
       "           min_weight_fraction_leaf=0.0, n_estimators=40, n_jobs=-1,\n",
       "           oob_score=False, random_state=None, verbose=0, warm_start=False)"
      ]
     },
     "execution_count": 18,
     "metadata": {},
     "output_type": "execute_result"
    }
   ],
   "source": [
    "m = RandomForestRegressor(n_jobs=-1, n_estimators=40, min_samples_leaf=10)\n",
    "m.fit(X_train, y_train)"
   ]
  },
  {
   "cell_type": "code",
   "execution_count": 19,
   "metadata": {},
   "outputs": [
    {
     "name": "stdout",
     "output_type": "stream",
     "text": [
      "R-Sq: 0.2748\n",
      "RMSE: 44.08580527082157\n"
     ]
    }
   ],
   "source": [
    "y_predicted = m.predict(X_test)\n",
    "r2 = r2_score(y_test, y_predicted)\n",
    "mse = mean_squared_error(y_test, y_predicted)\n",
    "print(f\"R-Sq: {r2:.4}\")\n",
    "print(f\"RMSE: {np.sqrt(mse)}\")"
   ]
  },
  {
   "cell_type": "code",
   "execution_count": 28,
   "metadata": {},
   "outputs": [
    {
     "data": {
      "image/png": "[encoded data removed]",
      "text/plain": [
       "<Figure size 432x288 with 1 Axes>"
      ]
     },
     "metadata": {},
     "output_type": "display_data"
    }
   ],
   "source": [
    "plt.hist(abs(y_test - y_predicted), bins=400, range=[0, 50]);"
   ]
  },
  {
   "cell_type": "markdown",
   "metadata": {},
   "source": [
    "With raw child 50d glove - with just 10 estimaters"
   ]
  },
  {
   "cell_type": "code",
   "execution_count": 47,
   "metadata": {},
   "outputs": [
    {
     "name": "stdout",
     "output_type": "stream",
     "text": [
      "R-Sq: 0.1107\n",
      "RMSE: 64.75655527375679\n"
     ]
    }
   ],
   "source": [
    "y_predicted = m.predict(X_test)\n",
    "r2 = r2_score(y_test, y_predicted)\n",
    "mse = mean_squared_error(y_test, y_predicted)\n",
    "print(f\"R-Sq: {r2:.4}\")\n",
    "print(f\"RMSE: {np.sqrt(mse)}\")"
   ]
  },
  {
   "cell_type": "markdown",
   "metadata": {},
   "source": [
    "Result with just sentiment and parent score RandomForest 50 estimaters"
   ]
  },
  {
   "cell_type": "code",
   "execution_count": 121,
   "metadata": {},
   "outputs": [
    {
     "name": "stdout",
     "output_type": "stream",
     "text": [
      "R-Sq: 0.1425\n",
      "RMSE: 60.66416993315583\n"
     ]
    }
   ],
   "source": [
    "y_predicted = m.predict(X_test)\n",
    "r2 = r2_score(y_test, y_predicted)\n",
    "mse = mean_squared_error(y_test, y_predicted)\n",
    "print(f\"R-Sq: {r2:.4}\")\n",
    "print(f\"RMSE: {np.sqrt(mse)}\")"
   ]
  },
  {
   "cell_type": "code",
   "execution_count": 20,
   "metadata": {},
   "outputs": [
    {
     "data": {
      "text/plain": [
       "LinearRegression(copy_X=True, fit_intercept=True, n_jobs=None,\n",
       "         normalize=False)"
      ]
     },
     "execution_count": 20,
     "metadata": {},
     "output_type": "execute_result"
    }
   ],
   "source": [
    "m = LinearRegression()\n",
    "m.fit(X_train, y_train)"
   ]
  },
  {
   "cell_type": "code",
   "execution_count": 21,
   "metadata": {},
   "outputs": [
    {
     "name": "stdout",
     "output_type": "stream",
     "text": [
      "R-Sq: 0.07293\n",
      "RMSE: 66.1184751479385\n"
     ]
    }
   ],
   "source": [
    "y_predicted = m.predict(X_test)\n",
    "r2 = r2_score(y_test, y_predicted)\n",
    "mse = mean_squared_error(y_test, y_predicted)\n",
    "print(f\"R-Sq: {r2:.4}\")\n",
    "print(f\"RMSE: {np.sqrt(mse)}\")"
   ]
  },
  {
   "cell_type": "code",
   "execution_count": null,
   "metadata": {},
   "outputs": [],
   "source": [
    "import pickle"
   ]
  },
  {
   "cell_type": "code",
   "execution_count": null,
   "metadata": {},
   "outputs": [],
   "source": [
    "from joblib import dump, load"
   ]
  },
  {
   "cell_type": "code",
   "execution_count": null,
   "metadata": {},
   "outputs": [],
   "source": [
    "dump(m, 'RF.joblib')"
   ]
  },
  {
   "cell_type": "code",
   "execution_count": null,
   "metadata": {},
   "outputs": [],
   "source": []
  }
 ],
 "metadata": {
  "kernelspec": {
   "display_name": "Python 3",
   "language": "python",
   "name": "python3"
  },
  "language_info": {
   "codemirror_mode": {
    "name": "ipython",
    "version": 3
   },
   "file_extension": ".py",
   "mimetype": "text/x-python",
   "name": "python",
   "nbconvert_exporter": "python",
   "pygments_lexer": "ipython3",
   "version": "3.6.5"
  }
 },
 "nbformat": 4,
 "nbformat_minor": 2
}
