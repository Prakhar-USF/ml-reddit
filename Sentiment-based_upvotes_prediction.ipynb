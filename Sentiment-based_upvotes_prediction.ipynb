{
 "cells": [
  {
   "cell_type": "code",
   "execution_count": 1,
   "metadata": {},
   "outputs": [],
   "source": [
    "import pandas as pd\n",
    "from pathlib import Path"
   ]
  },
  {
   "cell_type": "code",
   "execution_count": 2,
   "metadata": {},
   "outputs": [],
   "source": [
    "path = Path('Data/')"
   ]
  },
  {
   "cell_type": "code",
   "execution_count": 3,
   "metadata": {},
   "outputs": [
    {
     "name": "stdout",
     "output_type": "stream",
     "text": [
      ",4644c4,libertarian,news,1455650969,DrWinters,3,0,12728,1641,0\r\n",
      ",464kvf,libertarian,news,1455656607,unknownman19,20,0,50364,14436,0\r\n",
      ",466hv9,libertarian,news,1455682547,hp_chabanais,1,0,178,3,0\r\n",
      ",462wog,libertarian,news,1455636480,ghostofpennwast,18,0,231424,80539,1\r\n",
      "\"disclaimer : i think obama should nominate someone , and the senate should hold confirmation hearings. but this article does not accurately describe most republicans ' statements on this issue . the vast majority of republican statements ( although , notably , not the cruz one cited in the article ) carefully phrase the issue as whether a nominee has been \"\" nominated and confirmed \"\" in the president 's last year in office . although kennedy was confirmed in 1988 , he was nominated by reagan at the end of 1987 , so he does n't fall under this definition .\",d028c5d,politics,news,1455650706,degausse,3,0,1,1941,0\r\n",
      ",463sa9,politics,news,1455646951,trash_reason,371,0,5613,1361,0\r\n",
      "either way the process will be dragged out until after the elections. the gop have the votes in the senate to say no and would rather gamble in 2016. they at least had the decency to inform everyone of what exactly they 're doing this time around .,d026od6,politics,news,1455648465,cyberspyder,5,0,1300,6462,1\r\n",
      "republicans have always battled with severe cases of selective amnesia .,d026wk3,politics,news,1455648769,jabb0,15,0,44981,141501,0\r\n",
      "politics were so different back then. people on both sides had to at least pretend to be reasonable : http : //www.nytimes.com/1987/11/12/us/reagan-nominates-anthony-kennedy-to-supreme-court.html ? pagewanted = all,d02a3k3,politics,news,1455653052,Hypertension123456,2,0,46,42036,0\r\n",
      "\"equally ridiculous , here 's a 1970 law review article in which mcconnell argues for presidential dominion in the supreme court nomination process http : //imgur.com/pbeveod\",d025wad,politics,news,1455647413,trash_reason,26,0,5613,1361,0\r\n"
     ]
    }
   ],
   "source": [
    "! head Data/comments.csv"
   ]
  },
  {
   "cell_type": "code",
   "execution_count": 3,
   "metadata": {},
   "outputs": [],
   "source": [
    "comment_headers = ['text','id', 'subreddit', 'meta', 'time', 'author',\n",
    "                   'ups', 'downs', 'authorlinkkarma', 'authorkarma', 'authorisgold']"
   ]
  },
  {
   "cell_type": "code",
   "execution_count": 4,
   "metadata": {},
   "outputs": [],
   "source": [
    "comments = pd.read_csv(path/'comments.csv', names=comment_headers)"
   ]
  },
  {
   "cell_type": "code",
   "execution_count": 6,
   "metadata": {},
   "outputs": [
    {
     "data": {
      "text/plain": [
       "leagueoflegends         149763\n",
       "funny                   134469\n",
       "dota2                   106696\n",
       "adviceanimals           101628\n",
       "movies                   98712\n",
       "politics                 94086\n",
       "anime                    90183\n",
       "gaming                   88282\n",
       "news                     81744\n",
       "youshouldknow            79478\n",
       "worldnews                79163\n",
       "todayilearned            74759\n",
       "thewalkingdead           73409\n",
       "lifehacks                68451\n",
       "pokemon                  64448\n",
       "frugal                   61664\n",
       "starwars                 53982\n",
       "comicbooks               53760\n",
       "starcraft                53434\n",
       "guns                     51530\n",
       "motorcycles              51482\n",
       "imgoingtohellforthis     51244\n",
       "progresspics             50756\n",
       "music                    47737\n",
       "facepalm                 47129\n",
       "tf2                      47031\n",
       "sex                      46711\n",
       "gameofthrones            43233\n",
       "startrek                 42708\n",
       "community                41364\n",
       "truereddit               35294\n",
       "conspiracy               35197\n",
       "skyrim                   35168\n",
       "science                  35091\n",
       "harrypotter              35040\n",
       "breakingbad              34258\n",
       "doctorwho                33711\n",
       "minecraft                33384\n",
       "libertarian              32895\n",
       "food                     31976\n",
       "jokes                    30174\n",
       "himym                    29172\n",
       "explainlikeimfive        27319\n",
       "conservative             26138\n",
       "offbeat                  24199\n",
       "mylittlepony             23939\n",
       "space                    22725\n",
       "drunk                    21924\n",
       "askscience               21626\n",
       "circlejerk               17553\n",
       "askhistorians            10181\n",
       "Name: subreddit, dtype: int64"
      ]
     },
     "execution_count": 6,
     "metadata": {},
     "output_type": "execute_result"
    }
   ],
   "source": [
    "comments.subreddit.value_counts()"
   ]
  },
  {
   "cell_type": "code",
   "execution_count": 6,
   "metadata": {},
   "outputs": [],
   "source": [
    "# coverting unix time timestamp to date time object\n",
    "comments['time'] = pd.to_datetime(comments['time'], unit='s')"
   ]
  },
  {
   "cell_type": "code",
   "execution_count": 7,
   "metadata": {},
   "outputs": [
    {
     "data": {
      "text/html": [
       "<div>\n",
       "<style scoped>\n",
       "    .dataframe tbody tr th:only-of-type {\n",
       "        vertical-align: middle;\n",
       "    }\n",
       "\n",
       "    .dataframe tbody tr th {\n",
       "        vertical-align: top;\n",
       "    }\n",
       "\n",
       "    .dataframe thead th {\n",
       "        text-align: right;\n",
       "    }\n",
       "</style>\n",
       "<table border=\"1\" class=\"dataframe\">\n",
       "  <thead>\n",
       "    <tr style=\"text-align: right;\">\n",
       "      <th></th>\n",
       "      <th>text</th>\n",
       "      <th>id</th>\n",
       "      <th>subreddit</th>\n",
       "      <th>meta</th>\n",
       "      <th>time</th>\n",
       "      <th>author</th>\n",
       "      <th>ups</th>\n",
       "      <th>downs</th>\n",
       "      <th>authorlinkkarma</th>\n",
       "      <th>authorkarma</th>\n",
       "      <th>authorisgold</th>\n",
       "    </tr>\n",
       "  </thead>\n",
       "  <tbody>\n",
       "    <tr>\n",
       "      <th>0</th>\n",
       "      <td>NaN</td>\n",
       "      <td>4644c4</td>\n",
       "      <td>libertarian</td>\n",
       "      <td>news</td>\n",
       "      <td>2016-02-16 19:29:29</td>\n",
       "      <td>DrWinters</td>\n",
       "      <td>3.0</td>\n",
       "      <td>0.0</td>\n",
       "      <td>12728.0</td>\n",
       "      <td>1641.0</td>\n",
       "      <td>0.0</td>\n",
       "    </tr>\n",
       "    <tr>\n",
       "      <th>1</th>\n",
       "      <td>NaN</td>\n",
       "      <td>464kvf</td>\n",
       "      <td>libertarian</td>\n",
       "      <td>news</td>\n",
       "      <td>2016-02-16 21:03:27</td>\n",
       "      <td>unknownman19</td>\n",
       "      <td>20.0</td>\n",
       "      <td>0.0</td>\n",
       "      <td>50364.0</td>\n",
       "      <td>14436.0</td>\n",
       "      <td>0.0</td>\n",
       "    </tr>\n",
       "    <tr>\n",
       "      <th>2</th>\n",
       "      <td>NaN</td>\n",
       "      <td>466hv9</td>\n",
       "      <td>libertarian</td>\n",
       "      <td>news</td>\n",
       "      <td>2016-02-17 04:15:47</td>\n",
       "      <td>hp_chabanais</td>\n",
       "      <td>1.0</td>\n",
       "      <td>0.0</td>\n",
       "      <td>178.0</td>\n",
       "      <td>3.0</td>\n",
       "      <td>0.0</td>\n",
       "    </tr>\n",
       "    <tr>\n",
       "      <th>3</th>\n",
       "      <td>NaN</td>\n",
       "      <td>462wog</td>\n",
       "      <td>libertarian</td>\n",
       "      <td>news</td>\n",
       "      <td>2016-02-16 15:28:00</td>\n",
       "      <td>ghostofpennwast</td>\n",
       "      <td>18.0</td>\n",
       "      <td>0.0</td>\n",
       "      <td>231424.0</td>\n",
       "      <td>80539.0</td>\n",
       "      <td>1.0</td>\n",
       "    </tr>\n",
       "    <tr>\n",
       "      <th>4</th>\n",
       "      <td>disclaimer : i think obama should nominate som...</td>\n",
       "      <td>d028c5d</td>\n",
       "      <td>politics</td>\n",
       "      <td>news</td>\n",
       "      <td>2016-02-16 19:25:06</td>\n",
       "      <td>degausse</td>\n",
       "      <td>3.0</td>\n",
       "      <td>0.0</td>\n",
       "      <td>1.0</td>\n",
       "      <td>1941.0</td>\n",
       "      <td>0.0</td>\n",
       "    </tr>\n",
       "  </tbody>\n",
       "</table>\n",
       "</div>"
      ],
      "text/plain": [
       "                                                text       id    subreddit  \\\n",
       "0                                                NaN   4644c4  libertarian   \n",
       "1                                                NaN   464kvf  libertarian   \n",
       "2                                                NaN   466hv9  libertarian   \n",
       "3                                                NaN   462wog  libertarian   \n",
       "4  disclaimer : i think obama should nominate som...  d028c5d     politics   \n",
       "\n",
       "   meta                time           author   ups  downs  authorlinkkarma  \\\n",
       "0  news 2016-02-16 19:29:29        DrWinters   3.0    0.0          12728.0   \n",
       "1  news 2016-02-16 21:03:27     unknownman19  20.0    0.0          50364.0   \n",
       "2  news 2016-02-17 04:15:47     hp_chabanais   1.0    0.0            178.0   \n",
       "3  news 2016-02-16 15:28:00  ghostofpennwast  18.0    0.0         231424.0   \n",
       "4  news 2016-02-16 19:25:06         degausse   3.0    0.0              1.0   \n",
       "\n",
       "   authorkarma  authorisgold  \n",
       "0       1641.0           0.0  \n",
       "1      14436.0           0.0  \n",
       "2          3.0           0.0  \n",
       "3      80539.0           1.0  \n",
       "4       1941.0           0.0  "
      ]
     },
     "execution_count": 7,
     "metadata": {},
     "output_type": "execute_result"
    }
   ],
   "source": [
    "comments.head()"
   ]
  },
  {
   "cell_type": "code",
   "execution_count": 8,
   "metadata": {},
   "outputs": [
    {
     "data": {
      "text/plain": [
       "(2726000, 11)"
      ]
     },
     "execution_count": 8,
     "metadata": {},
     "output_type": "execute_result"
    }
   ],
   "source": [
    "comments.shape"
   ]
  },
  {
   "cell_type": "code",
   "execution_count": 9,
   "metadata": {},
   "outputs": [
    {
     "name": "stdout",
     "output_type": "stream",
     "text": [
      ",\"support a 100 % people-funded , nonpartisan online news source by sibel edmonds ( kickstarter )\",https://www.kickstarter.com/projects/141490519/support-a-100-people-funded-nonpartisan-online-new?ref=project_tweet,4606mr,libertarian,news,1455588273,TheNiceSociopath,7,0,339,571,0\r\n",
      ",\"hillary clinton is losing faith in her \"\" latino firewall \"\" in nevada\",http://www.vox.com/2016/2/16/11014922/nevada-caucus-latinos,462n8i,politics,news,1455632702,dnzvdo,1533,0,6426,3,0\r\n",
      ",\"step by step , pot-legalizing states free their marijuana markets\",http://reason.com/archives/2016/02/16/step-by-step-pot-legalizing-states-free,4627gv,libertarian,news,1455625403,ghostofpennwast,55,0,231424,80539,1\r\n",
      ",twitter shadowbanning ‘ real and happening every day ’ says inside source,http://www.breitbart.com/tech/2016/02/16/exclusive-twitter-shadowbanning-is-real-say-inside-sources/,4663o6,libertarian,news,1455677074,PCisLame,3,0,39110,-100,0\r\n",
      ",/r/facepalm thinks national socialism is not socialism,https://www.reddit.com/r/facepalm/comments/462syg/someone_posted_this_in_twitter_under_trump/,463uel,libertarian,news,1455647667,RubberDong,0,0,11202,222528,0\r\n",
      ",\"faced with a budget crunch , isis is killing perks and slashing salaries\",http://www.nzherald.co.nz/world/news/article.cfm?c_id=2&amp;objectid=11590802,464lhm,worldnews,news,1455656820,poik12,7,0,4344,11947,0\r\n",
      ",turkish warplanes violate greek airspace 22 times within 24 hours,http://www.ibtimes.co.uk/turkish-warplanes-violate-greek-airspace-22-times-within-24-hours-1544036,4615gx,worldnews,news,1455602779,elusive_newsman,540,0,44423,3890,0\r\n",
      ",judge : apple must help us hack san bernardino killer 's phone,\"http://bigstory.ap.org/145860f91b854a709c1a47190563c86e&amp;utm_source=android_app&amp;utm_medium=reddit_is_fun&amp;utm_campaign=share\r",
      "\r\n",
      "\r",
      "\r\n",
      "Shared via AP Mobile. Download the app now:\r",
      "\r\n"
     ]
    }
   ],
   "source": [
    "! head Data/threads.csv"
   ]
  },
  {
   "cell_type": "code",
   "execution_count": 10,
   "metadata": {},
   "outputs": [],
   "source": [
    "thread_headers = ['text', 'title', 'url', 'id', 'subreddit', 'meta',\n",
    "                  'time', 'author', 'ups', 'downs', 'authorlinkkarma',\n",
    "                  'authorcommentkarma', 'authorisgold']"
   ]
  },
  {
   "cell_type": "code",
   "execution_count": 11,
   "metadata": {},
   "outputs": [],
   "source": [
    "threads = pd.read_csv(path/'threads.csv', names=thread_headers)"
   ]
  },
  {
   "cell_type": "code",
   "execution_count": 12,
   "metadata": {},
   "outputs": [],
   "source": [
    "threads['time'] = pd.to_datetime(threads['time'],unit='s')"
   ]
  },
  {
   "cell_type": "code",
   "execution_count": 13,
   "metadata": {},
   "outputs": [
    {
     "data": {
      "text/html": [
       "<div>\n",
       "<style scoped>\n",
       "    .dataframe tbody tr th:only-of-type {\n",
       "        vertical-align: middle;\n",
       "    }\n",
       "\n",
       "    .dataframe tbody tr th {\n",
       "        vertical-align: top;\n",
       "    }\n",
       "\n",
       "    .dataframe thead th {\n",
       "        text-align: right;\n",
       "    }\n",
       "</style>\n",
       "<table border=\"1\" class=\"dataframe\">\n",
       "  <thead>\n",
       "    <tr style=\"text-align: right;\">\n",
       "      <th></th>\n",
       "      <th>text</th>\n",
       "      <th>title</th>\n",
       "      <th>url</th>\n",
       "      <th>id</th>\n",
       "      <th>subreddit</th>\n",
       "      <th>meta</th>\n",
       "      <th>time</th>\n",
       "      <th>author</th>\n",
       "      <th>ups</th>\n",
       "      <th>downs</th>\n",
       "      <th>authorlinkkarma</th>\n",
       "      <th>authorcommentkarma</th>\n",
       "      <th>authorisgold</th>\n",
       "    </tr>\n",
       "  </thead>\n",
       "  <tbody>\n",
       "    <tr>\n",
       "      <th>0</th>\n",
       "      <td>NaN</td>\n",
       "      <td>support a 100 % people-funded , nonpartisan on...</td>\n",
       "      <td>https://www.kickstarter.com/projects/141490519...</td>\n",
       "      <td>4606mr</td>\n",
       "      <td>libertarian</td>\n",
       "      <td>news</td>\n",
       "      <td>2016-02-16 02:04:33</td>\n",
       "      <td>TheNiceSociopath</td>\n",
       "      <td>7</td>\n",
       "      <td>0</td>\n",
       "      <td>339.0</td>\n",
       "      <td>571.0</td>\n",
       "      <td>0.0</td>\n",
       "    </tr>\n",
       "    <tr>\n",
       "      <th>1</th>\n",
       "      <td>NaN</td>\n",
       "      <td>hillary clinton is losing faith in her \" latin...</td>\n",
       "      <td>http://www.vox.com/2016/2/16/11014922/nevada-c...</td>\n",
       "      <td>462n8i</td>\n",
       "      <td>politics</td>\n",
       "      <td>news</td>\n",
       "      <td>2016-02-16 14:25:02</td>\n",
       "      <td>dnzvdo</td>\n",
       "      <td>1533</td>\n",
       "      <td>0</td>\n",
       "      <td>6426.0</td>\n",
       "      <td>3.0</td>\n",
       "      <td>0.0</td>\n",
       "    </tr>\n",
       "    <tr>\n",
       "      <th>2</th>\n",
       "      <td>NaN</td>\n",
       "      <td>step by step , pot-legalizing states free thei...</td>\n",
       "      <td>http://reason.com/archives/2016/02/16/step-by-...</td>\n",
       "      <td>4627gv</td>\n",
       "      <td>libertarian</td>\n",
       "      <td>news</td>\n",
       "      <td>2016-02-16 12:23:23</td>\n",
       "      <td>ghostofpennwast</td>\n",
       "      <td>55</td>\n",
       "      <td>0</td>\n",
       "      <td>231424.0</td>\n",
       "      <td>80539.0</td>\n",
       "      <td>1.0</td>\n",
       "    </tr>\n",
       "    <tr>\n",
       "      <th>3</th>\n",
       "      <td>NaN</td>\n",
       "      <td>twitter shadowbanning ‘ real and happening eve...</td>\n",
       "      <td>http://www.breitbart.com/tech/2016/02/16/exclu...</td>\n",
       "      <td>4663o6</td>\n",
       "      <td>libertarian</td>\n",
       "      <td>news</td>\n",
       "      <td>2016-02-17 02:44:34</td>\n",
       "      <td>PCisLame</td>\n",
       "      <td>3</td>\n",
       "      <td>0</td>\n",
       "      <td>39110.0</td>\n",
       "      <td>-100.0</td>\n",
       "      <td>0.0</td>\n",
       "    </tr>\n",
       "    <tr>\n",
       "      <th>4</th>\n",
       "      <td>NaN</td>\n",
       "      <td>/r/facepalm thinks national socialism is not s...</td>\n",
       "      <td>https://www.reddit.com/r/facepalm/comments/462...</td>\n",
       "      <td>463uel</td>\n",
       "      <td>libertarian</td>\n",
       "      <td>news</td>\n",
       "      <td>2016-02-16 18:34:27</td>\n",
       "      <td>RubberDong</td>\n",
       "      <td>0</td>\n",
       "      <td>0</td>\n",
       "      <td>11202.0</td>\n",
       "      <td>222528.0</td>\n",
       "      <td>0.0</td>\n",
       "    </tr>\n",
       "  </tbody>\n",
       "</table>\n",
       "</div>"
      ],
      "text/plain": [
       "  text                                              title  \\\n",
       "0  NaN  support a 100 % people-funded , nonpartisan on...   \n",
       "1  NaN  hillary clinton is losing faith in her \" latin...   \n",
       "2  NaN  step by step , pot-legalizing states free thei...   \n",
       "3  NaN  twitter shadowbanning ‘ real and happening eve...   \n",
       "4  NaN  /r/facepalm thinks national socialism is not s...   \n",
       "\n",
       "                                                 url      id    subreddit  \\\n",
       "0  https://www.kickstarter.com/projects/141490519...  4606mr  libertarian   \n",
       "1  http://www.vox.com/2016/2/16/11014922/nevada-c...  462n8i     politics   \n",
       "2  http://reason.com/archives/2016/02/16/step-by-...  4627gv  libertarian   \n",
       "3  http://www.breitbart.com/tech/2016/02/16/exclu...  4663o6  libertarian   \n",
       "4  https://www.reddit.com/r/facepalm/comments/462...  463uel  libertarian   \n",
       "\n",
       "   meta                time            author   ups  downs  authorlinkkarma  \\\n",
       "0  news 2016-02-16 02:04:33  TheNiceSociopath     7      0            339.0   \n",
       "1  news 2016-02-16 14:25:02            dnzvdo  1533      0           6426.0   \n",
       "2  news 2016-02-16 12:23:23   ghostofpennwast    55      0         231424.0   \n",
       "3  news 2016-02-17 02:44:34          PCisLame     3      0          39110.0   \n",
       "4  news 2016-02-16 18:34:27        RubberDong     0      0          11202.0   \n",
       "\n",
       "   authorcommentkarma  authorisgold  \n",
       "0               571.0           0.0  \n",
       "1                 3.0           0.0  \n",
       "2             80539.0           1.0  \n",
       "3              -100.0           0.0  \n",
       "4            222528.0           0.0  "
      ]
     },
     "execution_count": 13,
     "metadata": {},
     "output_type": "execute_result"
    }
   ],
   "source": [
    "threads.head()"
   ]
  },
  {
   "cell_type": "code",
   "execution_count": 14,
   "metadata": {},
   "outputs": [
    {
     "data": {
      "text/plain": [
       "(266000, 13)"
      ]
     },
     "execution_count": 14,
     "metadata": {},
     "output_type": "execute_result"
    }
   ],
   "source": [
    "threads.shape"
   ]
  },
  {
   "cell_type": "code",
   "execution_count": 15,
   "metadata": {
    "scrolled": true
   },
   "outputs": [
    {
     "data": {
      "text/html": [
       "<div>\n",
       "<style scoped>\n",
       "    .dataframe tbody tr th:only-of-type {\n",
       "        vertical-align: middle;\n",
       "    }\n",
       "\n",
       "    .dataframe tbody tr th {\n",
       "        vertical-align: top;\n",
       "    }\n",
       "\n",
       "    .dataframe thead th {\n",
       "        text-align: right;\n",
       "    }\n",
       "</style>\n",
       "<table border=\"1\" class=\"dataframe\">\n",
       "  <thead>\n",
       "    <tr style=\"text-align: right;\">\n",
       "      <th></th>\n",
       "      <th>text</th>\n",
       "      <th>title</th>\n",
       "      <th>url</th>\n",
       "      <th>id</th>\n",
       "      <th>subreddit</th>\n",
       "      <th>meta</th>\n",
       "      <th>time</th>\n",
       "      <th>author</th>\n",
       "      <th>ups</th>\n",
       "      <th>downs</th>\n",
       "      <th>authorlinkkarma</th>\n",
       "      <th>authorcommentkarma</th>\n",
       "      <th>authorisgold</th>\n",
       "    </tr>\n",
       "  </thead>\n",
       "  <tbody>\n",
       "    <tr>\n",
       "      <th>752</th>\n",
       "      <td>NaN</td>\n",
       "      <td>hungary assails human rights advocates in the ...</td>\n",
       "      <td>http://www.nytimes.com/2016/02/17/world/europe...</td>\n",
       "      <td>465vcp</td>\n",
       "      <td>worldnews</td>\n",
       "      <td>news</td>\n",
       "      <td>2016-02-17 01:52:19</td>\n",
       "      <td>JonnyTheRobot</td>\n",
       "      <td>7</td>\n",
       "      <td>0</td>\n",
       "      <td>0.0</td>\n",
       "      <td>0.0</td>\n",
       "      <td>NaN</td>\n",
       "    </tr>\n",
       "    <tr>\n",
       "      <th>1294</th>\n",
       "      <td>NaN</td>\n",
       "      <td>hungary assails human rights advocates in the ...</td>\n",
       "      <td>http://www.nytimes.com/2016/02/17/world/europe...</td>\n",
       "      <td>465vcp</td>\n",
       "      <td>worldnews</td>\n",
       "      <td>news</td>\n",
       "      <td>2016-02-17 01:52:19</td>\n",
       "      <td>JonnyTheRobot</td>\n",
       "      <td>5</td>\n",
       "      <td>0</td>\n",
       "      <td>49.0</td>\n",
       "      <td>32.0</td>\n",
       "      <td>0.0</td>\n",
       "    </tr>\n",
       "    <tr>\n",
       "      <th>2014</th>\n",
       "      <td>NaN</td>\n",
       "      <td>hungary assails human rights advocates in the ...</td>\n",
       "      <td>http://www.nytimes.com/2016/02/17/world/europe...</td>\n",
       "      <td>465vcp</td>\n",
       "      <td>worldnews</td>\n",
       "      <td>news</td>\n",
       "      <td>2016-02-17 01:52:19</td>\n",
       "      <td>JonnyTheRobot</td>\n",
       "      <td>5</td>\n",
       "      <td>0</td>\n",
       "      <td>49.0</td>\n",
       "      <td>32.0</td>\n",
       "      <td>0.0</td>\n",
       "    </tr>\n",
       "    <tr>\n",
       "      <th>2557</th>\n",
       "      <td>NaN</td>\n",
       "      <td>hungary assails human rights advocates in the ...</td>\n",
       "      <td>http://www.nytimes.com/2016/02/17/world/europe...</td>\n",
       "      <td>465vcp</td>\n",
       "      <td>worldnews</td>\n",
       "      <td>news</td>\n",
       "      <td>2016-02-17 01:52:19</td>\n",
       "      <td>JonnyTheRobot</td>\n",
       "      <td>5</td>\n",
       "      <td>0</td>\n",
       "      <td>49.0</td>\n",
       "      <td>32.0</td>\n",
       "      <td>0.0</td>\n",
       "    </tr>\n",
       "    <tr>\n",
       "      <th>6562</th>\n",
       "      <td>NaN</td>\n",
       "      <td>hungary assails human rights advocates in the ...</td>\n",
       "      <td>http://www.nytimes.com/2016/02/17/world/europe...</td>\n",
       "      <td>465vcp</td>\n",
       "      <td>worldnews</td>\n",
       "      <td>news</td>\n",
       "      <td>2016-02-17 01:52:19</td>\n",
       "      <td>JonnyTheRobot</td>\n",
       "      <td>5</td>\n",
       "      <td>0</td>\n",
       "      <td>49.0</td>\n",
       "      <td>32.0</td>\n",
       "      <td>0.0</td>\n",
       "    </tr>\n",
       "    <tr>\n",
       "      <th>7461</th>\n",
       "      <td>NaN</td>\n",
       "      <td>hungary assails human rights advocates in the ...</td>\n",
       "      <td>http://www.nytimes.com/2016/02/17/world/europe...</td>\n",
       "      <td>465vcp</td>\n",
       "      <td>worldnews</td>\n",
       "      <td>news</td>\n",
       "      <td>2016-02-17 01:52:19</td>\n",
       "      <td>JonnyTheRobot</td>\n",
       "      <td>5</td>\n",
       "      <td>0</td>\n",
       "      <td>49.0</td>\n",
       "      <td>32.0</td>\n",
       "      <td>0.0</td>\n",
       "    </tr>\n",
       "    <tr>\n",
       "      <th>8261</th>\n",
       "      <td>NaN</td>\n",
       "      <td>hungary assails human rights advocates in the ...</td>\n",
       "      <td>http://www.nytimes.com/2016/02/17/world/europe...</td>\n",
       "      <td>465vcp</td>\n",
       "      <td>worldnews</td>\n",
       "      <td>news</td>\n",
       "      <td>2016-02-17 01:52:19</td>\n",
       "      <td>JonnyTheRobot</td>\n",
       "      <td>5</td>\n",
       "      <td>0</td>\n",
       "      <td>49.0</td>\n",
       "      <td>32.0</td>\n",
       "      <td>0.0</td>\n",
       "    </tr>\n",
       "    <tr>\n",
       "      <th>9015</th>\n",
       "      <td>NaN</td>\n",
       "      <td>hungary assails human rights advocates in the ...</td>\n",
       "      <td>http://www.nytimes.com/2016/02/17/world/europe...</td>\n",
       "      <td>465vcp</td>\n",
       "      <td>worldnews</td>\n",
       "      <td>news</td>\n",
       "      <td>2016-02-17 01:52:19</td>\n",
       "      <td>JonnyTheRobot</td>\n",
       "      <td>5</td>\n",
       "      <td>0</td>\n",
       "      <td>53.0</td>\n",
       "      <td>32.0</td>\n",
       "      <td>0.0</td>\n",
       "    </tr>\n",
       "    <tr>\n",
       "      <th>9263</th>\n",
       "      <td>NaN</td>\n",
       "      <td>hungary assails human rights advocates in the ...</td>\n",
       "      <td>http://www.nytimes.com/2016/02/17/world/europe...</td>\n",
       "      <td>465vcp</td>\n",
       "      <td>worldnews</td>\n",
       "      <td>news</td>\n",
       "      <td>2016-02-17 01:52:19</td>\n",
       "      <td>JonnyTheRobot</td>\n",
       "      <td>6</td>\n",
       "      <td>0</td>\n",
       "      <td>53.0</td>\n",
       "      <td>32.0</td>\n",
       "      <td>0.0</td>\n",
       "    </tr>\n",
       "    <tr>\n",
       "      <th>10244</th>\n",
       "      <td>NaN</td>\n",
       "      <td>hungary assails human rights advocates in the ...</td>\n",
       "      <td>http://www.nytimes.com/2016/02/17/world/europe...</td>\n",
       "      <td>465vcp</td>\n",
       "      <td>worldnews</td>\n",
       "      <td>news</td>\n",
       "      <td>2016-02-17 01:52:19</td>\n",
       "      <td>JonnyTheRobot</td>\n",
       "      <td>6</td>\n",
       "      <td>0</td>\n",
       "      <td>53.0</td>\n",
       "      <td>32.0</td>\n",
       "      <td>0.0</td>\n",
       "    </tr>\n",
       "    <tr>\n",
       "      <th>11571</th>\n",
       "      <td>NaN</td>\n",
       "      <td>hungary assails human rights advocates in the ...</td>\n",
       "      <td>http://www.nytimes.com/2016/02/17/world/europe...</td>\n",
       "      <td>465vcp</td>\n",
       "      <td>worldnews</td>\n",
       "      <td>news</td>\n",
       "      <td>2016-02-17 01:52:19</td>\n",
       "      <td>JonnyTheRobot</td>\n",
       "      <td>6</td>\n",
       "      <td>0</td>\n",
       "      <td>53.0</td>\n",
       "      <td>32.0</td>\n",
       "      <td>0.0</td>\n",
       "    </tr>\n",
       "    <tr>\n",
       "      <th>11671</th>\n",
       "      <td>NaN</td>\n",
       "      <td>hungary assails human rights advocates in the ...</td>\n",
       "      <td>http://www.nytimes.com/2016/02/17/world/europe...</td>\n",
       "      <td>465vcp</td>\n",
       "      <td>worldnews</td>\n",
       "      <td>news</td>\n",
       "      <td>2016-02-17 01:52:19</td>\n",
       "      <td>JonnyTheRobot</td>\n",
       "      <td>6</td>\n",
       "      <td>0</td>\n",
       "      <td>53.0</td>\n",
       "      <td>32.0</td>\n",
       "      <td>0.0</td>\n",
       "    </tr>\n",
       "    <tr>\n",
       "      <th>13074</th>\n",
       "      <td>NaN</td>\n",
       "      <td>hungary assails human rights advocates in the ...</td>\n",
       "      <td>http://www.nytimes.com/2016/02/17/world/europe...</td>\n",
       "      <td>465vcp</td>\n",
       "      <td>worldnews</td>\n",
       "      <td>news</td>\n",
       "      <td>2016-02-17 01:52:19</td>\n",
       "      <td>JonnyTheRobot</td>\n",
       "      <td>6</td>\n",
       "      <td>0</td>\n",
       "      <td>53.0</td>\n",
       "      <td>32.0</td>\n",
       "      <td>0.0</td>\n",
       "    </tr>\n",
       "    <tr>\n",
       "      <th>13876</th>\n",
       "      <td>NaN</td>\n",
       "      <td>hungary assails human rights advocates in the ...</td>\n",
       "      <td>http://www.nytimes.com/2016/02/17/world/europe...</td>\n",
       "      <td>465vcp</td>\n",
       "      <td>worldnews</td>\n",
       "      <td>news</td>\n",
       "      <td>2016-02-17 01:52:19</td>\n",
       "      <td>JonnyTheRobot</td>\n",
       "      <td>6</td>\n",
       "      <td>0</td>\n",
       "      <td>53.0</td>\n",
       "      <td>32.0</td>\n",
       "      <td>0.0</td>\n",
       "    </tr>\n",
       "    <tr>\n",
       "      <th>14375</th>\n",
       "      <td>NaN</td>\n",
       "      <td>hungary assails human rights advocates in the ...</td>\n",
       "      <td>http://www.nytimes.com/2016/02/17/world/europe...</td>\n",
       "      <td>465vcp</td>\n",
       "      <td>worldnews</td>\n",
       "      <td>news</td>\n",
       "      <td>2016-02-17 01:52:19</td>\n",
       "      <td>JonnyTheRobot</td>\n",
       "      <td>6</td>\n",
       "      <td>0</td>\n",
       "      <td>53.0</td>\n",
       "      <td>32.0</td>\n",
       "      <td>0.0</td>\n",
       "    </tr>\n",
       "    <tr>\n",
       "      <th>14475</th>\n",
       "      <td>NaN</td>\n",
       "      <td>hungary assails human rights advocates in the ...</td>\n",
       "      <td>http://www.nytimes.com/2016/02/17/world/europe...</td>\n",
       "      <td>465vcp</td>\n",
       "      <td>worldnews</td>\n",
       "      <td>news</td>\n",
       "      <td>2016-02-17 01:52:19</td>\n",
       "      <td>JonnyTheRobot</td>\n",
       "      <td>6</td>\n",
       "      <td>0</td>\n",
       "      <td>53.0</td>\n",
       "      <td>32.0</td>\n",
       "      <td>0.0</td>\n",
       "    </tr>\n",
       "    <tr>\n",
       "      <th>15076</th>\n",
       "      <td>NaN</td>\n",
       "      <td>hungary assails human rights advocates in the ...</td>\n",
       "      <td>http://www.nytimes.com/2016/02/17/world/europe...</td>\n",
       "      <td>465vcp</td>\n",
       "      <td>worldnews</td>\n",
       "      <td>news</td>\n",
       "      <td>2016-02-17 01:52:19</td>\n",
       "      <td>JonnyTheRobot</td>\n",
       "      <td>6</td>\n",
       "      <td>0</td>\n",
       "      <td>53.0</td>\n",
       "      <td>32.0</td>\n",
       "      <td>0.0</td>\n",
       "    </tr>\n",
       "    <tr>\n",
       "      <th>20183</th>\n",
       "      <td>NaN</td>\n",
       "      <td>hungary assails human rights advocates in the ...</td>\n",
       "      <td>http://www.nytimes.com/2016/02/17/world/europe...</td>\n",
       "      <td>465vcp</td>\n",
       "      <td>worldnews</td>\n",
       "      <td>news</td>\n",
       "      <td>2016-02-17 01:52:19</td>\n",
       "      <td>JonnyTheRobot</td>\n",
       "      <td>6</td>\n",
       "      <td>0</td>\n",
       "      <td>53.0</td>\n",
       "      <td>32.0</td>\n",
       "      <td>0.0</td>\n",
       "    </tr>\n",
       "    <tr>\n",
       "      <th>20383</th>\n",
       "      <td>NaN</td>\n",
       "      <td>hungary assails human rights advocates in the ...</td>\n",
       "      <td>http://www.nytimes.com/2016/02/17/world/europe...</td>\n",
       "      <td>465vcp</td>\n",
       "      <td>worldnews</td>\n",
       "      <td>news</td>\n",
       "      <td>2016-02-17 01:52:19</td>\n",
       "      <td>JonnyTheRobot</td>\n",
       "      <td>6</td>\n",
       "      <td>0</td>\n",
       "      <td>53.0</td>\n",
       "      <td>32.0</td>\n",
       "      <td>0.0</td>\n",
       "    </tr>\n",
       "    <tr>\n",
       "      <th>20984</th>\n",
       "      <td>NaN</td>\n",
       "      <td>hungary assails human rights advocates in the ...</td>\n",
       "      <td>http://www.nytimes.com/2016/02/17/world/europe...</td>\n",
       "      <td>465vcp</td>\n",
       "      <td>worldnews</td>\n",
       "      <td>news</td>\n",
       "      <td>2016-02-17 01:52:19</td>\n",
       "      <td>JonnyTheRobot</td>\n",
       "      <td>6</td>\n",
       "      <td>0</td>\n",
       "      <td>53.0</td>\n",
       "      <td>32.0</td>\n",
       "      <td>0.0</td>\n",
       "    </tr>\n",
       "    <tr>\n",
       "      <th>21684</th>\n",
       "      <td>NaN</td>\n",
       "      <td>hungary assails human rights advocates in the ...</td>\n",
       "      <td>http://www.nytimes.com/2016/02/17/world/europe...</td>\n",
       "      <td>465vcp</td>\n",
       "      <td>worldnews</td>\n",
       "      <td>news</td>\n",
       "      <td>2016-02-17 01:52:19</td>\n",
       "      <td>JonnyTheRobot</td>\n",
       "      <td>5</td>\n",
       "      <td>0</td>\n",
       "      <td>53.0</td>\n",
       "      <td>32.0</td>\n",
       "      <td>0.0</td>\n",
       "    </tr>\n",
       "    <tr>\n",
       "      <th>22084</th>\n",
       "      <td>NaN</td>\n",
       "      <td>hungary assails human rights advocates in the ...</td>\n",
       "      <td>http://www.nytimes.com/2016/02/17/world/europe...</td>\n",
       "      <td>465vcp</td>\n",
       "      <td>worldnews</td>\n",
       "      <td>news</td>\n",
       "      <td>2016-02-17 01:52:19</td>\n",
       "      <td>JonnyTheRobot</td>\n",
       "      <td>5</td>\n",
       "      <td>0</td>\n",
       "      <td>53.0</td>\n",
       "      <td>32.0</td>\n",
       "      <td>0.0</td>\n",
       "    </tr>\n",
       "    <tr>\n",
       "      <th>23387</th>\n",
       "      <td>NaN</td>\n",
       "      <td>hungary assails human rights advocates in the ...</td>\n",
       "      <td>http://www.nytimes.com/2016/02/17/world/europe...</td>\n",
       "      <td>465vcp</td>\n",
       "      <td>worldnews</td>\n",
       "      <td>news</td>\n",
       "      <td>2016-02-17 01:52:19</td>\n",
       "      <td>JonnyTheRobot</td>\n",
       "      <td>5</td>\n",
       "      <td>0</td>\n",
       "      <td>53.0</td>\n",
       "      <td>32.0</td>\n",
       "      <td>0.0</td>\n",
       "    </tr>\n",
       "    <tr>\n",
       "      <th>23887</th>\n",
       "      <td>NaN</td>\n",
       "      <td>hungary assails human rights advocates in the ...</td>\n",
       "      <td>http://www.nytimes.com/2016/02/17/world/europe...</td>\n",
       "      <td>465vcp</td>\n",
       "      <td>worldnews</td>\n",
       "      <td>news</td>\n",
       "      <td>2016-02-17 01:52:19</td>\n",
       "      <td>JonnyTheRobot</td>\n",
       "      <td>5</td>\n",
       "      <td>0</td>\n",
       "      <td>53.0</td>\n",
       "      <td>32.0</td>\n",
       "      <td>0.0</td>\n",
       "    </tr>\n",
       "    <tr>\n",
       "      <th>24889</th>\n",
       "      <td>NaN</td>\n",
       "      <td>hungary assails human rights advocates in the ...</td>\n",
       "      <td>http://www.nytimes.com/2016/02/17/world/europe...</td>\n",
       "      <td>465vcp</td>\n",
       "      <td>worldnews</td>\n",
       "      <td>news</td>\n",
       "      <td>2016-02-17 01:52:19</td>\n",
       "      <td>JonnyTheRobot</td>\n",
       "      <td>5</td>\n",
       "      <td>0</td>\n",
       "      <td>53.0</td>\n",
       "      <td>32.0</td>\n",
       "      <td>0.0</td>\n",
       "    </tr>\n",
       "    <tr>\n",
       "      <th>25189</th>\n",
       "      <td>NaN</td>\n",
       "      <td>hungary assails human rights advocates in the ...</td>\n",
       "      <td>http://www.nytimes.com/2016/02/17/world/europe...</td>\n",
       "      <td>465vcp</td>\n",
       "      <td>worldnews</td>\n",
       "      <td>news</td>\n",
       "      <td>2016-02-17 01:52:19</td>\n",
       "      <td>JonnyTheRobot</td>\n",
       "      <td>5</td>\n",
       "      <td>0</td>\n",
       "      <td>53.0</td>\n",
       "      <td>32.0</td>\n",
       "      <td>0.0</td>\n",
       "    </tr>\n",
       "    <tr>\n",
       "      <th>26994</th>\n",
       "      <td>NaN</td>\n",
       "      <td>hungary assails human rights advocates in the ...</td>\n",
       "      <td>http://www.nytimes.com/2016/02/17/world/europe...</td>\n",
       "      <td>465vcp</td>\n",
       "      <td>worldnews</td>\n",
       "      <td>news</td>\n",
       "      <td>2016-02-17 01:52:19</td>\n",
       "      <td>JonnyTheRobot</td>\n",
       "      <td>5</td>\n",
       "      <td>0</td>\n",
       "      <td>53.0</td>\n",
       "      <td>32.0</td>\n",
       "      <td>0.0</td>\n",
       "    </tr>\n",
       "    <tr>\n",
       "      <th>27594</th>\n",
       "      <td>NaN</td>\n",
       "      <td>hungary assails human rights advocates in the ...</td>\n",
       "      <td>http://www.nytimes.com/2016/02/17/world/europe...</td>\n",
       "      <td>465vcp</td>\n",
       "      <td>worldnews</td>\n",
       "      <td>news</td>\n",
       "      <td>2016-02-17 01:52:19</td>\n",
       "      <td>JonnyTheRobot</td>\n",
       "      <td>5</td>\n",
       "      <td>0</td>\n",
       "      <td>53.0</td>\n",
       "      <td>32.0</td>\n",
       "      <td>0.0</td>\n",
       "    </tr>\n",
       "    <tr>\n",
       "      <th>28894</th>\n",
       "      <td>NaN</td>\n",
       "      <td>hungary assails human rights advocates in the ...</td>\n",
       "      <td>http://www.nytimes.com/2016/02/17/world/europe...</td>\n",
       "      <td>465vcp</td>\n",
       "      <td>worldnews</td>\n",
       "      <td>news</td>\n",
       "      <td>2016-02-17 01:52:19</td>\n",
       "      <td>JonnyTheRobot</td>\n",
       "      <td>5</td>\n",
       "      <td>0</td>\n",
       "      <td>53.0</td>\n",
       "      <td>32.0</td>\n",
       "      <td>0.0</td>\n",
       "    </tr>\n",
       "    <tr>\n",
       "      <th>30698</th>\n",
       "      <td>NaN</td>\n",
       "      <td>hungary assails human rights advocates in the ...</td>\n",
       "      <td>http://www.nytimes.com/2016/02/17/world/europe...</td>\n",
       "      <td>465vcp</td>\n",
       "      <td>worldnews</td>\n",
       "      <td>news</td>\n",
       "      <td>2016-02-17 01:52:19</td>\n",
       "      <td>JonnyTheRobot</td>\n",
       "      <td>5</td>\n",
       "      <td>0</td>\n",
       "      <td>53.0</td>\n",
       "      <td>32.0</td>\n",
       "      <td>0.0</td>\n",
       "    </tr>\n",
       "    <tr>\n",
       "      <th>30899</th>\n",
       "      <td>NaN</td>\n",
       "      <td>hungary assails human rights advocates in the ...</td>\n",
       "      <td>http://www.nytimes.com/2016/02/17/world/europe...</td>\n",
       "      <td>465vcp</td>\n",
       "      <td>worldnews</td>\n",
       "      <td>news</td>\n",
       "      <td>2016-02-17 01:52:19</td>\n",
       "      <td>JonnyTheRobot</td>\n",
       "      <td>5</td>\n",
       "      <td>0</td>\n",
       "      <td>53.0</td>\n",
       "      <td>32.0</td>\n",
       "      <td>0.0</td>\n",
       "    </tr>\n",
       "    <tr>\n",
       "      <th>31198</th>\n",
       "      <td>NaN</td>\n",
       "      <td>hungary assails human rights advocates in the ...</td>\n",
       "      <td>http://www.nytimes.com/2016/02/17/world/europe...</td>\n",
       "      <td>465vcp</td>\n",
       "      <td>worldnews</td>\n",
       "      <td>news</td>\n",
       "      <td>2016-02-17 01:52:19</td>\n",
       "      <td>JonnyTheRobot</td>\n",
       "      <td>5</td>\n",
       "      <td>0</td>\n",
       "      <td>53.0</td>\n",
       "      <td>32.0</td>\n",
       "      <td>0.0</td>\n",
       "    </tr>\n",
       "    <tr>\n",
       "      <th>31900</th>\n",
       "      <td>NaN</td>\n",
       "      <td>hungary assails human rights advocates in the ...</td>\n",
       "      <td>http://www.nytimes.com/2016/02/17/world/europe...</td>\n",
       "      <td>465vcp</td>\n",
       "      <td>worldnews</td>\n",
       "      <td>news</td>\n",
       "      <td>2016-02-17 01:52:19</td>\n",
       "      <td>JonnyTheRobot</td>\n",
       "      <td>5</td>\n",
       "      <td>0</td>\n",
       "      <td>53.0</td>\n",
       "      <td>32.0</td>\n",
       "      <td>0.0</td>\n",
       "    </tr>\n",
       "    <tr>\n",
       "      <th>32300</th>\n",
       "      <td>NaN</td>\n",
       "      <td>hungary assails human rights advocates in the ...</td>\n",
       "      <td>http://www.nytimes.com/2016/02/17/world/europe...</td>\n",
       "      <td>465vcp</td>\n",
       "      <td>worldnews</td>\n",
       "      <td>news</td>\n",
       "      <td>2016-02-17 01:52:19</td>\n",
       "      <td>JonnyTheRobot</td>\n",
       "      <td>5</td>\n",
       "      <td>0</td>\n",
       "      <td>53.0</td>\n",
       "      <td>32.0</td>\n",
       "      <td>0.0</td>\n",
       "    </tr>\n",
       "    <tr>\n",
       "      <th>32901</th>\n",
       "      <td>NaN</td>\n",
       "      <td>hungary assails human rights advocates in the ...</td>\n",
       "      <td>http://www.nytimes.com/2016/02/17/world/europe...</td>\n",
       "      <td>465vcp</td>\n",
       "      <td>worldnews</td>\n",
       "      <td>news</td>\n",
       "      <td>2016-02-17 01:52:19</td>\n",
       "      <td>JonnyTheRobot</td>\n",
       "      <td>5</td>\n",
       "      <td>0</td>\n",
       "      <td>53.0</td>\n",
       "      <td>32.0</td>\n",
       "      <td>0.0</td>\n",
       "    </tr>\n",
       "    <tr>\n",
       "      <th>33602</th>\n",
       "      <td>NaN</td>\n",
       "      <td>hungary assails human rights advocates in the ...</td>\n",
       "      <td>http://www.nytimes.com/2016/02/17/world/europe...</td>\n",
       "      <td>465vcp</td>\n",
       "      <td>worldnews</td>\n",
       "      <td>news</td>\n",
       "      <td>2016-02-17 01:52:19</td>\n",
       "      <td>JonnyTheRobot</td>\n",
       "      <td>5</td>\n",
       "      <td>0</td>\n",
       "      <td>53.0</td>\n",
       "      <td>32.0</td>\n",
       "      <td>0.0</td>\n",
       "    </tr>\n",
       "    <tr>\n",
       "      <th>34003</th>\n",
       "      <td>NaN</td>\n",
       "      <td>hungary assails human rights advocates in the ...</td>\n",
       "      <td>http://www.nytimes.com/2016/02/17/world/europe...</td>\n",
       "      <td>465vcp</td>\n",
       "      <td>worldnews</td>\n",
       "      <td>news</td>\n",
       "      <td>2016-02-17 01:52:19</td>\n",
       "      <td>JonnyTheRobot</td>\n",
       "      <td>5</td>\n",
       "      <td>0</td>\n",
       "      <td>53.0</td>\n",
       "      <td>32.0</td>\n",
       "      <td>0.0</td>\n",
       "    </tr>\n",
       "    <tr>\n",
       "      <th>35104</th>\n",
       "      <td>NaN</td>\n",
       "      <td>hungary assails human rights advocates in the ...</td>\n",
       "      <td>http://www.nytimes.com/2016/02/17/world/europe...</td>\n",
       "      <td>465vcp</td>\n",
       "      <td>worldnews</td>\n",
       "      <td>news</td>\n",
       "      <td>2016-02-17 01:52:19</td>\n",
       "      <td>JonnyTheRobot</td>\n",
       "      <td>5</td>\n",
       "      <td>0</td>\n",
       "      <td>53.0</td>\n",
       "      <td>32.0</td>\n",
       "      <td>0.0</td>\n",
       "    </tr>\n",
       "    <tr>\n",
       "      <th>35304</th>\n",
       "      <td>NaN</td>\n",
       "      <td>hungary assails human rights advocates in the ...</td>\n",
       "      <td>http://www.nytimes.com/2016/02/17/world/europe...</td>\n",
       "      <td>465vcp</td>\n",
       "      <td>worldnews</td>\n",
       "      <td>news</td>\n",
       "      <td>2016-02-17 01:52:19</td>\n",
       "      <td>JonnyTheRobot</td>\n",
       "      <td>5</td>\n",
       "      <td>0</td>\n",
       "      <td>53.0</td>\n",
       "      <td>32.0</td>\n",
       "      <td>0.0</td>\n",
       "    </tr>\n",
       "    <tr>\n",
       "      <th>36105</th>\n",
       "      <td>NaN</td>\n",
       "      <td>hungary assails human rights advocates in the ...</td>\n",
       "      <td>http://www.nytimes.com/2016/02/17/world/europe...</td>\n",
       "      <td>465vcp</td>\n",
       "      <td>worldnews</td>\n",
       "      <td>news</td>\n",
       "      <td>2016-02-17 01:52:19</td>\n",
       "      <td>JonnyTheRobot</td>\n",
       "      <td>5</td>\n",
       "      <td>0</td>\n",
       "      <td>53.0</td>\n",
       "      <td>32.0</td>\n",
       "      <td>0.0</td>\n",
       "    </tr>\n",
       "    <tr>\n",
       "      <th>37006</th>\n",
       "      <td>NaN</td>\n",
       "      <td>hungary assails human rights advocates in the ...</td>\n",
       "      <td>http://www.nytimes.com/2016/02/17/world/europe...</td>\n",
       "      <td>465vcp</td>\n",
       "      <td>worldnews</td>\n",
       "      <td>news</td>\n",
       "      <td>2016-02-17 01:52:19</td>\n",
       "      <td>JonnyTheRobot</td>\n",
       "      <td>8</td>\n",
       "      <td>0</td>\n",
       "      <td>53.0</td>\n",
       "      <td>32.0</td>\n",
       "      <td>0.0</td>\n",
       "    </tr>\n",
       "    <tr>\n",
       "      <th>37609</th>\n",
       "      <td>NaN</td>\n",
       "      <td>hungary assails human rights advocates in the ...</td>\n",
       "      <td>http://www.nytimes.com/2016/02/17/world/europe...</td>\n",
       "      <td>465vcp</td>\n",
       "      <td>worldnews</td>\n",
       "      <td>news</td>\n",
       "      <td>2016-02-17 01:52:19</td>\n",
       "      <td>JonnyTheRobot</td>\n",
       "      <td>8</td>\n",
       "      <td>0</td>\n",
       "      <td>53.0</td>\n",
       "      <td>32.0</td>\n",
       "      <td>0.0</td>\n",
       "    </tr>\n",
       "    <tr>\n",
       "      <th>37709</th>\n",
       "      <td>NaN</td>\n",
       "      <td>hungary assails human rights advocates in the ...</td>\n",
       "      <td>http://www.nytimes.com/2016/02/17/world/europe...</td>\n",
       "      <td>465vcp</td>\n",
       "      <td>worldnews</td>\n",
       "      <td>news</td>\n",
       "      <td>2016-02-17 01:52:19</td>\n",
       "      <td>JonnyTheRobot</td>\n",
       "      <td>8</td>\n",
       "      <td>0</td>\n",
       "      <td>53.0</td>\n",
       "      <td>32.0</td>\n",
       "      <td>0.0</td>\n",
       "    </tr>\n",
       "    <tr>\n",
       "      <th>38109</th>\n",
       "      <td>NaN</td>\n",
       "      <td>hungary assails human rights advocates in the ...</td>\n",
       "      <td>http://www.nytimes.com/2016/02/17/world/europe...</td>\n",
       "      <td>465vcp</td>\n",
       "      <td>worldnews</td>\n",
       "      <td>news</td>\n",
       "      <td>2016-02-17 01:52:19</td>\n",
       "      <td>JonnyTheRobot</td>\n",
       "      <td>8</td>\n",
       "      <td>0</td>\n",
       "      <td>53.0</td>\n",
       "      <td>32.0</td>\n",
       "      <td>0.0</td>\n",
       "    </tr>\n",
       "    <tr>\n",
       "      <th>39410</th>\n",
       "      <td>NaN</td>\n",
       "      <td>hungary assails human rights advocates in the ...</td>\n",
       "      <td>http://www.nytimes.com/2016/02/17/world/europe...</td>\n",
       "      <td>465vcp</td>\n",
       "      <td>worldnews</td>\n",
       "      <td>news</td>\n",
       "      <td>2016-02-17 01:52:19</td>\n",
       "      <td>JonnyTheRobot</td>\n",
       "      <td>8</td>\n",
       "      <td>0</td>\n",
       "      <td>53.0</td>\n",
       "      <td>32.0</td>\n",
       "      <td>0.0</td>\n",
       "    </tr>\n",
       "    <tr>\n",
       "      <th>39710</th>\n",
       "      <td>NaN</td>\n",
       "      <td>hungary assails human rights advocates in the ...</td>\n",
       "      <td>http://www.nytimes.com/2016/02/17/world/europe...</td>\n",
       "      <td>465vcp</td>\n",
       "      <td>worldnews</td>\n",
       "      <td>news</td>\n",
       "      <td>2016-02-17 01:52:19</td>\n",
       "      <td>JonnyTheRobot</td>\n",
       "      <td>8</td>\n",
       "      <td>0</td>\n",
       "      <td>53.0</td>\n",
       "      <td>32.0</td>\n",
       "      <td>0.0</td>\n",
       "    </tr>\n",
       "    <tr>\n",
       "      <th>40010</th>\n",
       "      <td>NaN</td>\n",
       "      <td>hungary assails human rights advocates in the ...</td>\n",
       "      <td>http://www.nytimes.com/2016/02/17/world/europe...</td>\n",
       "      <td>465vcp</td>\n",
       "      <td>worldnews</td>\n",
       "      <td>news</td>\n",
       "      <td>2016-02-17 01:52:19</td>\n",
       "      <td>JonnyTheRobot</td>\n",
       "      <td>8</td>\n",
       "      <td>0</td>\n",
       "      <td>53.0</td>\n",
       "      <td>32.0</td>\n",
       "      <td>0.0</td>\n",
       "    </tr>\n",
       "    <tr>\n",
       "      <th>40210</th>\n",
       "      <td>NaN</td>\n",
       "      <td>hungary assails human rights advocates in the ...</td>\n",
       "      <td>http://www.nytimes.com/2016/02/17/world/europe...</td>\n",
       "      <td>465vcp</td>\n",
       "      <td>worldnews</td>\n",
       "      <td>news</td>\n",
       "      <td>2016-02-17 01:52:19</td>\n",
       "      <td>JonnyTheRobot</td>\n",
       "      <td>8</td>\n",
       "      <td>0</td>\n",
       "      <td>53.0</td>\n",
       "      <td>32.0</td>\n",
       "      <td>0.0</td>\n",
       "    </tr>\n",
       "    <tr>\n",
       "      <th>40611</th>\n",
       "      <td>NaN</td>\n",
       "      <td>hungary assails human rights advocates in the ...</td>\n",
       "      <td>http://www.nytimes.com/2016/02/17/world/europe...</td>\n",
       "      <td>465vcp</td>\n",
       "      <td>worldnews</td>\n",
       "      <td>news</td>\n",
       "      <td>2016-02-17 01:52:19</td>\n",
       "      <td>JonnyTheRobot</td>\n",
       "      <td>8</td>\n",
       "      <td>0</td>\n",
       "      <td>53.0</td>\n",
       "      <td>32.0</td>\n",
       "      <td>0.0</td>\n",
       "    </tr>\n",
       "    <tr>\n",
       "      <th>40711</th>\n",
       "      <td>NaN</td>\n",
       "      <td>hungary assails human rights advocates in the ...</td>\n",
       "      <td>http://www.nytimes.com/2016/02/17/world/europe...</td>\n",
       "      <td>465vcp</td>\n",
       "      <td>worldnews</td>\n",
       "      <td>news</td>\n",
       "      <td>2016-02-17 01:52:19</td>\n",
       "      <td>JonnyTheRobot</td>\n",
       "      <td>8</td>\n",
       "      <td>0</td>\n",
       "      <td>53.0</td>\n",
       "      <td>32.0</td>\n",
       "      <td>0.0</td>\n",
       "    </tr>\n",
       "    <tr>\n",
       "      <th>40911</th>\n",
       "      <td>NaN</td>\n",
       "      <td>hungary assails human rights advocates in the ...</td>\n",
       "      <td>http://www.nytimes.com/2016/02/17/world/europe...</td>\n",
       "      <td>465vcp</td>\n",
       "      <td>worldnews</td>\n",
       "      <td>news</td>\n",
       "      <td>2016-02-17 01:52:19</td>\n",
       "      <td>JonnyTheRobot</td>\n",
       "      <td>8</td>\n",
       "      <td>0</td>\n",
       "      <td>53.0</td>\n",
       "      <td>32.0</td>\n",
       "      <td>0.0</td>\n",
       "    </tr>\n",
       "    <tr>\n",
       "      <th>42214</th>\n",
       "      <td>NaN</td>\n",
       "      <td>hungary assails human rights advocates in the ...</td>\n",
       "      <td>http://www.nytimes.com/2016/02/17/world/europe...</td>\n",
       "      <td>465vcp</td>\n",
       "      <td>worldnews</td>\n",
       "      <td>news</td>\n",
       "      <td>2016-02-17 01:52:19</td>\n",
       "      <td>JonnyTheRobot</td>\n",
       "      <td>8</td>\n",
       "      <td>0</td>\n",
       "      <td>53.0</td>\n",
       "      <td>32.0</td>\n",
       "      <td>0.0</td>\n",
       "    </tr>\n",
       "    <tr>\n",
       "      <th>42515</th>\n",
       "      <td>NaN</td>\n",
       "      <td>hungary assails human rights advocates in the ...</td>\n",
       "      <td>http://www.nytimes.com/2016/02/17/world/europe...</td>\n",
       "      <td>465vcp</td>\n",
       "      <td>worldnews</td>\n",
       "      <td>news</td>\n",
       "      <td>2016-02-17 01:52:19</td>\n",
       "      <td>JonnyTheRobot</td>\n",
       "      <td>8</td>\n",
       "      <td>0</td>\n",
       "      <td>53.0</td>\n",
       "      <td>32.0</td>\n",
       "      <td>0.0</td>\n",
       "    </tr>\n",
       "    <tr>\n",
       "      <th>43116</th>\n",
       "      <td>NaN</td>\n",
       "      <td>hungary assails human rights advocates in the ...</td>\n",
       "      <td>http://www.nytimes.com/2016/02/17/world/europe...</td>\n",
       "      <td>465vcp</td>\n",
       "      <td>worldnews</td>\n",
       "      <td>news</td>\n",
       "      <td>2016-02-17 01:52:19</td>\n",
       "      <td>JonnyTheRobot</td>\n",
       "      <td>8</td>\n",
       "      <td>0</td>\n",
       "      <td>53.0</td>\n",
       "      <td>32.0</td>\n",
       "      <td>0.0</td>\n",
       "    </tr>\n",
       "    <tr>\n",
       "      <th>44620</th>\n",
       "      <td>NaN</td>\n",
       "      <td>hungary assails human rights advocates in the ...</td>\n",
       "      <td>http://www.nytimes.com/2016/02/17/world/europe...</td>\n",
       "      <td>465vcp</td>\n",
       "      <td>worldnews</td>\n",
       "      <td>news</td>\n",
       "      <td>2016-02-17 01:52:19</td>\n",
       "      <td>JonnyTheRobot</td>\n",
       "      <td>8</td>\n",
       "      <td>0</td>\n",
       "      <td>53.0</td>\n",
       "      <td>32.0</td>\n",
       "      <td>0.0</td>\n",
       "    </tr>\n",
       "    <tr>\n",
       "      <th>44920</th>\n",
       "      <td>NaN</td>\n",
       "      <td>hungary assails human rights advocates in the ...</td>\n",
       "      <td>http://www.nytimes.com/2016/02/17/world/europe...</td>\n",
       "      <td>465vcp</td>\n",
       "      <td>worldnews</td>\n",
       "      <td>news</td>\n",
       "      <td>2016-02-17 01:52:19</td>\n",
       "      <td>JonnyTheRobot</td>\n",
       "      <td>8</td>\n",
       "      <td>0</td>\n",
       "      <td>53.0</td>\n",
       "      <td>32.0</td>\n",
       "      <td>0.0</td>\n",
       "    </tr>\n",
       "    <tr>\n",
       "      <th>45220</th>\n",
       "      <td>NaN</td>\n",
       "      <td>hungary assails human rights advocates in the ...</td>\n",
       "      <td>http://www.nytimes.com/2016/02/17/world/europe...</td>\n",
       "      <td>465vcp</td>\n",
       "      <td>worldnews</td>\n",
       "      <td>news</td>\n",
       "      <td>2016-02-17 01:52:19</td>\n",
       "      <td>JonnyTheRobot</td>\n",
       "      <td>8</td>\n",
       "      <td>0</td>\n",
       "      <td>53.0</td>\n",
       "      <td>32.0</td>\n",
       "      <td>0.0</td>\n",
       "    </tr>\n",
       "  </tbody>\n",
       "</table>\n",
       "</div>"
      ],
      "text/plain": [
       "      text                                              title  \\\n",
       "752    NaN  hungary assails human rights advocates in the ...   \n",
       "1294   NaN  hungary assails human rights advocates in the ...   \n",
       "2014   NaN  hungary assails human rights advocates in the ...   \n",
       "2557   NaN  hungary assails human rights advocates in the ...   \n",
       "6562   NaN  hungary assails human rights advocates in the ...   \n",
       "7461   NaN  hungary assails human rights advocates in the ...   \n",
       "8261   NaN  hungary assails human rights advocates in the ...   \n",
       "9015   NaN  hungary assails human rights advocates in the ...   \n",
       "9263   NaN  hungary assails human rights advocates in the ...   \n",
       "10244  NaN  hungary assails human rights advocates in the ...   \n",
       "11571  NaN  hungary assails human rights advocates in the ...   \n",
       "11671  NaN  hungary assails human rights advocates in the ...   \n",
       "13074  NaN  hungary assails human rights advocates in the ...   \n",
       "13876  NaN  hungary assails human rights advocates in the ...   \n",
       "14375  NaN  hungary assails human rights advocates in the ...   \n",
       "14475  NaN  hungary assails human rights advocates in the ...   \n",
       "15076  NaN  hungary assails human rights advocates in the ...   \n",
       "20183  NaN  hungary assails human rights advocates in the ...   \n",
       "20383  NaN  hungary assails human rights advocates in the ...   \n",
       "20984  NaN  hungary assails human rights advocates in the ...   \n",
       "21684  NaN  hungary assails human rights advocates in the ...   \n",
       "22084  NaN  hungary assails human rights advocates in the ...   \n",
       "23387  NaN  hungary assails human rights advocates in the ...   \n",
       "23887  NaN  hungary assails human rights advocates in the ...   \n",
       "24889  NaN  hungary assails human rights advocates in the ...   \n",
       "25189  NaN  hungary assails human rights advocates in the ...   \n",
       "26994  NaN  hungary assails human rights advocates in the ...   \n",
       "27594  NaN  hungary assails human rights advocates in the ...   \n",
       "28894  NaN  hungary assails human rights advocates in the ...   \n",
       "30698  NaN  hungary assails human rights advocates in the ...   \n",
       "30899  NaN  hungary assails human rights advocates in the ...   \n",
       "31198  NaN  hungary assails human rights advocates in the ...   \n",
       "31900  NaN  hungary assails human rights advocates in the ...   \n",
       "32300  NaN  hungary assails human rights advocates in the ...   \n",
       "32901  NaN  hungary assails human rights advocates in the ...   \n",
       "33602  NaN  hungary assails human rights advocates in the ...   \n",
       "34003  NaN  hungary assails human rights advocates in the ...   \n",
       "35104  NaN  hungary assails human rights advocates in the ...   \n",
       "35304  NaN  hungary assails human rights advocates in the ...   \n",
       "36105  NaN  hungary assails human rights advocates in the ...   \n",
       "37006  NaN  hungary assails human rights advocates in the ...   \n",
       "37609  NaN  hungary assails human rights advocates in the ...   \n",
       "37709  NaN  hungary assails human rights advocates in the ...   \n",
       "38109  NaN  hungary assails human rights advocates in the ...   \n",
       "39410  NaN  hungary assails human rights advocates in the ...   \n",
       "39710  NaN  hungary assails human rights advocates in the ...   \n",
       "40010  NaN  hungary assails human rights advocates in the ...   \n",
       "40210  NaN  hungary assails human rights advocates in the ...   \n",
       "40611  NaN  hungary assails human rights advocates in the ...   \n",
       "40711  NaN  hungary assails human rights advocates in the ...   \n",
       "40911  NaN  hungary assails human rights advocates in the ...   \n",
       "42214  NaN  hungary assails human rights advocates in the ...   \n",
       "42515  NaN  hungary assails human rights advocates in the ...   \n",
       "43116  NaN  hungary assails human rights advocates in the ...   \n",
       "44620  NaN  hungary assails human rights advocates in the ...   \n",
       "44920  NaN  hungary assails human rights advocates in the ...   \n",
       "45220  NaN  hungary assails human rights advocates in the ...   \n",
       "\n",
       "                                                     url      id  subreddit  \\\n",
       "752    http://www.nytimes.com/2016/02/17/world/europe...  465vcp  worldnews   \n",
       "1294   http://www.nytimes.com/2016/02/17/world/europe...  465vcp  worldnews   \n",
       "2014   http://www.nytimes.com/2016/02/17/world/europe...  465vcp  worldnews   \n",
       "2557   http://www.nytimes.com/2016/02/17/world/europe...  465vcp  worldnews   \n",
       "6562   http://www.nytimes.com/2016/02/17/world/europe...  465vcp  worldnews   \n",
       "7461   http://www.nytimes.com/2016/02/17/world/europe...  465vcp  worldnews   \n",
       "8261   http://www.nytimes.com/2016/02/17/world/europe...  465vcp  worldnews   \n",
       "9015   http://www.nytimes.com/2016/02/17/world/europe...  465vcp  worldnews   \n",
       "9263   http://www.nytimes.com/2016/02/17/world/europe...  465vcp  worldnews   \n",
       "10244  http://www.nytimes.com/2016/02/17/world/europe...  465vcp  worldnews   \n",
       "11571  http://www.nytimes.com/2016/02/17/world/europe...  465vcp  worldnews   \n",
       "11671  http://www.nytimes.com/2016/02/17/world/europe...  465vcp  worldnews   \n",
       "13074  http://www.nytimes.com/2016/02/17/world/europe...  465vcp  worldnews   \n",
       "13876  http://www.nytimes.com/2016/02/17/world/europe...  465vcp  worldnews   \n",
       "14375  http://www.nytimes.com/2016/02/17/world/europe...  465vcp  worldnews   \n",
       "14475  http://www.nytimes.com/2016/02/17/world/europe...  465vcp  worldnews   \n",
       "15076  http://www.nytimes.com/2016/02/17/world/europe...  465vcp  worldnews   \n",
       "20183  http://www.nytimes.com/2016/02/17/world/europe...  465vcp  worldnews   \n",
       "20383  http://www.nytimes.com/2016/02/17/world/europe...  465vcp  worldnews   \n",
       "20984  http://www.nytimes.com/2016/02/17/world/europe...  465vcp  worldnews   \n",
       "21684  http://www.nytimes.com/2016/02/17/world/europe...  465vcp  worldnews   \n",
       "22084  http://www.nytimes.com/2016/02/17/world/europe...  465vcp  worldnews   \n",
       "23387  http://www.nytimes.com/2016/02/17/world/europe...  465vcp  worldnews   \n",
       "23887  http://www.nytimes.com/2016/02/17/world/europe...  465vcp  worldnews   \n",
       "24889  http://www.nytimes.com/2016/02/17/world/europe...  465vcp  worldnews   \n",
       "25189  http://www.nytimes.com/2016/02/17/world/europe...  465vcp  worldnews   \n",
       "26994  http://www.nytimes.com/2016/02/17/world/europe...  465vcp  worldnews   \n",
       "27594  http://www.nytimes.com/2016/02/17/world/europe...  465vcp  worldnews   \n",
       "28894  http://www.nytimes.com/2016/02/17/world/europe...  465vcp  worldnews   \n",
       "30698  http://www.nytimes.com/2016/02/17/world/europe...  465vcp  worldnews   \n",
       "30899  http://www.nytimes.com/2016/02/17/world/europe...  465vcp  worldnews   \n",
       "31198  http://www.nytimes.com/2016/02/17/world/europe...  465vcp  worldnews   \n",
       "31900  http://www.nytimes.com/2016/02/17/world/europe...  465vcp  worldnews   \n",
       "32300  http://www.nytimes.com/2016/02/17/world/europe...  465vcp  worldnews   \n",
       "32901  http://www.nytimes.com/2016/02/17/world/europe...  465vcp  worldnews   \n",
       "33602  http://www.nytimes.com/2016/02/17/world/europe...  465vcp  worldnews   \n",
       "34003  http://www.nytimes.com/2016/02/17/world/europe...  465vcp  worldnews   \n",
       "35104  http://www.nytimes.com/2016/02/17/world/europe...  465vcp  worldnews   \n",
       "35304  http://www.nytimes.com/2016/02/17/world/europe...  465vcp  worldnews   \n",
       "36105  http://www.nytimes.com/2016/02/17/world/europe...  465vcp  worldnews   \n",
       "37006  http://www.nytimes.com/2016/02/17/world/europe...  465vcp  worldnews   \n",
       "37609  http://www.nytimes.com/2016/02/17/world/europe...  465vcp  worldnews   \n",
       "37709  http://www.nytimes.com/2016/02/17/world/europe...  465vcp  worldnews   \n",
       "38109  http://www.nytimes.com/2016/02/17/world/europe...  465vcp  worldnews   \n",
       "39410  http://www.nytimes.com/2016/02/17/world/europe...  465vcp  worldnews   \n",
       "39710  http://www.nytimes.com/2016/02/17/world/europe...  465vcp  worldnews   \n",
       "40010  http://www.nytimes.com/2016/02/17/world/europe...  465vcp  worldnews   \n",
       "40210  http://www.nytimes.com/2016/02/17/world/europe...  465vcp  worldnews   \n",
       "40611  http://www.nytimes.com/2016/02/17/world/europe...  465vcp  worldnews   \n",
       "40711  http://www.nytimes.com/2016/02/17/world/europe...  465vcp  worldnews   \n",
       "40911  http://www.nytimes.com/2016/02/17/world/europe...  465vcp  worldnews   \n",
       "42214  http://www.nytimes.com/2016/02/17/world/europe...  465vcp  worldnews   \n",
       "42515  http://www.nytimes.com/2016/02/17/world/europe...  465vcp  worldnews   \n",
       "43116  http://www.nytimes.com/2016/02/17/world/europe...  465vcp  worldnews   \n",
       "44620  http://www.nytimes.com/2016/02/17/world/europe...  465vcp  worldnews   \n",
       "44920  http://www.nytimes.com/2016/02/17/world/europe...  465vcp  worldnews   \n",
       "45220  http://www.nytimes.com/2016/02/17/world/europe...  465vcp  worldnews   \n",
       "\n",
       "       meta                time         author  ups  downs  authorlinkkarma  \\\n",
       "752    news 2016-02-17 01:52:19  JonnyTheRobot    7      0              0.0   \n",
       "1294   news 2016-02-17 01:52:19  JonnyTheRobot    5      0             49.0   \n",
       "2014   news 2016-02-17 01:52:19  JonnyTheRobot    5      0             49.0   \n",
       "2557   news 2016-02-17 01:52:19  JonnyTheRobot    5      0             49.0   \n",
       "6562   news 2016-02-17 01:52:19  JonnyTheRobot    5      0             49.0   \n",
       "7461   news 2016-02-17 01:52:19  JonnyTheRobot    5      0             49.0   \n",
       "8261   news 2016-02-17 01:52:19  JonnyTheRobot    5      0             49.0   \n",
       "9015   news 2016-02-17 01:52:19  JonnyTheRobot    5      0             53.0   \n",
       "9263   news 2016-02-17 01:52:19  JonnyTheRobot    6      0             53.0   \n",
       "10244  news 2016-02-17 01:52:19  JonnyTheRobot    6      0             53.0   \n",
       "11571  news 2016-02-17 01:52:19  JonnyTheRobot    6      0             53.0   \n",
       "11671  news 2016-02-17 01:52:19  JonnyTheRobot    6      0             53.0   \n",
       "13074  news 2016-02-17 01:52:19  JonnyTheRobot    6      0             53.0   \n",
       "13876  news 2016-02-17 01:52:19  JonnyTheRobot    6      0             53.0   \n",
       "14375  news 2016-02-17 01:52:19  JonnyTheRobot    6      0             53.0   \n",
       "14475  news 2016-02-17 01:52:19  JonnyTheRobot    6      0             53.0   \n",
       "15076  news 2016-02-17 01:52:19  JonnyTheRobot    6      0             53.0   \n",
       "20183  news 2016-02-17 01:52:19  JonnyTheRobot    6      0             53.0   \n",
       "20383  news 2016-02-17 01:52:19  JonnyTheRobot    6      0             53.0   \n",
       "20984  news 2016-02-17 01:52:19  JonnyTheRobot    6      0             53.0   \n",
       "21684  news 2016-02-17 01:52:19  JonnyTheRobot    5      0             53.0   \n",
       "22084  news 2016-02-17 01:52:19  JonnyTheRobot    5      0             53.0   \n",
       "23387  news 2016-02-17 01:52:19  JonnyTheRobot    5      0             53.0   \n",
       "23887  news 2016-02-17 01:52:19  JonnyTheRobot    5      0             53.0   \n",
       "24889  news 2016-02-17 01:52:19  JonnyTheRobot    5      0             53.0   \n",
       "25189  news 2016-02-17 01:52:19  JonnyTheRobot    5      0             53.0   \n",
       "26994  news 2016-02-17 01:52:19  JonnyTheRobot    5      0             53.0   \n",
       "27594  news 2016-02-17 01:52:19  JonnyTheRobot    5      0             53.0   \n",
       "28894  news 2016-02-17 01:52:19  JonnyTheRobot    5      0             53.0   \n",
       "30698  news 2016-02-17 01:52:19  JonnyTheRobot    5      0             53.0   \n",
       "30899  news 2016-02-17 01:52:19  JonnyTheRobot    5      0             53.0   \n",
       "31198  news 2016-02-17 01:52:19  JonnyTheRobot    5      0             53.0   \n",
       "31900  news 2016-02-17 01:52:19  JonnyTheRobot    5      0             53.0   \n",
       "32300  news 2016-02-17 01:52:19  JonnyTheRobot    5      0             53.0   \n",
       "32901  news 2016-02-17 01:52:19  JonnyTheRobot    5      0             53.0   \n",
       "33602  news 2016-02-17 01:52:19  JonnyTheRobot    5      0             53.0   \n",
       "34003  news 2016-02-17 01:52:19  JonnyTheRobot    5      0             53.0   \n",
       "35104  news 2016-02-17 01:52:19  JonnyTheRobot    5      0             53.0   \n",
       "35304  news 2016-02-17 01:52:19  JonnyTheRobot    5      0             53.0   \n",
       "36105  news 2016-02-17 01:52:19  JonnyTheRobot    5      0             53.0   \n",
       "37006  news 2016-02-17 01:52:19  JonnyTheRobot    8      0             53.0   \n",
       "37609  news 2016-02-17 01:52:19  JonnyTheRobot    8      0             53.0   \n",
       "37709  news 2016-02-17 01:52:19  JonnyTheRobot    8      0             53.0   \n",
       "38109  news 2016-02-17 01:52:19  JonnyTheRobot    8      0             53.0   \n",
       "39410  news 2016-02-17 01:52:19  JonnyTheRobot    8      0             53.0   \n",
       "39710  news 2016-02-17 01:52:19  JonnyTheRobot    8      0             53.0   \n",
       "40010  news 2016-02-17 01:52:19  JonnyTheRobot    8      0             53.0   \n",
       "40210  news 2016-02-17 01:52:19  JonnyTheRobot    8      0             53.0   \n",
       "40611  news 2016-02-17 01:52:19  JonnyTheRobot    8      0             53.0   \n",
       "40711  news 2016-02-17 01:52:19  JonnyTheRobot    8      0             53.0   \n",
       "40911  news 2016-02-17 01:52:19  JonnyTheRobot    8      0             53.0   \n",
       "42214  news 2016-02-17 01:52:19  JonnyTheRobot    8      0             53.0   \n",
       "42515  news 2016-02-17 01:52:19  JonnyTheRobot    8      0             53.0   \n",
       "43116  news 2016-02-17 01:52:19  JonnyTheRobot    8      0             53.0   \n",
       "44620  news 2016-02-17 01:52:19  JonnyTheRobot    8      0             53.0   \n",
       "44920  news 2016-02-17 01:52:19  JonnyTheRobot    8      0             53.0   \n",
       "45220  news 2016-02-17 01:52:19  JonnyTheRobot    8      0             53.0   \n",
       "\n",
       "       authorcommentkarma  authorisgold  \n",
       "752                   0.0           NaN  \n",
       "1294                 32.0           0.0  \n",
       "2014                 32.0           0.0  \n",
       "2557                 32.0           0.0  \n",
       "6562                 32.0           0.0  \n",
       "7461                 32.0           0.0  \n",
       "8261                 32.0           0.0  \n",
       "9015                 32.0           0.0  \n",
       "9263                 32.0           0.0  \n",
       "10244                32.0           0.0  \n",
       "11571                32.0           0.0  \n",
       "11671                32.0           0.0  \n",
       "13074                32.0           0.0  \n",
       "13876                32.0           0.0  \n",
       "14375                32.0           0.0  \n",
       "14475                32.0           0.0  \n",
       "15076                32.0           0.0  \n",
       "20183                32.0           0.0  \n",
       "20383                32.0           0.0  \n",
       "20984                32.0           0.0  \n",
       "21684                32.0           0.0  \n",
       "22084                32.0           0.0  \n",
       "23387                32.0           0.0  \n",
       "23887                32.0           0.0  \n",
       "24889                32.0           0.0  \n",
       "25189                32.0           0.0  \n",
       "26994                32.0           0.0  \n",
       "27594                32.0           0.0  \n",
       "28894                32.0           0.0  \n",
       "30698                32.0           0.0  \n",
       "30899                32.0           0.0  \n",
       "31198                32.0           0.0  \n",
       "31900                32.0           0.0  \n",
       "32300                32.0           0.0  \n",
       "32901                32.0           0.0  \n",
       "33602                32.0           0.0  \n",
       "34003                32.0           0.0  \n",
       "35104                32.0           0.0  \n",
       "35304                32.0           0.0  \n",
       "36105                32.0           0.0  \n",
       "37006                32.0           0.0  \n",
       "37609                32.0           0.0  \n",
       "37709                32.0           0.0  \n",
       "38109                32.0           0.0  \n",
       "39410                32.0           0.0  \n",
       "39710                32.0           0.0  \n",
       "40010                32.0           0.0  \n",
       "40210                32.0           0.0  \n",
       "40611                32.0           0.0  \n",
       "40711                32.0           0.0  \n",
       "40911                32.0           0.0  \n",
       "42214                32.0           0.0  \n",
       "42515                32.0           0.0  \n",
       "43116                32.0           0.0  \n",
       "44620                32.0           0.0  \n",
       "44920                32.0           0.0  \n",
       "45220                32.0           0.0  "
      ]
     },
     "execution_count": 15,
     "metadata": {},
     "output_type": "execute_result"
    }
   ],
   "source": [
    "threads[threads.id == '465vcp']"
   ]
  },
  {
   "cell_type": "markdown",
   "metadata": {},
   "source": [
    "As you can see the there are multiple entry for the same thread, even though most of them columns are same, `ups, downs, authorlinkkarma, authorcommentkarma` seems to change, this might be because the same thread might be scrapped by multiple workers at differnt points in time. We should comsider the row with maximum no of ups, as it would be the latest value. (not always right but should work 99% times), and drop the rest.  \n",
    "The [reddit thread](https://www.reddit.com/r/worldnews/comments/465vcp/hungary_assails_human_rights_advocates_in_the/) link for the above entry for reference."
   ]
  },
  {
   "cell_type": "code",
   "execution_count": 16,
   "metadata": {},
   "outputs": [
    {
     "data": {
      "text/html": [
       "<div>\n",
       "<style scoped>\n",
       "    .dataframe tbody tr th:only-of-type {\n",
       "        vertical-align: middle;\n",
       "    }\n",
       "\n",
       "    .dataframe tbody tr th {\n",
       "        vertical-align: top;\n",
       "    }\n",
       "\n",
       "    .dataframe thead th {\n",
       "        text-align: right;\n",
       "    }\n",
       "</style>\n",
       "<table border=\"1\" class=\"dataframe\">\n",
       "  <thead>\n",
       "    <tr style=\"text-align: right;\">\n",
       "      <th></th>\n",
       "      <th></th>\n",
       "      <th></th>\n",
       "      <th>text</th>\n",
       "      <th>title</th>\n",
       "      <th>url</th>\n",
       "      <th>subreddit</th>\n",
       "      <th>meta</th>\n",
       "      <th>ups</th>\n",
       "      <th>downs</th>\n",
       "      <th>authorlinkkarma</th>\n",
       "      <th>authorcommentkarma</th>\n",
       "      <th>authorisgold</th>\n",
       "    </tr>\n",
       "    <tr>\n",
       "      <th>id</th>\n",
       "      <th>time</th>\n",
       "      <th>author</th>\n",
       "      <th></th>\n",
       "      <th></th>\n",
       "      <th></th>\n",
       "      <th></th>\n",
       "      <th></th>\n",
       "      <th></th>\n",
       "      <th></th>\n",
       "      <th></th>\n",
       "      <th></th>\n",
       "      <th></th>\n",
       "    </tr>\n",
       "  </thead>\n",
       "  <tbody>\n",
       "    <tr>\n",
       "      <th>465vcp</th>\n",
       "      <th>2016-02-17 01:52:19</th>\n",
       "      <th>JonnyTheRobot</th>\n",
       "      <td>NaN</td>\n",
       "      <td>hungary assails human rights advocates in the ...</td>\n",
       "      <td>http://www.nytimes.com/2016/02/17/world/europe...</td>\n",
       "      <td>worldnews</td>\n",
       "      <td>news</td>\n",
       "      <td>8</td>\n",
       "      <td>0</td>\n",
       "      <td>53.0</td>\n",
       "      <td>32.0</td>\n",
       "      <td>0.0</td>\n",
       "    </tr>\n",
       "  </tbody>\n",
       "</table>\n",
       "</div>"
      ],
      "text/plain": [
       "                                          text  \\\n",
       "id     time                author                \n",
       "465vcp 2016-02-17 01:52:19 JonnyTheRobot   NaN   \n",
       "\n",
       "                                                                                      title  \\\n",
       "id     time                author                                                             \n",
       "465vcp 2016-02-17 01:52:19 JonnyTheRobot  hungary assails human rights advocates in the ...   \n",
       "\n",
       "                                                                                        url  \\\n",
       "id     time                author                                                             \n",
       "465vcp 2016-02-17 01:52:19 JonnyTheRobot  http://www.nytimes.com/2016/02/17/world/europe...   \n",
       "\n",
       "                                          subreddit  meta  ups  downs  \\\n",
       "id     time                author                                       \n",
       "465vcp 2016-02-17 01:52:19 JonnyTheRobot  worldnews  news    8      0   \n",
       "\n",
       "                                          authorlinkkarma  authorcommentkarma  \\\n",
       "id     time                author                                               \n",
       "465vcp 2016-02-17 01:52:19 JonnyTheRobot             53.0                32.0   \n",
       "\n",
       "                                          authorisgold  \n",
       "id     time                author                       \n",
       "465vcp 2016-02-17 01:52:19 JonnyTheRobot           0.0  "
      ]
     },
     "execution_count": 16,
     "metadata": {},
     "output_type": "execute_result"
    }
   ],
   "source": [
    "threads.loc[threads.id == '465vcp', ].groupby(by=['id', 'time', 'author']).max()"
   ]
  },
  {
   "cell_type": "code",
   "execution_count": 17,
   "metadata": {},
   "outputs": [],
   "source": [
    "threads = threads.groupby(by=['id', 'time', 'author']).max()"
   ]
  },
  {
   "cell_type": "code",
   "execution_count": 18,
   "metadata": {},
   "outputs": [],
   "source": [
    "threads.reset_index(level=0, inplace=True)"
   ]
  },
  {
   "cell_type": "code",
   "execution_count": 19,
   "metadata": {},
   "outputs": [
    {
     "data": {
      "text/plain": [
       "(5192, 11)"
      ]
     },
     "execution_count": 19,
     "metadata": {},
     "output_type": "execute_result"
    }
   ],
   "source": [
    "threads.shape"
   ]
  },
  {
   "cell_type": "markdown",
   "metadata": {},
   "source": [
    "# -----------------"
   ]
  },
  {
   "cell_type": "markdown",
   "metadata": {},
   "source": [
    "# NaN in comment text"
   ]
  },
  {
   "cell_type": "code",
   "execution_count": 7,
   "metadata": {},
   "outputs": [
    {
     "data": {
      "text/plain": [
       "(2726000, 11)"
      ]
     },
     "execution_count": 7,
     "metadata": {},
     "output_type": "execute_result"
    }
   ],
   "source": [
    "comments.shape"
   ]
  },
  {
   "cell_type": "code",
   "execution_count": 8,
   "metadata": {},
   "outputs": [
    {
     "data": {
      "text/plain": [
       "d02hw4p    65\n",
       "d02h9c2    65\n",
       "d02dzpy    65\n",
       "d02boyg    65\n",
       "d01txpf    65\n",
       "d02t71y    65\n",
       "d01aph5    65\n",
       "d02tv3w    65\n",
       "d02sk5i    65\n",
       "d02c06x    65\n",
       "Name: id, dtype: int64"
      ]
     },
     "execution_count": 8,
     "metadata": {},
     "output_type": "execute_result"
    }
   ],
   "source": [
    "comments.id.value_counts(ascending=False)[:10]"
   ]
  },
  {
   "cell_type": "code",
   "execution_count": 9,
   "metadata": {},
   "outputs": [],
   "source": [
    "comments = comments.groupby(by=['id', 'time', 'author']).max()"
   ]
  },
  {
   "cell_type": "code",
   "execution_count": 10,
   "metadata": {},
   "outputs": [],
   "source": [
    "comments.reset_index(inplace=True)"
   ]
  },
  {
   "cell_type": "code",
   "execution_count": 11,
   "metadata": {},
   "outputs": [
    {
     "data": {
      "text/plain": [
       "(53260, 11)"
      ]
     },
     "execution_count": 11,
     "metadata": {},
     "output_type": "execute_result"
    }
   ],
   "source": [
    "comments.shape"
   ]
  },
  {
   "cell_type": "code",
   "execution_count": 25,
   "metadata": {},
   "outputs": [
    {
     "data": {
      "text/html": [
       "<div>\n",
       "<style scoped>\n",
       "    .dataframe tbody tr th:only-of-type {\n",
       "        vertical-align: middle;\n",
       "    }\n",
       "\n",
       "    .dataframe tbody tr th {\n",
       "        vertical-align: top;\n",
       "    }\n",
       "\n",
       "    .dataframe thead th {\n",
       "        text-align: right;\n",
       "    }\n",
       "</style>\n",
       "<table border=\"1\" class=\"dataframe\">\n",
       "  <thead>\n",
       "    <tr style=\"text-align: right;\">\n",
       "      <th></th>\n",
       "      <th>id</th>\n",
       "      <th>time</th>\n",
       "      <th>author</th>\n",
       "      <th>text</th>\n",
       "      <th>subreddit</th>\n",
       "      <th>meta</th>\n",
       "      <th>ups</th>\n",
       "      <th>downs</th>\n",
       "      <th>authorlinkkarma</th>\n",
       "      <th>authorkarma</th>\n",
       "      <th>authorisgold</th>\n",
       "    </tr>\n",
       "  </thead>\n",
       "  <tbody>\n",
       "    <tr>\n",
       "      <th>75</th>\n",
       "      <td>4345ql</td>\n",
       "      <td>2016-01-28 16:59:42</td>\n",
       "      <td>hoosyourdaddyo</td>\n",
       "      <td>NaN</td>\n",
       "      <td>himym</td>\n",
       "      <td>television</td>\n",
       "      <td>7.0</td>\n",
       "      <td>0.0</td>\n",
       "      <td>85275.0</td>\n",
       "      <td>7702.0</td>\n",
       "      <td>1.0</td>\n",
       "    </tr>\n",
       "    <tr>\n",
       "      <th>76</th>\n",
       "      <td>4347v7</td>\n",
       "      <td>2016-01-28 17:11:50</td>\n",
       "      <td>sjphilsphan</td>\n",
       "      <td>NaN</td>\n",
       "      <td>himym</td>\n",
       "      <td>television</td>\n",
       "      <td>660.0</td>\n",
       "      <td>0.0</td>\n",
       "      <td>1696.0</td>\n",
       "      <td>12950.0</td>\n",
       "      <td>0.0</td>\n",
       "    </tr>\n",
       "    <tr>\n",
       "      <th>79</th>\n",
       "      <td>437pr0</td>\n",
       "      <td>2016-01-29 06:49:03</td>\n",
       "      <td>NutZack41</td>\n",
       "      <td>NaN</td>\n",
       "      <td>himym</td>\n",
       "      <td>television</td>\n",
       "      <td>10.0</td>\n",
       "      <td>0.0</td>\n",
       "      <td>1.0</td>\n",
       "      <td>373.0</td>\n",
       "      <td>0.0</td>\n",
       "    </tr>\n",
       "    <tr>\n",
       "      <th>80</th>\n",
       "      <td>4388zc</td>\n",
       "      <td>2016-01-29 10:16:12</td>\n",
       "      <td>CardiffBorn</td>\n",
       "      <td>NaN</td>\n",
       "      <td>himym</td>\n",
       "      <td>television</td>\n",
       "      <td>0.0</td>\n",
       "      <td>0.0</td>\n",
       "      <td>988.0</td>\n",
       "      <td>761.0</td>\n",
       "      <td>0.0</td>\n",
       "    </tr>\n",
       "    <tr>\n",
       "      <th>82</th>\n",
       "      <td>4396bh</td>\n",
       "      <td>2016-01-29 15:13:33</td>\n",
       "      <td>punerisaiyan</td>\n",
       "      <td>NaN</td>\n",
       "      <td>himym</td>\n",
       "      <td>television</td>\n",
       "      <td>245.0</td>\n",
       "      <td>0.0</td>\n",
       "      <td>820848.0</td>\n",
       "      <td>58422.0</td>\n",
       "      <td>1.0</td>\n",
       "    </tr>\n",
       "    <tr>\n",
       "      <th>85</th>\n",
       "      <td>43abbr</td>\n",
       "      <td>2016-01-29 19:11:54</td>\n",
       "      <td>hockeyegg14</td>\n",
       "      <td>NaN</td>\n",
       "      <td>himym</td>\n",
       "      <td>television</td>\n",
       "      <td>91.0</td>\n",
       "      <td>0.0</td>\n",
       "      <td>253.0</td>\n",
       "      <td>9.0</td>\n",
       "      <td>0.0</td>\n",
       "    </tr>\n",
       "    <tr>\n",
       "      <th>88</th>\n",
       "      <td>43c9xu</td>\n",
       "      <td>2016-01-30 02:44:02</td>\n",
       "      <td>TedFlowsby</td>\n",
       "      <td>NaN</td>\n",
       "      <td>himym</td>\n",
       "      <td>television</td>\n",
       "      <td>46.0</td>\n",
       "      <td>0.0</td>\n",
       "      <td>51.0</td>\n",
       "      <td>7943.0</td>\n",
       "      <td>0.0</td>\n",
       "    </tr>\n",
       "    <tr>\n",
       "      <th>89</th>\n",
       "      <td>43dujc</td>\n",
       "      <td>2016-01-30 12:10:55</td>\n",
       "      <td>Soltranam</td>\n",
       "      <td>NaN</td>\n",
       "      <td>lifehacks</td>\n",
       "      <td>lifestyle</td>\n",
       "      <td>729.0</td>\n",
       "      <td>0.0</td>\n",
       "      <td>965.0</td>\n",
       "      <td>102.0</td>\n",
       "      <td>0.0</td>\n",
       "    </tr>\n",
       "    <tr>\n",
       "      <th>90</th>\n",
       "      <td>43dusg</td>\n",
       "      <td>2016-01-30 12:13:29</td>\n",
       "      <td>oxygenvoyage</td>\n",
       "      <td>NaN</td>\n",
       "      <td>lifehacks</td>\n",
       "      <td>lifestyle</td>\n",
       "      <td>36.0</td>\n",
       "      <td>0.0</td>\n",
       "      <td>487.0</td>\n",
       "      <td>5175.0</td>\n",
       "      <td>0.0</td>\n",
       "    </tr>\n",
       "    <tr>\n",
       "      <th>93</th>\n",
       "      <td>43g15s</td>\n",
       "      <td>2016-01-30 21:22:41</td>\n",
       "      <td>glr123</td>\n",
       "      <td>NaN</td>\n",
       "      <td>science</td>\n",
       "      <td>learning</td>\n",
       "      <td>4817.0</td>\n",
       "      <td>0.0</td>\n",
       "      <td>10084.0</td>\n",
       "      <td>51118.0</td>\n",
       "      <td>1.0</td>\n",
       "    </tr>\n",
       "  </tbody>\n",
       "</table>\n",
       "</div>"
      ],
      "text/plain": [
       "        id                time          author text  subreddit        meta  \\\n",
       "75  4345ql 2016-01-28 16:59:42  hoosyourdaddyo  NaN      himym  television   \n",
       "76  4347v7 2016-01-28 17:11:50     sjphilsphan  NaN      himym  television   \n",
       "79  437pr0 2016-01-29 06:49:03       NutZack41  NaN      himym  television   \n",
       "80  4388zc 2016-01-29 10:16:12     CardiffBorn  NaN      himym  television   \n",
       "82  4396bh 2016-01-29 15:13:33    punerisaiyan  NaN      himym  television   \n",
       "85  43abbr 2016-01-29 19:11:54     hockeyegg14  NaN      himym  television   \n",
       "88  43c9xu 2016-01-30 02:44:02      TedFlowsby  NaN      himym  television   \n",
       "89  43dujc 2016-01-30 12:10:55       Soltranam  NaN  lifehacks   lifestyle   \n",
       "90  43dusg 2016-01-30 12:13:29    oxygenvoyage  NaN  lifehacks   lifestyle   \n",
       "93  43g15s 2016-01-30 21:22:41          glr123  NaN    science    learning   \n",
       "\n",
       "       ups  downs  authorlinkkarma  authorkarma  authorisgold  \n",
       "75     7.0    0.0          85275.0       7702.0           1.0  \n",
       "76   660.0    0.0           1696.0      12950.0           0.0  \n",
       "79    10.0    0.0              1.0        373.0           0.0  \n",
       "80     0.0    0.0            988.0        761.0           0.0  \n",
       "82   245.0    0.0         820848.0      58422.0           1.0  \n",
       "85    91.0    0.0            253.0          9.0           0.0  \n",
       "88    46.0    0.0             51.0       7943.0           0.0  \n",
       "89   729.0    0.0            965.0        102.0           0.0  \n",
       "90    36.0    0.0            487.0       5175.0           0.0  \n",
       "93  4817.0    0.0          10084.0      51118.0           1.0  "
      ]
     },
     "execution_count": 25,
     "metadata": {},
     "output_type": "execute_result"
    }
   ],
   "source": [
    "comments[comments.text.isna()][:10]"
   ]
  },
  {
   "cell_type": "code",
   "execution_count": 26,
   "metadata": {},
   "outputs": [
    {
     "data": {
      "text/plain": [
       "(3232, 11)"
      ]
     },
     "execution_count": 26,
     "metadata": {},
     "output_type": "execute_result"
    }
   ],
   "source": [
    "comments[comments.text.isna()].shape"
   ]
  },
  {
   "cell_type": "markdown",
   "metadata": {},
   "source": [
    "Here is something interesting, I manually checked up to 15 to 20 rows randomly, which have `NaN` in text using this url `https://www.reddit.com/comments/{id}`, looks like these are begining of the threads.  "
   ]
  },
  {
   "cell_type": "code",
   "execution_count": 27,
   "metadata": {},
   "outputs": [
    {
     "data": {
      "text/html": [
       "<div>\n",
       "<style scoped>\n",
       "    .dataframe tbody tr th:only-of-type {\n",
       "        vertical-align: middle;\n",
       "    }\n",
       "\n",
       "    .dataframe tbody tr th {\n",
       "        vertical-align: top;\n",
       "    }\n",
       "\n",
       "    .dataframe thead th {\n",
       "        text-align: right;\n",
       "    }\n",
       "</style>\n",
       "<table border=\"1\" class=\"dataframe\">\n",
       "  <thead>\n",
       "    <tr style=\"text-align: right;\">\n",
       "      <th></th>\n",
       "      <th>id</th>\n",
       "      <th>time</th>\n",
       "      <th>author</th>\n",
       "      <th>text</th>\n",
       "      <th>subreddit</th>\n",
       "      <th>meta</th>\n",
       "      <th>ups</th>\n",
       "      <th>downs</th>\n",
       "      <th>authorlinkkarma</th>\n",
       "      <th>authorkarma</th>\n",
       "      <th>authorisgold</th>\n",
       "    </tr>\n",
       "  </thead>\n",
       "  <tbody>\n",
       "    <tr>\n",
       "      <th>3106</th>\n",
       "      <td>463sa9</td>\n",
       "      <td>2016-02-16 18:22:31</td>\n",
       "      <td>trash_reason</td>\n",
       "      <td>NaN</td>\n",
       "      <td>politics</td>\n",
       "      <td>news</td>\n",
       "      <td>381.0</td>\n",
       "      <td>0.0</td>\n",
       "      <td>5617.0</td>\n",
       "      <td>1362.0</td>\n",
       "      <td>0.0</td>\n",
       "    </tr>\n",
       "  </tbody>\n",
       "</table>\n",
       "</div>"
      ],
      "text/plain": [
       "          id                time        author text subreddit  meta    ups  \\\n",
       "3106  463sa9 2016-02-16 18:22:31  trash_reason  NaN  politics  news  381.0   \n",
       "\n",
       "      downs  authorlinkkarma  authorkarma  authorisgold  \n",
       "3106    0.0           5617.0       1362.0           0.0  "
      ]
     },
     "execution_count": 27,
     "metadata": {},
     "output_type": "execute_result"
    }
   ],
   "source": [
    "comments[comments.id == '463sa9']"
   ]
  },
  {
   "cell_type": "markdown",
   "metadata": {},
   "source": [
    "for ex: \n",
    "`463sa9` gives us this\n",
    "\n",
    "![alt text](images/empty_comment.png \"Title\")"
   ]
  },
  {
   "cell_type": "code",
   "execution_count": 23,
   "metadata": {},
   "outputs": [],
   "source": [
    "comments = comments[~comments.text.isna()]"
   ]
  },
  {
   "cell_type": "code",
   "execution_count": 12,
   "metadata": {},
   "outputs": [
    {
     "data": {
      "text/plain": [
       "(190, 11)"
      ]
     },
     "execution_count": 12,
     "metadata": {},
     "output_type": "execute_result"
    }
   ],
   "source": [
    "comments[(comments.text == '[ removed ]')].shape"
   ]
  },
  {
   "cell_type": "code",
   "execution_count": 13,
   "metadata": {},
   "outputs": [
    {
     "data": {
      "text/plain": [
       "(245, 11)"
      ]
     },
     "execution_count": 13,
     "metadata": {},
     "output_type": "execute_result"
    }
   ],
   "source": [
    "comments[(comments.text == '[ deleted ]')].shape"
   ]
  },
  {
   "cell_type": "code",
   "execution_count": 14,
   "metadata": {},
   "outputs": [],
   "source": [
    "comments = comments[~(comments.text == '[ removed ]')]\n",
    "comments = comments[~(comments.text == '[ deleted ]')]"
   ]
  },
  {
   "cell_type": "markdown",
   "metadata": {},
   "source": [
    "Deleting comments where author is `[deleted]` since we have no user information in them"
   ]
  },
  {
   "cell_type": "code",
   "execution_count": 15,
   "metadata": {},
   "outputs": [],
   "source": [
    "comments = comments[~(comments.author == '[deleted]')]"
   ]
  },
  {
   "cell_type": "code",
   "execution_count": 24,
   "metadata": {},
   "outputs": [
    {
     "data": {
      "text/plain": [
       "(49547, 10)"
      ]
     },
     "execution_count": 24,
     "metadata": {},
     "output_type": "execute_result"
    }
   ],
   "source": [
    "comments.shape"
   ]
  },
  {
   "cell_type": "code",
   "execution_count": 34,
   "metadata": {},
   "outputs": [
    {
     "data": {
      "text/plain": [
       "array([0.])"
      ]
     },
     "execution_count": 34,
     "metadata": {},
     "output_type": "execute_result"
    }
   ],
   "source": [
    "comments.downs.unique()"
   ]
  },
  {
   "cell_type": "code",
   "execution_count": 17,
   "metadata": {},
   "outputs": [],
   "source": [
    "comments.drop(['downs'], axis=1, inplace=True)"
   ]
  },
  {
   "cell_type": "code",
   "execution_count": 18,
   "metadata": {},
   "outputs": [
    {
     "data": {
      "text/plain": [
       "(0, 10)"
      ]
     },
     "execution_count": 18,
     "metadata": {},
     "output_type": "execute_result"
    }
   ],
   "source": [
    "comments[comments.text.str.len() == 0].shape"
   ]
  },
  {
   "cell_type": "code",
   "execution_count": 37,
   "metadata": {},
   "outputs": [
    {
     "data": {
      "text/plain": [
       "(0, 10)"
      ]
     },
     "execution_count": 37,
     "metadata": {},
     "output_type": "execute_result"
    }
   ],
   "source": [
    "comments[comments.text.str.find('[deleted]') == True].shape"
   ]
  },
  {
   "cell_type": "code",
   "execution_count": 19,
   "metadata": {},
   "outputs": [],
   "source": [
    "comments['authorlinkkarma'].fillna(0, inplace=True)"
   ]
  },
  {
   "cell_type": "code",
   "execution_count": 20,
   "metadata": {},
   "outputs": [],
   "source": [
    "comments['authorkarma'].fillna(0, inplace=True)"
   ]
  },
  {
   "cell_type": "code",
   "execution_count": 21,
   "metadata": {},
   "outputs": [],
   "source": [
    "comments['authorisgold'].fillna(0, inplace=True)"
   ]
  },
  {
   "cell_type": "code",
   "execution_count": 25,
   "metadata": {},
   "outputs": [
    {
     "data": {
      "text/plain": [
       "id                 0\n",
       "time               0\n",
       "author             0\n",
       "text               0\n",
       "subreddit          0\n",
       "meta               0\n",
       "ups                0\n",
       "authorlinkkarma    0\n",
       "authorkarma        0\n",
       "authorisgold       0\n",
       "dtype: int64"
      ]
     },
     "execution_count": 25,
     "metadata": {},
     "output_type": "execute_result"
    }
   ],
   "source": [
    "comments.isnull().sum()"
   ]
  },
  {
   "cell_type": "code",
   "execution_count": 42,
   "metadata": {},
   "outputs": [
    {
     "data": {
      "text/plain": [
       "leagueoflegends         2988\n",
       "funny                   2581\n",
       "dota2                   2080\n",
       "adviceanimals           1931\n",
       "movies                  1895\n",
       "anime                   1779\n",
       "gaming                  1685\n",
       "youshouldknow           1540\n",
       "politics                1497\n",
       "thewalkingdead          1413\n",
       "todayilearned           1374\n",
       "lifehacks               1301\n",
       "worldnews               1289\n",
       "pokemon                 1197\n",
       "frugal                  1194\n",
       "news                    1149\n",
       "comicbooks              1017\n",
       "starwars                1007\n",
       "starcraft               1005\n",
       "motorcycles             1002\n",
       "guns                     985\n",
       "progresspics             935\n",
       "sex                      924\n",
       "imgoingtohellforthis     913\n",
       "tf2                      871\n",
       "music                    866\n",
       "facepalm                 836\n",
       "gameofthrones            823\n",
       "startrek                 807\n",
       "community                781\n",
       "harrypotter              655\n",
       "skyrim                   648\n",
       "breakingbad              643\n",
       "doctorwho                618\n",
       "minecraft                610\n",
       "jokes                    596\n",
       "food                     547\n",
       "himym                    543\n",
       "science                  531\n",
       "explainlikeimfive        485\n",
       "truereddit               472\n",
       "conspiracy               461\n",
       "libertarian              440\n",
       "askscience               394\n",
       "mylittlepony             384\n",
       "drunk                    372\n",
       "conservative             368\n",
       "space                    362\n",
       "circlejerk               302\n",
       "offbeat                  287\n",
       "askhistorians            164\n",
       "Name: subreddit, dtype: int64"
      ]
     },
     "execution_count": 42,
     "metadata": {},
     "output_type": "execute_result"
    }
   ],
   "source": [
    "comments.subreddit.value_counts()"
   ]
  },
  {
   "cell_type": "code",
   "execution_count": 26,
   "metadata": {},
   "outputs": [
    {
     "data": {
      "text/plain": [
       "gaming           11084\n",
       "lifestyle         7260\n",
       "entertainment     7219\n",
       "humor             7159\n",
       "television        6012\n",
       "news              5963\n",
       "learning          4850\n",
       "Name: meta, dtype: int64"
      ]
     },
     "execution_count": 26,
     "metadata": {},
     "output_type": "execute_result"
    }
   ],
   "source": [
    "comments.meta.value_counts()"
   ]
  },
  {
   "cell_type": "code",
   "execution_count": 27,
   "metadata": {},
   "outputs": [
    {
     "data": {
      "text/plain": [
       "0.0    45627\n",
       "1.0     3920\n",
       "Name: authorisgold, dtype: int64"
      ]
     },
     "execution_count": 27,
     "metadata": {},
     "output_type": "execute_result"
    }
   ],
   "source": [
    "comments.authorisgold.value_counts()"
   ]
  },
  {
   "cell_type": "code",
   "execution_count": 45,
   "metadata": {},
   "outputs": [
    {
     "data": {
      "text/plain": [
       "Index(['id', 'time', 'author', 'text', 'subreddit', 'meta', 'ups',\n",
       "       'authorlinkkarma', 'authorkarma', 'authorisgold'],\n",
       "      dtype='object')"
      ]
     },
     "execution_count": 45,
     "metadata": {},
     "output_type": "execute_result"
    }
   ],
   "source": [
    "comments.columns"
   ]
  },
  {
   "cell_type": "markdown",
   "metadata": {},
   "source": [
    "We can't use time in prediction here because, we don't have the time at which the thread started, the main predictor would be relative time, which we can't derive from this dataset."
   ]
  },
  {
   "cell_type": "markdown",
   "metadata": {},
   "source": [
    "So our main predictors will be `text, meta, subreddit, authorlinkkarma, authorkarma, authorisgold`"
   ]
  },
  {
   "cell_type": "markdown",
   "metadata": {},
   "source": [
    "Creating features from `text`"
   ]
  },
  {
   "cell_type": "markdown",
   "metadata": {},
   "source": [
    "Does the text contain links to subreddit ex: `\\r\\thathappened` or other subreddit links.  \n",
    "lets extract that"
   ]
  },
  {
   "cell_type": "code",
   "execution_count": 28,
   "metadata": {},
   "outputs": [],
   "source": [
    "import re"
   ]
  },
  {
   "cell_type": "code",
   "execution_count": 29,
   "metadata": {},
   "outputs": [
    {
     "data": {
      "text/plain": [
       "['thathappend', 'drama']"
      ]
     },
     "execution_count": 29,
     "metadata": {},
     "output_type": "execute_result"
    }
   ],
   "source": [
    "re.findall(r\"/r/([^\\s/]+)\", '/r/thathappend lol /r/drama')"
   ]
  },
  {
   "cell_type": "code",
   "execution_count": 30,
   "metadata": {},
   "outputs": [],
   "source": [
    "comments['linked_sr'] = comments.text.apply(lambda x: re.findall(r\"/r/([^\\s/]+)\", x))"
   ]
  },
  {
   "cell_type": "markdown",
   "metadata": {},
   "source": [
    "lets remove the sub reddit links from comment text."
   ]
  },
  {
   "cell_type": "code",
   "execution_count": 31,
   "metadata": {},
   "outputs": [
    {
     "data": {
      "text/plain": [
       "\"let's see if this replaces \""
      ]
     },
     "execution_count": 31,
     "metadata": {},
     "output_type": "execute_result"
    }
   ],
   "source": [
    "re.sub(r\"(/r/[^\\s/]+)\", '', \"let's see if this replaces /r/thathappend\")"
   ]
  },
  {
   "cell_type": "code",
   "execution_count": 32,
   "metadata": {},
   "outputs": [],
   "source": [
    "comments['text'] = comments.text.apply(lambda x: re.sub(r\"(/r/[^\\s/]+)\", '', x))"
   ]
  },
  {
   "cell_type": "markdown",
   "metadata": {},
   "source": [
    "The comments might also contain http/https links to other websites. let collect then in another column."
   ]
  },
  {
   "cell_type": "code",
   "execution_count": 33,
   "metadata": {
    "scrolled": true
   },
   "outputs": [
    {
     "data": {
      "text/plain": [
       "\"it 's done through host file instead of extensions/add ons. my brother showed me , probably a lot of you already have it. good luck ! http : //someonewhocares.org/hosts/hosts\""
      ]
     },
     "execution_count": 33,
     "metadata": {},
     "output_type": "execute_result"
    }
   ],
   "source": [
    "x = comments[comments.text.str.contains('http')].loc[:,'text'].values[10]\n",
    "x"
   ]
  },
  {
   "cell_type": "code",
   "execution_count": 36,
   "metadata": {},
   "outputs": [
    {
     "data": {
      "text/plain": [
       "['http://someonewhocares.org/hosts/hosts']"
      ]
     },
     "execution_count": 36,
     "metadata": {},
     "output_type": "execute_result"
    }
   ],
   "source": [
    "url_regex = r'http[s]?://(?:[a-zA-Z]|[0-9]|[$-_@.&+]|[!*\\(\\),]|(?:%[0-9a-fA-F][0-9a-fA-F]))+'\n",
    "x = x.replace(' = ', '=')\n",
    "x = x.replace(' : ', ':')\n",
    "x = x.replace(' / ', '?')\n",
    "urls = re.findall(url_regex, x)\n",
    "urls"
   ]
  },
  {
   "cell_type": "code",
   "execution_count": 34,
   "metadata": {},
   "outputs": [],
   "source": [
    "from urllib.parse import urlparse"
   ]
  },
  {
   "cell_type": "code",
   "execution_count": 37,
   "metadata": {},
   "outputs": [
    {
     "data": {
      "text/plain": [
       "['someonewhocares.org']"
      ]
     },
     "execution_count": 37,
     "metadata": {},
     "output_type": "execute_result"
    }
   ],
   "source": [
    "[urlparse(url).netloc for url in urls]"
   ]
  },
  {
   "cell_type": "code",
   "execution_count": 38,
   "metadata": {},
   "outputs": [],
   "source": [
    "def get_domains(x):\n",
    "    x = x.replace(' = ', '=')\n",
    "    x = x.replace(' : ', ':')\n",
    "    x = x.replace(' / ', '?')\n",
    "    urls = re.findall(url_regex, x)\n",
    "    domain_names = [urlparse(url).netloc.split('.')[-2] for url in urls]\n",
    "    return domain_names"
   ]
  },
  {
   "cell_type": "code",
   "execution_count": 39,
   "metadata": {},
   "outputs": [],
   "source": [
    "comments['linked_urls'] = comments.text.apply(lambda x: get_domains(x))"
   ]
  },
  {
   "cell_type": "code",
   "execution_count": 40,
   "metadata": {},
   "outputs": [
    {
     "data": {
      "text/plain": [
       "0                      [reddit, reddit, reddit, reddit]\n",
       "1                                                    []\n",
       "2                                                    []\n",
       "3     [reddit, reddit, reddit, knowyourmeme, knowyou...\n",
       "4                                        [goo, snoonet]\n",
       "5                                       [redditmetrics]\n",
       "6                                                    []\n",
       "7                                                    []\n",
       "8                                       [reddit, imgur]\n",
       "9                                                    []\n",
       "10                                             [reddit]\n",
       "11                                         [justdelete]\n",
       "12                                                   []\n",
       "13    [reddit, reddit, akamai, code42, backblaze, mo...\n",
       "14                                            [spotify]\n",
       "15                                   [commonsensemedia]\n",
       "16                                                   []\n",
       "17                                                   []\n",
       "18                                    [someonewhocares]\n",
       "19                                [safekids, seatcheck]\n",
       "20                                                   []\n",
       "Name: linked_urls, dtype: object"
      ]
     },
     "execution_count": 40,
     "metadata": {},
     "output_type": "execute_result"
    }
   ],
   "source": [
    "comments[~comments.linked_urls.isna()].loc[:20, 'linked_urls']"
   ]
  },
  {
   "cell_type": "code",
   "execution_count": 41,
   "metadata": {},
   "outputs": [],
   "source": [
    "def remove_urls(x):\n",
    "    x = x.replace(' = ', '=')\n",
    "    x = x.replace(' : ', ':')\n",
    "    x = x.replace(' / ', '?')\n",
    "    return re.sub(url_regex, '', x)"
   ]
  },
  {
   "cell_type": "code",
   "execution_count": 42,
   "metadata": {},
   "outputs": [
    {
     "data": {
      "text/plain": [
       "'do you think this works '"
      ]
     },
     "execution_count": 42,
     "metadata": {},
     "output_type": "execute_result"
    }
   ],
   "source": [
    "remove_urls('do you think this works http://www.lol.com')"
   ]
  },
  {
   "cell_type": "code",
   "execution_count": 43,
   "metadata": {},
   "outputs": [],
   "source": [
    "comments['text'] = comments.text.apply(lambda x: remove_urls(x))"
   ]
  },
  {
   "cell_type": "code",
   "execution_count": 44,
   "metadata": {},
   "outputs": [
    {
     "data": {
      "text/plain": [
       "(49547, 12)"
      ]
     },
     "execution_count": 44,
     "metadata": {},
     "output_type": "execute_result"
    }
   ],
   "source": [
    "comments.shape"
   ]
  },
  {
   "cell_type": "code",
   "execution_count": 45,
   "metadata": {},
   "outputs": [
    {
     "data": {
      "text/plain": [
       "\"it 's done through host file instead of extensions/add ons. my brother showed me , probably a lot of you already have it. good luck ! \""
      ]
     },
     "execution_count": 45,
     "metadata": {},
     "output_type": "execute_result"
    }
   ],
   "source": [
    "comments.loc[18, 'text']"
   ]
  },
  {
   "cell_type": "code",
   "execution_count": 55,
   "metadata": {},
   "outputs": [],
   "source": [
    "comments['no_of_linked_sr'] = comments['linked_sr'].apply(lambda x: len(x))\n",
    "comments['no_of_linked_urls'] = comments['linked_urls'].apply(lambda x: len(x))"
   ]
  },
  {
   "cell_type": "code",
   "execution_count": 48,
   "metadata": {},
   "outputs": [
    {
     "data": {
      "text/plain": [
       "1888"
      ]
     },
     "execution_count": 48,
     "metadata": {},
     "output_type": "execute_result"
    }
   ],
   "source": [
    "all_linked_sr = []\n",
    "for l in comments.linked_sr.values:\n",
    "    all_linked_sr += l\n",
    "len(all_linked_sr)"
   ]
  },
  {
   "cell_type": "code",
   "execution_count": 49,
   "metadata": {},
   "outputs": [],
   "source": [
    "from collections import Counter"
   ]
  },
  {
   "cell_type": "code",
   "execution_count": 54,
   "metadata": {},
   "outputs": [
    {
     "data": {
      "text/plain": [
       "[('gameofthrones', 169),\n",
       " ('autotldr', 132),\n",
       " ('anime', 93),\n",
       " ('progresspicsbot', 90),\n",
       " ('shitpost', 86),\n",
       " ('mylittlepony', 75),\n",
       " ('askscience', 60),\n",
       " ('progresspicsbot&amp', 45),\n",
       " ('tf2', 42),\n",
       " ('dota2', 33),\n",
       " ('totesmessenger', 33),\n",
       " ('leagueoflegends', 32),\n",
       " ('askhistorians', 32),\n",
       " ('science', 24),\n",
       " ('pokemon', 22)]"
      ]
     },
     "execution_count": 54,
     "metadata": {},
     "output_type": "execute_result"
    }
   ],
   "source": [
    "top_sr_links = Counter(all_linked_sr)\n",
    "top_sr_links.most_common(15)"
   ]
  },
  {
   "cell_type": "markdown",
   "metadata": {},
   "source": [
    "We should just ignore if the count is less than 20 ? or just ignore it entirely"
   ]
  },
  {
   "cell_type": "code",
   "execution_count": 56,
   "metadata": {},
   "outputs": [
    {
     "data": {
      "text/plain": [
       "6852"
      ]
     },
     "execution_count": 56,
     "metadata": {},
     "output_type": "execute_result"
    }
   ],
   "source": [
    "all_linked_urls = []\n",
    "for l in comments.linked_urls.values:\n",
    "    all_linked_urls += l\n",
    "len(all_linked_urls)"
   ]
  },
  {
   "cell_type": "code",
   "execution_count": 61,
   "metadata": {},
   "outputs": [
    {
     "data": {
      "text/plain": [
       "[('imgur', 1122),\n",
       " ('reddit', 1039),\n",
       " ('youtube', 722),\n",
       " ('wikipedia', 251),\n",
       " ('myanimelist', 212),\n",
       " ('youtu', 187),\n",
       " ('dotabuff', 184),\n",
       " ('github', 123),\n",
       " ('animebracket', 116),\n",
       " ('twitter', 102),\n",
       " ('amazon', 87),\n",
       " ('derpibooru', 87),\n",
       " ('tumblr', 82),\n",
       " ('redd', 72),\n",
       " ('google', 66)]"
      ]
     },
     "execution_count": 61,
     "metadata": {},
     "output_type": "execute_result"
    }
   ],
   "source": [
    "top_url_links = Counter(all_linked_urls)\n",
    "top_url_links.most_common(15)"
   ]
  },
  {
   "cell_type": "code",
   "execution_count": 62,
   "metadata": {},
   "outputs": [],
   "source": [
    "allowed_urls = [i[0] for i in top_url_links.most_common(15)]"
   ]
  },
  {
   "cell_type": "code",
   "execution_count": 64,
   "metadata": {},
   "outputs": [],
   "source": [
    "def remove_urls(x):\n",
    "    y = []\n",
    "    for i in x:\n",
    "        if i in allowed_urls:\n",
    "            y += [i]\n",
    "    return y"
   ]
  },
  {
   "cell_type": "code",
   "execution_count": 65,
   "metadata": {},
   "outputs": [],
   "source": [
    "comments['a_linked_urls'] = comments['linked_urls'].apply(lambda x: remove_urls(x))"
   ]
  },
  {
   "cell_type": "code",
   "execution_count": 74,
   "metadata": {},
   "outputs": [],
   "source": [
    "comments['subjectivity'] = comments['text'].str.count('i ')"
   ]
  },
  {
   "cell_type": "code",
   "execution_count": 75,
   "metadata": {},
   "outputs": [],
   "source": [
    "from vaderSentiment.vaderSentiment import SentimentIntensityAnalyzer"
   ]
  },
  {
   "cell_type": "code",
   "execution_count": 76,
   "metadata": {},
   "outputs": [],
   "source": [
    "analyser = SentimentIntensityAnalyzer()"
   ]
  },
  {
   "cell_type": "code",
   "execution_count": 77,
   "metadata": {},
   "outputs": [
    {
     "data": {
      "text/plain": [
       "{'neg': 0.0, 'neu': 0.772, 'pos': 0.228, 'compound': 0.7345}"
      ]
     },
     "execution_count": 77,
     "metadata": {},
     "output_type": "execute_result"
    }
   ],
   "source": [
    "analyser.polarity_scores(comments.loc[18, 'text'])"
   ]
  },
  {
   "cell_type": "code",
   "execution_count": 78,
   "metadata": {},
   "outputs": [],
   "source": [
    "def get_sentiment(x):\n",
    "    senti = analyser.polarity_scores(x['text'])\n",
    "    x['senti_neg'] = senti['neg']\n",
    "    x['senti_neu'] = senti['neu']\n",
    "    x['senti_pos'] = senti['pos']\n",
    "    x['senti_compound'] = senti['compound']\n",
    "    return x"
   ]
  },
  {
   "cell_type": "code",
   "execution_count": 79,
   "metadata": {},
   "outputs": [],
   "source": [
    "comments = comments.apply(get_sentiment, axis=1)"
   ]
  },
  {
   "cell_type": "code",
   "execution_count": 80,
   "metadata": {},
   "outputs": [
    {
     "data": {
      "text/html": [
       "<div>\n",
       "<style scoped>\n",
       "    .dataframe tbody tr th:only-of-type {\n",
       "        vertical-align: middle;\n",
       "    }\n",
       "\n",
       "    .dataframe tbody tr th {\n",
       "        vertical-align: top;\n",
       "    }\n",
       "\n",
       "    .dataframe thead th {\n",
       "        text-align: right;\n",
       "    }\n",
       "</style>\n",
       "<table border=\"1\" class=\"dataframe\">\n",
       "  <thead>\n",
       "    <tr style=\"text-align: right;\">\n",
       "      <th></th>\n",
       "      <th>0</th>\n",
       "      <th>1</th>\n",
       "      <th>2</th>\n",
       "    </tr>\n",
       "  </thead>\n",
       "  <tbody>\n",
       "    <tr>\n",
       "      <th>id</th>\n",
       "      <td>26cbuv</td>\n",
       "      <td>2kx75y</td>\n",
       "      <td>3cc1wz</td>\n",
       "    </tr>\n",
       "    <tr>\n",
       "      <th>time</th>\n",
       "      <td>2014-05-24 00:31:37</td>\n",
       "      <td>2014-10-31 20:59:42</td>\n",
       "      <td>2015-07-06 19:12:41</td>\n",
       "    </tr>\n",
       "    <tr>\n",
       "      <th>author</th>\n",
       "      <td>AsAlwaysItDepends</td>\n",
       "      <td>TILMods</td>\n",
       "      <td>CMelody</td>\n",
       "    </tr>\n",
       "    <tr>\n",
       "      <th>text</th>\n",
       "      <td>here are the guidelines and rules for posting ...</td>\n",
       "      <td>in an effort to make it easier for the til com...</td>\n",
       "      <td>we have had a flurry of posts here and at  abo...</td>\n",
       "    </tr>\n",
       "    <tr>\n",
       "      <th>subreddit</th>\n",
       "      <td>sex</td>\n",
       "      <td>todayilearned</td>\n",
       "      <td>breakingbad</td>\n",
       "    </tr>\n",
       "    <tr>\n",
       "      <th>meta</th>\n",
       "      <td>lifestyle</td>\n",
       "      <td>learning</td>\n",
       "      <td>television</td>\n",
       "    </tr>\n",
       "    <tr>\n",
       "      <th>ups</th>\n",
       "      <td>261</td>\n",
       "      <td>2115</td>\n",
       "      <td>210</td>\n",
       "    </tr>\n",
       "    <tr>\n",
       "      <th>authorlinkkarma</th>\n",
       "      <td>40</td>\n",
       "      <td>1</td>\n",
       "      <td>15325</td>\n",
       "    </tr>\n",
       "    <tr>\n",
       "      <th>authorkarma</th>\n",
       "      <td>27676</td>\n",
       "      <td>0</td>\n",
       "      <td>46039</td>\n",
       "    </tr>\n",
       "    <tr>\n",
       "      <th>authorisgold</th>\n",
       "      <td>0</td>\n",
       "      <td>0</td>\n",
       "      <td>0</td>\n",
       "    </tr>\n",
       "    <tr>\n",
       "      <th>linked_sr</th>\n",
       "      <td>[sex, sex, sex, sex, sex, bdsmcommunity, deadb...</td>\n",
       "      <td>[]</td>\n",
       "      <td>[bettercallsaul]</td>\n",
       "    </tr>\n",
       "    <tr>\n",
       "      <th>linked_urls</th>\n",
       "      <td>[reddit, reddit, reddit, reddit]</td>\n",
       "      <td>[]</td>\n",
       "      <td>[]</td>\n",
       "    </tr>\n",
       "    <tr>\n",
       "      <th>no_of_linked_sr</th>\n",
       "      <td>22</td>\n",
       "      <td>0</td>\n",
       "      <td>1</td>\n",
       "    </tr>\n",
       "    <tr>\n",
       "      <th>no_of_linked_urls</th>\n",
       "      <td>4</td>\n",
       "      <td>0</td>\n",
       "      <td>0</td>\n",
       "    </tr>\n",
       "    <tr>\n",
       "      <th>a_linked_urls</th>\n",
       "      <td>[reddit, reddit, reddit, reddit]</td>\n",
       "      <td>[]</td>\n",
       "      <td>[]</td>\n",
       "    </tr>\n",
       "    <tr>\n",
       "      <th>subjectivity</th>\n",
       "      <td>0</td>\n",
       "      <td>0</td>\n",
       "      <td>0</td>\n",
       "    </tr>\n",
       "    <tr>\n",
       "      <th>senti_neg</th>\n",
       "      <td>0.064</td>\n",
       "      <td>0.05</td>\n",
       "      <td>0.03</td>\n",
       "    </tr>\n",
       "    <tr>\n",
       "      <th>senti_neu</th>\n",
       "      <td>0.858</td>\n",
       "      <td>0.81</td>\n",
       "      <td>0.702</td>\n",
       "    </tr>\n",
       "    <tr>\n",
       "      <th>senti_pos</th>\n",
       "      <td>0.077</td>\n",
       "      <td>0.14</td>\n",
       "      <td>0.268</td>\n",
       "    </tr>\n",
       "    <tr>\n",
       "      <th>senti_compound</th>\n",
       "      <td>-0.384</td>\n",
       "      <td>0.9961</td>\n",
       "      <td>0.9396</td>\n",
       "    </tr>\n",
       "  </tbody>\n",
       "</table>\n",
       "</div>"
      ],
      "text/plain": [
       "                                                                   0  \\\n",
       "id                                                            26cbuv   \n",
       "time                                             2014-05-24 00:31:37   \n",
       "author                                             AsAlwaysItDepends   \n",
       "text               here are the guidelines and rules for posting ...   \n",
       "subreddit                                                        sex   \n",
       "meta                                                       lifestyle   \n",
       "ups                                                              261   \n",
       "authorlinkkarma                                                   40   \n",
       "authorkarma                                                    27676   \n",
       "authorisgold                                                       0   \n",
       "linked_sr          [sex, sex, sex, sex, sex, bdsmcommunity, deadb...   \n",
       "linked_urls                         [reddit, reddit, reddit, reddit]   \n",
       "no_of_linked_sr                                                   22   \n",
       "no_of_linked_urls                                                  4   \n",
       "a_linked_urls                       [reddit, reddit, reddit, reddit]   \n",
       "subjectivity                                                       0   \n",
       "senti_neg                                                      0.064   \n",
       "senti_neu                                                      0.858   \n",
       "senti_pos                                                      0.077   \n",
       "senti_compound                                                -0.384   \n",
       "\n",
       "                                                                   1  \\\n",
       "id                                                            2kx75y   \n",
       "time                                             2014-10-31 20:59:42   \n",
       "author                                                       TILMods   \n",
       "text               in an effort to make it easier for the til com...   \n",
       "subreddit                                              todayilearned   \n",
       "meta                                                        learning   \n",
       "ups                                                             2115   \n",
       "authorlinkkarma                                                    1   \n",
       "authorkarma                                                        0   \n",
       "authorisgold                                                       0   \n",
       "linked_sr                                                         []   \n",
       "linked_urls                                                       []   \n",
       "no_of_linked_sr                                                    0   \n",
       "no_of_linked_urls                                                  0   \n",
       "a_linked_urls                                                     []   \n",
       "subjectivity                                                       0   \n",
       "senti_neg                                                       0.05   \n",
       "senti_neu                                                       0.81   \n",
       "senti_pos                                                       0.14   \n",
       "senti_compound                                                0.9961   \n",
       "\n",
       "                                                                   2  \n",
       "id                                                            3cc1wz  \n",
       "time                                             2015-07-06 19:12:41  \n",
       "author                                                       CMelody  \n",
       "text               we have had a flurry of posts here and at  abo...  \n",
       "subreddit                                                breakingbad  \n",
       "meta                                                      television  \n",
       "ups                                                              210  \n",
       "authorlinkkarma                                                15325  \n",
       "authorkarma                                                    46039  \n",
       "authorisgold                                                       0  \n",
       "linked_sr                                           [bettercallsaul]  \n",
       "linked_urls                                                       []  \n",
       "no_of_linked_sr                                                    1  \n",
       "no_of_linked_urls                                                  0  \n",
       "a_linked_urls                                                     []  \n",
       "subjectivity                                                       0  \n",
       "senti_neg                                                       0.03  \n",
       "senti_neu                                                      0.702  \n",
       "senti_pos                                                      0.268  \n",
       "senti_compound                                                0.9396  "
      ]
     },
     "execution_count": 80,
     "metadata": {},
     "output_type": "execute_result"
    }
   ],
   "source": [
    "comments.head(3).T"
   ]
  },
  {
   "cell_type": "code",
   "execution_count": 82,
   "metadata": {},
   "outputs": [],
   "source": [
    "comments.to_pickle('Data/comments_processed.pkl')"
   ]
  },
  {
   "cell_type": "code",
   "execution_count": 83,
   "metadata": {},
   "outputs": [],
   "source": [
    "from sklearn.preprocessing import LabelBinarizer, MultiLabelBinarizer"
   ]
  },
  {
   "cell_type": "code",
   "execution_count": 84,
   "metadata": {},
   "outputs": [],
   "source": [
    "subreddit_lb = LabelBinarizer()"
   ]
  },
  {
   "cell_type": "code",
   "execution_count": 85,
   "metadata": {},
   "outputs": [
    {
     "data": {
      "text/plain": [
       "array([[0, 0, 0, ..., 0, 0, 0],\n",
       "       [0, 0, 0, ..., 0, 0, 0],\n",
       "       [0, 0, 0, ..., 0, 0, 0],\n",
       "       ...,\n",
       "       [0, 0, 0, ..., 0, 0, 0],\n",
       "       [0, 0, 0, ..., 0, 0, 0],\n",
       "       [0, 0, 0, ..., 0, 0, 0]])"
      ]
     },
     "execution_count": 85,
     "metadata": {},
     "output_type": "execute_result"
    }
   ],
   "source": [
    "subreddit_lb.fit_transform(comments.subreddit)"
   ]
  },
  {
   "cell_type": "code",
   "execution_count": 86,
   "metadata": {},
   "outputs": [
    {
     "data": {
      "text/plain": [
       "array([[0, 0, 0, ..., 0, 0, 0],\n",
       "       [0, 0, 0, ..., 0, 0, 0],\n",
       "       [0, 0, 0, ..., 0, 0, 0],\n",
       "       ...,\n",
       "       [0, 0, 0, ..., 0, 0, 0],\n",
       "       [0, 0, 0, ..., 0, 0, 0],\n",
       "       [0, 0, 0, ..., 0, 0, 0]])"
      ]
     },
     "execution_count": 86,
     "metadata": {},
     "output_type": "execute_result"
    }
   ],
   "source": [
    "linked_sr_lb = MultiLabelBinarizer()\n",
    "linked_sr_lb.fit_transform(comments.linked_sr)"
   ]
  },
  {
   "cell_type": "code",
   "execution_count": 87,
   "metadata": {},
   "outputs": [
    {
     "data": {
      "text/plain": [
       "Index(['id', 'time', 'author', 'text', 'subreddit', 'meta', 'ups',\n",
       "       'authorlinkkarma', 'authorkarma', 'authorisgold', 'linked_sr',\n",
       "       'linked_urls', 'no_of_linked_sr', 'no_of_linked_urls', 'a_linked_urls',\n",
       "       'subjectivity', 'senti_neg', 'senti_neu', 'senti_pos',\n",
       "       'senti_compound'],\n",
       "      dtype='object')"
      ]
     },
     "execution_count": 87,
     "metadata": {},
     "output_type": "execute_result"
    }
   ],
   "source": [
    "comments.columns"
   ]
  },
  {
   "cell_type": "markdown",
   "metadata": {},
   "source": [
    "# single label predictors columns"
   ]
  },
  {
   "cell_type": "markdown",
   "metadata": {},
   "source": [
    "`subreddit, meta`"
   ]
  },
  {
   "cell_type": "markdown",
   "metadata": {},
   "source": [
    "# Multi label predictors columns"
   ]
  },
  {
   "cell_type": "markdown",
   "metadata": {},
   "source": [
    "`linked_sr, linked_urls`"
   ]
  },
  {
   "cell_type": "markdown",
   "metadata": {},
   "source": [
    "# numreical predictors columns"
   ]
  },
  {
   "cell_type": "code",
   "execution_count": 88,
   "metadata": {},
   "outputs": [],
   "source": [
    "col_numeric = ['authorlinkkarma', 'authorkarma', 'authorisgold', 'subjectivity',\n",
    "               'senti_neg', 'senti_pos', 'senti_compound', 'no_of_linked_sr',\n",
    "               'senti_neu', 'no_of_linked_urls']"
   ]
  },
  {
   "cell_type": "code",
   "execution_count": 89,
   "metadata": {},
   "outputs": [
    {
     "data": {
      "text/html": [
       "<div>\n",
       "<style scoped>\n",
       "    .dataframe tbody tr th:only-of-type {\n",
       "        vertical-align: middle;\n",
       "    }\n",
       "\n",
       "    .dataframe tbody tr th {\n",
       "        vertical-align: top;\n",
       "    }\n",
       "\n",
       "    .dataframe thead th {\n",
       "        text-align: right;\n",
       "    }\n",
       "</style>\n",
       "<table border=\"1\" class=\"dataframe\">\n",
       "  <thead>\n",
       "    <tr style=\"text-align: right;\">\n",
       "      <th></th>\n",
       "      <th>authorlinkkarma</th>\n",
       "      <th>authorkarma</th>\n",
       "      <th>authorisgold</th>\n",
       "      <th>subjectivity</th>\n",
       "      <th>senti_neg</th>\n",
       "      <th>senti_pos</th>\n",
       "      <th>senti_compound</th>\n",
       "      <th>no_of_linked_sr</th>\n",
       "      <th>senti_neu</th>\n",
       "      <th>no_of_linked_urls</th>\n",
       "    </tr>\n",
       "  </thead>\n",
       "  <tbody>\n",
       "    <tr>\n",
       "      <th>0</th>\n",
       "      <td>40.0</td>\n",
       "      <td>27676.0</td>\n",
       "      <td>0.0</td>\n",
       "      <td>0</td>\n",
       "      <td>0.064</td>\n",
       "      <td>0.077</td>\n",
       "      <td>-0.3840</td>\n",
       "      <td>22</td>\n",
       "      <td>0.858</td>\n",
       "      <td>4</td>\n",
       "    </tr>\n",
       "    <tr>\n",
       "      <th>1</th>\n",
       "      <td>1.0</td>\n",
       "      <td>0.0</td>\n",
       "      <td>0.0</td>\n",
       "      <td>0</td>\n",
       "      <td>0.050</td>\n",
       "      <td>0.140</td>\n",
       "      <td>0.9961</td>\n",
       "      <td>0</td>\n",
       "      <td>0.810</td>\n",
       "      <td>0</td>\n",
       "    </tr>\n",
       "    <tr>\n",
       "      <th>2</th>\n",
       "      <td>15325.0</td>\n",
       "      <td>46039.0</td>\n",
       "      <td>0.0</td>\n",
       "      <td>0</td>\n",
       "      <td>0.030</td>\n",
       "      <td>0.268</td>\n",
       "      <td>0.9396</td>\n",
       "      <td>1</td>\n",
       "      <td>0.702</td>\n",
       "      <td>0</td>\n",
       "    </tr>\n",
       "    <tr>\n",
       "      <th>3</th>\n",
       "      <td>1804533.0</td>\n",
       "      <td>778920.0</td>\n",
       "      <td>1.0</td>\n",
       "      <td>1</td>\n",
       "      <td>0.050</td>\n",
       "      <td>0.124</td>\n",
       "      <td>0.9950</td>\n",
       "      <td>3</td>\n",
       "      <td>0.827</td>\n",
       "      <td>24</td>\n",
       "    </tr>\n",
       "    <tr>\n",
       "      <th>4</th>\n",
       "      <td>207.0</td>\n",
       "      <td>12.0</td>\n",
       "      <td>0.0</td>\n",
       "      <td>0</td>\n",
       "      <td>0.041</td>\n",
       "      <td>0.170</td>\n",
       "      <td>0.9949</td>\n",
       "      <td>7</td>\n",
       "      <td>0.788</td>\n",
       "      <td>2</td>\n",
       "    </tr>\n",
       "    <tr>\n",
       "      <th>5</th>\n",
       "      <td>306396.0</td>\n",
       "      <td>1686.0</td>\n",
       "      <td>0.0</td>\n",
       "      <td>0</td>\n",
       "      <td>0.000</td>\n",
       "      <td>0.245</td>\n",
       "      <td>0.3818</td>\n",
       "      <td>2</td>\n",
       "      <td>0.755</td>\n",
       "      <td>1</td>\n",
       "    </tr>\n",
       "    <tr>\n",
       "      <th>6</th>\n",
       "      <td>32570.0</td>\n",
       "      <td>61747.0</td>\n",
       "      <td>1.0</td>\n",
       "      <td>0</td>\n",
       "      <td>0.007</td>\n",
       "      <td>0.043</td>\n",
       "      <td>0.8790</td>\n",
       "      <td>3</td>\n",
       "      <td>0.950</td>\n",
       "      <td>0</td>\n",
       "    </tr>\n",
       "    <tr>\n",
       "      <th>7</th>\n",
       "      <td>348597.0</td>\n",
       "      <td>19663.0</td>\n",
       "      <td>0.0</td>\n",
       "      <td>0</td>\n",
       "      <td>0.000</td>\n",
       "      <td>0.188</td>\n",
       "      <td>0.9260</td>\n",
       "      <td>0</td>\n",
       "      <td>0.812</td>\n",
       "      <td>0</td>\n",
       "    </tr>\n",
       "    <tr>\n",
       "      <th>8</th>\n",
       "      <td>3002.0</td>\n",
       "      <td>26049.0</td>\n",
       "      <td>0.0</td>\n",
       "      <td>7</td>\n",
       "      <td>0.120</td>\n",
       "      <td>0.064</td>\n",
       "      <td>-0.9756</td>\n",
       "      <td>4</td>\n",
       "      <td>0.815</td>\n",
       "      <td>2</td>\n",
       "    </tr>\n",
       "    <tr>\n",
       "      <th>9</th>\n",
       "      <td>1.0</td>\n",
       "      <td>2220594.0</td>\n",
       "      <td>1.0</td>\n",
       "      <td>1</td>\n",
       "      <td>0.025</td>\n",
       "      <td>0.355</td>\n",
       "      <td>0.9828</td>\n",
       "      <td>1</td>\n",
       "      <td>0.620</td>\n",
       "      <td>0</td>\n",
       "    </tr>\n",
       "    <tr>\n",
       "      <th>10</th>\n",
       "      <td>15325.0</td>\n",
       "      <td>46039.0</td>\n",
       "      <td>0.0</td>\n",
       "      <td>0</td>\n",
       "      <td>0.092</td>\n",
       "      <td>0.177</td>\n",
       "      <td>0.7088</td>\n",
       "      <td>1</td>\n",
       "      <td>0.731</td>\n",
       "      <td>1</td>\n",
       "    </tr>\n",
       "  </tbody>\n",
       "</table>\n",
       "</div>"
      ],
      "text/plain": [
       "    authorlinkkarma  authorkarma  authorisgold  subjectivity  senti_neg  \\\n",
       "0              40.0      27676.0           0.0             0      0.064   \n",
       "1               1.0          0.0           0.0             0      0.050   \n",
       "2           15325.0      46039.0           0.0             0      0.030   \n",
       "3         1804533.0     778920.0           1.0             1      0.050   \n",
       "4             207.0         12.0           0.0             0      0.041   \n",
       "5          306396.0       1686.0           0.0             0      0.000   \n",
       "6           32570.0      61747.0           1.0             0      0.007   \n",
       "7          348597.0      19663.0           0.0             0      0.000   \n",
       "8            3002.0      26049.0           0.0             7      0.120   \n",
       "9               1.0    2220594.0           1.0             1      0.025   \n",
       "10          15325.0      46039.0           0.0             0      0.092   \n",
       "\n",
       "    senti_pos  senti_compound  no_of_linked_sr  senti_neu  no_of_linked_urls  \n",
       "0       0.077         -0.3840               22      0.858                  4  \n",
       "1       0.140          0.9961                0      0.810                  0  \n",
       "2       0.268          0.9396                1      0.702                  0  \n",
       "3       0.124          0.9950                3      0.827                 24  \n",
       "4       0.170          0.9949                7      0.788                  2  \n",
       "5       0.245          0.3818                2      0.755                  1  \n",
       "6       0.043          0.8790                3      0.950                  0  \n",
       "7       0.188          0.9260                0      0.812                  0  \n",
       "8       0.064         -0.9756                4      0.815                  2  \n",
       "9       0.355          0.9828                1      0.620                  0  \n",
       "10      0.177          0.7088                1      0.731                  1  "
      ]
     },
     "execution_count": 89,
     "metadata": {},
     "output_type": "execute_result"
    }
   ],
   "source": [
    "comments.loc[:10, col_numeric]"
   ]
  },
  {
   "cell_type": "markdown",
   "metadata": {},
   "source": [
    "# Dependent column "
   ]
  },
  {
   "cell_type": "markdown",
   "metadata": {},
   "source": [
    "`ups`"
   ]
  },
  {
   "cell_type": "code",
   "execution_count": 90,
   "metadata": {},
   "outputs": [],
   "source": [
    "import matplotlib.pyplot as plt\n",
    "from sklearn.metrics import mean_squared_error, r2_score\n",
    "from sklearn.model_selection import train_test_split\n",
    "import numpy as np"
   ]
  },
  {
   "cell_type": "code",
   "execution_count": 91,
   "metadata": {},
   "outputs": [],
   "source": [
    "subreddit_lb = LabelBinarizer()\n",
    "meta_lb = LabelBinarizer()\n",
    "linked_sr_lb = MultiLabelBinarizer()\n",
    "linked_urls_lb = MultiLabelBinarizer()\n",
    "\n",
    "y = comments.ups.values\n",
    "x = np.concatenate((subreddit_lb.fit_transform(comments.subreddit),\n",
    "                    meta_lb.fit_transform(comments.meta),\n",
    "                    # linked_sr_lb.fit_transform(comments.linked_sr),\n",
    "                    linked_urls_lb.fit_transform(comments.a_linked_urls),\n",
    "                    comments.loc[:, col_numeric].values), axis=1)"
   ]
  },
  {
   "cell_type": "code",
   "execution_count": 92,
   "metadata": {},
   "outputs": [
    {
     "data": {
      "text/plain": [
       "(49547, 83)"
      ]
     },
     "execution_count": 92,
     "metadata": {},
     "output_type": "execute_result"
    }
   ],
   "source": [
    "x.shape"
   ]
  },
  {
   "cell_type": "code",
   "execution_count": 93,
   "metadata": {},
   "outputs": [],
   "source": [
    "X_train, X_test, y_train, y_test = train_test_split(x, y, test_size=0.2,\n",
    "                                                    random_state=3)"
   ]
  },
  {
   "cell_type": "code",
   "execution_count": 95,
   "metadata": {},
   "outputs": [],
   "source": [
    "from sklearn.ensemble import RandomForestRegressor"
   ]
  },
  {
   "cell_type": "code",
   "execution_count": 96,
   "metadata": {},
   "outputs": [
    {
     "data": {
      "text/plain": [
       "RandomForestRegressor(bootstrap=True, criterion='mse', max_depth=None,\n",
       "           max_features='auto', max_leaf_nodes=None,\n",
       "           min_impurity_decrease=0.0, min_impurity_split=None,\n",
       "           min_samples_leaf=1, min_samples_split=2,\n",
       "           min_weight_fraction_leaf=0.0, n_estimators=10, n_jobs=-1,\n",
       "           oob_score=False, random_state=None, verbose=0, warm_start=False)"
      ]
     },
     "execution_count": 96,
     "metadata": {},
     "output_type": "execute_result"
    }
   ],
   "source": [
    "m = RandomForestRegressor(n_jobs=-1)\n",
    "m.fit(X_train, y_train)"
   ]
  },
  {
   "cell_type": "code",
   "execution_count": 97,
   "metadata": {},
   "outputs": [
    {
     "name": "stdout",
     "output_type": "stream",
     "text": [
      "-0.1578\n"
     ]
    }
   ],
   "source": [
    "y_predicted = m.predict(X_test)\n",
    "r2 = r2_score(y_test, y_predicted)\n",
    "print(f\"{r2:.4}\")"
   ]
  },
  {
   "cell_type": "markdown",
   "metadata": {},
   "source": [
    "Ohh something is wrong lets get, let's put some regularization on this."
   ]
  },
  {
   "cell_type": "code",
   "execution_count": 98,
   "metadata": {},
   "outputs": [
    {
     "data": {
      "text/plain": [
       "RandomForestRegressor(bootstrap=True, criterion='mse', max_depth=None,\n",
       "           max_features='auto', max_leaf_nodes=None,\n",
       "           min_impurity_decrease=0.0, min_impurity_split=None,\n",
       "           min_samples_leaf=50, min_samples_split=2,\n",
       "           min_weight_fraction_leaf=0.0, n_estimators=100, n_jobs=-1,\n",
       "           oob_score=False, random_state=None, verbose=0, warm_start=False)"
      ]
     },
     "execution_count": 98,
     "metadata": {},
     "output_type": "execute_result"
    }
   ],
   "source": [
    "m2 = RandomForestRegressor(n_jobs=-1, n_estimators=100, min_samples_leaf=50)\n",
    "m2.fit(X_train, y_train)"
   ]
  },
  {
   "cell_type": "code",
   "execution_count": 99,
   "metadata": {},
   "outputs": [
    {
     "name": "stdout",
     "output_type": "stream",
     "text": [
      "0.02454\n"
     ]
    }
   ],
   "source": [
    "y_predicted = m2.predict(X_test)\n",
    "r2 = r2_score(y_test, y_predicted)\n",
    "print(f\"{r2:.4}\")"
   ]
  },
  {
   "cell_type": "markdown",
   "metadata": {},
   "source": [
    "Right direction?? Might have to handle the subs and link domains better."
   ]
  },
  {
   "cell_type": "code",
   "execution_count": 100,
   "metadata": {},
   "outputs": [],
   "source": [
    "from sklearn.neighbors import KNeighborsRegressor"
   ]
  },
  {
   "cell_type": "code",
   "execution_count": 104,
   "metadata": {},
   "outputs": [
    {
     "data": {
      "text/plain": [
       "KNeighborsRegressor(algorithm='auto', leaf_size=50, metric='minkowski',\n",
       "          metric_params=None, n_jobs=-1, n_neighbors=5, p=2,\n",
       "          weights='uniform')"
      ]
     },
     "execution_count": 104,
     "metadata": {},
     "output_type": "execute_result"
    }
   ],
   "source": [
    "m3 = KNeighborsRegressor(n_jobs=-1, leaf_size=50)\n",
    "m3.fit(X_train, y_train)"
   ]
  },
  {
   "cell_type": "code",
   "execution_count": 105,
   "metadata": {},
   "outputs": [
    {
     "name": "stdout",
     "output_type": "stream",
     "text": [
      "-0.09914\n"
     ]
    }
   ],
   "source": [
    "y_predicted = m3.predict(X_test)\n",
    "r2 = r2_score(y_test, y_predicted)\n",
    "print(f\"{r2:.4}\")"
   ]
  }
 ],
 "metadata": {
  "kernelspec": {
   "display_name": "Python 3",
   "language": "python",
   "name": "python3"
  },
  "language_info": {
   "codemirror_mode": {
    "name": "ipython",
    "version": 3
   },
   "file_extension": ".py",
   "mimetype": "text/x-python",
   "name": "python",
   "nbconvert_exporter": "python",
   "pygments_lexer": "ipython3",
   "version": "3.6.5"
  }
 },
 "nbformat": 4,
 "nbformat_minor": 2
}
