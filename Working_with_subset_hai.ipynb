{
 "cells": [
  {
   "cell_type": "code",
   "execution_count": 7,
   "metadata": {
    "ExecuteTime": {
     "end_time": "2018-11-29T04:59:59.098610Z",
     "start_time": "2018-11-29T04:59:58.801453Z"
    },
    "scrolled": true
   },
   "outputs": [],
   "source": [
    "import re\n",
    "\n",
    "import pandas as pd\n",
    "import re, string\n",
    "import numpy as np\n",
    "import matplotlib.pyplot as plt\n",
    "import spacy\n",
    "\n",
    "from pathlib import Path\n",
    "from collections import Counter\n",
    "from multiprocessing import Pool\n",
    "from urllib.parse import urlparse\n",
    "\n",
    "from gensim.corpora import Dictionary\n",
    "from gensim.models.tfidfmodel import TfidfModel\n",
    "from gensim.matutils import sparse2full\n",
    "\n",
    "%matplotlib inline"
   ]
  },
  {
   "cell_type": "code",
   "execution_count": 8,
   "metadata": {
    "ExecuteTime": {
     "end_time": "2018-11-29T04:28:39.127790Z",
     "start_time": "2018-11-29T04:28:38.337548Z"
    }
   },
   "outputs": [],
   "source": [
    "from sklearn.metrics import mean_squared_error, r2_score\n",
    "from sklearn.model_selection import train_test_split\n",
    "from sklearn.preprocessing import LabelBinarizer, MultiLabelBinarizer\n",
    "from sklearn.feature_extraction.text import TfidfVectorizer\n",
    "from sklearn.linear_model import LinearRegression"
   ]
  },
  {
   "cell_type": "code",
   "execution_count": 9,
   "metadata": {
    "ExecuteTime": {
     "end_time": "2018-11-29T04:28:39.134217Z",
     "start_time": "2018-11-29T04:28:39.130408Z"
    }
   },
   "outputs": [],
   "source": [
    "path = Path('Data/')"
   ]
  },
  {
   "cell_type": "code",
   "execution_count": 10,
   "metadata": {
    "ExecuteTime": {
     "end_time": "2018-11-29T04:29:08.543544Z",
     "start_time": "2018-11-29T04:28:39.136569Z"
    }
   },
   "outputs": [
    {
     "name": "stderr",
     "output_type": "stream",
     "text": [
      "/anaconda3/envs/ml/lib/python3.6/site-packages/pandas/io/feather_format.py:112: FutureWarning: `nthreads` argument is deprecated, pass `use_threads` instead\n",
      "  return feather.read_dataframe(path, nthreads=nthreads)\n"
     ]
    }
   ],
   "source": [
    "df = pd.read_feather('Data/May2015_subset.fthr')"
   ]
  },
  {
   "cell_type": "code",
   "execution_count": 11,
   "metadata": {
    "ExecuteTime": {
     "end_time": "2018-11-29T04:29:10.343415Z",
     "start_time": "2018-11-29T04:29:08.546717Z"
    }
   },
   "outputs": [
    {
     "data": {
      "text/plain": [
       "leagueoflegends      1223184\n",
       "funny                 745916\n",
       "news                  548287\n",
       "todayilearned         519910\n",
       "worldnews             490354\n",
       "movies                376601\n",
       "gaming                361265\n",
       "politics              244927\n",
       "explainlikeimfive     223148\n",
       "anime                 221118\n",
       "gameofthrones         191006\n",
       "motorcycles            89721\n",
       "science                89413\n",
       "conspiracy             78349\n",
       "tf2                    76549\n",
       "sex                    74912\n",
       "guns                   61234\n",
       "comicbooks             60303\n",
       "pokemon                59730\n",
       "food                   55231\n",
       "starcraft              53797\n",
       "askscience             53017\n",
       "mylittlepony           44119\n",
       "space                  42726\n",
       "skyrim                 40568\n",
       "circlejerk             30134\n",
       "facepalm               22562\n",
       "community              20635\n",
       "harrypotter            19998\n",
       "progresspics           13385\n",
       "drunk                  13027\n",
       "startrek               12275\n",
       "thewalkingdead         10357\n",
       "offbeat                10035\n",
       "lifehacks               7342\n",
       "doctorwho               6242\n",
       "breakingbad             3795\n",
       "Name: subreddit, dtype: int64"
      ]
     },
     "execution_count": 11,
     "metadata": {},
     "output_type": "execute_result"
    }
   ],
   "source": [
    "df.subreddit.value_counts()"
   ]
  },
  {
   "cell_type": "markdown",
   "metadata": {},
   "source": [
    "## Focus on 5 subreddits only"
   ]
  },
  {
   "cell_type": "code",
   "execution_count": 12,
   "metadata": {
    "ExecuteTime": {
     "end_time": "2018-11-29T04:29:10.354134Z",
     "start_time": "2018-11-29T04:29:10.346299Z"
    }
   },
   "outputs": [],
   "source": [
    "subreddit_list = ['worldnews', 'movies', 'gaming', 'science', 'food']"
   ]
  },
  {
   "cell_type": "code",
   "execution_count": 13,
   "metadata": {
    "ExecuteTime": {
     "end_time": "2018-11-29T04:29:16.518717Z",
     "start_time": "2018-11-29T04:29:10.357095Z"
    }
   },
   "outputs": [],
   "source": [
    "df = df[df.subreddit.isin(subreddit_list)]"
   ]
  },
  {
   "cell_type": "code",
   "execution_count": 14,
   "metadata": {
    "ExecuteTime": {
     "end_time": "2018-11-29T04:29:16.526738Z",
     "start_time": "2018-11-29T04:29:16.521117Z"
    }
   },
   "outputs": [
    {
     "data": {
      "text/plain": [
       "(1372864, 22)"
      ]
     },
     "execution_count": 14,
     "metadata": {},
     "output_type": "execute_result"
    }
   ],
   "source": [
    "df.shape"
   ]
  },
  {
   "cell_type": "markdown",
   "metadata": {},
   "source": [
    "## Make sure categorical variables are of categorical types"
   ]
  },
  {
   "cell_type": "code",
   "execution_count": 10,
   "metadata": {
    "ExecuteTime": {
     "end_time": "2018-11-29T04:29:17.983664Z",
     "start_time": "2018-11-29T04:29:16.528994Z"
    }
   },
   "outputs": [],
   "source": [
    "df['subreddit'] = df.subreddit.astype('category')\n",
    "df['subreddit_id'] = df.subreddit_id.astype('category')\n",
    "df['distinguished'] = df.distinguished.astype('category')\n",
    "df['link_id'] = df.link_id.astype('category')\n",
    "\n",
    "df.drop(['archived', 'retrieved_on', 'id',\n",
    "         'author_flair_css_class', 'author_flair_text',\n",
    "         'removal_reason'], axis=1, inplace=True)"
   ]
  },
  {
   "cell_type": "code",
   "execution_count": 15,
   "metadata": {
    "ExecuteTime": {
     "end_time": "2018-11-29T04:29:18.064903Z",
     "start_time": "2018-11-29T04:29:17.985622Z"
    }
   },
   "outputs": [],
   "source": [
    "df.distinguished.replace(to_replace=np.NaN, value='user', inplace=True)"
   ]
  },
  {
   "cell_type": "markdown",
   "metadata": {},
   "source": [
    "# EDA"
   ]
  },
  {
   "cell_type": "code",
   "execution_count": 23,
   "metadata": {},
   "outputs": [],
   "source": [
    "import seaborn as sns"
   ]
  },
  {
   "cell_type": "code",
   "execution_count": 18,
   "metadata": {},
   "outputs": [
    {
     "data": {
      "text/html": [
       "<div>\n",
       "<style scoped>\n",
       "    .dataframe tbody tr th:only-of-type {\n",
       "        vertical-align: middle;\n",
       "    }\n",
       "\n",
       "    .dataframe tbody tr th {\n",
       "        vertical-align: top;\n",
       "    }\n",
       "\n",
       "    .dataframe thead th {\n",
       "        text-align: right;\n",
       "    }\n",
       "</style>\n",
       "<table border=\"1\" class=\"dataframe\">\n",
       "  <thead>\n",
       "    <tr style=\"text-align: right;\">\n",
       "      <th></th>\n",
       "      <th>732330</th>\n",
       "      <th>732331</th>\n",
       "      <th>732332</th>\n",
       "      <th>732333</th>\n",
       "      <th>732334</th>\n",
       "    </tr>\n",
       "  </thead>\n",
       "  <tbody>\n",
       "    <tr>\n",
       "      <th>created_utc</th>\n",
       "      <td>1430438556</td>\n",
       "      <td>1430438571</td>\n",
       "      <td>1430438572</td>\n",
       "      <td>1430438623</td>\n",
       "      <td>1430438641</td>\n",
       "    </tr>\n",
       "    <tr>\n",
       "      <th>ups</th>\n",
       "      <td>4</td>\n",
       "      <td>2</td>\n",
       "      <td>2</td>\n",
       "      <td>1</td>\n",
       "      <td>1</td>\n",
       "    </tr>\n",
       "    <tr>\n",
       "      <th>subreddit_id</th>\n",
       "      <td>t5_2qh55</td>\n",
       "      <td>t5_2qh55</td>\n",
       "      <td>t5_2qh55</td>\n",
       "      <td>t5_2qh55</td>\n",
       "      <td>t5_2qh55</td>\n",
       "    </tr>\n",
       "    <tr>\n",
       "      <th>link_id</th>\n",
       "      <td>t3_34gagr</td>\n",
       "      <td>t3_34dogt</td>\n",
       "      <td>t3_34drd4</td>\n",
       "      <td>t3_34gnav</td>\n",
       "      <td>t3_34drd4</td>\n",
       "    </tr>\n",
       "    <tr>\n",
       "      <th>name</th>\n",
       "      <td>t1_cqugc7x</td>\n",
       "      <td>t1_cqugcj4</td>\n",
       "      <td>t1_cqugcjl</td>\n",
       "      <td>t1_cqugdly</td>\n",
       "      <td>t1_cqugdz8</td>\n",
       "    </tr>\n",
       "    <tr>\n",
       "      <th>score_hidden</th>\n",
       "      <td>0</td>\n",
       "      <td>0</td>\n",
       "      <td>0</td>\n",
       "      <td>0</td>\n",
       "      <td>0</td>\n",
       "    </tr>\n",
       "    <tr>\n",
       "      <th>author_flair_css_class</th>\n",
       "      <td>None</td>\n",
       "      <td>None</td>\n",
       "      <td>None</td>\n",
       "      <td>None</td>\n",
       "      <td>None</td>\n",
       "    </tr>\n",
       "    <tr>\n",
       "      <th>author_flair_text</th>\n",
       "      <td>None</td>\n",
       "      <td>None</td>\n",
       "      <td>None</td>\n",
       "      <td>None</td>\n",
       "      <td>None</td>\n",
       "    </tr>\n",
       "    <tr>\n",
       "      <th>subreddit</th>\n",
       "      <td>food</td>\n",
       "      <td>food</td>\n",
       "      <td>food</td>\n",
       "      <td>food</td>\n",
       "      <td>food</td>\n",
       "    </tr>\n",
       "    <tr>\n",
       "      <th>id</th>\n",
       "      <td>cqugc7x</td>\n",
       "      <td>cqugcj4</td>\n",
       "      <td>cqugcjl</td>\n",
       "      <td>cqugdly</td>\n",
       "      <td>cqugdz8</td>\n",
       "    </tr>\n",
       "    <tr>\n",
       "      <th>removal_reason</th>\n",
       "      <td>None</td>\n",
       "      <td>None</td>\n",
       "      <td>None</td>\n",
       "      <td>None</td>\n",
       "      <td>None</td>\n",
       "    </tr>\n",
       "    <tr>\n",
       "      <th>gilded</th>\n",
       "      <td>0</td>\n",
       "      <td>0</td>\n",
       "      <td>0</td>\n",
       "      <td>0</td>\n",
       "      <td>0</td>\n",
       "    </tr>\n",
       "    <tr>\n",
       "      <th>downs</th>\n",
       "      <td>0</td>\n",
       "      <td>0</td>\n",
       "      <td>0</td>\n",
       "      <td>0</td>\n",
       "      <td>0</td>\n",
       "    </tr>\n",
       "    <tr>\n",
       "      <th>archived</th>\n",
       "      <td>0</td>\n",
       "      <td>0</td>\n",
       "      <td>0</td>\n",
       "      <td>0</td>\n",
       "      <td>0</td>\n",
       "    </tr>\n",
       "    <tr>\n",
       "      <th>author</th>\n",
       "      <td>FightWithTools</td>\n",
       "      <td>BlakShuck</td>\n",
       "      <td>westhest</td>\n",
       "      <td>[deleted]</td>\n",
       "      <td>westhest</td>\n",
       "    </tr>\n",
       "    <tr>\n",
       "      <th>score</th>\n",
       "      <td>4</td>\n",
       "      <td>2</td>\n",
       "      <td>2</td>\n",
       "      <td>1</td>\n",
       "      <td>1</td>\n",
       "    </tr>\n",
       "    <tr>\n",
       "      <th>retrieved_on</th>\n",
       "      <td>1432703121</td>\n",
       "      <td>1432703128</td>\n",
       "      <td>1432703128</td>\n",
       "      <td>1432703139</td>\n",
       "      <td>1432703143</td>\n",
       "    </tr>\n",
       "    <tr>\n",
       "      <th>body</th>\n",
       "      <td>This is true. From what I understand, the best...</td>\n",
       "      <td>This is the first 'Ulster/Belfast/Irish' fry I...</td>\n",
       "      <td>I'm not from Austria but I'm an American livin...</td>\n",
       "      <td>[deleted]</td>\n",
       "      <td>\"Speck\" is also slang for speed... As in amphe...</td>\n",
       "    </tr>\n",
       "    <tr>\n",
       "      <th>distinguished</th>\n",
       "      <td>user</td>\n",
       "      <td>user</td>\n",
       "      <td>user</td>\n",
       "      <td>user</td>\n",
       "      <td>user</td>\n",
       "    </tr>\n",
       "    <tr>\n",
       "      <th>edited</th>\n",
       "      <td>0</td>\n",
       "      <td>0</td>\n",
       "      <td>0</td>\n",
       "      <td>0</td>\n",
       "      <td>0</td>\n",
       "    </tr>\n",
       "    <tr>\n",
       "      <th>controversiality</th>\n",
       "      <td>0</td>\n",
       "      <td>0</td>\n",
       "      <td>0</td>\n",
       "      <td>0</td>\n",
       "      <td>0</td>\n",
       "    </tr>\n",
       "    <tr>\n",
       "      <th>parent_id</th>\n",
       "      <td>t3_34gagr</td>\n",
       "      <td>t1_cqtnslf</td>\n",
       "      <td>t1_cqu48b0</td>\n",
       "      <td>t3_34gnav</td>\n",
       "      <td>t1_cqtu199</td>\n",
       "    </tr>\n",
       "  </tbody>\n",
       "</table>\n",
       "</div>"
      ],
      "text/plain": [
       "                                                                   732330  \\\n",
       "created_utc                                                    1430438556   \n",
       "ups                                                                     4   \n",
       "subreddit_id                                                     t5_2qh55   \n",
       "link_id                                                         t3_34gagr   \n",
       "name                                                           t1_cqugc7x   \n",
       "score_hidden                                                            0   \n",
       "author_flair_css_class                                               None   \n",
       "author_flair_text                                                    None   \n",
       "subreddit                                                            food   \n",
       "id                                                                cqugc7x   \n",
       "removal_reason                                                       None   \n",
       "gilded                                                                  0   \n",
       "downs                                                                   0   \n",
       "archived                                                                0   \n",
       "author                                                     FightWithTools   \n",
       "score                                                                   4   \n",
       "retrieved_on                                                   1432703121   \n",
       "body                    This is true. From what I understand, the best...   \n",
       "distinguished                                                        user   \n",
       "edited                                                                  0   \n",
       "controversiality                                                        0   \n",
       "parent_id                                                       t3_34gagr   \n",
       "\n",
       "                                                                   732331  \\\n",
       "created_utc                                                    1430438571   \n",
       "ups                                                                     2   \n",
       "subreddit_id                                                     t5_2qh55   \n",
       "link_id                                                         t3_34dogt   \n",
       "name                                                           t1_cqugcj4   \n",
       "score_hidden                                                            0   \n",
       "author_flair_css_class                                               None   \n",
       "author_flair_text                                                    None   \n",
       "subreddit                                                            food   \n",
       "id                                                                cqugcj4   \n",
       "removal_reason                                                       None   \n",
       "gilded                                                                  0   \n",
       "downs                                                                   0   \n",
       "archived                                                                0   \n",
       "author                                                          BlakShuck   \n",
       "score                                                                   2   \n",
       "retrieved_on                                                   1432703128   \n",
       "body                    This is the first 'Ulster/Belfast/Irish' fry I...   \n",
       "distinguished                                                        user   \n",
       "edited                                                                  0   \n",
       "controversiality                                                        0   \n",
       "parent_id                                                      t1_cqtnslf   \n",
       "\n",
       "                                                                   732332  \\\n",
       "created_utc                                                    1430438572   \n",
       "ups                                                                     2   \n",
       "subreddit_id                                                     t5_2qh55   \n",
       "link_id                                                         t3_34drd4   \n",
       "name                                                           t1_cqugcjl   \n",
       "score_hidden                                                            0   \n",
       "author_flair_css_class                                               None   \n",
       "author_flair_text                                                    None   \n",
       "subreddit                                                            food   \n",
       "id                                                                cqugcjl   \n",
       "removal_reason                                                       None   \n",
       "gilded                                                                  0   \n",
       "downs                                                                   0   \n",
       "archived                                                                0   \n",
       "author                                                           westhest   \n",
       "score                                                                   2   \n",
       "retrieved_on                                                   1432703128   \n",
       "body                    I'm not from Austria but I'm an American livin...   \n",
       "distinguished                                                        user   \n",
       "edited                                                                  0   \n",
       "controversiality                                                        0   \n",
       "parent_id                                                      t1_cqu48b0   \n",
       "\n",
       "                            732333  \\\n",
       "created_utc             1430438623   \n",
       "ups                              1   \n",
       "subreddit_id              t5_2qh55   \n",
       "link_id                  t3_34gnav   \n",
       "name                    t1_cqugdly   \n",
       "score_hidden                     0   \n",
       "author_flair_css_class        None   \n",
       "author_flair_text             None   \n",
       "subreddit                     food   \n",
       "id                         cqugdly   \n",
       "removal_reason                None   \n",
       "gilded                           0   \n",
       "downs                            0   \n",
       "archived                         0   \n",
       "author                   [deleted]   \n",
       "score                            1   \n",
       "retrieved_on            1432703139   \n",
       "body                     [deleted]   \n",
       "distinguished                 user   \n",
       "edited                           0   \n",
       "controversiality                 0   \n",
       "parent_id                t3_34gnav   \n",
       "\n",
       "                                                                   732334  \n",
       "created_utc                                                    1430438641  \n",
       "ups                                                                     1  \n",
       "subreddit_id                                                     t5_2qh55  \n",
       "link_id                                                         t3_34drd4  \n",
       "name                                                           t1_cqugdz8  \n",
       "score_hidden                                                            0  \n",
       "author_flair_css_class                                               None  \n",
       "author_flair_text                                                    None  \n",
       "subreddit                                                            food  \n",
       "id                                                                cqugdz8  \n",
       "removal_reason                                                       None  \n",
       "gilded                                                                  0  \n",
       "downs                                                                   0  \n",
       "archived                                                                0  \n",
       "author                                                           westhest  \n",
       "score                                                                   1  \n",
       "retrieved_on                                                   1432703143  \n",
       "body                    \"Speck\" is also slang for speed... As in amphe...  \n",
       "distinguished                                                        user  \n",
       "edited                                                                  0  \n",
       "controversiality                                                        0  \n",
       "parent_id                                                      t1_cqtu199  "
      ]
     },
     "execution_count": 18,
     "metadata": {},
     "output_type": "execute_result"
    }
   ],
   "source": [
    "df.head(5).T"
   ]
  },
  {
   "cell_type": "code",
   "execution_count": 19,
   "metadata": {
    "ExecuteTime": {
     "end_time": "2018-11-29T04:29:18.076066Z",
     "start_time": "2018-11-29T04:29:18.070525Z"
    }
   },
   "outputs": [
    {
     "data": {
      "text/plain": [
       "Index(['created_utc', 'ups', 'subreddit_id', 'link_id', 'name', 'score_hidden',\n",
       "       'author_flair_css_class', 'author_flair_text', 'subreddit', 'id',\n",
       "       'removal_reason', 'gilded', 'downs', 'archived', 'author', 'score',\n",
       "       'retrieved_on', 'body', 'distinguished', 'edited', 'controversiality',\n",
       "       'parent_id'],\n",
       "      dtype='object')"
      ]
     },
     "execution_count": 19,
     "metadata": {},
     "output_type": "execute_result"
    }
   ],
   "source": [
    "df.columns"
   ]
  },
  {
   "cell_type": "code",
   "execution_count": 20,
   "metadata": {
    "ExecuteTime": {
     "end_time": "2018-11-29T04:29:18.667697Z",
     "start_time": "2018-11-29T04:29:18.080003Z"
    }
   },
   "outputs": [
    {
     "data": {
      "text/plain": [
       "'1.1661081546498158 GB'"
      ]
     },
     "execution_count": 20,
     "metadata": {},
     "output_type": "execute_result"
    }
   ],
   "source": [
    "f\"{df.memory_usage(deep=True).sum() / 1023.0**3} GB\""
   ]
  },
  {
   "cell_type": "code",
   "execution_count": 21,
   "metadata": {
    "ExecuteTime": {
     "end_time": "2018-11-29T04:29:18.690593Z",
     "start_time": "2018-11-29T04:29:18.669647Z"
    }
   },
   "outputs": [],
   "source": [
    "assert len(df.subreddit_id.unique()) == len(df.subreddit.unique())"
   ]
  },
  {
   "cell_type": "code",
   "execution_count": 69,
   "metadata": {
    "ExecuteTime": {
     "end_time": "2018-11-29T04:29:18.706039Z",
     "start_time": "2018-11-29T04:29:18.692626Z"
    }
   },
   "outputs": [
    {
     "data": {
      "text/plain": [
       "worldnews    490354\n",
       "movies       376601\n",
       "gaming       361265\n",
       "science       89413\n",
       "food          55231\n",
       "Name: subreddit, dtype: int64"
      ]
     },
     "execution_count": 69,
     "metadata": {},
     "output_type": "execute_result"
    }
   ],
   "source": [
    "df.subreddit.value_counts()"
   ]
  },
  {
   "cell_type": "code",
   "execution_count": 26,
   "metadata": {},
   "outputs": [
    {
     "data": {
      "text/plain": [
       "<matplotlib.axes._subplots.AxesSubplot at 0x1b36fe7f28>"
      ]
     },
     "execution_count": 26,
     "metadata": {},
     "output_type": "execute_result"
    },
    {
     "data": {
      "image/png": "[encoded data removed]",
      "text/plain": [
       "<Figure size 432x288 with 1 Axes>"
      ]
     },
     "metadata": {
      "needs_background": "light"
     },
     "output_type": "display_data"
    }
   ],
   "source": [
    "sns.countplot(data=df, x='subreddit')"
   ]
  },
  {
   "cell_type": "code",
   "execution_count": 59,
   "metadata": {},
   "outputs": [
    {
     "name": "stdout",
     "output_type": "stream",
     "text": [
      "max, min, mean in each subreddit:\n",
      "In worldnews \t: max = 5387, min = -280, mean = 7.400424999082295\n",
      "In movies \t: max = 4447, min = -549, mean = 9.400118427725896\n",
      "In gaming \t: max = 5116, min = -812, mean = 8.862787704316776\n",
      "In science \t: max = 4095, min = -203, mean = 7.209175399550401\n",
      "In food \t: max = 3307, min = -239, mean = 4.697742209990766\n"
     ]
    }
   ],
   "source": [
    "print(\"max, min, mean in each subreddit:\")\n",
    "for subreddit in subreddit_list:\n",
    "    ups = df['ups'][df['subreddit']==subreddit]\n",
    "    print(f\"In {subreddit} \\t: max = {max(ups)}, min = {min(ups)}, mean = {ups.mean()}\")"
   ]
  },
  {
   "cell_type": "code",
   "execution_count": 65,
   "metadata": {},
   "outputs": [
    {
     "data": {
      "image/png": "[encoded data removed]",
      "text/plain": [
       "<Figure size 432x288 with 1 Axes>"
      ]
     },
     "metadata": {
      "needs_background": "light"
     },
     "output_type": "display_data"
    },
    {
     "data": {
      "image/png": "[encoded data removed]",
      "text/plain": [
       "<Figure size 432x288 with 1 Axes>"
      ]
     },
     "metadata": {
      "needs_background": "light"
     },
     "output_type": "display_data"
    },
    {
     "data": {
      "image/png": "[encoded data removed]",
      "text/plain": [
       "<Figure size 432x288 with 1 Axes>"
      ]
     },
     "metadata": {
      "needs_background": "light"
     },
     "output_type": "display_data"
    },
    {
     "data": {
      "image/png": "[encoded data removed]",
      "text/plain": [
       "<Figure size 432x288 with 1 Axes>"
      ]
     },
     "metadata": {
      "needs_background": "light"
     },
     "output_type": "display_data"
    },
    {
     "data": {
      "image/png": "[encoded data removed]",
      "text/plain": [
       "<Figure size 432x288 with 1 Axes>"
      ]
     },
     "metadata": {
      "needs_background": "light"
     },
     "output_type": "display_data"
    }
   ],
   "source": [
    "for subreddit in subreddit_list:\n",
    "    fig, ax = plt.subplots()\n",
    "    sns.distplot(df['ups'][df['subreddit']==subreddit], kde=False)\n",
    "    ax.set(xlabel='Number of Upvotes',\n",
    "      title=subreddit)\n",
    "    plt.show()"
   ]
  },
  {
   "cell_type": "code",
   "execution_count": 66,
   "metadata": {},
   "outputs": [
    {
     "data": {
      "text/plain": [
       "<matplotlib.axes._subplots.AxesSubplot at 0x1b869b3780>"
      ]
     },
     "execution_count": 66,
     "metadata": {},
     "output_type": "execute_result"
    },
    {
     "data": {
      "image/png": "[encoded data removed]",
      "text/plain": [
       "<Figure size 432x288 with 1 Axes>"
      ]
     },
     "metadata": {
      "needs_background": "light"
     },
     "output_type": "display_data"
    }
   ],
   "source": [
    "sns.distplot(df['ups'], kde=False)"
   ]
  },
  {
   "cell_type": "code",
   "execution_count": 73,
   "metadata": {},
   "outputs": [],
   "source": [
    "df['upvoted'] = 'no'\n",
    "df.loc[df['ups'] != 0, 'upvoted'] = 'yes'"
   ]
  },
  {
   "cell_type": "code",
   "execution_count": 80,
   "metadata": {
    "scrolled": true
   },
   "outputs": [
    {
     "data": {
      "text/plain": [
       "yes    0.924975\n",
       "no     0.075025\n",
       "Name: upvoted, dtype: float64"
      ]
     },
     "execution_count": 80,
     "metadata": {},
     "output_type": "execute_result"
    }
   ],
   "source": [
    "df['upvoted'].value_counts()/df.shape[0]"
   ]
  },
  {
   "cell_type": "code",
   "execution_count": 81,
   "metadata": {},
   "outputs": [
    {
     "data": {
      "text/plain": [
       "no    1.0\n",
       "Name: downvoted, dtype: float64"
      ]
     },
     "execution_count": 81,
     "metadata": {},
     "output_type": "execute_result"
    }
   ],
   "source": [
    "df['downvoted'] = 'no'\n",
    "df.loc[df['downs'] != 0, 'downvoted'] = 'yes'\n",
    "df['downvoted'].value_counts()/df.shape[0]"
   ]
  },
  {
   "cell_type": "code",
   "execution_count": 64,
   "metadata": {},
   "outputs": [
    {
     "data": {
      "image/png": "[encoded data removed]",
      "text/plain": [
       "<Figure size 432x288 with 1 Axes>"
      ]
     },
     "metadata": {
      "needs_background": "light"
     },
     "output_type": "display_data"
    },
    {
     "data": {
      "image/png": "[encoded data removed]",
      "text/plain": [
       "<Figure size 432x288 with 1 Axes>"
      ]
     },
     "metadata": {
      "needs_background": "light"
     },
     "output_type": "display_data"
    },
    {
     "data": {
      "image/png": "[encoded data removed]",
      "text/plain": [
       "<Figure size 432x288 with 1 Axes>"
      ]
     },
     "metadata": {
      "needs_background": "light"
     },
     "output_type": "display_data"
    },
    {
     "data": {
      "image/png": "[encoded data removed]",
      "text/plain": [
       "<Figure size 432x288 with 1 Axes>"
      ]
     },
     "metadata": {
      "needs_background": "light"
     },
     "output_type": "display_data"
    },
    {
     "data": {
      "image/png": "[encoded data removed]",
      "text/plain": [
       "<Figure size 432x288 with 1 Axes>"
      ]
     },
     "metadata": {
      "needs_background": "light"
     },
     "output_type": "display_data"
    }
   ],
   "source": [
    "for subreddit in subreddit_list:\n",
    "    fig, ax = plt.subplots()\n",
    "    sns.distplot(df['controversiality'][df['subreddit']==subreddit], kde=False)\n",
    "    ax.set(xlabel='Controversiality',\n",
    "#       xlim=(-300,300),\n",
    "      title=subreddit)\n",
    "    plt.show()"
   ]
  },
  {
   "cell_type": "markdown",
   "metadata": {},
   "source": [
    "# Engineer new features"
   ]
  },
  {
   "cell_type": "code",
   "execution_count": 97,
   "metadata": {
    "ExecuteTime": {
     "end_time": "2018-11-29T04:29:18.739115Z",
     "start_time": "2018-11-29T04:29:18.708052Z"
    }
   },
   "outputs": [],
   "source": [
    "df['time'] = pd.to_datetime(df.created_utc, unit='s')"
   ]
  },
  {
   "cell_type": "code",
   "execution_count": 98,
   "metadata": {
    "ExecuteTime": {
     "end_time": "2018-11-29T04:29:19.057444Z",
     "start_time": "2018-11-29T04:29:18.741850Z"
    }
   },
   "outputs": [],
   "source": [
    "df_first_comment = df[['link_id', 'time']].groupby(by=['link_id']).min()"
   ]
  },
  {
   "cell_type": "code",
   "execution_count": 100,
   "metadata": {
    "ExecuteTime": {
     "end_time": "2018-11-29T04:29:19.836624Z",
     "start_time": "2018-11-29T04:29:19.064209Z"
    }
   },
   "outputs": [],
   "source": [
    "df_first_comment_dict = df_first_comment.to_dict('index')"
   ]
  },
  {
   "cell_type": "code",
   "execution_count": 101,
   "metadata": {
    "ExecuteTime": {
     "end_time": "2018-11-29T04:29:19.841000Z",
     "start_time": "2018-11-29T04:29:19.838527Z"
    }
   },
   "outputs": [],
   "source": [
    "def time_lapse(x):\n",
    "    return df_first_comment_dict[x]['time']"
   ]
  },
  {
   "cell_type": "code",
   "execution_count": 102,
   "metadata": {
    "ExecuteTime": {
     "end_time": "2018-11-29T04:29:19.981452Z",
     "start_time": "2018-11-29T04:29:19.842603Z"
    }
   },
   "outputs": [],
   "source": [
    "df['time_lapse'] = df.time - df['link_id'].apply(time_lapse)"
   ]
  },
  {
   "cell_type": "code",
   "execution_count": 103,
   "metadata": {
    "ExecuteTime": {
     "end_time": "2018-11-29T04:29:30.052689Z",
     "start_time": "2018-11-29T04:29:19.983211Z"
    }
   },
   "outputs": [],
   "source": [
    "df.time_lapse = df.time_lapse.apply(lambda x: x.total_seconds())"
   ]
  },
  {
   "cell_type": "code",
   "execution_count": 104,
   "metadata": {
    "ExecuteTime": {
     "end_time": "2018-11-29T04:29:31.563395Z",
     "start_time": "2018-11-29T04:29:30.054394Z"
    }
   },
   "outputs": [
    {
     "data": {
      "image/png": "[encoded data removed]",
      "text/plain": [
       "<Figure size 432x288 with 1 Axes>"
      ]
     },
     "metadata": {
      "needs_background": "light"
     },
     "output_type": "display_data"
    }
   ],
   "source": [
    "(df.time_lapse / (60*60)).hist(bins=800).set_xlim((0, 48));"
   ]
  },
  {
   "cell_type": "code",
   "execution_count": 108,
   "metadata": {
    "ExecuteTime": {
     "end_time": "2018-11-29T04:29:31.569832Z",
     "start_time": "2018-11-29T04:29:31.565147Z"
    }
   },
   "outputs": [],
   "source": [
    "def pd_to_dict(df, index='', column=''):\n",
    "    return pd.Series(df[column].values, index=df[index]).to_dict()"
   ]
  },
  {
   "cell_type": "code",
   "execution_count": 109,
   "metadata": {
    "ExecuteTime": {
     "end_time": "2018-11-29T04:29:32.044204Z",
     "start_time": "2018-11-29T04:29:31.572397Z"
    }
   },
   "outputs": [],
   "source": [
    "comment_to_parent_dict = pd_to_dict(df[['name', 'parent_id']],\n",
    "                                    index='name', column='parent_id')"
   ]
  },
  {
   "cell_type": "code",
   "execution_count": 111,
   "metadata": {
    "ExecuteTime": {
     "end_time": "2018-11-29T04:29:32.058482Z",
     "start_time": "2018-11-29T04:29:32.054550Z"
    }
   },
   "outputs": [],
   "source": [
    "def get_depth(x):\n",
    "    counter = 0\n",
    "    temp = x\n",
    "    while True:  # recursive function to trace to the parent with starts with 't3_'\n",
    "        if temp[:3] == 't3_':\n",
    "            return counter\n",
    "        try:\n",
    "            temp = comment_to_parent_dict[temp]\n",
    "        except KeyError:\n",
    "            return np.nan\n",
    "        counter += 1"
   ]
  },
  {
   "cell_type": "code",
   "execution_count": 112,
   "metadata": {
    "ExecuteTime": {
     "end_time": "2018-11-29T04:29:34.144298Z",
     "start_time": "2018-11-29T04:29:32.063043Z"
    }
   },
   "outputs": [],
   "source": [
    "df['depth'] = df['name'].apply(get_depth)"
   ]
  },
  {
   "cell_type": "code",
   "execution_count": 113,
   "metadata": {
    "ExecuteTime": {
     "end_time": "2018-11-29T04:29:34.164042Z",
     "start_time": "2018-11-29T04:29:34.146437Z"
    }
   },
   "outputs": [
    {
     "data": {
      "text/plain": [
       "0.01057424479045266"
      ]
     },
     "execution_count": 113,
     "metadata": {},
     "output_type": "execute_result"
    }
   ],
   "source": [
    "df.depth.isna().sum() / float(df.shape[0])"
   ]
  },
  {
   "cell_type": "markdown",
   "metadata": {},
   "source": [
    "Most comments are fewer than 10 levels from the parent comment."
   ]
  },
  {
   "cell_type": "code",
   "execution_count": 175,
   "metadata": {},
   "outputs": [],
   "source": [
    "df_depth = df[df['depth'].isna() == False]"
   ]
  },
  {
   "cell_type": "code",
   "execution_count": 176,
   "metadata": {},
   "outputs": [
    {
     "name": "stderr",
     "output_type": "stream",
     "text": [
      "/anaconda3/envs/ml/lib/python3.6/site-packages/scipy/stats/stats.py:1713: FutureWarning: Using a non-tuple sequence for multidimensional indexing is deprecated; use `arr[tuple(seq)]` instead of `arr[seq]`. In the future this will be interpreted as an array index, `arr[np.array(seq)]`, which will result either in an error or a different result.\n",
      "  return np.add.reduce(sorted[indexer] * weights, axis=axis) / sumval\n"
     ]
    },
    {
     "data": {
      "text/plain": [
       "<matplotlib.axes._subplots.AxesSubplot at 0x1a45ebe780>"
      ]
     },
     "execution_count": 176,
     "metadata": {},
     "output_type": "execute_result"
    },
    {
     "data": {
      "image/png": "[encoded data removed]",
      "text/plain": [
       "<Figure size 432x288 with 1 Axes>"
      ]
     },
     "metadata": {
      "needs_background": "light"
     },
     "output_type": "display_data"
    }
   ],
   "source": [
    "sns.distplot(df_depth['depth'], kde=False)"
   ]
  },
  {
   "cell_type": "code",
   "execution_count": 191,
   "metadata": {
    "ExecuteTime": {
     "end_time": "2018-11-29T04:29:58.517892Z",
     "start_time": "2018-11-29T04:29:58.514728Z"
    }
   },
   "outputs": [],
   "source": [
    "def get_time_since_parent(pi):\n",
    "    try:\n",
    "        return comment_to_time[pi]\n",
    "    except:\n",
    "        return np.nan"
   ]
  },
  {
   "cell_type": "code",
   "execution_count": 192,
   "metadata": {
    "ExecuteTime": {
     "end_time": "2018-11-29T04:29:59.365621Z",
     "start_time": "2018-11-29T04:29:58.520080Z"
    }
   },
   "outputs": [],
   "source": [
    "df['time_since_parent'] = df.parent_id.apply(get_time_since_parent)"
   ]
  },
  {
   "cell_type": "code",
   "execution_count": 193,
   "metadata": {
    "ExecuteTime": {
     "end_time": "2018-11-29T04:29:59.534275Z",
     "start_time": "2018-11-29T04:29:59.368306Z"
    }
   },
   "outputs": [],
   "source": [
    "df.loc[df.time_since_parent.isna(), 'time_since_parent'] = df.time"
   ]
  },
  {
   "cell_type": "code",
   "execution_count": 194,
   "metadata": {
    "ExecuteTime": {
     "end_time": "2018-11-29T04:29:59.559156Z",
     "start_time": "2018-11-29T04:29:59.535927Z"
    }
   },
   "outputs": [],
   "source": [
    "df.time_since_parent = df.time - df.time_since_parent"
   ]
  },
  {
   "cell_type": "code",
   "execution_count": 195,
   "metadata": {
    "ExecuteTime": {
     "end_time": "2018-11-29T04:30:09.551926Z",
     "start_time": "2018-11-29T04:29:59.562092Z"
    }
   },
   "outputs": [],
   "source": [
    "df.time_since_parent = df.time_since_parent.apply(lambda x: x.total_seconds())"
   ]
  },
  {
   "cell_type": "code",
   "execution_count": 196,
   "metadata": {},
   "outputs": [
    {
     "data": {
      "text/plain": [
       "2634310.0"
      ]
     },
     "execution_count": 196,
     "metadata": {},
     "output_type": "execute_result"
    }
   ],
   "source": [
    "df['time_since_parent'].max()"
   ]
  },
  {
   "cell_type": "code",
   "execution_count": 182,
   "metadata": {},
   "outputs": [
    {
     "name": "stderr",
     "output_type": "stream",
     "text": [
      "/anaconda3/envs/ml/lib/python3.6/site-packages/scipy/stats/stats.py:1713: FutureWarning: Using a non-tuple sequence for multidimensional indexing is deprecated; use `arr[tuple(seq)]` instead of `arr[seq]`. In the future this will be interpreted as an array index, `arr[np.array(seq)]`, which will result either in an error or a different result.\n",
      "  return np.add.reduce(sorted[indexer] * weights, axis=axis) / sumval\n"
     ]
    },
    {
     "data": {
      "text/plain": [
       "[(0, 2634310.0)]"
      ]
     },
     "execution_count": 182,
     "metadata": {},
     "output_type": "execute_result"
    },
    {
     "data": {
      "image/png": "[encoded data removed]",
      "text/plain": [
       "<Figure size 432x288 with 1 Axes>"
      ]
     },
     "metadata": {
      "needs_background": "light"
     },
     "output_type": "display_data"
    }
   ],
   "source": [
    "fig, ax = plt.subplots()\n",
    "sns.distplot(df['time_since_parent'], kde=False, ax=ax)\n",
    "ax.set(xlim=(0,df['time_since_parent'].max()))"
   ]
  },
  {
   "cell_type": "code",
   "execution_count": 147,
   "metadata": {
    "ExecuteTime": {
     "end_time": "2018-11-29T04:30:09.781767Z",
     "start_time": "2018-11-29T04:30:09.554388Z"
    }
   },
   "outputs": [],
   "source": [
    "from vaderSentiment.vaderSentiment import SentimentIntensityAnalyzer"
   ]
  },
  {
   "cell_type": "code",
   "execution_count": 153,
   "metadata": {
    "ExecuteTime": {
     "end_time": "2018-11-29T04:30:09.802505Z",
     "start_time": "2018-11-29T04:30:09.783482Z"
    }
   },
   "outputs": [],
   "source": [
    "analyser = SentimentIntensityAnalyzer()"
   ]
  },
  {
   "cell_type": "code",
   "execution_count": 154,
   "metadata": {
    "ExecuteTime": {
     "end_time": "2018-11-29T04:30:09.808816Z",
     "start_time": "2018-11-29T04:30:09.805629Z"
    }
   },
   "outputs": [],
   "source": [
    "def get_sentiment(x):\n",
    "    return analyser.polarity_scores(x)"
   ]
  },
  {
   "cell_type": "code",
   "execution_count": 155,
   "metadata": {
    "ExecuteTime": {
     "end_time": "2018-11-29T05:35:55.163993Z",
     "start_time": "2018-11-29T05:35:55.160858Z"
    }
   },
   "outputs": [],
   "source": [
    "num_partitions = 100\n",
    "num_cores = 6"
   ]
  },
  {
   "cell_type": "code",
   "execution_count": 156,
   "metadata": {
    "ExecuteTime": {
     "end_time": "2018-11-29T05:35:56.247057Z",
     "start_time": "2018-11-29T05:35:56.243020Z"
    }
   },
   "outputs": [],
   "source": [
    "def parallelize_dataframe(df, func):\n",
    "    df_split = np.array_split(df, num_partitions)\n",
    "    pool = Pool(num_cores)\n",
    "    df = pd.concat(pool.map(func, df_split))\n",
    "    pool.close()\n",
    "    pool.join()\n",
    "    return df"
   ]
  },
  {
   "cell_type": "code",
   "execution_count": 157,
   "metadata": {
    "ExecuteTime": {
     "end_time": "2018-11-29T04:30:09.824251Z",
     "start_time": "2018-11-29T04:30:09.821395Z"
    }
   },
   "outputs": [],
   "source": [
    "def wrapper_get_sentiment(df):\n",
    "    df['sentiment'] = df['body'].apply(get_sentiment)\n",
    "    return df"
   ]
  },
  {
   "cell_type": "code",
   "execution_count": 164,
   "metadata": {
    "ExecuteTime": {
     "end_time": "2018-11-29T04:37:00.701978Z",
     "start_time": "2018-11-29T04:30:09.826489Z"
    }
   },
   "outputs": [],
   "source": [
    "sentiment = parallelize_dataframe(df['body'].to_frame(), wrapper_get_sentiment)"
   ]
  },
  {
   "cell_type": "code",
   "execution_count": 165,
   "metadata": {
    "ExecuteTime": {
     "end_time": "2018-11-29T04:37:00.831805Z",
     "start_time": "2018-11-29T04:37:00.704891Z"
    }
   },
   "outputs": [],
   "source": [
    "sentiment.drop(['body'], axis=1, inplace=True)"
   ]
  },
  {
   "cell_type": "code",
   "execution_count": 166,
   "metadata": {
    "ExecuteTime": {
     "end_time": "2018-11-29T04:37:02.050727Z",
     "start_time": "2018-11-29T04:37:00.833544Z"
    }
   },
   "outputs": [],
   "source": [
    "df['senti_neg'] = sentiment['sentiment'].apply(lambda x: x['neg'])\n",
    "df['senti_neu'] = sentiment['sentiment'].apply(lambda x: x['neu'])\n",
    "df['senti_pos'] = sentiment['sentiment'].apply(lambda x: x['pos'])\n",
    "df['senti_comp'] = sentiment['sentiment'].apply(lambda x: x['compound'])"
   ]
  },
  {
   "cell_type": "code",
   "execution_count": 202,
   "metadata": {},
   "outputs": [
    {
     "data": {
      "image/png": "[encoded data removed]",
      "text/plain": [
       "<Figure size 432x288 with 1 Axes>"
      ]
     },
     "metadata": {
      "needs_background": "light"
     },
     "output_type": "display_data"
    },
    {
     "data": {
      "image/png": "[encoded data removed]",
      "text/plain": [
       "<Figure size 432x288 with 1 Axes>"
      ]
     },
     "metadata": {
      "needs_background": "light"
     },
     "output_type": "display_data"
    },
    {
     "data": {
      "image/png": "[encoded data removed]",
      "text/plain": [
       "<Figure size 432x288 with 1 Axes>"
      ]
     },
     "metadata": {
      "needs_background": "light"
     },
     "output_type": "display_data"
    },
    {
     "data": {
      "image/png": "[encoded data removed]",
      "text/plain": [
       "<Figure size 432x288 with 1 Axes>"
      ]
     },
     "metadata": {
      "needs_background": "light"
     },
     "output_type": "display_data"
    }
   ],
   "source": [
    "for senti in 'senti_neg senti_pos senti_neu senti_comp'.split():\n",
    "    fig, ax = plt.subplots()\n",
    "    df[senti].plot.hist()\n",
    "    ax.set(title=senti)\n",
    "    plt.show()"
   ]
  },
  {
   "cell_type": "code",
   "execution_count": 167,
   "metadata": {
    "ExecuteTime": {
     "end_time": "2018-11-29T04:37:02.176756Z",
     "start_time": "2018-11-29T04:37:02.052550Z"
    }
   },
   "outputs": [],
   "source": [
    "del sentiment"
   ]
  },
  {
   "cell_type": "code",
   "execution_count": 168,
   "metadata": {
    "ExecuteTime": {
     "end_time": "2018-11-29T04:37:06.635938Z",
     "start_time": "2018-11-29T04:37:02.179115Z"
    }
   },
   "outputs": [],
   "source": [
    "df.to_pickle('Data/working_sub.pkl')"
   ]
  },
  {
   "cell_type": "code",
   "execution_count": 169,
   "metadata": {
    "ExecuteTime": {
     "end_time": "2018-11-29T04:37:11.021584Z",
     "start_time": "2018-11-29T04:37:06.637896Z"
    }
   },
   "outputs": [],
   "source": [
    "df = pd.read_pickle('Data/working_sub.pkl')"
   ]
  },
  {
   "cell_type": "code",
   "execution_count": 197,
   "metadata": {
    "ExecuteTime": {
     "end_time": "2018-11-29T04:37:11.028221Z",
     "start_time": "2018-11-29T04:37:11.023646Z"
    }
   },
   "outputs": [
    {
     "data": {
      "text/plain": [
       "(1372864, 42)"
      ]
     },
     "execution_count": 197,
     "metadata": {},
     "output_type": "execute_result"
    }
   ],
   "source": [
    "df.shape"
   ]
  },
  {
   "cell_type": "code",
   "execution_count": 72,
   "metadata": {
    "ExecuteTime": {
     "end_time": "2018-11-29T04:37:11.033363Z",
     "start_time": "2018-11-29T04:37:11.030509Z"
    }
   },
   "outputs": [],
   "source": [
    "# sub_punct = lambda x: re.sub(r'['+string.punctuation+']+', ' ', x)\n",
    "# df['body'] = df['body'].apply(sub_punct)"
   ]
  },
  {
   "cell_type": "code",
   "execution_count": 205,
   "metadata": {
    "ExecuteTime": {
     "end_time": "2018-11-29T04:37:11.039341Z",
     "start_time": "2018-11-29T04:37:11.035571Z"
    }
   },
   "outputs": [],
   "source": [
    "def get_word_count(df):\n",
    "    df['word_count'] = df['body'].apply(lambda x: len(x.split()))\n",
    "    return df"
   ]
  },
  {
   "cell_type": "code",
   "execution_count": 206,
   "metadata": {
    "ExecuteTime": {
     "end_time": "2018-11-29T04:37:15.509350Z",
     "start_time": "2018-11-29T04:37:11.041389Z"
    }
   },
   "outputs": [],
   "source": [
    "word_counts = parallelize_dataframe(df['body'].to_frame(), get_word_count)\n",
    "df['word_counts'] = word_counts.word_count"
   ]
  },
  {
   "cell_type": "code",
   "execution_count": 207,
   "metadata": {
    "ExecuteTime": {
     "end_time": "2018-11-29T04:37:15.612750Z",
     "start_time": "2018-11-29T04:37:15.512309Z"
    }
   },
   "outputs": [],
   "source": [
    "del word_counts"
   ]
  },
  {
   "cell_type": "code",
   "execution_count": 208,
   "metadata": {
    "ExecuteTime": {
     "end_time": "2018-11-29T04:37:15.619113Z",
     "start_time": "2018-11-29T04:37:15.615583Z"
    }
   },
   "outputs": [],
   "source": [
    "import string"
   ]
  },
  {
   "cell_type": "code",
   "execution_count": 209,
   "metadata": {
    "ExecuteTime": {
     "end_time": "2018-11-29T04:37:15.636652Z",
     "start_time": "2018-11-29T04:37:15.633517Z"
    }
   },
   "outputs": [],
   "source": [
    "from sklearn.feature_extraction.stop_words import ENGLISH_STOP_WORDS"
   ]
  },
  {
   "cell_type": "code",
   "execution_count": 210,
   "metadata": {
    "ExecuteTime": {
     "end_time": "2018-11-29T04:37:15.643850Z",
     "start_time": "2018-11-29T04:37:15.638985Z"
    }
   },
   "outputs": [],
   "source": [
    "table = str.maketrans({key: ' ' for key in string.digits + string.punctuation + '\\t\\n\\r'})"
   ]
  },
  {
   "cell_type": "code",
   "execution_count": 211,
   "metadata": {
    "ExecuteTime": {
     "end_time": "2018-11-29T04:37:15.650948Z",
     "start_time": "2018-11-29T04:37:15.645918Z"
    }
   },
   "outputs": [],
   "source": [
    "def load_glove(filename):\n",
    "    glove = {}\n",
    "    with open(filename, 'r') as read_file:\n",
    "        for line in read_file:\n",
    "            key = line.split(' ')[0]\n",
    "            vector = np.array(line.split(' ')[1:], dtype=np.float)\n",
    "            glove[key] = vector\n",
    "\n",
    "    return glove"
   ]
  },
  {
   "cell_type": "code",
   "execution_count": 212,
   "metadata": {
    "ExecuteTime": {
     "end_time": "2018-11-29T04:37:15.659542Z",
     "start_time": "2018-11-29T04:37:15.653367Z"
    }
   },
   "outputs": [],
   "source": [
    "def words(text):\n",
    "    text = text.lower()\n",
    "    text = text.translate(table).strip()\n",
    "    terms = text.split(' ')\n",
    "    terms = [t for t in terms if len(t) > 2]\n",
    "    terms = [t for t in terms if t not in ENGLISH_STOP_WORDS]\n",
    "\n",
    "    return terms"
   ]
  },
  {
   "cell_type": "code",
   "execution_count": 237,
   "metadata": {
    "ExecuteTime": {
     "end_time": "2018-11-29T04:37:15.666729Z",
     "start_time": "2018-11-29T04:37:15.662146Z"
    }
   },
   "outputs": [],
   "source": [
    "def get_doc2vec(text, gloves):\n",
    "    count_words = 0\n",
    "    final_vector = 0\n",
    "    terms = words(text)\n",
    "\n",
    "    for t in terms:\n",
    "        if t in gloves.keys():\n",
    "            count_words += 1\n",
    "            final_vector += gloves[t]\n",
    "    if count_words != 0:\n",
    "        return final_vector / count_words\n",
    "    else:\n",
    "        return None"
   ]
  },
  {
   "cell_type": "code",
   "execution_count": 218,
   "metadata": {
    "ExecuteTime": {
     "end_time": "2018-11-29T04:39:40.122408Z",
     "start_time": "2018-11-29T04:39:33.831930Z"
    }
   },
   "outputs": [],
   "source": [
    "gloves = load_glove('/Users/haivule/data/glove/glove.6B.50d.txt')"
   ]
  },
  {
   "cell_type": "code",
   "execution_count": 238,
   "metadata": {
    "ExecuteTime": {
     "end_time": "2018-11-29T04:39:40.129068Z",
     "start_time": "2018-11-29T04:39:40.125063Z"
    }
   },
   "outputs": [],
   "source": [
    "def wrapper_get_centroid(df):\n",
    "    df['doc2vec'] = df['body'].apply(lambda x: get_doc2vec(x, gloves))\n",
    "    return df"
   ]
  },
  {
   "cell_type": "code",
   "execution_count": 220,
   "metadata": {
    "ExecuteTime": {
     "end_time": "2018-11-29T04:40:17.116976Z",
     "start_time": "2018-11-29T04:39:40.132253Z"
    }
   },
   "outputs": [],
   "source": [
    "doc2vec = parallelize_dataframe(df['body'].to_frame(), wrapper_get_centroid)"
   ]
  },
  {
   "cell_type": "code",
   "execution_count": 221,
   "metadata": {
    "ExecuteTime": {
     "end_time": "2018-11-29T04:40:17.130701Z",
     "start_time": "2018-11-29T04:40:17.123004Z"
    }
   },
   "outputs": [],
   "source": [
    "doc2vec = doc2vec.doc2vec.values"
   ]
  },
  {
   "cell_type": "code",
   "execution_count": 222,
   "metadata": {},
   "outputs": [],
   "source": [
    "df['doc2vec'] = doc2vec"
   ]
  },
  {
   "cell_type": "code",
   "execution_count": 236,
   "metadata": {},
   "outputs": [
    {
     "data": {
      "text/plain": [
       "numpy.ndarray"
      ]
     },
     "execution_count": 236,
     "metadata": {},
     "output_type": "execute_result"
    }
   ],
   "source": [
    "type(doc2vec)"
   ]
  },
  {
   "cell_type": "code",
   "execution_count": 101,
   "metadata": {
    "ExecuteTime": {
     "end_time": "2018-11-29T04:53:45.157326Z",
     "start_time": "2018-11-29T04:53:45.154238Z"
    }
   },
   "outputs": [],
   "source": [
    "#vectorizer = TfidfVectorizer()\n",
    "#X_tfidf = vectorizer.fit_transform(df['body'])"
   ]
  },
  {
   "cell_type": "code",
   "execution_count": 227,
   "metadata": {
    "ExecuteTime": {
     "end_time": "2018-11-29T04:54:02.060861Z",
     "start_time": "2018-11-29T04:53:47.345646Z"
    }
   },
   "outputs": [],
   "source": [
    "# nlp  = spacy.load('en_core_web_md')"
   ]
  },
  {
   "cell_type": "code",
   "execution_count": 234,
   "metadata": {
    "ExecuteTime": {
     "end_time": "2018-11-29T05:39:50.362453Z",
     "start_time": "2018-11-29T05:39:48.526Z"
    }
   },
   "outputs": [],
   "source": [
    "def keep_token(t):\n",
    "    try:\n",
    "        return (t.is_alpha and \n",
    "                not (t.is_space or t.is_punct or \n",
    "                     t.is_stop or t.like_num))\n",
    "    except:\n",
    "        return False\n",
    "\n",
    "\n",
    "# def lemmatize_doc(doc):\n",
    "#     return [ t.lemma_ for t in doc if keep_token(t)]\n",
    "\n",
    "\n",
    "# def wrapper_get_lemmatized(df):\n",
    "#     df['lemmatized_text'] = df['body'].apply(lambda x: lemmatize_doc(nlp(x)))\n",
    "#     return df"
   ]
  },
  {
   "cell_type": "code",
   "execution_count": 225,
   "metadata": {
    "ExecuteTime": {
     "end_time": "2018-11-29T22:25:53.000954Z",
     "start_time": "2018-11-29T22:25:52.982117Z"
    }
   },
   "outputs": [],
   "source": [
    "# def doc2vec_lemma(text_lemma, gloves):\n",
    "#     count_words = 0\n",
    "#     final_vector = 0\n",
    "\n",
    "#     for t in text_lemma:\n",
    "#         if t in gloves.keys():\n",
    "#             count_words += 1\n",
    "#             final_vector += gloves[t]\n",
    "#     if count_words != 0:\n",
    "#         return final_vector / count_words\n",
    "#     else:\n",
    "#         return None\n",
    "\n",
    "# def wrapper_get_lemma_centroid(df):\n",
    "#     df['lemma2vec'] = df['lemi'].apply(lambda x: doc2vec_lemma(x, gloves))\n",
    "#     return df"
   ]
  },
  {
   "cell_type": "code",
   "execution_count": 243,
   "metadata": {
    "ExecuteTime": {
     "end_time": "2018-11-29T22:36:01.763605Z",
     "start_time": "2018-11-29T22:36:01.741981Z"
    }
   },
   "outputs": [],
   "source": [
    "def get_cosine_angle(cmnt_id):\n",
    "    child = comment_to_body[cmnt_id]\n",
    "    try:\n",
    "        parent = comment_to_body[comment_to_parent[cmnt_id]]\n",
    "    except KeyError:\n",
    "        return None\n",
    "    child = get_doc2vec(child, gloves)\n",
    "    parent = get_doc2vec(parent, gloves)\n",
    "    if child is None:\n",
    "        return None\n",
    "    if parent is None:\n",
    "        return None\n",
    "    return child.dot(parent)\n",
    "\n",
    "# def get_cosine_angle_lemmas(cmnt_id):\n",
    "#     child = comment_to_lemi[cmnt_id]\n",
    "#     try:\n",
    "#         parent = comment_to_lemi[comment_to_parent[cmnt_id]]\n",
    "#     except KeyError:\n",
    "#         return None\n",
    "#     child = doc2vec_lemma(child, gloves)\n",
    "#     parent = doc2vec_lemma(parent, gloves)\n",
    "#     if child is None:\n",
    "#         return None\n",
    "#     if parent is None:\n",
    "#         return None\n",
    "#     return child.dot(parent)"
   ]
  },
  {
   "cell_type": "code",
   "execution_count": 231,
   "metadata": {},
   "outputs": [
    {
     "data": {
      "text/plain": [
       "array(['t1_crrbdt2', 't1_crrbdtt', 't1_crrbdvn', 't1_crrbdxj',\n",
       "       't1_crrbdxr', 't1_crrbebf', 't1_crrbecs', 't1_crrbedn',\n",
       "       't1_crrbefm', 't1_crrbeft'], dtype=object)"
      ]
     },
     "execution_count": 231,
     "metadata": {},
     "output_type": "execute_result"
    }
   ],
   "source": [
    "df.name.values[-10:]"
   ]
  },
  {
   "cell_type": "code",
   "execution_count": 244,
   "metadata": {},
   "outputs": [
    {
     "data": {
      "text/plain": [
       "6.900523655555543"
      ]
     },
     "execution_count": 244,
     "metadata": {},
     "output_type": "execute_result"
    }
   ],
   "source": [
    "get_cosine_angle('t1_crrbdvn')"
   ]
  },
  {
   "cell_type": "code",
   "execution_count": 245,
   "metadata": {
    "ExecuteTime": {
     "end_time": "2018-11-29T22:37:37.218387Z",
     "start_time": "2018-11-29T22:37:37.211806Z"
    }
   },
   "outputs": [],
   "source": [
    "def wrapper_get_cosine(df):\n",
    "    df['cosine_angle'] = df['name'].apply(get_cosine_angle)\n",
    "    return df\n",
    "\n",
    "# def wrapper_get_cosine_lemma(df):\n",
    "#     df['cosine_angle_lemma'] = df['name'].apply(get_cosine_angle_lemmas)\n",
    "#     return df"
   ]
  },
  {
   "cell_type": "code",
   "execution_count": 246,
   "metadata": {
    "ExecuteTime": {
     "end_time": "2018-11-29T22:41:17.617254Z",
     "start_time": "2018-11-29T22:41:16.914076Z"
    }
   },
   "outputs": [],
   "source": [
    "cosine_angle = parallelize_dataframe(df['name'].to_frame(), wrapper_get_cosine)"
   ]
  },
  {
   "cell_type": "code",
   "execution_count": 247,
   "metadata": {},
   "outputs": [],
   "source": [
    "df['cos_angle'] = cosine_angle.cosine_angle"
   ]
  },
  {
   "cell_type": "code",
   "execution_count": 248,
   "metadata": {
    "ExecuteTime": {
     "end_time": "2018-11-29T22:39:10.975231Z",
     "start_time": "2018-11-29T22:38:19.509093Z"
    }
   },
   "outputs": [
    {
     "ename": "NameError",
     "evalue": "name 'wrapper_get_cosine_lemma' is not defined",
     "output_type": "error",
     "traceback": [
      "\u001b[0;31m---------------------------------------------------------------------------\u001b[0m",
      "\u001b[0;31mNameError\u001b[0m                                 Traceback (most recent call last)",
      "\u001b[0;32m<ipython-input-248-f952ee717b68>\u001b[0m in \u001b[0;36m<module>\u001b[0;34m\u001b[0m\n\u001b[0;32m----> 1\u001b[0;31m \u001b[0mcosine_angle_lemma\u001b[0m \u001b[0;34m=\u001b[0m \u001b[0mparallelize_dataframe\u001b[0m\u001b[0;34m(\u001b[0m\u001b[0mdf\u001b[0m\u001b[0;34m[\u001b[0m\u001b[0;34m'name'\u001b[0m\u001b[0;34m]\u001b[0m\u001b[0;34m.\u001b[0m\u001b[0mto_frame\u001b[0m\u001b[0;34m(\u001b[0m\u001b[0;34m)\u001b[0m\u001b[0;34m,\u001b[0m \u001b[0mwrapper_get_cosine_lemma\u001b[0m\u001b[0;34m)\u001b[0m\u001b[0;34m\u001b[0m\u001b[0m\n\u001b[0m",
      "\u001b[0;31mNameError\u001b[0m: name 'wrapper_get_cosine_lemma' is not defined"
     ]
    }
   ],
   "source": [
    "cosine_angle_lemma = parallelize_dataframe(df['name'].to_frame(), wrapper_get_cosine_lemma)"
   ]
  },
  {
   "cell_type": "code",
   "execution_count": null,
   "metadata": {
    "ExecuteTime": {
     "end_time": "2018-11-29T22:42:13.208247Z",
     "start_time": "2018-11-29T22:42:13.183215Z"
    }
   },
   "outputs": [],
   "source": [
    "df['cos_angle_lemma'] = cosine_angle_lemma.cosine_angle_lemma"
   ]
  },
  {
   "cell_type": "code",
   "execution_count": 205,
   "metadata": {
    "ExecuteTime": {
     "end_time": "2018-11-29T22:42:35.623851Z",
     "start_time": "2018-11-29T22:42:23.541418Z"
    }
   },
   "outputs": [
    {
     "data": {
      "text/plain": [
       "1079"
      ]
     },
     "execution_count": 205,
     "metadata": {},
     "output_type": "execute_result"
    }
   ],
   "source": [
    "import gc\n",
    "gc.collect()"
   ]
  },
  {
   "cell_type": "code",
   "execution_count": 206,
   "metadata": {
    "ExecuteTime": {
     "end_time": "2018-11-29T22:42:35.703709Z",
     "start_time": "2018-11-29T22:42:35.630770Z"
    }
   },
   "outputs": [
    {
     "data": {
      "text/plain": [
       "215.0"
      ]
     },
     "execution_count": 206,
     "metadata": {},
     "output_type": "execute_result"
    }
   ],
   "source": [
    "df.word_counts.quantile(0.99)"
   ]
  },
  {
   "cell_type": "code",
   "execution_count": 249,
   "metadata": {
    "ExecuteTime": {
     "end_time": "2018-11-29T22:42:39.421728Z",
     "start_time": "2018-11-29T22:42:35.839554Z"
    }
   },
   "outputs": [],
   "source": [
    "# remove comments that have  more than 500 words (outliers)\n",
    "df = df[df['word_counts'] < 250]"
   ]
  },
  {
   "cell_type": "code",
   "execution_count": 250,
   "metadata": {
    "ExecuteTime": {
     "end_time": "2018-11-29T22:42:40.726405Z",
     "start_time": "2018-11-29T22:42:39.427706Z"
    }
   },
   "outputs": [],
   "source": [
    "df = df[~df.depth.isna()]"
   ]
  },
  {
   "cell_type": "code",
   "execution_count": 251,
   "metadata": {
    "ExecuteTime": {
     "end_time": "2018-11-29T22:42:43.701907Z",
     "start_time": "2018-11-29T22:42:40.728616Z"
    }
   },
   "outputs": [],
   "source": [
    "df.drop(['score_hidden'], axis=1, inplace=True)"
   ]
  },
  {
   "cell_type": "code",
   "execution_count": 252,
   "metadata": {
    "ExecuteTime": {
     "end_time": "2018-11-29T22:42:45.386654Z",
     "start_time": "2018-11-29T22:42:43.705950Z"
    }
   },
   "outputs": [],
   "source": [
    "df = df[df.body != '[deleted]']\n",
    "df = df[df.body != '[removed]']\n",
    "df = df[df.body != '']"
   ]
  },
  {
   "cell_type": "code",
   "execution_count": 253,
   "metadata": {
    "ExecuteTime": {
     "end_time": "2018-11-29T04:29:36.057044Z",
     "start_time": "2018-11-29T04:29:34.166240Z"
    }
   },
   "outputs": [],
   "source": [
    "df['linked_sr'] = df.body.apply(lambda x: re.findall(r\"/r/([^\\s/]+)\", x))"
   ]
  },
  {
   "cell_type": "code",
   "execution_count": 254,
   "metadata": {
    "ExecuteTime": {
     "end_time": "2018-11-29T04:29:37.424301Z",
     "start_time": "2018-11-29T04:29:36.058711Z"
    }
   },
   "outputs": [],
   "source": [
    "df['body'] = df.body.apply(lambda x: re.sub(r\"(/r/[^\\s/]+)\", '', x))"
   ]
  },
  {
   "cell_type": "code",
   "execution_count": 255,
   "metadata": {
    "ExecuteTime": {
     "end_time": "2018-11-29T04:29:37.429722Z",
     "start_time": "2018-11-29T04:29:37.426874Z"
    }
   },
   "outputs": [],
   "source": [
    "url_regex = r'http[s]?://(?:[a-zA-Z]|[0-9]|[$-_@.&+]|[!*\\(\\),]|(?:%[0-9a-fA-F][0-9a-fA-F]))+'"
   ]
  },
  {
   "cell_type": "code",
   "execution_count": 256,
   "metadata": {
    "ExecuteTime": {
     "end_time": "2018-11-29T04:29:37.441285Z",
     "start_time": "2018-11-29T04:29:37.433894Z"
    }
   },
   "outputs": [],
   "source": [
    "def get_domains(x):\n",
    "    x = x.replace(' = ', '=')\n",
    "    x = x.replace(' : ', ':')\n",
    "    x = x.replace(' / ', '?')\n",
    "    urls = re.findall(url_regex, x)\n",
    "    try:\n",
    "        domain_names = [urlparse(url).netloc.split('.')[-2] for url in urls]\n",
    "    except:\n",
    "        return []\n",
    "    return domain_names"
   ]
  },
  {
   "cell_type": "code",
   "execution_count": 257,
   "metadata": {
    "ExecuteTime": {
     "end_time": "2018-11-29T04:29:42.563407Z",
     "start_time": "2018-11-29T04:29:37.444043Z"
    }
   },
   "outputs": [],
   "source": [
    "df['linked_urls'] = df.body.apply(lambda x: get_domains(x))"
   ]
  },
  {
   "cell_type": "code",
   "execution_count": 258,
   "metadata": {
    "ExecuteTime": {
     "end_time": "2018-11-29T04:29:42.571854Z",
     "start_time": "2018-11-29T04:29:42.566888Z"
    }
   },
   "outputs": [],
   "source": [
    "def remove_urls(x):\n",
    "    x = x.replace(' = ', '=')\n",
    "    x = x.replace(' : ', ':')\n",
    "    x = x.replace(' / ', '?')\n",
    "    return re.sub(url_regex, '', x)"
   ]
  },
  {
   "cell_type": "code",
   "execution_count": 259,
   "metadata": {
    "ExecuteTime": {
     "end_time": "2018-11-29T04:29:46.053711Z",
     "start_time": "2018-11-29T04:29:42.576331Z"
    }
   },
   "outputs": [],
   "source": [
    "df['body'] = df.body.apply(lambda x: remove_urls(x))"
   ]
  },
  {
   "cell_type": "code",
   "execution_count": 260,
   "metadata": {
    "ExecuteTime": {
     "end_time": "2018-11-29T04:29:46.888772Z",
     "start_time": "2018-11-29T04:29:46.055424Z"
    }
   },
   "outputs": [],
   "source": [
    "df['no_of_linked_sr'] = df['linked_sr'].apply(lambda x: len(x))\n",
    "df['no_of_linked_urls'] = df['linked_urls'].apply(lambda x: len(x))"
   ]
  },
  {
   "cell_type": "code",
   "execution_count": 261,
   "metadata": {
    "ExecuteTime": {
     "end_time": "2018-11-29T04:29:47.022847Z",
     "start_time": "2018-11-29T04:29:46.890864Z"
    }
   },
   "outputs": [
    {
     "data": {
      "text/plain": [
       "0"
      ]
     },
     "execution_count": 261,
     "metadata": {},
     "output_type": "execute_result"
    }
   ],
   "source": [
    "all_linked_sr = []\n",
    "for l in df.linked_sr.values:\n",
    "    all_linked_sr += l\n",
    "len(all_linked_sr)"
   ]
  },
  {
   "cell_type": "code",
   "execution_count": 262,
   "metadata": {
    "ExecuteTime": {
     "end_time": "2018-11-29T04:29:47.037632Z",
     "start_time": "2018-11-29T04:29:47.025236Z"
    }
   },
   "outputs": [
    {
     "data": {
      "text/plain": [
       "[]"
      ]
     },
     "execution_count": 262,
     "metadata": {},
     "output_type": "execute_result"
    }
   ],
   "source": [
    "top_sr_links = Counter(all_linked_sr)\n",
    "top_sr_links.most_common(20)"
   ]
  },
  {
   "cell_type": "markdown",
   "metadata": {},
   "source": [
    "Should not probably use the actual names."
   ]
  },
  {
   "cell_type": "code",
   "execution_count": 263,
   "metadata": {
    "ExecuteTime": {
     "end_time": "2018-11-29T04:29:47.223300Z",
     "start_time": "2018-11-29T04:29:47.039888Z"
    }
   },
   "outputs": [
    {
     "data": {
      "text/plain": [
       "0"
      ]
     },
     "execution_count": 263,
     "metadata": {},
     "output_type": "execute_result"
    }
   ],
   "source": [
    "all_linked_urls = []\n",
    "for l in df.linked_urls.values:\n",
    "    all_linked_urls += l\n",
    "len(all_linked_urls)"
   ]
  },
  {
   "cell_type": "code",
   "execution_count": 264,
   "metadata": {
    "ExecuteTime": {
     "end_time": "2018-11-29T04:29:47.260298Z",
     "start_time": "2018-11-29T04:29:47.228504Z"
    }
   },
   "outputs": [
    {
     "data": {
      "text/plain": [
       "[]"
      ]
     },
     "execution_count": 264,
     "metadata": {},
     "output_type": "execute_result"
    }
   ],
   "source": [
    "top_url_links = Counter(all_linked_urls)\n",
    "top_url_links.most_common(15)"
   ]
  },
  {
   "cell_type": "code",
   "execution_count": 265,
   "metadata": {
    "ExecuteTime": {
     "end_time": "2018-11-29T04:29:47.304206Z",
     "start_time": "2018-11-29T04:29:47.287712Z"
    }
   },
   "outputs": [],
   "source": [
    "allowed_urls = [i[0] for i in top_url_links.most_common(15)]"
   ]
  },
  {
   "cell_type": "code",
   "execution_count": 266,
   "metadata": {
    "ExecuteTime": {
     "end_time": "2018-11-29T04:29:47.317327Z",
     "start_time": "2018-11-29T04:29:47.309749Z"
    }
   },
   "outputs": [],
   "source": [
    "def remove_urls(x):\n",
    "    y = []\n",
    "    for i in x:\n",
    "        if i in allowed_urls:\n",
    "            y += [i]\n",
    "    return y"
   ]
  },
  {
   "cell_type": "code",
   "execution_count": 267,
   "metadata": {
    "ExecuteTime": {
     "end_time": "2018-11-29T04:29:48.365682Z",
     "start_time": "2018-11-29T04:29:47.319600Z"
    }
   },
   "outputs": [],
   "source": [
    "df['a_linked_urls'] = df['linked_urls'].apply(lambda x: remove_urls(x))"
   ]
  },
  {
   "cell_type": "markdown",
   "metadata": {},
   "source": [
    "Small i doesn't work for subjectivity"
   ]
  },
  {
   "cell_type": "code",
   "execution_count": 268,
   "metadata": {
    "ExecuteTime": {
     "end_time": "2018-11-29T04:29:49.355788Z",
     "start_time": "2018-11-29T04:29:48.367849Z"
    }
   },
   "outputs": [],
   "source": [
    "df['subjectivity'] = df['body'].str.count('I ')"
   ]
  },
  {
   "cell_type": "code",
   "execution_count": 269,
   "metadata": {
    "ExecuteTime": {
     "end_time": "2018-11-29T04:29:49.583105Z",
     "start_time": "2018-11-29T04:29:49.357822Z"
    }
   },
   "outputs": [],
   "source": [
    "df['is_edited'] = df.edited.apply(lambda x: x > 0)"
   ]
  },
  {
   "cell_type": "code",
   "execution_count": 270,
   "metadata": {
    "ExecuteTime": {
     "end_time": "2018-11-29T04:29:50.383705Z",
     "start_time": "2018-11-29T04:29:49.585211Z"
    }
   },
   "outputs": [
    {
     "data": {
      "text/plain": [
       "'2.007327194193492 GB'"
      ]
     },
     "execution_count": 270,
     "metadata": {},
     "output_type": "execute_result"
    }
   ],
   "source": [
    "f\"{df.memory_usage(deep=True).sum() / 1023.0**3} GB\""
   ]
  },
  {
   "cell_type": "markdown",
   "metadata": {},
   "source": [
    "To check if the comment is quotes another comment."
   ]
  },
  {
   "cell_type": "code",
   "execution_count": 271,
   "metadata": {
    "ExecuteTime": {
     "end_time": "2018-11-29T04:29:51.191558Z",
     "start_time": "2018-11-29T04:29:50.386098Z"
    }
   },
   "outputs": [],
   "source": [
    "# if the comment is qouted\n",
    "df['is_quoted'] = df.body.str.contains('&gt;')"
   ]
  },
  {
   "cell_type": "code",
   "execution_count": 272,
   "metadata": {
    "ExecuteTime": {
     "end_time": "2018-11-29T04:29:52.108604Z",
     "start_time": "2018-11-29T04:29:51.193441Z"
    }
   },
   "outputs": [],
   "source": [
    "df['no_quoted'] = df.body.str.count('&gt;')"
   ]
  },
  {
   "cell_type": "code",
   "execution_count": 138,
   "metadata": {
    "ExecuteTime": {
     "end_time": "2018-11-29T04:29:52.962101Z",
     "start_time": "2018-11-29T04:29:52.111045Z"
    }
   },
   "outputs": [],
   "source": [
    "comment_to_score = pd_to_dict(df[['name', 'score']],\n",
    "                              index='name', column='score')"
   ]
  },
  {
   "cell_type": "code",
   "execution_count": 139,
   "metadata": {
    "ExecuteTime": {
     "end_time": "2018-11-29T04:29:52.966325Z",
     "start_time": "2018-11-29T04:29:52.963815Z"
    }
   },
   "outputs": [],
   "source": [
    "def get_parent_score(x):\n",
    "    try:\n",
    "        return comment_to_score[x]\n",
    "    except:\n",
    "        return 0"
   ]
  },
  {
   "cell_type": "code",
   "execution_count": 140,
   "metadata": {
    "ExecuteTime": {
     "end_time": "2018-11-29T04:29:53.704332Z",
     "start_time": "2018-11-29T04:29:52.968722Z"
    }
   },
   "outputs": [],
   "source": [
    "df['parent_score'] = df.parent_id.apply(lambda x: get_parent_score(x))"
   ]
  },
  {
   "cell_type": "code",
   "execution_count": 141,
   "metadata": {
    "ExecuteTime": {
     "end_time": "2018-11-29T04:29:58.512461Z",
     "start_time": "2018-11-29T04:29:53.706344Z"
    }
   },
   "outputs": [],
   "source": [
    "comment_to_time = pd_to_dict(df[['name', 'time']],\n",
    "                              index='name', column='time')"
   ]
  },
  {
   "cell_type": "code",
   "execution_count": 212,
   "metadata": {
    "ExecuteTime": {
     "end_time": "2018-11-29T22:43:29.023434Z",
     "start_time": "2018-11-29T22:43:28.634983Z"
    }
   },
   "outputs": [],
   "source": [
    "df = df[~df.lemma2vec.isna()]"
   ]
  },
  {
   "cell_type": "code",
   "execution_count": 213,
   "metadata": {
    "ExecuteTime": {
     "end_time": "2018-11-29T22:43:46.958014Z",
     "start_time": "2018-11-29T22:43:46.579712Z"
    }
   },
   "outputs": [],
   "source": [
    "df = df[~df.cos_angle_lemma.isna()]"
   ]
  },
  {
   "cell_type": "code",
   "execution_count": 214,
   "metadata": {
    "ExecuteTime": {
     "end_time": "2018-11-29T22:43:48.183638Z",
     "start_time": "2018-11-29T22:43:48.176807Z"
    }
   },
   "outputs": [
    {
     "data": {
      "text/plain": [
       "(846912, 37)"
      ]
     },
     "execution_count": 214,
     "metadata": {},
     "output_type": "execute_result"
    }
   ],
   "source": [
    "df.shape"
   ]
  },
  {
   "cell_type": "code",
   "execution_count": 215,
   "metadata": {
    "ExecuteTime": {
     "end_time": "2018-11-29T22:43:57.422830Z",
     "start_time": "2018-11-29T22:43:57.415536Z"
    }
   },
   "outputs": [
    {
     "data": {
      "text/plain": [
       "Index(['created_utc', 'ups', 'subreddit_id', 'link_id', 'name', 'subreddit',\n",
       "       'gilded', 'downs', 'author', 'score', 'body', 'distinguished', 'edited',\n",
       "       'controversiality', 'parent_id', 'time', 'time_lapse', 'depth',\n",
       "       'linked_sr', 'linked_urls', 'no_of_linked_sr', 'no_of_linked_urls',\n",
       "       'a_linked_urls', 'subjectivity', 'is_edited', 'is_quoted', 'no_quoted',\n",
       "       'parent_score', 'time_since_parent', 'senti_neg', 'senti_neu',\n",
       "       'senti_pos', 'senti_comp', 'word_counts', 'lemi', 'lemma2vec',\n",
       "       'cos_angle_lemma'],\n",
       "      dtype='object')"
      ]
     },
     "execution_count": 215,
     "metadata": {},
     "output_type": "execute_result"
    }
   ],
   "source": [
    "df.columns"
   ]
  },
  {
   "cell_type": "code",
   "execution_count": 216,
   "metadata": {
    "ExecuteTime": {
     "end_time": "2018-11-29T22:44:30.088456Z",
     "start_time": "2018-11-29T22:44:27.482012Z"
    }
   },
   "outputs": [],
   "source": [
    "df.drop(['lemma2vec'], inplace=True, axis=1)"
   ]
  },
  {
   "cell_type": "code",
   "execution_count": 69,
   "metadata": {},
   "outputs": [],
   "source": [
    "df.to_pickle('Data/temp.pkl')"
   ]
  },
  {
   "cell_type": "code",
   "execution_count": 6,
   "metadata": {},
   "outputs": [],
   "source": [
    "df = pd.read_pickle('Data/temp.pkl')"
   ]
  },
  {
   "cell_type": "code",
   "execution_count": 68,
   "metadata": {},
   "outputs": [
    {
     "data": {
      "text/plain": [
       "'0.6573981436695813 GB'"
      ]
     },
     "execution_count": 68,
     "metadata": {},
     "output_type": "execute_result"
    }
   ],
   "source": [
    "f\"{df.memory_usage(deep=True).sum() / 1023.0**3} GB\""
   ]
  },
  {
   "cell_type": "code",
   "execution_count": 33,
   "metadata": {},
   "outputs": [],
   "source": [
    "lemma2vec = np.vstack([i for i in df.lemma2vec.values])"
   ]
  },
  {
   "cell_type": "code",
   "execution_count": 49,
   "metadata": {},
   "outputs": [],
   "source": [
    "np.save('Data/lemma2vec.npy', lemma2vec)"
   ]
  },
  {
   "cell_type": "code",
   "execution_count": 34,
   "metadata": {},
   "outputs": [],
   "source": [
    "df.drop(['lemma2vec'], inplace=True, axis=1)"
   ]
  },
  {
   "cell_type": "code",
   "execution_count": 217,
   "metadata": {
    "ExecuteTime": {
     "end_time": "2018-11-29T22:46:05.475984Z",
     "start_time": "2018-11-29T22:46:05.466059Z"
    }
   },
   "outputs": [
    {
     "data": {
      "text/plain": [
       "Index(['created_utc', 'ups', 'subreddit_id', 'link_id', 'name', 'subreddit',\n",
       "       'gilded', 'downs', 'author', 'score', 'body', 'distinguished', 'edited',\n",
       "       'controversiality', 'parent_id', 'time', 'time_lapse', 'depth',\n",
       "       'linked_sr', 'linked_urls', 'no_of_linked_sr', 'no_of_linked_urls',\n",
       "       'a_linked_urls', 'subjectivity', 'is_edited', 'is_quoted', 'no_quoted',\n",
       "       'parent_score', 'time_since_parent', 'senti_neg', 'senti_neu',\n",
       "       'senti_pos', 'senti_comp', 'word_counts', 'cos_angle_lemma'],\n",
       "      dtype='object')"
      ]
     },
     "execution_count": 217,
     "metadata": {},
     "output_type": "execute_result"
    }
   ],
   "source": [
    "df.columns"
   ]
  },
  {
   "cell_type": "code",
   "execution_count": 218,
   "metadata": {
    "ExecuteTime": {
     "end_time": "2018-11-29T22:46:10.802544Z",
     "start_time": "2018-11-29T22:46:10.780809Z"
    }
   },
   "outputs": [
    {
     "data": {
      "text/plain": [
       "False    799999\n",
       "True      46913\n",
       "Name: is_quoted, dtype: int64"
      ]
     },
     "execution_count": 218,
     "metadata": {},
     "output_type": "execute_result"
    }
   ],
   "source": [
    "df.is_quoted.value_counts()"
   ]
  },
  {
   "cell_type": "code",
   "execution_count": 51,
   "metadata": {},
   "outputs": [],
   "source": [
    "df.to_pickle('Data/working_sub_d2v.pkl')"
   ]
  },
  {
   "cell_type": "code",
   "execution_count": 5,
   "metadata": {},
   "outputs": [],
   "source": [
    "df = pd.read_pickle('Data/working_sub_d2v.pkl')\n",
    "doc2vec = np.load('Data/doc2vec.npy')"
   ]
  },
  {
   "cell_type": "code",
   "execution_count": 65,
   "metadata": {},
   "outputs": [],
   "source": [
    "vectorizer = TfidfVectorizer(min_df=30)\n",
    "#X_tfidf = vectorizer.fit_transform(df['body'])"
   ]
  },
  {
   "cell_type": "code",
   "execution_count": 219,
   "metadata": {
    "ExecuteTime": {
     "end_time": "2018-11-29T22:47:31.554501Z",
     "start_time": "2018-11-29T22:47:31.526444Z"
    }
   },
   "outputs": [],
   "source": [
    "numeric_cols = ['gilded', 'controversiality', 'time_lapse', 'depth', 'no_of_linked_sr',\n",
    "                'no_of_linked_urls', 'subjectivity', 'no_quoted', 'parent_score',\n",
    "                'senti_neg', 'senti_neu', 'senti_pos', 'senti_comp', 'word_counts',\n",
    "                'time_since_parent', 'cos_angle_lemma']"
   ]
  },
  {
   "cell_type": "code",
   "execution_count": 220,
   "metadata": {
    "ExecuteTime": {
     "end_time": "2018-11-29T22:47:34.739260Z",
     "start_time": "2018-11-29T22:47:34.731464Z"
    }
   },
   "outputs": [],
   "source": [
    "from scipy.sparse import hstack"
   ]
  },
  {
   "cell_type": "code",
   "execution_count": 221,
   "metadata": {
    "ExecuteTime": {
     "end_time": "2018-11-29T22:48:03.156266Z",
     "start_time": "2018-11-29T22:47:50.183322Z"
    }
   },
   "outputs": [],
   "source": [
    "lb = LabelBinarizer()\n",
    "mlb = MultiLabelBinarizer()\n",
    "\n",
    "y = df.score.values\n",
    "x = np.hstack((lb.fit_transform(df.subreddit),\n",
    "               lb.fit_transform(df.distinguished),\n",
    "               lb.fit_transform(df.is_edited),\n",
    "               lb.fit_transform(df.is_quoted),\n",
    "               mlb.fit_transform(df.a_linked_urls),\n",
    "               df.loc[:, numeric_cols].values))\n",
    "               #, doc2vec))"
   ]
  },
  {
   "cell_type": "code",
   "execution_count": 12,
   "metadata": {},
   "outputs": [],
   "source": [
    "del df, doc2vec"
   ]
  },
  {
   "cell_type": "code",
   "execution_count": 222,
   "metadata": {
    "ExecuteTime": {
     "end_time": "2018-11-29T22:48:07.368148Z",
     "start_time": "2018-11-29T22:48:07.354190Z"
    }
   },
   "outputs": [],
   "source": [
    "np.random.seed(42)"
   ]
  },
  {
   "cell_type": "code",
   "execution_count": 223,
   "metadata": {
    "ExecuteTime": {
     "end_time": "2018-11-29T22:48:10.928517Z",
     "start_time": "2018-11-29T22:48:10.920308Z"
    }
   },
   "outputs": [
    {
     "data": {
      "text/plain": [
       "(846912, 41)"
      ]
     },
     "execution_count": 223,
     "metadata": {},
     "output_type": "execute_result"
    }
   ],
   "source": [
    "x.shape"
   ]
  },
  {
   "cell_type": "code",
   "execution_count": 224,
   "metadata": {
    "ExecuteTime": {
     "end_time": "2018-11-29T22:48:13.834755Z",
     "start_time": "2018-11-29T22:48:13.826777Z"
    }
   },
   "outputs": [
    {
     "data": {
      "text/plain": [
       "(846912,)"
      ]
     },
     "execution_count": 224,
     "metadata": {},
     "output_type": "execute_result"
    }
   ],
   "source": [
    "y.shape"
   ]
  },
  {
   "cell_type": "code",
   "execution_count": 225,
   "metadata": {
    "ExecuteTime": {
     "end_time": "2018-11-29T22:49:27.145498Z",
     "start_time": "2018-11-29T22:49:26.791452Z"
    }
   },
   "outputs": [],
   "source": [
    "X_train, X_test, y_train, y_test = train_test_split(x, y, test_size=0.2,\n",
    "                                                    random_state=42)"
   ]
  },
  {
   "cell_type": "markdown",
   "metadata": {},
   "source": [
    "Things to try:\n",
    "1. Take cosine between the word to vec for past 2 comments\n",
    "2. Remove the first comment\n",
    "3. Try gradient boosting\n",
    "4. Try getting "
   ]
  },
  {
   "cell_type": "code",
   "execution_count": 226,
   "metadata": {
    "ExecuteTime": {
     "end_time": "2018-11-29T22:49:30.775583Z",
     "start_time": "2018-11-29T22:49:30.628104Z"
    }
   },
   "outputs": [],
   "source": [
    "from sklearn.ensemble import RandomForestRegressor"
   ]
  },
  {
   "cell_type": "code",
   "execution_count": 227,
   "metadata": {
    "ExecuteTime": {
     "end_time": "2018-11-29T22:49:31.304642Z",
     "start_time": "2018-11-29T22:49:31.300635Z"
    }
   },
   "outputs": [],
   "source": [
    "from sklearn.ensemble import GradientBoostingRegressor"
   ]
  },
  {
   "cell_type": "code",
   "execution_count": 228,
   "metadata": {
    "ExecuteTime": {
     "end_time": "2018-11-29T22:53:06.664282Z",
     "start_time": "2018-11-29T22:49:35.453699Z"
    }
   },
   "outputs": [
    {
     "data": {
      "text/plain": [
       "GradientBoostingRegressor(alpha=0.9, criterion='friedman_mse', init=None,\n",
       "             learning_rate=0.1, loss='ls', max_depth=3, max_features=None,\n",
       "             max_leaf_nodes=None, min_impurity_decrease=0.0,\n",
       "             min_impurity_split=None, min_samples_leaf=10,\n",
       "             min_samples_split=2, min_weight_fraction_leaf=0.0,\n",
       "             n_estimators=100, n_iter_no_change=None, presort='auto',\n",
       "             random_state=None, subsample=1.0, tol=0.0001,\n",
       "             validation_fraction=0.1, verbose=0, warm_start=False)"
      ]
     },
     "execution_count": 228,
     "metadata": {},
     "output_type": "execute_result"
    }
   ],
   "source": [
    "m = GradientBoostingRegressor(n_estimators=100, min_samples_leaf=10)\n",
    "m.fit(X_train, y_train)"
   ]
  },
  {
   "cell_type": "code",
   "execution_count": 229,
   "metadata": {
    "ExecuteTime": {
     "end_time": "2018-11-29T22:54:34.933471Z",
     "start_time": "2018-11-29T22:54:34.618620Z"
    }
   },
   "outputs": [
    {
     "name": "stdout",
     "output_type": "stream",
     "text": [
      "R-Sq: 0.2618\n",
      "RMSE: 40.88936138559838\n"
     ]
    }
   ],
   "source": [
    "y_predicted = m.predict(X_test)\n",
    "r2 = r2_score(y_test, y_predicted)\n",
    "mse = mean_squared_error(y_test, y_predicted)\n",
    "print(f\"R-Sq: {r2:.4}\")\n",
    "print(f\"RMSE: {np.sqrt(mse)}\")"
   ]
  },
  {
   "cell_type": "code",
   "execution_count": 36,
   "metadata": {},
   "outputs": [
    {
     "data": {
      "image/png": "[encoded data removed]",
      "text/plain": [
       "<Figure size 432x288 with 1 Axes>"
      ]
     },
     "metadata": {},
     "output_type": "display_data"
    }
   ],
   "source": [
    "plt.hist(abs(y_test - y_predicted), bins=200, range=[0, 50]);"
   ]
  },
  {
   "cell_type": "markdown",
   "metadata": {},
   "source": [
    "-------------"
   ]
  },
  {
   "cell_type": "code",
   "execution_count": 230,
   "metadata": {
    "ExecuteTime": {
     "end_time": "2018-11-29T23:00:07.739153Z",
     "start_time": "2018-11-29T22:57:07.299749Z"
    }
   },
   "outputs": [
    {
     "data": {
      "text/plain": [
       "RandomForestRegressor(bootstrap=True, criterion='mse', max_depth=None,\n",
       "           max_features='auto', max_leaf_nodes=None,\n",
       "           min_impurity_decrease=0.0, min_impurity_split=None,\n",
       "           min_samples_leaf=10, min_samples_split=2,\n",
       "           min_weight_fraction_leaf=0.0, n_estimators=40, n_jobs=-1,\n",
       "           oob_score=False, random_state=None, verbose=0, warm_start=False)"
      ]
     },
     "execution_count": 230,
     "metadata": {},
     "output_type": "execute_result"
    }
   ],
   "source": [
    "m = RandomForestRegressor(n_jobs=-1, n_estimators=40, min_samples_leaf=10)\n",
    "m.fit(X_train, y_train)"
   ]
  },
  {
   "cell_type": "code",
   "execution_count": 231,
   "metadata": {
    "ExecuteTime": {
     "end_time": "2018-11-29T23:00:10.416574Z",
     "start_time": "2018-11-29T23:00:07.742395Z"
    }
   },
   "outputs": [
    {
     "name": "stdout",
     "output_type": "stream",
     "text": [
      "R-Sq: 0.2693\n",
      "RMSE: 40.682850650556034\n"
     ]
    }
   ],
   "source": [
    "y_predicted = m.predict(X_test)\n",
    "r2 = r2_score(y_test, y_predicted)\n",
    "mse = mean_squared_error(y_test, y_predicted)\n",
    "print(f\"R-Sq: {r2:.4}\")\n",
    "print(f\"RMSE: {np.sqrt(mse)}\")"
   ]
  },
  {
   "cell_type": "code",
   "execution_count": 28,
   "metadata": {},
   "outputs": [
    {
     "data": {
      "image/png": "[encoded data removed]",
      "text/plain": [
       "<Figure size 432x288 with 1 Axes>"
      ]
     },
     "metadata": {},
     "output_type": "display_data"
    }
   ],
   "source": [
    "plt.hist(abs(y_test - y_predicted), bins=400, range=[0, 50]);"
   ]
  },
  {
   "cell_type": "markdown",
   "metadata": {},
   "source": [
    "With raw child 50d glove - with just 10 estimaters"
   ]
  },
  {
   "cell_type": "code",
   "execution_count": 47,
   "metadata": {},
   "outputs": [
    {
     "name": "stdout",
     "output_type": "stream",
     "text": [
      "R-Sq: 0.1107\n",
      "RMSE: 64.75655527375679\n"
     ]
    }
   ],
   "source": [
    "y_predicted = m.predict(X_test)\n",
    "r2 = r2_score(y_test, y_predicted)\n",
    "mse = mean_squared_error(y_test, y_predicted)\n",
    "print(f\"R-Sq: {r2:.4}\")\n",
    "print(f\"RMSE: {np.sqrt(mse)}\")"
   ]
  },
  {
   "cell_type": "markdown",
   "metadata": {},
   "source": [
    "Result with just sentiment and parent score RandomForest 50 estimaters"
   ]
  },
  {
   "cell_type": "code",
   "execution_count": 121,
   "metadata": {},
   "outputs": [
    {
     "name": "stdout",
     "output_type": "stream",
     "text": [
      "R-Sq: 0.1425\n",
      "RMSE: 60.66416993315583\n"
     ]
    }
   ],
   "source": [
    "y_predicted = m.predict(X_test)\n",
    "r2 = r2_score(y_test, y_predicted)\n",
    "mse = mean_squared_error(y_test, y_predicted)\n",
    "print(f\"R-Sq: {r2:.4}\")\n",
    "print(f\"RMSE: {np.sqrt(mse)}\")"
   ]
  },
  {
   "cell_type": "code",
   "execution_count": 20,
   "metadata": {},
   "outputs": [
    {
     "data": {
      "text/plain": [
       "LinearRegression(copy_X=True, fit_intercept=True, n_jobs=None,\n",
       "         normalize=False)"
      ]
     },
     "execution_count": 20,
     "metadata": {},
     "output_type": "execute_result"
    }
   ],
   "source": [
    "m = LinearRegression()\n",
    "m.fit(X_train, y_train)"
   ]
  },
  {
   "cell_type": "code",
   "execution_count": 21,
   "metadata": {},
   "outputs": [
    {
     "name": "stdout",
     "output_type": "stream",
     "text": [
      "R-Sq: 0.07293\n",
      "RMSE: 66.1184751479385\n"
     ]
    }
   ],
   "source": [
    "y_predicted = m.predict(X_test)\n",
    "r2 = r2_score(y_test, y_predicted)\n",
    "mse = mean_squared_error(y_test, y_predicted)\n",
    "print(f\"R-Sq: {r2:.4}\")\n",
    "print(f\"RMSE: {np.sqrt(mse)}\")"
   ]
  },
  {
   "cell_type": "code",
   "execution_count": null,
   "metadata": {},
   "outputs": [],
   "source": [
    "dump(m, 'RF.joblib')"
   ]
  },
  {
   "cell_type": "code",
   "execution_count": null,
   "metadata": {},
   "outputs": [],
   "source": []
  }
 ],
 "metadata": {
  "kernelspec": {
   "display_name": "Python 3",
   "language": "python",
   "name": "python3"
  },
  "language_info": {
   "codemirror_mode": {
    "name": "ipython",
    "version": 3
   },
   "file_extension": ".py",
   "mimetype": "text/x-python",
   "name": "python",
   "nbconvert_exporter": "python",
   "pygments_lexer": "ipython3",
   "version": "3.6.6"
  },
  "toc": {
   "base_numbering": 1,
   "nav_menu": {},
   "number_sections": true,
   "sideBar": true,
   "skip_h1_title": false,
   "title_cell": "Table of Contents",
   "title_sidebar": "Contents",
   "toc_cell": false,
   "toc_position": {},
   "toc_section_display": true,
   "toc_window_display": false
  }
 },
 "nbformat": 4,
 "nbformat_minor": 2
}
