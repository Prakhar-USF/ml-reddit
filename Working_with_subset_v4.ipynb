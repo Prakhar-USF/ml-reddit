{
 "cells": [
  {
   "cell_type": "code",
   "execution_count": null,
   "metadata": {
    "ExecuteTime": {
     "end_time": "2018-12-01T23:27:34.138702Z",
     "start_time": "2018-12-01T23:27:33.244128Z"
    }
   },
   "outputs": [],
   "source": [
    "import re\n",
    "\n",
    "import pandas as pd\n",
    "import re, string\n",
    "import numpy as np\n",
    "import matplotlib.pyplot as plt\n",
    "\n",
    "from pathlib import Path\n",
    "from collections import Counter\n",
    "from multiprocessing import Pool\n",
    "from urllib.parse import urlparse\n",
    "\n",
    "%matplotlib inline"
   ]
  },
  {
   "cell_type": "code",
   "execution_count": null,
   "metadata": {
    "ExecuteTime": {
     "end_time": "2018-12-01T23:27:34.887205Z",
     "start_time": "2018-12-01T23:27:34.142013Z"
    }
   },
   "outputs": [],
   "source": [
    "from sklearn.metrics import mean_squared_error, r2_score\n",
    "from sklearn.model_selection import train_test_split\n",
    "from sklearn.preprocessing import LabelBinarizer, MultiLabelBinarizer\n",
    "from sklearn.feature_extraction.text import TfidfVectorizer\n",
    "from sklearn.linear_model import LinearRegression"
   ]
  },
  {
   "cell_type": "code",
   "execution_count": null,
   "metadata": {
    "ExecuteTime": {
     "end_time": "2018-12-01T23:27:34.898553Z",
     "start_time": "2018-12-01T23:27:34.891286Z"
    }
   },
   "outputs": [],
   "source": [
    "path = Path('Data/')"
   ]
  },
  {
   "cell_type": "code",
   "execution_count": null,
   "metadata": {
    "ExecuteTime": {
     "end_time": "2018-12-01T23:27:44.186757Z",
     "start_time": "2018-12-01T23:27:34.901423Z"
    }
   },
   "outputs": [],
   "source": [
    "df = pd.read_feather('Data/May2015_subset.fthr')"
   ]
  },
  {
   "cell_type": "code",
   "execution_count": 5,
   "metadata": {
    "ExecuteTime": {
     "end_time": "2018-12-01T23:27:45.217304Z",
     "start_time": "2018-12-01T23:27:44.192965Z"
    }
   },
   "outputs": [
    {
     "data": {
      "text/plain": [
       "leagueoflegends      1223184\n",
       "funny                 745916\n",
       "news                  548287\n",
       "todayilearned         519910\n",
       "worldnews             490354\n",
       "movies                376601\n",
       "gaming                361265\n",
       "politics              244927\n",
       "explainlikeimfive     223148\n",
       "anime                 221118\n",
       "gameofthrones         191006\n",
       "motorcycles            89721\n",
       "science                89413\n",
       "conspiracy             78349\n",
       "tf2                    76549\n",
       "sex                    74912\n",
       "guns                   61234\n",
       "comicbooks             60303\n",
       "pokemon                59730\n",
       "food                   55231\n",
       "starcraft              53797\n",
       "askscience             53017\n",
       "mylittlepony           44119\n",
       "space                  42726\n",
       "skyrim                 40568\n",
       "circlejerk             30134\n",
       "facepalm               22562\n",
       "community              20635\n",
       "harrypotter            19998\n",
       "progresspics           13385\n",
       "drunk                  13027\n",
       "startrek               12275\n",
       "thewalkingdead         10357\n",
       "offbeat                10035\n",
       "lifehacks               7342\n",
       "doctorwho               6242\n",
       "breakingbad             3795\n",
       "Name: subreddit, dtype: int64"
      ]
     },
     "execution_count": 5,
     "metadata": {},
     "output_type": "execute_result"
    }
   ],
   "source": [
    "df.subreddit.value_counts()"
   ]
  },
  {
   "cell_type": "code",
   "execution_count": 6,
   "metadata": {
    "ExecuteTime": {
     "end_time": "2018-12-01T23:27:56.075577Z",
     "start_time": "2018-12-01T23:27:56.071872Z"
    }
   },
   "outputs": [],
   "source": [
    "subreddit_list = ['worldnews', 'movies', 'gaming', 'science', 'food']"
   ]
  },
  {
   "cell_type": "code",
   "execution_count": 7,
   "metadata": {
    "ExecuteTime": {
     "end_time": "2018-12-01T23:27:58.708039Z",
     "start_time": "2018-12-01T23:27:56.768082Z"
    }
   },
   "outputs": [],
   "source": [
    "df = df[df.subreddit.isin(subreddit_list)]"
   ]
  },
  {
   "cell_type": "code",
   "execution_count": 8,
   "metadata": {
    "ExecuteTime": {
     "end_time": "2018-12-01T23:27:58.718592Z",
     "start_time": "2018-12-01T23:27:58.711289Z"
    }
   },
   "outputs": [
    {
     "data": {
      "text/plain": [
       "(1372864, 22)"
      ]
     },
     "execution_count": 8,
     "metadata": {},
     "output_type": "execute_result"
    }
   ],
   "source": [
    "df.shape"
   ]
  },
  {
   "cell_type": "code",
   "execution_count": 9,
   "metadata": {
    "ExecuteTime": {
     "end_time": "2018-12-01T23:28:00.385760Z",
     "start_time": "2018-12-01T23:27:58.721226Z"
    }
   },
   "outputs": [],
   "source": [
    "df['subreddit'] = df.subreddit.astype('category')\n",
    "df['subreddit_id'] = df.subreddit_id.astype('category')\n",
    "df['distinguished'] = df.distinguished.astype('category')\n",
    "df['link_id'] = df.link_id.astype('category')\n",
    "\n",
    "#df.drop(['archived', 'retrieved_on', 'id',\n",
    "#         'author_flair_css_class', 'author_flair_text',\n",
    "#         'removal_reason'], axis=1, inplace=True)"
   ]
  },
  {
   "cell_type": "code",
   "execution_count": 10,
   "metadata": {
    "ExecuteTime": {
     "end_time": "2018-12-01T23:28:14.826680Z",
     "start_time": "2018-12-01T23:28:14.739285Z"
    }
   },
   "outputs": [],
   "source": [
    "df.distinguished.replace(to_replace=np.NaN, value='user', inplace=True)"
   ]
  },
  {
   "cell_type": "code",
   "execution_count": 11,
   "metadata": {
    "ExecuteTime": {
     "end_time": "2018-12-01T23:28:15.336588Z",
     "start_time": "2018-12-01T23:28:15.330396Z"
    }
   },
   "outputs": [
    {
     "data": {
      "text/plain": [
       "Index(['created_utc', 'ups', 'subreddit_id', 'link_id', 'name', 'score_hidden',\n",
       "       'author_flair_css_class', 'author_flair_text', 'subreddit', 'id',\n",
       "       'removal_reason', 'gilded', 'downs', 'archived', 'author', 'score',\n",
       "       'retrieved_on', 'body', 'distinguished', 'edited', 'controversiality',\n",
       "       'parent_id'],\n",
       "      dtype='object')"
      ]
     },
     "execution_count": 11,
     "metadata": {},
     "output_type": "execute_result"
    }
   ],
   "source": [
    "df.columns"
   ]
  },
  {
   "cell_type": "code",
   "execution_count": 12,
   "metadata": {
    "ExecuteTime": {
     "end_time": "2018-12-01T23:28:17.435852Z",
     "start_time": "2018-12-01T23:28:16.445897Z"
    }
   },
   "outputs": [
    {
     "data": {
      "text/plain": [
       "'0.9278534250905129 GB'"
      ]
     },
     "execution_count": 12,
     "metadata": {},
     "output_type": "execute_result"
    }
   ],
   "source": [
    "f\"{df.memory_usage(deep=True).sum() / 1023.0**3} GB\""
   ]
  },
  {
   "cell_type": "code",
   "execution_count": 13,
   "metadata": {
    "ExecuteTime": {
     "end_time": "2018-12-01T23:28:17.467824Z",
     "start_time": "2018-12-01T23:28:17.438488Z"
    }
   },
   "outputs": [],
   "source": [
    "assert len(df.subreddit_id.unique()) == len(df.subreddit.unique())"
   ]
  },
  {
   "cell_type": "code",
   "execution_count": 14,
   "metadata": {
    "ExecuteTime": {
     "end_time": "2018-12-01T23:28:17.825933Z",
     "start_time": "2018-12-01T23:28:17.808486Z"
    }
   },
   "outputs": [
    {
     "data": {
      "text/plain": [
       "worldnews    490354\n",
       "movies       376601\n",
       "gaming       361265\n",
       "science       89413\n",
       "food          55231\n",
       "Name: subreddit, dtype: int64"
      ]
     },
     "execution_count": 14,
     "metadata": {},
     "output_type": "execute_result"
    }
   ],
   "source": [
    "df.subreddit.value_counts()"
   ]
  },
  {
   "cell_type": "code",
   "execution_count": 15,
   "metadata": {
    "ExecuteTime": {
     "end_time": "2018-12-01T23:28:22.790942Z",
     "start_time": "2018-12-01T23:28:22.768605Z"
    }
   },
   "outputs": [],
   "source": [
    "df['time'] = pd.to_datetime(df.created_utc, unit='s')"
   ]
  },
  {
   "cell_type": "code",
   "execution_count": 16,
   "metadata": {
    "ExecuteTime": {
     "end_time": "2018-12-01T23:28:23.731145Z",
     "start_time": "2018-12-01T23:28:23.308089Z"
    }
   },
   "outputs": [],
   "source": [
    "df_first_comment = df[['link_id', 'time']].groupby(by=['link_id']).min()"
   ]
  },
  {
   "cell_type": "code",
   "execution_count": 17,
   "metadata": {
    "ExecuteTime": {
     "end_time": "2018-12-01T23:28:23.940489Z",
     "start_time": "2018-12-01T23:28:23.934380Z"
    }
   },
   "outputs": [
    {
     "data": {
      "text/plain": [
       "(46546, 1)"
      ]
     },
     "execution_count": 17,
     "metadata": {},
     "output_type": "execute_result"
    }
   ],
   "source": [
    "df_first_comment.shape"
   ]
  },
  {
   "cell_type": "code",
   "execution_count": 18,
   "metadata": {
    "ExecuteTime": {
     "end_time": "2018-12-01T23:28:26.731510Z",
     "start_time": "2018-12-01T23:28:25.678644Z"
    }
   },
   "outputs": [],
   "source": [
    "df_first_comment_dict = df_first_comment.to_dict('index')"
   ]
  },
  {
   "cell_type": "code",
   "execution_count": 19,
   "metadata": {
    "ExecuteTime": {
     "end_time": "2018-12-01T23:28:26.739466Z",
     "start_time": "2018-12-01T23:28:26.735156Z"
    }
   },
   "outputs": [],
   "source": [
    "def time_lapse(x):\n",
    "    return df_first_comment_dict[x]['time']"
   ]
  },
  {
   "cell_type": "code",
   "execution_count": 20,
   "metadata": {
    "ExecuteTime": {
     "end_time": "2018-12-01T23:28:26.942522Z",
     "start_time": "2018-12-01T23:28:26.744331Z"
    }
   },
   "outputs": [],
   "source": [
    "df['time_lapse'] = df.time - df.link_id.apply(time_lapse)"
   ]
  },
  {
   "cell_type": "code",
   "execution_count": 21,
   "metadata": {
    "ExecuteTime": {
     "end_time": "2018-12-01T23:28:39.878558Z",
     "start_time": "2018-12-01T23:28:28.163393Z"
    }
   },
   "outputs": [],
   "source": [
    "df.time_lapse = df.time_lapse.apply(lambda x: x.total_seconds())"
   ]
  },
  {
   "cell_type": "code",
   "execution_count": 22,
   "metadata": {
    "ExecuteTime": {
     "end_time": "2018-12-01T23:28:41.629889Z",
     "start_time": "2018-12-01T23:28:39.881706Z"
    }
   },
   "outputs": [
    {
     "data": {
      "image/png": "[encoded data removed]",
      "text/plain": [
       "<Figure size 432x288 with 1 Axes>"
      ]
     },
     "metadata": {
      "needs_background": "light"
     },
     "output_type": "display_data"
    }
   ],
   "source": [
    "(df.time_lapse / (60*60)).hist(bins=800).set_xlim((0, 48));"
   ]
  },
  {
   "cell_type": "code",
   "execution_count": 23,
   "metadata": {
    "ExecuteTime": {
     "end_time": "2018-12-01T23:28:41.635762Z",
     "start_time": "2018-12-01T23:28:41.631870Z"
    }
   },
   "outputs": [],
   "source": [
    "def pd_to_dict(df, index='', column=''):\n",
    "    return pd.Series(df[column].values, index=df[index]).to_dict()"
   ]
  },
  {
   "cell_type": "code",
   "execution_count": 24,
   "metadata": {
    "ExecuteTime": {
     "end_time": "2018-12-01T23:28:42.236806Z",
     "start_time": "2018-12-01T23:28:41.641647Z"
    }
   },
   "outputs": [],
   "source": [
    "comment_to_parent_dict = pd_to_dict(df[['name', 'parent_id']],\n",
    "                                    index='name', column='parent_id')"
   ]
  },
  {
   "cell_type": "code",
   "execution_count": 25,
   "metadata": {
    "ExecuteTime": {
     "end_time": "2018-12-01T23:28:42.252847Z",
     "start_time": "2018-12-01T23:28:42.244532Z"
    }
   },
   "outputs": [
    {
     "data": {
      "text/plain": [
       "1372864"
      ]
     },
     "execution_count": 25,
     "metadata": {},
     "output_type": "execute_result"
    }
   ],
   "source": [
    "len(comment_to_parent_dict)"
   ]
  },
  {
   "cell_type": "code",
   "execution_count": 26,
   "metadata": {
    "ExecuteTime": {
     "end_time": "2018-12-01T23:28:42.267047Z",
     "start_time": "2018-12-01T23:28:42.260008Z"
    }
   },
   "outputs": [],
   "source": [
    "def get_depth(x):\n",
    "    counter = 0\n",
    "    temp = x\n",
    "    while True:\n",
    "        if temp[:3] == 't3_':\n",
    "            return counter\n",
    "        try:\n",
    "            temp = comment_to_parent_dict[temp]\n",
    "        except KeyError:\n",
    "            return np.nan\n",
    "        counter += 1"
   ]
  },
  {
   "cell_type": "code",
   "execution_count": 27,
   "metadata": {
    "ExecuteTime": {
     "end_time": "2018-12-01T23:28:44.781542Z",
     "start_time": "2018-12-01T23:28:42.269958Z"
    }
   },
   "outputs": [],
   "source": [
    "df['depth'] = df['name'].apply(get_depth)"
   ]
  },
  {
   "cell_type": "code",
   "execution_count": 28,
   "metadata": {
    "ExecuteTime": {
     "end_time": "2018-12-01T23:28:44.805369Z",
     "start_time": "2018-12-01T23:28:44.783765Z"
    }
   },
   "outputs": [
    {
     "data": {
      "text/plain": [
       "0.01057424479045266"
      ]
     },
     "execution_count": 28,
     "metadata": {},
     "output_type": "execute_result"
    }
   ],
   "source": [
    "df.depth.isna().sum() / float(df.shape[0])"
   ]
  },
  {
   "cell_type": "code",
   "execution_count": 29,
   "metadata": {
    "ExecuteTime": {
     "end_time": "2018-12-01T23:28:46.746283Z",
     "start_time": "2018-12-01T23:28:44.807416Z"
    }
   },
   "outputs": [],
   "source": [
    "df['linked_sr'] = df.body.apply(lambda x: re.findall(r\"/r/([^\\s/]+)\", x))"
   ]
  },
  {
   "cell_type": "code",
   "execution_count": 30,
   "metadata": {
    "ExecuteTime": {
     "end_time": "2018-12-01T23:28:48.149851Z",
     "start_time": "2018-12-01T23:28:46.750033Z"
    }
   },
   "outputs": [],
   "source": [
    "df['body'] = df.body.apply(lambda x: re.sub(r\"(/r/[^\\s/]+)\", '', x))"
   ]
  },
  {
   "cell_type": "code",
   "execution_count": 31,
   "metadata": {
    "ExecuteTime": {
     "end_time": "2018-12-01T23:28:48.156293Z",
     "start_time": "2018-12-01T23:28:48.152034Z"
    }
   },
   "outputs": [],
   "source": [
    "url_regex = r'http[s]?://(?:[a-zA-Z]|[0-9]|[$-_@.&+]|[!*\\(\\),]|(?:%[0-9a-fA-F][0-9a-fA-F]))+'"
   ]
  },
  {
   "cell_type": "code",
   "execution_count": 32,
   "metadata": {
    "ExecuteTime": {
     "end_time": "2018-12-01T23:28:48.168207Z",
     "start_time": "2018-12-01T23:28:48.159890Z"
    }
   },
   "outputs": [],
   "source": [
    "def get_domains(x):\n",
    "    x = x.replace(' = ', '=')\n",
    "    x = x.replace(' : ', ':')\n",
    "    x = x.replace(' / ', '?')\n",
    "    urls = re.findall(url_regex, x)\n",
    "    try:\n",
    "        domain_names = [urlparse(url).netloc.split('.')[-2] for url in urls]\n",
    "    except:\n",
    "        return []\n",
    "    return domain_names"
   ]
  },
  {
   "cell_type": "code",
   "execution_count": 33,
   "metadata": {
    "ExecuteTime": {
     "end_time": "2018-12-01T23:28:54.868196Z",
     "start_time": "2018-12-01T23:28:48.170815Z"
    }
   },
   "outputs": [],
   "source": [
    "df['linked_urls'] = df.body.apply(lambda x: get_domains(x))"
   ]
  },
  {
   "cell_type": "code",
   "execution_count": 34,
   "metadata": {
    "ExecuteTime": {
     "end_time": "2018-12-01T23:28:54.876520Z",
     "start_time": "2018-12-01T23:28:54.870280Z"
    }
   },
   "outputs": [],
   "source": [
    "def remove_urls(x):\n",
    "    x = x.replace(' = ', '=')\n",
    "    x = x.replace(' : ', ':')\n",
    "    x = x.replace(' / ', '?')\n",
    "    return re.sub(url_regex, '', x)"
   ]
  },
  {
   "cell_type": "code",
   "execution_count": 35,
   "metadata": {
    "ExecuteTime": {
     "end_time": "2018-12-01T23:28:58.977475Z",
     "start_time": "2018-12-01T23:28:54.879708Z"
    }
   },
   "outputs": [],
   "source": [
    "df['body'] = df.body.apply(lambda x: remove_urls(x))"
   ]
  },
  {
   "cell_type": "code",
   "execution_count": 36,
   "metadata": {
    "ExecuteTime": {
     "end_time": "2018-12-01T23:29:00.243484Z",
     "start_time": "2018-12-01T23:28:58.981025Z"
    }
   },
   "outputs": [],
   "source": [
    "df['no_of_linked_sr'] = df['linked_sr'].apply(lambda x: len(x))\n",
    "df['no_of_linked_urls'] = df['linked_urls'].apply(lambda x: len(x))"
   ]
  },
  {
   "cell_type": "code",
   "execution_count": 37,
   "metadata": {
    "ExecuteTime": {
     "end_time": "2018-12-01T23:29:00.401776Z",
     "start_time": "2018-12-01T23:29:00.245332Z"
    }
   },
   "outputs": [
    {
     "data": {
      "text/plain": [
       "35356"
      ]
     },
     "execution_count": 37,
     "metadata": {},
     "output_type": "execute_result"
    }
   ],
   "source": [
    "all_linked_sr = []\n",
    "for l in df.linked_sr.values:\n",
    "    all_linked_sr += l\n",
    "len(all_linked_sr)"
   ]
  },
  {
   "cell_type": "code",
   "execution_count": 38,
   "metadata": {
    "ExecuteTime": {
     "end_time": "2018-12-01T23:29:00.421699Z",
     "start_time": "2018-12-01T23:29:00.407498Z"
    }
   },
   "outputs": [
    {
     "data": {
      "text/plain": [
       "[('worldnews', 4946),\n",
       " ('worldnews)', 2796),\n",
       " ('worldnews.', 2489),\n",
       " ('help', 2387),\n",
       " ('worldnews](http:', 2387),\n",
       " ('food),', 1594),\n",
       " ('gaming', 1435),\n",
       " ('food)', 1283),\n",
       " ('movies', 1225),\n",
       " ('science', 1044),\n",
       " ('movies)', 467),\n",
       " ('EverythingScience.', 459),\n",
       " ('AutoModerator', 452),\n",
       " ('conspiracy', 241),\n",
       " ('science.', 206),\n",
       " ('movies.', 191),\n",
       " ('Movies', 176),\n",
       " ('food', 174),\n",
       " ('nottheonion', 156),\n",
       " ('science)', 136)]"
      ]
     },
     "execution_count": 38,
     "metadata": {},
     "output_type": "execute_result"
    }
   ],
   "source": [
    "top_sr_links = Counter(all_linked_sr)\n",
    "top_sr_links.most_common(20)"
   ]
  },
  {
   "cell_type": "markdown",
   "metadata": {},
   "source": [
    "Should not probably use the actual names."
   ]
  },
  {
   "cell_type": "code",
   "execution_count": 39,
   "metadata": {
    "ExecuteTime": {
     "end_time": "2018-12-01T23:29:09.314297Z",
     "start_time": "2018-12-01T23:29:09.100352Z"
    }
   },
   "outputs": [
    {
     "data": {
      "text/plain": [
       "106993"
      ]
     },
     "execution_count": 39,
     "metadata": {},
     "output_type": "execute_result"
    }
   ],
   "source": [
    "all_linked_urls = []\n",
    "for l in df.linked_urls.values:\n",
    "    all_linked_urls += l\n",
    "len(all_linked_urls)"
   ]
  },
  {
   "cell_type": "code",
   "execution_count": 40,
   "metadata": {
    "ExecuteTime": {
     "end_time": "2018-12-01T23:29:09.774769Z",
     "start_time": "2018-12-01T23:29:09.744148Z"
    }
   },
   "outputs": [
    {
     "data": {
      "text/plain": [
       "[('reddit', 20232),\n",
       " ('youtube', 14216),\n",
       " ('wikipedia', 11078),\n",
       " ('imgur', 8154),\n",
       " ('youtu', 3616),\n",
       " ('redditblog', 2393),\n",
       " ('imdb', 2132),\n",
       " ('co', 1811),\n",
       " ('theguardian', 823),\n",
       " ('google', 733),\n",
       " ('github', 606),\n",
       " ('wordpress', 556),\n",
       " ('nytimes', 508),\n",
       " ('twitter', 432),\n",
       " ('amazon', 425)]"
      ]
     },
     "execution_count": 40,
     "metadata": {},
     "output_type": "execute_result"
    }
   ],
   "source": [
    "top_url_links = Counter(all_linked_urls)\n",
    "top_url_links.most_common(15)"
   ]
  },
  {
   "cell_type": "code",
   "execution_count": 41,
   "metadata": {
    "ExecuteTime": {
     "end_time": "2018-12-01T23:29:12.470943Z",
     "start_time": "2018-12-01T23:29:12.465315Z"
    }
   },
   "outputs": [],
   "source": [
    "allowed_urls = [i[0] for i in top_url_links.most_common(15)]"
   ]
  },
  {
   "cell_type": "code",
   "execution_count": 42,
   "metadata": {
    "ExecuteTime": {
     "end_time": "2018-12-01T23:29:12.922449Z",
     "start_time": "2018-12-01T23:29:12.917672Z"
    }
   },
   "outputs": [],
   "source": [
    "def remove_urls(x):\n",
    "    y = []\n",
    "    for i in x:\n",
    "        if i in allowed_urls:\n",
    "            y += [i]\n",
    "    return y"
   ]
  },
  {
   "cell_type": "code",
   "execution_count": 43,
   "metadata": {
    "ExecuteTime": {
     "end_time": "2018-12-01T23:29:15.612342Z",
     "start_time": "2018-12-01T23:29:14.680800Z"
    }
   },
   "outputs": [],
   "source": [
    "df['a_linked_urls'] = df['linked_urls'].apply(lambda x: remove_urls(x))"
   ]
  },
  {
   "cell_type": "code",
   "execution_count": 131,
   "metadata": {
    "ExecuteTime": {
     "end_time": "2018-12-01T23:56:53.108025Z",
     "start_time": "2018-12-01T23:56:50.168222Z"
    }
   },
   "outputs": [],
   "source": [
    "df[\"hour\"] = [d.hour for d in df[\"time\"]]"
   ]
  },
  {
   "cell_type": "code",
   "execution_count": 44,
   "metadata": {
    "ExecuteTime": {
     "end_time": "2018-12-01T23:29:17.423187Z",
     "start_time": "2018-12-01T23:29:16.820429Z"
    }
   },
   "outputs": [],
   "source": [
    "df[\"author_has_flair\"] = df[\"author_flair_text\"].apply(lambda x: int(x is not None))"
   ]
  },
  {
   "cell_type": "code",
   "execution_count": 45,
   "metadata": {
    "ExecuteTime": {
     "end_time": "2018-12-01T23:29:36.139747Z",
     "start_time": "2018-12-01T23:29:36.030348Z"
    }
   },
   "outputs": [],
   "source": [
    "df['weekday'] = df['time'].dt.dayofweek\n",
    "df['weekday'] = df.weekday.astype('category')"
   ]
  },
  {
   "cell_type": "markdown",
   "metadata": {},
   "source": [
    "Small i doesn't work for subjectivity"
   ]
  },
  {
   "cell_type": "code",
   "execution_count": 46,
   "metadata": {
    "ExecuteTime": {
     "end_time": "2018-12-01T23:29:40.403218Z",
     "start_time": "2018-12-01T23:29:39.301241Z"
    }
   },
   "outputs": [],
   "source": [
    "df['subjectivity'] = df['body'].str.count('I ')"
   ]
  },
  {
   "cell_type": "code",
   "execution_count": 47,
   "metadata": {
    "ExecuteTime": {
     "end_time": "2018-12-01T23:29:40.760714Z",
     "start_time": "2018-12-01T23:29:40.405878Z"
    }
   },
   "outputs": [],
   "source": [
    "df['is_edited'] = df.edited.apply(lambda x: x > 0)"
   ]
  },
  {
   "cell_type": "code",
   "execution_count": 48,
   "metadata": {
    "ExecuteTime": {
     "end_time": "2018-12-01T23:29:43.476833Z",
     "start_time": "2018-12-01T23:29:41.816399Z"
    }
   },
   "outputs": [
    {
     "data": {
      "text/plain": [
       "'1.1845448091965496 GB'"
      ]
     },
     "execution_count": 48,
     "metadata": {},
     "output_type": "execute_result"
    }
   ],
   "source": [
    "f\"{df.memory_usage(deep=True).sum() / 1023.0**3} GB\""
   ]
  },
  {
   "cell_type": "markdown",
   "metadata": {},
   "source": [
    "To check if the comment is quotes another comment."
   ]
  },
  {
   "cell_type": "code",
   "execution_count": 49,
   "metadata": {
    "ExecuteTime": {
     "end_time": "2018-12-01T23:29:46.049833Z",
     "start_time": "2018-12-01T23:29:45.058681Z"
    }
   },
   "outputs": [],
   "source": [
    "# if the comment is qouted\n",
    "df['is_quoted'] = df.body.str.contains('&gt;')"
   ]
  },
  {
   "cell_type": "code",
   "execution_count": 50,
   "metadata": {
    "ExecuteTime": {
     "end_time": "2018-12-01T23:29:47.692440Z",
     "start_time": "2018-12-01T23:29:46.534056Z"
    }
   },
   "outputs": [],
   "source": [
    "df['no_quoted'] = df.body.str.count('&gt;')"
   ]
  },
  {
   "cell_type": "code",
   "execution_count": 51,
   "metadata": {
    "ExecuteTime": {
     "end_time": "2018-12-01T23:29:49.326402Z",
     "start_time": "2018-12-01T23:29:48.068047Z"
    }
   },
   "outputs": [],
   "source": [
    "comment_to_score = pd_to_dict(df[['name', 'score']],\n",
    "                              index='name', column='score')"
   ]
  },
  {
   "cell_type": "code",
   "execution_count": 52,
   "metadata": {
    "ExecuteTime": {
     "end_time": "2018-12-01T23:29:49.333957Z",
     "start_time": "2018-12-01T23:29:49.329549Z"
    }
   },
   "outputs": [],
   "source": [
    "def get_parent_score(x):\n",
    "    try:\n",
    "        return comment_to_score[x]\n",
    "    except:\n",
    "        return 0"
   ]
  },
  {
   "cell_type": "code",
   "execution_count": 53,
   "metadata": {
    "ExecuteTime": {
     "end_time": "2018-12-01T23:29:51.765193Z",
     "start_time": "2018-12-01T23:29:50.537319Z"
    }
   },
   "outputs": [],
   "source": [
    "df['parent_score'] = df.parent_id.apply(lambda x: get_parent_score(x))"
   ]
  },
  {
   "cell_type": "code",
   "execution_count": 54,
   "metadata": {
    "ExecuteTime": {
     "end_time": "2018-12-01T23:29:58.279464Z",
     "start_time": "2018-12-01T23:29:51.854580Z"
    }
   },
   "outputs": [],
   "source": [
    "comment_to_time = pd_to_dict(df[['name', 'time']],\n",
    "                              index='name', column='time')"
   ]
  },
  {
   "cell_type": "code",
   "execution_count": 55,
   "metadata": {
    "ExecuteTime": {
     "end_time": "2018-12-01T23:29:58.289542Z",
     "start_time": "2018-12-01T23:29:58.283083Z"
    }
   },
   "outputs": [],
   "source": [
    "def get_time_since_parent(pi):\n",
    "    try:\n",
    "        return comment_to_time[pi]\n",
    "    except:\n",
    "        return np.nan"
   ]
  },
  {
   "cell_type": "code",
   "execution_count": 56,
   "metadata": {
    "ExecuteTime": {
     "end_time": "2018-12-01T23:29:59.401298Z",
     "start_time": "2018-12-01T23:29:58.292215Z"
    }
   },
   "outputs": [],
   "source": [
    "df['time_since_parent'] = df.parent_id.apply(get_time_since_parent)"
   ]
  },
  {
   "cell_type": "code",
   "execution_count": 57,
   "metadata": {
    "ExecuteTime": {
     "end_time": "2018-12-01T23:29:59.625500Z",
     "start_time": "2018-12-01T23:29:59.405461Z"
    }
   },
   "outputs": [],
   "source": [
    "df.loc[df.time_since_parent.isna(), 'time_since_parent'] = df.time"
   ]
  },
  {
   "cell_type": "code",
   "execution_count": 58,
   "metadata": {
    "ExecuteTime": {
     "end_time": "2018-12-01T23:29:59.657871Z",
     "start_time": "2018-12-01T23:29:59.628781Z"
    }
   },
   "outputs": [],
   "source": [
    "df.time_since_parent = df.time - df.time_since_parent"
   ]
  },
  {
   "cell_type": "code",
   "execution_count": 59,
   "metadata": {
    "ExecuteTime": {
     "end_time": "2018-12-01T23:30:11.397462Z",
     "start_time": "2018-12-01T23:29:59.661575Z"
    }
   },
   "outputs": [],
   "source": [
    "df.time_since_parent = df.time_since_parent.apply(lambda x: x.total_seconds())"
   ]
  },
  {
   "cell_type": "code",
   "execution_count": 60,
   "metadata": {
    "ExecuteTime": {
     "end_time": "2018-12-01T23:30:11.579480Z",
     "start_time": "2018-12-01T23:30:11.400330Z"
    }
   },
   "outputs": [],
   "source": [
    "from vaderSentiment.vaderSentiment import SentimentIntensityAnalyzer"
   ]
  },
  {
   "cell_type": "code",
   "execution_count": 61,
   "metadata": {
    "ExecuteTime": {
     "end_time": "2018-12-01T23:30:11.603302Z",
     "start_time": "2018-12-01T23:30:11.581477Z"
    }
   },
   "outputs": [],
   "source": [
    "analyser = SentimentIntensityAnalyzer()"
   ]
  },
  {
   "cell_type": "code",
   "execution_count": 62,
   "metadata": {
    "ExecuteTime": {
     "end_time": "2018-12-01T23:30:11.612549Z",
     "start_time": "2018-12-01T23:30:11.605477Z"
    }
   },
   "outputs": [],
   "source": [
    "def get_sentiment(x):\n",
    "    return analyser.polarity_scores(x)"
   ]
  },
  {
   "cell_type": "code",
   "execution_count": 63,
   "metadata": {
    "ExecuteTime": {
     "end_time": "2018-12-01T23:30:11.621786Z",
     "start_time": "2018-12-01T23:30:11.615163Z"
    }
   },
   "outputs": [],
   "source": [
    "num_partitions = 100\n",
    "num_cores = 4"
   ]
  },
  {
   "cell_type": "code",
   "execution_count": 64,
   "metadata": {
    "ExecuteTime": {
     "end_time": "2018-12-01T23:30:11.650504Z",
     "start_time": "2018-12-01T23:30:11.643199Z"
    }
   },
   "outputs": [],
   "source": [
    "def parallelize_dataframe(df, func):\n",
    "    df_split = np.array_split(df, num_partitions)\n",
    "    pool = Pool(num_cores)\n",
    "    df = pd.concat(pool.map(func, df_split))\n",
    "    pool.close()\n",
    "    pool.join()\n",
    "    return df"
   ]
  },
  {
   "cell_type": "code",
   "execution_count": 65,
   "metadata": {
    "ExecuteTime": {
     "end_time": "2018-12-01T23:30:11.660303Z",
     "start_time": "2018-12-01T23:30:11.656037Z"
    }
   },
   "outputs": [],
   "source": [
    "def wrapper_get_sentiment(df):\n",
    "    df['sentiment'] = df['body'].apply(get_sentiment)\n",
    "    return df"
   ]
  },
  {
   "cell_type": "code",
   "execution_count": 66,
   "metadata": {
    "ExecuteTime": {
     "end_time": "2018-12-01T23:38:20.765715Z",
     "start_time": "2018-12-01T23:30:11.662856Z"
    }
   },
   "outputs": [],
   "source": [
    "sentiment = parallelize_dataframe(df['body'].to_frame(), wrapper_get_sentiment)"
   ]
  },
  {
   "cell_type": "code",
   "execution_count": 67,
   "metadata": {
    "ExecuteTime": {
     "end_time": "2018-12-01T23:38:20.921822Z",
     "start_time": "2018-12-01T23:38:20.769853Z"
    }
   },
   "outputs": [],
   "source": [
    "sentiment.drop(['body'], axis=1, inplace=True)"
   ]
  },
  {
   "cell_type": "code",
   "execution_count": 68,
   "metadata": {
    "ExecuteTime": {
     "end_time": "2018-12-01T23:38:22.204770Z",
     "start_time": "2018-12-01T23:38:20.923789Z"
    }
   },
   "outputs": [],
   "source": [
    "df['senti_neg'] = sentiment['sentiment'].apply(lambda x: x['neg'])\n",
    "df['senti_neu'] = sentiment['sentiment'].apply(lambda x: x['neu'])\n",
    "df['senti_pos'] = sentiment['sentiment'].apply(lambda x: x['pos'])\n",
    "df['senti_comp'] = sentiment['sentiment'].apply(lambda x: x['compound'])"
   ]
  },
  {
   "cell_type": "code",
   "execution_count": 69,
   "metadata": {
    "ExecuteTime": {
     "end_time": "2018-12-01T23:38:22.347807Z",
     "start_time": "2018-12-01T23:38:22.208094Z"
    }
   },
   "outputs": [],
   "source": [
    "del sentiment"
   ]
  },
  {
   "cell_type": "code",
   "execution_count": null,
   "metadata": {},
   "outputs": [],
   "source": [
    "df.to_pickle('Data/working_sub.pkl')"
   ]
  },
  {
   "cell_type": "code",
   "execution_count": null,
   "metadata": {},
   "outputs": [],
   "source": [
    "df = pd.read_pickle('Data/working_sub.pkl')"
   ]
  },
  {
   "cell_type": "code",
   "execution_count": 70,
   "metadata": {
    "ExecuteTime": {
     "end_time": "2018-12-01T23:38:22.356369Z",
     "start_time": "2018-12-01T23:38:22.351089Z"
    }
   },
   "outputs": [
    {
     "data": {
      "text/plain": [
       "(1372864, 42)"
      ]
     },
     "execution_count": 70,
     "metadata": {},
     "output_type": "execute_result"
    }
   ],
   "source": [
    "df.shape"
   ]
  },
  {
   "cell_type": "code",
   "execution_count": null,
   "metadata": {},
   "outputs": [],
   "source": [
    "# sub_punct = lambda x: re.sub(r'['+string.punctuation+']+', ' ', x)\n",
    "# df['body'] = df['body'].apply(sub_punct)"
   ]
  },
  {
   "cell_type": "code",
   "execution_count": 71,
   "metadata": {
    "ExecuteTime": {
     "end_time": "2018-12-01T23:38:22.365773Z",
     "start_time": "2018-12-01T23:38:22.361790Z"
    }
   },
   "outputs": [],
   "source": [
    "def get_word_count(df):\n",
    "    df['word_count'] = df['body'].apply(lambda x: len(x.split()))\n",
    "    return df"
   ]
  },
  {
   "cell_type": "code",
   "execution_count": 72,
   "metadata": {
    "ExecuteTime": {
     "end_time": "2018-12-01T23:38:27.628350Z",
     "start_time": "2018-12-01T23:38:22.370705Z"
    }
   },
   "outputs": [],
   "source": [
    "word_counts = parallelize_dataframe(df['body'].to_frame(), get_word_count)\n",
    "df['word_counts'] = word_counts.word_count"
   ]
  },
  {
   "cell_type": "code",
   "execution_count": 73,
   "metadata": {
    "ExecuteTime": {
     "end_time": "2018-12-01T23:38:27.760220Z",
     "start_time": "2018-12-01T23:38:27.633358Z"
    }
   },
   "outputs": [],
   "source": [
    "del word_counts"
   ]
  },
  {
   "cell_type": "code",
   "execution_count": 74,
   "metadata": {
    "ExecuteTime": {
     "end_time": "2018-12-01T23:38:27.766160Z",
     "start_time": "2018-12-01T23:38:27.762539Z"
    }
   },
   "outputs": [],
   "source": [
    "import string"
   ]
  },
  {
   "cell_type": "code",
   "execution_count": 75,
   "metadata": {
    "ExecuteTime": {
     "end_time": "2018-12-01T23:38:27.772083Z",
     "start_time": "2018-12-01T23:38:27.768397Z"
    }
   },
   "outputs": [],
   "source": [
    "from sklearn.feature_extraction.stop_words import ENGLISH_STOP_WORDS"
   ]
  },
  {
   "cell_type": "code",
   "execution_count": 76,
   "metadata": {
    "ExecuteTime": {
     "end_time": "2018-12-01T23:38:27.777669Z",
     "start_time": "2018-12-01T23:38:27.774529Z"
    }
   },
   "outputs": [],
   "source": [
    "table = str.maketrans({key: ' ' for key in string.digits + string.punctuation + '\\t\\n\\r'})"
   ]
  },
  {
   "cell_type": "code",
   "execution_count": 77,
   "metadata": {
    "ExecuteTime": {
     "end_time": "2018-12-01T23:38:27.784907Z",
     "start_time": "2018-12-01T23:38:27.779785Z"
    }
   },
   "outputs": [],
   "source": [
    "def load_glove(filename):\n",
    "    glove = {}\n",
    "    with open(filename, 'r') as read_file:\n",
    "        for line in read_file:\n",
    "            key = line.split(' ')[0]\n",
    "            vector = np.array(line.split(' ')[1:], dtype=np.float)\n",
    "            glove[key] = vector\n",
    "\n",
    "    return glove"
   ]
  },
  {
   "cell_type": "code",
   "execution_count": 78,
   "metadata": {
    "ExecuteTime": {
     "end_time": "2018-12-01T23:38:27.791229Z",
     "start_time": "2018-12-01T23:38:27.786898Z"
    }
   },
   "outputs": [],
   "source": [
    "def words(text):\n",
    "    text = text.lower()\n",
    "    text = text.translate(table).strip()\n",
    "    terms = text.split(' ')\n",
    "    terms = [t for t in terms if len(t) > 2]\n",
    "    terms = [t for t in terms if t not in ENGLISH_STOP_WORDS]\n",
    "\n",
    "    return terms"
   ]
  },
  {
   "cell_type": "code",
   "execution_count": 90,
   "metadata": {
    "ExecuteTime": {
     "end_time": "2018-12-01T23:39:46.604672Z",
     "start_time": "2018-12-01T23:39:46.598261Z"
    }
   },
   "outputs": [],
   "source": [
    "def doc2vec(text, gloves):\n",
    "    count_words = 0\n",
    "    final_vector = 0\n",
    "    terms = words(text)\n",
    "\n",
    "    for t in terms:\n",
    "        if t in gloves.keys():\n",
    "            count_words += 1\n",
    "            final_vector += gloves[t]\n",
    "    if count_words != 0:\n",
    "        return final_vector / count_words\n",
    "    else:\n",
    "        return None"
   ]
  },
  {
   "cell_type": "code",
   "execution_count": 80,
   "metadata": {
    "ExecuteTime": {
     "end_time": "2018-12-01T23:38:34.432221Z",
     "start_time": "2018-12-01T23:38:27.800588Z"
    }
   },
   "outputs": [],
   "source": [
    "gloves = load_glove('Data/glove.6B.50d.txt')"
   ]
  },
  {
   "cell_type": "code",
   "execution_count": 81,
   "metadata": {
    "ExecuteTime": {
     "end_time": "2018-12-01T23:38:34.439400Z",
     "start_time": "2018-12-01T23:38:34.434395Z"
    }
   },
   "outputs": [],
   "source": [
    "def wrapper_get_centroid(df):\n",
    "    df['doc2vec'] = df['body'].apply(lambda x: doc2vec(x, gloves))\n",
    "    return df"
   ]
  },
  {
   "cell_type": "code",
   "execution_count": 82,
   "metadata": {
    "ExecuteTime": {
     "end_time": "2018-12-01T23:39:24.751023Z",
     "start_time": "2018-12-01T23:38:34.443739Z"
    }
   },
   "outputs": [],
   "source": [
    "doc2vec = parallelize_dataframe(df['body'].to_frame(), wrapper_get_centroid)"
   ]
  },
  {
   "cell_type": "code",
   "execution_count": 83,
   "metadata": {
    "ExecuteTime": {
     "end_time": "2018-12-01T23:39:24.769381Z",
     "start_time": "2018-12-01T23:39:24.761675Z"
    }
   },
   "outputs": [],
   "source": [
    "doc2vec = doc2vec.doc2vec.values"
   ]
  },
  {
   "cell_type": "code",
   "execution_count": 84,
   "metadata": {
    "ExecuteTime": {
     "end_time": "2018-12-01T23:39:24.799207Z",
     "start_time": "2018-12-01T23:39:24.775949Z"
    }
   },
   "outputs": [],
   "source": [
    "df['doc2vec'] = doc2vec"
   ]
  },
  {
   "cell_type": "code",
   "execution_count": 85,
   "metadata": {
    "ExecuteTime": {
     "end_time": "2018-12-01T23:39:24.898586Z",
     "start_time": "2018-12-01T23:39:24.802123Z"
    }
   },
   "outputs": [],
   "source": [
    "del doc2vec"
   ]
  },
  {
   "cell_type": "code",
   "execution_count": 86,
   "metadata": {
    "ExecuteTime": {
     "end_time": "2018-12-01T23:39:27.143562Z",
     "start_time": "2018-12-01T23:39:24.901334Z"
    }
   },
   "outputs": [],
   "source": [
    "comment_to_body = pd_to_dict(df[['name', 'body']],\n",
    "                                index='name', column='body')\n",
    "comment_to_parent = pd_to_dict(df[['name', 'parent_id']],\n",
    "                                index='name', column='parent_id')"
   ]
  },
  {
   "cell_type": "code",
   "execution_count": 87,
   "metadata": {
    "ExecuteTime": {
     "end_time": "2018-12-01T23:39:27.154672Z",
     "start_time": "2018-12-01T23:39:27.146908Z"
    }
   },
   "outputs": [],
   "source": [
    "def get_cosine_angle(cmnt_id):\n",
    "    child = comment_to_body[cmnt_id]\n",
    "    try:\n",
    "        parent = comment_to_body[comment_to_parent[cmnt_id]]\n",
    "    except KeyError:\n",
    "        return None\n",
    "    child = doc2vec(child, gloves)\n",
    "    parent = doc2vec(parent, gloves)\n",
    "    if child is None:\n",
    "        return None\n",
    "    if parent is None:\n",
    "        return None\n",
    "    return child.dot(parent)"
   ]
  },
  {
   "cell_type": "code",
   "execution_count": 88,
   "metadata": {
    "ExecuteTime": {
     "end_time": "2018-12-01T23:39:27.164180Z",
     "start_time": "2018-12-01T23:39:27.157676Z"
    }
   },
   "outputs": [
    {
     "data": {
      "text/plain": [
       "array(['t1_crrbdt2', 't1_crrbdtt', 't1_crrbdvn', 't1_crrbdxj',\n",
       "       't1_crrbdxr', 't1_crrbebf', 't1_crrbecs', 't1_crrbedn',\n",
       "       't1_crrbefm', 't1_crrbeft'], dtype=object)"
      ]
     },
     "execution_count": 88,
     "metadata": {},
     "output_type": "execute_result"
    }
   ],
   "source": [
    "df.name.values[-10:]"
   ]
  },
  {
   "cell_type": "code",
   "execution_count": 91,
   "metadata": {
    "ExecuteTime": {
     "end_time": "2018-12-01T23:39:50.780057Z",
     "start_time": "2018-12-01T23:39:50.774383Z"
    }
   },
   "outputs": [
    {
     "data": {
      "text/plain": [
       "6.900523655555543"
      ]
     },
     "execution_count": 91,
     "metadata": {},
     "output_type": "execute_result"
    }
   ],
   "source": [
    "get_cosine_angle('t1_crrbdvn')"
   ]
  },
  {
   "cell_type": "code",
   "execution_count": 92,
   "metadata": {
    "ExecuteTime": {
     "end_time": "2018-12-01T23:39:53.594728Z",
     "start_time": "2018-12-01T23:39:53.586598Z"
    }
   },
   "outputs": [],
   "source": [
    "def wrapper_get_cosine(df):\n",
    "    df['cosine_angle'] = df['name'].apply(get_cosine_angle)\n",
    "    return df"
   ]
  },
  {
   "cell_type": "code",
   "execution_count": 93,
   "metadata": {
    "ExecuteTime": {
     "end_time": "2018-12-01T23:40:49.879328Z",
     "start_time": "2018-12-01T23:39:54.262672Z"
    }
   },
   "outputs": [],
   "source": [
    "cosine_angle = parallelize_dataframe(df['name'].to_frame(), wrapper_get_cosine)"
   ]
  },
  {
   "cell_type": "code",
   "execution_count": 94,
   "metadata": {
    "ExecuteTime": {
     "end_time": "2018-12-01T23:40:49.906507Z",
     "start_time": "2018-12-01T23:40:49.886127Z"
    }
   },
   "outputs": [],
   "source": [
    "df['cos_angle'] = cosine_angle.cosine_angle"
   ]
  },
  {
   "cell_type": "code",
   "execution_count": 95,
   "metadata": {
    "ExecuteTime": {
     "end_time": "2018-12-01T23:40:50.240796Z",
     "start_time": "2018-12-01T23:40:49.909265Z"
    }
   },
   "outputs": [],
   "source": [
    "del gloves"
   ]
  },
  {
   "cell_type": "code",
   "execution_count": 96,
   "metadata": {
    "ExecuteTime": {
     "end_time": "2018-12-01T23:40:50.880915Z",
     "start_time": "2018-12-01T23:40:50.244720Z"
    }
   },
   "outputs": [
    {
     "data": {
      "text/plain": [
       "49"
      ]
     },
     "execution_count": 96,
     "metadata": {},
     "output_type": "execute_result"
    }
   ],
   "source": [
    "import gc\n",
    "gc.collect()"
   ]
  },
  {
   "cell_type": "code",
   "execution_count": null,
   "metadata": {},
   "outputs": [],
   "source": [
    "# df.to_pickle('Data/working_sub_glove.pkl')"
   ]
  },
  {
   "cell_type": "code",
   "execution_count": 97,
   "metadata": {
    "ExecuteTime": {
     "end_time": "2018-12-01T23:40:50.918819Z",
     "start_time": "2018-12-01T23:40:50.885270Z"
    }
   },
   "outputs": [
    {
     "data": {
      "text/plain": [
       "215.0"
      ]
     },
     "execution_count": 97,
     "metadata": {},
     "output_type": "execute_result"
    }
   ],
   "source": [
    "df.word_counts.quantile(0.99)"
   ]
  },
  {
   "cell_type": "code",
   "execution_count": 98,
   "metadata": {
    "ExecuteTime": {
     "end_time": "2018-12-01T23:40:51.883288Z",
     "start_time": "2018-12-01T23:40:50.921689Z"
    }
   },
   "outputs": [],
   "source": [
    "# remove comments that have  more than 500 words (outliers)\n",
    "df = df[df['word_counts'] < 250]"
   ]
  },
  {
   "cell_type": "code",
   "execution_count": 99,
   "metadata": {
    "ExecuteTime": {
     "end_time": "2018-12-01T23:40:52.449680Z",
     "start_time": "2018-12-01T23:40:51.886022Z"
    }
   },
   "outputs": [],
   "source": [
    "df = df[~df.depth.isna()]"
   ]
  },
  {
   "cell_type": "code",
   "execution_count": 100,
   "metadata": {
    "ExecuteTime": {
     "end_time": "2018-12-01T23:40:53.443155Z",
     "start_time": "2018-12-01T23:40:52.451882Z"
    }
   },
   "outputs": [],
   "source": [
    "df.drop(['score_hidden'], axis=1, inplace=True)"
   ]
  },
  {
   "cell_type": "code",
   "execution_count": 101,
   "metadata": {
    "ExecuteTime": {
     "end_time": "2018-12-01T23:40:55.601522Z",
     "start_time": "2018-12-01T23:40:53.445203Z"
    }
   },
   "outputs": [],
   "source": [
    "df = df[df.body != '[deleted]']\n",
    "df = df[df.body != '[removed]']\n",
    "df = df[df.body != '']"
   ]
  },
  {
   "cell_type": "code",
   "execution_count": 102,
   "metadata": {
    "ExecuteTime": {
     "end_time": "2018-12-01T23:40:56.172636Z",
     "start_time": "2018-12-01T23:40:55.603997Z"
    }
   },
   "outputs": [],
   "source": [
    "df = df[~df.doc2vec.isna()]"
   ]
  },
  {
   "cell_type": "code",
   "execution_count": 103,
   "metadata": {
    "ExecuteTime": {
     "end_time": "2018-12-01T23:40:56.656713Z",
     "start_time": "2018-12-01T23:40:56.177193Z"
    }
   },
   "outputs": [],
   "source": [
    "df = df[~df.cos_angle.isna()]"
   ]
  },
  {
   "cell_type": "code",
   "execution_count": 104,
   "metadata": {
    "ExecuteTime": {
     "end_time": "2018-12-01T23:40:56.667098Z",
     "start_time": "2018-12-01T23:40:56.659358Z"
    }
   },
   "outputs": [
    {
     "data": {
      "text/plain": [
       "(831960, 44)"
      ]
     },
     "execution_count": 104,
     "metadata": {},
     "output_type": "execute_result"
    }
   ],
   "source": [
    "df.shape"
   ]
  },
  {
   "cell_type": "code",
   "execution_count": 105,
   "metadata": {
    "ExecuteTime": {
     "end_time": "2018-12-01T23:40:56.676328Z",
     "start_time": "2018-12-01T23:40:56.670043Z"
    }
   },
   "outputs": [
    {
     "data": {
      "text/plain": [
       "Index(['created_utc', 'ups', 'subreddit_id', 'link_id', 'name',\n",
       "       'author_flair_css_class', 'author_flair_text', 'subreddit', 'id',\n",
       "       'removal_reason', 'gilded', 'downs', 'archived', 'author', 'score',\n",
       "       'retrieved_on', 'body', 'distinguished', 'edited', 'controversiality',\n",
       "       'parent_id', 'time', 'time_lapse', 'depth', 'linked_sr', 'linked_urls',\n",
       "       'no_of_linked_sr', 'no_of_linked_urls', 'a_linked_urls',\n",
       "       'author_has_flair', 'weekday', 'subjectivity', 'is_edited', 'is_quoted',\n",
       "       'no_quoted', 'parent_score', 'time_since_parent', 'senti_neg',\n",
       "       'senti_neu', 'senti_pos', 'senti_comp', 'word_counts', 'doc2vec',\n",
       "       'cos_angle'],\n",
       "      dtype='object')"
      ]
     },
     "execution_count": 105,
     "metadata": {},
     "output_type": "execute_result"
    }
   ],
   "source": [
    "df.columns"
   ]
  },
  {
   "cell_type": "code",
   "execution_count": 106,
   "metadata": {
    "ExecuteTime": {
     "end_time": "2018-12-01T23:40:57.400362Z",
     "start_time": "2018-12-01T23:40:56.679018Z"
    }
   },
   "outputs": [],
   "source": [
    "df.drop(['doc2vec'], inplace=True, axis=1)"
   ]
  },
  {
   "cell_type": "code",
   "execution_count": null,
   "metadata": {},
   "outputs": [],
   "source": [
    "df.to_pickle('Data/temp.pkl')"
   ]
  },
  {
   "cell_type": "code",
   "execution_count": null,
   "metadata": {},
   "outputs": [],
   "source": [
    "df = pd.read_pickle('Data/temp.pkl')"
   ]
  },
  {
   "cell_type": "code",
   "execution_count": null,
   "metadata": {},
   "outputs": [],
   "source": [
    "f\"{df.memory_usage(deep=True).sum() / 1023.0**3} GB\""
   ]
  },
  {
   "cell_type": "code",
   "execution_count": null,
   "metadata": {
    "ExecuteTime": {
     "end_time": "2018-12-01T23:39:27.568440Z",
     "start_time": "2018-12-01T23:31:56.891Z"
    }
   },
   "outputs": [],
   "source": [
    "doc2vec = np.vstack([i for i in df.doc2vec.values])"
   ]
  },
  {
   "cell_type": "code",
   "execution_count": null,
   "metadata": {},
   "outputs": [],
   "source": [
    "np.save('Data/doc2vec.npy', doc2vec)"
   ]
  },
  {
   "cell_type": "code",
   "execution_count": null,
   "metadata": {},
   "outputs": [],
   "source": [
    "df.drop(['doc2vec'], inplace=True, axis=1)"
   ]
  },
  {
   "cell_type": "code",
   "execution_count": 107,
   "metadata": {
    "ExecuteTime": {
     "end_time": "2018-12-01T23:40:57.412677Z",
     "start_time": "2018-12-01T23:40:57.403715Z"
    }
   },
   "outputs": [
    {
     "data": {
      "text/plain": [
       "Index(['created_utc', 'ups', 'subreddit_id', 'link_id', 'name',\n",
       "       'author_flair_css_class', 'author_flair_text', 'subreddit', 'id',\n",
       "       'removal_reason', 'gilded', 'downs', 'archived', 'author', 'score',\n",
       "       'retrieved_on', 'body', 'distinguished', 'edited', 'controversiality',\n",
       "       'parent_id', 'time', 'time_lapse', 'depth', 'linked_sr', 'linked_urls',\n",
       "       'no_of_linked_sr', 'no_of_linked_urls', 'a_linked_urls',\n",
       "       'author_has_flair', 'weekday', 'subjectivity', 'is_edited', 'is_quoted',\n",
       "       'no_quoted', 'parent_score', 'time_since_parent', 'senti_neg',\n",
       "       'senti_neu', 'senti_pos', 'senti_comp', 'word_counts', 'cos_angle'],\n",
       "      dtype='object')"
      ]
     },
     "execution_count": 107,
     "metadata": {},
     "output_type": "execute_result"
    }
   ],
   "source": [
    "df.columns"
   ]
  },
  {
   "cell_type": "code",
   "execution_count": 108,
   "metadata": {
    "ExecuteTime": {
     "end_time": "2018-12-01T23:40:57.436699Z",
     "start_time": "2018-12-01T23:40:57.415400Z"
    }
   },
   "outputs": [
    {
     "data": {
      "text/plain": [
       "False    785144\n",
       "True      46816\n",
       "Name: is_quoted, dtype: int64"
      ]
     },
     "execution_count": 108,
     "metadata": {},
     "output_type": "execute_result"
    }
   ],
   "source": [
    "df.is_quoted.value_counts()"
   ]
  },
  {
   "cell_type": "code",
   "execution_count": null,
   "metadata": {},
   "outputs": [],
   "source": [
    "df.to_pickle('Data/working_sub_d2v.pkl')"
   ]
  },
  {
   "cell_type": "code",
   "execution_count": null,
   "metadata": {},
   "outputs": [],
   "source": [
    "df = pd.read_pickle('Data/working_sub_d2v.pkl')\n",
    "doc2vec = np.load('Data/doc2vec.npy')"
   ]
  },
  {
   "cell_type": "code",
   "execution_count": null,
   "metadata": {},
   "outputs": [],
   "source": [
    "vectorizer = TfidfVectorizer(min_df=30)\n",
    "#X_tfidf = vectorizer.fit_transform(df['body'])"
   ]
  },
  {
   "cell_type": "code",
   "execution_count": 152,
   "metadata": {
    "ExecuteTime": {
     "end_time": "2018-12-02T00:14:10.280012Z",
     "start_time": "2018-12-02T00:14:10.274281Z"
    }
   },
   "outputs": [],
   "source": [
    "numeric_cols = ['gilded', 'controversiality', 'time_lapse', 'depth', 'no_of_linked_sr',\n",
    "                'no_of_linked_urls', 'subjectivity', 'no_quoted', 'parent_score',\n",
    "                'senti_neg', 'senti_neu', 'senti_pos', 'senti_comp', 'word_counts',\n",
    "                'time_since_parent', 'cos_angle','weekday']"
   ]
  },
  {
   "cell_type": "code",
   "execution_count": 110,
   "metadata": {
    "ExecuteTime": {
     "end_time": "2018-12-01T23:40:57.456610Z",
     "start_time": "2018-12-01T23:40:57.452067Z"
    }
   },
   "outputs": [],
   "source": [
    "from scipy.sparse import hstack"
   ]
  },
  {
   "cell_type": "code",
   "execution_count": 155,
   "metadata": {
    "ExecuteTime": {
     "end_time": "2018-12-02T00:15:56.895036Z",
     "start_time": "2018-12-02T00:15:48.686220Z"
    }
   },
   "outputs": [],
   "source": [
    "lb = LabelBinarizer()\n",
    "mlb = MultiLabelBinarizer()\n",
    "\n",
    "y = df.score.values\n",
    "x = np.hstack((lb.fit_transform(df.subreddit),\n",
    "               lb.fit_transform(df.distinguished),\n",
    "               lb.fit_transform(df.is_edited),\n",
    "               lb.fit_transform(df.is_quoted),\n",
    "               lb.fit_transform(df.author_has_flair),\n",
    "               lb.fit_transform(df.hour),\n",
    "               mlb.fit_transform(df.a_linked_urls),\n",
    "               df.loc[:, numeric_cols].values))\n",
    "               #, doc2vec))"
   ]
  },
  {
   "cell_type": "code",
   "execution_count": null,
   "metadata": {},
   "outputs": [],
   "source": [
    "del df, doc2vec"
   ]
  },
  {
   "cell_type": "code",
   "execution_count": 112,
   "metadata": {
    "ExecuteTime": {
     "end_time": "2018-12-01T23:41:05.104565Z",
     "start_time": "2018-12-01T23:41:05.095436Z"
    }
   },
   "outputs": [],
   "source": [
    "np.random.seed(42)"
   ]
  },
  {
   "cell_type": "code",
   "execution_count": 156,
   "metadata": {
    "ExecuteTime": {
     "end_time": "2018-12-02T00:15:56.905803Z",
     "start_time": "2018-12-02T00:15:56.897776Z"
    }
   },
   "outputs": [
    {
     "data": {
      "text/plain": [
       "(831960, 67)"
      ]
     },
     "execution_count": 156,
     "metadata": {},
     "output_type": "execute_result"
    }
   ],
   "source": [
    "x.shape"
   ]
  },
  {
   "cell_type": "code",
   "execution_count": 157,
   "metadata": {
    "ExecuteTime": {
     "end_time": "2018-12-02T00:15:56.914748Z",
     "start_time": "2018-12-02T00:15:56.908546Z"
    }
   },
   "outputs": [
    {
     "data": {
      "text/plain": [
       "(831960,)"
      ]
     },
     "execution_count": 157,
     "metadata": {},
     "output_type": "execute_result"
    }
   ],
   "source": [
    "y.shape"
   ]
  },
  {
   "cell_type": "code",
   "execution_count": 158,
   "metadata": {
    "ExecuteTime": {
     "end_time": "2018-12-02T00:16:04.137391Z",
     "start_time": "2018-12-02T00:16:01.236942Z"
    }
   },
   "outputs": [],
   "source": [
    "X_train, X_test, y_train, y_test = train_test_split(x, y, test_size=0.2,\n",
    "                                                    random_state=42)"
   ]
  },
  {
   "cell_type": "markdown",
   "metadata": {},
   "source": [
    "Things to try:\n",
    "1. Take cosine between the word to vec for past 2 comments\n",
    "2. Remove the first comment\n",
    "3. Try gradient boosting\n",
    "4. Try getting "
   ]
  },
  {
   "cell_type": "code",
   "execution_count": 136,
   "metadata": {
    "ExecuteTime": {
     "end_time": "2018-12-02T00:00:02.532150Z",
     "start_time": "2018-12-02T00:00:02.527660Z"
    }
   },
   "outputs": [],
   "source": [
    "from sklearn.ensemble import RandomForestRegressor"
   ]
  },
  {
   "cell_type": "code",
   "execution_count": 137,
   "metadata": {
    "ExecuteTime": {
     "end_time": "2018-12-02T00:00:03.083545Z",
     "start_time": "2018-12-02T00:00:03.079258Z"
    }
   },
   "outputs": [],
   "source": [
    "from sklearn.ensemble import GradientBoostingRegressor"
   ]
  },
  {
   "cell_type": "code",
   "execution_count": 159,
   "metadata": {
    "ExecuteTime": {
     "end_time": "2018-12-02T00:22:33.842632Z",
     "start_time": "2018-12-02T00:16:34.906873Z"
    }
   },
   "outputs": [
    {
     "data": {
      "text/plain": [
       "GradientBoostingRegressor(alpha=0.9, criterion='friedman_mse', init=None,\n",
       "             learning_rate=0.1, loss='ls', max_depth=3, max_features=None,\n",
       "             max_leaf_nodes=None, min_impurity_decrease=0.0,\n",
       "             min_impurity_split=None, min_samples_leaf=10,\n",
       "             min_samples_split=2, min_weight_fraction_leaf=0.0,\n",
       "             n_estimators=100, n_iter_no_change=None, presort='auto',\n",
       "             random_state=None, subsample=1.0, tol=0.0001,\n",
       "             validation_fraction=0.1, verbose=0, warm_start=False)"
      ]
     },
     "execution_count": 159,
     "metadata": {},
     "output_type": "execute_result"
    }
   ],
   "source": [
    "m = GradientBoostingRegressor(n_estimators=100, min_samples_leaf=10)\n",
    "m.fit(X_train, y_train)"
   ]
  },
  {
   "cell_type": "code",
   "execution_count": 160,
   "metadata": {
    "ExecuteTime": {
     "end_time": "2018-12-02T00:22:34.770207Z",
     "start_time": "2018-12-02T00:22:33.847594Z"
    }
   },
   "outputs": [
    {
     "name": "stdout",
     "output_type": "stream",
     "text": [
      "R-Sq: 0.2794\n",
      "RMSE: 43.944484608643286\n"
     ]
    }
   ],
   "source": [
    "y_predicted = m.predict(X_test)\n",
    "r2 = r2_score(y_test, y_predicted)\n",
    "mse = mean_squared_error(y_test, y_predicted)\n",
    "print(f\"R-Sq: {r2:.4}\")\n",
    "print(f\"RMSE: {np.sqrt(mse)}\")"
   ]
  },
  {
   "cell_type": "code",
   "execution_count": null,
   "metadata": {},
   "outputs": [],
   "source": [
    "plt.hist(abs(y_test - y_predicted), bins=200, range=[0, 50]);"
   ]
  },
  {
   "cell_type": "markdown",
   "metadata": {},
   "source": [
    "-------------"
   ]
  },
  {
   "cell_type": "code",
   "execution_count": 189,
   "metadata": {
    "ExecuteTime": {
     "end_time": "2018-12-02T04:42:14.957935Z",
     "start_time": "2018-12-02T04:37:47.472844Z"
    }
   },
   "outputs": [
    {
     "data": {
      "text/plain": [
       "RandomForestRegressor(bootstrap=True, criterion='mse', max_depth=None,\n",
       "           max_features='auto', max_leaf_nodes=None,\n",
       "           min_impurity_decrease=0.0, min_impurity_split=None,\n",
       "           min_samples_leaf=10, min_samples_split=2,\n",
       "           min_weight_fraction_leaf=0.0, n_estimators=40, n_jobs=-1,\n",
       "           oob_score=False, random_state=None, verbose=0, warm_start=False)"
      ]
     },
     "execution_count": 189,
     "metadata": {},
     "output_type": "execute_result"
    }
   ],
   "source": [
    "m = RandomForestRegressor(n_jobs=-1, n_estimators=40, min_samples_leaf=10)\n",
    "m.fit(X_train, y_train)"
   ]
  },
  {
   "cell_type": "code",
   "execution_count": 190,
   "metadata": {
    "ExecuteTime": {
     "end_time": "2018-12-02T04:42:16.573084Z",
     "start_time": "2018-12-02T04:42:14.961436Z"
    }
   },
   "outputs": [
    {
     "name": "stdout",
     "output_type": "stream",
     "text": [
      "R-Sq: 0.2834\n",
      "RMSE: 43.82194948223346\n"
     ]
    }
   ],
   "source": [
    "y_predicted = m.predict(X_test)\n",
    "r2 = r2_score(y_test, y_predicted)\n",
    "mse = mean_squared_error(y_test, y_predicted)\n",
    "print(f\"R-Sq: {r2:.4}\")\n",
    "print(f\"RMSE: {np.sqrt(mse)}\")"
   ]
  },
  {
   "cell_type": "code",
   "execution_count": 180,
   "metadata": {
    "ExecuteTime": {
     "end_time": "2018-12-02T00:58:19.903585Z",
     "start_time": "2018-12-02T00:58:19.794235Z"
    }
   },
   "outputs": [
    {
     "data": {
      "text/plain": [
       "array([41, 43, 38, 37,  5,  6,  7, 35, 44, 45, 47, 39, 36, 48, 46, 42, 49,\n",
       "        0, 10, 54, 28,  9, 18, 12, 57, 15, 16, 19, 21, 27, 20, 17, 13, 34,\n",
       "       14,  3, 29, 22, 11, 26, 30, 31, 55, 33, 23, 24, 25, 32, 40,  2, 56,\n",
       "        8,  4,  1, 53, 61, 66, 59, 60, 62, 51, 63, 65, 50, 52, 64, 58])"
      ]
     },
     "execution_count": 180,
     "metadata": {},
     "output_type": "execute_result"
    }
   ],
   "source": [
    "np.argsort(m.feature_importances_)"
   ]
  },
  {
   "cell_type": "code",
   "execution_count": 186,
   "metadata": {
    "ExecuteTime": {
     "end_time": "2018-12-02T01:02:16.675366Z",
     "start_time": "2018-12-02T01:02:16.567099Z"
    }
   },
   "outputs": [
    {
     "data": {
      "text/plain": [
       "0.04891145565744541"
      ]
     },
     "execution_count": 186,
     "metadata": {},
     "output_type": "execute_result"
    }
   ],
   "source": [
    "\"\"\"\n",
    "numeric_cols = ['gilded', 'controversiality', 'time_lapse', 'depth', 'no_of_linked_sr',\n",
    "                'no_of_linked_urls', 'subjectivity', 'no_quoted', 'parent_score',\n",
    "                'senti_neg', 'senti_neu', 'senti_pos', 'senti_comp', 'word_counts',\n",
    "                'time_since_parent', 'cos_angle','weekday']\n",
    "\n",
    "lb = LabelBinarizer()\n",
    "mlb = MultiLabelBinarizer()\n",
    "\n",
    "y = df.score.values\n",
    "x = np.hstack((lb.fit_transform(df.subreddit),\n",
    "               lb.fit_transform(df.distinguished),\n",
    "               lb.fit_transform(df.is_edited),\n",
    "               lb.fit_transform(df.is_quoted),\n",
    "               lb.fit_transform(df.author_has_flair),\n",
    "               lb.fit_transform(df.hour),\n",
    "               mlb.fit_transform(df.a_linked_urls),\n",
    "               df.loc[:, numeric_cols].values))\n",
    "               #, doc2vec))\n",
    "\"\"\"\n",
    "\n",
    "m.feature_importances_[65]"
   ]
  },
  {
   "cell_type": "code",
   "execution_count": null,
   "metadata": {},
   "outputs": [],
   "source": [
    "plt.hist(abs(y_test - y_predicted), bins=400, range=[0, 50]);"
   ]
  },
  {
   "cell_type": "markdown",
   "metadata": {},
   "source": [
    "With raw child 50d glove - with just 10 estimaters"
   ]
  },
  {
   "cell_type": "code",
   "execution_count": null,
   "metadata": {
    "ExecuteTime": {
     "end_time": "2018-12-01T19:49:13.414550Z",
     "start_time": "2018-12-01T19:49:12.979870Z"
    }
   },
   "outputs": [],
   "source": [
    "y_predicted = m.predict(X_test)\n",
    "r2 = r2_score(y_test, y_predicted)\n",
    "mse = mean_squared_error(y_test, y_predicted)\n",
    "print(f\"R-Sq: {r2:.4}\")\n",
    "print(f\"RMSE: {np.sqrt(mse)}\")"
   ]
  },
  {
   "cell_type": "markdown",
   "metadata": {},
   "source": [
    "Result with just sentiment and parent score RandomForest 50 estimaters"
   ]
  },
  {
   "cell_type": "code",
   "execution_count": null,
   "metadata": {},
   "outputs": [],
   "source": [
    "y_predicted = m.predict(X_test)\n",
    "r2 = r2_score(y_test, y_predicted)\n",
    "mse = mean_squared_error(y_test, y_predicted)\n",
    "print(f\"R-Sq: {r2:.4}\")\n",
    "print(f\"RMSE: {np.sqrt(mse)}\")"
   ]
  },
  {
   "cell_type": "code",
   "execution_count": null,
   "metadata": {},
   "outputs": [],
   "source": [
    "m = LinearRegression()\n",
    "m.fit(X_train, y_train)"
   ]
  },
  {
   "cell_type": "code",
   "execution_count": null,
   "metadata": {},
   "outputs": [],
   "source": [
    "y_predicted = m.predict(X_test)\n",
    "r2 = r2_score(y_test, y_predicted)\n",
    "mse = mean_squared_error(y_test, y_predicted)\n",
    "print(f\"R-Sq: {r2:.4}\")\n",
    "print(f\"RMSE: {np.sqrt(mse)}\")"
   ]
  },
  {
   "cell_type": "code",
   "execution_count": null,
   "metadata": {},
   "outputs": [],
   "source": [
    "import pickle"
   ]
  },
  {
   "cell_type": "code",
   "execution_count": null,
   "metadata": {},
   "outputs": [],
   "source": [
    "from joblib import dump, load"
   ]
  },
  {
   "cell_type": "code",
   "execution_count": null,
   "metadata": {},
   "outputs": [],
   "source": [
    "dump(m, 'RF.joblib')"
   ]
  },
  {
   "cell_type": "code",
   "execution_count": null,
   "metadata": {},
   "outputs": [],
   "source": []
  }
 ],
 "metadata": {
  "kernelspec": {
   "display_name": "Python 3",
   "language": "python",
   "name": "python3"
  },
  "language_info": {
   "codemirror_mode": {
    "name": "ipython",
    "version": 3
   },
   "file_extension": ".py",
   "mimetype": "text/x-python",
   "name": "python",
   "nbconvert_exporter": "python",
   "pygments_lexer": "ipython3",
   "version": "3.6.6"
  },
  "toc": {
   "base_numbering": 1,
   "nav_menu": {},
   "number_sections": true,
   "sideBar": true,
   "skip_h1_title": false,
   "title_cell": "Table of Contents",
   "title_sidebar": "Contents",
   "toc_cell": false,
   "toc_position": {},
   "toc_section_display": true,
   "toc_window_display": false
  }
 },
 "nbformat": 4,
 "nbformat_minor": 2
}
