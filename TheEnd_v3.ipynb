{
 "cells": [
  {
   "cell_type": "code",
   "execution_count": 117,
   "metadata": {
    "ExecuteTime": {
     "end_time": "2018-12-06T19:33:56.887146Z",
     "start_time": "2018-12-06T19:33:56.857256Z"
    }
   },
   "outputs": [],
   "source": [
    "import re\n",
    "\n",
    "import pandas as pd\n",
    "import re, string\n",
    "import numpy as np\n",
    "import matplotlib.pyplot as plt\n",
    "from matplotlib import pylab\n",
    "import seaborn as sns\n",
    "\n",
    "from pathlib import Path\n",
    "from collections import Counter\n",
    "from multiprocessing import Pool\n",
    "from urllib.parse import urlparse\n",
    "\n",
    "%matplotlib inline"
   ]
  },
  {
   "cell_type": "code",
   "execution_count": 130,
   "metadata": {
    "ExecuteTime": {
     "end_time": "2018-12-06T20:28:49.273463Z",
     "start_time": "2018-12-06T20:28:49.268611Z"
    }
   },
   "outputs": [],
   "source": [
    "from sklearn.metrics import mean_squared_error, r2_score, mean_absolute_error\n",
    "from sklearn.model_selection import train_test_split\n",
    "from sklearn.preprocessing import LabelBinarizer, MultiLabelBinarizer\n",
    "from sklearn.feature_extraction.text import TfidfVectorizer\n",
    "from sklearn.linear_model import LinearRegression\n",
    "from sklearn.pipeline import Pipeline\n",
    "from sklearn.preprocessing import StandardScaler"
   ]
  },
  {
   "cell_type": "code",
   "execution_count": 4,
   "metadata": {
    "ExecuteTime": {
     "end_time": "2018-12-06T08:40:11.672451Z",
     "start_time": "2018-12-06T08:40:11.669080Z"
    }
   },
   "outputs": [],
   "source": [
    "path = Path('Data/')"
   ]
  },
  {
   "cell_type": "code",
   "execution_count": 4,
   "metadata": {
    "ExecuteTime": {
     "end_time": "2018-12-05T22:53:57.783395Z",
     "start_time": "2018-12-05T22:53:50.522559Z"
    }
   },
   "outputs": [
    {
     "name": "stderr",
     "output_type": "stream",
     "text": [
      "/home/gokul/anaconda3/lib/python3.6/site-packages/pandas/io/feather_format.py:112: FutureWarning: `nthreads` argument is deprecated, pass `use_threads` instead\n",
      "  return feather.read_dataframe(path, nthreads=nthreads)\n"
     ]
    }
   ],
   "source": [
    "df = pd.read_feather(path/'May2015_subset.fthr')"
   ]
  },
  {
   "cell_type": "code",
   "execution_count": 5,
   "metadata": {
    "ExecuteTime": {
     "end_time": "2018-12-05T22:53:57.789905Z",
     "start_time": "2018-12-05T22:53:57.785708Z"
    }
   },
   "outputs": [],
   "source": [
    "subreddit_list = ['worldnews', 'movies', 'gaming', 'science', 'food']"
   ]
  },
  {
   "cell_type": "code",
   "execution_count": 6,
   "metadata": {
    "ExecuteTime": {
     "end_time": "2018-12-05T22:53:59.726548Z",
     "start_time": "2018-12-05T22:53:57.793394Z"
    }
   },
   "outputs": [],
   "source": [
    "df = df[df.subreddit.isin(subreddit_list)]"
   ]
  },
  {
   "cell_type": "code",
   "execution_count": 7,
   "metadata": {
    "ExecuteTime": {
     "end_time": "2018-12-05T22:53:59.733182Z",
     "start_time": "2018-12-05T22:53:59.728820Z"
    }
   },
   "outputs": [],
   "source": [
    "df.reset_index(inplace=True, drop=True)"
   ]
  },
  {
   "cell_type": "code",
   "execution_count": 8,
   "metadata": {
    "ExecuteTime": {
     "end_time": "2018-12-05T22:54:00.894238Z",
     "start_time": "2018-12-05T22:53:59.735703Z"
    }
   },
   "outputs": [],
   "source": [
    "df['subreddit'] = df.subreddit.astype('category')\n",
    "df['subreddit_id'] = df.subreddit_id.astype('category')\n",
    "df['distinguished'] = df.distinguished.astype('category')"
   ]
  },
  {
   "cell_type": "code",
   "execution_count": 9,
   "metadata": {
    "ExecuteTime": {
     "end_time": "2018-12-05T22:54:01.579898Z",
     "start_time": "2018-12-05T22:54:00.896661Z"
    }
   },
   "outputs": [],
   "source": [
    "df['is_flair'] = ~df.author_flair_text.apply(lambda x: x is None)\n",
    "df['is_flair_css'] = ~df.author_flair_css_class.apply(lambda x: x is None)"
   ]
  },
  {
   "cell_type": "markdown",
   "metadata": {},
   "source": [
    "Columns with no extra information"
   ]
  },
  {
   "cell_type": "code",
   "execution_count": 10,
   "metadata": {
    "ExecuteTime": {
     "end_time": "2018-12-05T22:54:04.659500Z",
     "start_time": "2018-12-05T22:54:01.582584Z"
    }
   },
   "outputs": [
    {
     "name": "stdout",
     "output_type": "stream",
     "text": [
      "score_hidden\n",
      "removal_reason\n",
      "downs\n",
      "archived\n"
     ]
    }
   ],
   "source": [
    "for col in df.columns:\n",
    "    if len(df[col].unique()) == 1:\n",
    "        print(col)"
   ]
  },
  {
   "cell_type": "code",
   "execution_count": 11,
   "metadata": {
    "ExecuteTime": {
     "end_time": "2018-12-05T22:54:04.854420Z",
     "start_time": "2018-12-05T22:54:04.661910Z"
    }
   },
   "outputs": [],
   "source": [
    "df.drop(['archived', 'id', 'removal_reason',\n",
    "         'score_hidden', 'downs', 'subreddit_id',\n",
    "         'author_flair_css_class', 'author_flair_text',\n",
    "         'author'], axis=1, inplace=True)"
   ]
  },
  {
   "cell_type": "code",
   "execution_count": 15,
   "metadata": {
    "ExecuteTime": {
     "end_time": "2018-12-06T08:41:20.342124Z",
     "start_time": "2018-12-06T08:41:20.153911Z"
    }
   },
   "outputs": [
    {
     "data": {
      "text/plain": [
       "16"
      ]
     },
     "execution_count": 15,
     "metadata": {},
     "output_type": "execute_result"
    }
   ],
   "source": [
    "import gc\n",
    "gc.collect()"
   ]
  },
  {
   "cell_type": "code",
   "execution_count": 13,
   "metadata": {
    "ExecuteTime": {
     "end_time": "2018-12-05T22:54:06.797904Z",
     "start_time": "2018-12-05T22:54:04.910246Z"
    },
    "scrolled": true
   },
   "outputs": [
    {
     "data": {
      "image/png": "[encoded data removed]",
      "text/plain": [
       "<Figure size 432x288 with 1 Axes>"
      ]
     },
     "metadata": {},
     "output_type": "display_data"
    }
   ],
   "source": [
    "plt.hist(df.score, log=True, bins=300);"
   ]
  },
  {
   "cell_type": "code",
   "execution_count": 14,
   "metadata": {
    "ExecuteTime": {
     "end_time": "2018-12-05T22:54:06.820107Z",
     "start_time": "2018-12-05T22:54:06.800470Z"
    }
   },
   "outputs": [
    {
     "data": {
      "text/plain": [
       "worldnews    490354\n",
       "movies       376601\n",
       "gaming       361265\n",
       "science       89413\n",
       "food          55231\n",
       "Name: subreddit, dtype: int64"
      ]
     },
     "execution_count": 14,
     "metadata": {},
     "output_type": "execute_result"
    }
   ],
   "source": [
    "df.subreddit.value_counts()"
   ]
  },
  {
   "cell_type": "code",
   "execution_count": 15,
   "metadata": {
    "ExecuteTime": {
     "end_time": "2018-12-05T22:54:06.842717Z",
     "start_time": "2018-12-05T22:54:06.822494Z"
    }
   },
   "outputs": [],
   "source": [
    "df['time'] = pd.to_datetime(df.created_utc, unit='s')"
   ]
  },
  {
   "cell_type": "code",
   "execution_count": 16,
   "metadata": {
    "ExecuteTime": {
     "end_time": "2018-12-05T22:54:06.992734Z",
     "start_time": "2018-12-05T22:54:06.844976Z"
    }
   },
   "outputs": [],
   "source": [
    "df.drop(['created_utc'], axis=1, inplace=True)"
   ]
  },
  {
   "cell_type": "code",
   "execution_count": 17,
   "metadata": {
    "ExecuteTime": {
     "end_time": "2018-12-05T22:54:07.023699Z",
     "start_time": "2018-12-05T22:54:06.996164Z"
    }
   },
   "outputs": [
    {
     "data": {
      "text/html": [
       "<div>\n",
       "<style scoped>\n",
       "    .dataframe tbody tr th:only-of-type {\n",
       "        vertical-align: middle;\n",
       "    }\n",
       "\n",
       "    .dataframe tbody tr th {\n",
       "        vertical-align: top;\n",
       "    }\n",
       "\n",
       "    .dataframe thead th {\n",
       "        text-align: right;\n",
       "    }\n",
       "</style>\n",
       "<table border=\"1\" class=\"dataframe\">\n",
       "  <thead>\n",
       "    <tr style=\"text-align: right;\">\n",
       "      <th></th>\n",
       "      <th>1372859</th>\n",
       "      <th>1372860</th>\n",
       "      <th>1372861</th>\n",
       "      <th>1372862</th>\n",
       "      <th>1372863</th>\n",
       "    </tr>\n",
       "  </thead>\n",
       "  <tbody>\n",
       "    <tr>\n",
       "      <th>ups</th>\n",
       "      <td>1</td>\n",
       "      <td>1</td>\n",
       "      <td>170</td>\n",
       "      <td>9</td>\n",
       "      <td>37</td>\n",
       "    </tr>\n",
       "    <tr>\n",
       "      <th>link_id</th>\n",
       "      <td>t3_37z0mw</td>\n",
       "      <td>t3_37z0mw</td>\n",
       "      <td>t3_37zl5z</td>\n",
       "      <td>t3_380j06</td>\n",
       "      <td>t3_37z0mw</td>\n",
       "    </tr>\n",
       "    <tr>\n",
       "      <th>name</th>\n",
       "      <td>t1_crrbebf</td>\n",
       "      <td>t1_crrbecs</td>\n",
       "      <td>t1_crrbedn</td>\n",
       "      <td>t1_crrbefm</td>\n",
       "      <td>t1_crrbeft</td>\n",
       "    </tr>\n",
       "    <tr>\n",
       "      <th>subreddit</th>\n",
       "      <td>worldnews</td>\n",
       "      <td>worldnews</td>\n",
       "      <td>worldnews</td>\n",
       "      <td>worldnews</td>\n",
       "      <td>worldnews</td>\n",
       "    </tr>\n",
       "    <tr>\n",
       "      <th>gilded</th>\n",
       "      <td>0</td>\n",
       "      <td>0</td>\n",
       "      <td>0</td>\n",
       "      <td>0</td>\n",
       "      <td>0</td>\n",
       "    </tr>\n",
       "    <tr>\n",
       "      <th>score</th>\n",
       "      <td>1</td>\n",
       "      <td>1</td>\n",
       "      <td>170</td>\n",
       "      <td>9</td>\n",
       "      <td>37</td>\n",
       "    </tr>\n",
       "    <tr>\n",
       "      <th>retrieved_on</th>\n",
       "      <td>1433505915</td>\n",
       "      <td>1433505915</td>\n",
       "      <td>1433505916</td>\n",
       "      <td>1433505916</td>\n",
       "      <td>1433505916</td>\n",
       "    </tr>\n",
       "    <tr>\n",
       "      <th>body</th>\n",
       "      <td>The key there is \"unless they're sociopaths\". ...</td>\n",
       "      <td>Pretty sure they don't just behead people outr...</td>\n",
       "      <td>Because it's not typically done to babies. It'...</td>\n",
       "      <td>&amp;gt; Nothing they are doing is illegal under i...</td>\n",
       "      <td>Apart from the risk of inhalation pneumonia.</td>\n",
       "    </tr>\n",
       "    <tr>\n",
       "      <th>distinguished</th>\n",
       "      <td>NaN</td>\n",
       "      <td>NaN</td>\n",
       "      <td>NaN</td>\n",
       "      <td>NaN</td>\n",
       "      <td>NaN</td>\n",
       "    </tr>\n",
       "    <tr>\n",
       "      <th>edited</th>\n",
       "      <td>0</td>\n",
       "      <td>0</td>\n",
       "      <td>0</td>\n",
       "      <td>0</td>\n",
       "      <td>0</td>\n",
       "    </tr>\n",
       "    <tr>\n",
       "      <th>controversiality</th>\n",
       "      <td>0</td>\n",
       "      <td>0</td>\n",
       "      <td>0</td>\n",
       "      <td>0</td>\n",
       "      <td>0</td>\n",
       "    </tr>\n",
       "    <tr>\n",
       "      <th>parent_id</th>\n",
       "      <td>t1_crr9oyk</td>\n",
       "      <td>t1_crraioh</td>\n",
       "      <td>t1_crrax76</td>\n",
       "      <td>t1_crrb19g</td>\n",
       "      <td>t1_crrb2cx</td>\n",
       "    </tr>\n",
       "    <tr>\n",
       "      <th>is_flair</th>\n",
       "      <td>False</td>\n",
       "      <td>False</td>\n",
       "      <td>False</td>\n",
       "      <td>False</td>\n",
       "      <td>False</td>\n",
       "    </tr>\n",
       "    <tr>\n",
       "      <th>is_flair_css</th>\n",
       "      <td>False</td>\n",
       "      <td>False</td>\n",
       "      <td>False</td>\n",
       "      <td>False</td>\n",
       "      <td>False</td>\n",
       "    </tr>\n",
       "    <tr>\n",
       "      <th>time</th>\n",
       "      <td>2015-05-31 23:59:38</td>\n",
       "      <td>2015-05-31 23:59:40</td>\n",
       "      <td>2015-05-31 23:59:41</td>\n",
       "      <td>2015-05-31 23:59:44</td>\n",
       "      <td>2015-05-31 23:59:45</td>\n",
       "    </tr>\n",
       "  </tbody>\n",
       "</table>\n",
       "</div>"
      ],
      "text/plain": [
       "                                                            1372859  \\\n",
       "ups                                                               1   \n",
       "link_id                                                   t3_37z0mw   \n",
       "name                                                     t1_crrbebf   \n",
       "subreddit                                                 worldnews   \n",
       "gilded                                                            0   \n",
       "score                                                             1   \n",
       "retrieved_on                                             1433505915   \n",
       "body              The key there is \"unless they're sociopaths\". ...   \n",
       "distinguished                                                   NaN   \n",
       "edited                                                            0   \n",
       "controversiality                                                  0   \n",
       "parent_id                                                t1_crr9oyk   \n",
       "is_flair                                                      False   \n",
       "is_flair_css                                                  False   \n",
       "time                                            2015-05-31 23:59:38   \n",
       "\n",
       "                                                            1372860  \\\n",
       "ups                                                               1   \n",
       "link_id                                                   t3_37z0mw   \n",
       "name                                                     t1_crrbecs   \n",
       "subreddit                                                 worldnews   \n",
       "gilded                                                            0   \n",
       "score                                                             1   \n",
       "retrieved_on                                             1433505915   \n",
       "body              Pretty sure they don't just behead people outr...   \n",
       "distinguished                                                   NaN   \n",
       "edited                                                            0   \n",
       "controversiality                                                  0   \n",
       "parent_id                                                t1_crraioh   \n",
       "is_flair                                                      False   \n",
       "is_flair_css                                                  False   \n",
       "time                                            2015-05-31 23:59:40   \n",
       "\n",
       "                                                            1372861  \\\n",
       "ups                                                             170   \n",
       "link_id                                                   t3_37zl5z   \n",
       "name                                                     t1_crrbedn   \n",
       "subreddit                                                 worldnews   \n",
       "gilded                                                            0   \n",
       "score                                                           170   \n",
       "retrieved_on                                             1433505916   \n",
       "body              Because it's not typically done to babies. It'...   \n",
       "distinguished                                                   NaN   \n",
       "edited                                                            0   \n",
       "controversiality                                                  0   \n",
       "parent_id                                                t1_crrax76   \n",
       "is_flair                                                      False   \n",
       "is_flair_css                                                  False   \n",
       "time                                            2015-05-31 23:59:41   \n",
       "\n",
       "                                                            1372862  \\\n",
       "ups                                                               9   \n",
       "link_id                                                   t3_380j06   \n",
       "name                                                     t1_crrbefm   \n",
       "subreddit                                                 worldnews   \n",
       "gilded                                                            0   \n",
       "score                                                             9   \n",
       "retrieved_on                                             1433505916   \n",
       "body              &gt; Nothing they are doing is illegal under i...   \n",
       "distinguished                                                   NaN   \n",
       "edited                                                            0   \n",
       "controversiality                                                  0   \n",
       "parent_id                                                t1_crrb19g   \n",
       "is_flair                                                      False   \n",
       "is_flair_css                                                  False   \n",
       "time                                            2015-05-31 23:59:44   \n",
       "\n",
       "                                                       1372863  \n",
       "ups                                                         37  \n",
       "link_id                                              t3_37z0mw  \n",
       "name                                                t1_crrbeft  \n",
       "subreddit                                            worldnews  \n",
       "gilded                                                       0  \n",
       "score                                                       37  \n",
       "retrieved_on                                        1433505916  \n",
       "body              Apart from the risk of inhalation pneumonia.  \n",
       "distinguished                                              NaN  \n",
       "edited                                                       0  \n",
       "controversiality                                             0  \n",
       "parent_id                                           t1_crrb2cx  \n",
       "is_flair                                                 False  \n",
       "is_flair_css                                             False  \n",
       "time                                       2015-05-31 23:59:45  "
      ]
     },
     "execution_count": 17,
     "metadata": {},
     "output_type": "execute_result"
    }
   ],
   "source": [
    "df.tail().T"
   ]
  },
  {
   "cell_type": "code",
   "execution_count": 18,
   "metadata": {
    "ExecuteTime": {
     "end_time": "2018-12-05T22:54:07.100308Z",
     "start_time": "2018-12-05T22:54:07.027254Z"
    }
   },
   "outputs": [],
   "source": [
    "dfl = pd.read_pickle('Data/scrape/df_final.pkl')"
   ]
  },
  {
   "cell_type": "code",
   "execution_count": 19,
   "metadata": {
    "ExecuteTime": {
     "end_time": "2018-12-05T22:54:07.106457Z",
     "start_time": "2018-12-05T22:54:07.102685Z"
    }
   },
   "outputs": [
    {
     "data": {
      "text/plain": [
       "(45400, 18)"
      ]
     },
     "execution_count": 19,
     "metadata": {},
     "output_type": "execute_result"
    }
   ],
   "source": [
    "dfl.shape"
   ]
  },
  {
   "cell_type": "markdown",
   "metadata": {},
   "source": [
    "Over lapping columns"
   ]
  },
  {
   "cell_type": "code",
   "execution_count": 20,
   "metadata": {
    "ExecuteTime": {
     "end_time": "2018-12-05T22:54:07.117819Z",
     "start_time": "2018-12-05T22:54:07.110258Z"
    }
   },
   "outputs": [
    {
     "data": {
      "text/plain": [
       "['ups', 'score', 'distinguished', 'edited']"
      ]
     },
     "execution_count": 20,
     "metadata": {},
     "output_type": "execute_result"
    }
   ],
   "source": [
    "[c for c in df.columns if c in dfl.columns]"
   ]
  },
  {
   "cell_type": "code",
   "execution_count": 21,
   "metadata": {
    "ExecuteTime": {
     "end_time": "2018-12-05T22:54:07.286482Z",
     "start_time": "2018-12-05T22:54:07.121222Z"
    }
   },
   "outputs": [
    {
     "name": "stdout",
     "output_type": "stream",
     "text": [
      "locked\n",
      "downs\n",
      "is_original_content\n",
      "view_count\n"
     ]
    }
   ],
   "source": [
    "for col in dfl.columns:\n",
    "    if len(dfl[col].unique()) == 1:\n",
    "        print(col)"
   ]
  },
  {
   "cell_type": "markdown",
   "metadata": {},
   "source": [
    "This will save some precious RAM when joining the data frame!!"
   ]
  },
  {
   "cell_type": "code",
   "execution_count": 22,
   "metadata": {
    "ExecuteTime": {
     "end_time": "2018-12-05T22:54:07.660030Z",
     "start_time": "2018-12-05T22:54:07.290021Z"
    }
   },
   "outputs": [],
   "source": [
    "dfl['url'] = dfl.url.astype('category')\n",
    "dfl['selftext'] = dfl.selftext.astype('category')\n",
    "dfl['title'] = dfl.title.astype('category')"
   ]
  },
  {
   "cell_type": "code",
   "execution_count": 23,
   "metadata": {
    "ExecuteTime": {
     "end_time": "2018-12-05T22:54:07.746478Z",
     "start_time": "2018-12-05T22:54:07.662990Z"
    }
   },
   "outputs": [],
   "source": [
    "dfl['link_created_time'] = pd.to_datetime(dfl.created_utc, unit='s')"
   ]
  },
  {
   "cell_type": "code",
   "execution_count": 24,
   "metadata": {
    "ExecuteTime": {
     "end_time": "2018-12-05T22:54:07.764726Z",
     "start_time": "2018-12-05T22:54:07.749383Z"
    }
   },
   "outputs": [],
   "source": [
    "dfl.drop(['locked', 'downs', 'is_original_content',\n",
    "          'view_count', 'distinguished', 'edited',\n",
    "          'num_crossposts', 'spoiler', 'created_utc'], axis=1, inplace=True)"
   ]
  },
  {
   "cell_type": "code",
   "execution_count": 25,
   "metadata": {
    "ExecuteTime": {
     "end_time": "2018-12-05T22:54:07.773882Z",
     "start_time": "2018-12-05T22:54:07.767241Z"
    }
   },
   "outputs": [],
   "source": [
    "dfl.rename(columns={'sub_id':'link_id', \n",
    "                    'ups': 'link_ups',\n",
    "                    'score': 'link_score'}, inplace=True)"
   ]
  },
  {
   "cell_type": "code",
   "execution_count": 26,
   "metadata": {
    "ExecuteTime": {
     "end_time": "2018-12-05T22:54:07.846336Z",
     "start_time": "2018-12-05T22:54:07.777353Z"
    }
   },
   "outputs": [
    {
     "data": {
      "text/html": [
       "<div>\n",
       "<style scoped>\n",
       "    .dataframe tbody tr th:only-of-type {\n",
       "        vertical-align: middle;\n",
       "    }\n",
       "\n",
       "    .dataframe tbody tr th {\n",
       "        vertical-align: top;\n",
       "    }\n",
       "\n",
       "    .dataframe thead th {\n",
       "        text-align: right;\n",
       "    }\n",
       "</style>\n",
       "<table border=\"1\" class=\"dataframe\">\n",
       "  <thead>\n",
       "    <tr style=\"text-align: right;\">\n",
       "      <th></th>\n",
       "      <th>45395</th>\n",
       "      <th>45396</th>\n",
       "      <th>45397</th>\n",
       "      <th>45398</th>\n",
       "      <th>45399</th>\n",
       "    </tr>\n",
       "  </thead>\n",
       "  <tbody>\n",
       "    <tr>\n",
       "      <th>link_id</th>\n",
       "      <td>t3_380j06</td>\n",
       "      <td>t3_380k50</td>\n",
       "      <td>t3_380ld3</td>\n",
       "      <td>t3_380lty</td>\n",
       "      <td>t3_380msc</td>\n",
       "    </tr>\n",
       "    <tr>\n",
       "      <th>url</th>\n",
       "      <td>https://www.yahoo.com/news/us-demands-immediat...</td>\n",
       "      <td>http://www.irishtimes.com/news/world/middle-ea...</td>\n",
       "      <td>http://www.timesofisrael.com/israels-army-skir...</td>\n",
       "      <td>http://time.com/3902702/us-college-student-isi...</td>\n",
       "      <td>http://www.healthy4u.net/2015/05/30/easy-diet-...</td>\n",
       "    </tr>\n",
       "    <tr>\n",
       "      <th>num_comments</th>\n",
       "      <td>10</td>\n",
       "      <td>1</td>\n",
       "      <td>6</td>\n",
       "      <td>5</td>\n",
       "      <td>1</td>\n",
       "    </tr>\n",
       "    <tr>\n",
       "      <th>over_18</th>\n",
       "      <td>False</td>\n",
       "      <td>False</td>\n",
       "      <td>False</td>\n",
       "      <td>False</td>\n",
       "      <td>False</td>\n",
       "    </tr>\n",
       "    <tr>\n",
       "      <th>link_score</th>\n",
       "      <td>9</td>\n",
       "      <td>9</td>\n",
       "      <td>0</td>\n",
       "      <td>8</td>\n",
       "      <td>1</td>\n",
       "    </tr>\n",
       "    <tr>\n",
       "      <th>selftext</th>\n",
       "      <td></td>\n",
       "      <td></td>\n",
       "      <td></td>\n",
       "      <td></td>\n",
       "      <td></td>\n",
       "    </tr>\n",
       "    <tr>\n",
       "      <th>title</th>\n",
       "      <td>US hits out at China over sea reclamation, vow...</td>\n",
       "      <td>Israel moves to toughen sentences for stone-th...</td>\n",
       "      <td>Israel's Army operating program to convert Jew...</td>\n",
       "      <td>Hero Student Tries to Stop ISIS Attack in Saud...</td>\n",
       "      <td>easy diet</td>\n",
       "    </tr>\n",
       "    <tr>\n",
       "      <th>upvote_ratio</th>\n",
       "      <td>0.62</td>\n",
       "      <td>0.84</td>\n",
       "      <td>0.38</td>\n",
       "      <td>0.68</td>\n",
       "      <td>1</td>\n",
       "    </tr>\n",
       "    <tr>\n",
       "      <th>link_ups</th>\n",
       "      <td>9</td>\n",
       "      <td>9</td>\n",
       "      <td>0</td>\n",
       "      <td>8</td>\n",
       "      <td>1</td>\n",
       "    </tr>\n",
       "    <tr>\n",
       "      <th>link_created_time</th>\n",
       "      <td>2015-05-31 23:19:50</td>\n",
       "      <td>2015-05-31 23:29:11</td>\n",
       "      <td>2015-05-31 23:38:41</td>\n",
       "      <td>2015-05-31 23:42:18</td>\n",
       "      <td>2015-05-31 23:50:20</td>\n",
       "    </tr>\n",
       "  </tbody>\n",
       "</table>\n",
       "</div>"
      ],
      "text/plain": [
       "                                                               45395  \\\n",
       "link_id                                                    t3_380j06   \n",
       "url                https://www.yahoo.com/news/us-demands-immediat...   \n",
       "num_comments                                                      10   \n",
       "over_18                                                        False   \n",
       "link_score                                                         9   \n",
       "selftext                                                               \n",
       "title              US hits out at China over sea reclamation, vow...   \n",
       "upvote_ratio                                                    0.62   \n",
       "link_ups                                                           9   \n",
       "link_created_time                                2015-05-31 23:19:50   \n",
       "\n",
       "                                                               45396  \\\n",
       "link_id                                                    t3_380k50   \n",
       "url                http://www.irishtimes.com/news/world/middle-ea...   \n",
       "num_comments                                                       1   \n",
       "over_18                                                        False   \n",
       "link_score                                                         9   \n",
       "selftext                                                               \n",
       "title              Israel moves to toughen sentences for stone-th...   \n",
       "upvote_ratio                                                    0.84   \n",
       "link_ups                                                           9   \n",
       "link_created_time                                2015-05-31 23:29:11   \n",
       "\n",
       "                                                               45397  \\\n",
       "link_id                                                    t3_380ld3   \n",
       "url                http://www.timesofisrael.com/israels-army-skir...   \n",
       "num_comments                                                       6   \n",
       "over_18                                                        False   \n",
       "link_score                                                         0   \n",
       "selftext                                                               \n",
       "title              Israel's Army operating program to convert Jew...   \n",
       "upvote_ratio                                                    0.38   \n",
       "link_ups                                                           0   \n",
       "link_created_time                                2015-05-31 23:38:41   \n",
       "\n",
       "                                                               45398  \\\n",
       "link_id                                                    t3_380lty   \n",
       "url                http://time.com/3902702/us-college-student-isi...   \n",
       "num_comments                                                       5   \n",
       "over_18                                                        False   \n",
       "link_score                                                         8   \n",
       "selftext                                                               \n",
       "title              Hero Student Tries to Stop ISIS Attack in Saud...   \n",
       "upvote_ratio                                                    0.68   \n",
       "link_ups                                                           8   \n",
       "link_created_time                                2015-05-31 23:42:18   \n",
       "\n",
       "                                                               45399  \n",
       "link_id                                                    t3_380msc  \n",
       "url                http://www.healthy4u.net/2015/05/30/easy-diet-...  \n",
       "num_comments                                                       1  \n",
       "over_18                                                        False  \n",
       "link_score                                                         1  \n",
       "selftext                                                              \n",
       "title                                                      easy diet  \n",
       "upvote_ratio                                                       1  \n",
       "link_ups                                                           1  \n",
       "link_created_time                                2015-05-31 23:50:20  "
      ]
     },
     "execution_count": 26,
     "metadata": {},
     "output_type": "execute_result"
    }
   ],
   "source": [
    "dfl.tail().T"
   ]
  },
  {
   "cell_type": "code",
   "execution_count": 27,
   "metadata": {
    "ExecuteTime": {
     "end_time": "2018-12-05T22:54:09.176265Z",
     "start_time": "2018-12-05T22:54:07.848571Z"
    }
   },
   "outputs": [],
   "source": [
    "df = df.merge(dfl, on='link_id', how='left')\n",
    "# for some reason the join doesn't work\n",
    "# df = df.join(other=dfl, on='link_id', how='outer')"
   ]
  },
  {
   "cell_type": "code",
   "execution_count": 28,
   "metadata": {
    "ExecuteTime": {
     "end_time": "2018-12-05T22:54:09.183973Z",
     "start_time": "2018-12-05T22:54:09.179531Z"
    }
   },
   "outputs": [
    {
     "data": {
      "text/plain": [
       "(1372864, 24)"
      ]
     },
     "execution_count": 28,
     "metadata": {},
     "output_type": "execute_result"
    }
   ],
   "source": [
    "df.shape"
   ]
  },
  {
   "cell_type": "code",
   "execution_count": 29,
   "metadata": {
    "ExecuteTime": {
     "end_time": "2018-12-05T22:54:10.623405Z",
     "start_time": "2018-12-05T22:54:09.187339Z"
    }
   },
   "outputs": [
    {
     "data": {
      "text/plain": [
       "'0.9037070584606572 GB'"
      ]
     },
     "execution_count": 29,
     "metadata": {},
     "output_type": "execute_result"
    }
   ],
   "source": [
    "f\"{df.memory_usage(deep=True).sum() / 1023.0**3} GB\""
   ]
  },
  {
   "cell_type": "code",
   "execution_count": 4,
   "metadata": {
    "ExecuteTime": {
     "end_time": "2018-12-06T02:36:00.171826Z",
     "start_time": "2018-12-06T02:36:00.166662Z"
    }
   },
   "outputs": [],
   "source": [
    "def pd_to_dict(df, index='', column=''):\n",
    "    return pd.Series(df[column].values, index=df[index]).to_dict()"
   ]
  },
  {
   "cell_type": "code",
   "execution_count": 31,
   "metadata": {
    "ExecuteTime": {
     "end_time": "2018-12-05T22:54:10.651224Z",
     "start_time": "2018-12-05T22:54:10.632383Z"
    }
   },
   "outputs": [],
   "source": [
    "df['time_since_link'] = df.time - df.link_created_time"
   ]
  },
  {
   "cell_type": "code",
   "execution_count": 32,
   "metadata": {
    "ExecuteTime": {
     "end_time": "2018-12-05T22:54:26.896343Z",
     "start_time": "2018-12-05T22:54:10.654317Z"
    }
   },
   "outputs": [],
   "source": [
    "df.time_since_link = df.time_since_link.apply(lambda x: x.total_seconds())"
   ]
  },
  {
   "cell_type": "code",
   "execution_count": 33,
   "metadata": {
    "ExecuteTime": {
     "end_time": "2018-12-05T22:54:30.896203Z",
     "start_time": "2018-12-05T22:54:26.898663Z"
    }
   },
   "outputs": [],
   "source": [
    "comment_to_parent_dict = pd_to_dict(df[['name', 'parent_id']],\n",
    "                                    index='name', column='parent_id')\n",
    "\n",
    "def get_depth(x):\n",
    "    counter = 0\n",
    "    temp = x\n",
    "    while True:\n",
    "        if temp[:3] == 't3_':\n",
    "            return counter\n",
    "        try:\n",
    "            temp = comment_to_parent_dict[temp]\n",
    "        except KeyError:\n",
    "            return np.nan\n",
    "        counter += 1\n",
    "        \n",
    "df['depth'] = df['name'].apply(get_depth)"
   ]
  },
  {
   "cell_type": "markdown",
   "metadata": {},
   "source": [
    "Just keeping the domain"
   ]
  },
  {
   "cell_type": "code",
   "execution_count": 34,
   "metadata": {
    "ExecuteTime": {
     "end_time": "2018-12-05T22:54:40.023087Z",
     "start_time": "2018-12-05T22:54:30.898671Z"
    }
   },
   "outputs": [],
   "source": [
    "df['url'] = df.url.astype('str').apply(lambda x: urlparse(x)[1])\n",
    "dfl['url'] = dfl.url.astype('category')"
   ]
  },
  {
   "cell_type": "code",
   "execution_count": 35,
   "metadata": {
    "ExecuteTime": {
     "end_time": "2018-12-05T22:54:44.865837Z",
     "start_time": "2018-12-05T22:54:40.025103Z"
    }
   },
   "outputs": [],
   "source": [
    "df['linked_sr'] = df.body.apply(lambda x: re.findall(r\"/r/([^\\s/]+)\", x))\n",
    "df['body'] = df.body.apply(lambda x: re.sub(r\"(/r/[^\\s/]+)\", '', x))"
   ]
  },
  {
   "cell_type": "code",
   "execution_count": 36,
   "metadata": {
    "ExecuteTime": {
     "end_time": "2018-12-05T22:54:44.872375Z",
     "start_time": "2018-12-05T22:54:44.868915Z"
    }
   },
   "outputs": [],
   "source": [
    "regex = re.compile('[^a-zA-Z]')"
   ]
  },
  {
   "cell_type": "code",
   "execution_count": 37,
   "metadata": {
    "ExecuteTime": {
     "end_time": "2018-12-05T22:54:46.119611Z",
     "start_time": "2018-12-05T22:54:44.875086Z"
    }
   },
   "outputs": [],
   "source": [
    "df['linked_sr'] = df.linked_sr.apply(lambda x: [regex.sub('', i).lower() for i in x])"
   ]
  },
  {
   "cell_type": "code",
   "execution_count": 38,
   "metadata": {
    "ExecuteTime": {
     "end_time": "2018-12-05T22:54:59.539065Z",
     "start_time": "2018-12-05T22:54:46.121863Z"
    }
   },
   "outputs": [],
   "source": [
    "url_regex = r'http[s]?://(?:[a-zA-Z]|[0-9]|[$-_@.&+]|[!*\\(\\),]|(?:%[0-9a-fA-F][0-9a-fA-F]))+'\n",
    "\n",
    "def get_domains(x):\n",
    "    x = x.replace(' = ', '=')\n",
    "    x = x.replace(' : ', ':')\n",
    "    x = x.replace(' / ', '?')\n",
    "    urls = re.findall(url_regex, x)\n",
    "    try:\n",
    "        domain_names = [urlparse(url)[1] for url in urls]\n",
    "    except:\n",
    "        return []\n",
    "    return domain_names\n",
    "\n",
    "def remove_urls(x):\n",
    "    x = x.replace(' = ', '=')\n",
    "    x = x.replace(' : ', ':')\n",
    "    x = x.replace(' / ', '?')\n",
    "    return re.sub(url_regex, '', x)\n",
    "\n",
    "\n",
    "df['linked_urls'] = df.body.apply(lambda x: get_domains(x))\n",
    "df['body'] = df.body.apply(lambda x: remove_urls(x))"
   ]
  },
  {
   "cell_type": "code",
   "execution_count": 39,
   "metadata": {
    "ExecuteTime": {
     "end_time": "2018-12-05T22:55:01.054437Z",
     "start_time": "2018-12-05T22:54:59.542407Z"
    }
   },
   "outputs": [],
   "source": [
    "df['no_of_linked_sr'] = df['linked_sr'].apply(lambda x: len(x))\n",
    "df['no_of_linked_urls'] = df['linked_urls'].apply(lambda x: len(x))"
   ]
  },
  {
   "cell_type": "code",
   "execution_count": 40,
   "metadata": {
    "ExecuteTime": {
     "end_time": "2018-12-05T22:55:02.364326Z",
     "start_time": "2018-12-05T22:55:01.056788Z"
    }
   },
   "outputs": [],
   "source": [
    "top_url_links = []\n",
    "\n",
    "for sub in df.subreddit.unique():\n",
    "    all_linked_urls = []\n",
    "    for l in df[df.subreddit == sub].linked_urls.values:\n",
    "        all_linked_urls += l\n",
    "\n",
    "    top_url_links += Counter(all_linked_urls).most_common(5)\n",
    "\n",
    "allowed_urls = list(set([i[0] for i in top_url_links]))"
   ]
  },
  {
   "cell_type": "code",
   "execution_count": 41,
   "metadata": {
    "ExecuteTime": {
     "end_time": "2018-12-05T22:55:02.882604Z",
     "start_time": "2018-12-05T22:55:02.366685Z"
    }
   },
   "outputs": [],
   "source": [
    "top_sr_links = []\n",
    "\n",
    "for sub in df.subreddit.unique():\n",
    "    all_linked_sr = []\n",
    "    for l in df[df.subreddit == sub].linked_sr.values:\n",
    "        all_linked_sr += l\n",
    "\n",
    "    top_sr_links += Counter(all_linked_sr).most_common(5)\n",
    "\n",
    "allowed_sr = list(set([i[0] for i in top_sr_links]))"
   ]
  },
  {
   "cell_type": "code",
   "execution_count": 42,
   "metadata": {
    "ExecuteTime": {
     "end_time": "2018-12-05T22:55:05.161046Z",
     "start_time": "2018-12-05T22:55:02.886012Z"
    }
   },
   "outputs": [],
   "source": [
    "def remove_sr(x):\n",
    "    y = []\n",
    "    for i in x:\n",
    "        if i in allowed_sr:\n",
    "            y += [i]\n",
    "    return y\n",
    "\n",
    "def remove_urls(x):\n",
    "    y = []\n",
    "    for i in x:\n",
    "        if i in allowed_urls:\n",
    "            y += [i]\n",
    "    return y\n",
    "\n",
    "df['a_linked_urls'] = df['linked_urls'].apply(lambda x: remove_urls(x))\n",
    "df['a_linked_sr'] = df['linked_sr'].apply(lambda x: remove_sr(x))"
   ]
  },
  {
   "cell_type": "code",
   "execution_count": 43,
   "metadata": {
    "ExecuteTime": {
     "end_time": "2018-12-05T22:55:07.505491Z",
     "start_time": "2018-12-05T22:55:05.163435Z"
    }
   },
   "outputs": [],
   "source": [
    "comment_to_score = pd_to_dict(df[['name', 'score']],\n",
    "                              index='name', column='score')\n",
    "\n",
    "def get_score(x):\n",
    "    try:\n",
    "        return comment_to_score[x]\n",
    "    except:\n",
    "        return np.nan\n",
    "\n",
    "df['parent_score'] = df.parent_id.apply(lambda x: get_score(x))\n",
    "imp_val = df.parent_score.median()\n",
    "df.parent_score.fillna(imp_val, inplace=True)"
   ]
  },
  {
   "cell_type": "code",
   "execution_count": 44,
   "metadata": {
    "ExecuteTime": {
     "end_time": "2018-12-05T22:55:07.512644Z",
     "start_time": "2018-12-05T22:55:07.507741Z"
    }
   },
   "outputs": [],
   "source": [
    "def get_comment_tree_root(x):\n",
    "    if comment_to_parent_dict[x][:3] == 't3_':\n",
    "        return x\n",
    "    try:\n",
    "        return get_comment_tree_root(comment_to_parent_dict[x])\n",
    "    except KeyError:\n",
    "        return np.nan"
   ]
  },
  {
   "cell_type": "code",
   "execution_count": 45,
   "metadata": {
    "ExecuteTime": {
     "end_time": "2018-12-05T22:55:10.274560Z",
     "start_time": "2018-12-05T22:55:07.515839Z"
    }
   },
   "outputs": [],
   "source": [
    "df['comment_tree_root_id'] = df.name.apply(get_comment_tree_root)"
   ]
  },
  {
   "cell_type": "code",
   "execution_count": 46,
   "metadata": {
    "ExecuteTime": {
     "end_time": "2018-12-05T22:55:11.332193Z",
     "start_time": "2018-12-05T22:55:10.276739Z"
    }
   },
   "outputs": [],
   "source": [
    "df['comment_tree_root_score'] = df.comment_tree_root_id.apply(lambda x: get_score(x))"
   ]
  },
  {
   "cell_type": "code",
   "execution_count": 47,
   "metadata": {
    "ExecuteTime": {
     "end_time": "2018-12-05T22:55:19.125461Z",
     "start_time": "2018-12-05T22:55:11.337223Z"
    }
   },
   "outputs": [],
   "source": [
    "comment_to_time = pd_to_dict(df[['name', 'time']],\n",
    "                              index='name', column='time')\n",
    "\n",
    "def get_time(x):\n",
    "    try:\n",
    "        return comment_to_time[x]\n",
    "    except:\n",
    "        return np.nan"
   ]
  },
  {
   "cell_type": "code",
   "execution_count": 48,
   "metadata": {
    "ExecuteTime": {
     "end_time": "2018-12-05T22:55:20.099896Z",
     "start_time": "2018-12-05T22:55:19.127750Z"
    }
   },
   "outputs": [],
   "source": [
    "df['time_since_comment_tree_root'] = df.time - df.comment_tree_root_id.apply(get_time)"
   ]
  },
  {
   "cell_type": "code",
   "execution_count": 49,
   "metadata": {
    "ExecuteTime": {
     "end_time": "2018-12-05T22:55:35.159653Z",
     "start_time": "2018-12-05T22:55:20.102149Z"
    }
   },
   "outputs": [],
   "source": [
    "df.time_since_comment_tree_root = df.time_since_comment_tree_root.apply(lambda x: x.total_seconds())"
   ]
  },
  {
   "cell_type": "code",
   "execution_count": 50,
   "metadata": {
    "ExecuteTime": {
     "end_time": "2018-12-05T22:55:36.655687Z",
     "start_time": "2018-12-05T22:55:35.161956Z"
    }
   },
   "outputs": [],
   "source": [
    "df['subjectivity'] = df['body'].str.count('I ')"
   ]
  },
  {
   "cell_type": "code",
   "execution_count": 51,
   "metadata": {
    "ExecuteTime": {
     "end_time": "2018-12-05T22:55:37.002787Z",
     "start_time": "2018-12-05T22:55:36.657839Z"
    }
   },
   "outputs": [],
   "source": [
    "df['is_edited'] = df.edited.apply(lambda x: x > 0)"
   ]
  },
  {
   "cell_type": "code",
   "execution_count": 52,
   "metadata": {
    "ExecuteTime": {
     "end_time": "2018-12-05T22:55:37.266158Z",
     "start_time": "2018-12-05T22:55:37.004790Z"
    }
   },
   "outputs": [],
   "source": [
    "from vaderSentiment.vaderSentiment import SentimentIntensityAnalyzer\n",
    "analyser = SentimentIntensityAnalyzer()"
   ]
  },
  {
   "cell_type": "code",
   "execution_count": 53,
   "metadata": {
    "ExecuteTime": {
     "end_time": "2018-12-05T22:55:37.272436Z",
     "start_time": "2018-12-05T22:55:37.269092Z"
    }
   },
   "outputs": [],
   "source": [
    "def get_sentiment(x):\n",
    "    return analyser.polarity_scores(x)"
   ]
  },
  {
   "cell_type": "code",
   "execution_count": 5,
   "metadata": {
    "ExecuteTime": {
     "end_time": "2018-12-06T02:36:09.791190Z",
     "start_time": "2018-12-06T02:36:09.787008Z"
    }
   },
   "outputs": [],
   "source": [
    "from multiprocessing import Pool\n",
    "\n",
    "num_partitions = 100\n",
    "num_cores = 6\n",
    "\n",
    "def parallelize_dataframe(df, func):\n",
    "    df_split = np.array_split(df, num_partitions)\n",
    "    pool = Pool(num_cores)\n",
    "    df = pd.concat(pool.map(func, df_split))\n",
    "    pool.close()\n",
    "    pool.join()\n",
    "    return df"
   ]
  },
  {
   "cell_type": "code",
   "execution_count": 55,
   "metadata": {
    "ExecuteTime": {
     "end_time": "2018-12-05T23:01:02.514328Z",
     "start_time": "2018-12-05T22:55:37.282481Z"
    }
   },
   "outputs": [],
   "source": [
    "def wrapper_get_sentiment(df):\n",
    "    df['sentiment'] = df['body'].apply(get_sentiment)\n",
    "    return df\n",
    "\n",
    "sentiment = parallelize_dataframe(df['body'].to_frame(), wrapper_get_sentiment)\n",
    "\n",
    "df['senti_neg'] = sentiment['sentiment'].apply(lambda x: x['neg'])\n",
    "df['senti_neu'] = sentiment['sentiment'].apply(lambda x: x['neu'])\n",
    "df['senti_pos'] = sentiment['sentiment'].apply(lambda x: x['pos'])\n",
    "df['senti_comp'] = sentiment['sentiment'].apply(lambda x: x['compound'])\n",
    "\n",
    "del sentiment"
   ]
  },
  {
   "cell_type": "code",
   "execution_count": 6,
   "metadata": {
    "ExecuteTime": {
     "end_time": "2018-12-06T02:36:17.429059Z",
     "start_time": "2018-12-06T02:36:17.388387Z"
    }
   },
   "outputs": [
    {
     "data": {
      "text/plain": [
       "0"
      ]
     },
     "execution_count": 6,
     "metadata": {},
     "output_type": "execute_result"
    }
   ],
   "source": [
    "gc.collect()"
   ]
  },
  {
   "cell_type": "code",
   "execution_count": 57,
   "metadata": {
    "ExecuteTime": {
     "end_time": "2018-12-05T23:01:21.645459Z",
     "start_time": "2018-12-05T23:01:03.204394Z"
    }
   },
   "outputs": [],
   "source": [
    "df['is_quoted'] = df.body.str.contains('&gt;')\n",
    "df['no_quoted'] = df.body.str.count('&gt;')\n",
    "df['time_since_parent'] = df.parent_id.apply(get_time)\n",
    "df.loc[df.time_since_parent.isna(), 'time_since_parent'] = df.time\n",
    "df.time_since_parent = df.time - df.time_since_parent\n",
    "df.time_since_parent = df.time_since_parent.apply(lambda x: x.total_seconds())"
   ]
  },
  {
   "cell_type": "code",
   "execution_count": 58,
   "metadata": {
    "ExecuteTime": {
     "end_time": "2018-12-05T23:01:22.259142Z",
     "start_time": "2018-12-05T23:01:21.647846Z"
    }
   },
   "outputs": [],
   "source": [
    "df['is_root'] = df.parent_id.str.startswith('t3_')"
   ]
  },
  {
   "cell_type": "code",
   "execution_count": 59,
   "metadata": {
    "ExecuteTime": {
     "end_time": "2018-12-05T23:01:22.278334Z",
     "start_time": "2018-12-05T23:01:22.261641Z"
    }
   },
   "outputs": [],
   "source": [
    "df['is_selftext'] = df.selftext.str.len() > 1"
   ]
  },
  {
   "cell_type": "code",
   "execution_count": 60,
   "metadata": {
    "ExecuteTime": {
     "end_time": "2018-12-05T23:01:22.284430Z",
     "start_time": "2018-12-05T23:01:22.280535Z"
    }
   },
   "outputs": [
    {
     "data": {
      "text/plain": [
       "(1372864, 47)"
      ]
     },
     "execution_count": 60,
     "metadata": {},
     "output_type": "execute_result"
    }
   ],
   "source": [
    "df.shape"
   ]
  },
  {
   "cell_type": "code",
   "execution_count": 61,
   "metadata": {
    "ExecuteTime": {
     "end_time": "2018-12-05T23:01:25.220816Z",
     "start_time": "2018-12-05T23:01:22.286856Z"
    }
   },
   "outputs": [],
   "source": [
    "def get_word_count(df):\n",
    "    df['word_count'] = df['body'].apply(lambda x: len(x.split()))\n",
    "    return df\n",
    "\n",
    "word_counts = parallelize_dataframe(df['body'].to_frame(), get_word_count)\n",
    "df['word_counts'] = word_counts.word_count\n",
    "\n",
    "del word_counts"
   ]
  },
  {
   "cell_type": "code",
   "execution_count": 62,
   "metadata": {
    "ExecuteTime": {
     "end_time": "2018-12-05T23:01:25.289046Z",
     "start_time": "2018-12-05T23:01:25.224547Z"
    }
   },
   "outputs": [],
   "source": [
    "df['epoch_time'] = df.time.astype(np.int64) // 10**9"
   ]
  },
  {
   "cell_type": "code",
   "execution_count": 63,
   "metadata": {
    "ExecuteTime": {
     "end_time": "2018-12-05T23:01:25.985463Z",
     "start_time": "2018-12-05T23:01:25.291570Z"
    }
   },
   "outputs": [
    {
     "data": {
      "text/plain": [
       "21"
      ]
     },
     "execution_count": 63,
     "metadata": {},
     "output_type": "execute_result"
    }
   ],
   "source": [
    "import gc\n",
    "gc.collect()"
   ]
  },
  {
   "cell_type": "code",
   "execution_count": 7,
   "metadata": {
    "ExecuteTime": {
     "end_time": "2018-12-05T23:52:39.633524Z",
     "start_time": "2018-12-05T23:52:31.855949Z"
    }
   },
   "outputs": [],
   "source": [
    "# df.to_pickle('Temp1.pkl')\n",
    "df = pd.read_pickle('Temp1.pkl')"
   ]
  },
  {
   "cell_type": "code",
   "execution_count": 117,
   "metadata": {
    "ExecuteTime": {
     "end_time": "2018-12-06T06:35:21.761129Z",
     "start_time": "2018-12-06T06:35:21.753486Z"
    }
   },
   "outputs": [],
   "source": [
    "def get_past_stats_dict(lid):\n",
    "    dfs = df[df.link_id == lid][['time', 'score', 'name']]\n",
    "    dfs = dfs.sort_values(by='time', ascending=True).reset_index(drop=True)\n",
    "    dfs.reset_index(inplace=True)\n",
    "    t_dict = pd.DataFrame(data=dfs[['index', 'score']].values,\n",
    "                        index=dfs['name'].values,\n",
    "                        columns=['no_of_comments', 'score']).to_dict('index')\n",
    "    return t_dict"
   ]
  },
  {
   "cell_type": "code",
   "execution_count": 43,
   "metadata": {
    "ExecuteTime": {
     "end_time": "2018-12-06T02:03:07.603789Z",
     "start_time": "2018-12-06T02:03:07.600917Z"
    }
   },
   "outputs": [],
   "source": [
    "pool = Pool(num_cores)\n",
    "list_dicts = pool.map(get_past_stats_dict, df.link_id.unique())"
   ]
  },
  {
   "cell_type": "code",
   "execution_count": 24,
   "metadata": {
    "ExecuteTime": {
     "end_time": "2018-12-06T00:57:09.787165Z",
     "start_time": "2018-12-06T00:57:09.771716Z"
    }
   },
   "outputs": [
    {
     "data": {
      "text/plain": [
       "46546"
      ]
     },
     "execution_count": 24,
     "metadata": {},
     "output_type": "execute_result"
    }
   ],
   "source": [
    "len(list_dicts)"
   ]
  },
  {
   "cell_type": "code",
   "execution_count": 25,
   "metadata": {
    "ExecuteTime": {
     "end_time": "2018-12-06T00:57:26.161351Z",
     "start_time": "2018-12-06T00:57:26.057839Z"
    }
   },
   "outputs": [
    {
     "data": {
      "text/plain": [
       "(46546,)"
      ]
     },
     "execution_count": 25,
     "metadata": {},
     "output_type": "execute_result"
    }
   ],
   "source": [
    "df.link_id.unique().shape"
   ]
  },
  {
   "cell_type": "code",
   "execution_count": 33,
   "metadata": {
    "ExecuteTime": {
     "end_time": "2018-12-06T01:57:31.575716Z",
     "start_time": "2018-12-06T01:57:31.570581Z"
    }
   },
   "outputs": [],
   "source": [
    "from collections import ChainMap\n",
    "# y = dict(ChainMap(*list_dicts))"
   ]
  },
  {
   "cell_type": "code",
   "execution_count": 40,
   "metadata": {
    "ExecuteTime": {
     "end_time": "2018-12-06T02:01:34.858492Z",
     "start_time": "2018-12-06T02:00:50.012758Z"
    }
   },
   "outputs": [],
   "source": [
    "y = pd.concat([pd.DataFrame.from_dict(d, orient='index') for d in list_dicts])"
   ]
  },
  {
   "cell_type": "code",
   "execution_count": 41,
   "metadata": {
    "ExecuteTime": {
     "end_time": "2018-12-06T02:01:34.866471Z",
     "start_time": "2018-12-06T02:01:34.861905Z"
    }
   },
   "outputs": [
    {
     "data": {
      "text/plain": [
       "(1372864, 2)"
      ]
     },
     "execution_count": 41,
     "metadata": {},
     "output_type": "execute_result"
    }
   ],
   "source": [
    "y.shape"
   ]
  },
  {
   "cell_type": "code",
   "execution_count": 45,
   "metadata": {
    "ExecuteTime": {
     "end_time": "2018-12-06T02:06:01.951905Z",
     "start_time": "2018-12-06T02:05:33.276840Z"
    }
   },
   "outputs": [],
   "source": [
    "y = y.to_dict('index')"
   ]
  },
  {
   "cell_type": "code",
   "execution_count": 46,
   "metadata": {
    "ExecuteTime": {
     "end_time": "2018-12-06T02:06:46.019602Z",
     "start_time": "2018-12-06T02:06:46.008501Z"
    }
   },
   "outputs": [
    {
     "data": {
      "text/plain": [
       "5"
      ]
     },
     "execution_count": 46,
     "metadata": {},
     "output_type": "execute_result"
    }
   ],
   "source": [
    "y['t1_cr0uefd']['no_of_comments']"
   ]
  },
  {
   "cell_type": "code",
   "execution_count": 47,
   "metadata": {
    "ExecuteTime": {
     "end_time": "2018-12-06T02:06:53.867166Z",
     "start_time": "2018-12-06T02:06:52.582829Z"
    }
   },
   "outputs": [],
   "source": [
    "df['no_of_past_comments'] = df.name.apply(lambda x: y[x]['no_of_comments'])"
   ]
  },
  {
   "cell_type": "code",
   "execution_count": 48,
   "metadata": {
    "ExecuteTime": {
     "end_time": "2018-12-06T02:07:17.372639Z",
     "start_time": "2018-12-06T02:07:16.194264Z"
    }
   },
   "outputs": [],
   "source": [
    "df['score_till_now'] = df.name.apply(lambda x: y[x]['score'])"
   ]
  },
  {
   "cell_type": "markdown",
   "metadata": {},
   "source": [
    "Using Pandas `.query` method for high performance subsetting.\n",
    "check [this out](https://jakevdp.github.io/PythonDataScienceHandbook/03.12-performance-eval-and-query.html)"
   ]
  },
  {
   "cell_type": "code",
   "execution_count": 49,
   "metadata": {
    "ExecuteTime": {
     "end_time": "2018-12-06T02:07:21.014720Z",
     "start_time": "2018-12-06T02:07:21.008005Z"
    }
   },
   "outputs": [],
   "source": [
    "# dfc = df[['link_id', 'time']].copy(deep=True)"
   ]
  },
  {
   "cell_type": "code",
   "execution_count": 50,
   "metadata": {
    "ExecuteTime": {
     "end_time": "2018-12-06T02:07:25.584313Z",
     "start_time": "2018-12-06T02:07:25.581160Z"
    }
   },
   "outputs": [],
   "source": [
    "# dfc.set_index(['link_id', 'time'], inplace=True)"
   ]
  },
  {
   "cell_type": "code",
   "execution_count": 51,
   "metadata": {
    "ExecuteTime": {
     "end_time": "2018-12-06T02:07:39.446041Z",
     "start_time": "2018-12-06T02:07:39.442570Z"
    }
   },
   "outputs": [],
   "source": [
    "# def get_past_stats(x):\n",
    "#     lid, t = x.split('|')\n",
    "#     # return dfc.query(f\"link_id == '{lid}' and time < '{t}'\").shape[0]\n",
    "#     no_of_cmnts = temp.shape[0]\n",
    "#     score = temp['score'].sum()\n",
    "#     p = temp.query('score >= 0')['score'].sum()\n",
    "#     n = abs(temp.query('score < 0')['score'].sum())\n",
    "#     if not (p == 0 and n == 0):\n",
    "#         up_ratio = p / (p + n)\n",
    "#     else:\n",
    "#         up_ratio = 1\n",
    "#     return no_of_cmnts, score, up_ratio"
   ]
  },
  {
   "cell_type": "code",
   "execution_count": 52,
   "metadata": {
    "ExecuteTime": {
     "end_time": "2018-12-06T02:07:41.741473Z",
     "start_time": "2018-12-06T02:07:41.735086Z"
    }
   },
   "outputs": [],
   "source": [
    "#dft = pd.DataFrame(df.link_id + '|' + df.time.map(str), columns=['temp_id'])"
   ]
  },
  {
   "cell_type": "code",
   "execution_count": 53,
   "metadata": {
    "ExecuteTime": {
     "end_time": "2018-12-06T02:07:54.007318Z",
     "start_time": "2018-12-06T02:07:54.001678Z"
    }
   },
   "outputs": [],
   "source": [
    "# def wrapper_past_stats(df):\n",
    "#     df['pat_stats'] = df['temp_id'].apply(get_past_stats)\n",
    "#     return df"
   ]
  },
  {
   "cell_type": "code",
   "execution_count": 54,
   "metadata": {
    "ExecuteTime": {
     "end_time": "2018-12-06T02:07:57.989626Z",
     "start_time": "2018-12-06T02:07:57.986346Z"
    }
   },
   "outputs": [],
   "source": [
    "# parallelize_dataframe(dft, wrapper_past_stats)"
   ]
  },
  {
   "cell_type": "code",
   "execution_count": 55,
   "metadata": {
    "ExecuteTime": {
     "end_time": "2018-12-06T02:08:02.917109Z",
     "start_time": "2018-12-06T02:08:02.538732Z"
    }
   },
   "outputs": [
    {
     "data": {
      "text/plain": [
       "75"
      ]
     },
     "execution_count": 55,
     "metadata": {},
     "output_type": "execute_result"
    }
   ],
   "source": [
    "gc.collect()"
   ]
  },
  {
   "cell_type": "code",
   "execution_count": 27,
   "metadata": {
    "ExecuteTime": {
     "end_time": "2018-12-06T02:45:35.745018Z",
     "start_time": "2018-12-06T02:45:30.128936Z"
    }
   },
   "outputs": [],
   "source": [
    "# df.to_pickle('Data/Temp4.pkl')\n",
    "df = pd.read_pickle('Data/Temp4.pkl')"
   ]
  },
  {
   "cell_type": "code",
   "execution_count": 28,
   "metadata": {
    "ExecuteTime": {
     "end_time": "2018-12-06T02:45:35.811325Z",
     "start_time": "2018-12-06T02:45:35.750730Z"
    }
   },
   "outputs": [
    {
     "data": {
      "text/html": [
       "<div>\n",
       "<style scoped>\n",
       "    .dataframe tbody tr th:only-of-type {\n",
       "        vertical-align: middle;\n",
       "    }\n",
       "\n",
       "    .dataframe tbody tr th {\n",
       "        vertical-align: top;\n",
       "    }\n",
       "\n",
       "    .dataframe thead th {\n",
       "        text-align: right;\n",
       "    }\n",
       "</style>\n",
       "<table border=\"1\" class=\"dataframe\">\n",
       "  <thead>\n",
       "    <tr style=\"text-align: right;\">\n",
       "      <th></th>\n",
       "      <th>1372859</th>\n",
       "      <th>1372860</th>\n",
       "      <th>1372861</th>\n",
       "      <th>1372862</th>\n",
       "      <th>1372863</th>\n",
       "    </tr>\n",
       "  </thead>\n",
       "  <tbody>\n",
       "    <tr>\n",
       "      <th>ups</th>\n",
       "      <td>1</td>\n",
       "      <td>1</td>\n",
       "      <td>170</td>\n",
       "      <td>9</td>\n",
       "      <td>37</td>\n",
       "    </tr>\n",
       "    <tr>\n",
       "      <th>link_id</th>\n",
       "      <td>t3_37z0mw</td>\n",
       "      <td>t3_37z0mw</td>\n",
       "      <td>t3_37zl5z</td>\n",
       "      <td>t3_380j06</td>\n",
       "      <td>t3_37z0mw</td>\n",
       "    </tr>\n",
       "    <tr>\n",
       "      <th>name</th>\n",
       "      <td>t1_crrbebf</td>\n",
       "      <td>t1_crrbecs</td>\n",
       "      <td>t1_crrbedn</td>\n",
       "      <td>t1_crrbefm</td>\n",
       "      <td>t1_crrbeft</td>\n",
       "    </tr>\n",
       "    <tr>\n",
       "      <th>subreddit</th>\n",
       "      <td>worldnews</td>\n",
       "      <td>worldnews</td>\n",
       "      <td>worldnews</td>\n",
       "      <td>worldnews</td>\n",
       "      <td>worldnews</td>\n",
       "    </tr>\n",
       "    <tr>\n",
       "      <th>gilded</th>\n",
       "      <td>0</td>\n",
       "      <td>0</td>\n",
       "      <td>0</td>\n",
       "      <td>0</td>\n",
       "      <td>0</td>\n",
       "    </tr>\n",
       "    <tr>\n",
       "      <th>score</th>\n",
       "      <td>1</td>\n",
       "      <td>1</td>\n",
       "      <td>170</td>\n",
       "      <td>9</td>\n",
       "      <td>37</td>\n",
       "    </tr>\n",
       "    <tr>\n",
       "      <th>retrieved_on</th>\n",
       "      <td>1433505915</td>\n",
       "      <td>1433505915</td>\n",
       "      <td>1433505916</td>\n",
       "      <td>1433505916</td>\n",
       "      <td>1433505916</td>\n",
       "    </tr>\n",
       "    <tr>\n",
       "      <th>body</th>\n",
       "      <td>The key there is \"unless they're sociopaths\". ...</td>\n",
       "      <td>Pretty sure they don't just behead people outr...</td>\n",
       "      <td>Because it's not typically done to babies. It'...</td>\n",
       "      <td>&amp;gt; Nothing they are doing is illegal under i...</td>\n",
       "      <td>Apart from the risk of inhalation pneumonia.</td>\n",
       "    </tr>\n",
       "    <tr>\n",
       "      <th>distinguished</th>\n",
       "      <td>NaN</td>\n",
       "      <td>NaN</td>\n",
       "      <td>NaN</td>\n",
       "      <td>NaN</td>\n",
       "      <td>NaN</td>\n",
       "    </tr>\n",
       "    <tr>\n",
       "      <th>edited</th>\n",
       "      <td>0</td>\n",
       "      <td>0</td>\n",
       "      <td>0</td>\n",
       "      <td>0</td>\n",
       "      <td>0</td>\n",
       "    </tr>\n",
       "    <tr>\n",
       "      <th>controversiality</th>\n",
       "      <td>0</td>\n",
       "      <td>0</td>\n",
       "      <td>0</td>\n",
       "      <td>0</td>\n",
       "      <td>0</td>\n",
       "    </tr>\n",
       "    <tr>\n",
       "      <th>parent_id</th>\n",
       "      <td>t1_crr9oyk</td>\n",
       "      <td>t1_crraioh</td>\n",
       "      <td>t1_crrax76</td>\n",
       "      <td>t1_crrb19g</td>\n",
       "      <td>t1_crrb2cx</td>\n",
       "    </tr>\n",
       "    <tr>\n",
       "      <th>is_flair</th>\n",
       "      <td>False</td>\n",
       "      <td>False</td>\n",
       "      <td>False</td>\n",
       "      <td>False</td>\n",
       "      <td>False</td>\n",
       "    </tr>\n",
       "    <tr>\n",
       "      <th>is_flair_css</th>\n",
       "      <td>False</td>\n",
       "      <td>False</td>\n",
       "      <td>False</td>\n",
       "      <td>False</td>\n",
       "      <td>False</td>\n",
       "    </tr>\n",
       "    <tr>\n",
       "      <th>time</th>\n",
       "      <td>2015-05-31 23:59:38</td>\n",
       "      <td>2015-05-31 23:59:40</td>\n",
       "      <td>2015-05-31 23:59:41</td>\n",
       "      <td>2015-05-31 23:59:44</td>\n",
       "      <td>2015-05-31 23:59:45</td>\n",
       "    </tr>\n",
       "    <tr>\n",
       "      <th>url</th>\n",
       "      <td>www.telesurtv.net</td>\n",
       "      <td>www.telesurtv.net</td>\n",
       "      <td>mediablackoutusa.com</td>\n",
       "      <td>www.yahoo.com</td>\n",
       "      <td>www.telesurtv.net</td>\n",
       "    </tr>\n",
       "    <tr>\n",
       "      <th>num_comments</th>\n",
       "      <td>2162</td>\n",
       "      <td>2162</td>\n",
       "      <td>2686</td>\n",
       "      <td>10</td>\n",
       "      <td>2162</td>\n",
       "    </tr>\n",
       "    <tr>\n",
       "      <th>over_18</th>\n",
       "      <td>False</td>\n",
       "      <td>False</td>\n",
       "      <td>False</td>\n",
       "      <td>False</td>\n",
       "      <td>False</td>\n",
       "    </tr>\n",
       "    <tr>\n",
       "      <th>link_score</th>\n",
       "      <td>10279</td>\n",
       "      <td>10279</td>\n",
       "      <td>24122</td>\n",
       "      <td>9</td>\n",
       "      <td>10279</td>\n",
       "    </tr>\n",
       "    <tr>\n",
       "      <th>selftext</th>\n",
       "      <td></td>\n",
       "      <td></td>\n",
       "      <td></td>\n",
       "      <td></td>\n",
       "      <td></td>\n",
       "    </tr>\n",
       "    <tr>\n",
       "      <th>title</th>\n",
       "      <td>Obama Ordered to Release Guantanamo Force-Feed...</td>\n",
       "      <td>Obama Ordered to Release Guantanamo Force-Feed...</td>\n",
       "      <td>Nigeria Outlaws Female Genital Mutilation</td>\n",
       "      <td>US hits out at China over sea reclamation, vow...</td>\n",
       "      <td>Obama Ordered to Release Guantanamo Force-Feed...</td>\n",
       "    </tr>\n",
       "    <tr>\n",
       "      <th>upvote_ratio</th>\n",
       "      <td>0.92</td>\n",
       "      <td>0.92</td>\n",
       "      <td>0.94</td>\n",
       "      <td>0.62</td>\n",
       "      <td>0.92</td>\n",
       "    </tr>\n",
       "    <tr>\n",
       "      <th>link_ups</th>\n",
       "      <td>10279</td>\n",
       "      <td>10279</td>\n",
       "      <td>24122</td>\n",
       "      <td>9</td>\n",
       "      <td>10279</td>\n",
       "    </tr>\n",
       "    <tr>\n",
       "      <th>link_created_time</th>\n",
       "      <td>2015-05-31 16:35:54</td>\n",
       "      <td>2015-05-31 16:35:54</td>\n",
       "      <td>2015-05-31 19:09:54</td>\n",
       "      <td>2015-05-31 23:19:50</td>\n",
       "      <td>2015-05-31 16:35:54</td>\n",
       "    </tr>\n",
       "    <tr>\n",
       "      <th>time_since_link</th>\n",
       "      <td>26624</td>\n",
       "      <td>26626</td>\n",
       "      <td>17387</td>\n",
       "      <td>2394</td>\n",
       "      <td>26631</td>\n",
       "    </tr>\n",
       "    <tr>\n",
       "      <th>depth</th>\n",
       "      <td>6</td>\n",
       "      <td>2</td>\n",
       "      <td>4</td>\n",
       "      <td>2</td>\n",
       "      <td>6</td>\n",
       "    </tr>\n",
       "    <tr>\n",
       "      <th>linked_sr</th>\n",
       "      <td>[]</td>\n",
       "      <td>[]</td>\n",
       "      <td>[]</td>\n",
       "      <td>[]</td>\n",
       "      <td>[]</td>\n",
       "    </tr>\n",
       "    <tr>\n",
       "      <th>linked_urls</th>\n",
       "      <td>[]</td>\n",
       "      <td>[]</td>\n",
       "      <td>[]</td>\n",
       "      <td>[]</td>\n",
       "      <td>[]</td>\n",
       "    </tr>\n",
       "    <tr>\n",
       "      <th>no_of_linked_sr</th>\n",
       "      <td>0</td>\n",
       "      <td>0</td>\n",
       "      <td>0</td>\n",
       "      <td>0</td>\n",
       "      <td>0</td>\n",
       "    </tr>\n",
       "    <tr>\n",
       "      <th>no_of_linked_urls</th>\n",
       "      <td>0</td>\n",
       "      <td>0</td>\n",
       "      <td>0</td>\n",
       "      <td>0</td>\n",
       "      <td>0</td>\n",
       "    </tr>\n",
       "    <tr>\n",
       "      <th>a_linked_urls</th>\n",
       "      <td>[]</td>\n",
       "      <td>[]</td>\n",
       "      <td>[]</td>\n",
       "      <td>[]</td>\n",
       "      <td>[]</td>\n",
       "    </tr>\n",
       "    <tr>\n",
       "      <th>a_linked_sr</th>\n",
       "      <td>[]</td>\n",
       "      <td>[]</td>\n",
       "      <td>[]</td>\n",
       "      <td>[]</td>\n",
       "      <td>[]</td>\n",
       "    </tr>\n",
       "    <tr>\n",
       "      <th>parent_score</th>\n",
       "      <td>32</td>\n",
       "      <td>-2</td>\n",
       "      <td>60</td>\n",
       "      <td>-7</td>\n",
       "      <td>72</td>\n",
       "    </tr>\n",
       "    <tr>\n",
       "      <th>comment_tree_root_id</th>\n",
       "      <td>t1_crqyt35</td>\n",
       "      <td>t1_crraioh</td>\n",
       "      <td>t1_crr8wss</td>\n",
       "      <td>t1_crrb19g</td>\n",
       "      <td>t1_crqzs3o</td>\n",
       "    </tr>\n",
       "    <tr>\n",
       "      <th>comment_tree_root_score</th>\n",
       "      <td>455</td>\n",
       "      <td>-2</td>\n",
       "      <td>65</td>\n",
       "      <td>-7</td>\n",
       "      <td>1231</td>\n",
       "    </tr>\n",
       "    <tr>\n",
       "      <th>time_since_comment_tree_root</th>\n",
       "      <td>23900</td>\n",
       "      <td>1675</td>\n",
       "      <td>4899</td>\n",
       "      <td>696</td>\n",
       "      <td>22067</td>\n",
       "    </tr>\n",
       "    <tr>\n",
       "      <th>subjectivity</th>\n",
       "      <td>0</td>\n",
       "      <td>2</td>\n",
       "      <td>0</td>\n",
       "      <td>0</td>\n",
       "      <td>0</td>\n",
       "    </tr>\n",
       "    <tr>\n",
       "      <th>is_edited</th>\n",
       "      <td>False</td>\n",
       "      <td>False</td>\n",
       "      <td>False</td>\n",
       "      <td>False</td>\n",
       "      <td>False</td>\n",
       "    </tr>\n",
       "    <tr>\n",
       "      <th>senti_neg</th>\n",
       "      <td>0.104</td>\n",
       "      <td>0.195</td>\n",
       "      <td>0.131</td>\n",
       "      <td>0.148</td>\n",
       "      <td>0.259</td>\n",
       "    </tr>\n",
       "    <tr>\n",
       "      <th>senti_neu</th>\n",
       "      <td>0.896</td>\n",
       "      <td>0.663</td>\n",
       "      <td>0.836</td>\n",
       "      <td>0.767</td>\n",
       "      <td>0.741</td>\n",
       "    </tr>\n",
       "    <tr>\n",
       "      <th>senti_pos</th>\n",
       "      <td>0</td>\n",
       "      <td>0.142</td>\n",
       "      <td>0.033</td>\n",
       "      <td>0.085</td>\n",
       "      <td>0</td>\n",
       "    </tr>\n",
       "    <tr>\n",
       "      <th>senti_comp</th>\n",
       "      <td>-0.5413</td>\n",
       "      <td>-0.7326</td>\n",
       "      <td>-0.8126</td>\n",
       "      <td>-0.8658</td>\n",
       "      <td>-0.2732</td>\n",
       "    </tr>\n",
       "    <tr>\n",
       "      <th>is_quoted</th>\n",
       "      <td>False</td>\n",
       "      <td>False</td>\n",
       "      <td>False</td>\n",
       "      <td>True</td>\n",
       "      <td>False</td>\n",
       "    </tr>\n",
       "    <tr>\n",
       "      <th>no_quoted</th>\n",
       "      <td>0</td>\n",
       "      <td>0</td>\n",
       "      <td>0</td>\n",
       "      <td>2</td>\n",
       "      <td>0</td>\n",
       "    </tr>\n",
       "    <tr>\n",
       "      <th>time_since_parent</th>\n",
       "      <td>3320</td>\n",
       "      <td>1675</td>\n",
       "      <td>909</td>\n",
       "      <td>696</td>\n",
       "      <td>639</td>\n",
       "    </tr>\n",
       "    <tr>\n",
       "      <th>is_root</th>\n",
       "      <td>False</td>\n",
       "      <td>False</td>\n",
       "      <td>False</td>\n",
       "      <td>False</td>\n",
       "      <td>False</td>\n",
       "    </tr>\n",
       "    <tr>\n",
       "      <th>is_selftext</th>\n",
       "      <td>False</td>\n",
       "      <td>False</td>\n",
       "      <td>False</td>\n",
       "      <td>False</td>\n",
       "      <td>False</td>\n",
       "    </tr>\n",
       "    <tr>\n",
       "      <th>word_counts</th>\n",
       "      <td>31</td>\n",
       "      <td>79</td>\n",
       "      <td>67</td>\n",
       "      <td>123</td>\n",
       "      <td>7</td>\n",
       "    </tr>\n",
       "    <tr>\n",
       "      <th>epoch_time</th>\n",
       "      <td>1433116778</td>\n",
       "      <td>1433116780</td>\n",
       "      <td>1433116781</td>\n",
       "      <td>1433116784</td>\n",
       "      <td>1433116785</td>\n",
       "    </tr>\n",
       "    <tr>\n",
       "      <th>no_of_past_comments</th>\n",
       "      <td>908</td>\n",
       "      <td>909</td>\n",
       "      <td>92</td>\n",
       "      <td>2</td>\n",
       "      <td>910</td>\n",
       "    </tr>\n",
       "    <tr>\n",
       "      <th>score_till_now</th>\n",
       "      <td>1</td>\n",
       "      <td>1</td>\n",
       "      <td>170</td>\n",
       "      <td>9</td>\n",
       "      <td>37</td>\n",
       "    </tr>\n",
       "  </tbody>\n",
       "</table>\n",
       "</div>"
      ],
      "text/plain": [
       "                                                                        1372859  \\\n",
       "ups                                                                           1   \n",
       "link_id                                                               t3_37z0mw   \n",
       "name                                                                 t1_crrbebf   \n",
       "subreddit                                                             worldnews   \n",
       "gilded                                                                        0   \n",
       "score                                                                         1   \n",
       "retrieved_on                                                         1433505915   \n",
       "body                          The key there is \"unless they're sociopaths\". ...   \n",
       "distinguished                                                               NaN   \n",
       "edited                                                                        0   \n",
       "controversiality                                                              0   \n",
       "parent_id                                                            t1_crr9oyk   \n",
       "is_flair                                                                  False   \n",
       "is_flair_css                                                              False   \n",
       "time                                                        2015-05-31 23:59:38   \n",
       "url                                                           www.telesurtv.net   \n",
       "num_comments                                                               2162   \n",
       "over_18                                                                   False   \n",
       "link_score                                                                10279   \n",
       "selftext                                                                          \n",
       "title                         Obama Ordered to Release Guantanamo Force-Feed...   \n",
       "upvote_ratio                                                               0.92   \n",
       "link_ups                                                                  10279   \n",
       "link_created_time                                           2015-05-31 16:35:54   \n",
       "time_since_link                                                           26624   \n",
       "depth                                                                         6   \n",
       "linked_sr                                                                    []   \n",
       "linked_urls                                                                  []   \n",
       "no_of_linked_sr                                                               0   \n",
       "no_of_linked_urls                                                             0   \n",
       "a_linked_urls                                                                []   \n",
       "a_linked_sr                                                                  []   \n",
       "parent_score                                                                 32   \n",
       "comment_tree_root_id                                                 t1_crqyt35   \n",
       "comment_tree_root_score                                                     455   \n",
       "time_since_comment_tree_root                                              23900   \n",
       "subjectivity                                                                  0   \n",
       "is_edited                                                                 False   \n",
       "senti_neg                                                                 0.104   \n",
       "senti_neu                                                                 0.896   \n",
       "senti_pos                                                                     0   \n",
       "senti_comp                                                              -0.5413   \n",
       "is_quoted                                                                 False   \n",
       "no_quoted                                                                     0   \n",
       "time_since_parent                                                          3320   \n",
       "is_root                                                                   False   \n",
       "is_selftext                                                               False   \n",
       "word_counts                                                                  31   \n",
       "epoch_time                                                           1433116778   \n",
       "no_of_past_comments                                                         908   \n",
       "score_till_now                                                                1   \n",
       "\n",
       "                                                                        1372860  \\\n",
       "ups                                                                           1   \n",
       "link_id                                                               t3_37z0mw   \n",
       "name                                                                 t1_crrbecs   \n",
       "subreddit                                                             worldnews   \n",
       "gilded                                                                        0   \n",
       "score                                                                         1   \n",
       "retrieved_on                                                         1433505915   \n",
       "body                          Pretty sure they don't just behead people outr...   \n",
       "distinguished                                                               NaN   \n",
       "edited                                                                        0   \n",
       "controversiality                                                              0   \n",
       "parent_id                                                            t1_crraioh   \n",
       "is_flair                                                                  False   \n",
       "is_flair_css                                                              False   \n",
       "time                                                        2015-05-31 23:59:40   \n",
       "url                                                           www.telesurtv.net   \n",
       "num_comments                                                               2162   \n",
       "over_18                                                                   False   \n",
       "link_score                                                                10279   \n",
       "selftext                                                                          \n",
       "title                         Obama Ordered to Release Guantanamo Force-Feed...   \n",
       "upvote_ratio                                                               0.92   \n",
       "link_ups                                                                  10279   \n",
       "link_created_time                                           2015-05-31 16:35:54   \n",
       "time_since_link                                                           26626   \n",
       "depth                                                                         2   \n",
       "linked_sr                                                                    []   \n",
       "linked_urls                                                                  []   \n",
       "no_of_linked_sr                                                               0   \n",
       "no_of_linked_urls                                                             0   \n",
       "a_linked_urls                                                                []   \n",
       "a_linked_sr                                                                  []   \n",
       "parent_score                                                                 -2   \n",
       "comment_tree_root_id                                                 t1_crraioh   \n",
       "comment_tree_root_score                                                      -2   \n",
       "time_since_comment_tree_root                                               1675   \n",
       "subjectivity                                                                  2   \n",
       "is_edited                                                                 False   \n",
       "senti_neg                                                                 0.195   \n",
       "senti_neu                                                                 0.663   \n",
       "senti_pos                                                                 0.142   \n",
       "senti_comp                                                              -0.7326   \n",
       "is_quoted                                                                 False   \n",
       "no_quoted                                                                     0   \n",
       "time_since_parent                                                          1675   \n",
       "is_root                                                                   False   \n",
       "is_selftext                                                               False   \n",
       "word_counts                                                                  79   \n",
       "epoch_time                                                           1433116780   \n",
       "no_of_past_comments                                                         909   \n",
       "score_till_now                                                                1   \n",
       "\n",
       "                                                                        1372861  \\\n",
       "ups                                                                         170   \n",
       "link_id                                                               t3_37zl5z   \n",
       "name                                                                 t1_crrbedn   \n",
       "subreddit                                                             worldnews   \n",
       "gilded                                                                        0   \n",
       "score                                                                       170   \n",
       "retrieved_on                                                         1433505916   \n",
       "body                          Because it's not typically done to babies. It'...   \n",
       "distinguished                                                               NaN   \n",
       "edited                                                                        0   \n",
       "controversiality                                                              0   \n",
       "parent_id                                                            t1_crrax76   \n",
       "is_flair                                                                  False   \n",
       "is_flair_css                                                              False   \n",
       "time                                                        2015-05-31 23:59:41   \n",
       "url                                                        mediablackoutusa.com   \n",
       "num_comments                                                               2686   \n",
       "over_18                                                                   False   \n",
       "link_score                                                                24122   \n",
       "selftext                                                                          \n",
       "title                                 Nigeria Outlaws Female Genital Mutilation   \n",
       "upvote_ratio                                                               0.94   \n",
       "link_ups                                                                  24122   \n",
       "link_created_time                                           2015-05-31 19:09:54   \n",
       "time_since_link                                                           17387   \n",
       "depth                                                                         4   \n",
       "linked_sr                                                                    []   \n",
       "linked_urls                                                                  []   \n",
       "no_of_linked_sr                                                               0   \n",
       "no_of_linked_urls                                                             0   \n",
       "a_linked_urls                                                                []   \n",
       "a_linked_sr                                                                  []   \n",
       "parent_score                                                                 60   \n",
       "comment_tree_root_id                                                 t1_crr8wss   \n",
       "comment_tree_root_score                                                      65   \n",
       "time_since_comment_tree_root                                               4899   \n",
       "subjectivity                                                                  0   \n",
       "is_edited                                                                 False   \n",
       "senti_neg                                                                 0.131   \n",
       "senti_neu                                                                 0.836   \n",
       "senti_pos                                                                 0.033   \n",
       "senti_comp                                                              -0.8126   \n",
       "is_quoted                                                                 False   \n",
       "no_quoted                                                                     0   \n",
       "time_since_parent                                                           909   \n",
       "is_root                                                                   False   \n",
       "is_selftext                                                               False   \n",
       "word_counts                                                                  67   \n",
       "epoch_time                                                           1433116781   \n",
       "no_of_past_comments                                                          92   \n",
       "score_till_now                                                              170   \n",
       "\n",
       "                                                                        1372862  \\\n",
       "ups                                                                           9   \n",
       "link_id                                                               t3_380j06   \n",
       "name                                                                 t1_crrbefm   \n",
       "subreddit                                                             worldnews   \n",
       "gilded                                                                        0   \n",
       "score                                                                         9   \n",
       "retrieved_on                                                         1433505916   \n",
       "body                          &gt; Nothing they are doing is illegal under i...   \n",
       "distinguished                                                               NaN   \n",
       "edited                                                                        0   \n",
       "controversiality                                                              0   \n",
       "parent_id                                                            t1_crrb19g   \n",
       "is_flair                                                                  False   \n",
       "is_flair_css                                                              False   \n",
       "time                                                        2015-05-31 23:59:44   \n",
       "url                                                               www.yahoo.com   \n",
       "num_comments                                                                 10   \n",
       "over_18                                                                   False   \n",
       "link_score                                                                    9   \n",
       "selftext                                                                          \n",
       "title                         US hits out at China over sea reclamation, vow...   \n",
       "upvote_ratio                                                               0.62   \n",
       "link_ups                                                                      9   \n",
       "link_created_time                                           2015-05-31 23:19:50   \n",
       "time_since_link                                                            2394   \n",
       "depth                                                                         2   \n",
       "linked_sr                                                                    []   \n",
       "linked_urls                                                                  []   \n",
       "no_of_linked_sr                                                               0   \n",
       "no_of_linked_urls                                                             0   \n",
       "a_linked_urls                                                                []   \n",
       "a_linked_sr                                                                  []   \n",
       "parent_score                                                                 -7   \n",
       "comment_tree_root_id                                                 t1_crrb19g   \n",
       "comment_tree_root_score                                                      -7   \n",
       "time_since_comment_tree_root                                                696   \n",
       "subjectivity                                                                  0   \n",
       "is_edited                                                                 False   \n",
       "senti_neg                                                                 0.148   \n",
       "senti_neu                                                                 0.767   \n",
       "senti_pos                                                                 0.085   \n",
       "senti_comp                                                              -0.8658   \n",
       "is_quoted                                                                  True   \n",
       "no_quoted                                                                     2   \n",
       "time_since_parent                                                           696   \n",
       "is_root                                                                   False   \n",
       "is_selftext                                                               False   \n",
       "word_counts                                                                 123   \n",
       "epoch_time                                                           1433116784   \n",
       "no_of_past_comments                                                           2   \n",
       "score_till_now                                                                9   \n",
       "\n",
       "                                                                        1372863  \n",
       "ups                                                                          37  \n",
       "link_id                                                               t3_37z0mw  \n",
       "name                                                                 t1_crrbeft  \n",
       "subreddit                                                             worldnews  \n",
       "gilded                                                                        0  \n",
       "score                                                                        37  \n",
       "retrieved_on                                                         1433505916  \n",
       "body                               Apart from the risk of inhalation pneumonia.  \n",
       "distinguished                                                               NaN  \n",
       "edited                                                                        0  \n",
       "controversiality                                                              0  \n",
       "parent_id                                                            t1_crrb2cx  \n",
       "is_flair                                                                  False  \n",
       "is_flair_css                                                              False  \n",
       "time                                                        2015-05-31 23:59:45  \n",
       "url                                                           www.telesurtv.net  \n",
       "num_comments                                                               2162  \n",
       "over_18                                                                   False  \n",
       "link_score                                                                10279  \n",
       "selftext                                                                         \n",
       "title                         Obama Ordered to Release Guantanamo Force-Feed...  \n",
       "upvote_ratio                                                               0.92  \n",
       "link_ups                                                                  10279  \n",
       "link_created_time                                           2015-05-31 16:35:54  \n",
       "time_since_link                                                           26631  \n",
       "depth                                                                         6  \n",
       "linked_sr                                                                    []  \n",
       "linked_urls                                                                  []  \n",
       "no_of_linked_sr                                                               0  \n",
       "no_of_linked_urls                                                             0  \n",
       "a_linked_urls                                                                []  \n",
       "a_linked_sr                                                                  []  \n",
       "parent_score                                                                 72  \n",
       "comment_tree_root_id                                                 t1_crqzs3o  \n",
       "comment_tree_root_score                                                    1231  \n",
       "time_since_comment_tree_root                                              22067  \n",
       "subjectivity                                                                  0  \n",
       "is_edited                                                                 False  \n",
       "senti_neg                                                                 0.259  \n",
       "senti_neu                                                                 0.741  \n",
       "senti_pos                                                                     0  \n",
       "senti_comp                                                              -0.2732  \n",
       "is_quoted                                                                 False  \n",
       "no_quoted                                                                     0  \n",
       "time_since_parent                                                           639  \n",
       "is_root                                                                   False  \n",
       "is_selftext                                                               False  \n",
       "word_counts                                                                   7  \n",
       "epoch_time                                                           1433116785  \n",
       "no_of_past_comments                                                         910  \n",
       "score_till_now                                                               37  "
      ]
     },
     "execution_count": 28,
     "metadata": {},
     "output_type": "execute_result"
    }
   ],
   "source": [
    "df.tail().T"
   ]
  },
  {
   "cell_type": "code",
   "execution_count": 29,
   "metadata": {
    "ExecuteTime": {
     "end_time": "2018-12-06T02:45:35.816795Z",
     "start_time": "2018-12-06T02:45:35.813591Z"
    }
   },
   "outputs": [],
   "source": [
    "import string\n",
    "from sklearn.feature_extraction.stop_words import ENGLISH_STOP_WORDS"
   ]
  },
  {
   "cell_type": "code",
   "execution_count": 30,
   "metadata": {
    "ExecuteTime": {
     "end_time": "2018-12-06T02:47:24.481734Z",
     "start_time": "2018-12-06T02:45:35.819380Z"
    }
   },
   "outputs": [],
   "source": [
    "table = str.maketrans({key: ' ' for key in string.digits + string.punctuation + '\\t\\n\\r'})\n",
    "\n",
    "def load_glove(filename):\n",
    "    glove = {}\n",
    "    with open(filename, 'r') as read_file:\n",
    "        for line in read_file:\n",
    "            key = line.split(' ')[0]\n",
    "            vector = np.array(line.split(' ')[1:], dtype=np.float)\n",
    "            glove[key] = vector\n",
    "\n",
    "    return glove\n",
    "\n",
    "def words(text):\n",
    "    text = text.lower()\n",
    "    text = text.translate(table).strip()\n",
    "    terms = text.split(' ')\n",
    "    terms = [t for t in terms if len(t) > 2]\n",
    "    terms = [t for t in terms if t not in ENGLISH_STOP_WORDS]\n",
    "\n",
    "    return terms\n",
    "\n",
    "def get_doc2vec(text, gloves):\n",
    "    count_words = 0\n",
    "    final_vector = 0\n",
    "    terms = words(text)\n",
    "\n",
    "    for t in terms:\n",
    "        if t in gloves.keys():\n",
    "            count_words += 1\n",
    "            final_vector += gloves[t]\n",
    "    if count_words != 0:\n",
    "        return final_vector / count_words\n",
    "    else:\n",
    "        return None\n",
    "\n",
    "gloves = load_glove('Data/glove.twitter.27B.200d.txt')"
   ]
  },
  {
   "cell_type": "code",
   "execution_count": 31,
   "metadata": {
    "ExecuteTime": {
     "end_time": "2018-12-06T02:47:24.488355Z",
     "start_time": "2018-12-06T02:47:24.485155Z"
    }
   },
   "outputs": [],
   "source": [
    "from scipy.spatial.distance import cosine, euclidean"
   ]
  },
  {
   "cell_type": "code",
   "execution_count": 32,
   "metadata": {
    "ExecuteTime": {
     "end_time": "2018-12-06T02:48:34.317388Z",
     "start_time": "2018-12-06T02:47:24.492566Z"
    }
   },
   "outputs": [],
   "source": [
    "comment_to_body = pd_to_dict(df[['name', 'body']],\n",
    "                                index='name', column='body')\n",
    "comment_to_parent = pd_to_dict(df[['name', 'parent_id']],\n",
    "                                index='name', column='parent_id')\n",
    "\n",
    "def get_cosine_angle(cmnt_id):\n",
    "    child = comment_to_body[cmnt_id]\n",
    "    try:\n",
    "        parent = comment_to_body[comment_to_parent[cmnt_id]]\n",
    "    except KeyError:\n",
    "        return None\n",
    "    child = get_doc2vec(child, gloves)\n",
    "    parent = get_doc2vec(parent, gloves)\n",
    "    if child is None:\n",
    "        return None\n",
    "    if parent is None:\n",
    "        return None\n",
    "    return cosine(child, parent), euclidean(child, parent)\n",
    "\n",
    "def wrapper_get_cosine(df):\n",
    "    df['cosine_euc'] = df['name'].apply(get_cosine_angle)\n",
    "    return df\n",
    "\n",
    "cosine_angle = parallelize_dataframe(df['name'].to_frame(), wrapper_get_cosine)\n",
    "\n",
    "df['cosine_euc'] = cosine_angle.cosine_euc\n",
    "\n",
    "del cosine_angle"
   ]
  },
  {
   "cell_type": "code",
   "execution_count": 33,
   "metadata": {
    "ExecuteTime": {
     "end_time": "2018-12-06T02:48:35.270797Z",
     "start_time": "2018-12-06T02:48:34.320331Z"
    }
   },
   "outputs": [],
   "source": [
    "df['parent_cosine'] = df.cosine_euc.apply(lambda x: x[0] if x is not None else None)\n",
    "df['parent_euc'] = df.cosine_euc.apply(lambda x: x[1] if x is not None else None)"
   ]
  },
  {
   "cell_type": "code",
   "execution_count": 34,
   "metadata": {
    "ExecuteTime": {
     "end_time": "2018-12-06T02:48:37.359862Z",
     "start_time": "2018-12-06T02:48:35.273100Z"
    }
   },
   "outputs": [],
   "source": [
    "df.drop(['cosine_euc'], inplace=True, axis=1)"
   ]
  },
  {
   "cell_type": "code",
   "execution_count": 35,
   "metadata": {
    "ExecuteTime": {
     "end_time": "2018-12-06T02:48:38.413901Z",
     "start_time": "2018-12-06T02:48:37.363371Z"
    }
   },
   "outputs": [],
   "source": [
    "comment_to_body = pd_to_dict(df[['name', 'body']],\n",
    "                                index='name', column='body')\n",
    "comment_to_title = pd_to_dict(df[['name', 'title']],\n",
    "                                index='name', column='title')"
   ]
  },
  {
   "cell_type": "code",
   "execution_count": 36,
   "metadata": {
    "ExecuteTime": {
     "end_time": "2018-12-06T02:48:38.421317Z",
     "start_time": "2018-12-06T02:48:38.416431Z"
    }
   },
   "outputs": [],
   "source": [
    "def get_cosine_angle(cmnt_id):\n",
    "    child = comment_to_body[cmnt_id]\n",
    "    try:\n",
    "        parent = comment_to_title[cmnt_id]\n",
    "        child = get_doc2vec(child, gloves)\n",
    "        parent = get_doc2vec(parent, gloves)\n",
    "    except:\n",
    "        return None\n",
    "    if child is None:\n",
    "        return None\n",
    "    if parent is None:\n",
    "        return None\n",
    "    return cosine(child, parent), euclidean(child, parent)\n",
    "\n",
    "def wrapper_get_cosine(df):\n",
    "    df['cosine_euc'] = df['name'].apply(get_cosine_angle)\n",
    "    return df"
   ]
  },
  {
   "cell_type": "code",
   "execution_count": 37,
   "metadata": {
    "ExecuteTime": {
     "end_time": "2018-12-06T02:49:57.955495Z",
     "start_time": "2018-12-06T02:48:38.423900Z"
    }
   },
   "outputs": [],
   "source": [
    "cosine_angle = parallelize_dataframe(df['name'].to_frame(), wrapper_get_cosine)\n",
    "df['cosine_euc'] = cosine_angle.cosine_euc\n",
    "del cosine_angle"
   ]
  },
  {
   "cell_type": "code",
   "execution_count": 38,
   "metadata": {
    "ExecuteTime": {
     "end_time": "2018-12-06T02:49:59.018094Z",
     "start_time": "2018-12-06T02:49:57.958370Z"
    }
   },
   "outputs": [],
   "source": [
    "df['title_cosine'] = df.cosine_euc.apply(lambda x: x[0] if x is not None else None)\n",
    "df['title_euc'] = df.cosine_euc.apply(lambda x: x[1] if x is not None else None)"
   ]
  },
  {
   "cell_type": "code",
   "execution_count": 39,
   "metadata": {
    "ExecuteTime": {
     "end_time": "2018-12-06T02:49:59.024775Z",
     "start_time": "2018-12-06T02:49:59.021095Z"
    }
   },
   "outputs": [],
   "source": [
    "# del comment_to_body\n",
    "# del comment_to_parent\n",
    "# del comment_to_score\n",
    "# del comment_to_time\n",
    "# del comment_to_title\n",
    "# del glovesd"
   ]
  },
  {
   "cell_type": "code",
   "execution_count": 44,
   "metadata": {
    "ExecuteTime": {
     "end_time": "2018-12-06T02:51:54.118237Z",
     "start_time": "2018-12-06T02:51:54.111137Z"
    }
   },
   "outputs": [
    {
     "data": {
      "text/plain": [
       "(1372864, 56)"
      ]
     },
     "execution_count": 44,
     "metadata": {},
     "output_type": "execute_result"
    }
   ],
   "source": [
    "df.shape"
   ]
  },
  {
   "cell_type": "code",
   "execution_count": 41,
   "metadata": {
    "ExecuteTime": {
     "end_time": "2018-12-06T02:50:14.372795Z",
     "start_time": "2018-12-06T02:49:59.039123Z"
    }
   },
   "outputs": [],
   "source": [
    "df.to_pickle('Data/new_data.pkl')\n",
    "# df = pd.read_pickle('Data/new_data.pkl')"
   ]
  },
  {
   "cell_type": "markdown",
   "metadata": {},
   "source": [
    "Cleaning"
   ]
  },
  {
   "cell_type": "code",
   "execution_count": 42,
   "metadata": {
    "ExecuteTime": {
     "end_time": "2018-12-06T02:51:43.467616Z",
     "start_time": "2018-12-06T02:51:43.456668Z"
    }
   },
   "outputs": [
    {
     "data": {
      "text/plain": [
       "Index(['ups', 'link_id', 'name', 'subreddit', 'gilded', 'score',\n",
       "       'retrieved_on', 'body', 'distinguished', 'edited', 'controversiality',\n",
       "       'parent_id', 'is_flair', 'is_flair_css', 'time', 'url', 'num_comments',\n",
       "       'over_18', 'link_score', 'selftext', 'title', 'upvote_ratio',\n",
       "       'link_ups', 'link_created_time', 'time_since_link', 'depth',\n",
       "       'linked_sr', 'linked_urls', 'no_of_linked_sr', 'no_of_linked_urls',\n",
       "       'a_linked_urls', 'a_linked_sr', 'parent_score', 'comment_tree_root_id',\n",
       "       'comment_tree_root_score', 'time_since_comment_tree_root',\n",
       "       'subjectivity', 'is_edited', 'senti_neg', 'senti_neu', 'senti_pos',\n",
       "       'senti_comp', 'is_quoted', 'no_quoted', 'time_since_parent', 'is_root',\n",
       "       'is_selftext', 'word_counts', 'epoch_time', 'no_of_past_comments',\n",
       "       'score_till_now', 'parent_cosine', 'parent_euc', 'cosine_euc',\n",
       "       'title_cosine', 'title_euc'],\n",
       "      dtype='object')"
      ]
     },
     "execution_count": 42,
     "metadata": {},
     "output_type": "execute_result"
    }
   ],
   "source": [
    "df.columns"
   ]
  },
  {
   "cell_type": "code",
   "execution_count": 43,
   "metadata": {
    "ExecuteTime": {
     "end_time": "2018-12-06T02:51:48.883332Z",
     "start_time": "2018-12-06T02:51:48.697769Z"
    }
   },
   "outputs": [],
   "source": [
    "df.distinguished.replace(to_replace=np.NaN, value='user', inplace=True)\n",
    "df['distinguished'] = df.distinguished.astype('category')"
   ]
  },
  {
   "cell_type": "code",
   "execution_count": 68,
   "metadata": {
    "ExecuteTime": {
     "end_time": "2018-12-06T06:01:47.888467Z",
     "start_time": "2018-12-06T06:01:47.879422Z"
    }
   },
   "outputs": [],
   "source": [
    "df['no_of_quoted_users'] = df.body.str.count('/u/')"
   ]
  },
  {
   "cell_type": "code",
   "execution_count": 78,
   "metadata": {
    "ExecuteTime": {
     "end_time": "2018-12-06T06:07:38.920039Z",
     "start_time": "2018-12-06T06:07:38.913759Z"
    }
   },
   "outputs": [],
   "source": [
    "df['hour_of_comment'] = df.time.apply(lambda x: x.hour)"
   ]
  },
  {
   "cell_type": "code",
   "execution_count": 81,
   "metadata": {
    "ExecuteTime": {
     "end_time": "2018-12-06T06:08:36.205688Z",
     "start_time": "2018-12-06T06:08:36.201510Z"
    }
   },
   "outputs": [],
   "source": [
    "df['weekday'] = df.time.dt.weekday"
   ]
  },
  {
   "cell_type": "code",
   "execution_count": 83,
   "metadata": {
    "ExecuteTime": {
     "end_time": "2018-12-06T06:12:48.276603Z",
     "start_time": "2018-12-06T06:12:47.286565Z"
    }
   },
   "outputs": [],
   "source": [
    "top_turls_links = []\n",
    "\n",
    "for sub in df.subreddit.unique():\n",
    "    top_turls_links += Counter(df[df.subreddit == sub].url.values).most_common(15)\n",
    "\n",
    "allowed_turls = list(set([i[0] for i in top_turls_links]))"
   ]
  },
  {
   "cell_type": "code",
   "execution_count": 84,
   "metadata": {
    "ExecuteTime": {
     "end_time": "2018-12-06T06:12:50.031298Z",
     "start_time": "2018-12-06T06:12:50.018820Z"
    }
   },
   "outputs": [
    {
     "data": {
      "text/plain": [
       "['www.pcgamer.com',\n",
       " 'www.kickstarter.com',\n",
       " 'www.veggiesdontbite.com',\n",
       " 'www.sciencealert.com',\n",
       " 'www.the-aps.org',\n",
       " 'en.abna24.com',\n",
       " 'www.youtube.com',\n",
       " 'gtaforums.com',\n",
       " 'www.nature.com',\n",
       " 'www.theatlantic.com',\n",
       " 'www.independent.co.uk',\n",
       " 'www.uq.edu.au',\n",
       " 'www.theguardian.com',\n",
       " 'www.bbc.com',\n",
       " 'www.realclearscience.com',\n",
       " 'www.ynetnews.com',\n",
       " 'www.imgur.com',\n",
       " 'www.telesurtv.net',\n",
       " 'comicbook.com',\n",
       " 'www.bbc.co.uk',\n",
       " 'www.npr.org',\n",
       " 'www.washingtonpost.com',\n",
       " 'arstechnica.com',\n",
       " 'www.hollywoodreporter.com',\n",
       " 'i.imgur.com',\n",
       " 'www.ibtimes.co.uk',\n",
       " 'www.nytimes.com',\n",
       " 'variety.com',\n",
       " 'cdn.shopify.com',\n",
       " 'phys.org',\n",
       " 'www.flickr.com',\n",
       " 'www.cnn.com',\n",
       " 'youtu.be',\n",
       " 'en.wikipedia.org',\n",
       " 'res.cloudinary.com',\n",
       " 'geektyrant.com',\n",
       " 'www.yahoo.com',\n",
       " 'i1.wp.com',\n",
       " 'gfycat.com',\n",
       " 'techti.me',\n",
       " 'www.sciencedaily.com',\n",
       " 'marvel.com',\n",
       " 'www.cbc.ca',\n",
       " 'www.ncbi.nlm.nih.gov',\n",
       " 'www.warcraftmovies.com',\n",
       " 'www.huffingtonpost.com',\n",
       " 'www.businessinsider.com',\n",
       " 'news.yahoo.com',\n",
       " 'm.imgur.com',\n",
       " 'imgur.com',\n",
       " 'www.rawstory.com',\n",
       " 'www.gamespot.com',\n",
       " 'www.reuters.com',\n",
       " 'www.reddit.com',\n",
       " 'interrete.org',\n",
       " 'egyptianstreets.com',\n",
       " 'www.gfycat.com']"
      ]
     },
     "execution_count": 84,
     "metadata": {},
     "output_type": "execute_result"
    }
   ],
   "source": [
    "allowed_turls"
   ]
  },
  {
   "cell_type": "code",
   "execution_count": 86,
   "metadata": {
    "ExecuteTime": {
     "end_time": "2018-12-06T06:13:30.209572Z",
     "start_time": "2018-12-06T06:13:30.202359Z"
    }
   },
   "outputs": [],
   "source": [
    "df['title_url_in_top'] = df.url.apply(lambda x: x in allowed_turls)"
   ]
  },
  {
   "cell_type": "code",
   "execution_count": 45,
   "metadata": {
    "ExecuteTime": {
     "end_time": "2018-12-06T02:52:02.572622Z",
     "start_time": "2018-12-06T02:52:00.726662Z"
    }
   },
   "outputs": [],
   "source": [
    "df = df[~df.depth.isna()]"
   ]
  },
  {
   "cell_type": "code",
   "execution_count": 61,
   "metadata": {
    "ExecuteTime": {
     "end_time": "2018-12-06T03:53:51.427841Z",
     "start_time": "2018-12-06T03:53:51.404564Z"
    }
   },
   "outputs": [],
   "source": [
    "df.loc[df.is_root, 'parent_cosine'] = 1"
   ]
  },
  {
   "cell_type": "code",
   "execution_count": 48,
   "metadata": {
    "ExecuteTime": {
     "end_time": "2018-12-06T02:54:11.731944Z",
     "start_time": "2018-12-06T02:54:11.701120Z"
    }
   },
   "outputs": [],
   "source": [
    "df.parent_euc.fillna(df.parent_euc.mean(), inplace=True)"
   ]
  },
  {
   "cell_type": "code",
   "execution_count": 49,
   "metadata": {
    "ExecuteTime": {
     "end_time": "2018-12-06T02:54:17.597235Z",
     "start_time": "2018-12-06T02:54:17.566225Z"
    }
   },
   "outputs": [
    {
     "data": {
      "text/plain": [
       "285.0"
      ]
     },
     "execution_count": 49,
     "metadata": {},
     "output_type": "execute_result"
    }
   ],
   "source": [
    "df.word_counts.quantile(0.995)"
   ]
  },
  {
   "cell_type": "code",
   "execution_count": 50,
   "metadata": {
    "ExecuteTime": {
     "end_time": "2018-12-06T02:54:19.618466Z",
     "start_time": "2018-12-06T02:54:19.059988Z"
    }
   },
   "outputs": [],
   "source": [
    "df = df[df['word_counts'] < 280]"
   ]
  },
  {
   "cell_type": "code",
   "execution_count": 51,
   "metadata": {
    "ExecuteTime": {
     "end_time": "2018-12-06T02:54:23.973638Z",
     "start_time": "2018-12-06T02:54:21.488442Z"
    }
   },
   "outputs": [],
   "source": [
    "df = df[df.body != '[deleted]']\n",
    "df = df[df.body != '[removed]']\n",
    "df = df[df.body != '']"
   ]
  },
  {
   "cell_type": "code",
   "execution_count": 52,
   "metadata": {
    "ExecuteTime": {
     "end_time": "2018-12-06T02:54:24.620007Z",
     "start_time": "2018-12-06T02:54:24.616189Z"
    }
   },
   "outputs": [],
   "source": [
    "df.reset_index(inplace=True, drop=True)"
   ]
  },
  {
   "cell_type": "code",
   "execution_count": 53,
   "metadata": {
    "ExecuteTime": {
     "end_time": "2018-12-06T02:56:50.935659Z",
     "start_time": "2018-12-06T02:56:49.664425Z"
    }
   },
   "outputs": [],
   "source": [
    "df = df[~df.title_cosine.isna()]\n",
    "df = df[~df.title_euc.isna()]"
   ]
  },
  {
   "cell_type": "code",
   "execution_count": 63,
   "metadata": {
    "ExecuteTime": {
     "end_time": "2018-12-06T03:54:43.606994Z",
     "start_time": "2018-12-06T03:54:43.113846Z"
    }
   },
   "outputs": [],
   "source": [
    "df = df[~df.parent_cosine.isna()]"
   ]
  },
  {
   "cell_type": "code",
   "execution_count": 54,
   "metadata": {
    "ExecuteTime": {
     "end_time": "2018-12-06T02:56:51.575457Z",
     "start_time": "2018-12-06T02:56:51.566594Z"
    }
   },
   "outputs": [
    {
     "data": {
      "text/plain": [
       "(1187058, 57)"
      ]
     },
     "execution_count": 54,
     "metadata": {},
     "output_type": "execute_result"
    }
   ],
   "source": [
    "df.shape"
   ]
  },
  {
   "cell_type": "code",
   "execution_count": 55,
   "metadata": {
    "ExecuteTime": {
     "end_time": "2018-12-06T02:56:55.227061Z",
     "start_time": "2018-12-06T02:56:55.076946Z"
    }
   },
   "outputs": [],
   "source": [
    "import seaborn as sns"
   ]
  },
  {
   "cell_type": "code",
   "execution_count": 56,
   "metadata": {
    "ExecuteTime": {
     "end_time": "2018-12-06T02:56:56.101860Z",
     "start_time": "2018-12-06T02:56:55.701401Z"
    }
   },
   "outputs": [
    {
     "data": {
      "text/plain": [
       "<matplotlib.axes._subplots.AxesSubplot at 0x7feedd384470>"
      ]
     },
     "execution_count": 56,
     "metadata": {},
     "output_type": "execute_result"
    },
    {
     "data": {
      "image/png": "[encoded data removed]",
      "text/plain": [
       "<Figure size 432x288 with 1 Axes>"
      ]
     },
     "metadata": {},
     "output_type": "display_data"
    }
   ],
   "source": [
    "sns.countplot(data=df, x='subreddit')"
   ]
  },
  {
   "cell_type": "code",
   "execution_count": 65,
   "metadata": {
    "ExecuteTime": {
     "end_time": "2018-12-06T05:57:56.351239Z",
     "start_time": "2018-12-06T05:57:55.261109Z"
    }
   },
   "outputs": [
    {
     "name": "stderr",
     "output_type": "stream",
     "text": [
      "/home/gokul/anaconda3/lib/python3.6/site-packages/pandas/core/frame.py:3697: SettingWithCopyWarning: \n",
      "A value is trying to be set on a copy of a slice from a DataFrame\n",
      "\n",
      "See the caveats in the documentation: http://pandas.pydata.org/pandas-docs/stable/indexing.html#indexing-view-versus-copy\n",
      "  errors=errors)\n"
     ]
    }
   ],
   "source": [
    "df.drop(['parent_cos_angle'], inplace=True, axis=1)"
   ]
  },
  {
   "cell_type": "code",
   "execution_count": 79,
   "metadata": {
    "ExecuteTime": {
     "end_time": "2018-12-06T06:08:13.116367Z",
     "start_time": "2018-12-06T06:08:13.108647Z"
    }
   },
   "outputs": [],
   "source": [
    "df.reset_index(inplace=True, drop=True)"
   ]
  },
  {
   "cell_type": "code",
   "execution_count": 66,
   "metadata": {
    "ExecuteTime": {
     "end_time": "2018-12-06T05:57:58.823714Z",
     "start_time": "2018-12-06T05:57:56.354317Z"
    }
   },
   "outputs": [
    {
     "data": {
      "text/plain": [
       "ups                             0\n",
       "link_id                         0\n",
       "name                            0\n",
       "subreddit                       0\n",
       "gilded                          0\n",
       "score                           0\n",
       "retrieved_on                    0\n",
       "body                            0\n",
       "distinguished                   0\n",
       "edited                          0\n",
       "controversiality                0\n",
       "parent_id                       0\n",
       "is_flair                        0\n",
       "is_flair_css                    0\n",
       "time                            0\n",
       "url                             0\n",
       "num_comments                    0\n",
       "over_18                         0\n",
       "link_score                      0\n",
       "selftext                        0\n",
       "title                           0\n",
       "upvote_ratio                    0\n",
       "link_ups                        0\n",
       "link_created_time               0\n",
       "time_since_link                 0\n",
       "depth                           0\n",
       "linked_sr                       0\n",
       "linked_urls                     0\n",
       "no_of_linked_sr                 0\n",
       "no_of_linked_urls               0\n",
       "a_linked_urls                   0\n",
       "a_linked_sr                     0\n",
       "parent_score                    0\n",
       "comment_tree_root_id            0\n",
       "comment_tree_root_score         0\n",
       "time_since_comment_tree_root    0\n",
       "subjectivity                    0\n",
       "is_edited                       0\n",
       "senti_neg                       0\n",
       "senti_neu                       0\n",
       "senti_pos                       0\n",
       "senti_comp                      0\n",
       "is_quoted                       0\n",
       "no_quoted                       0\n",
       "time_since_parent               0\n",
       "is_root                         0\n",
       "is_selftext                     0\n",
       "word_counts                     0\n",
       "epoch_time                      0\n",
       "no_of_past_comments             0\n",
       "score_till_now                  0\n",
       "parent_cosine                   0\n",
       "parent_euc                      0\n",
       "cosine_euc                      0\n",
       "title_cosine                    0\n",
       "title_euc                       0\n",
       "dtype: int64"
      ]
     },
     "execution_count": 66,
     "metadata": {},
     "output_type": "execute_result"
    }
   ],
   "source": [
    "df.isna().sum()"
   ]
  },
  {
   "cell_type": "code",
   "execution_count": 71,
   "metadata": {
    "ExecuteTime": {
     "end_time": "2018-12-06T06:04:47.589117Z",
     "start_time": "2018-12-06T06:04:47.579048Z"
    }
   },
   "outputs": [
    {
     "data": {
      "text/plain": [
       "Index(['ups', 'link_id', 'name', 'subreddit', 'gilded', 'score',\n",
       "       'retrieved_on', 'body', 'distinguished', 'edited', 'controversiality',\n",
       "       'parent_id', 'is_flair', 'is_flair_css', 'time', 'url', 'num_comments',\n",
       "       'over_18', 'link_score', 'selftext', 'title', 'upvote_ratio',\n",
       "       'link_ups', 'link_created_time', 'time_since_link', 'depth',\n",
       "       'linked_sr', 'linked_urls', 'no_of_linked_sr', 'no_of_linked_urls',\n",
       "       'a_linked_urls', 'a_linked_sr', 'parent_score', 'comment_tree_root_id',\n",
       "       'comment_tree_root_score', 'time_since_comment_tree_root',\n",
       "       'subjectivity', 'is_edited', 'senti_neg', 'senti_neu', 'senti_pos',\n",
       "       'senti_comp', 'is_quoted', 'no_quoted', 'time_since_parent', 'is_root',\n",
       "       'is_selftext', 'word_counts', 'epoch_time', 'no_of_past_comments',\n",
       "       'score_till_now', 'parent_cosine', 'parent_euc', 'cosine_euc',\n",
       "       'title_cosine', 'title_euc', 'no_of_quoted_users', 'hour_of_comment'],\n",
       "      dtype='object')"
      ]
     },
     "execution_count": 71,
     "metadata": {},
     "output_type": "execute_result"
    }
   ],
   "source": [
    "df.columns"
   ]
  },
  {
   "cell_type": "code",
   "execution_count": 82,
   "metadata": {
    "ExecuteTime": {
     "end_time": "2018-12-06T06:09:08.859783Z",
     "start_time": "2018-12-06T06:09:08.757771Z"
    }
   },
   "outputs": [
    {
     "data": {
      "text/plain": [
       "array(['www.washingtonpost.com', 'i.imgur.com', 'communitytable.com', ...,\n",
       "       'www.newsday.com', 'chicago.suntimes.com', 'www.fundme.com'],\n",
       "      dtype=object)"
      ]
     },
     "execution_count": 82,
     "metadata": {},
     "output_type": "execute_result"
    }
   ],
   "source": [
    "df.url.unique()"
   ]
  },
  {
   "cell_type": "code",
   "execution_count": 95,
   "metadata": {
    "ExecuteTime": {
     "end_time": "2018-12-06T06:22:19.678953Z",
     "start_time": "2018-12-06T06:22:19.657963Z"
    }
   },
   "outputs": [
    {
     "data": {
      "text/plain": [
       "array([ True, False])"
      ]
     },
     "execution_count": 95,
     "metadata": {},
     "output_type": "execute_result"
    }
   ],
   "source": [
    "df..unique()"
   ]
  },
  {
   "cell_type": "code",
   "execution_count": 231,
   "metadata": {
    "ExecuteTime": {
     "end_time": "2018-12-06T22:10:07.334902Z",
     "start_time": "2018-12-06T22:10:07.328399Z"
    }
   },
   "outputs": [],
   "source": [
    "cat_cols = ['subreddit', 'distinguished', 'is_flair', 'is_flair_css']\n",
    "bool_cols = ['over_18', 'is_edited', 'is_quoted', 'is_selftext',\n",
    "             'title_url_in_top']\n",
    "\n",
    "# multi_label = a_linked_sr, a_linked_urls\n",
    "# 'num_comments', 'link_score',  'link_ups', \n",
    "\n",
    "numeric_cols = ['gilded', 'controversiality', 'upvote_ratio','time_since_link',\n",
    "                'depth', 'no_of_linked_sr', 'no_of_linked_urls', 'parent_score',\n",
    "                'comment_tree_root_score', 'time_since_comment_tree_root',\n",
    "                'subjectivity', 'senti_neg', 'senti_pos', 'senti_neu',\n",
    "                'senti_comp', 'no_quoted', 'time_since_parent', 'word_counts',\n",
    "                'no_of_past_comments', 'parent_cosine',\n",
    "                'parent_euc', 'title_cosine', 'title_euc', 'no_of_quoted_users',\n",
    "                'hour_of_comment', 'weekday','link_score']"
   ]
  },
  {
   "cell_type": "code",
   "execution_count": 5,
   "metadata": {
    "ExecuteTime": {
     "end_time": "2018-12-06T08:40:30.419818Z",
     "start_time": "2018-12-06T08:40:21.666780Z"
    }
   },
   "outputs": [],
   "source": [
    "df = pd.read_pickle('Data/Finale.pkl')\n",
    "# df.to_pickle('Data/Finale.pkl')"
   ]
  },
  {
   "cell_type": "code",
   "execution_count": 215,
   "metadata": {
    "ExecuteTime": {
     "end_time": "2018-12-06T22:04:16.494050Z",
     "start_time": "2018-12-06T22:04:11.800272Z"
    }
   },
   "outputs": [],
   "source": [
    "df = df.loc[df.is_root == False]"
   ]
  },
  {
   "cell_type": "code",
   "execution_count": 91,
   "metadata": {
    "ExecuteTime": {
     "end_time": "2018-12-06T06:21:35.437319Z",
     "start_time": "2018-12-06T06:21:34.164697Z"
    }
   },
   "outputs": [],
   "source": [
    "del gloves"
   ]
  },
  {
   "cell_type": "code",
   "execution_count": 216,
   "metadata": {
    "ExecuteTime": {
     "end_time": "2018-12-06T22:04:24.463069Z",
     "start_time": "2018-12-06T22:04:24.454599Z"
    }
   },
   "outputs": [],
   "source": [
    "from scipy.sparse import hstack"
   ]
  },
  {
   "cell_type": "code",
   "execution_count": 217,
   "metadata": {
    "ExecuteTime": {
     "end_time": "2018-12-06T22:04:25.022874Z",
     "start_time": "2018-12-06T22:04:25.018205Z"
    }
   },
   "outputs": [],
   "source": [
    "lb = LabelBinarizer()"
   ]
  },
  {
   "cell_type": "code",
   "execution_count": 232,
   "metadata": {
    "ExecuteTime": {
     "end_time": "2018-12-06T22:10:23.244061Z",
     "start_time": "2018-12-06T22:10:17.242065Z"
    }
   },
   "outputs": [],
   "source": [
    "cat = [lb.fit_transform(df[col]) for col in cat_cols]\n",
    "bol = [df[col].astype('int') for col in bool_cols]\n",
    "t = df.loc[:, numeric_cols].values\n",
    "final = [t] + bol + cat"
   ]
  },
  {
   "cell_type": "code",
   "execution_count": 233,
   "metadata": {
    "ExecuteTime": {
     "end_time": "2018-12-06T22:10:24.241092Z",
     "start_time": "2018-12-06T22:10:23.246369Z"
    }
   },
   "outputs": [],
   "source": [
    "y = df.score.values\n",
    "x = np.column_stack(tuple(final))"
   ]
  },
  {
   "cell_type": "code",
   "execution_count": 234,
   "metadata": {
    "ExecuteTime": {
     "end_time": "2018-12-06T22:10:24.247476Z",
     "start_time": "2018-12-06T22:10:24.242725Z"
    }
   },
   "outputs": [
    {
     "data": {
      "text/plain": [
       "(835249, 60)"
      ]
     },
     "execution_count": 234,
     "metadata": {},
     "output_type": "execute_result"
    }
   ],
   "source": [
    "df.shape"
   ]
  },
  {
   "cell_type": "code",
   "execution_count": 235,
   "metadata": {
    "ExecuteTime": {
     "end_time": "2018-12-06T22:10:24.256309Z",
     "start_time": "2018-12-06T22:10:24.251537Z"
    }
   },
   "outputs": [
    {
     "data": {
      "text/plain": [
       "(835249, 42)"
      ]
     },
     "execution_count": 235,
     "metadata": {},
     "output_type": "execute_result"
    }
   ],
   "source": [
    "x.shape"
   ]
  },
  {
   "cell_type": "code",
   "execution_count": 236,
   "metadata": {
    "ExecuteTime": {
     "end_time": "2018-12-06T22:10:39.451544Z",
     "start_time": "2018-12-06T22:10:39.129292Z"
    }
   },
   "outputs": [
    {
     "data": {
      "text/plain": [
       "47940"
      ]
     },
     "execution_count": 236,
     "metadata": {},
     "output_type": "execute_result"
    }
   ],
   "source": [
    "gc.collect()"
   ]
  },
  {
   "cell_type": "markdown",
   "metadata": {},
   "source": [
    "## Models"
   ]
  },
  {
   "cell_type": "markdown",
   "metadata": {},
   "source": [
    "First, we'll make a test-train split that we'll use for all our data:"
   ]
  },
  {
   "cell_type": "code",
   "execution_count": 237,
   "metadata": {
    "ExecuteTime": {
     "end_time": "2018-12-06T22:10:52.367307Z",
     "start_time": "2018-12-06T22:10:49.794774Z"
    }
   },
   "outputs": [],
   "source": [
    "X_train, X_test, y_train, y_test = train_test_split(x, y, test_size=0.2,\n",
    "                                                    random_state=10)"
   ]
  },
  {
   "cell_type": "code",
   "execution_count": 18,
   "metadata": {
    "ExecuteTime": {
     "end_time": "2018-12-06T08:41:41.295446Z",
     "start_time": "2018-12-06T08:41:41.183558Z"
    }
   },
   "outputs": [],
   "source": [
    "del x, y"
   ]
  },
  {
   "cell_type": "code",
   "execution_count": 91,
   "metadata": {
    "ExecuteTime": {
     "end_time": "2018-12-06T18:42:21.830926Z",
     "start_time": "2018-12-06T18:42:21.819777Z"
    }
   },
   "outputs": [],
   "source": [
    "def model_diagnostics(model):\n",
    "    y_predicted = model.predict(X_test)\n",
    "    r2 = r2_score(y_test, y_predicted)\n",
    "    mse = mean_squared_error(y_test, y_predicted)\n",
    "    mae = mean_absolute_error(y_test, y_predicted)\n",
    "    print(f\"R-Sq: {r2:.4}\")\n",
    "    print(f\"RMSE: {np.sqrt(mse)}\")\n",
    "    print(f\"MAE: {mae}\")\n",
    "    \n",
    "    return [r2,mse,mae]"
   ]
  },
  {
   "cell_type": "code",
   "execution_count": 158,
   "metadata": {
    "ExecuteTime": {
     "end_time": "2018-12-06T20:52:25.571108Z",
     "start_time": "2018-12-06T20:52:25.558539Z"
    }
   },
   "outputs": [],
   "source": [
    "def plot_residuals(y_test, y_predicted):\n",
    "    fig, (ax0, ax1) = plt.subplots(nrows=1, ncols=2, sharey=True)\n",
    "\n",
    "    sns.distplot(y_test, ax=ax0)\n",
    "    ax0.set(xlabel='Test scores')\n",
    "\n",
    "    sns.distplot(y_predicted, ax=ax1)\n",
    "    ax1.set(xlabel=\"Predicted scores\")\n",
    "\n",
    "    plt.show()\n",
    "    \n",
    "    fig, ax2 = plt.subplots()\n",
    "    \n",
    "    sns.distplot((y_test-y_predicted), ax = ax2)\n",
    "    ax2.set(xlabel=\"Residuals\")\n",
    "    plt.show()"
   ]
  },
  {
   "cell_type": "code",
   "execution_count": 122,
   "metadata": {
    "ExecuteTime": {
     "end_time": "2018-12-06T20:04:28.082004Z",
     "start_time": "2018-12-06T20:04:28.069830Z"
    }
   },
   "outputs": [],
   "source": [
    "def residuals_histogram(y_test, y_predicted):\n",
    "    fig, ax = plt.subplots()\n",
    "    ax.hist(abs(y_test - y_predicted), bins=400, range=[0, 500], log=True)\n",
    "    ax.set_xlabel(\"Count\")\n",
    "    ax.set_ylabel(\"Residuals\")\n",
    "    plt.show()"
   ]
  },
  {
   "cell_type": "code",
   "execution_count": 124,
   "metadata": {
    "ExecuteTime": {
     "end_time": "2018-12-06T20:22:14.662563Z",
     "start_time": "2018-12-06T20:22:14.655259Z"
    }
   },
   "outputs": [],
   "source": [
    "def y_test_vs_y_predicted(y_test,y_predicted):\n",
    "    fig, ax = plt.subplots()\n",
    "    ax.scatter(y_test, y_predicted)\n",
    "    ax.set_xlabel(\"Test Scores\")\n",
    "    ax.set_ylabel(\"Predicted Scores\")\n",
    "    plt.show()"
   ]
  },
  {
   "cell_type": "code",
   "execution_count": 188,
   "metadata": {
    "ExecuteTime": {
     "end_time": "2018-12-06T21:10:55.104471Z",
     "start_time": "2018-12-06T21:10:55.098509Z"
    }
   },
   "outputs": [],
   "source": [
    "def plot_coordinate_descent(model):\n",
    "    m_log_alphas = -np.log10(model.alphas_)\n",
    "\n",
    "    fig, ax = plt.subplots(figsize = (20,10))\n",
    "    \n",
    "    ax.plot(m_log_alphas, np.sqrt(model.mse_path_), ':')\n",
    "    ax.plot(m_log_alphas, np.sqrt(model.mse_path_.mean(axis=-1)), 'k',\n",
    "         label='Average across the folds', linewidth=2)\n",
    "    ax.axvline(-np.log10(model.alpha_), linestyle='--', color='k',\n",
    "            label='alpha: CV estimate')\n",
    "\n",
    "    ax.legend()\n",
    "\n",
    "    ax.set_xlabel('-log(alpha)')\n",
    "    ax.set_ylabel('Root mean square error')\n",
    "    ax.set_title('Root mean square error on each fold: coordinate descent')\n",
    "    ax.axis('tight')\n",
    "    plt.show()"
   ]
  },
  {
   "cell_type": "code",
   "execution_count": 276,
   "metadata": {
    "ExecuteTime": {
     "end_time": "2018-12-06T22:25:52.135772Z",
     "start_time": "2018-12-06T22:25:52.125063Z"
    }
   },
   "outputs": [],
   "source": [
    "def get_feature_importance(model):\n",
    "    X_non_text = pd.get_dummies(df[cat_cols])\n",
    "    features = numeric_cols + bool_cols + list(X_non_text.columns)\n",
    "\n",
    "    feature_importance = dict(zip(features, model.feature_importances_))\n",
    "    for name, importance in sorted(feature_importance.items(), key=lambda x: x[1], reverse=True):\n",
    "        print(f\"{name:<30}: {importance:>6.2%}\")\n",
    "  \n",
    "    print(f\"\\nTotal importance: {sum(feature_importance.values()):.2%}\")\n",
    "    return feature_importance"
   ]
  },
  {
   "cell_type": "code",
   "execution_count": 138,
   "metadata": {
    "ExecuteTime": {
     "end_time": "2018-12-06T20:31:24.866817Z",
     "start_time": "2018-12-06T20:31:24.861360Z"
    }
   },
   "outputs": [],
   "source": [
    "model_performance_dict = dict()"
   ]
  },
  {
   "cell_type": "markdown",
   "metadata": {},
   "source": [
    "### Linear Regression"
   ]
  },
  {
   "cell_type": "code",
   "execution_count": 238,
   "metadata": {
    "ExecuteTime": {
     "end_time": "2018-12-06T22:11:06.728220Z",
     "start_time": "2018-12-06T22:11:06.725166Z"
    }
   },
   "outputs": [],
   "source": [
    "from sklearn.linear_model import LinearRegression\n",
    "import warnings\n",
    "warnings.filterwarnings('ignore')"
   ]
  },
  {
   "cell_type": "code",
   "execution_count": 239,
   "metadata": {
    "ExecuteTime": {
     "end_time": "2018-12-06T22:11:14.045307Z",
     "start_time": "2018-12-06T22:11:07.384109Z"
    }
   },
   "outputs": [
    {
     "data": {
      "text/plain": [
       "Pipeline(memory=None,\n",
       "     steps=[('scl', StandardScaler(copy=True, with_mean=True, with_std=True)), ('reg', LinearRegression(copy_X=True, fit_intercept=True, n_jobs=None,\n",
       "         normalize=False))])"
      ]
     },
     "execution_count": 239,
     "metadata": {},
     "output_type": "execute_result"
    }
   ],
   "source": [
    "pipe_lr = Pipeline([('scl', StandardScaler()),\n",
    "                    ('reg', LinearRegression())])\n",
    "\n",
    "pipe_lr.fit(X_train,y_train)"
   ]
  },
  {
   "cell_type": "code",
   "execution_count": 240,
   "metadata": {
    "ExecuteTime": {
     "end_time": "2018-12-06T22:11:14.694435Z",
     "start_time": "2018-12-06T22:11:14.048750Z"
    }
   },
   "outputs": [
    {
     "name": "stdout",
     "output_type": "stream",
     "text": [
      "R-Sq: 0.07123\n",
      "RMSE: 47.732175851148234\n",
      "MAE: 11.964798098027813\n"
     ]
    }
   ],
   "source": [
    "model_performance_dict[\"Linear Regression\"] = model_diagnostics(pipe_lr)"
   ]
  },
  {
   "cell_type": "code",
   "execution_count": 241,
   "metadata": {
    "ExecuteTime": {
     "end_time": "2018-12-06T22:11:15.849632Z",
     "start_time": "2018-12-06T22:11:14.696669Z"
    }
   },
   "outputs": [
    {
     "data": {
      "image/png": "[encoded data removed]",
      "text/plain": [
       "<Figure size 432x288 with 2 Axes>"
      ]
     },
     "metadata": {
      "needs_background": "light"
     },
     "output_type": "display_data"
    },
    {
     "data": {
      "image/png": "[encoded data removed]",
      "text/plain": [
       "<Figure size 432x288 with 1 Axes>"
      ]
     },
     "metadata": {
      "needs_background": "light"
     },
     "output_type": "display_data"
    }
   ],
   "source": [
    "y_predicted = pipe_lr.predict(X_test)\n",
    "plot_residuals(y_test,y_predicted)"
   ]
  },
  {
   "cell_type": "code",
   "execution_count": 242,
   "metadata": {
    "ExecuteTime": {
     "end_time": "2018-12-06T22:11:17.306432Z",
     "start_time": "2018-12-06T22:11:15.852489Z"
    }
   },
   "outputs": [
    {
     "data": {
      "image/png": "[encoded data removed]",
      "text/plain": [
       "<Figure size 432x288 with 1 Axes>"
      ]
     },
     "metadata": {
      "needs_background": "light"
     },
     "output_type": "display_data"
    }
   ],
   "source": [
    "residuals_histogram(y_test,y_predicted)"
   ]
  },
  {
   "cell_type": "code",
   "execution_count": 243,
   "metadata": {
    "ExecuteTime": {
     "end_time": "2018-12-06T22:11:19.037510Z",
     "start_time": "2018-12-06T22:11:17.308973Z"
    }
   },
   "outputs": [
    {
     "data": {
      "image/png": "[encoded data removed]",
      "text/plain": [
       "<Figure size 432x288 with 1 Axes>"
      ]
     },
     "metadata": {
      "needs_background": "light"
     },
     "output_type": "display_data"
    }
   ],
   "source": [
    "y_test_vs_y_predicted(y_test,y_predicted)"
   ]
  },
  {
   "cell_type": "markdown",
   "metadata": {},
   "source": [
    "### Lasso Regression"
   ]
  },
  {
   "cell_type": "code",
   "execution_count": 244,
   "metadata": {
    "ExecuteTime": {
     "end_time": "2018-12-06T22:11:33.152152Z",
     "start_time": "2018-12-06T22:11:33.145295Z"
    }
   },
   "outputs": [],
   "source": [
    "from sklearn.linear_model import LassoCV"
   ]
  },
  {
   "cell_type": "code",
   "execution_count": 247,
   "metadata": {
    "ExecuteTime": {
     "end_time": "2018-12-06T22:12:44.943670Z",
     "start_time": "2018-12-06T22:12:07.122295Z"
    }
   },
   "outputs": [
    {
     "data": {
      "text/plain": [
       "169.20362692913852"
      ]
     },
     "execution_count": 247,
     "metadata": {},
     "output_type": "execute_result"
    }
   ],
   "source": [
    "lasso = LassoCV(cv=30).fit(X_train, y_train)\n",
    "lasso.alpha_"
   ]
  },
  {
   "cell_type": "code",
   "execution_count": 248,
   "metadata": {
    "ExecuteTime": {
     "end_time": "2018-12-06T22:12:45.333437Z",
     "start_time": "2018-12-06T22:12:44.946394Z"
    }
   },
   "outputs": [
    {
     "data": {
      "image/png": "[encoded data removed]",
      "text/plain": [
       "<Figure size 1440x720 with 1 Axes>"
      ]
     },
     "metadata": {
      "needs_background": "light"
     },
     "output_type": "display_data"
    }
   ],
   "source": [
    "plot_coordinate_descent(lasso)"
   ]
  },
  {
   "cell_type": "code",
   "execution_count": 249,
   "metadata": {
    "ExecuteTime": {
     "end_time": "2018-12-06T22:12:45.972256Z",
     "start_time": "2018-12-06T22:12:45.336555Z"
    }
   },
   "outputs": [
    {
     "name": "stdout",
     "output_type": "stream",
     "text": [
      "R-Sq: 0.03973\n",
      "RMSE: 48.534881743522526\n",
      "MAE: 11.65703096475598\n"
     ]
    }
   ],
   "source": [
    "model_performance_dict[\"Lasso Regression\"] = model_diagnostics(lasso)"
   ]
  },
  {
   "cell_type": "code",
   "execution_count": 250,
   "metadata": {
    "ExecuteTime": {
     "end_time": "2018-12-06T22:12:47.534355Z",
     "start_time": "2018-12-06T22:12:45.975800Z"
    }
   },
   "outputs": [
    {
     "data": {
      "image/png": "[encoded data removed]",
      "text/plain": [
       "<Figure size 432x288 with 2 Axes>"
      ]
     },
     "metadata": {
      "needs_background": "light"
     },
     "output_type": "display_data"
    },
    {
     "data": {
      "image/png": "[encoded data removed]",
      "text/plain": [
       "<Figure size 432x288 with 1 Axes>"
      ]
     },
     "metadata": {
      "needs_background": "light"
     },
     "output_type": "display_data"
    }
   ],
   "source": [
    "y_predicted = lasso.predict(X_test)\n",
    "plot_residuals(y_test,y_predicted)"
   ]
  },
  {
   "cell_type": "code",
   "execution_count": 251,
   "metadata": {
    "ExecuteTime": {
     "end_time": "2018-12-06T22:12:48.991609Z",
     "start_time": "2018-12-06T22:12:47.536405Z"
    }
   },
   "outputs": [
    {
     "data": {
      "image/png": "[encoded data removed]",
      "text/plain": [
       "<Figure size 432x288 with 1 Axes>"
      ]
     },
     "metadata": {
      "needs_background": "light"
     },
     "output_type": "display_data"
    }
   ],
   "source": [
    "residuals_histogram(y_test,y_predicted)"
   ]
  },
  {
   "cell_type": "code",
   "execution_count": 252,
   "metadata": {
    "ExecuteTime": {
     "end_time": "2018-12-06T22:12:50.938825Z",
     "start_time": "2018-12-06T22:12:48.993995Z"
    }
   },
   "outputs": [
    {
     "data": {
      "image/png": "[encoded data removed]",
      "text/plain": [
       "<Figure size 432x288 with 1 Axes>"
      ]
     },
     "metadata": {
      "needs_background": "light"
     },
     "output_type": "display_data"
    }
   ],
   "source": [
    "y_test_vs_y_predicted(y_test,y_predicted)"
   ]
  },
  {
   "cell_type": "markdown",
   "metadata": {},
   "source": [
    "### Ridge Regression"
   ]
  },
  {
   "cell_type": "code",
   "execution_count": 253,
   "metadata": {
    "ExecuteTime": {
     "end_time": "2018-12-06T22:12:58.419191Z",
     "start_time": "2018-12-06T22:12:58.413290Z"
    }
   },
   "outputs": [],
   "source": [
    "from sklearn.linear_model import RidgeCV"
   ]
  },
  {
   "cell_type": "code",
   "execution_count": 254,
   "metadata": {
    "ExecuteTime": {
     "end_time": "2018-12-06T22:15:59.759903Z",
     "start_time": "2018-12-06T22:12:59.296150Z"
    }
   },
   "outputs": [
    {
     "data": {
      "text/plain": [
       "10.0"
      ]
     },
     "execution_count": 254,
     "metadata": {},
     "output_type": "execute_result"
    }
   ],
   "source": [
    "ridge = RidgeCV(cv=10).fit(X_train, y_train)\n",
    "ridge.alpha_"
   ]
  },
  {
   "cell_type": "code",
   "execution_count": 255,
   "metadata": {
    "ExecuteTime": {
     "end_time": "2018-12-06T22:16:00.419299Z",
     "start_time": "2018-12-06T22:15:59.763040Z"
    }
   },
   "outputs": [
    {
     "name": "stdout",
     "output_type": "stream",
     "text": [
      "R-Sq: 0.07172\n",
      "RMSE: 47.71967537998073\n",
      "MAE: 11.802863108653188\n"
     ]
    }
   ],
   "source": [
    "model_performance_dict[\"Ridge Regression\"] = model_diagnostics(ridge)"
   ]
  },
  {
   "cell_type": "code",
   "execution_count": 256,
   "metadata": {
    "ExecuteTime": {
     "end_time": "2018-12-06T22:16:01.593499Z",
     "start_time": "2018-12-06T22:16:00.421300Z"
    }
   },
   "outputs": [
    {
     "data": {
      "image/png": "[encoded data removed]",
      "text/plain": [
       "<Figure size 432x288 with 2 Axes>"
      ]
     },
     "metadata": {
      "needs_background": "light"
     },
     "output_type": "display_data"
    },
    {
     "data": {
      "image/png": "[encoded data removed]",
      "text/plain": [
       "<Figure size 432x288 with 1 Axes>"
      ]
     },
     "metadata": {
      "needs_background": "light"
     },
     "output_type": "display_data"
    }
   ],
   "source": [
    "y_predicted = ridge.predict(X_test)\n",
    "plot_residuals(y_test,y_predicted)"
   ]
  },
  {
   "cell_type": "code",
   "execution_count": 257,
   "metadata": {
    "ExecuteTime": {
     "end_time": "2018-12-06T22:16:03.030675Z",
     "start_time": "2018-12-06T22:16:01.596847Z"
    }
   },
   "outputs": [
    {
     "data": {
      "image/png": "[encoded data removed]",
      "text/plain": [
       "<Figure size 432x288 with 1 Axes>"
      ]
     },
     "metadata": {
      "needs_background": "light"
     },
     "output_type": "display_data"
    }
   ],
   "source": [
    "residuals_histogram(y_test,y_predicted)"
   ]
  },
  {
   "cell_type": "code",
   "execution_count": 258,
   "metadata": {
    "ExecuteTime": {
     "end_time": "2018-12-06T22:16:04.704040Z",
     "start_time": "2018-12-06T22:16:03.033996Z"
    }
   },
   "outputs": [
    {
     "data": {
      "image/png": "[encoded data removed]",
      "text/plain": [
       "<Figure size 432x288 with 1 Axes>"
      ]
     },
     "metadata": {
      "needs_background": "light"
     },
     "output_type": "display_data"
    }
   ],
   "source": [
    "y_test_vs_y_predicted(y_test,y_predicted)"
   ]
  },
  {
   "cell_type": "markdown",
   "metadata": {},
   "source": [
    "### Elastic Net Regression"
   ]
  },
  {
   "cell_type": "code",
   "execution_count": 259,
   "metadata": {
    "ExecuteTime": {
     "end_time": "2018-12-06T22:16:04.709129Z",
     "start_time": "2018-12-06T22:16:04.706072Z"
    }
   },
   "outputs": [],
   "source": [
    "from sklearn.linear_model import ElasticNetCV"
   ]
  },
  {
   "cell_type": "code",
   "execution_count": 260,
   "metadata": {
    "ExecuteTime": {
     "end_time": "2018-12-06T22:16:35.536253Z",
     "start_time": "2018-12-06T22:16:04.711801Z"
    }
   },
   "outputs": [],
   "source": [
    "elastic_net = ElasticNetCV(cv = 30).fit(X_train, y_train)"
   ]
  },
  {
   "cell_type": "code",
   "execution_count": 261,
   "metadata": {
    "ExecuteTime": {
     "end_time": "2018-12-06T22:16:35.544514Z",
     "start_time": "2018-12-06T22:16:35.538114Z"
    }
   },
   "outputs": [
    {
     "data": {
      "text/plain": [
       "338.4072538582771"
      ]
     },
     "execution_count": 261,
     "metadata": {},
     "output_type": "execute_result"
    }
   ],
   "source": [
    "elastic_net.alpha_"
   ]
  },
  {
   "cell_type": "code",
   "execution_count": 262,
   "metadata": {
    "ExecuteTime": {
     "end_time": "2018-12-06T22:16:35.895514Z",
     "start_time": "2018-12-06T22:16:35.546379Z"
    }
   },
   "outputs": [
    {
     "data": {
      "image/png": "[encoded data removed]",
      "text/plain": [
       "<Figure size 1440x720 with 1 Axes>"
      ]
     },
     "metadata": {
      "needs_background": "light"
     },
     "output_type": "display_data"
    }
   ],
   "source": [
    "plot_coordinate_descent(elastic_net)"
   ]
  },
  {
   "cell_type": "code",
   "execution_count": 263,
   "metadata": {
    "ExecuteTime": {
     "end_time": "2018-12-06T22:16:36.395765Z",
     "start_time": "2018-12-06T22:16:35.897391Z"
    }
   },
   "outputs": [
    {
     "name": "stdout",
     "output_type": "stream",
     "text": [
      "R-Sq: 0.03973\n",
      "RMSE: 48.53490438428505\n",
      "MAE: 11.656675597185762\n"
     ]
    }
   ],
   "source": [
    "model_performance_dict[\"Elastic Net Regression\"] = model_diagnostics(elastic_net)"
   ]
  },
  {
   "cell_type": "code",
   "execution_count": 264,
   "metadata": {
    "ExecuteTime": {
     "end_time": "2018-12-06T22:16:37.584906Z",
     "start_time": "2018-12-06T22:16:36.398047Z"
    }
   },
   "outputs": [
    {
     "data": {
      "image/png": "[encoded data removed]",
      "text/plain": [
       "<Figure size 432x288 with 2 Axes>"
      ]
     },
     "metadata": {
      "needs_background": "light"
     },
     "output_type": "display_data"
    },
    {
     "data": {
      "image/png": "[encoded data removed]",
      "text/plain": [
       "<Figure size 432x288 with 1 Axes>"
      ]
     },
     "metadata": {
      "needs_background": "light"
     },
     "output_type": "display_data"
    }
   ],
   "source": [
    "y_predicted = elastic_net.predict(X_test)\n",
    "plot_residuals(y_test,y_predicted)"
   ]
  },
  {
   "cell_type": "code",
   "execution_count": 265,
   "metadata": {
    "ExecuteTime": {
     "end_time": "2018-12-06T22:16:38.708231Z",
     "start_time": "2018-12-06T22:16:37.587563Z"
    }
   },
   "outputs": [
    {
     "data": {
      "image/png": "[encoded data removed]",
      "text/plain": [
       "<Figure size 432x288 with 1 Axes>"
      ]
     },
     "metadata": {
      "needs_background": "light"
     },
     "output_type": "display_data"
    }
   ],
   "source": [
    "residuals_histogram(y_test,y_predicted)"
   ]
  },
  {
   "cell_type": "code",
   "execution_count": 266,
   "metadata": {
    "ExecuteTime": {
     "end_time": "2018-12-06T22:16:40.339271Z",
     "start_time": "2018-12-06T22:16:38.710473Z"
    }
   },
   "outputs": [
    {
     "data": {
      "image/png": "[encoded data removed]",
      "text/plain": [
       "<Figure size 432x288 with 1 Axes>"
      ]
     },
     "metadata": {
      "needs_background": "light"
     },
     "output_type": "display_data"
    }
   ],
   "source": [
    "y_test_vs_y_predicted(y_test,y_predicted)"
   ]
  },
  {
   "cell_type": "markdown",
   "metadata": {},
   "source": [
    "### Random Forest Regression"
   ]
  },
  {
   "cell_type": "code",
   "execution_count": 267,
   "metadata": {
    "ExecuteTime": {
     "end_time": "2018-12-06T22:16:40.348913Z",
     "start_time": "2018-12-06T22:16:40.341484Z"
    }
   },
   "outputs": [],
   "source": [
    "from sklearn.ensemble import RandomForestRegressor"
   ]
  },
  {
   "cell_type": "code",
   "execution_count": 268,
   "metadata": {
    "ExecuteTime": {
     "end_time": "2018-12-06T22:21:54.533094Z",
     "start_time": "2018-12-06T22:16:40.351074Z"
    }
   },
   "outputs": [
    {
     "data": {
      "text/plain": [
       "RandomForestRegressor(bootstrap=True, criterion='mse', max_depth=None,\n",
       "           max_features='auto', max_leaf_nodes=None,\n",
       "           min_impurity_decrease=0.0, min_impurity_split=None,\n",
       "           min_samples_leaf=10, min_samples_split=2,\n",
       "           min_weight_fraction_leaf=0.0, n_estimators=40, n_jobs=-1,\n",
       "           oob_score=False, random_state=10, verbose=0, warm_start=False)"
      ]
     },
     "execution_count": 268,
     "metadata": {},
     "output_type": "execute_result"
    }
   ],
   "source": [
    "rf = RandomForestRegressor(n_jobs=-1, n_estimators=40, min_samples_leaf=10, random_state = 10)\n",
    "rf.fit(X_train, y_train)"
   ]
  },
  {
   "cell_type": "code",
   "execution_count": 272,
   "metadata": {
    "ExecuteTime": {
     "end_time": "2018-12-06T22:22:01.191435Z",
     "start_time": "2018-12-06T22:21:59.431833Z"
    }
   },
   "outputs": [
    {
     "name": "stdout",
     "output_type": "stream",
     "text": [
      "R-Sq: 0.3068\n",
      "RMSE: 41.236154180028485\n",
      "MAE: 8.082310471288029\n"
     ]
    }
   ],
   "source": [
    "model_performance_dict[\"Random Forest\"] = model_diagnostics(rf)"
   ]
  },
  {
   "cell_type": "code",
   "execution_count": 273,
   "metadata": {
    "ExecuteTime": {
     "end_time": "2018-12-06T22:22:03.807631Z",
     "start_time": "2018-12-06T22:22:01.194725Z"
    }
   },
   "outputs": [
    {
     "data": {
      "image/png": "[encoded data removed]",
      "text/plain": [
       "<Figure size 432x288 with 2 Axes>"
      ]
     },
     "metadata": {
      "needs_background": "light"
     },
     "output_type": "display_data"
    },
    {
     "data": {
      "image/png": "[encoded data removed]",
      "text/plain": [
       "<Figure size 432x288 with 1 Axes>"
      ]
     },
     "metadata": {
      "needs_background": "light"
     },
     "output_type": "display_data"
    }
   ],
   "source": [
    "y_predicted = rf.predict(X_test)\n",
    "plot_residuals(y_test,y_predicted)"
   ]
  },
  {
   "cell_type": "code",
   "execution_count": 274,
   "metadata": {
    "ExecuteTime": {
     "end_time": "2018-12-06T22:22:04.955862Z",
     "start_time": "2018-12-06T22:22:03.809856Z"
    }
   },
   "outputs": [
    {
     "data": {
      "image/png": "[encoded data removed]",
      "text/plain": [
       "<Figure size 432x288 with 1 Axes>"
      ]
     },
     "metadata": {
      "needs_background": "light"
     },
     "output_type": "display_data"
    }
   ],
   "source": [
    "residuals_histogram(y_test,y_predicted)"
   ]
  },
  {
   "cell_type": "code",
   "execution_count": 275,
   "metadata": {
    "ExecuteTime": {
     "end_time": "2018-12-06T22:22:06.522573Z",
     "start_time": "2018-12-06T22:22:04.958331Z"
    }
   },
   "outputs": [
    {
     "data": {
      "image/png": "[encoded data removed]",
      "text/plain": [
       "<Figure size 432x288 with 1 Axes>"
      ]
     },
     "metadata": {
      "needs_background": "light"
     },
     "output_type": "display_data"
    }
   ],
   "source": [
    "y_test_vs_y_predicted(y_test,y_predicted)"
   ]
  },
  {
   "cell_type": "code",
   "execution_count": 277,
   "metadata": {
    "ExecuteTime": {
     "end_time": "2018-12-06T22:26:00.105309Z",
     "start_time": "2018-12-06T22:25:59.950608Z"
    },
    "scrolled": true
   },
   "outputs": [
    {
     "name": "stdout",
     "output_type": "stream",
     "text": [
      "parent_score                  : 23.63%\n",
      "time_since_parent             : 16.78%\n",
      "no_of_past_comments           : 11.71%\n",
      "time_since_comment_tree_root  :  6.11%\n",
      "gilded                        :  6.05%\n",
      "comment_tree_root_score       :  5.26%\n",
      "link_score                    :  3.61%\n",
      "time_since_link               :  2.84%\n",
      "title_cosine                  :  2.56%\n",
      "title_euc                     :  2.40%\n",
      "controversiality              :  2.22%\n",
      "parent_euc                    :  1.78%\n",
      "word_counts                   :  1.75%\n",
      "senti_neu                     :  1.69%\n",
      "parent_cosine                 :  1.67%\n",
      "hour_of_comment               :  1.62%\n",
      "senti_comp                    :  1.49%\n",
      "senti_pos                     :  1.34%\n",
      "weekday                       :  1.23%\n",
      "senti_neg                     :  1.16%\n",
      "upvote_ratio                  :  0.99%\n",
      "depth                         :  0.37%\n",
      "subjectivity                  :  0.30%\n",
      "subreddit_movies              :  0.25%\n",
      "is_selftext                   :  0.24%\n",
      "subreddit_food                :  0.23%\n",
      "is_edited                     :  0.21%\n",
      "no_of_linked_urls             :  0.18%\n",
      "is_flair_css                  :  0.16%\n",
      "title_url_in_top              :  0.10%\n",
      "no_quoted                     :  0.04%\n",
      "over_18                       :  0.03%\n",
      "is_quoted                     :  0.01%\n",
      "subreddit_gaming              :  0.01%\n",
      "distinguished_user            :  0.00%\n",
      "is_flair                      :  0.00%\n",
      "no_of_linked_sr               :  0.00%\n",
      "distinguished_moderator       :  0.00%\n",
      "no_of_quoted_users            :  0.00%\n",
      "subreddit_science             :  0.00%\n",
      "subreddit_worldnews           :  0.00%\n",
      "distinguished_admin           :  0.00%\n",
      "\n",
      "Total importance: 100.00%\n"
     ]
    }
   ],
   "source": [
    "rf_feature_imps = get_feature_importance(rf)"
   ]
  },
  {
   "cell_type": "markdown",
   "metadata": {},
   "source": [
    "### Gradient Boosting Regressor"
   ]
  },
  {
   "cell_type": "code",
   "execution_count": 147,
   "metadata": {
    "ExecuteTime": {
     "end_time": "2018-12-06T06:47:25.857513Z",
     "start_time": "2018-12-06T06:47:25.849410Z"
    }
   },
   "outputs": [],
   "source": [
    "from sklearn.ensemble import GradientBoostingRegressor"
   ]
  },
  {
   "cell_type": "code",
   "execution_count": null,
   "metadata": {
    "ExecuteTime": {
     "start_time": "2018-12-06T07:01:35.247Z"
    }
   },
   "outputs": [],
   "source": [
    "m = GradientBoostingRegressor(n_estimators=60, max_depth=15)\n",
    "m.fit(X_train, y_train)"
   ]
  },
  {
   "cell_type": "code",
   "execution_count": null,
   "metadata": {
    "ExecuteTime": {
     "start_time": "2018-12-06T07:01:35.869Z"
    }
   },
   "outputs": [],
   "source": [
    "y_predicted = m.predict(X_test)\n",
    "r2 = r2_score(y_test, y_predicted)\n",
    "mse = mean_squared_error(y_test, y_predicted)\n",
    "print(f\"R-Sq: {r2:.4}\")\n",
    "print(f\"RMSE: {np.sqrt(mse)}\")"
   ]
  },
  {
   "cell_type": "code",
   "execution_count": null,
   "metadata": {
    "ExecuteTime": {
     "start_time": "2018-12-06T07:01:36.599Z"
    }
   },
   "outputs": [],
   "source": [
    "plt.hist(abs(y_test - y_predicted), bins=400, range=[0, 500], log=True);"
   ]
  },
  {
   "cell_type": "markdown",
   "metadata": {},
   "source": [
    "### XGBoost Regressor"
   ]
  },
  {
   "cell_type": "code",
   "execution_count": 153,
   "metadata": {
    "ExecuteTime": {
     "end_time": "2018-12-06T06:57:14.394998Z",
     "start_time": "2018-12-06T06:57:14.360976Z"
    }
   },
   "outputs": [],
   "source": [
    "import xgboost"
   ]
  },
  {
   "cell_type": "code",
   "execution_count": null,
   "metadata": {
    "ExecuteTime": {
     "start_time": "2018-12-06T07:01:44.347Z"
    }
   },
   "outputs": [],
   "source": [
    "xgb = xgboost.XGBRegressor(n_estimators=80, max_depth=15)"
   ]
  },
  {
   "cell_type": "code",
   "execution_count": null,
   "metadata": {
    "ExecuteTime": {
     "start_time": "2018-12-06T07:01:44.788Z"
    }
   },
   "outputs": [],
   "source": [
    "xgb.fit(X_train, y_train)"
   ]
  },
  {
   "cell_type": "code",
   "execution_count": null,
   "metadata": {
    "ExecuteTime": {
     "start_time": "2018-12-06T07:01:45.428Z"
    }
   },
   "outputs": [],
   "source": [
    "y_predicted = xgb.predict(X_test)\n",
    "r2 = r2_score(y_test, y_predicted)\n",
    "mse = mean_squared_error(y_test, y_predicted)\n",
    "print(f\"R-Sq: {r2:.4}\")\n",
    "print(f\"RMSE: {np.sqrt(mse)}\")"
   ]
  },
  {
   "cell_type": "code",
   "execution_count": null,
   "metadata": {},
   "outputs": [],
   "source": []
  }
 ],
 "metadata": {
  "kernelspec": {
   "display_name": "Python 3",
   "language": "python",
   "name": "python3"
  },
  "language_info": {
   "codemirror_mode": {
    "name": "ipython",
    "version": 3
   },
   "file_extension": ".py",
   "mimetype": "text/x-python",
   "name": "python",
   "nbconvert_exporter": "python",
   "pygments_lexer": "ipython3",
   "version": "3.6.6"
  },
  "toc": {
   "base_numbering": 1,
   "nav_menu": {},
   "number_sections": true,
   "sideBar": true,
   "skip_h1_title": false,
   "title_cell": "Table of Contents",
   "title_sidebar": "Contents",
   "toc_cell": false,
   "toc_position": {},
   "toc_section_display": true,
   "toc_window_display": true
  }
 },
 "nbformat": 4,
 "nbformat_minor": 2
}
