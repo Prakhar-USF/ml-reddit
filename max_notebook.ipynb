{
 "cells": [
  {
   "cell_type": "code",
   "execution_count": 1,
   "metadata": {
    "ExecuteTime": {
     "end_time": "2018-12-06T02:35:40.964169Z",
     "start_time": "2018-12-06T02:35:40.262044Z"
    }
   },
   "outputs": [],
   "source": [
    "import re\n",
    "\n",
    "import pandas as pd\n",
    "import re, string\n",
    "import numpy as np\n",
    "import matplotlib.pyplot as plt\n",
    "import feather\n",
    "\n",
    "from pathlib import Path\n",
    "from collections import Counter\n",
    "from multiprocessing import Pool\n",
    "from urllib.parse import urlparse\n",
    "\n",
    "%matplotlib inline"
   ]
  },
  {
   "cell_type": "code",
   "execution_count": 2,
   "metadata": {
    "ExecuteTime": {
     "end_time": "2018-12-06T02:35:41.802808Z",
     "start_time": "2018-12-06T02:35:40.965406Z"
    }
   },
   "outputs": [],
   "source": [
    "from sklearn.metrics import mean_squared_error, r2_score\n",
    "from sklearn.model_selection import train_test_split\n",
    "from sklearn.preprocessing import LabelBinarizer, MultiLabelBinarizer\n",
    "from sklearn.feature_extraction.text import TfidfVectorizer\n",
    "from sklearn.linear_model import LinearRegression"
   ]
  },
  {
   "cell_type": "code",
   "execution_count": null,
   "metadata": {
    "ExecuteTime": {
     "end_time": "2018-12-05T23:51:54.060239Z",
     "start_time": "2018-12-05T23:51:54.055579Z"
    }
   },
   "outputs": [],
   "source": [
    "path = Path('../Data/May2015_subset.fthr')\n",
    "df = feather.read_dataframe(path)"
   ]
  },
  {
   "cell_type": "code",
   "execution_count": 16,
   "metadata": {
    "ExecuteTime": {
     "end_time": "2018-12-05T22:53:57.789905Z",
     "start_time": "2018-12-05T22:53:57.785708Z"
    }
   },
   "outputs": [],
   "source": [
    "subreddit_list = ['worldnews', 'movies', 'gaming', 'science', 'food']"
   ]
  },
  {
   "cell_type": "code",
   "execution_count": 17,
   "metadata": {
    "ExecuteTime": {
     "end_time": "2018-12-05T22:53:59.726548Z",
     "start_time": "2018-12-05T22:53:57.793394Z"
    }
   },
   "outputs": [],
   "source": [
    "df = df[df.subreddit.isin(subreddit_list)]"
   ]
  },
  {
   "cell_type": "code",
   "execution_count": 18,
   "metadata": {
    "ExecuteTime": {
     "end_time": "2018-12-05T22:53:59.733182Z",
     "start_time": "2018-12-05T22:53:59.728820Z"
    }
   },
   "outputs": [],
   "source": [
    "df.reset_index(inplace=True, drop=True)"
   ]
  },
  {
   "cell_type": "code",
   "execution_count": 19,
   "metadata": {
    "ExecuteTime": {
     "end_time": "2018-12-05T22:54:00.894238Z",
     "start_time": "2018-12-05T22:53:59.735703Z"
    }
   },
   "outputs": [],
   "source": [
    "df['subreddit'] = df.subreddit.astype('category')\n",
    "df['subreddit_id'] = df.subreddit_id.astype('category')\n",
    "df['distinguished'] = df.distinguished.astype('category')"
   ]
  },
  {
   "cell_type": "code",
   "execution_count": 20,
   "metadata": {
    "ExecuteTime": {
     "end_time": "2018-12-05T22:54:01.579898Z",
     "start_time": "2018-12-05T22:54:00.896661Z"
    }
   },
   "outputs": [],
   "source": [
    "df['is_flair'] = ~df.author_flair_text.apply(lambda x: x is None)\n",
    "df['is_flair_css'] = ~df.author_flair_css_class.apply(lambda x: x is None)"
   ]
  },
  {
   "cell_type": "markdown",
   "metadata": {},
   "source": [
    "Columns with no extra information"
   ]
  },
  {
   "cell_type": "code",
   "execution_count": 21,
   "metadata": {
    "ExecuteTime": {
     "end_time": "2018-12-05T22:54:04.659500Z",
     "start_time": "2018-12-05T22:54:01.582584Z"
    }
   },
   "outputs": [
    {
     "name": "stdout",
     "output_type": "stream",
     "text": [
      "score_hidden\n",
      "removal_reason\n",
      "downs\n",
      "archived\n"
     ]
    }
   ],
   "source": [
    "for col in df.columns:\n",
    "    if len(df[col].unique()) == 1:\n",
    "        print(col)"
   ]
  },
  {
   "cell_type": "code",
   "execution_count": 22,
   "metadata": {
    "ExecuteTime": {
     "end_time": "2018-12-05T22:54:04.854420Z",
     "start_time": "2018-12-05T22:54:04.661910Z"
    }
   },
   "outputs": [],
   "source": [
    "df.drop(['archived', 'id', 'removal_reason',\n",
    "         'score_hidden', 'downs', 'subreddit_id',\n",
    "         'author_flair_css_class', 'author_flair_text',\n",
    "         'author'], axis=1, inplace=True)"
   ]
  },
  {
   "cell_type": "code",
   "execution_count": 23,
   "metadata": {
    "ExecuteTime": {
     "end_time": "2018-12-06T02:35:47.366573Z",
     "start_time": "2018-12-06T02:35:47.318638Z"
    }
   },
   "outputs": [
    {
     "data": {
      "text/plain": [
       "49"
      ]
     },
     "execution_count": 23,
     "metadata": {},
     "output_type": "execute_result"
    }
   ],
   "source": [
    "import gc\n",
    "gc.collect()"
   ]
  },
  {
   "cell_type": "code",
   "execution_count": 24,
   "metadata": {
    "ExecuteTime": {
     "end_time": "2018-12-05T22:54:06.797904Z",
     "start_time": "2018-12-05T22:54:04.910246Z"
    },
    "scrolled": true
   },
   "outputs": [
    {
     "data": {
      "image/png": "[encoded data removed]",
      "text/plain": [
       "<Figure size 432x288 with 1 Axes>"
      ]
     },
     "metadata": {},
     "output_type": "display_data"
    }
   ],
   "source": [
    "plt.hist(df.score, log=True, bins=300);"
   ]
  },
  {
   "cell_type": "code",
   "execution_count": 25,
   "metadata": {
    "ExecuteTime": {
     "end_time": "2018-12-05T22:54:06.820107Z",
     "start_time": "2018-12-05T22:54:06.800470Z"
    }
   },
   "outputs": [
    {
     "data": {
      "text/plain": [
       "worldnews    490354\n",
       "movies       376601\n",
       "gaming       361265\n",
       "science       89413\n",
       "food          55231\n",
       "Name: subreddit, dtype: int64"
      ]
     },
     "execution_count": 25,
     "metadata": {},
     "output_type": "execute_result"
    }
   ],
   "source": [
    "df.subreddit.value_counts()"
   ]
  },
  {
   "cell_type": "code",
   "execution_count": 26,
   "metadata": {
    "ExecuteTime": {
     "end_time": "2018-12-05T22:54:06.842717Z",
     "start_time": "2018-12-05T22:54:06.822494Z"
    }
   },
   "outputs": [],
   "source": [
    "df['time'] = pd.to_datetime(df.created_utc, unit='s')"
   ]
  },
  {
   "cell_type": "code",
   "execution_count": 27,
   "metadata": {
    "ExecuteTime": {
     "end_time": "2018-12-05T22:54:06.992734Z",
     "start_time": "2018-12-05T22:54:06.844976Z"
    }
   },
   "outputs": [],
   "source": [
    "df.drop(['created_utc'], axis=1, inplace=True)"
   ]
  },
  {
   "cell_type": "code",
   "execution_count": 28,
   "metadata": {
    "ExecuteTime": {
     "end_time": "2018-12-05T22:54:07.023699Z",
     "start_time": "2018-12-05T22:54:06.996164Z"
    }
   },
   "outputs": [
    {
     "data": {
      "text/html": [
       "<div>\n",
       "<style scoped>\n",
       "    .dataframe tbody tr th:only-of-type {\n",
       "        vertical-align: middle;\n",
       "    }\n",
       "\n",
       "    .dataframe tbody tr th {\n",
       "        vertical-align: top;\n",
       "    }\n",
       "\n",
       "    .dataframe thead th {\n",
       "        text-align: right;\n",
       "    }\n",
       "</style>\n",
       "<table border=\"1\" class=\"dataframe\">\n",
       "  <thead>\n",
       "    <tr style=\"text-align: right;\">\n",
       "      <th></th>\n",
       "      <th>1372859</th>\n",
       "      <th>1372860</th>\n",
       "      <th>1372861</th>\n",
       "      <th>1372862</th>\n",
       "      <th>1372863</th>\n",
       "    </tr>\n",
       "  </thead>\n",
       "  <tbody>\n",
       "    <tr>\n",
       "      <th>ups</th>\n",
       "      <td>1</td>\n",
       "      <td>1</td>\n",
       "      <td>170</td>\n",
       "      <td>9</td>\n",
       "      <td>37</td>\n",
       "    </tr>\n",
       "    <tr>\n",
       "      <th>link_id</th>\n",
       "      <td>t3_37z0mw</td>\n",
       "      <td>t3_37z0mw</td>\n",
       "      <td>t3_37zl5z</td>\n",
       "      <td>t3_380j06</td>\n",
       "      <td>t3_37z0mw</td>\n",
       "    </tr>\n",
       "    <tr>\n",
       "      <th>name</th>\n",
       "      <td>t1_crrbebf</td>\n",
       "      <td>t1_crrbecs</td>\n",
       "      <td>t1_crrbedn</td>\n",
       "      <td>t1_crrbefm</td>\n",
       "      <td>t1_crrbeft</td>\n",
       "    </tr>\n",
       "    <tr>\n",
       "      <th>subreddit</th>\n",
       "      <td>worldnews</td>\n",
       "      <td>worldnews</td>\n",
       "      <td>worldnews</td>\n",
       "      <td>worldnews</td>\n",
       "      <td>worldnews</td>\n",
       "    </tr>\n",
       "    <tr>\n",
       "      <th>gilded</th>\n",
       "      <td>0</td>\n",
       "      <td>0</td>\n",
       "      <td>0</td>\n",
       "      <td>0</td>\n",
       "      <td>0</td>\n",
       "    </tr>\n",
       "    <tr>\n",
       "      <th>score</th>\n",
       "      <td>1</td>\n",
       "      <td>1</td>\n",
       "      <td>170</td>\n",
       "      <td>9</td>\n",
       "      <td>37</td>\n",
       "    </tr>\n",
       "    <tr>\n",
       "      <th>retrieved_on</th>\n",
       "      <td>1433505915</td>\n",
       "      <td>1433505915</td>\n",
       "      <td>1433505916</td>\n",
       "      <td>1433505916</td>\n",
       "      <td>1433505916</td>\n",
       "    </tr>\n",
       "    <tr>\n",
       "      <th>body</th>\n",
       "      <td>The key there is \"unless they're sociopaths\". ...</td>\n",
       "      <td>Pretty sure they don't just behead people outr...</td>\n",
       "      <td>Because it's not typically done to babies. It'...</td>\n",
       "      <td>&amp;gt; Nothing they are doing is illegal under i...</td>\n",
       "      <td>Apart from the risk of inhalation pneumonia.</td>\n",
       "    </tr>\n",
       "    <tr>\n",
       "      <th>distinguished</th>\n",
       "      <td>NaN</td>\n",
       "      <td>NaN</td>\n",
       "      <td>NaN</td>\n",
       "      <td>NaN</td>\n",
       "      <td>NaN</td>\n",
       "    </tr>\n",
       "    <tr>\n",
       "      <th>edited</th>\n",
       "      <td>0</td>\n",
       "      <td>0</td>\n",
       "      <td>0</td>\n",
       "      <td>0</td>\n",
       "      <td>0</td>\n",
       "    </tr>\n",
       "    <tr>\n",
       "      <th>controversiality</th>\n",
       "      <td>0</td>\n",
       "      <td>0</td>\n",
       "      <td>0</td>\n",
       "      <td>0</td>\n",
       "      <td>0</td>\n",
       "    </tr>\n",
       "    <tr>\n",
       "      <th>parent_id</th>\n",
       "      <td>t1_crr9oyk</td>\n",
       "      <td>t1_crraioh</td>\n",
       "      <td>t1_crrax76</td>\n",
       "      <td>t1_crrb19g</td>\n",
       "      <td>t1_crrb2cx</td>\n",
       "    </tr>\n",
       "    <tr>\n",
       "      <th>is_flair</th>\n",
       "      <td>False</td>\n",
       "      <td>False</td>\n",
       "      <td>False</td>\n",
       "      <td>False</td>\n",
       "      <td>False</td>\n",
       "    </tr>\n",
       "    <tr>\n",
       "      <th>is_flair_css</th>\n",
       "      <td>False</td>\n",
       "      <td>False</td>\n",
       "      <td>False</td>\n",
       "      <td>False</td>\n",
       "      <td>False</td>\n",
       "    </tr>\n",
       "    <tr>\n",
       "      <th>time</th>\n",
       "      <td>2015-05-31 23:59:38</td>\n",
       "      <td>2015-05-31 23:59:40</td>\n",
       "      <td>2015-05-31 23:59:41</td>\n",
       "      <td>2015-05-31 23:59:44</td>\n",
       "      <td>2015-05-31 23:59:45</td>\n",
       "    </tr>\n",
       "  </tbody>\n",
       "</table>\n",
       "</div>"
      ],
      "text/plain": [
       "                                                            1372859  \\\n",
       "ups                                                               1   \n",
       "link_id                                                   t3_37z0mw   \n",
       "name                                                     t1_crrbebf   \n",
       "subreddit                                                 worldnews   \n",
       "gilded                                                            0   \n",
       "score                                                             1   \n",
       "retrieved_on                                             1433505915   \n",
       "body              The key there is \"unless they're sociopaths\". ...   \n",
       "distinguished                                                   NaN   \n",
       "edited                                                            0   \n",
       "controversiality                                                  0   \n",
       "parent_id                                                t1_crr9oyk   \n",
       "is_flair                                                      False   \n",
       "is_flair_css                                                  False   \n",
       "time                                            2015-05-31 23:59:38   \n",
       "\n",
       "                                                            1372860  \\\n",
       "ups                                                               1   \n",
       "link_id                                                   t3_37z0mw   \n",
       "name                                                     t1_crrbecs   \n",
       "subreddit                                                 worldnews   \n",
       "gilded                                                            0   \n",
       "score                                                             1   \n",
       "retrieved_on                                             1433505915   \n",
       "body              Pretty sure they don't just behead people outr...   \n",
       "distinguished                                                   NaN   \n",
       "edited                                                            0   \n",
       "controversiality                                                  0   \n",
       "parent_id                                                t1_crraioh   \n",
       "is_flair                                                      False   \n",
       "is_flair_css                                                  False   \n",
       "time                                            2015-05-31 23:59:40   \n",
       "\n",
       "                                                            1372861  \\\n",
       "ups                                                             170   \n",
       "link_id                                                   t3_37zl5z   \n",
       "name                                                     t1_crrbedn   \n",
       "subreddit                                                 worldnews   \n",
       "gilded                                                            0   \n",
       "score                                                           170   \n",
       "retrieved_on                                             1433505916   \n",
       "body              Because it's not typically done to babies. It'...   \n",
       "distinguished                                                   NaN   \n",
       "edited                                                            0   \n",
       "controversiality                                                  0   \n",
       "parent_id                                                t1_crrax76   \n",
       "is_flair                                                      False   \n",
       "is_flair_css                                                  False   \n",
       "time                                            2015-05-31 23:59:41   \n",
       "\n",
       "                                                            1372862  \\\n",
       "ups                                                               9   \n",
       "link_id                                                   t3_380j06   \n",
       "name                                                     t1_crrbefm   \n",
       "subreddit                                                 worldnews   \n",
       "gilded                                                            0   \n",
       "score                                                             9   \n",
       "retrieved_on                                             1433505916   \n",
       "body              &gt; Nothing they are doing is illegal under i...   \n",
       "distinguished                                                   NaN   \n",
       "edited                                                            0   \n",
       "controversiality                                                  0   \n",
       "parent_id                                                t1_crrb19g   \n",
       "is_flair                                                      False   \n",
       "is_flair_css                                                  False   \n",
       "time                                            2015-05-31 23:59:44   \n",
       "\n",
       "                                                       1372863  \n",
       "ups                                                         37  \n",
       "link_id                                              t3_37z0mw  \n",
       "name                                                t1_crrbeft  \n",
       "subreddit                                            worldnews  \n",
       "gilded                                                       0  \n",
       "score                                                       37  \n",
       "retrieved_on                                        1433505916  \n",
       "body              Apart from the risk of inhalation pneumonia.  \n",
       "distinguished                                              NaN  \n",
       "edited                                                       0  \n",
       "controversiality                                             0  \n",
       "parent_id                                           t1_crrb2cx  \n",
       "is_flair                                                 False  \n",
       "is_flair_css                                             False  \n",
       "time                                       2015-05-31 23:59:45  "
      ]
     },
     "execution_count": 28,
     "metadata": {},
     "output_type": "execute_result"
    }
   ],
   "source": [
    "df.tail().T"
   ]
  },
  {
   "cell_type": "code",
   "execution_count": 29,
   "metadata": {
    "ExecuteTime": {
     "end_time": "2018-12-05T22:54:07.100308Z",
     "start_time": "2018-12-05T22:54:07.027254Z"
    }
   },
   "outputs": [],
   "source": [
    "dfl = pd.read_pickle('Data/scrape/df_final.pkl')"
   ]
  },
  {
   "cell_type": "code",
   "execution_count": 30,
   "metadata": {
    "ExecuteTime": {
     "end_time": "2018-12-05T22:54:07.106457Z",
     "start_time": "2018-12-05T22:54:07.102685Z"
    }
   },
   "outputs": [
    {
     "data": {
      "text/plain": [
       "(45400, 18)"
      ]
     },
     "execution_count": 30,
     "metadata": {},
     "output_type": "execute_result"
    }
   ],
   "source": [
    "dfl.shape"
   ]
  },
  {
   "cell_type": "markdown",
   "metadata": {},
   "source": [
    "Over lapping columns"
   ]
  },
  {
   "cell_type": "code",
   "execution_count": 31,
   "metadata": {
    "ExecuteTime": {
     "end_time": "2018-12-05T22:54:07.117819Z",
     "start_time": "2018-12-05T22:54:07.110258Z"
    }
   },
   "outputs": [
    {
     "data": {
      "text/plain": [
       "['ups', 'score', 'distinguished', 'edited']"
      ]
     },
     "execution_count": 31,
     "metadata": {},
     "output_type": "execute_result"
    }
   ],
   "source": [
    "[c for c in df.columns if c in dfl.columns]"
   ]
  },
  {
   "cell_type": "code",
   "execution_count": 32,
   "metadata": {
    "ExecuteTime": {
     "end_time": "2018-12-05T22:54:07.286482Z",
     "start_time": "2018-12-05T22:54:07.121222Z"
    }
   },
   "outputs": [
    {
     "name": "stdout",
     "output_type": "stream",
     "text": [
      "locked\n",
      "downs\n",
      "is_original_content\n",
      "view_count\n"
     ]
    }
   ],
   "source": [
    "for col in dfl.columns:\n",
    "    if len(dfl[col].unique()) == 1:\n",
    "        print(col)"
   ]
  },
  {
   "cell_type": "markdown",
   "metadata": {},
   "source": [
    "This will save some precious RAM when joining the data frame!!"
   ]
  },
  {
   "cell_type": "code",
   "execution_count": 33,
   "metadata": {
    "ExecuteTime": {
     "end_time": "2018-12-05T22:54:07.660030Z",
     "start_time": "2018-12-05T22:54:07.290021Z"
    }
   },
   "outputs": [],
   "source": [
    "dfl['url'] = dfl.url.astype('category')\n",
    "dfl['selftext'] = dfl.selftext.astype('category')\n",
    "dfl['title'] = dfl.title.astype('category')"
   ]
  },
  {
   "cell_type": "code",
   "execution_count": 34,
   "metadata": {
    "ExecuteTime": {
     "end_time": "2018-12-05T22:54:07.746478Z",
     "start_time": "2018-12-05T22:54:07.662990Z"
    }
   },
   "outputs": [],
   "source": [
    "dfl['link_created_time'] = pd.to_datetime(dfl.created_utc, unit='s')"
   ]
  },
  {
   "cell_type": "code",
   "execution_count": 35,
   "metadata": {
    "ExecuteTime": {
     "end_time": "2018-12-05T22:54:07.764726Z",
     "start_time": "2018-12-05T22:54:07.749383Z"
    }
   },
   "outputs": [],
   "source": [
    "dfl.drop(['locked', 'downs', 'is_original_content',\n",
    "          'view_count', 'distinguished', 'edited',\n",
    "          'num_crossposts', 'spoiler', 'created_utc'], axis=1, inplace=True)"
   ]
  },
  {
   "cell_type": "code",
   "execution_count": 36,
   "metadata": {
    "ExecuteTime": {
     "end_time": "2018-12-05T22:54:07.773882Z",
     "start_time": "2018-12-05T22:54:07.767241Z"
    }
   },
   "outputs": [],
   "source": [
    "dfl.rename(columns={'sub_id':'link_id', \n",
    "                    'ups': 'link_ups',\n",
    "                    'score': 'link_score'}, inplace=True)"
   ]
  },
  {
   "cell_type": "code",
   "execution_count": 37,
   "metadata": {
    "ExecuteTime": {
     "end_time": "2018-12-05T22:54:07.846336Z",
     "start_time": "2018-12-05T22:54:07.777353Z"
    }
   },
   "outputs": [
    {
     "data": {
      "text/html": [
       "<div>\n",
       "<style scoped>\n",
       "    .dataframe tbody tr th:only-of-type {\n",
       "        vertical-align: middle;\n",
       "    }\n",
       "\n",
       "    .dataframe tbody tr th {\n",
       "        vertical-align: top;\n",
       "    }\n",
       "\n",
       "    .dataframe thead th {\n",
       "        text-align: right;\n",
       "    }\n",
       "</style>\n",
       "<table border=\"1\" class=\"dataframe\">\n",
       "  <thead>\n",
       "    <tr style=\"text-align: right;\">\n",
       "      <th></th>\n",
       "      <th>45395</th>\n",
       "      <th>45396</th>\n",
       "      <th>45397</th>\n",
       "      <th>45398</th>\n",
       "      <th>45399</th>\n",
       "    </tr>\n",
       "  </thead>\n",
       "  <tbody>\n",
       "    <tr>\n",
       "      <th>link_id</th>\n",
       "      <td>t3_380j06</td>\n",
       "      <td>t3_380k50</td>\n",
       "      <td>t3_380ld3</td>\n",
       "      <td>t3_380lty</td>\n",
       "      <td>t3_380msc</td>\n",
       "    </tr>\n",
       "    <tr>\n",
       "      <th>url</th>\n",
       "      <td>https://www.yahoo.com/news/us-demands-immediat...</td>\n",
       "      <td>http://www.irishtimes.com/news/world/middle-ea...</td>\n",
       "      <td>http://www.timesofisrael.com/israels-army-skir...</td>\n",
       "      <td>http://time.com/3902702/us-college-student-isi...</td>\n",
       "      <td>http://www.healthy4u.net/2015/05/30/easy-diet-...</td>\n",
       "    </tr>\n",
       "    <tr>\n",
       "      <th>num_comments</th>\n",
       "      <td>10</td>\n",
       "      <td>1</td>\n",
       "      <td>6</td>\n",
       "      <td>5</td>\n",
       "      <td>1</td>\n",
       "    </tr>\n",
       "    <tr>\n",
       "      <th>over_18</th>\n",
       "      <td>False</td>\n",
       "      <td>False</td>\n",
       "      <td>False</td>\n",
       "      <td>False</td>\n",
       "      <td>False</td>\n",
       "    </tr>\n",
       "    <tr>\n",
       "      <th>link_score</th>\n",
       "      <td>9</td>\n",
       "      <td>9</td>\n",
       "      <td>0</td>\n",
       "      <td>8</td>\n",
       "      <td>1</td>\n",
       "    </tr>\n",
       "    <tr>\n",
       "      <th>selftext</th>\n",
       "      <td></td>\n",
       "      <td></td>\n",
       "      <td></td>\n",
       "      <td></td>\n",
       "      <td></td>\n",
       "    </tr>\n",
       "    <tr>\n",
       "      <th>title</th>\n",
       "      <td>US hits out at China over sea reclamation, vow...</td>\n",
       "      <td>Israel moves to toughen sentences for stone-th...</td>\n",
       "      <td>Israel's Army operating program to convert Jew...</td>\n",
       "      <td>Hero Student Tries to Stop ISIS Attack in Saud...</td>\n",
       "      <td>easy diet</td>\n",
       "    </tr>\n",
       "    <tr>\n",
       "      <th>upvote_ratio</th>\n",
       "      <td>0.62</td>\n",
       "      <td>0.84</td>\n",
       "      <td>0.38</td>\n",
       "      <td>0.68</td>\n",
       "      <td>1</td>\n",
       "    </tr>\n",
       "    <tr>\n",
       "      <th>link_ups</th>\n",
       "      <td>9</td>\n",
       "      <td>9</td>\n",
       "      <td>0</td>\n",
       "      <td>8</td>\n",
       "      <td>1</td>\n",
       "    </tr>\n",
       "    <tr>\n",
       "      <th>link_created_time</th>\n",
       "      <td>2015-05-31 23:19:50</td>\n",
       "      <td>2015-05-31 23:29:11</td>\n",
       "      <td>2015-05-31 23:38:41</td>\n",
       "      <td>2015-05-31 23:42:18</td>\n",
       "      <td>2015-05-31 23:50:20</td>\n",
       "    </tr>\n",
       "  </tbody>\n",
       "</table>\n",
       "</div>"
      ],
      "text/plain": [
       "                                                               45395  \\\n",
       "link_id                                                    t3_380j06   \n",
       "url                https://www.yahoo.com/news/us-demands-immediat...   \n",
       "num_comments                                                      10   \n",
       "over_18                                                        False   \n",
       "link_score                                                         9   \n",
       "selftext                                                               \n",
       "title              US hits out at China over sea reclamation, vow...   \n",
       "upvote_ratio                                                    0.62   \n",
       "link_ups                                                           9   \n",
       "link_created_time                                2015-05-31 23:19:50   \n",
       "\n",
       "                                                               45396  \\\n",
       "link_id                                                    t3_380k50   \n",
       "url                http://www.irishtimes.com/news/world/middle-ea...   \n",
       "num_comments                                                       1   \n",
       "over_18                                                        False   \n",
       "link_score                                                         9   \n",
       "selftext                                                               \n",
       "title              Israel moves to toughen sentences for stone-th...   \n",
       "upvote_ratio                                                    0.84   \n",
       "link_ups                                                           9   \n",
       "link_created_time                                2015-05-31 23:29:11   \n",
       "\n",
       "                                                               45397  \\\n",
       "link_id                                                    t3_380ld3   \n",
       "url                http://www.timesofisrael.com/israels-army-skir...   \n",
       "num_comments                                                       6   \n",
       "over_18                                                        False   \n",
       "link_score                                                         0   \n",
       "selftext                                                               \n",
       "title              Israel's Army operating program to convert Jew...   \n",
       "upvote_ratio                                                    0.38   \n",
       "link_ups                                                           0   \n",
       "link_created_time                                2015-05-31 23:38:41   \n",
       "\n",
       "                                                               45398  \\\n",
       "link_id                                                    t3_380lty   \n",
       "url                http://time.com/3902702/us-college-student-isi...   \n",
       "num_comments                                                       5   \n",
       "over_18                                                        False   \n",
       "link_score                                                         8   \n",
       "selftext                                                               \n",
       "title              Hero Student Tries to Stop ISIS Attack in Saud...   \n",
       "upvote_ratio                                                    0.68   \n",
       "link_ups                                                           8   \n",
       "link_created_time                                2015-05-31 23:42:18   \n",
       "\n",
       "                                                               45399  \n",
       "link_id                                                    t3_380msc  \n",
       "url                http://www.healthy4u.net/2015/05/30/easy-diet-...  \n",
       "num_comments                                                       1  \n",
       "over_18                                                        False  \n",
       "link_score                                                         1  \n",
       "selftext                                                              \n",
       "title                                                      easy diet  \n",
       "upvote_ratio                                                       1  \n",
       "link_ups                                                           1  \n",
       "link_created_time                                2015-05-31 23:50:20  "
      ]
     },
     "execution_count": 37,
     "metadata": {},
     "output_type": "execute_result"
    }
   ],
   "source": [
    "dfl.tail().T"
   ]
  },
  {
   "cell_type": "code",
   "execution_count": 38,
   "metadata": {
    "ExecuteTime": {
     "end_time": "2018-12-05T22:54:09.176265Z",
     "start_time": "2018-12-05T22:54:07.848571Z"
    }
   },
   "outputs": [],
   "source": [
    "df = df.merge(dfl, on='link_id', how='left')\n",
    "# for some reason the join doesn't work\n",
    "# df = df.join(other=dfl, on='link_id', how='outer')"
   ]
  },
  {
   "cell_type": "code",
   "execution_count": 39,
   "metadata": {
    "ExecuteTime": {
     "end_time": "2018-12-05T22:54:09.183973Z",
     "start_time": "2018-12-05T22:54:09.179531Z"
    }
   },
   "outputs": [
    {
     "data": {
      "text/plain": [
       "(1372864, 24)"
      ]
     },
     "execution_count": 39,
     "metadata": {},
     "output_type": "execute_result"
    }
   ],
   "source": [
    "df.shape"
   ]
  },
  {
   "cell_type": "code",
   "execution_count": 40,
   "metadata": {
    "ExecuteTime": {
     "end_time": "2018-12-05T22:54:10.623405Z",
     "start_time": "2018-12-05T22:54:09.187339Z"
    }
   },
   "outputs": [
    {
     "data": {
      "text/plain": [
       "'0.9037070584606572 GB'"
      ]
     },
     "execution_count": 40,
     "metadata": {},
     "output_type": "execute_result"
    }
   ],
   "source": [
    "f\"{df.memory_usage(deep=True).sum() / 1023.0**3} GB\""
   ]
  },
  {
   "cell_type": "code",
   "execution_count": 41,
   "metadata": {
    "ExecuteTime": {
     "end_time": "2018-12-06T02:36:00.171826Z",
     "start_time": "2018-12-06T02:36:00.166662Z"
    }
   },
   "outputs": [],
   "source": [
    "def pd_to_dict(df, index='', column=''):\n",
    "    return pd.Series(df[column].values, index=df[index]).to_dict()"
   ]
  },
  {
   "cell_type": "code",
   "execution_count": 42,
   "metadata": {
    "ExecuteTime": {
     "end_time": "2018-12-05T22:54:10.651224Z",
     "start_time": "2018-12-05T22:54:10.632383Z"
    }
   },
   "outputs": [],
   "source": [
    "df['time_since_link'] = df.time - df.link_created_time"
   ]
  },
  {
   "cell_type": "code",
   "execution_count": 43,
   "metadata": {
    "ExecuteTime": {
     "end_time": "2018-12-05T22:54:26.896343Z",
     "start_time": "2018-12-05T22:54:10.654317Z"
    }
   },
   "outputs": [],
   "source": [
    "df.time_since_link = df.time_since_link.apply(lambda x: x.total_seconds())"
   ]
  },
  {
   "cell_type": "code",
   "execution_count": 44,
   "metadata": {
    "ExecuteTime": {
     "end_time": "2018-12-05T22:54:30.896203Z",
     "start_time": "2018-12-05T22:54:26.898663Z"
    }
   },
   "outputs": [],
   "source": [
    "comment_to_parent_dict = pd_to_dict(df[['name', 'parent_id']],\n",
    "                                    index='name', column='parent_id')\n",
    "\n",
    "def get_depth(x):\n",
    "    counter = 0\n",
    "    temp = x\n",
    "    while True:\n",
    "        if temp[:3] == 't3_':\n",
    "            return counter\n",
    "        try:\n",
    "            temp = comment_to_parent_dict[temp]\n",
    "        except KeyError:\n",
    "            return np.nan\n",
    "        counter += 1\n",
    "        \n",
    "df['depth'] = df['name'].apply(get_depth)"
   ]
  },
  {
   "cell_type": "markdown",
   "metadata": {},
   "source": [
    "Just keeping the domain"
   ]
  },
  {
   "cell_type": "code",
   "execution_count": 45,
   "metadata": {
    "ExecuteTime": {
     "end_time": "2018-12-05T22:54:40.023087Z",
     "start_time": "2018-12-05T22:54:30.898671Z"
    }
   },
   "outputs": [],
   "source": [
    "df['url'] = df.url.astype('str').apply(lambda x: urlparse(x)[1])\n",
    "dfl['url'] = dfl.url.astype('category')"
   ]
  },
  {
   "cell_type": "code",
   "execution_count": 46,
   "metadata": {
    "ExecuteTime": {
     "end_time": "2018-12-05T22:54:44.865837Z",
     "start_time": "2018-12-05T22:54:40.025103Z"
    }
   },
   "outputs": [],
   "source": [
    "df['linked_sr'] = df.body.apply(lambda x: re.findall(r\"/r/([^\\s/]+)\", x))\n",
    "df['body'] = df.body.apply(lambda x: re.sub(r\"(/r/[^\\s/]+)\", '', x))"
   ]
  },
  {
   "cell_type": "code",
   "execution_count": 47,
   "metadata": {
    "ExecuteTime": {
     "end_time": "2018-12-05T22:54:44.872375Z",
     "start_time": "2018-12-05T22:54:44.868915Z"
    }
   },
   "outputs": [],
   "source": [
    "regex = re.compile('[^a-zA-Z]')"
   ]
  },
  {
   "cell_type": "code",
   "execution_count": 48,
   "metadata": {
    "ExecuteTime": {
     "end_time": "2018-12-05T22:54:46.119611Z",
     "start_time": "2018-12-05T22:54:44.875086Z"
    }
   },
   "outputs": [],
   "source": [
    "df['linked_sr'] = df.linked_sr.apply(lambda x: [regex.sub('', i).lower() for i in x])"
   ]
  },
  {
   "cell_type": "code",
   "execution_count": 49,
   "metadata": {
    "ExecuteTime": {
     "end_time": "2018-12-05T22:54:59.539065Z",
     "start_time": "2018-12-05T22:54:46.121863Z"
    }
   },
   "outputs": [],
   "source": [
    "url_regex = r'http[s]?://(?:[a-zA-Z]|[0-9]|[$-_@.&+]|[!*\\(\\),]|(?:%[0-9a-fA-F][0-9a-fA-F]))+'\n",
    "\n",
    "def get_domains(x):\n",
    "    x = x.replace(' = ', '=')\n",
    "    x = x.replace(' : ', ':')\n",
    "    x = x.replace(' / ', '?')\n",
    "    urls = re.findall(url_regex, x)\n",
    "    try:\n",
    "        domain_names = [urlparse(url)[1] for url in urls]\n",
    "    except:\n",
    "        return []\n",
    "    return domain_names\n",
    "\n",
    "def remove_urls(x):\n",
    "    x = x.replace(' = ', '=')\n",
    "    x = x.replace(' : ', ':')\n",
    "    x = x.replace(' / ', '?')\n",
    "    return re.sub(url_regex, '', x)\n",
    "\n",
    "\n",
    "df['linked_urls'] = df.body.apply(lambda x: get_domains(x))\n",
    "df['body'] = df.body.apply(lambda x: remove_urls(x))"
   ]
  },
  {
   "cell_type": "code",
   "execution_count": 50,
   "metadata": {
    "ExecuteTime": {
     "end_time": "2018-12-05T22:55:01.054437Z",
     "start_time": "2018-12-05T22:54:59.542407Z"
    }
   },
   "outputs": [],
   "source": [
    "df['no_of_linked_sr'] = df['linked_sr'].apply(lambda x: len(x))\n",
    "df['no_of_linked_urls'] = df['linked_urls'].apply(lambda x: len(x))"
   ]
  },
  {
   "cell_type": "code",
   "execution_count": 51,
   "metadata": {
    "ExecuteTime": {
     "end_time": "2018-12-05T22:55:02.364326Z",
     "start_time": "2018-12-05T22:55:01.056788Z"
    }
   },
   "outputs": [],
   "source": [
    "top_url_links = []\n",
    "\n",
    "for sub in df.subreddit.unique():\n",
    "    all_linked_urls = []\n",
    "    for l in df[df.subreddit == sub].linked_urls.values:\n",
    "        all_linked_urls += l\n",
    "\n",
    "    top_url_links += Counter(all_linked_urls).most_common(5)\n",
    "\n",
    "allowed_urls = list(set([i[0] for i in top_url_links]))"
   ]
  },
  {
   "cell_type": "code",
   "execution_count": 52,
   "metadata": {
    "ExecuteTime": {
     "end_time": "2018-12-05T22:55:02.882604Z",
     "start_time": "2018-12-05T22:55:02.366685Z"
    }
   },
   "outputs": [],
   "source": [
    "top_sr_links = []\n",
    "\n",
    "for sub in df.subreddit.unique():\n",
    "    all_linked_sr = []\n",
    "    for l in df[df.subreddit == sub].linked_sr.values:\n",
    "        all_linked_sr += l\n",
    "\n",
    "    top_sr_links += Counter(all_linked_sr).most_common(5)\n",
    "\n",
    "allowed_sr = list(set([i[0] for i in top_sr_links]))"
   ]
  },
  {
   "cell_type": "code",
   "execution_count": 53,
   "metadata": {
    "ExecuteTime": {
     "end_time": "2018-12-05T22:55:05.161046Z",
     "start_time": "2018-12-05T22:55:02.886012Z"
    }
   },
   "outputs": [],
   "source": [
    "def remove_sr(x):\n",
    "    y = []\n",
    "    for i in x:\n",
    "        if i in allowed_sr:\n",
    "            y += [i]\n",
    "    return y\n",
    "\n",
    "def remove_urls(x):\n",
    "    y = []\n",
    "    for i in x:\n",
    "        if i in allowed_urls:\n",
    "            y += [i]\n",
    "    return y\n",
    "\n",
    "df['a_linked_urls'] = df['linked_urls'].apply(lambda x: remove_urls(x))\n",
    "df['a_linked_sr'] = df['linked_sr'].apply(lambda x: remove_sr(x))"
   ]
  },
  {
   "cell_type": "code",
   "execution_count": 54,
   "metadata": {
    "ExecuteTime": {
     "end_time": "2018-12-05T22:55:07.505491Z",
     "start_time": "2018-12-05T22:55:05.163435Z"
    }
   },
   "outputs": [],
   "source": [
    "comment_to_score = pd_to_dict(df[['name', 'score']],\n",
    "                              index='name', column='score')\n",
    "\n",
    "def get_score(x):\n",
    "    try:\n",
    "        return comment_to_score[x]\n",
    "    except:\n",
    "        return np.nan\n",
    "\n",
    "df['parent_score'] = df.parent_id.apply(lambda x: get_score(x))\n",
    "imp_val = df.parent_score.median()\n",
    "df.parent_score.fillna(imp_val, inplace=True)"
   ]
  },
  {
   "cell_type": "code",
   "execution_count": 55,
   "metadata": {
    "ExecuteTime": {
     "end_time": "2018-12-05T22:55:07.512644Z",
     "start_time": "2018-12-05T22:55:07.507741Z"
    }
   },
   "outputs": [],
   "source": [
    "def get_comment_tree_root(x):\n",
    "    if comment_to_parent_dict[x][:3] == 't3_':\n",
    "        return x\n",
    "    try:\n",
    "        return get_comment_tree_root(comment_to_parent_dict[x])\n",
    "    except KeyError:\n",
    "        return np.nan"
   ]
  },
  {
   "cell_type": "code",
   "execution_count": 56,
   "metadata": {
    "ExecuteTime": {
     "end_time": "2018-12-05T22:55:10.274560Z",
     "start_time": "2018-12-05T22:55:07.515839Z"
    }
   },
   "outputs": [],
   "source": [
    "df['comment_tree_root_id'] = df.name.apply(get_comment_tree_root)"
   ]
  },
  {
   "cell_type": "code",
   "execution_count": 57,
   "metadata": {
    "ExecuteTime": {
     "end_time": "2018-12-05T22:55:11.332193Z",
     "start_time": "2018-12-05T22:55:10.276739Z"
    }
   },
   "outputs": [],
   "source": [
    "df['comment_tree_root_score'] = df.comment_tree_root_id.apply(lambda x: get_score(x))"
   ]
  },
  {
   "cell_type": "code",
   "execution_count": 58,
   "metadata": {
    "ExecuteTime": {
     "end_time": "2018-12-05T22:55:19.125461Z",
     "start_time": "2018-12-05T22:55:11.337223Z"
    }
   },
   "outputs": [],
   "source": [
    "comment_to_time = pd_to_dict(df[['name', 'time']],\n",
    "                              index='name', column='time')\n",
    "\n",
    "def get_time(x):\n",
    "    try:\n",
    "        return comment_to_time[x]\n",
    "    except:\n",
    "        return np.nan"
   ]
  },
  {
   "cell_type": "code",
   "execution_count": 59,
   "metadata": {
    "ExecuteTime": {
     "end_time": "2018-12-05T22:55:20.099896Z",
     "start_time": "2018-12-05T22:55:19.127750Z"
    }
   },
   "outputs": [],
   "source": [
    "df['time_since_comment_tree_root'] = df.time - df.comment_tree_root_id.apply(get_time)"
   ]
  },
  {
   "cell_type": "code",
   "execution_count": 60,
   "metadata": {
    "ExecuteTime": {
     "end_time": "2018-12-05T22:55:35.159653Z",
     "start_time": "2018-12-05T22:55:20.102149Z"
    }
   },
   "outputs": [],
   "source": [
    "df.time_since_comment_tree_root = df.time_since_comment_tree_root.apply(lambda x: x.total_seconds())"
   ]
  },
  {
   "cell_type": "code",
   "execution_count": 61,
   "metadata": {
    "ExecuteTime": {
     "end_time": "2018-12-05T22:55:36.655687Z",
     "start_time": "2018-12-05T22:55:35.161956Z"
    }
   },
   "outputs": [],
   "source": [
    "df['subjectivity'] = df['body'].str.count('I ')"
   ]
  },
  {
   "cell_type": "code",
   "execution_count": 62,
   "metadata": {
    "ExecuteTime": {
     "end_time": "2018-12-05T22:55:37.002787Z",
     "start_time": "2018-12-05T22:55:36.657839Z"
    }
   },
   "outputs": [],
   "source": [
    "df['is_edited'] = df.edited.apply(lambda x: x > 0)"
   ]
  },
  {
   "cell_type": "code",
   "execution_count": 63,
   "metadata": {
    "ExecuteTime": {
     "end_time": "2018-12-05T22:55:37.266158Z",
     "start_time": "2018-12-05T22:55:37.004790Z"
    }
   },
   "outputs": [],
   "source": [
    "from vaderSentiment.vaderSentiment import SentimentIntensityAnalyzer\n",
    "analyser = SentimentIntensityAnalyzer()"
   ]
  },
  {
   "cell_type": "code",
   "execution_count": 64,
   "metadata": {
    "ExecuteTime": {
     "end_time": "2018-12-05T22:55:37.272436Z",
     "start_time": "2018-12-05T22:55:37.269092Z"
    }
   },
   "outputs": [],
   "source": [
    "def get_sentiment(x):\n",
    "    return analyser.polarity_scores(x)"
   ]
  },
  {
   "cell_type": "code",
   "execution_count": 65,
   "metadata": {
    "ExecuteTime": {
     "end_time": "2018-12-06T02:36:09.791190Z",
     "start_time": "2018-12-06T02:36:09.787008Z"
    }
   },
   "outputs": [],
   "source": [
    "from multiprocessing import Pool\n",
    "\n",
    "num_partitions = 100\n",
    "num_cores = 6\n",
    "\n",
    "def parallelize_dataframe(df, func):\n",
    "    df_split = np.array_split(df, num_partitions)\n",
    "    pool = Pool(num_cores)\n",
    "    df = pd.concat(pool.map(func, df_split))\n",
    "    pool.close()\n",
    "    pool.join()\n",
    "    return df"
   ]
  },
  {
   "cell_type": "code",
   "execution_count": 66,
   "metadata": {
    "ExecuteTime": {
     "end_time": "2018-12-05T23:01:02.514328Z",
     "start_time": "2018-12-05T22:55:37.282481Z"
    }
   },
   "outputs": [
    {
     "name": "stderr",
     "output_type": "stream",
     "text": [
      "Process ForkPoolWorker-2:\n",
      "Process ForkPoolWorker-3:\n",
      "Process ForkPoolWorker-1:\n",
      "Traceback (most recent call last):\n",
      "  File \"/Applications/anaconda3/lib/python3.6/multiprocessing/process.py\", line 258, in _bootstrap\n",
      "    self.run()\n",
      "  File \"/Applications/anaconda3/lib/python3.6/multiprocessing/process.py\", line 93, in run\n",
      "    self._target(*self._args, **self._kwargs)\n",
      "  File \"/Applications/anaconda3/lib/python3.6/multiprocessing/pool.py\", line 119, in worker\n",
      "    result = (True, func(*args, **kwds))\n",
      "  File \"/Applications/anaconda3/lib/python3.6/multiprocessing/pool.py\", line 44, in mapstar\n",
      "    return list(map(*args))\n",
      "  File \"<ipython-input-66-0e174f501523>\", line 2, in wrapper_get_sentiment\n",
      "    df['sentiment'] = df['body'].apply(get_sentiment)\n",
      "  File \"/Applications/anaconda3/lib/python3.6/site-packages/pandas/core/series.py\", line 3194, in apply\n",
      "    mapped = lib.map_infer(values, f, convert=convert_dtype)\n",
      "  File \"pandas/_libs/src/inference.pyx\", line 1472, in pandas._libs.lib.map_infer\n",
      "  File \"<ipython-input-64-f13186852d2e>\", line 2, in get_sentiment\n",
      "    return analyser.polarity_scores(x)\n",
      "  File \"/Applications/anaconda3/lib/python3.6/site-packages/vaderSentiment/vaderSentiment.py\", line 275, in polarity_scores\n",
      "    sentiments = self.sentiment_valence(valence, sentitext, item, i, sentiments)\n",
      "  File \"/Applications/anaconda3/lib/python3.6/site-packages/vaderSentiment/vaderSentiment.py\", line 310, in sentiment_valence\n",
      "    valence = self._special_idioms_check(valence, words_and_emoticons, i)\n",
      "  File \"/Applications/anaconda3/lib/python3.6/site-packages/vaderSentiment/vaderSentiment.py\", line 349, in _special_idioms_check\n",
      "    words_and_emoticons_lower[i - 1], words_and_emoticons_lower[i])\n",
      "Traceback (most recent call last):\n",
      "KeyboardInterrupt\n",
      "Process ForkPoolWorker-4:\n",
      "Traceback (most recent call last):\n",
      "  File \"/Applications/anaconda3/lib/python3.6/multiprocessing/process.py\", line 258, in _bootstrap\n",
      "    self.run()\n",
      "  File \"/Applications/anaconda3/lib/python3.6/multiprocessing/process.py\", line 93, in run\n",
      "    self._target(*self._args, **self._kwargs)\n",
      "  File \"/Applications/anaconda3/lib/python3.6/multiprocessing/pool.py\", line 119, in worker\n",
      "    result = (True, func(*args, **kwds))\n",
      "  File \"/Applications/anaconda3/lib/python3.6/multiprocessing/pool.py\", line 44, in mapstar\n",
      "    return list(map(*args))\n",
      "  File \"<ipython-input-66-0e174f501523>\", line 2, in wrapper_get_sentiment\n",
      "    df['sentiment'] = df['body'].apply(get_sentiment)\n",
      "Process ForkPoolWorker-5:\n",
      "Process ForkPoolWorker-6:\n",
      "Traceback (most recent call last):\n",
      "Traceback (most recent call last):\n",
      "  File \"/Applications/anaconda3/lib/python3.6/multiprocessing/process.py\", line 258, in _bootstrap\n",
      "    self.run()\n",
      "  File \"/Applications/anaconda3/lib/python3.6/multiprocessing/process.py\", line 258, in _bootstrap\n",
      "    self.run()\n",
      "  File \"/Applications/anaconda3/lib/python3.6/site-packages/pandas/core/series.py\", line 3194, in apply\n",
      "    mapped = lib.map_infer(values, f, convert=convert_dtype)\n",
      "Traceback (most recent call last):\n",
      "  File \"/Applications/anaconda3/lib/python3.6/multiprocessing/process.py\", line 258, in _bootstrap\n",
      "    self.run()\n",
      "  File \"/Applications/anaconda3/lib/python3.6/multiprocessing/process.py\", line 93, in run\n",
      "    self._target(*self._args, **self._kwargs)\n",
      "  File \"/Applications/anaconda3/lib/python3.6/multiprocessing/pool.py\", line 119, in worker\n",
      "    result = (True, func(*args, **kwds))\n",
      "  File \"/Applications/anaconda3/lib/python3.6/multiprocessing/process.py\", line 258, in _bootstrap\n",
      "    self.run()\n",
      "  File \"/Applications/anaconda3/lib/python3.6/multiprocessing/process.py\", line 93, in run\n",
      "    self._target(*self._args, **self._kwargs)\n",
      "  File \"/Applications/anaconda3/lib/python3.6/multiprocessing/process.py\", line 93, in run\n",
      "    self._target(*self._args, **self._kwargs)\n",
      "  File \"/Applications/anaconda3/lib/python3.6/multiprocessing/pool.py\", line 119, in worker\n",
      "    result = (True, func(*args, **kwds))\n",
      "  File \"/Applications/anaconda3/lib/python3.6/multiprocessing/pool.py\", line 44, in mapstar\n",
      "    return list(map(*args))\n",
      "  File \"<ipython-input-66-0e174f501523>\", line 2, in wrapper_get_sentiment\n",
      "    df['sentiment'] = df['body'].apply(get_sentiment)\n",
      "  File \"/Applications/anaconda3/lib/python3.6/multiprocessing/pool.py\", line 119, in worker\n",
      "    result = (True, func(*args, **kwds))\n",
      "  File \"/Applications/anaconda3/lib/python3.6/multiprocessing/pool.py\", line 44, in mapstar\n",
      "    return list(map(*args))\n",
      "  File \"<ipython-input-66-0e174f501523>\", line 2, in wrapper_get_sentiment\n",
      "    df['sentiment'] = df['body'].apply(get_sentiment)\n",
      "  File \"/Applications/anaconda3/lib/python3.6/multiprocessing/pool.py\", line 44, in mapstar\n",
      "    return list(map(*args))\n",
      "  File \"<ipython-input-66-0e174f501523>\", line 2, in wrapper_get_sentiment\n",
      "    df['sentiment'] = df['body'].apply(get_sentiment)\n",
      "  File \"/Applications/anaconda3/lib/python3.6/site-packages/pandas/core/series.py\", line 3194, in apply\n",
      "    mapped = lib.map_infer(values, f, convert=convert_dtype)\n",
      "  File \"/Applications/anaconda3/lib/python3.6/site-packages/pandas/core/series.py\", line 3194, in apply\n",
      "    mapped = lib.map_infer(values, f, convert=convert_dtype)\n",
      "  File \"pandas/_libs/src/inference.pyx\", line 1472, in pandas._libs.lib.map_infer\n",
      "  File \"pandas/_libs/src/inference.pyx\", line 1472, in pandas._libs.lib.map_infer\n",
      "  File \"<ipython-input-64-f13186852d2e>\", line 2, in get_sentiment\n",
      "    return analyser.polarity_scores(x)\n",
      "  File \"/Applications/anaconda3/lib/python3.6/site-packages/vaderSentiment/vaderSentiment.py\", line 275, in polarity_scores\n",
      "    sentiments = self.sentiment_valence(valence, sentitext, item, i, sentiments)\n",
      "  File \"/Applications/anaconda3/lib/python3.6/site-packages/vaderSentiment/vaderSentiment.py\", line 308, in sentiment_valence\n",
      "    valence = self._negation_check(valence, words_and_emoticons, start_i, i)\n",
      "  File \"/Applications/anaconda3/lib/python3.6/site-packages/vaderSentiment/vaderSentiment.py\", line 398, in _negation_check\n",
      "    words_and_emoticons_lower = [str(w).lower() for w in words_and_emoticons]\n",
      "  File \"/Applications/anaconda3/lib/python3.6/site-packages/vaderSentiment/vaderSentiment.py\", line 398, in <listcomp>\n",
      "    words_and_emoticons_lower = [str(w).lower() for w in words_and_emoticons]\n",
      "KeyboardInterrupt\n"
     ]
    },
    {
     "ename": "KeyboardInterrupt",
     "evalue": "",
     "output_type": "error",
     "traceback": [
      "\u001b[0;31m---------------------------------------------------------------------------\u001b[0m",
      "\u001b[0;31mKeyboardInterrupt\u001b[0m                         Traceback (most recent call last)",
      "\u001b[0;32m<ipython-input-66-0e174f501523>\u001b[0m in \u001b[0;36m<module>\u001b[0;34m()\u001b[0m\n\u001b[1;32m      3\u001b[0m     \u001b[0;32mreturn\u001b[0m \u001b[0mdf\u001b[0m\u001b[0;34m\u001b[0m\u001b[0m\n\u001b[1;32m      4\u001b[0m \u001b[0;34m\u001b[0m\u001b[0m\n\u001b[0;32m----> 5\u001b[0;31m \u001b[0msentiment\u001b[0m \u001b[0;34m=\u001b[0m \u001b[0mparallelize_dataframe\u001b[0m\u001b[0;34m(\u001b[0m\u001b[0mdf\u001b[0m\u001b[0;34m[\u001b[0m\u001b[0;34m'body'\u001b[0m\u001b[0;34m]\u001b[0m\u001b[0;34m.\u001b[0m\u001b[0mto_frame\u001b[0m\u001b[0;34m(\u001b[0m\u001b[0;34m)\u001b[0m\u001b[0;34m,\u001b[0m \u001b[0mwrapper_get_sentiment\u001b[0m\u001b[0;34m)\u001b[0m\u001b[0;34m\u001b[0m\u001b[0m\n\u001b[0m\u001b[1;32m      6\u001b[0m \u001b[0;34m\u001b[0m\u001b[0m\n\u001b[1;32m      7\u001b[0m \u001b[0mdf\u001b[0m\u001b[0;34m[\u001b[0m\u001b[0;34m'senti_neg'\u001b[0m\u001b[0;34m]\u001b[0m \u001b[0;34m=\u001b[0m \u001b[0msentiment\u001b[0m\u001b[0;34m[\u001b[0m\u001b[0;34m'sentiment'\u001b[0m\u001b[0;34m]\u001b[0m\u001b[0;34m.\u001b[0m\u001b[0mapply\u001b[0m\u001b[0;34m(\u001b[0m\u001b[0;32mlambda\u001b[0m \u001b[0mx\u001b[0m\u001b[0;34m:\u001b[0m \u001b[0mx\u001b[0m\u001b[0;34m[\u001b[0m\u001b[0;34m'neg'\u001b[0m\u001b[0;34m]\u001b[0m\u001b[0;34m)\u001b[0m\u001b[0;34m\u001b[0m\u001b[0m\n",
      "\u001b[0;32m<ipython-input-65-ccf07a3e73d0>\u001b[0m in \u001b[0;36mparallelize_dataframe\u001b[0;34m(df, func)\u001b[0m\n\u001b[1;32m      7\u001b[0m     \u001b[0mdf_split\u001b[0m \u001b[0;34m=\u001b[0m \u001b[0mnp\u001b[0m\u001b[0;34m.\u001b[0m\u001b[0marray_split\u001b[0m\u001b[0;34m(\u001b[0m\u001b[0mdf\u001b[0m\u001b[0;34m,\u001b[0m \u001b[0mnum_partitions\u001b[0m\u001b[0;34m)\u001b[0m\u001b[0;34m\u001b[0m\u001b[0m\n\u001b[1;32m      8\u001b[0m     \u001b[0mpool\u001b[0m \u001b[0;34m=\u001b[0m \u001b[0mPool\u001b[0m\u001b[0;34m(\u001b[0m\u001b[0mnum_cores\u001b[0m\u001b[0;34m)\u001b[0m\u001b[0;34m\u001b[0m\u001b[0m\n\u001b[0;32m----> 9\u001b[0;31m     \u001b[0mdf\u001b[0m \u001b[0;34m=\u001b[0m \u001b[0mpd\u001b[0m\u001b[0;34m.\u001b[0m\u001b[0mconcat\u001b[0m\u001b[0;34m(\u001b[0m\u001b[0mpool\u001b[0m\u001b[0;34m.\u001b[0m\u001b[0mmap\u001b[0m\u001b[0;34m(\u001b[0m\u001b[0mfunc\u001b[0m\u001b[0;34m,\u001b[0m \u001b[0mdf_split\u001b[0m\u001b[0;34m)\u001b[0m\u001b[0;34m)\u001b[0m\u001b[0;34m\u001b[0m\u001b[0m\n\u001b[0m\u001b[1;32m     10\u001b[0m     \u001b[0mpool\u001b[0m\u001b[0;34m.\u001b[0m\u001b[0mclose\u001b[0m\u001b[0;34m(\u001b[0m\u001b[0;34m)\u001b[0m\u001b[0;34m\u001b[0m\u001b[0m\n\u001b[1;32m     11\u001b[0m     \u001b[0mpool\u001b[0m\u001b[0;34m.\u001b[0m\u001b[0mjoin\u001b[0m\u001b[0;34m(\u001b[0m\u001b[0;34m)\u001b[0m\u001b[0;34m\u001b[0m\u001b[0m\n",
      "\u001b[0;32m/Applications/anaconda3/lib/python3.6/multiprocessing/pool.py\u001b[0m in \u001b[0;36mmap\u001b[0;34m(self, func, iterable, chunksize)\u001b[0m\n\u001b[1;32m    264\u001b[0m         \u001b[0;32min\u001b[0m \u001b[0ma\u001b[0m \u001b[0mlist\u001b[0m \u001b[0mthat\u001b[0m \u001b[0;32mis\u001b[0m \u001b[0mreturned\u001b[0m\u001b[0;34m.\u001b[0m\u001b[0;34m\u001b[0m\u001b[0m\n\u001b[1;32m    265\u001b[0m         '''\n\u001b[0;32m--> 266\u001b[0;31m         \u001b[0;32mreturn\u001b[0m \u001b[0mself\u001b[0m\u001b[0;34m.\u001b[0m\u001b[0m_map_async\u001b[0m\u001b[0;34m(\u001b[0m\u001b[0mfunc\u001b[0m\u001b[0;34m,\u001b[0m \u001b[0miterable\u001b[0m\u001b[0;34m,\u001b[0m \u001b[0mmapstar\u001b[0m\u001b[0;34m,\u001b[0m \u001b[0mchunksize\u001b[0m\u001b[0;34m)\u001b[0m\u001b[0;34m.\u001b[0m\u001b[0mget\u001b[0m\u001b[0;34m(\u001b[0m\u001b[0;34m)\u001b[0m\u001b[0;34m\u001b[0m\u001b[0m\n\u001b[0m\u001b[1;32m    267\u001b[0m \u001b[0;34m\u001b[0m\u001b[0m\n\u001b[1;32m    268\u001b[0m     \u001b[0;32mdef\u001b[0m \u001b[0mstarmap\u001b[0m\u001b[0;34m(\u001b[0m\u001b[0mself\u001b[0m\u001b[0;34m,\u001b[0m \u001b[0mfunc\u001b[0m\u001b[0;34m,\u001b[0m \u001b[0miterable\u001b[0m\u001b[0;34m,\u001b[0m \u001b[0mchunksize\u001b[0m\u001b[0;34m=\u001b[0m\u001b[0;32mNone\u001b[0m\u001b[0;34m)\u001b[0m\u001b[0;34m:\u001b[0m\u001b[0;34m\u001b[0m\u001b[0m\n",
      "\u001b[0;32m/Applications/anaconda3/lib/python3.6/multiprocessing/pool.py\u001b[0m in \u001b[0;36mget\u001b[0;34m(self, timeout)\u001b[0m\n\u001b[1;32m    636\u001b[0m \u001b[0;34m\u001b[0m\u001b[0m\n\u001b[1;32m    637\u001b[0m     \u001b[0;32mdef\u001b[0m \u001b[0mget\u001b[0m\u001b[0;34m(\u001b[0m\u001b[0mself\u001b[0m\u001b[0;34m,\u001b[0m \u001b[0mtimeout\u001b[0m\u001b[0;34m=\u001b[0m\u001b[0;32mNone\u001b[0m\u001b[0;34m)\u001b[0m\u001b[0;34m:\u001b[0m\u001b[0;34m\u001b[0m\u001b[0m\n\u001b[0;32m--> 638\u001b[0;31m         \u001b[0mself\u001b[0m\u001b[0;34m.\u001b[0m\u001b[0mwait\u001b[0m\u001b[0;34m(\u001b[0m\u001b[0mtimeout\u001b[0m\u001b[0;34m)\u001b[0m\u001b[0;34m\u001b[0m\u001b[0m\n\u001b[0m\u001b[1;32m    639\u001b[0m         \u001b[0;32mif\u001b[0m \u001b[0;32mnot\u001b[0m \u001b[0mself\u001b[0m\u001b[0;34m.\u001b[0m\u001b[0mready\u001b[0m\u001b[0;34m(\u001b[0m\u001b[0;34m)\u001b[0m\u001b[0;34m:\u001b[0m\u001b[0;34m\u001b[0m\u001b[0m\n\u001b[1;32m    640\u001b[0m             \u001b[0;32mraise\u001b[0m \u001b[0mTimeoutError\u001b[0m\u001b[0;34m\u001b[0m\u001b[0m\n",
      "\u001b[0;32m/Applications/anaconda3/lib/python3.6/multiprocessing/pool.py\u001b[0m in \u001b[0;36mwait\u001b[0;34m(self, timeout)\u001b[0m\n\u001b[1;32m    633\u001b[0m \u001b[0;34m\u001b[0m\u001b[0m\n\u001b[1;32m    634\u001b[0m     \u001b[0;32mdef\u001b[0m \u001b[0mwait\u001b[0m\u001b[0;34m(\u001b[0m\u001b[0mself\u001b[0m\u001b[0;34m,\u001b[0m \u001b[0mtimeout\u001b[0m\u001b[0;34m=\u001b[0m\u001b[0;32mNone\u001b[0m\u001b[0;34m)\u001b[0m\u001b[0;34m:\u001b[0m\u001b[0;34m\u001b[0m\u001b[0m\n\u001b[0;32m--> 635\u001b[0;31m         \u001b[0mself\u001b[0m\u001b[0;34m.\u001b[0m\u001b[0m_event\u001b[0m\u001b[0;34m.\u001b[0m\u001b[0mwait\u001b[0m\u001b[0;34m(\u001b[0m\u001b[0mtimeout\u001b[0m\u001b[0;34m)\u001b[0m\u001b[0;34m\u001b[0m\u001b[0m\n\u001b[0m\u001b[1;32m    636\u001b[0m \u001b[0;34m\u001b[0m\u001b[0m\n\u001b[1;32m    637\u001b[0m     \u001b[0;32mdef\u001b[0m \u001b[0mget\u001b[0m\u001b[0;34m(\u001b[0m\u001b[0mself\u001b[0m\u001b[0;34m,\u001b[0m \u001b[0mtimeout\u001b[0m\u001b[0;34m=\u001b[0m\u001b[0;32mNone\u001b[0m\u001b[0;34m)\u001b[0m\u001b[0;34m:\u001b[0m\u001b[0;34m\u001b[0m\u001b[0m\n",
      "\u001b[0;32m/Applications/anaconda3/lib/python3.6/threading.py\u001b[0m in \u001b[0;36mwait\u001b[0;34m(self, timeout)\u001b[0m\n\u001b[1;32m    549\u001b[0m             \u001b[0msignaled\u001b[0m \u001b[0;34m=\u001b[0m \u001b[0mself\u001b[0m\u001b[0;34m.\u001b[0m\u001b[0m_flag\u001b[0m\u001b[0;34m\u001b[0m\u001b[0m\n\u001b[1;32m    550\u001b[0m             \u001b[0;32mif\u001b[0m \u001b[0;32mnot\u001b[0m \u001b[0msignaled\u001b[0m\u001b[0;34m:\u001b[0m\u001b[0;34m\u001b[0m\u001b[0m\n\u001b[0;32m--> 551\u001b[0;31m                 \u001b[0msignaled\u001b[0m \u001b[0;34m=\u001b[0m \u001b[0mself\u001b[0m\u001b[0;34m.\u001b[0m\u001b[0m_cond\u001b[0m\u001b[0;34m.\u001b[0m\u001b[0mwait\u001b[0m\u001b[0;34m(\u001b[0m\u001b[0mtimeout\u001b[0m\u001b[0;34m)\u001b[0m\u001b[0;34m\u001b[0m\u001b[0m\n\u001b[0m\u001b[1;32m    552\u001b[0m             \u001b[0;32mreturn\u001b[0m \u001b[0msignaled\u001b[0m\u001b[0;34m\u001b[0m\u001b[0m\n\u001b[1;32m    553\u001b[0m \u001b[0;34m\u001b[0m\u001b[0m\n",
      "\u001b[0;32m/Applications/anaconda3/lib/python3.6/threading.py\u001b[0m in \u001b[0;36mwait\u001b[0;34m(self, timeout)\u001b[0m\n\u001b[1;32m    293\u001b[0m         \u001b[0;32mtry\u001b[0m\u001b[0;34m:\u001b[0m    \u001b[0;31m# restore state no matter what (e.g., KeyboardInterrupt)\u001b[0m\u001b[0;34m\u001b[0m\u001b[0m\n\u001b[1;32m    294\u001b[0m             \u001b[0;32mif\u001b[0m \u001b[0mtimeout\u001b[0m \u001b[0;32mis\u001b[0m \u001b[0;32mNone\u001b[0m\u001b[0;34m:\u001b[0m\u001b[0;34m\u001b[0m\u001b[0m\n\u001b[0;32m--> 295\u001b[0;31m                 \u001b[0mwaiter\u001b[0m\u001b[0;34m.\u001b[0m\u001b[0macquire\u001b[0m\u001b[0;34m(\u001b[0m\u001b[0;34m)\u001b[0m\u001b[0;34m\u001b[0m\u001b[0m\n\u001b[0m\u001b[1;32m    296\u001b[0m                 \u001b[0mgotit\u001b[0m \u001b[0;34m=\u001b[0m \u001b[0;32mTrue\u001b[0m\u001b[0;34m\u001b[0m\u001b[0m\n\u001b[1;32m    297\u001b[0m             \u001b[0;32melse\u001b[0m\u001b[0;34m:\u001b[0m\u001b[0;34m\u001b[0m\u001b[0m\n",
      "\u001b[0;31mKeyboardInterrupt\u001b[0m: "
     ]
    },
    {
     "name": "stderr",
     "output_type": "stream",
     "text": [
      "  File \"<ipython-input-64-f13186852d2e>\", line 2, in get_sentiment\n",
      "    return analyser.polarity_scores(x)\n",
      "  File \"/Applications/anaconda3/lib/python3.6/site-packages/vaderSentiment/vaderSentiment.py\", line 275, in polarity_scores\n",
      "    sentiments = self.sentiment_valence(valence, sentitext, item, i, sentiments)\n",
      "  File \"/Applications/anaconda3/lib/python3.6/site-packages/vaderSentiment/vaderSentiment.py\", line 302, in sentiment_valence\n",
      "    s = scalar_inc_dec(words_and_emoticons[i - (start_i + 1)], valence, is_cap_diff)\n",
      "KeyboardInterrupt\n",
      "  File \"/Applications/anaconda3/lib/python3.6/multiprocessing/process.py\", line 93, in run\n",
      "    self._target(*self._args, **self._kwargs)\n",
      "  File \"pandas/_libs/src/inference.pyx\", line 1472, in pandas._libs.lib.map_infer\n",
      "  File \"/Applications/anaconda3/lib/python3.6/multiprocessing/pool.py\", line 119, in worker\n",
      "    result = (True, func(*args, **kwds))\n",
      "  File \"/Applications/anaconda3/lib/python3.6/multiprocessing/pool.py\", line 44, in mapstar\n",
      "    return list(map(*args))\n",
      "  File \"/Applications/anaconda3/lib/python3.6/site-packages/vaderSentiment/vaderSentiment.py\", line 275, in polarity_scores\n",
      "    sentiments = self.sentiment_valence(valence, sentitext, item, i, sentiments)\n",
      "  File \"<ipython-input-66-0e174f501523>\", line 2, in wrapper_get_sentiment\n",
      "    df['sentiment'] = df['body'].apply(get_sentiment)\n",
      "  File \"<ipython-input-64-f13186852d2e>\", line 2, in get_sentiment\n",
      "    return analyser.polarity_scores(x)\n",
      "  File \"/Applications/anaconda3/lib/python3.6/site-packages/pandas/core/series.py\", line 3194, in apply\n",
      "    mapped = lib.map_infer(values, f, convert=convert_dtype)\n",
      "  File \"/Applications/anaconda3/lib/python3.6/site-packages/vaderSentiment/vaderSentiment.py\", line 259, in polarity_scores\n",
      "    sentitext = SentiText(text)\n",
      "  File \"pandas/_libs/src/inference.pyx\", line 1472, in pandas._libs.lib.map_infer\n",
      "  File \"/Applications/anaconda3/lib/python3.6/site-packages/vaderSentiment/vaderSentiment.py\", line 164, in __init__\n",
      "    self.words_and_emoticons = self._words_and_emoticons()\n",
      "  File \"<ipython-input-64-f13186852d2e>\", line 2, in get_sentiment\n",
      "    return analyser.polarity_scores(x)\n",
      "KeyboardInterrupt\n",
      "  File \"/Applications/anaconda3/lib/python3.6/site-packages/vaderSentiment/vaderSentiment.py\", line 308, in sentiment_valence\n",
      "    valence = self._negation_check(valence, words_and_emoticons, start_i, i)\n",
      "  File \"/Applications/anaconda3/lib/python3.6/site-packages/pandas/core/series.py\", line 3194, in apply\n",
      "    mapped = lib.map_infer(values, f, convert=convert_dtype)\n",
      "  File \"/Applications/anaconda3/lib/python3.6/site-packages/vaderSentiment/vaderSentiment.py\", line 398, in _negation_check\n",
      "    words_and_emoticons_lower = [str(w).lower() for w in words_and_emoticons]\n",
      "  File \"/Applications/anaconda3/lib/python3.6/site-packages/vaderSentiment/vaderSentiment.py\", line 398, in <listcomp>\n",
      "    words_and_emoticons_lower = [str(w).lower() for w in words_and_emoticons]\n",
      "KeyboardInterrupt\n",
      "  File \"pandas/_libs/src/inference.pyx\", line 1472, in pandas._libs.lib.map_infer\n",
      "  File \"<ipython-input-64-f13186852d2e>\", line 2, in get_sentiment\n",
      "    return analyser.polarity_scores(x)\n",
      "  File \"/Applications/anaconda3/lib/python3.6/site-packages/vaderSentiment/vaderSentiment.py\", line 275, in polarity_scores\n",
      "    sentiments = self.sentiment_valence(valence, sentitext, item, i, sentiments)\n",
      "  File \"/Applications/anaconda3/lib/python3.6/site-packages/vaderSentiment/vaderSentiment.py\", line 308, in sentiment_valence\n",
      "    valence = self._negation_check(valence, words_and_emoticons, start_i, i)\n",
      "  File \"/Applications/anaconda3/lib/python3.6/site-packages/vaderSentiment/vaderSentiment.py\", line 398, in _negation_check\n",
      "    words_and_emoticons_lower = [str(w).lower() for w in words_and_emoticons]\n",
      "  File \"/Applications/anaconda3/lib/python3.6/site-packages/vaderSentiment/vaderSentiment.py\", line 398, in <listcomp>\n",
      "    words_and_emoticons_lower = [str(w).lower() for w in words_and_emoticons]\n",
      "KeyboardInterrupt\n",
      "Process ForkPoolWorker-8:\n",
      "Process ForkPoolWorker-7:\n",
      "Process ForkPoolWorker-9:\n",
      "Traceback (most recent call last):\n",
      "Traceback (most recent call last):\n",
      "  File \"/Applications/anaconda3/lib/python3.6/multiprocessing/process.py\", line 258, in _bootstrap\n",
      "    self.run()\n",
      "  File \"/Applications/anaconda3/lib/python3.6/multiprocessing/process.py\", line 258, in _bootstrap\n",
      "    self.run()\n",
      "  File \"/Applications/anaconda3/lib/python3.6/multiprocessing/process.py\", line 93, in run\n",
      "    self._target(*self._args, **self._kwargs)\n",
      "  File \"/Applications/anaconda3/lib/python3.6/multiprocessing/process.py\", line 93, in run\n",
      "    self._target(*self._args, **self._kwargs)\n",
      "  File \"/Applications/anaconda3/lib/python3.6/multiprocessing/pool.py\", line 108, in worker\n",
      "    task = get()\n",
      "  File \"/Applications/anaconda3/lib/python3.6/multiprocessing/pool.py\", line 108, in worker\n",
      "    task = get()\n",
      "  File \"/Applications/anaconda3/lib/python3.6/multiprocessing/queues.py\", line 334, in get\n",
      "    with self._rlock:\n",
      "  File \"/Applications/anaconda3/lib/python3.6/multiprocessing/synchronize.py\", line 96, in __enter__\n",
      "    return self._semlock.__enter__()\n",
      "  File \"/Applications/anaconda3/lib/python3.6/multiprocessing/queues.py\", line 334, in get\n",
      "    with self._rlock:\n",
      "Traceback (most recent call last):\n",
      "  File \"/Applications/anaconda3/lib/python3.6/multiprocessing/synchronize.py\", line 96, in __enter__\n",
      "    return self._semlock.__enter__()\n",
      "KeyboardInterrupt\n",
      "  File \"/Applications/anaconda3/lib/python3.6/multiprocessing/process.py\", line 258, in _bootstrap\n",
      "    self.run()\n",
      "KeyboardInterrupt\n",
      "  File \"/Applications/anaconda3/lib/python3.6/multiprocessing/process.py\", line 93, in run\n",
      "    self._target(*self._args, **self._kwargs)\n",
      "  File \"/Applications/anaconda3/lib/python3.6/multiprocessing/pool.py\", line 108, in worker\n",
      "    task = get()\n",
      "  File \"/Applications/anaconda3/lib/python3.6/multiprocessing/queues.py\", line 335, in get\n",
      "    res = self._reader.recv_bytes()\n",
      "  File \"/Applications/anaconda3/lib/python3.6/multiprocessing/connection.py\", line 216, in recv_bytes\n",
      "    buf = self._recv_bytes(maxlength)\n",
      "  File \"/Applications/anaconda3/lib/python3.6/multiprocessing/connection.py\", line 407, in _recv_bytes\n",
      "    buf = self._recv(4)\n",
      "  File \"/Applications/anaconda3/lib/python3.6/multiprocessing/connection.py\", line 379, in _recv\n",
      "    chunk = read(handle, remaining)\n",
      "KeyboardInterrupt\n"
     ]
    }
   ],
   "source": [
    "def wrapper_get_sentiment(df):\n",
    "    df['sentiment'] = df['body'].apply(get_sentiment)\n",
    "    return df\n",
    "\n",
    "sentiment = parallelize_dataframe(df['body'].to_frame(), wrapper_get_sentiment)\n",
    "\n",
    "df['senti_neg'] = sentiment['sentiment'].apply(lambda x: x['neg'])\n",
    "df['senti_neu'] = sentiment['sentiment'].apply(lambda x: x['neu'])\n",
    "df['senti_pos'] = sentiment['sentiment'].apply(lambda x: x['pos'])\n",
    "df['senti_comp'] = sentiment['sentiment'].apply(lambda x: x['compound'])\n",
    "\n",
    "del sentiment"
   ]
  },
  {
   "cell_type": "code",
   "execution_count": null,
   "metadata": {
    "ExecuteTime": {
     "end_time": "2018-12-06T02:36:17.429059Z",
     "start_time": "2018-12-06T02:36:17.388387Z"
    }
   },
   "outputs": [],
   "source": [
    "gc.collect()"
   ]
  },
  {
   "cell_type": "code",
   "execution_count": null,
   "metadata": {
    "ExecuteTime": {
     "end_time": "2018-12-05T23:01:21.645459Z",
     "start_time": "2018-12-05T23:01:03.204394Z"
    }
   },
   "outputs": [],
   "source": [
    "df['is_quoted'] = df.body.str.contains('&gt;')\n",
    "df['no_quoted'] = df.body.str.count('&gt;')\n",
    "df['time_since_parent'] = df.parent_id.apply(get_time)\n",
    "df.loc[df.time_since_parent.isna(), 'time_since_parent'] = df.time\n",
    "df.time_since_parent = df.time - df.time_since_parent\n",
    "df.time_since_parent = df.time_since_parent.apply(lambda x: x.total_seconds())"
   ]
  },
  {
   "cell_type": "code",
   "execution_count": null,
   "metadata": {
    "ExecuteTime": {
     "end_time": "2018-12-05T23:01:22.259142Z",
     "start_time": "2018-12-05T23:01:21.647846Z"
    }
   },
   "outputs": [],
   "source": [
    "df['is_root'] = df.parent_id.str.startswith('t3_')"
   ]
  },
  {
   "cell_type": "code",
   "execution_count": null,
   "metadata": {
    "ExecuteTime": {
     "end_time": "2018-12-05T23:01:22.278334Z",
     "start_time": "2018-12-05T23:01:22.261641Z"
    }
   },
   "outputs": [],
   "source": [
    "df['is_selftext'] = df.selftext.str.len() > 1"
   ]
  },
  {
   "cell_type": "code",
   "execution_count": 60,
   "metadata": {
    "ExecuteTime": {
     "end_time": "2018-12-05T23:01:22.284430Z",
     "start_time": "2018-12-05T23:01:22.280535Z"
    }
   },
   "outputs": [
    {
     "data": {
      "text/plain": [
       "(1372864, 47)"
      ]
     },
     "execution_count": 60,
     "metadata": {},
     "output_type": "execute_result"
    }
   ],
   "source": [
    "df.shape"
   ]
  },
  {
   "cell_type": "code",
   "execution_count": 61,
   "metadata": {
    "ExecuteTime": {
     "end_time": "2018-12-05T23:01:25.220816Z",
     "start_time": "2018-12-05T23:01:22.286856Z"
    }
   },
   "outputs": [],
   "source": [
    "def get_word_count(df):\n",
    "    df['word_count'] = df['body'].apply(lambda x: len(x.split()))\n",
    "    return df\n",
    "\n",
    "word_counts = parallelize_dataframe(df['body'].to_frame(), get_word_count)\n",
    "df['word_counts'] = word_counts.word_count\n",
    "\n",
    "del word_counts"
   ]
  },
  {
   "cell_type": "code",
   "execution_count": 62,
   "metadata": {
    "ExecuteTime": {
     "end_time": "2018-12-05T23:01:25.289046Z",
     "start_time": "2018-12-05T23:01:25.224547Z"
    }
   },
   "outputs": [],
   "source": [
    "df['epoch_time'] = df.time.astype(np.int64) // 10**9"
   ]
  },
  {
   "cell_type": "code",
   "execution_count": 63,
   "metadata": {
    "ExecuteTime": {
     "end_time": "2018-12-05T23:01:25.985463Z",
     "start_time": "2018-12-05T23:01:25.291570Z"
    }
   },
   "outputs": [
    {
     "data": {
      "text/plain": [
       "21"
      ]
     },
     "execution_count": 63,
     "metadata": {},
     "output_type": "execute_result"
    }
   ],
   "source": [
    "import gc\n",
    "gc.collect()"
   ]
  },
  {
   "cell_type": "code",
   "execution_count": 7,
   "metadata": {
    "ExecuteTime": {
     "end_time": "2018-12-05T23:52:39.633524Z",
     "start_time": "2018-12-05T23:52:31.855949Z"
    }
   },
   "outputs": [],
   "source": [
    "# df.to_pickle('Temp1.pkl')\n",
    "df = pd.read_pickle('Temp1.pkl')"
   ]
  },
  {
   "cell_type": "code",
   "execution_count": 117,
   "metadata": {
    "ExecuteTime": {
     "end_time": "2018-12-06T06:35:21.761129Z",
     "start_time": "2018-12-06T06:35:21.753486Z"
    }
   },
   "outputs": [],
   "source": [
    "def get_past_stats_dict(lid):\n",
    "    dfs = df[df.link_id == lid][['time', 'score', 'name']]\n",
    "    dfs = dfs.sort_values(by='time', ascending=True).reset_index(drop=True)\n",
    "    dfs.reset_index(inplace=True)\n",
    "    t_dict = pd.DataFrame(data=dfs[['index', 'score']].values,\n",
    "                        index=dfs['name'].values,\n",
    "                        columns=['no_of_comments', 'score']).to_dict('index')\n",
    "    return t_dict"
   ]
  },
  {
   "cell_type": "code",
   "execution_count": 43,
   "metadata": {
    "ExecuteTime": {
     "end_time": "2018-12-06T02:03:07.603789Z",
     "start_time": "2018-12-06T02:03:07.600917Z"
    }
   },
   "outputs": [],
   "source": [
    "pool = Pool(num_cores)\n",
    "list_dicts = pool.map(get_past_stats_dict, df.link_id.unique())"
   ]
  },
  {
   "cell_type": "code",
   "execution_count": 24,
   "metadata": {
    "ExecuteTime": {
     "end_time": "2018-12-06T00:57:09.787165Z",
     "start_time": "2018-12-06T00:57:09.771716Z"
    }
   },
   "outputs": [
    {
     "data": {
      "text/plain": [
       "46546"
      ]
     },
     "execution_count": 24,
     "metadata": {},
     "output_type": "execute_result"
    }
   ],
   "source": [
    "len(list_dicts)"
   ]
  },
  {
   "cell_type": "code",
   "execution_count": 25,
   "metadata": {
    "ExecuteTime": {
     "end_time": "2018-12-06T00:57:26.161351Z",
     "start_time": "2018-12-06T00:57:26.057839Z"
    }
   },
   "outputs": [
    {
     "data": {
      "text/plain": [
       "(46546,)"
      ]
     },
     "execution_count": 25,
     "metadata": {},
     "output_type": "execute_result"
    }
   ],
   "source": [
    "df.link_id.unique().shape"
   ]
  },
  {
   "cell_type": "code",
   "execution_count": 33,
   "metadata": {
    "ExecuteTime": {
     "end_time": "2018-12-06T01:57:31.575716Z",
     "start_time": "2018-12-06T01:57:31.570581Z"
    }
   },
   "outputs": [],
   "source": [
    "from collections import ChainMap\n",
    "# y = dict(ChainMap(*list_dicts))"
   ]
  },
  {
   "cell_type": "code",
   "execution_count": 40,
   "metadata": {
    "ExecuteTime": {
     "end_time": "2018-12-06T02:01:34.858492Z",
     "start_time": "2018-12-06T02:00:50.012758Z"
    }
   },
   "outputs": [],
   "source": [
    "y = pd.concat([pd.DataFrame.from_dict(d, orient='index') for d in list_dicts])"
   ]
  },
  {
   "cell_type": "code",
   "execution_count": 41,
   "metadata": {
    "ExecuteTime": {
     "end_time": "2018-12-06T02:01:34.866471Z",
     "start_time": "2018-12-06T02:01:34.861905Z"
    }
   },
   "outputs": [
    {
     "data": {
      "text/plain": [
       "(1372864, 2)"
      ]
     },
     "execution_count": 41,
     "metadata": {},
     "output_type": "execute_result"
    }
   ],
   "source": [
    "y.shape"
   ]
  },
  {
   "cell_type": "code",
   "execution_count": 45,
   "metadata": {
    "ExecuteTime": {
     "end_time": "2018-12-06T02:06:01.951905Z",
     "start_time": "2018-12-06T02:05:33.276840Z"
    }
   },
   "outputs": [],
   "source": [
    "y = y.to_dict('index')"
   ]
  },
  {
   "cell_type": "code",
   "execution_count": 46,
   "metadata": {
    "ExecuteTime": {
     "end_time": "2018-12-06T02:06:46.019602Z",
     "start_time": "2018-12-06T02:06:46.008501Z"
    }
   },
   "outputs": [
    {
     "data": {
      "text/plain": [
       "5"
      ]
     },
     "execution_count": 46,
     "metadata": {},
     "output_type": "execute_result"
    }
   ],
   "source": [
    "y['t1_cr0uefd']['no_of_comments']"
   ]
  },
  {
   "cell_type": "code",
   "execution_count": 47,
   "metadata": {
    "ExecuteTime": {
     "end_time": "2018-12-06T02:06:53.867166Z",
     "start_time": "2018-12-06T02:06:52.582829Z"
    }
   },
   "outputs": [],
   "source": [
    "df['no_of_past_comments'] = df.name.apply(lambda x: y[x]['no_of_comments'])"
   ]
  },
  {
   "cell_type": "code",
   "execution_count": 48,
   "metadata": {
    "ExecuteTime": {
     "end_time": "2018-12-06T02:07:17.372639Z",
     "start_time": "2018-12-06T02:07:16.194264Z"
    }
   },
   "outputs": [],
   "source": [
    "df['score_till_now'] = df.name.apply(lambda x: y[x]['score'])"
   ]
  },
  {
   "cell_type": "markdown",
   "metadata": {},
   "source": [
    "Using Pandas `.query` method for high performance subsetting.\n",
    "check [this out](https://jakevdp.github.io/PythonDataScienceHandbook/03.12-performance-eval-and-query.html)"
   ]
  },
  {
   "cell_type": "code",
   "execution_count": 49,
   "metadata": {
    "ExecuteTime": {
     "end_time": "2018-12-06T02:07:21.014720Z",
     "start_time": "2018-12-06T02:07:21.008005Z"
    }
   },
   "outputs": [],
   "source": [
    "# dfc = df[['link_id', 'time']].copy(deep=True)"
   ]
  },
  {
   "cell_type": "code",
   "execution_count": 50,
   "metadata": {
    "ExecuteTime": {
     "end_time": "2018-12-06T02:07:25.584313Z",
     "start_time": "2018-12-06T02:07:25.581160Z"
    }
   },
   "outputs": [],
   "source": [
    "# dfc.set_index(['link_id', 'time'], inplace=True)"
   ]
  },
  {
   "cell_type": "code",
   "execution_count": 51,
   "metadata": {
    "ExecuteTime": {
     "end_time": "2018-12-06T02:07:39.446041Z",
     "start_time": "2018-12-06T02:07:39.442570Z"
    }
   },
   "outputs": [],
   "source": [
    "# def get_past_stats(x):\n",
    "#     lid, t = x.split('|')\n",
    "#     # return dfc.query(f\"link_id == '{lid}' and time < '{t}'\").shape[0]\n",
    "#     no_of_cmnts = temp.shape[0]\n",
    "#     score = temp['score'].sum()\n",
    "#     p = temp.query('score >= 0')['score'].sum()\n",
    "#     n = abs(temp.query('score < 0')['score'].sum())\n",
    "#     if not (p == 0 and n == 0):\n",
    "#         up_ratio = p / (p + n)\n",
    "#     else:\n",
    "#         up_ratio = 1\n",
    "#     return no_of_cmnts, score, up_ratio"
   ]
  },
  {
   "cell_type": "code",
   "execution_count": 52,
   "metadata": {
    "ExecuteTime": {
     "end_time": "2018-12-06T02:07:41.741473Z",
     "start_time": "2018-12-06T02:07:41.735086Z"
    }
   },
   "outputs": [],
   "source": [
    "#dft = pd.DataFrame(df.link_id + '|' + df.time.map(str), columns=['temp_id'])"
   ]
  },
  {
   "cell_type": "code",
   "execution_count": 53,
   "metadata": {
    "ExecuteTime": {
     "end_time": "2018-12-06T02:07:54.007318Z",
     "start_time": "2018-12-06T02:07:54.001678Z"
    }
   },
   "outputs": [],
   "source": [
    "# def wrapper_past_stats(df):\n",
    "#     df['pat_stats'] = df['temp_id'].apply(get_past_stats)\n",
    "#     return df"
   ]
  },
  {
   "cell_type": "code",
   "execution_count": 54,
   "metadata": {
    "ExecuteTime": {
     "end_time": "2018-12-06T02:07:57.989626Z",
     "start_time": "2018-12-06T02:07:57.986346Z"
    }
   },
   "outputs": [],
   "source": [
    "# parallelize_dataframe(dft, wrapper_past_stats)"
   ]
  },
  {
   "cell_type": "code",
   "execution_count": 55,
   "metadata": {
    "ExecuteTime": {
     "end_time": "2018-12-06T02:08:02.917109Z",
     "start_time": "2018-12-06T02:08:02.538732Z"
    }
   },
   "outputs": [
    {
     "data": {
      "text/plain": [
       "75"
      ]
     },
     "execution_count": 55,
     "metadata": {},
     "output_type": "execute_result"
    }
   ],
   "source": [
    "gc.collect()"
   ]
  },
  {
   "cell_type": "code",
   "execution_count": 27,
   "metadata": {
    "ExecuteTime": {
     "end_time": "2018-12-06T02:45:35.745018Z",
     "start_time": "2018-12-06T02:45:30.128936Z"
    }
   },
   "outputs": [],
   "source": [
    "# df.to_pickle('Data/Temp4.pkl')\n",
    "df = pd.read_pickle('Data/Temp4.pkl')"
   ]
  },
  {
   "cell_type": "code",
   "execution_count": 28,
   "metadata": {
    "ExecuteTime": {
     "end_time": "2018-12-06T02:45:35.811325Z",
     "start_time": "2018-12-06T02:45:35.750730Z"
    }
   },
   "outputs": [
    {
     "data": {
      "text/html": [
       "<div>\n",
       "<style scoped>\n",
       "    .dataframe tbody tr th:only-of-type {\n",
       "        vertical-align: middle;\n",
       "    }\n",
       "\n",
       "    .dataframe tbody tr th {\n",
       "        vertical-align: top;\n",
       "    }\n",
       "\n",
       "    .dataframe thead th {\n",
       "        text-align: right;\n",
       "    }\n",
       "</style>\n",
       "<table border=\"1\" class=\"dataframe\">\n",
       "  <thead>\n",
       "    <tr style=\"text-align: right;\">\n",
       "      <th></th>\n",
       "      <th>1372859</th>\n",
       "      <th>1372860</th>\n",
       "      <th>1372861</th>\n",
       "      <th>1372862</th>\n",
       "      <th>1372863</th>\n",
       "    </tr>\n",
       "  </thead>\n",
       "  <tbody>\n",
       "    <tr>\n",
       "      <th>ups</th>\n",
       "      <td>1</td>\n",
       "      <td>1</td>\n",
       "      <td>170</td>\n",
       "      <td>9</td>\n",
       "      <td>37</td>\n",
       "    </tr>\n",
       "    <tr>\n",
       "      <th>link_id</th>\n",
       "      <td>t3_37z0mw</td>\n",
       "      <td>t3_37z0mw</td>\n",
       "      <td>t3_37zl5z</td>\n",
       "      <td>t3_380j06</td>\n",
       "      <td>t3_37z0mw</td>\n",
       "    </tr>\n",
       "    <tr>\n",
       "      <th>name</th>\n",
       "      <td>t1_crrbebf</td>\n",
       "      <td>t1_crrbecs</td>\n",
       "      <td>t1_crrbedn</td>\n",
       "      <td>t1_crrbefm</td>\n",
       "      <td>t1_crrbeft</td>\n",
       "    </tr>\n",
       "    <tr>\n",
       "      <th>subreddit</th>\n",
       "      <td>worldnews</td>\n",
       "      <td>worldnews</td>\n",
       "      <td>worldnews</td>\n",
       "      <td>worldnews</td>\n",
       "      <td>worldnews</td>\n",
       "    </tr>\n",
       "    <tr>\n",
       "      <th>gilded</th>\n",
       "      <td>0</td>\n",
       "      <td>0</td>\n",
       "      <td>0</td>\n",
       "      <td>0</td>\n",
       "      <td>0</td>\n",
       "    </tr>\n",
       "    <tr>\n",
       "      <th>score</th>\n",
       "      <td>1</td>\n",
       "      <td>1</td>\n",
       "      <td>170</td>\n",
       "      <td>9</td>\n",
       "      <td>37</td>\n",
       "    </tr>\n",
       "    <tr>\n",
       "      <th>retrieved_on</th>\n",
       "      <td>1433505915</td>\n",
       "      <td>1433505915</td>\n",
       "      <td>1433505916</td>\n",
       "      <td>1433505916</td>\n",
       "      <td>1433505916</td>\n",
       "    </tr>\n",
       "    <tr>\n",
       "      <th>body</th>\n",
       "      <td>The key there is \"unless they're sociopaths\". ...</td>\n",
       "      <td>Pretty sure they don't just behead people outr...</td>\n",
       "      <td>Because it's not typically done to babies. It'...</td>\n",
       "      <td>&amp;gt; Nothing they are doing is illegal under i...</td>\n",
       "      <td>Apart from the risk of inhalation pneumonia.</td>\n",
       "    </tr>\n",
       "    <tr>\n",
       "      <th>distinguished</th>\n",
       "      <td>NaN</td>\n",
       "      <td>NaN</td>\n",
       "      <td>NaN</td>\n",
       "      <td>NaN</td>\n",
       "      <td>NaN</td>\n",
       "    </tr>\n",
       "    <tr>\n",
       "      <th>edited</th>\n",
       "      <td>0</td>\n",
       "      <td>0</td>\n",
       "      <td>0</td>\n",
       "      <td>0</td>\n",
       "      <td>0</td>\n",
       "    </tr>\n",
       "    <tr>\n",
       "      <th>controversiality</th>\n",
       "      <td>0</td>\n",
       "      <td>0</td>\n",
       "      <td>0</td>\n",
       "      <td>0</td>\n",
       "      <td>0</td>\n",
       "    </tr>\n",
       "    <tr>\n",
       "      <th>parent_id</th>\n",
       "      <td>t1_crr9oyk</td>\n",
       "      <td>t1_crraioh</td>\n",
       "      <td>t1_crrax76</td>\n",
       "      <td>t1_crrb19g</td>\n",
       "      <td>t1_crrb2cx</td>\n",
       "    </tr>\n",
       "    <tr>\n",
       "      <th>is_flair</th>\n",
       "      <td>False</td>\n",
       "      <td>False</td>\n",
       "      <td>False</td>\n",
       "      <td>False</td>\n",
       "      <td>False</td>\n",
       "    </tr>\n",
       "    <tr>\n",
       "      <th>is_flair_css</th>\n",
       "      <td>False</td>\n",
       "      <td>False</td>\n",
       "      <td>False</td>\n",
       "      <td>False</td>\n",
       "      <td>False</td>\n",
       "    </tr>\n",
       "    <tr>\n",
       "      <th>time</th>\n",
       "      <td>2015-05-31 23:59:38</td>\n",
       "      <td>2015-05-31 23:59:40</td>\n",
       "      <td>2015-05-31 23:59:41</td>\n",
       "      <td>2015-05-31 23:59:44</td>\n",
       "      <td>2015-05-31 23:59:45</td>\n",
       "    </tr>\n",
       "    <tr>\n",
       "      <th>url</th>\n",
       "      <td>www.telesurtv.net</td>\n",
       "      <td>www.telesurtv.net</td>\n",
       "      <td>mediablackoutusa.com</td>\n",
       "      <td>www.yahoo.com</td>\n",
       "      <td>www.telesurtv.net</td>\n",
       "    </tr>\n",
       "    <tr>\n",
       "      <th>num_comments</th>\n",
       "      <td>2162</td>\n",
       "      <td>2162</td>\n",
       "      <td>2686</td>\n",
       "      <td>10</td>\n",
       "      <td>2162</td>\n",
       "    </tr>\n",
       "    <tr>\n",
       "      <th>over_18</th>\n",
       "      <td>False</td>\n",
       "      <td>False</td>\n",
       "      <td>False</td>\n",
       "      <td>False</td>\n",
       "      <td>False</td>\n",
       "    </tr>\n",
       "    <tr>\n",
       "      <th>link_score</th>\n",
       "      <td>10279</td>\n",
       "      <td>10279</td>\n",
       "      <td>24122</td>\n",
       "      <td>9</td>\n",
       "      <td>10279</td>\n",
       "    </tr>\n",
       "    <tr>\n",
       "      <th>selftext</th>\n",
       "      <td></td>\n",
       "      <td></td>\n",
       "      <td></td>\n",
       "      <td></td>\n",
       "      <td></td>\n",
       "    </tr>\n",
       "    <tr>\n",
       "      <th>title</th>\n",
       "      <td>Obama Ordered to Release Guantanamo Force-Feed...</td>\n",
       "      <td>Obama Ordered to Release Guantanamo Force-Feed...</td>\n",
       "      <td>Nigeria Outlaws Female Genital Mutilation</td>\n",
       "      <td>US hits out at China over sea reclamation, vow...</td>\n",
       "      <td>Obama Ordered to Release Guantanamo Force-Feed...</td>\n",
       "    </tr>\n",
       "    <tr>\n",
       "      <th>upvote_ratio</th>\n",
       "      <td>0.92</td>\n",
       "      <td>0.92</td>\n",
       "      <td>0.94</td>\n",
       "      <td>0.62</td>\n",
       "      <td>0.92</td>\n",
       "    </tr>\n",
       "    <tr>\n",
       "      <th>link_ups</th>\n",
       "      <td>10279</td>\n",
       "      <td>10279</td>\n",
       "      <td>24122</td>\n",
       "      <td>9</td>\n",
       "      <td>10279</td>\n",
       "    </tr>\n",
       "    <tr>\n",
       "      <th>link_created_time</th>\n",
       "      <td>2015-05-31 16:35:54</td>\n",
       "      <td>2015-05-31 16:35:54</td>\n",
       "      <td>2015-05-31 19:09:54</td>\n",
       "      <td>2015-05-31 23:19:50</td>\n",
       "      <td>2015-05-31 16:35:54</td>\n",
       "    </tr>\n",
       "    <tr>\n",
       "      <th>time_since_link</th>\n",
       "      <td>26624</td>\n",
       "      <td>26626</td>\n",
       "      <td>17387</td>\n",
       "      <td>2394</td>\n",
       "      <td>26631</td>\n",
       "    </tr>\n",
       "    <tr>\n",
       "      <th>depth</th>\n",
       "      <td>6</td>\n",
       "      <td>2</td>\n",
       "      <td>4</td>\n",
       "      <td>2</td>\n",
       "      <td>6</td>\n",
       "    </tr>\n",
       "    <tr>\n",
       "      <th>linked_sr</th>\n",
       "      <td>[]</td>\n",
       "      <td>[]</td>\n",
       "      <td>[]</td>\n",
       "      <td>[]</td>\n",
       "      <td>[]</td>\n",
       "    </tr>\n",
       "    <tr>\n",
       "      <th>linked_urls</th>\n",
       "      <td>[]</td>\n",
       "      <td>[]</td>\n",
       "      <td>[]</td>\n",
       "      <td>[]</td>\n",
       "      <td>[]</td>\n",
       "    </tr>\n",
       "    <tr>\n",
       "      <th>no_of_linked_sr</th>\n",
       "      <td>0</td>\n",
       "      <td>0</td>\n",
       "      <td>0</td>\n",
       "      <td>0</td>\n",
       "      <td>0</td>\n",
       "    </tr>\n",
       "    <tr>\n",
       "      <th>no_of_linked_urls</th>\n",
       "      <td>0</td>\n",
       "      <td>0</td>\n",
       "      <td>0</td>\n",
       "      <td>0</td>\n",
       "      <td>0</td>\n",
       "    </tr>\n",
       "    <tr>\n",
       "      <th>a_linked_urls</th>\n",
       "      <td>[]</td>\n",
       "      <td>[]</td>\n",
       "      <td>[]</td>\n",
       "      <td>[]</td>\n",
       "      <td>[]</td>\n",
       "    </tr>\n",
       "    <tr>\n",
       "      <th>a_linked_sr</th>\n",
       "      <td>[]</td>\n",
       "      <td>[]</td>\n",
       "      <td>[]</td>\n",
       "      <td>[]</td>\n",
       "      <td>[]</td>\n",
       "    </tr>\n",
       "    <tr>\n",
       "      <th>parent_score</th>\n",
       "      <td>32</td>\n",
       "      <td>-2</td>\n",
       "      <td>60</td>\n",
       "      <td>-7</td>\n",
       "      <td>72</td>\n",
       "    </tr>\n",
       "    <tr>\n",
       "      <th>comment_tree_root_id</th>\n",
       "      <td>t1_crqyt35</td>\n",
       "      <td>t1_crraioh</td>\n",
       "      <td>t1_crr8wss</td>\n",
       "      <td>t1_crrb19g</td>\n",
       "      <td>t1_crqzs3o</td>\n",
       "    </tr>\n",
       "    <tr>\n",
       "      <th>comment_tree_root_score</th>\n",
       "      <td>455</td>\n",
       "      <td>-2</td>\n",
       "      <td>65</td>\n",
       "      <td>-7</td>\n",
       "      <td>1231</td>\n",
       "    </tr>\n",
       "    <tr>\n",
       "      <th>time_since_comment_tree_root</th>\n",
       "      <td>23900</td>\n",
       "      <td>1675</td>\n",
       "      <td>4899</td>\n",
       "      <td>696</td>\n",
       "      <td>22067</td>\n",
       "    </tr>\n",
       "    <tr>\n",
       "      <th>subjectivity</th>\n",
       "      <td>0</td>\n",
       "      <td>2</td>\n",
       "      <td>0</td>\n",
       "      <td>0</td>\n",
       "      <td>0</td>\n",
       "    </tr>\n",
       "    <tr>\n",
       "      <th>is_edited</th>\n",
       "      <td>False</td>\n",
       "      <td>False</td>\n",
       "      <td>False</td>\n",
       "      <td>False</td>\n",
       "      <td>False</td>\n",
       "    </tr>\n",
       "    <tr>\n",
       "      <th>senti_neg</th>\n",
       "      <td>0.104</td>\n",
       "      <td>0.195</td>\n",
       "      <td>0.131</td>\n",
       "      <td>0.148</td>\n",
       "      <td>0.259</td>\n",
       "    </tr>\n",
       "    <tr>\n",
       "      <th>senti_neu</th>\n",
       "      <td>0.896</td>\n",
       "      <td>0.663</td>\n",
       "      <td>0.836</td>\n",
       "      <td>0.767</td>\n",
       "      <td>0.741</td>\n",
       "    </tr>\n",
       "    <tr>\n",
       "      <th>senti_pos</th>\n",
       "      <td>0</td>\n",
       "      <td>0.142</td>\n",
       "      <td>0.033</td>\n",
       "      <td>0.085</td>\n",
       "      <td>0</td>\n",
       "    </tr>\n",
       "    <tr>\n",
       "      <th>senti_comp</th>\n",
       "      <td>-0.5413</td>\n",
       "      <td>-0.7326</td>\n",
       "      <td>-0.8126</td>\n",
       "      <td>-0.8658</td>\n",
       "      <td>-0.2732</td>\n",
       "    </tr>\n",
       "    <tr>\n",
       "      <th>is_quoted</th>\n",
       "      <td>False</td>\n",
       "      <td>False</td>\n",
       "      <td>False</td>\n",
       "      <td>True</td>\n",
       "      <td>False</td>\n",
       "    </tr>\n",
       "    <tr>\n",
       "      <th>no_quoted</th>\n",
       "      <td>0</td>\n",
       "      <td>0</td>\n",
       "      <td>0</td>\n",
       "      <td>2</td>\n",
       "      <td>0</td>\n",
       "    </tr>\n",
       "    <tr>\n",
       "      <th>time_since_parent</th>\n",
       "      <td>3320</td>\n",
       "      <td>1675</td>\n",
       "      <td>909</td>\n",
       "      <td>696</td>\n",
       "      <td>639</td>\n",
       "    </tr>\n",
       "    <tr>\n",
       "      <th>is_root</th>\n",
       "      <td>False</td>\n",
       "      <td>False</td>\n",
       "      <td>False</td>\n",
       "      <td>False</td>\n",
       "      <td>False</td>\n",
       "    </tr>\n",
       "    <tr>\n",
       "      <th>is_selftext</th>\n",
       "      <td>False</td>\n",
       "      <td>False</td>\n",
       "      <td>False</td>\n",
       "      <td>False</td>\n",
       "      <td>False</td>\n",
       "    </tr>\n",
       "    <tr>\n",
       "      <th>word_counts</th>\n",
       "      <td>31</td>\n",
       "      <td>79</td>\n",
       "      <td>67</td>\n",
       "      <td>123</td>\n",
       "      <td>7</td>\n",
       "    </tr>\n",
       "    <tr>\n",
       "      <th>epoch_time</th>\n",
       "      <td>1433116778</td>\n",
       "      <td>1433116780</td>\n",
       "      <td>1433116781</td>\n",
       "      <td>1433116784</td>\n",
       "      <td>1433116785</td>\n",
       "    </tr>\n",
       "    <tr>\n",
       "      <th>no_of_past_comments</th>\n",
       "      <td>908</td>\n",
       "      <td>909</td>\n",
       "      <td>92</td>\n",
       "      <td>2</td>\n",
       "      <td>910</td>\n",
       "    </tr>\n",
       "    <tr>\n",
       "      <th>score_till_now</th>\n",
       "      <td>1</td>\n",
       "      <td>1</td>\n",
       "      <td>170</td>\n",
       "      <td>9</td>\n",
       "      <td>37</td>\n",
       "    </tr>\n",
       "  </tbody>\n",
       "</table>\n",
       "</div>"
      ],
      "text/plain": [
       "                                                                        1372859  \\\n",
       "ups                                                                           1   \n",
       "link_id                                                               t3_37z0mw   \n",
       "name                                                                 t1_crrbebf   \n",
       "subreddit                                                             worldnews   \n",
       "gilded                                                                        0   \n",
       "score                                                                         1   \n",
       "retrieved_on                                                         1433505915   \n",
       "body                          The key there is \"unless they're sociopaths\". ...   \n",
       "distinguished                                                               NaN   \n",
       "edited                                                                        0   \n",
       "controversiality                                                              0   \n",
       "parent_id                                                            t1_crr9oyk   \n",
       "is_flair                                                                  False   \n",
       "is_flair_css                                                              False   \n",
       "time                                                        2015-05-31 23:59:38   \n",
       "url                                                           www.telesurtv.net   \n",
       "num_comments                                                               2162   \n",
       "over_18                                                                   False   \n",
       "link_score                                                                10279   \n",
       "selftext                                                                          \n",
       "title                         Obama Ordered to Release Guantanamo Force-Feed...   \n",
       "upvote_ratio                                                               0.92   \n",
       "link_ups                                                                  10279   \n",
       "link_created_time                                           2015-05-31 16:35:54   \n",
       "time_since_link                                                           26624   \n",
       "depth                                                                         6   \n",
       "linked_sr                                                                    []   \n",
       "linked_urls                                                                  []   \n",
       "no_of_linked_sr                                                               0   \n",
       "no_of_linked_urls                                                             0   \n",
       "a_linked_urls                                                                []   \n",
       "a_linked_sr                                                                  []   \n",
       "parent_score                                                                 32   \n",
       "comment_tree_root_id                                                 t1_crqyt35   \n",
       "comment_tree_root_score                                                     455   \n",
       "time_since_comment_tree_root                                              23900   \n",
       "subjectivity                                                                  0   \n",
       "is_edited                                                                 False   \n",
       "senti_neg                                                                 0.104   \n",
       "senti_neu                                                                 0.896   \n",
       "senti_pos                                                                     0   \n",
       "senti_comp                                                              -0.5413   \n",
       "is_quoted                                                                 False   \n",
       "no_quoted                                                                     0   \n",
       "time_since_parent                                                          3320   \n",
       "is_root                                                                   False   \n",
       "is_selftext                                                               False   \n",
       "word_counts                                                                  31   \n",
       "epoch_time                                                           1433116778   \n",
       "no_of_past_comments                                                         908   \n",
       "score_till_now                                                                1   \n",
       "\n",
       "                                                                        1372860  \\\n",
       "ups                                                                           1   \n",
       "link_id                                                               t3_37z0mw   \n",
       "name                                                                 t1_crrbecs   \n",
       "subreddit                                                             worldnews   \n",
       "gilded                                                                        0   \n",
       "score                                                                         1   \n",
       "retrieved_on                                                         1433505915   \n",
       "body                          Pretty sure they don't just behead people outr...   \n",
       "distinguished                                                               NaN   \n",
       "edited                                                                        0   \n",
       "controversiality                                                              0   \n",
       "parent_id                                                            t1_crraioh   \n",
       "is_flair                                                                  False   \n",
       "is_flair_css                                                              False   \n",
       "time                                                        2015-05-31 23:59:40   \n",
       "url                                                           www.telesurtv.net   \n",
       "num_comments                                                               2162   \n",
       "over_18                                                                   False   \n",
       "link_score                                                                10279   \n",
       "selftext                                                                          \n",
       "title                         Obama Ordered to Release Guantanamo Force-Feed...   \n",
       "upvote_ratio                                                               0.92   \n",
       "link_ups                                                                  10279   \n",
       "link_created_time                                           2015-05-31 16:35:54   \n",
       "time_since_link                                                           26626   \n",
       "depth                                                                         2   \n",
       "linked_sr                                                                    []   \n",
       "linked_urls                                                                  []   \n",
       "no_of_linked_sr                                                               0   \n",
       "no_of_linked_urls                                                             0   \n",
       "a_linked_urls                                                                []   \n",
       "a_linked_sr                                                                  []   \n",
       "parent_score                                                                 -2   \n",
       "comment_tree_root_id                                                 t1_crraioh   \n",
       "comment_tree_root_score                                                      -2   \n",
       "time_since_comment_tree_root                                               1675   \n",
       "subjectivity                                                                  2   \n",
       "is_edited                                                                 False   \n",
       "senti_neg                                                                 0.195   \n",
       "senti_neu                                                                 0.663   \n",
       "senti_pos                                                                 0.142   \n",
       "senti_comp                                                              -0.7326   \n",
       "is_quoted                                                                 False   \n",
       "no_quoted                                                                     0   \n",
       "time_since_parent                                                          1675   \n",
       "is_root                                                                   False   \n",
       "is_selftext                                                               False   \n",
       "word_counts                                                                  79   \n",
       "epoch_time                                                           1433116780   \n",
       "no_of_past_comments                                                         909   \n",
       "score_till_now                                                                1   \n",
       "\n",
       "                                                                        1372861  \\\n",
       "ups                                                                         170   \n",
       "link_id                                                               t3_37zl5z   \n",
       "name                                                                 t1_crrbedn   \n",
       "subreddit                                                             worldnews   \n",
       "gilded                                                                        0   \n",
       "score                                                                       170   \n",
       "retrieved_on                                                         1433505916   \n",
       "body                          Because it's not typically done to babies. It'...   \n",
       "distinguished                                                               NaN   \n",
       "edited                                                                        0   \n",
       "controversiality                                                              0   \n",
       "parent_id                                                            t1_crrax76   \n",
       "is_flair                                                                  False   \n",
       "is_flair_css                                                              False   \n",
       "time                                                        2015-05-31 23:59:41   \n",
       "url                                                        mediablackoutusa.com   \n",
       "num_comments                                                               2686   \n",
       "over_18                                                                   False   \n",
       "link_score                                                                24122   \n",
       "selftext                                                                          \n",
       "title                                 Nigeria Outlaws Female Genital Mutilation   \n",
       "upvote_ratio                                                               0.94   \n",
       "link_ups                                                                  24122   \n",
       "link_created_time                                           2015-05-31 19:09:54   \n",
       "time_since_link                                                           17387   \n",
       "depth                                                                         4   \n",
       "linked_sr                                                                    []   \n",
       "linked_urls                                                                  []   \n",
       "no_of_linked_sr                                                               0   \n",
       "no_of_linked_urls                                                             0   \n",
       "a_linked_urls                                                                []   \n",
       "a_linked_sr                                                                  []   \n",
       "parent_score                                                                 60   \n",
       "comment_tree_root_id                                                 t1_crr8wss   \n",
       "comment_tree_root_score                                                      65   \n",
       "time_since_comment_tree_root                                               4899   \n",
       "subjectivity                                                                  0   \n",
       "is_edited                                                                 False   \n",
       "senti_neg                                                                 0.131   \n",
       "senti_neu                                                                 0.836   \n",
       "senti_pos                                                                 0.033   \n",
       "senti_comp                                                              -0.8126   \n",
       "is_quoted                                                                 False   \n",
       "no_quoted                                                                     0   \n",
       "time_since_parent                                                           909   \n",
       "is_root                                                                   False   \n",
       "is_selftext                                                               False   \n",
       "word_counts                                                                  67   \n",
       "epoch_time                                                           1433116781   \n",
       "no_of_past_comments                                                          92   \n",
       "score_till_now                                                              170   \n",
       "\n",
       "                                                                        1372862  \\\n",
       "ups                                                                           9   \n",
       "link_id                                                               t3_380j06   \n",
       "name                                                                 t1_crrbefm   \n",
       "subreddit                                                             worldnews   \n",
       "gilded                                                                        0   \n",
       "score                                                                         9   \n",
       "retrieved_on                                                         1433505916   \n",
       "body                          &gt; Nothing they are doing is illegal under i...   \n",
       "distinguished                                                               NaN   \n",
       "edited                                                                        0   \n",
       "controversiality                                                              0   \n",
       "parent_id                                                            t1_crrb19g   \n",
       "is_flair                                                                  False   \n",
       "is_flair_css                                                              False   \n",
       "time                                                        2015-05-31 23:59:44   \n",
       "url                                                               www.yahoo.com   \n",
       "num_comments                                                                 10   \n",
       "over_18                                                                   False   \n",
       "link_score                                                                    9   \n",
       "selftext                                                                          \n",
       "title                         US hits out at China over sea reclamation, vow...   \n",
       "upvote_ratio                                                               0.62   \n",
       "link_ups                                                                      9   \n",
       "link_created_time                                           2015-05-31 23:19:50   \n",
       "time_since_link                                                            2394   \n",
       "depth                                                                         2   \n",
       "linked_sr                                                                    []   \n",
       "linked_urls                                                                  []   \n",
       "no_of_linked_sr                                                               0   \n",
       "no_of_linked_urls                                                             0   \n",
       "a_linked_urls                                                                []   \n",
       "a_linked_sr                                                                  []   \n",
       "parent_score                                                                 -7   \n",
       "comment_tree_root_id                                                 t1_crrb19g   \n",
       "comment_tree_root_score                                                      -7   \n",
       "time_since_comment_tree_root                                                696   \n",
       "subjectivity                                                                  0   \n",
       "is_edited                                                                 False   \n",
       "senti_neg                                                                 0.148   \n",
       "senti_neu                                                                 0.767   \n",
       "senti_pos                                                                 0.085   \n",
       "senti_comp                                                              -0.8658   \n",
       "is_quoted                                                                  True   \n",
       "no_quoted                                                                     2   \n",
       "time_since_parent                                                           696   \n",
       "is_root                                                                   False   \n",
       "is_selftext                                                               False   \n",
       "word_counts                                                                 123   \n",
       "epoch_time                                                           1433116784   \n",
       "no_of_past_comments                                                           2   \n",
       "score_till_now                                                                9   \n",
       "\n",
       "                                                                        1372863  \n",
       "ups                                                                          37  \n",
       "link_id                                                               t3_37z0mw  \n",
       "name                                                                 t1_crrbeft  \n",
       "subreddit                                                             worldnews  \n",
       "gilded                                                                        0  \n",
       "score                                                                        37  \n",
       "retrieved_on                                                         1433505916  \n",
       "body                               Apart from the risk of inhalation pneumonia.  \n",
       "distinguished                                                               NaN  \n",
       "edited                                                                        0  \n",
       "controversiality                                                              0  \n",
       "parent_id                                                            t1_crrb2cx  \n",
       "is_flair                                                                  False  \n",
       "is_flair_css                                                              False  \n",
       "time                                                        2015-05-31 23:59:45  \n",
       "url                                                           www.telesurtv.net  \n",
       "num_comments                                                               2162  \n",
       "over_18                                                                   False  \n",
       "link_score                                                                10279  \n",
       "selftext                                                                         \n",
       "title                         Obama Ordered to Release Guantanamo Force-Feed...  \n",
       "upvote_ratio                                                               0.92  \n",
       "link_ups                                                                  10279  \n",
       "link_created_time                                           2015-05-31 16:35:54  \n",
       "time_since_link                                                           26631  \n",
       "depth                                                                         6  \n",
       "linked_sr                                                                    []  \n",
       "linked_urls                                                                  []  \n",
       "no_of_linked_sr                                                               0  \n",
       "no_of_linked_urls                                                             0  \n",
       "a_linked_urls                                                                []  \n",
       "a_linked_sr                                                                  []  \n",
       "parent_score                                                                 72  \n",
       "comment_tree_root_id                                                 t1_crqzs3o  \n",
       "comment_tree_root_score                                                    1231  \n",
       "time_since_comment_tree_root                                              22067  \n",
       "subjectivity                                                                  0  \n",
       "is_edited                                                                 False  \n",
       "senti_neg                                                                 0.259  \n",
       "senti_neu                                                                 0.741  \n",
       "senti_pos                                                                     0  \n",
       "senti_comp                                                              -0.2732  \n",
       "is_quoted                                                                 False  \n",
       "no_quoted                                                                     0  \n",
       "time_since_parent                                                           639  \n",
       "is_root                                                                   False  \n",
       "is_selftext                                                               False  \n",
       "word_counts                                                                   7  \n",
       "epoch_time                                                           1433116785  \n",
       "no_of_past_comments                                                         910  \n",
       "score_till_now                                                               37  "
      ]
     },
     "execution_count": 28,
     "metadata": {},
     "output_type": "execute_result"
    }
   ],
   "source": [
    "df.tail().T"
   ]
  },
  {
   "cell_type": "code",
   "execution_count": 29,
   "metadata": {
    "ExecuteTime": {
     "end_time": "2018-12-06T02:45:35.816795Z",
     "start_time": "2018-12-06T02:45:35.813591Z"
    }
   },
   "outputs": [],
   "source": [
    "import string\n",
    "from sklearn.feature_extraction.stop_words import ENGLISH_STOP_WORDS"
   ]
  },
  {
   "cell_type": "code",
   "execution_count": 30,
   "metadata": {
    "ExecuteTime": {
     "end_time": "2018-12-06T02:47:24.481734Z",
     "start_time": "2018-12-06T02:45:35.819380Z"
    }
   },
   "outputs": [],
   "source": [
    "table = str.maketrans({key: ' ' for key in string.digits + string.punctuation + '\\t\\n\\r'})\n",
    "\n",
    "def load_glove(filename):\n",
    "    glove = {}\n",
    "    with open(filename, 'r') as read_file:\n",
    "        for line in read_file:\n",
    "            key = line.split(' ')[0]\n",
    "            vector = np.array(line.split(' ')[1:], dtype=np.float)\n",
    "            glove[key] = vector\n",
    "\n",
    "    return glove\n",
    "\n",
    "def words(text):\n",
    "    text = text.lower()\n",
    "    text = text.translate(table).strip()\n",
    "    terms = text.split(' ')\n",
    "    terms = [t for t in terms if len(t) > 2]\n",
    "    terms = [t for t in terms if t not in ENGLISH_STOP_WORDS]\n",
    "\n",
    "    return terms\n",
    "\n",
    "def get_doc2vec(text, gloves):\n",
    "    count_words = 0\n",
    "    final_vector = 0\n",
    "    terms = words(text)\n",
    "\n",
    "    for t in terms:\n",
    "        if t in gloves.keys():\n",
    "            count_words += 1\n",
    "            final_vector += gloves[t]\n",
    "    if count_words != 0:\n",
    "        return final_vector / count_words\n",
    "    else:\n",
    "        return None\n",
    "\n",
    "gloves = load_glove('Data/glove.twitter.27B.200d.txt')"
   ]
  },
  {
   "cell_type": "code",
   "execution_count": 31,
   "metadata": {
    "ExecuteTime": {
     "end_time": "2018-12-06T02:47:24.488355Z",
     "start_time": "2018-12-06T02:47:24.485155Z"
    }
   },
   "outputs": [],
   "source": [
    "from scipy.spatial.distance import cosine, euclidean"
   ]
  },
  {
   "cell_type": "code",
   "execution_count": 32,
   "metadata": {
    "ExecuteTime": {
     "end_time": "2018-12-06T02:48:34.317388Z",
     "start_time": "2018-12-06T02:47:24.492566Z"
    }
   },
   "outputs": [],
   "source": [
    "comment_to_body = pd_to_dict(df[['name', 'body']],\n",
    "                                index='name', column='body')\n",
    "comment_to_parent = pd_to_dict(df[['name', 'parent_id']],\n",
    "                                index='name', column='parent_id')\n",
    "\n",
    "def get_cosine_angle(cmnt_id):\n",
    "    child = comment_to_body[cmnt_id]\n",
    "    try:\n",
    "        parent = comment_to_body[comment_to_parent[cmnt_id]]\n",
    "    except KeyError:\n",
    "        return None\n",
    "    child = get_doc2vec(child, gloves)\n",
    "    parent = get_doc2vec(parent, gloves)\n",
    "    if child is None:\n",
    "        return None\n",
    "    if parent is None:\n",
    "        return None\n",
    "    return cosine(child, parent), euclidean(child, parent)\n",
    "\n",
    "def wrapper_get_cosine(df):\n",
    "    df['cosine_euc'] = df['name'].apply(get_cosine_angle)\n",
    "    return df\n",
    "\n",
    "cosine_angle = parallelize_dataframe(df['name'].to_frame(), wrapper_get_cosine)\n",
    "\n",
    "df['cosine_euc'] = cosine_angle.cosine_euc\n",
    "\n",
    "del cosine_angle"
   ]
  },
  {
   "cell_type": "code",
   "execution_count": 33,
   "metadata": {
    "ExecuteTime": {
     "end_time": "2018-12-06T02:48:35.270797Z",
     "start_time": "2018-12-06T02:48:34.320331Z"
    }
   },
   "outputs": [],
   "source": [
    "df['parent_cosine'] = df.cosine_euc.apply(lambda x: x[0] if x is not None else None)\n",
    "df['parent_euc'] = df.cosine_euc.apply(lambda x: x[1] if x is not None else None)"
   ]
  },
  {
   "cell_type": "code",
   "execution_count": 34,
   "metadata": {
    "ExecuteTime": {
     "end_time": "2018-12-06T02:48:37.359862Z",
     "start_time": "2018-12-06T02:48:35.273100Z"
    }
   },
   "outputs": [],
   "source": [
    "df.drop(['cosine_euc'], inplace=True, axis=1)"
   ]
  },
  {
   "cell_type": "code",
   "execution_count": 35,
   "metadata": {
    "ExecuteTime": {
     "end_time": "2018-12-06T02:48:38.413901Z",
     "start_time": "2018-12-06T02:48:37.363371Z"
    }
   },
   "outputs": [],
   "source": [
    "comment_to_body = pd_to_dict(df[['name', 'body']],\n",
    "                                index='name', column='body')\n",
    "comment_to_title = pd_to_dict(df[['name', 'title']],\n",
    "                                index='name', column='title')"
   ]
  },
  {
   "cell_type": "code",
   "execution_count": 36,
   "metadata": {
    "ExecuteTime": {
     "end_time": "2018-12-06T02:48:38.421317Z",
     "start_time": "2018-12-06T02:48:38.416431Z"
    }
   },
   "outputs": [],
   "source": [
    "def get_cosine_angle(cmnt_id):\n",
    "    child = comment_to_body[cmnt_id]\n",
    "    try:\n",
    "        parent = comment_to_title[cmnt_id]\n",
    "        child = get_doc2vec(child, gloves)\n",
    "        parent = get_doc2vec(parent, gloves)\n",
    "    except:\n",
    "        return None\n",
    "    if child is None:\n",
    "        return None\n",
    "    if parent is None:\n",
    "        return None\n",
    "    return cosine(child, parent), euclidean(child, parent)\n",
    "\n",
    "def wrapper_get_cosine(df):\n",
    "    df['cosine_euc'] = df['name'].apply(get_cosine_angle)\n",
    "    return df"
   ]
  },
  {
   "cell_type": "code",
   "execution_count": 37,
   "metadata": {
    "ExecuteTime": {
     "end_time": "2018-12-06T02:49:57.955495Z",
     "start_time": "2018-12-06T02:48:38.423900Z"
    }
   },
   "outputs": [],
   "source": [
    "cosine_angle = parallelize_dataframe(df['name'].to_frame(), wrapper_get_cosine)\n",
    "df['cosine_euc'] = cosine_angle.cosine_euc\n",
    "del cosine_angle"
   ]
  },
  {
   "cell_type": "code",
   "execution_count": 38,
   "metadata": {
    "ExecuteTime": {
     "end_time": "2018-12-06T02:49:59.018094Z",
     "start_time": "2018-12-06T02:49:57.958370Z"
    }
   },
   "outputs": [],
   "source": [
    "df['title_cosine'] = df.cosine_euc.apply(lambda x: x[0] if x is not None else None)\n",
    "df['title_euc'] = df.cosine_euc.apply(lambda x: x[1] if x is not None else None)"
   ]
  },
  {
   "cell_type": "code",
   "execution_count": 39,
   "metadata": {
    "ExecuteTime": {
     "end_time": "2018-12-06T02:49:59.024775Z",
     "start_time": "2018-12-06T02:49:59.021095Z"
    }
   },
   "outputs": [],
   "source": [
    "# del comment_to_body\n",
    "# del comment_to_parent\n",
    "# del comment_to_score\n",
    "# del comment_to_time\n",
    "# del comment_to_title\n",
    "# del glovesd"
   ]
  },
  {
   "cell_type": "code",
   "execution_count": 44,
   "metadata": {
    "ExecuteTime": {
     "end_time": "2018-12-06T02:51:54.118237Z",
     "start_time": "2018-12-06T02:51:54.111137Z"
    }
   },
   "outputs": [
    {
     "data": {
      "text/plain": [
       "(1372864, 56)"
      ]
     },
     "execution_count": 44,
     "metadata": {},
     "output_type": "execute_result"
    }
   ],
   "source": [
    "df.shape"
   ]
  },
  {
   "cell_type": "code",
   "execution_count": 41,
   "metadata": {
    "ExecuteTime": {
     "end_time": "2018-12-06T02:50:14.372795Z",
     "start_time": "2018-12-06T02:49:59.039123Z"
    }
   },
   "outputs": [],
   "source": [
    "df.to_pickle('Data/new_data.pkl')\n",
    "# df = pd.read_pickle('Data/new_data.pkl')"
   ]
  },
  {
   "cell_type": "markdown",
   "metadata": {},
   "source": [
    "Cleaning"
   ]
  },
  {
   "cell_type": "code",
   "execution_count": 42,
   "metadata": {
    "ExecuteTime": {
     "end_time": "2018-12-06T02:51:43.467616Z",
     "start_time": "2018-12-06T02:51:43.456668Z"
    }
   },
   "outputs": [
    {
     "data": {
      "text/plain": [
       "Index(['ups', 'link_id', 'name', 'subreddit', 'gilded', 'score',\n",
       "       'retrieved_on', 'body', 'distinguished', 'edited', 'controversiality',\n",
       "       'parent_id', 'is_flair', 'is_flair_css', 'time', 'url', 'num_comments',\n",
       "       'over_18', 'link_score', 'selftext', 'title', 'upvote_ratio',\n",
       "       'link_ups', 'link_created_time', 'time_since_link', 'depth',\n",
       "       'linked_sr', 'linked_urls', 'no_of_linked_sr', 'no_of_linked_urls',\n",
       "       'a_linked_urls', 'a_linked_sr', 'parent_score', 'comment_tree_root_id',\n",
       "       'comment_tree_root_score', 'time_since_comment_tree_root',\n",
       "       'subjectivity', 'is_edited', 'senti_neg', 'senti_neu', 'senti_pos',\n",
       "       'senti_comp', 'is_quoted', 'no_quoted', 'time_since_parent', 'is_root',\n",
       "       'is_selftext', 'word_counts', 'epoch_time', 'no_of_past_comments',\n",
       "       'score_till_now', 'parent_cosine', 'parent_euc', 'cosine_euc',\n",
       "       'title_cosine', 'title_euc'],\n",
       "      dtype='object')"
      ]
     },
     "execution_count": 42,
     "metadata": {},
     "output_type": "execute_result"
    }
   ],
   "source": [
    "df.columns"
   ]
  },
  {
   "cell_type": "code",
   "execution_count": 43,
   "metadata": {
    "ExecuteTime": {
     "end_time": "2018-12-06T02:51:48.883332Z",
     "start_time": "2018-12-06T02:51:48.697769Z"
    }
   },
   "outputs": [],
   "source": [
    "df.distinguished.replace(to_replace=np.NaN, value='user', inplace=True)\n",
    "df['distinguished'] = df.distinguished.astype('category')"
   ]
  },
  {
   "cell_type": "code",
   "execution_count": 68,
   "metadata": {
    "ExecuteTime": {
     "end_time": "2018-12-06T06:01:47.888467Z",
     "start_time": "2018-12-06T06:01:47.879422Z"
    }
   },
   "outputs": [],
   "source": [
    "df['no_of_quoted_users'] = df.body.str.count('/u/')"
   ]
  },
  {
   "cell_type": "code",
   "execution_count": 78,
   "metadata": {
    "ExecuteTime": {
     "end_time": "2018-12-06T06:07:38.920039Z",
     "start_time": "2018-12-06T06:07:38.913759Z"
    }
   },
   "outputs": [],
   "source": [
    "df['hour_of_comment'] = df.time.apply(lambda x: x.hour)"
   ]
  },
  {
   "cell_type": "code",
   "execution_count": 81,
   "metadata": {
    "ExecuteTime": {
     "end_time": "2018-12-06T06:08:36.205688Z",
     "start_time": "2018-12-06T06:08:36.201510Z"
    }
   },
   "outputs": [],
   "source": [
    "df['weekday'] = df.time.dt.weekday"
   ]
  },
  {
   "cell_type": "code",
   "execution_count": 83,
   "metadata": {
    "ExecuteTime": {
     "end_time": "2018-12-06T06:12:48.276603Z",
     "start_time": "2018-12-06T06:12:47.286565Z"
    }
   },
   "outputs": [],
   "source": [
    "top_turls_links = []\n",
    "\n",
    "for sub in df.subreddit.unique():\n",
    "    top_turls_links += Counter(df[df.subreddit == sub].url.values).most_common(15)\n",
    "\n",
    "allowed_turls = list(set([i[0] for i in top_turls_links]))"
   ]
  },
  {
   "cell_type": "code",
   "execution_count": 84,
   "metadata": {
    "ExecuteTime": {
     "end_time": "2018-12-06T06:12:50.031298Z",
     "start_time": "2018-12-06T06:12:50.018820Z"
    }
   },
   "outputs": [
    {
     "data": {
      "text/plain": [
       "['www.pcgamer.com',\n",
       " 'www.kickstarter.com',\n",
       " 'www.veggiesdontbite.com',\n",
       " 'www.sciencealert.com',\n",
       " 'www.the-aps.org',\n",
       " 'en.abna24.com',\n",
       " 'www.youtube.com',\n",
       " 'gtaforums.com',\n",
       " 'www.nature.com',\n",
       " 'www.theatlantic.com',\n",
       " 'www.independent.co.uk',\n",
       " 'www.uq.edu.au',\n",
       " 'www.theguardian.com',\n",
       " 'www.bbc.com',\n",
       " 'www.realclearscience.com',\n",
       " 'www.ynetnews.com',\n",
       " 'www.imgur.com',\n",
       " 'www.telesurtv.net',\n",
       " 'comicbook.com',\n",
       " 'www.bbc.co.uk',\n",
       " 'www.npr.org',\n",
       " 'www.washingtonpost.com',\n",
       " 'arstechnica.com',\n",
       " 'www.hollywoodreporter.com',\n",
       " 'i.imgur.com',\n",
       " 'www.ibtimes.co.uk',\n",
       " 'www.nytimes.com',\n",
       " 'variety.com',\n",
       " 'cdn.shopify.com',\n",
       " 'phys.org',\n",
       " 'www.flickr.com',\n",
       " 'www.cnn.com',\n",
       " 'youtu.be',\n",
       " 'en.wikipedia.org',\n",
       " 'res.cloudinary.com',\n",
       " 'geektyrant.com',\n",
       " 'www.yahoo.com',\n",
       " 'i1.wp.com',\n",
       " 'gfycat.com',\n",
       " 'techti.me',\n",
       " 'www.sciencedaily.com',\n",
       " 'marvel.com',\n",
       " 'www.cbc.ca',\n",
       " 'www.ncbi.nlm.nih.gov',\n",
       " 'www.warcraftmovies.com',\n",
       " 'www.huffingtonpost.com',\n",
       " 'www.businessinsider.com',\n",
       " 'news.yahoo.com',\n",
       " 'm.imgur.com',\n",
       " 'imgur.com',\n",
       " 'www.rawstory.com',\n",
       " 'www.gamespot.com',\n",
       " 'www.reuters.com',\n",
       " 'www.reddit.com',\n",
       " 'interrete.org',\n",
       " 'egyptianstreets.com',\n",
       " 'www.gfycat.com']"
      ]
     },
     "execution_count": 84,
     "metadata": {},
     "output_type": "execute_result"
    }
   ],
   "source": [
    "allowed_turls"
   ]
  },
  {
   "cell_type": "code",
   "execution_count": 86,
   "metadata": {
    "ExecuteTime": {
     "end_time": "2018-12-06T06:13:30.209572Z",
     "start_time": "2018-12-06T06:13:30.202359Z"
    }
   },
   "outputs": [],
   "source": [
    "df['title_url_in_top'] = df.url.apply(lambda x: x in allowed_turls)"
   ]
  },
  {
   "cell_type": "code",
   "execution_count": 45,
   "metadata": {
    "ExecuteTime": {
     "end_time": "2018-12-06T02:52:02.572622Z",
     "start_time": "2018-12-06T02:52:00.726662Z"
    }
   },
   "outputs": [],
   "source": [
    "df = df[~df.depth.isna()]"
   ]
  },
  {
   "cell_type": "code",
   "execution_count": 61,
   "metadata": {
    "ExecuteTime": {
     "end_time": "2018-12-06T03:53:51.427841Z",
     "start_time": "2018-12-06T03:53:51.404564Z"
    }
   },
   "outputs": [],
   "source": [
    "df.loc[df.is_root, 'parent_cosine'] = 1"
   ]
  },
  {
   "cell_type": "code",
   "execution_count": 48,
   "metadata": {
    "ExecuteTime": {
     "end_time": "2018-12-06T02:54:11.731944Z",
     "start_time": "2018-12-06T02:54:11.701120Z"
    }
   },
   "outputs": [],
   "source": [
    "df.parent_euc.fillna(df.parent_euc.mean(), inplace=True)"
   ]
  },
  {
   "cell_type": "code",
   "execution_count": 49,
   "metadata": {
    "ExecuteTime": {
     "end_time": "2018-12-06T02:54:17.597235Z",
     "start_time": "2018-12-06T02:54:17.566225Z"
    }
   },
   "outputs": [
    {
     "data": {
      "text/plain": [
       "285.0"
      ]
     },
     "execution_count": 49,
     "metadata": {},
     "output_type": "execute_result"
    }
   ],
   "source": [
    "df.word_counts.quantile(0.995)"
   ]
  },
  {
   "cell_type": "code",
   "execution_count": 50,
   "metadata": {
    "ExecuteTime": {
     "end_time": "2018-12-06T02:54:19.618466Z",
     "start_time": "2018-12-06T02:54:19.059988Z"
    }
   },
   "outputs": [],
   "source": [
    "df = df[df['word_counts'] < 280]"
   ]
  },
  {
   "cell_type": "code",
   "execution_count": 51,
   "metadata": {
    "ExecuteTime": {
     "end_time": "2018-12-06T02:54:23.973638Z",
     "start_time": "2018-12-06T02:54:21.488442Z"
    }
   },
   "outputs": [],
   "source": [
    "df = df[df.body != '[deleted]']\n",
    "df = df[df.body != '[removed]']\n",
    "df = df[df.body != '']"
   ]
  },
  {
   "cell_type": "code",
   "execution_count": 52,
   "metadata": {
    "ExecuteTime": {
     "end_time": "2018-12-06T02:54:24.620007Z",
     "start_time": "2018-12-06T02:54:24.616189Z"
    }
   },
   "outputs": [],
   "source": [
    "df.reset_index(inplace=True, drop=True)"
   ]
  },
  {
   "cell_type": "code",
   "execution_count": 53,
   "metadata": {
    "ExecuteTime": {
     "end_time": "2018-12-06T02:56:50.935659Z",
     "start_time": "2018-12-06T02:56:49.664425Z"
    }
   },
   "outputs": [],
   "source": [
    "df = df[~df.title_cosine.isna()]\n",
    "df = df[~df.title_euc.isna()]"
   ]
  },
  {
   "cell_type": "code",
   "execution_count": 63,
   "metadata": {
    "ExecuteTime": {
     "end_time": "2018-12-06T03:54:43.606994Z",
     "start_time": "2018-12-06T03:54:43.113846Z"
    }
   },
   "outputs": [],
   "source": [
    "df = df[~df.parent_cosine.isna()]"
   ]
  },
  {
   "cell_type": "code",
   "execution_count": 54,
   "metadata": {
    "ExecuteTime": {
     "end_time": "2018-12-06T02:56:51.575457Z",
     "start_time": "2018-12-06T02:56:51.566594Z"
    }
   },
   "outputs": [
    {
     "data": {
      "text/plain": [
       "(1187058, 57)"
      ]
     },
     "execution_count": 54,
     "metadata": {},
     "output_type": "execute_result"
    }
   ],
   "source": [
    "df.shape"
   ]
  },
  {
   "cell_type": "markdown",
   "metadata": {},
   "source": [
    "### Max start here"
   ]
  },
  {
   "cell_type": "code",
   "execution_count": 216,
   "metadata": {},
   "outputs": [],
   "source": [
    "# Max read data from local source (TODO -- delete later)\n",
    "df = pd.read_pickle('/Users/maxalfaro/Desktop/Finale.pkl')\n",
    "\n",
    "# Remove root comments \n",
    "df = df.loc[df.is_root == False]"
   ]
  },
  {
   "cell_type": "markdown",
   "metadata": {},
   "source": [
    "**Explore the features**"
   ]
  },
  {
   "cell_type": "code",
   "execution_count": 4,
   "metadata": {
    "scrolled": true
   },
   "outputs": [
    {
     "data": {
      "text/plain": [
       "Index(['ups', 'link_id', 'name', 'subreddit', 'gilded', 'score',\n",
       "       'retrieved_on', 'body', 'distinguished', 'edited', 'controversiality',\n",
       "       'parent_id', 'is_flair', 'is_flair_css', 'time', 'url', 'num_comments',\n",
       "       'over_18', 'link_score', 'selftext', 'title', 'upvote_ratio',\n",
       "       'link_ups', 'link_created_time', 'time_since_link', 'depth',\n",
       "       'linked_sr', 'linked_urls', 'no_of_linked_sr', 'no_of_linked_urls',\n",
       "       'a_linked_urls', 'a_linked_sr', 'parent_score', 'comment_tree_root_id',\n",
       "       'comment_tree_root_score', 'time_since_comment_tree_root',\n",
       "       'subjectivity', 'is_edited', 'senti_neg', 'senti_neu', 'senti_pos',\n",
       "       'senti_comp', 'is_quoted', 'no_quoted', 'time_since_parent', 'is_root',\n",
       "       'is_selftext', 'word_counts', 'epoch_time', 'no_of_past_comments',\n",
       "       'score_till_now', 'parent_cosine', 'parent_euc', 'cosine_euc',\n",
       "       'title_cosine', 'title_euc', 'no_of_quoted_users', 'hour_of_comment',\n",
       "       'weekday', 'title_url_in_top'],\n",
       "      dtype='object')"
      ]
     },
     "execution_count": 4,
     "metadata": {},
     "output_type": "execute_result"
    }
   ],
   "source": [
    "df.columns"
   ]
  },
  {
   "cell_type": "markdown",
   "metadata": {},
   "source": [
    "We want to split these into three broad categories, and thus treat them accordingly:"
   ]
  },
  {
   "cell_type": "markdown",
   "metadata": {},
   "source": [
    "* **Categorical Variables** - `subreddit`, `distinguished`"
   ]
  },
  {
   "cell_type": "markdown",
   "metadata": {},
   "source": [
    "* **Boolean Variables** - `over_18`, `is_edited`, `is_quoted`, `is_root`, `is_selftext`, `is_flair`, `is_flair_css`  "
   ]
  },
  {
   "cell_type": "markdown",
   "metadata": {},
   "source": [
    "* **Numeric Variables** - `gilded`, `controversiality`, `num_comments`, `link_score`, `upvote_ratio`, `link_ups`, `time_since_link`, `depth`, `no_of_linked_sr`, `no_of_linked_urls`, `parent_score`, `comment_tree_root_score`, `time_since_comment_tree_root`, `subjectivity`, `senti_neg`, `senti_pos`, `senti_neu`, `senti_comp`, `no_quoted`, `time_since_parent`, `word_counts`, `title_cos_angle`, `parent_cos_angle`"
   ]
  },
  {
   "cell_type": "code",
   "execution_count": 5,
   "metadata": {},
   "outputs": [],
   "source": [
    "cat_cols = ['subreddit', 'distinguished', 'is_flair', 'is_flair_css']\n",
    "\n",
    "bool_cols = ['over_18', 'is_edited', 'is_quoted', 'is_root', 'is_selftext',\n",
    "             'title_url_in_top']\n",
    "\n",
    "numeric_cols = ['gilded', 'controversiality', 'upvote_ratio','time_since_link',\n",
    "                'depth', 'no_of_linked_sr', 'no_of_linked_urls', 'parent_score',\n",
    "                'comment_tree_root_score', 'time_since_comment_tree_root',\n",
    "                'subjectivity', 'senti_neg', 'senti_pos', 'senti_neu',\n",
    "                'senti_comp', 'no_quoted', 'time_since_parent', 'word_counts',\n",
    "                'no_of_past_comments', 'parent_cosine',\n",
    "                'parent_euc', 'title_cosine', 'title_euc', 'no_of_quoted_users',\n",
    "                'hour_of_comment', 'weekday']\n",
    "\n",
    "features = numeric_cols + bool_cols + cat_cols"
   ]
  },
  {
   "cell_type": "markdown",
   "metadata": {},
   "source": [
    "Using feature importance metrics from the random forest model"
   ]
  },
  {
   "cell_type": "code",
   "execution_count": 4,
   "metadata": {},
   "outputs": [
    {
     "data": {
      "text/plain": [
       "['parent_score',\n",
       " 'time_since_parent',\n",
       " 'no_of_past_comments',\n",
       " 'time_since_comment_tree_root',\n",
       " 'gilded']"
      ]
     },
     "execution_count": 4,
     "metadata": {},
     "output_type": "execute_result"
    }
   ],
   "source": [
    "top_five_features = ['parent_score', 'time_since_parent', 'no_of_past_comments', 'time_since_comment_tree_root', 'gilded']\n",
    "top_five_features"
   ]
  },
  {
   "cell_type": "code",
   "execution_count": 44,
   "metadata": {},
   "outputs": [],
   "source": [
    "# Actually don't do this. \n",
    "# med = np.median(df.comment_tree_root_score)\n",
    "# df['comment_tree_root_score'] = df[['is_root', 'comment_tree_root_score']].apply(lambda line : line[1] if not line[0] else med, axis = 1)"
   ]
  },
  {
   "cell_type": "markdown",
   "metadata": {},
   "source": [
    "### Plotting"
   ]
  },
  {
   "cell_type": "code",
   "execution_count": 5,
   "metadata": {
    "ExecuteTime": {
     "end_time": "2018-12-06T02:56:55.227061Z",
     "start_time": "2018-12-06T02:56:55.076946Z"
    }
   },
   "outputs": [],
   "source": [
    "import seaborn as sns\n",
    "import calendar"
   ]
  },
  {
   "cell_type": "markdown",
   "metadata": {},
   "source": [
    "Let's explore how some features that we think would be the most important are related to score. We believe that some of the best features would be"
   ]
  },
  {
   "cell_type": "markdown",
   "metadata": {},
   "source": [
    "**Comments by day of the week**"
   ]
  },
  {
   "cell_type": "code",
   "execution_count": 80,
   "metadata": {
    "scrolled": false
   },
   "outputs": [
    {
     "data": {
      "text/plain": [
       "<matplotlib.axes._subplots.AxesSubplot at 0x1a2e0820b8>"
      ]
     },
     "execution_count": 80,
     "metadata": {},
     "output_type": "execute_result"
    },
    {
     "data": {
      "image/png": "[encoded data removed]",
      "text/plain": [
       "<Figure size 432x288 with 1 Axes>"
      ]
     },
     "metadata": {},
     "output_type": "display_data"
    }
   ],
   "source": [
    "d = dict(enumerate(calendar.day_name))\n",
    "weekday = pd.DataFrame({'dow' : list(d.values()), 'valueCount' : list(weekday_counts)})\n",
    "\n",
    "weekday.plot(x = 'dow', y = 'valueCount', kind = 'bar', color = 'lightblue', \n",
    "             title = 'Total Comments By Day of Week', legend = False)"
   ]
  },
  {
   "cell_type": "code",
   "execution_count": 84,
   "metadata": {},
   "outputs": [
    {
     "data": {
      "text/plain": [
       "Index(['ups', 'link_id', 'name', 'subreddit', 'gilded', 'score',\n",
       "       'retrieved_on', 'body', 'distinguished', 'edited', 'controversiality',\n",
       "       'parent_id', 'is_flair', 'is_flair_css', 'time', 'url', 'num_comments',\n",
       "       'over_18', 'link_score', 'selftext', 'title', 'upvote_ratio',\n",
       "       'link_ups', 'link_created_time', 'time_since_link', 'depth',\n",
       "       'linked_sr', 'linked_urls', 'no_of_linked_sr', 'no_of_linked_urls',\n",
       "       'a_linked_urls', 'a_linked_sr', 'parent_score', 'comment_tree_root_id',\n",
       "       'comment_tree_root_score', 'time_since_comment_tree_root',\n",
       "       'subjectivity', 'is_edited', 'senti_neg', 'senti_neu', 'senti_pos',\n",
       "       'senti_comp', 'is_quoted', 'no_quoted', 'time_since_parent', 'is_root',\n",
       "       'is_selftext', 'word_counts', 'epoch_time', 'no_of_past_comments',\n",
       "       'score_till_now', 'parent_cosine', 'parent_euc', 'cosine_euc',\n",
       "       'title_cosine', 'title_euc', 'no_of_quoted_users', 'hour_of_comment',\n",
       "       'weekday', 'title_url_in_top'],\n",
       "      dtype='object')"
      ]
     },
     "execution_count": 84,
     "metadata": {},
     "output_type": "execute_result"
    }
   ],
   "source": [
    "df.columns"
   ]
  },
  {
   "cell_type": "code",
   "execution_count": 182,
   "metadata": {
    "scrolled": false
   },
   "outputs": [],
   "source": [
    "t = df.groupby([\"weekday\", \"subreddit\"]).size()\n",
    "\n",
    "weekdays = ['M']*5 + ['Tu']*5 + ['W']*5 + ['Th']*5 + ['F']*5 + ['Sa']*5 + ['Su']*5\n",
    "subreddits = list(t.index.levels[1]) * 7\n",
    "num_comments = list(t)\n",
    "\n",
    "dow_df = pd.DataFrame({'Weekday':weekdays, 'Subreddit':subreddits, 'Num_Comments':num_comments})"
   ]
  },
  {
   "cell_type": "code",
   "execution_count": 180,
   "metadata": {
    "scrolled": true
   },
   "outputs": [
    {
     "data": {
      "text/html": [
       "<div>\n",
       "<style scoped>\n",
       "    .dataframe tbody tr th:only-of-type {\n",
       "        vertical-align: middle;\n",
       "    }\n",
       "\n",
       "    .dataframe tbody tr th {\n",
       "        vertical-align: top;\n",
       "    }\n",
       "\n",
       "    .dataframe thead th {\n",
       "        text-align: right;\n",
       "    }\n",
       "</style>\n",
       "<table border=\"1\" class=\"dataframe\">\n",
       "  <thead>\n",
       "    <tr style=\"text-align: right;\">\n",
       "      <th></th>\n",
       "      <th>Weekday</th>\n",
       "      <th>subreddits</th>\n",
       "      <th>numcomments</th>\n",
       "    </tr>\n",
       "  </thead>\n",
       "  <tbody>\n",
       "    <tr>\n",
       "      <th>0</th>\n",
       "      <td>M</td>\n",
       "      <td>food</td>\n",
       "      <td>2923</td>\n",
       "    </tr>\n",
       "    <tr>\n",
       "      <th>1</th>\n",
       "      <td>M</td>\n",
       "      <td>gaming</td>\n",
       "      <td>27135</td>\n",
       "    </tr>\n",
       "    <tr>\n",
       "      <th>2</th>\n",
       "      <td>M</td>\n",
       "      <td>movies</td>\n",
       "      <td>33459</td>\n",
       "    </tr>\n",
       "    <tr>\n",
       "      <th>3</th>\n",
       "      <td>M</td>\n",
       "      <td>science</td>\n",
       "      <td>5462</td>\n",
       "    </tr>\n",
       "    <tr>\n",
       "      <th>4</th>\n",
       "      <td>M</td>\n",
       "      <td>worldnews</td>\n",
       "      <td>42760</td>\n",
       "    </tr>\n",
       "    <tr>\n",
       "      <th>5</th>\n",
       "      <td>Tu</td>\n",
       "      <td>food</td>\n",
       "      <td>2922</td>\n",
       "    </tr>\n",
       "    <tr>\n",
       "      <th>6</th>\n",
       "      <td>Tu</td>\n",
       "      <td>gaming</td>\n",
       "      <td>26784</td>\n",
       "    </tr>\n",
       "    <tr>\n",
       "      <th>7</th>\n",
       "      <td>Tu</td>\n",
       "      <td>movies</td>\n",
       "      <td>33249</td>\n",
       "    </tr>\n",
       "    <tr>\n",
       "      <th>8</th>\n",
       "      <td>Tu</td>\n",
       "      <td>science</td>\n",
       "      <td>5869</td>\n",
       "    </tr>\n",
       "    <tr>\n",
       "      <th>9</th>\n",
       "      <td>Tu</td>\n",
       "      <td>worldnews</td>\n",
       "      <td>46296</td>\n",
       "    </tr>\n",
       "    <tr>\n",
       "      <th>10</th>\n",
       "      <td>W</td>\n",
       "      <td>food</td>\n",
       "      <td>3768</td>\n",
       "    </tr>\n",
       "    <tr>\n",
       "      <th>11</th>\n",
       "      <td>W</td>\n",
       "      <td>gaming</td>\n",
       "      <td>26192</td>\n",
       "    </tr>\n",
       "    <tr>\n",
       "      <th>12</th>\n",
       "      <td>W</td>\n",
       "      <td>movies</td>\n",
       "      <td>28724</td>\n",
       "    </tr>\n",
       "    <tr>\n",
       "      <th>13</th>\n",
       "      <td>W</td>\n",
       "      <td>science</td>\n",
       "      <td>4833</td>\n",
       "    </tr>\n",
       "    <tr>\n",
       "      <th>14</th>\n",
       "      <td>W</td>\n",
       "      <td>worldnews</td>\n",
       "      <td>58466</td>\n",
       "    </tr>\n",
       "    <tr>\n",
       "      <th>15</th>\n",
       "      <td>Th</td>\n",
       "      <td>food</td>\n",
       "      <td>5874</td>\n",
       "    </tr>\n",
       "    <tr>\n",
       "      <th>16</th>\n",
       "      <td>Th</td>\n",
       "      <td>gaming</td>\n",
       "      <td>24912</td>\n",
       "    </tr>\n",
       "    <tr>\n",
       "      <th>17</th>\n",
       "      <td>Th</td>\n",
       "      <td>movies</td>\n",
       "      <td>31800</td>\n",
       "    </tr>\n",
       "    <tr>\n",
       "      <th>18</th>\n",
       "      <td>Th</td>\n",
       "      <td>science</td>\n",
       "      <td>5665</td>\n",
       "    </tr>\n",
       "    <tr>\n",
       "      <th>19</th>\n",
       "      <td>Th</td>\n",
       "      <td>worldnews</td>\n",
       "      <td>43042</td>\n",
       "    </tr>\n",
       "    <tr>\n",
       "      <th>20</th>\n",
       "      <td>F</td>\n",
       "      <td>food</td>\n",
       "      <td>3927</td>\n",
       "    </tr>\n",
       "    <tr>\n",
       "      <th>21</th>\n",
       "      <td>F</td>\n",
       "      <td>gaming</td>\n",
       "      <td>31790</td>\n",
       "    </tr>\n",
       "    <tr>\n",
       "      <th>22</th>\n",
       "      <td>F</td>\n",
       "      <td>movies</td>\n",
       "      <td>36627</td>\n",
       "    </tr>\n",
       "    <tr>\n",
       "      <th>23</th>\n",
       "      <td>F</td>\n",
       "      <td>science</td>\n",
       "      <td>8310</td>\n",
       "    </tr>\n",
       "    <tr>\n",
       "      <th>24</th>\n",
       "      <td>F</td>\n",
       "      <td>worldnews</td>\n",
       "      <td>56853</td>\n",
       "    </tr>\n",
       "    <tr>\n",
       "      <th>25</th>\n",
       "      <td>Sa</td>\n",
       "      <td>food</td>\n",
       "      <td>3177</td>\n",
       "    </tr>\n",
       "    <tr>\n",
       "      <th>26</th>\n",
       "      <td>Sa</td>\n",
       "      <td>gaming</td>\n",
       "      <td>28930</td>\n",
       "    </tr>\n",
       "    <tr>\n",
       "      <th>27</th>\n",
       "      <td>Sa</td>\n",
       "      <td>movies</td>\n",
       "      <td>33787</td>\n",
       "    </tr>\n",
       "    <tr>\n",
       "      <th>28</th>\n",
       "      <td>Sa</td>\n",
       "      <td>science</td>\n",
       "      <td>5612</td>\n",
       "    </tr>\n",
       "    <tr>\n",
       "      <th>29</th>\n",
       "      <td>Sa</td>\n",
       "      <td>worldnews</td>\n",
       "      <td>46887</td>\n",
       "    </tr>\n",
       "    <tr>\n",
       "      <th>30</th>\n",
       "      <td>Su</td>\n",
       "      <td>food</td>\n",
       "      <td>4313</td>\n",
       "    </tr>\n",
       "    <tr>\n",
       "      <th>31</th>\n",
       "      <td>Su</td>\n",
       "      <td>gaming</td>\n",
       "      <td>27534</td>\n",
       "    </tr>\n",
       "    <tr>\n",
       "      <th>32</th>\n",
       "      <td>Su</td>\n",
       "      <td>movies</td>\n",
       "      <td>33045</td>\n",
       "    </tr>\n",
       "    <tr>\n",
       "      <th>33</th>\n",
       "      <td>Su</td>\n",
       "      <td>science</td>\n",
       "      <td>5305</td>\n",
       "    </tr>\n",
       "    <tr>\n",
       "      <th>34</th>\n",
       "      <td>Su</td>\n",
       "      <td>worldnews</td>\n",
       "      <td>49017</td>\n",
       "    </tr>\n",
       "  </tbody>\n",
       "</table>\n",
       "</div>"
      ],
      "text/plain": [
       "   Weekday subreddits  numcomments\n",
       "0        M       food         2923\n",
       "1        M     gaming        27135\n",
       "2        M     movies        33459\n",
       "3        M    science         5462\n",
       "4        M  worldnews        42760\n",
       "5       Tu       food         2922\n",
       "6       Tu     gaming        26784\n",
       "7       Tu     movies        33249\n",
       "8       Tu    science         5869\n",
       "9       Tu  worldnews        46296\n",
       "10       W       food         3768\n",
       "11       W     gaming        26192\n",
       "12       W     movies        28724\n",
       "13       W    science         4833\n",
       "14       W  worldnews        58466\n",
       "15      Th       food         5874\n",
       "16      Th     gaming        24912\n",
       "17      Th     movies        31800\n",
       "18      Th    science         5665\n",
       "19      Th  worldnews        43042\n",
       "20       F       food         3927\n",
       "21       F     gaming        31790\n",
       "22       F     movies        36627\n",
       "23       F    science         8310\n",
       "24       F  worldnews        56853\n",
       "25      Sa       food         3177\n",
       "26      Sa     gaming        28930\n",
       "27      Sa     movies        33787\n",
       "28      Sa    science         5612\n",
       "29      Sa  worldnews        46887\n",
       "30      Su       food         4313\n",
       "31      Su     gaming        27534\n",
       "32      Su     movies        33045\n",
       "33      Su    science         5305\n",
       "34      Su  worldnews        49017"
      ]
     },
     "execution_count": 180,
     "metadata": {},
     "output_type": "execute_result"
    }
   ],
   "source": [
    "dow_df"
   ]
  },
  {
   "cell_type": "code",
   "execution_count": 197,
   "metadata": {
    "scrolled": true
   },
   "outputs": [
    {
     "data": {
      "image/png": "[encoded data removed]",
      "text/plain": [
       "<Figure size 432x288 with 1 Axes>"
      ]
     },
     "metadata": {},
     "output_type": "display_data"
    }
   ],
   "source": [
    "fig, ax = plt.subplots()\n",
    "\n",
    "colors = {'food':'orange', 'gaming':'red', 'movies':'brown', 'science':'lightgreen', 'worldnews':'lightblue'}\n",
    "\n",
    "ax.bar(x=dow_df['Weekday'], height=dow_df['Num_Comments'], color=dow_df['Subreddit'].apply(lambda x: colors[x]))\n",
    "\n",
    "plt.show()"
   ]
  },
  {
   "cell_type": "markdown",
   "metadata": {},
   "source": [
    "**How does `gilded` affect `score`? "
   ]
  },
  {
   "cell_type": "code",
   "execution_count": 177,
   "metadata": {},
   "outputs": [
    {
     "data": {
      "text/plain": [
       "Text(0,0.5,'Median Score')"
      ]
     },
     "execution_count": 177,
     "metadata": {},
     "output_type": "execute_result"
    },
    {
     "data": {
      "image/png": "[encoded data removed]",
      "text/plain": [
       "<Figure size 432x288 with 1 Axes>"
      ]
     },
     "metadata": {},
     "output_type": "display_data"
    }
   ],
   "source": [
    "ax = df.groupby(['gilded'])['score'].median().plot(kind='bar', color = 'lightblue', legend=False)\n",
    "\n",
    "ax.set_ylabel(\"Median Score\")"
   ]
  },
  {
   "cell_type": "markdown",
   "metadata": {},
   "source": [
    "**Important features by score**"
   ]
  },
  {
   "cell_type": "code",
   "execution_count": 155,
   "metadata": {
    "scrolled": false
   },
   "outputs": [
    {
     "data": {
      "text/plain": [
       "<seaborn.axisgrid.PairGrid at 0x1a60e54198>"
      ]
     },
     "execution_count": 155,
     "metadata": {},
     "output_type": "execute_result"
    },
    {
     "data": {
      "image/png": "[encoded data removed]",
      "text/plain": [
       "<Figure size 900x180 with 5 Axes>"
      ]
     },
     "metadata": {},
     "output_type": "display_data"
    }
   ],
   "source": [
    "sns.pairplot(data=df,\n",
    "                  y_vars=['score'],\n",
    "                  x_vars=top_five_features)"
   ]
  },
  {
   "cell_type": "code",
   "execution_count": null,
   "metadata": {},
   "outputs": [],
   "source": [
    "df"
   ]
  },
  {
   "cell_type": "code",
   "execution_count": 217,
   "metadata": {},
   "outputs": [
    {
     "data": {
      "text/plain": [
       "<matplotlib.axes._subplots.AxesSubplot at 0x1acd34b908>"
      ]
     },
     "execution_count": 217,
     "metadata": {},
     "output_type": "execute_result"
    },
    {
     "data": {
      "image/png": "[encoded data removed]",
      "text/plain": [
       "<Figure size 432x288 with 1 Axes>"
      ]
     },
     "metadata": {},
     "output_type": "display_data"
    }
   ],
   "source": [
    "t = df \n",
    "t['time_since_comment_tree_root'] = t.time_since_comment_tree_root / 60 / 60 \n",
    "t = t[t.time_since_comment_tree_root < 40]\n",
    "sns.scatterplot(x = t.time_since_comment_tree_root, y = t.score)"
   ]
  },
  {
   "cell_type": "code",
   "execution_count": 166,
   "metadata": {},
   "outputs": [
    {
     "data": {
      "text/plain": [
       "<seaborn.axisgrid.JointGrid at 0x1a85b224e0>"
      ]
     },
     "execution_count": 166,
     "metadata": {},
     "output_type": "execute_result"
    },
    {
     "data": {
      "image/png": "[encoded data removed]",
      "text/plain": [
       "<Figure size 432x432 with 3 Axes>"
      ]
     },
     "metadata": {},
     "output_type": "display_data"
    }
   ],
   "source": [
    "sns.jointplot(x=df.gilded, y=df.score, kind='hex')"
   ]
  },
  {
   "cell_type": "markdown",
   "metadata": {},
   "source": [
    "**Number of missing data**"
   ]
  },
  {
   "cell_type": "code",
   "execution_count": 78,
   "metadata": {
    "ExecuteTime": {
     "end_time": "2018-12-06T05:57:58.823714Z",
     "start_time": "2018-12-06T05:57:56.354317Z"
    }
   },
   "outputs": [
    {
     "data": {
      "text/plain": [
       "0"
      ]
     },
     "execution_count": 78,
     "metadata": {},
     "output_type": "execute_result"
    }
   ],
   "source": [
    "df.isna().sum().sum() # Notice there are no NAs in any column"
   ]
  },
  {
   "cell_type": "markdown",
   "metadata": {},
   "source": [
    "### Max stop here"
   ]
  },
  {
   "cell_type": "code",
   "execution_count": 135,
   "metadata": {
    "ExecuteTime": {
     "end_time": "2018-12-06T06:40:22.759786Z",
     "start_time": "2018-12-06T06:40:22.752936Z"
    }
   },
   "outputs": [],
   "source": [
    "cat_cols = ['subreddit', 'distinguished', 'is_flair', 'is_flair_css']\n",
    "bool_cols = ['over_18', 'is_edited', 'is_quoted', 'is_root', 'is_selftext',\n",
    "             'title_url_in_top']\n",
    "\n",
    "# multi_label = a_linked_sr, a_linked_urls\n",
    "# 'num_comments', 'link_score',  'link_ups', \n",
    "\n",
    "numeric_cols = ['gilded', 'controversiality', 'upvote_ratio','time_since_link',\n",
    "                'depth', 'no_of_linked_sr', 'no_of_linked_urls', 'parent_score',\n",
    "                'comment_tree_root_score', 'time_since_comment_tree_root',\n",
    "                'subjectivity', 'senti_neg', 'senti_pos', 'senti_neu',\n",
    "                'senti_comp', 'no_quoted', 'time_since_parent', 'word_counts',\n",
    "                'no_of_past_comments', 'parent_cosine',\n",
    "                'parent_euc', 'title_cosine', 'title_euc', 'no_of_quoted_users',\n",
    "                'hour_of_comment', 'weekday']\n",
    "\n",
    "features = numeric_cols + bool_cols + cat_cols"
   ]
  },
  {
   "cell_type": "code",
   "execution_count": 114,
   "metadata": {
    "ExecuteTime": {
     "end_time": "2018-12-06T06:33:43.883427Z",
     "start_time": "2018-12-06T06:33:37.294282Z"
    }
   },
   "outputs": [],
   "source": [
    "df = pd.read_pickle('Data/Finale.pkl')\n",
    "# df.to_pickle('Data/Finale.pkl')"
   ]
  },
  {
   "cell_type": "code",
   "execution_count": 91,
   "metadata": {
    "ExecuteTime": {
     "end_time": "2018-12-06T06:21:35.437319Z",
     "start_time": "2018-12-06T06:21:34.164697Z"
    }
   },
   "outputs": [],
   "source": [
    "del gloves"
   ]
  },
  {
   "cell_type": "code",
   "execution_count": 108,
   "metadata": {
    "ExecuteTime": {
     "end_time": "2018-12-06T06:21:40.831988Z",
     "start_time": "2018-12-06T06:21:40.828994Z"
    }
   },
   "outputs": [],
   "source": [
    "from scipy.sparse import hstack"
   ]
  },
  {
   "cell_type": "code",
   "execution_count": 109,
   "metadata": {
    "ExecuteTime": {
     "end_time": "2018-12-06T06:21:43.447645Z",
     "start_time": "2018-12-06T06:21:43.441676Z"
    }
   },
   "outputs": [],
   "source": [
    "lb = LabelBinarizer()"
   ]
  },
  {
   "cell_type": "code",
   "execution_count": 110,
   "metadata": {
    "ExecuteTime": {
     "end_time": "2018-12-06T06:40:00.075388Z",
     "start_time": "2018-12-06T06:39:46.398530Z"
    }
   },
   "outputs": [],
   "source": [
    "cat = [lb.fit_transform(df[col]) for col in cat_cols]\n",
    "bol = [df[col].astype('int') for col in bool_cols]\n",
    "t = df.loc[:, numeric_cols].values\n",
    "final = [t] + bol + cat"
   ]
  },
  {
   "cell_type": "code",
   "execution_count": 111,
   "metadata": {
    "ExecuteTime": {
     "end_time": "2018-12-06T06:40:28.046062Z",
     "start_time": "2018-12-06T06:40:27.195907Z"
    }
   },
   "outputs": [],
   "source": [
    "y = df.score.values\n",
    "x = np.column_stack(tuple(final))"
   ]
  },
  {
   "cell_type": "code",
   "execution_count": 112,
   "metadata": {
    "ExecuteTime": {
     "end_time": "2018-12-06T06:40:32.512737Z",
     "start_time": "2018-12-06T06:40:32.508058Z"
    }
   },
   "outputs": [
    {
     "data": {
      "text/plain": [
       "(1176815, 60)"
      ]
     },
     "execution_count": 112,
     "metadata": {},
     "output_type": "execute_result"
    }
   ],
   "source": [
    "df.shape"
   ]
  },
  {
   "cell_type": "code",
   "execution_count": 113,
   "metadata": {
    "ExecuteTime": {
     "end_time": "2018-12-06T06:40:44.334830Z",
     "start_time": "2018-12-06T06:40:44.322343Z"
    }
   },
   "outputs": [
    {
     "data": {
      "text/plain": [
       "(1176815, 42)"
      ]
     },
     "execution_count": 113,
     "metadata": {},
     "output_type": "execute_result"
    }
   ],
   "source": [
    "x.shape"
   ]
  },
  {
   "cell_type": "code",
   "execution_count": 114,
   "metadata": {
    "ExecuteTime": {
     "end_time": "2018-12-06T06:40:45.760968Z",
     "start_time": "2018-12-06T06:40:45.012452Z"
    }
   },
   "outputs": [
    {
     "data": {
      "text/plain": [
       "1257"
      ]
     },
     "execution_count": 114,
     "metadata": {},
     "output_type": "execute_result"
    }
   ],
   "source": [
    "gc.collect()"
   ]
  },
  {
   "cell_type": "code",
   "execution_count": 115,
   "metadata": {
    "ExecuteTime": {
     "end_time": "2018-12-06T06:40:41.316238Z",
     "start_time": "2018-12-06T06:40:37.461455Z"
    }
   },
   "outputs": [],
   "source": [
    "X_train, X_test, y_train, y_test = train_test_split(x, y, test_size=0.2,\n",
    "                                                    random_state=42)"
   ]
  },
  {
   "cell_type": "code",
   "execution_count": 116,
   "metadata": {
    "ExecuteTime": {
     "end_time": "2018-12-06T06:24:28.691032Z",
     "start_time": "2018-12-06T06:24:28.553778Z"
    }
   },
   "outputs": [],
   "source": [
    "del x, y"
   ]
  },
  {
   "cell_type": "code",
   "execution_count": 117,
   "metadata": {
    "ExecuteTime": {
     "end_time": "2018-12-06T06:40:48.130000Z",
     "start_time": "2018-12-06T06:40:48.123754Z"
    }
   },
   "outputs": [],
   "source": [
    "from sklearn.ensemble import RandomForestRegressor"
   ]
  },
  {
   "cell_type": "code",
   "execution_count": 118,
   "metadata": {
    "ExecuteTime": {
     "end_time": "2018-12-06T06:46:00.551893Z",
     "start_time": "2018-12-06T06:40:48.628668Z"
    }
   },
   "outputs": [
    {
     "ename": "KeyboardInterrupt",
     "evalue": "",
     "output_type": "error",
     "traceback": [
      "\u001b[0;31m---------------------------------------------------------------------------\u001b[0m",
      "\u001b[0;31mKeyboardInterrupt\u001b[0m                         Traceback (most recent call last)",
      "\u001b[0;32m<ipython-input-118-7ab3d3bf83cd>\u001b[0m in \u001b[0;36m<module>\u001b[0;34m()\u001b[0m\n\u001b[1;32m      1\u001b[0m \u001b[0mm\u001b[0m \u001b[0;34m=\u001b[0m \u001b[0mRandomForestRegressor\u001b[0m\u001b[0;34m(\u001b[0m\u001b[0mn_jobs\u001b[0m\u001b[0;34m=\u001b[0m\u001b[0;34m-\u001b[0m\u001b[0;36m1\u001b[0m\u001b[0;34m,\u001b[0m \u001b[0mn_estimators\u001b[0m\u001b[0;34m=\u001b[0m\u001b[0;36m40\u001b[0m\u001b[0;34m,\u001b[0m \u001b[0mmin_samples_leaf\u001b[0m\u001b[0;34m=\u001b[0m\u001b[0;36m10\u001b[0m\u001b[0;34m)\u001b[0m\u001b[0;34m\u001b[0m\u001b[0m\n\u001b[0;32m----> 2\u001b[0;31m \u001b[0mm\u001b[0m\u001b[0;34m.\u001b[0m\u001b[0mfit\u001b[0m\u001b[0;34m(\u001b[0m\u001b[0mX_train\u001b[0m\u001b[0;34m,\u001b[0m \u001b[0my_train\u001b[0m\u001b[0;34m)\u001b[0m\u001b[0;34m\u001b[0m\u001b[0m\n\u001b[0m",
      "\u001b[0;32m/Applications/anaconda3/lib/python3.6/site-packages/sklearn/ensemble/forest.py\u001b[0m in \u001b[0;36mfit\u001b[0;34m(self, X, y, sample_weight)\u001b[0m\n\u001b[1;32m    326\u001b[0m                     \u001b[0mt\u001b[0m\u001b[0;34m,\u001b[0m \u001b[0mself\u001b[0m\u001b[0;34m,\u001b[0m \u001b[0mX\u001b[0m\u001b[0;34m,\u001b[0m \u001b[0my\u001b[0m\u001b[0;34m,\u001b[0m \u001b[0msample_weight\u001b[0m\u001b[0;34m,\u001b[0m \u001b[0mi\u001b[0m\u001b[0;34m,\u001b[0m \u001b[0mlen\u001b[0m\u001b[0;34m(\u001b[0m\u001b[0mtrees\u001b[0m\u001b[0;34m)\u001b[0m\u001b[0;34m,\u001b[0m\u001b[0;34m\u001b[0m\u001b[0m\n\u001b[1;32m    327\u001b[0m                     verbose=self.verbose, class_weight=self.class_weight)\n\u001b[0;32m--> 328\u001b[0;31m                 for i, t in enumerate(trees))\n\u001b[0m\u001b[1;32m    329\u001b[0m \u001b[0;34m\u001b[0m\u001b[0m\n\u001b[1;32m    330\u001b[0m             \u001b[0;31m# Collect newly grown trees\u001b[0m\u001b[0;34m\u001b[0m\u001b[0;34m\u001b[0m\u001b[0m\n",
      "\u001b[0;32m/Applications/anaconda3/lib/python3.6/site-packages/sklearn/externals/joblib/parallel.py\u001b[0m in \u001b[0;36m__call__\u001b[0;34m(self, iterable)\u001b[0m\n\u001b[1;32m    787\u001b[0m                 \u001b[0;31m# consumption.\u001b[0m\u001b[0;34m\u001b[0m\u001b[0;34m\u001b[0m\u001b[0m\n\u001b[1;32m    788\u001b[0m                 \u001b[0mself\u001b[0m\u001b[0;34m.\u001b[0m\u001b[0m_iterating\u001b[0m \u001b[0;34m=\u001b[0m \u001b[0;32mFalse\u001b[0m\u001b[0;34m\u001b[0m\u001b[0m\n\u001b[0;32m--> 789\u001b[0;31m             \u001b[0mself\u001b[0m\u001b[0;34m.\u001b[0m\u001b[0mretrieve\u001b[0m\u001b[0;34m(\u001b[0m\u001b[0;34m)\u001b[0m\u001b[0;34m\u001b[0m\u001b[0m\n\u001b[0m\u001b[1;32m    790\u001b[0m             \u001b[0;31m# Make sure that we get a last message telling us we are done\u001b[0m\u001b[0;34m\u001b[0m\u001b[0;34m\u001b[0m\u001b[0m\n\u001b[1;32m    791\u001b[0m             \u001b[0melapsed_time\u001b[0m \u001b[0;34m=\u001b[0m \u001b[0mtime\u001b[0m\u001b[0;34m.\u001b[0m\u001b[0mtime\u001b[0m\u001b[0;34m(\u001b[0m\u001b[0;34m)\u001b[0m \u001b[0;34m-\u001b[0m \u001b[0mself\u001b[0m\u001b[0;34m.\u001b[0m\u001b[0m_start_time\u001b[0m\u001b[0;34m\u001b[0m\u001b[0m\n",
      "\u001b[0;32m/Applications/anaconda3/lib/python3.6/site-packages/sklearn/externals/joblib/parallel.py\u001b[0m in \u001b[0;36mretrieve\u001b[0;34m(self)\u001b[0m\n\u001b[1;32m    697\u001b[0m             \u001b[0;32mtry\u001b[0m\u001b[0;34m:\u001b[0m\u001b[0;34m\u001b[0m\u001b[0m\n\u001b[1;32m    698\u001b[0m                 \u001b[0;32mif\u001b[0m \u001b[0mgetattr\u001b[0m\u001b[0;34m(\u001b[0m\u001b[0mself\u001b[0m\u001b[0;34m.\u001b[0m\u001b[0m_backend\u001b[0m\u001b[0;34m,\u001b[0m \u001b[0;34m'supports_timeout'\u001b[0m\u001b[0;34m,\u001b[0m \u001b[0;32mFalse\u001b[0m\u001b[0;34m)\u001b[0m\u001b[0;34m:\u001b[0m\u001b[0;34m\u001b[0m\u001b[0m\n\u001b[0;32m--> 699\u001b[0;31m                     \u001b[0mself\u001b[0m\u001b[0;34m.\u001b[0m\u001b[0m_output\u001b[0m\u001b[0;34m.\u001b[0m\u001b[0mextend\u001b[0m\u001b[0;34m(\u001b[0m\u001b[0mjob\u001b[0m\u001b[0;34m.\u001b[0m\u001b[0mget\u001b[0m\u001b[0;34m(\u001b[0m\u001b[0mtimeout\u001b[0m\u001b[0;34m=\u001b[0m\u001b[0mself\u001b[0m\u001b[0;34m.\u001b[0m\u001b[0mtimeout\u001b[0m\u001b[0;34m)\u001b[0m\u001b[0;34m)\u001b[0m\u001b[0;34m\u001b[0m\u001b[0m\n\u001b[0m\u001b[1;32m    700\u001b[0m                 \u001b[0;32melse\u001b[0m\u001b[0;34m:\u001b[0m\u001b[0;34m\u001b[0m\u001b[0m\n\u001b[1;32m    701\u001b[0m                     \u001b[0mself\u001b[0m\u001b[0;34m.\u001b[0m\u001b[0m_output\u001b[0m\u001b[0;34m.\u001b[0m\u001b[0mextend\u001b[0m\u001b[0;34m(\u001b[0m\u001b[0mjob\u001b[0m\u001b[0;34m.\u001b[0m\u001b[0mget\u001b[0m\u001b[0;34m(\u001b[0m\u001b[0;34m)\u001b[0m\u001b[0;34m)\u001b[0m\u001b[0;34m\u001b[0m\u001b[0m\n",
      "\u001b[0;32m/Applications/anaconda3/lib/python3.6/multiprocessing/pool.py\u001b[0m in \u001b[0;36mget\u001b[0;34m(self, timeout)\u001b[0m\n\u001b[1;32m    636\u001b[0m \u001b[0;34m\u001b[0m\u001b[0m\n\u001b[1;32m    637\u001b[0m     \u001b[0;32mdef\u001b[0m \u001b[0mget\u001b[0m\u001b[0;34m(\u001b[0m\u001b[0mself\u001b[0m\u001b[0;34m,\u001b[0m \u001b[0mtimeout\u001b[0m\u001b[0;34m=\u001b[0m\u001b[0;32mNone\u001b[0m\u001b[0;34m)\u001b[0m\u001b[0;34m:\u001b[0m\u001b[0;34m\u001b[0m\u001b[0m\n\u001b[0;32m--> 638\u001b[0;31m         \u001b[0mself\u001b[0m\u001b[0;34m.\u001b[0m\u001b[0mwait\u001b[0m\u001b[0;34m(\u001b[0m\u001b[0mtimeout\u001b[0m\u001b[0;34m)\u001b[0m\u001b[0;34m\u001b[0m\u001b[0m\n\u001b[0m\u001b[1;32m    639\u001b[0m         \u001b[0;32mif\u001b[0m \u001b[0;32mnot\u001b[0m \u001b[0mself\u001b[0m\u001b[0;34m.\u001b[0m\u001b[0mready\u001b[0m\u001b[0;34m(\u001b[0m\u001b[0;34m)\u001b[0m\u001b[0;34m:\u001b[0m\u001b[0;34m\u001b[0m\u001b[0m\n\u001b[1;32m    640\u001b[0m             \u001b[0;32mraise\u001b[0m \u001b[0mTimeoutError\u001b[0m\u001b[0;34m\u001b[0m\u001b[0m\n",
      "\u001b[0;32m/Applications/anaconda3/lib/python3.6/multiprocessing/pool.py\u001b[0m in \u001b[0;36mwait\u001b[0;34m(self, timeout)\u001b[0m\n\u001b[1;32m    633\u001b[0m \u001b[0;34m\u001b[0m\u001b[0m\n\u001b[1;32m    634\u001b[0m     \u001b[0;32mdef\u001b[0m \u001b[0mwait\u001b[0m\u001b[0;34m(\u001b[0m\u001b[0mself\u001b[0m\u001b[0;34m,\u001b[0m \u001b[0mtimeout\u001b[0m\u001b[0;34m=\u001b[0m\u001b[0;32mNone\u001b[0m\u001b[0;34m)\u001b[0m\u001b[0;34m:\u001b[0m\u001b[0;34m\u001b[0m\u001b[0m\n\u001b[0;32m--> 635\u001b[0;31m         \u001b[0mself\u001b[0m\u001b[0;34m.\u001b[0m\u001b[0m_event\u001b[0m\u001b[0;34m.\u001b[0m\u001b[0mwait\u001b[0m\u001b[0;34m(\u001b[0m\u001b[0mtimeout\u001b[0m\u001b[0;34m)\u001b[0m\u001b[0;34m\u001b[0m\u001b[0m\n\u001b[0m\u001b[1;32m    636\u001b[0m \u001b[0;34m\u001b[0m\u001b[0m\n\u001b[1;32m    637\u001b[0m     \u001b[0;32mdef\u001b[0m \u001b[0mget\u001b[0m\u001b[0;34m(\u001b[0m\u001b[0mself\u001b[0m\u001b[0;34m,\u001b[0m \u001b[0mtimeout\u001b[0m\u001b[0;34m=\u001b[0m\u001b[0;32mNone\u001b[0m\u001b[0;34m)\u001b[0m\u001b[0;34m:\u001b[0m\u001b[0;34m\u001b[0m\u001b[0m\n",
      "\u001b[0;32m/Applications/anaconda3/lib/python3.6/threading.py\u001b[0m in \u001b[0;36mwait\u001b[0;34m(self, timeout)\u001b[0m\n\u001b[1;32m    549\u001b[0m             \u001b[0msignaled\u001b[0m \u001b[0;34m=\u001b[0m \u001b[0mself\u001b[0m\u001b[0;34m.\u001b[0m\u001b[0m_flag\u001b[0m\u001b[0;34m\u001b[0m\u001b[0m\n\u001b[1;32m    550\u001b[0m             \u001b[0;32mif\u001b[0m \u001b[0;32mnot\u001b[0m \u001b[0msignaled\u001b[0m\u001b[0;34m:\u001b[0m\u001b[0;34m\u001b[0m\u001b[0m\n\u001b[0;32m--> 551\u001b[0;31m                 \u001b[0msignaled\u001b[0m \u001b[0;34m=\u001b[0m \u001b[0mself\u001b[0m\u001b[0;34m.\u001b[0m\u001b[0m_cond\u001b[0m\u001b[0;34m.\u001b[0m\u001b[0mwait\u001b[0m\u001b[0;34m(\u001b[0m\u001b[0mtimeout\u001b[0m\u001b[0;34m)\u001b[0m\u001b[0;34m\u001b[0m\u001b[0m\n\u001b[0m\u001b[1;32m    552\u001b[0m             \u001b[0;32mreturn\u001b[0m \u001b[0msignaled\u001b[0m\u001b[0;34m\u001b[0m\u001b[0m\n\u001b[1;32m    553\u001b[0m \u001b[0;34m\u001b[0m\u001b[0m\n",
      "\u001b[0;32m/Applications/anaconda3/lib/python3.6/threading.py\u001b[0m in \u001b[0;36mwait\u001b[0;34m(self, timeout)\u001b[0m\n\u001b[1;32m    293\u001b[0m         \u001b[0;32mtry\u001b[0m\u001b[0;34m:\u001b[0m    \u001b[0;31m# restore state no matter what (e.g., KeyboardInterrupt)\u001b[0m\u001b[0;34m\u001b[0m\u001b[0m\n\u001b[1;32m    294\u001b[0m             \u001b[0;32mif\u001b[0m \u001b[0mtimeout\u001b[0m \u001b[0;32mis\u001b[0m \u001b[0;32mNone\u001b[0m\u001b[0;34m:\u001b[0m\u001b[0;34m\u001b[0m\u001b[0m\n\u001b[0;32m--> 295\u001b[0;31m                 \u001b[0mwaiter\u001b[0m\u001b[0;34m.\u001b[0m\u001b[0macquire\u001b[0m\u001b[0;34m(\u001b[0m\u001b[0;34m)\u001b[0m\u001b[0;34m\u001b[0m\u001b[0m\n\u001b[0m\u001b[1;32m    296\u001b[0m                 \u001b[0mgotit\u001b[0m \u001b[0;34m=\u001b[0m \u001b[0;32mTrue\u001b[0m\u001b[0;34m\u001b[0m\u001b[0m\n\u001b[1;32m    297\u001b[0m             \u001b[0;32melse\u001b[0m\u001b[0;34m:\u001b[0m\u001b[0;34m\u001b[0m\u001b[0m\n",
      "\u001b[0;31mKeyboardInterrupt\u001b[0m: "
     ]
    }
   ],
   "source": [
    "m = RandomForestRegressor(n_jobs=-1, n_estimators=40, min_samples_leaf=10)\n",
    "m.fit(X_train, y_train)"
   ]
  },
  {
   "cell_type": "code",
   "execution_count": 144,
   "metadata": {
    "ExecuteTime": {
     "end_time": "2018-12-06T06:46:02.113652Z",
     "start_time": "2018-12-06T06:46:00.554184Z"
    }
   },
   "outputs": [
    {
     "name": "stdout",
     "output_type": "stream",
     "text": [
      "R-Sq: 0.7619\n",
      "RMSE: 35.57700592639819\n"
     ]
    }
   ],
   "source": [
    "y_predicted = m.predict(X_test)\n",
    "r2 = r2_score(y_test, y_predicted)\n",
    "mse = mean_squared_error(y_test, y_predicted)\n",
    "print(f\"R-Sq: {r2:.4}\")\n",
    "print(f\"RMSE: {np.sqrt(mse)}\")"
   ]
  },
  {
   "cell_type": "code",
   "execution_count": 145,
   "metadata": {
    "ExecuteTime": {
     "end_time": "2018-12-06T06:46:03.843782Z",
     "start_time": "2018-12-06T06:46:02.118217Z"
    }
   },
   "outputs": [
    {
     "data": {
      "image/png": "[encoded data removed]",
      "text/plain": [
       "<Figure size 432x288 with 1 Axes>"
      ]
     },
     "metadata": {},
     "output_type": "display_data"
    }
   ],
   "source": [
    "plt.hist(abs(y_test - y_predicted), bins=400, range=[0, 500], log=True);"
   ]
  },
  {
   "cell_type": "code",
   "execution_count": 146,
   "metadata": {
    "ExecuteTime": {
     "end_time": "2018-12-06T06:46:03.965323Z",
     "start_time": "2018-12-06T06:46:03.847124Z"
    }
   },
   "outputs": [
    {
     "data": {
      "text/plain": [
       "[('comment_tree_root_score', 0.5737095567480381),\n",
       " ('time_since_comment_tree_root', 0.09953385611428422),\n",
       " ('depth', 0.05836990576537382),\n",
       " ('parent_score', 0.052781666368458637),\n",
       " ('time_since_parent', 0.050227349946586966),\n",
       " ('gilded', 0.0411655859333329),\n",
       " ('no_of_past_comments', 0.03032235213054648),\n",
       " ('is_root', 0.019519065240750956),\n",
       " ('time_since_link', 0.00909532849305108),\n",
       " ('title_euc', 0.00666592002516817),\n",
       " ('controversiality', 0.006169863268698647),\n",
       " ('parent_cosine', 0.005873779669444114),\n",
       " ('parent_euc', 0.005653879765141191),\n",
       " ('word_counts', 0.005428720442875631),\n",
       " ('title_cosine', 0.005350348416618924),\n",
       " ('hour_of_comment', 0.004920413818315175),\n",
       " ('senti_neu', 0.00429614331207919),\n",
       " ('senti_comp', 0.004198729967855686),\n",
       " ('upvote_ratio', 0.003514887323901297),\n",
       " ('senti_pos', 0.0030441919801276218),\n",
       " ('senti_neg', 0.0029492414915632766),\n",
       " ('weekday', 0.0023102390267444187),\n",
       " ('distinguished', 0.0009329030911415486),\n",
       " ('is_selftext', 0.0008928627411682657),\n",
       " ('is_flair', 0.0005645338806049047),\n",
       " ('subjectivity', 0.0005242249965307914),\n",
       " ('no_of_linked_urls', 0.0005087630279226723),\n",
       " ('is_edited', 0.0003916318973527581),\n",
       " ('title_url_in_top', 0.0003262521938032381),\n",
       " ('no_quoted', 9.659005995932254e-05),\n",
       " ('over_18', 6.890056148026854e-05),\n",
       " ('is_flair_css', 3.2762158353986095e-05),\n",
       " ('is_quoted', 3.019621465682873e-05),\n",
       " ('no_of_linked_sr', 1.0710450318339825e-05),\n",
       " ('subreddit', 3.0760972694966745e-06),\n",
       " ('no_of_quoted_users', 5.526629995125157e-07)]"
      ]
     },
     "execution_count": 146,
     "metadata": {},
     "output_type": "execute_result"
    }
   ],
   "source": [
    "# feature importance\n",
    "[(x,_) for _,x in sorted(zip(m.feature_importances_, features), reverse=True)]"
   ]
  },
  {
   "cell_type": "markdown",
   "metadata": {},
   "source": [
    "----------------------------"
   ]
  },
  {
   "cell_type": "code",
   "execution_count": 147,
   "metadata": {
    "ExecuteTime": {
     "end_time": "2018-12-06T06:47:25.857513Z",
     "start_time": "2018-12-06T06:47:25.849410Z"
    }
   },
   "outputs": [],
   "source": [
    "from sklearn.ensemble import GradientBoostingRegressor"
   ]
  },
  {
   "cell_type": "code",
   "execution_count": null,
   "metadata": {
    "ExecuteTime": {
     "start_time": "2018-12-06T07:01:35.247Z"
    }
   },
   "outputs": [],
   "source": [
    "m = GradientBoostingRegressor(n_estimators=60, max_depth=15)\n",
    "m.fit(X_train, y_train)"
   ]
  },
  {
   "cell_type": "code",
   "execution_count": null,
   "metadata": {
    "ExecuteTime": {
     "start_time": "2018-12-06T07:01:35.869Z"
    }
   },
   "outputs": [],
   "source": [
    "y_predicted = m.predict(X_test)\n",
    "r2 = r2_score(y_test, y_predicted)\n",
    "mse = mean_squared_error(y_test, y_predicted)\n",
    "print(f\"R-Sq: {r2:.4}\")\n",
    "print(f\"RMSE: {np.sqrt(mse)}\")"
   ]
  },
  {
   "cell_type": "code",
   "execution_count": null,
   "metadata": {
    "ExecuteTime": {
     "start_time": "2018-12-06T07:01:36.599Z"
    }
   },
   "outputs": [],
   "source": [
    "plt.hist(abs(y_test - y_predicted), bins=400, range=[0, 500], log=True);"
   ]
  },
  {
   "cell_type": "markdown",
   "metadata": {},
   "source": [
    "---------------"
   ]
  },
  {
   "cell_type": "code",
   "execution_count": 153,
   "metadata": {
    "ExecuteTime": {
     "end_time": "2018-12-06T06:57:14.394998Z",
     "start_time": "2018-12-06T06:57:14.360976Z"
    }
   },
   "outputs": [],
   "source": [
    "import xgboost"
   ]
  },
  {
   "cell_type": "code",
   "execution_count": null,
   "metadata": {
    "ExecuteTime": {
     "start_time": "2018-12-06T07:01:44.347Z"
    }
   },
   "outputs": [],
   "source": [
    "xgb = xgboost.XGBRegressor(n_estimators=80, max_depth=15)"
   ]
  },
  {
   "cell_type": "code",
   "execution_count": null,
   "metadata": {
    "ExecuteTime": {
     "start_time": "2018-12-06T07:01:44.788Z"
    }
   },
   "outputs": [],
   "source": [
    "xgb.fit(X_train, y_train)"
   ]
  },
  {
   "cell_type": "code",
   "execution_count": null,
   "metadata": {
    "ExecuteTime": {
     "start_time": "2018-12-06T07:01:45.428Z"
    }
   },
   "outputs": [],
   "source": [
    "y_predicted = xgb.predict(X_test)\n",
    "r2 = r2_score(y_test, y_predicted)\n",
    "mse = mean_squared_error(y_test, y_predicted)\n",
    "print(f\"R-Sq: {r2:.4}\")\n",
    "print(f\"RMSE: {np.sqrt(mse)}\")"
   ]
  },
  {
   "cell_type": "code",
   "execution_count": null,
   "metadata": {},
   "outputs": [],
   "source": []
  }
 ],
 "metadata": {
  "kernelspec": {
   "display_name": "Python 3",
   "language": "python",
   "name": "python3"
  },
  "language_info": {
   "codemirror_mode": {
    "name": "ipython",
    "version": 3
   },
   "file_extension": ".py",
   "mimetype": "text/x-python",
   "name": "python",
   "nbconvert_exporter": "python",
   "pygments_lexer": "ipython3",
   "version": "3.6.6"
  }
 },
 "nbformat": 4,
 "nbformat_minor": 2
}
