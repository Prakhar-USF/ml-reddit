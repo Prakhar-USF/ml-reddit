{
 "cells": [
  {
   "cell_type": "markdown",
   "metadata": {},
   "source": [
    "#  Data Processing"
   ]
  },
  {
   "cell_type": "markdown",
   "metadata": {},
   "source": [
    "- The resulting dataset that we should use for modeling going forward is `Data/working_dataset_v1.pkl`\n",
    "- only missing values are in doc2vec and cos_angle (3.23%, missing vals in doc2vec is a subset of cos_angle)\n",
    "- 29% of values of `parent_score` were missing. These values were imputed with the median of 4. Since this feature is very important, we should consider other imputations, but not using the score column since this is our target variable"
   ]
  },
  {
   "cell_type": "code",
   "execution_count": 1,
   "metadata": {},
   "outputs": [
    {
     "data": {
      "text/plain": [
       "'1.637981514513919 GB'"
      ]
     },
     "execution_count": 1,
     "metadata": {},
     "output_type": "execute_result"
    }
   ],
   "source": [
    "import pandas as pd\n",
    "processed_data = pd.read_pickle('Data/working_dataset_v1.pkl')\n",
    "f\"{processed_data.memory_usage(deep=True).sum() / 1023.0**3} GB\""
   ]
  },
  {
   "cell_type": "markdown",
   "metadata": {},
   "source": [
    "### Load Libraries"
   ]
  },
  {
   "cell_type": "code",
   "execution_count": 1,
   "metadata": {},
   "outputs": [],
   "source": [
    "import re\n",
    "import string\n",
    "\n",
    "import pandas as pd\n",
    "import numpy as np\n",
    "import matplotlib.pyplot as plt\n",
    "import feather\n",
    "\n",
    "from pathlib import Path\n",
    "from collections import Counter\n",
    "from multiprocessing import Pool\n",
    "from urllib.parse import urlparse\n",
    "\n",
    "from sklearn.metrics import mean_squared_error, r2_score\n",
    "from sklearn.model_selection import train_test_split\n",
    "from sklearn.preprocessing import LabelBinarizer, MultiLabelBinarizer\n",
    "from sklearn.feature_extraction.text import TfidfVectorizer\n",
    "from sklearn.feature_extraction.stop_words import ENGLISH_STOP_WORDS\n",
    "from sklearn.linear_model import LinearRegression\n",
    "\n",
    "%matplotlib inline"
   ]
  },
  {
   "cell_type": "markdown",
   "metadata": {},
   "source": [
    "### Read in Original Data"
   ]
  },
  {
   "cell_type": "code",
   "execution_count": 2,
   "metadata": {},
   "outputs": [],
   "source": [
    "path = Path('./Data/May2015_subset.fthr')\n",
    "df = feather.read_dataframe(path)\n",
    "# df = pd.read_feather('Data/May2015_subset.fthr')"
   ]
  },
  {
   "cell_type": "markdown",
   "metadata": {},
   "source": [
    "## Preliminary EDA"
   ]
  },
  {
   "cell_type": "markdown",
   "metadata": {},
   "source": [
    "### Size and features"
   ]
  },
  {
   "cell_type": "code",
   "execution_count": 3,
   "metadata": {},
   "outputs": [
    {
     "data": {
      "text/plain": [
       "'5.128976683577038 GB'"
      ]
     },
     "execution_count": 3,
     "metadata": {},
     "output_type": "execute_result"
    }
   ],
   "source": [
    "f\"{df.memory_usage(deep=True).sum() / 1023.0**3} GB\""
   ]
  },
  {
   "cell_type": "markdown",
   "metadata": {},
   "source": [
    "- `created_utc` - the time (in seconds) when the comment was posted \n",
    "- `ups` - number of upvotes on the comment\n",
    "- `subreddit_id` - id of the specific subreddit\n",
    "- `link_id` - id of the particular comment thread\n",
    "- `name` - name of the comment\n",
    "- `score_hidden` - 1 if the score of the comment was hidden; 0 else\n",
    "- `author_flair_css_class` - \n",
    "- `author_flair_text` - \n",
    "- `id` - id of the comment (basically the same as comment name)\n",
    "- `removal_reason` - reason a comment was removed (either `legal` or `None`)\n",
    "- `gilded` - the number of gilded tags (~ premium likes) on the comment \n",
    "- `downs` - number of downvotes on the comment\n",
    "- `archived` - if the thread was archived (no new comments, no new likes) \n",
    "- `author` - author's reddit username\n",
    "- `score` - `ups - downs`\n",
    "- `retrieved_on` - The time (in seconds) when the comment was pulled to create the dataset. \n",
    "- `body` - the comment itself\n",
    "- `distinguished` - the type of user on the page. Either `moderator`, `admin`, or `None`. \n",
    "- `edited` - whether (1) or not (0) the comment has been edited\n",
    "- `controversiality` - a Boolean indicating whether (1) or not (0) a comment is controversial -- i.e., popular comments that are getting closely the same amount of upvotes as downvotes. \n",
    "- `parent_id` - the id of the comment that this comment was replying to. `None` if the comment is not a reply"
   ]
  },
  {
   "cell_type": "code",
   "execution_count": 4,
   "metadata": {},
   "outputs": [
    {
     "data": {
      "text/html": [
       "<div>\n",
       "<style scoped>\n",
       "    .dataframe tbody tr th:only-of-type {\n",
       "        vertical-align: middle;\n",
       "    }\n",
       "\n",
       "    .dataframe tbody tr th {\n",
       "        vertical-align: top;\n",
       "    }\n",
       "\n",
       "    .dataframe thead th {\n",
       "        text-align: right;\n",
       "    }\n",
       "</style>\n",
       "<table border=\"1\" class=\"dataframe\">\n",
       "  <thead>\n",
       "    <tr style=\"text-align: right;\">\n",
       "      <th></th>\n",
       "      <th>0</th>\n",
       "      <th>1</th>\n",
       "      <th>2</th>\n",
       "    </tr>\n",
       "  </thead>\n",
       "  <tbody>\n",
       "    <tr>\n",
       "      <th>created_utc</th>\n",
       "      <td>1430438402</td>\n",
       "      <td>1430438411</td>\n",
       "      <td>1430438412</td>\n",
       "    </tr>\n",
       "    <tr>\n",
       "      <th>ups</th>\n",
       "      <td>1</td>\n",
       "      <td>12</td>\n",
       "      <td>1</td>\n",
       "    </tr>\n",
       "    <tr>\n",
       "      <th>subreddit_id</th>\n",
       "      <td>t5_2qh22</td>\n",
       "      <td>t5_2qh22</td>\n",
       "      <td>t5_2qh22</td>\n",
       "    </tr>\n",
       "    <tr>\n",
       "      <th>link_id</th>\n",
       "      <td>t3_34gb0n</td>\n",
       "      <td>t3_34gfze</td>\n",
       "      <td>t3_34b6gv</td>\n",
       "    </tr>\n",
       "    <tr>\n",
       "      <th>name</th>\n",
       "      <td>t1_cqug92d</td>\n",
       "      <td>t1_cqug99n</td>\n",
       "      <td>t1_cqug9aa</td>\n",
       "    </tr>\n",
       "    <tr>\n",
       "      <th>score_hidden</th>\n",
       "      <td>0</td>\n",
       "      <td>0</td>\n",
       "      <td>0</td>\n",
       "    </tr>\n",
       "    <tr>\n",
       "      <th>author_flair_css_class</th>\n",
       "      <td>None</td>\n",
       "      <td>MAL</td>\n",
       "      <td>MAL</td>\n",
       "    </tr>\n",
       "    <tr>\n",
       "      <th>author_flair_text</th>\n",
       "      <td>None</td>\n",
       "      <td>http://myanimelist.net/animelist/Link_of_Hyrule</td>\n",
       "      <td>http://myanimelist.net/profile/TenWoTsuke</td>\n",
       "    </tr>\n",
       "    <tr>\n",
       "      <th>subreddit</th>\n",
       "      <td>anime</td>\n",
       "      <td>anime</td>\n",
       "      <td>anime</td>\n",
       "    </tr>\n",
       "    <tr>\n",
       "      <th>id</th>\n",
       "      <td>cqug92d</td>\n",
       "      <td>cqug99n</td>\n",
       "      <td>cqug9aa</td>\n",
       "    </tr>\n",
       "    <tr>\n",
       "      <th>removal_reason</th>\n",
       "      <td>None</td>\n",
       "      <td>None</td>\n",
       "      <td>None</td>\n",
       "    </tr>\n",
       "    <tr>\n",
       "      <th>gilded</th>\n",
       "      <td>0</td>\n",
       "      <td>0</td>\n",
       "      <td>0</td>\n",
       "    </tr>\n",
       "    <tr>\n",
       "      <th>downs</th>\n",
       "      <td>0</td>\n",
       "      <td>0</td>\n",
       "      <td>0</td>\n",
       "    </tr>\n",
       "    <tr>\n",
       "      <th>archived</th>\n",
       "      <td>0</td>\n",
       "      <td>0</td>\n",
       "      <td>0</td>\n",
       "    </tr>\n",
       "    <tr>\n",
       "      <th>author</th>\n",
       "      <td>anweisz</td>\n",
       "      <td>The_Sordid_Critic</td>\n",
       "      <td>WingsOfLight</td>\n",
       "    </tr>\n",
       "    <tr>\n",
       "      <th>score</th>\n",
       "      <td>1</td>\n",
       "      <td>12</td>\n",
       "      <td>1</td>\n",
       "    </tr>\n",
       "    <tr>\n",
       "      <th>retrieved_on</th>\n",
       "      <td>1432703080</td>\n",
       "      <td>1432703082</td>\n",
       "      <td>1432703083</td>\n",
       "    </tr>\n",
       "    <tr>\n",
       "      <th>body</th>\n",
       "      <td>I can see how that could easily go. People oft...</td>\n",
       "      <td>I could participate in this, but by that time,...</td>\n",
       "      <td>Restart your browser/clear your cache and it s...</td>\n",
       "    </tr>\n",
       "    <tr>\n",
       "      <th>distinguished</th>\n",
       "      <td>None</td>\n",
       "      <td>None</td>\n",
       "      <td>None</td>\n",
       "    </tr>\n",
       "    <tr>\n",
       "      <th>edited</th>\n",
       "      <td>0</td>\n",
       "      <td>0</td>\n",
       "      <td>0</td>\n",
       "    </tr>\n",
       "    <tr>\n",
       "      <th>controversiality</th>\n",
       "      <td>0</td>\n",
       "      <td>0</td>\n",
       "      <td>0</td>\n",
       "    </tr>\n",
       "    <tr>\n",
       "      <th>parent_id</th>\n",
       "      <td>t1_cqufskw</td>\n",
       "      <td>t3_34gfze</td>\n",
       "      <td>t1_cqug0f9</td>\n",
       "    </tr>\n",
       "  </tbody>\n",
       "</table>\n",
       "</div>"
      ],
      "text/plain": [
       "                                                                        0  \\\n",
       "created_utc                                                    1430438402   \n",
       "ups                                                                     1   \n",
       "subreddit_id                                                     t5_2qh22   \n",
       "link_id                                                         t3_34gb0n   \n",
       "name                                                           t1_cqug92d   \n",
       "score_hidden                                                            0   \n",
       "author_flair_css_class                                               None   \n",
       "author_flair_text                                                    None   \n",
       "subreddit                                                           anime   \n",
       "id                                                                cqug92d   \n",
       "removal_reason                                                       None   \n",
       "gilded                                                                  0   \n",
       "downs                                                                   0   \n",
       "archived                                                                0   \n",
       "author                                                            anweisz   \n",
       "score                                                                   1   \n",
       "retrieved_on                                                   1432703080   \n",
       "body                    I can see how that could easily go. People oft...   \n",
       "distinguished                                                        None   \n",
       "edited                                                                  0   \n",
       "controversiality                                                        0   \n",
       "parent_id                                                      t1_cqufskw   \n",
       "\n",
       "                                                                        1  \\\n",
       "created_utc                                                    1430438411   \n",
       "ups                                                                    12   \n",
       "subreddit_id                                                     t5_2qh22   \n",
       "link_id                                                         t3_34gfze   \n",
       "name                                                           t1_cqug99n   \n",
       "score_hidden                                                            0   \n",
       "author_flair_css_class                                                MAL   \n",
       "author_flair_text         http://myanimelist.net/animelist/Link_of_Hyrule   \n",
       "subreddit                                                           anime   \n",
       "id                                                                cqug99n   \n",
       "removal_reason                                                       None   \n",
       "gilded                                                                  0   \n",
       "downs                                                                   0   \n",
       "archived                                                                0   \n",
       "author                                                  The_Sordid_Critic   \n",
       "score                                                                  12   \n",
       "retrieved_on                                                   1432703082   \n",
       "body                    I could participate in this, but by that time,...   \n",
       "distinguished                                                        None   \n",
       "edited                                                                  0   \n",
       "controversiality                                                        0   \n",
       "parent_id                                                       t3_34gfze   \n",
       "\n",
       "                                                                        2  \n",
       "created_utc                                                    1430438412  \n",
       "ups                                                                     1  \n",
       "subreddit_id                                                     t5_2qh22  \n",
       "link_id                                                         t3_34b6gv  \n",
       "name                                                           t1_cqug9aa  \n",
       "score_hidden                                                            0  \n",
       "author_flair_css_class                                                MAL  \n",
       "author_flair_text               http://myanimelist.net/profile/TenWoTsuke  \n",
       "subreddit                                                           anime  \n",
       "id                                                                cqug9aa  \n",
       "removal_reason                                                       None  \n",
       "gilded                                                                  0  \n",
       "downs                                                                   0  \n",
       "archived                                                                0  \n",
       "author                                                       WingsOfLight  \n",
       "score                                                                   1  \n",
       "retrieved_on                                                   1432703083  \n",
       "body                    Restart your browser/clear your cache and it s...  \n",
       "distinguished                                                        None  \n",
       "edited                                                                  0  \n",
       "controversiality                                                        0  \n",
       "parent_id                                                      t1_cqug0f9  "
      ]
     },
     "execution_count": 4,
     "metadata": {},
     "output_type": "execute_result"
    }
   ],
   "source": [
    "df.head(3).T"
   ]
  },
  {
   "cell_type": "markdown",
   "metadata": {},
   "source": [
    "## Feature Engineering"
   ]
  },
  {
   "cell_type": "markdown",
   "metadata": {},
   "source": [
    "Let's look at the size of the dataframe & explore if we want to build a model using all of the observations. "
   ]
  },
  {
   "cell_type": "code",
   "execution_count": 5,
   "metadata": {
    "scrolled": true
   },
   "outputs": [
    {
     "data": {
      "text/plain": [
       "(6195172, 22)"
      ]
     },
     "execution_count": 5,
     "metadata": {},
     "output_type": "execute_result"
    }
   ],
   "source": [
    "df.shape"
   ]
  },
  {
   "cell_type": "markdown",
   "metadata": {},
   "source": [
    "The dataset houses 6,195,172 comments! Let's explore options of narrowing this dataset down. Our first idea is to handpick a set of subreddits. Let's visualize subreddits based on comments. "
   ]
  },
  {
   "cell_type": "code",
   "execution_count": 6,
   "metadata": {},
   "outputs": [
    {
     "data": {
      "image/png": "[encoded data removed]",
      "text/plain": [
       "<matplotlib.figure.Figure at 0x1a183392b0>"
      ]
     },
     "metadata": {},
     "output_type": "display_data"
    }
   ],
   "source": [
    "df.subreddit.value_counts().plot(kind='bar')\n",
    "plt.show()"
   ]
  },
  {
   "cell_type": "markdown",
   "metadata": {},
   "source": [
    "We'll narrow down our dataset to five popular subreddits on simple topics – [`worldnews`, `movies`, `gaming`, `science`, `food`]"
   ]
  },
  {
   "cell_type": "code",
   "execution_count": 7,
   "metadata": {},
   "outputs": [],
   "source": [
    "subreddit_list = ['worldnews', 'movies', 'gaming', 'science', 'food']\n",
    "df = df[df.subreddit.isin(subreddit_list)]"
   ]
  },
  {
   "cell_type": "markdown",
   "metadata": {},
   "source": [
    "Focusing on specific subreddits has narrowed our number of observations down from 6,195,172 to a much more manageable 1,372,864 comments, a reduction of 4,822,308 observations."
   ]
  },
  {
   "cell_type": "markdown",
   "metadata": {},
   "source": [
    "Let's explore our the number of observations in our hand-picked subreddits. "
   ]
  },
  {
   "cell_type": "code",
   "execution_count": 8,
   "metadata": {},
   "outputs": [
    {
     "data": {
      "image/png": "[encoded data removed]",
      "text/plain": [
       "<matplotlib.figure.Figure at 0x1b54b5b668>"
      ]
     },
     "metadata": {},
     "output_type": "display_data"
    }
   ],
   "source": [
    "df.subreddit.value_counts().plot(kind='bar')\n",
    "plt.show()"
   ]
  },
  {
   "cell_type": "markdown",
   "metadata": {},
   "source": [
    "**Type Conversion** We need to make sure that we are handling categorical variables appropriately. "
   ]
  },
  {
   "cell_type": "code",
   "execution_count": 9,
   "metadata": {},
   "outputs": [],
   "source": [
    "df['subreddit'] = df.subreddit.astype('category')\n",
    "df['subreddit_id'] = df.subreddit_id.astype('category')\n",
    "df['distinguished'] = df.distinguished.astype('category')\n",
    "df['link_id'] = df.link_id.astype('category')"
   ]
  },
  {
   "cell_type": "markdown",
   "metadata": {},
   "source": [
    "**Deleting Features** In exploring the data, we found that some variables are not helpful for us in our efforts to predict reddit scores. Here are variables that we chose to remove, with a quick reason why we chose to do so – \n",
    "- `archived` - There are no archived comments in our reduced dataset. \n",
    "- `retrieved_on` - Retrieved at least 104 hours after the comment, far long enough for most threads to die. \n",
    "- `id` - The variable `name` also uniquely identifies comments, rendering `id` irrelevant. \n",
    "- `author_flair_css_class` - Exploration of using this variable & `author_flair_text` proved fruitless.\n",
    "- `author_flair_text` - Ditto\n",
    "- `removal_reason` - Only 7 comments were deleted (`removal_reason = legal`). We will treat those comments as outliers that would not help in predicting the scores of new comments. "
   ]
  },
  {
   "cell_type": "code",
   "execution_count": 10,
   "metadata": {},
   "outputs": [
    {
     "data": {
      "text/plain": [
       "104.2038888888889"
      ]
     },
     "execution_count": 10,
     "metadata": {},
     "output_type": "execute_result"
    }
   ],
   "source": [
    "# The number of hours between when the comment was posted & when it was scraped\n",
    "t = (df.retrieved_on - df.created_utc) / 60 / 60\n",
    "t.min()"
   ]
  },
  {
   "cell_type": "code",
   "execution_count": 11,
   "metadata": {},
   "outputs": [],
   "source": [
    "# Remove superfluous explanatory variables\n",
    "df.drop(['archived', 'retrieved_on', 'id',\n",
    "         'author_flair_css_class', 'author_flair_text',\n",
    "         'removal_reason'], axis=1, inplace=True)"
   ]
  },
  {
   "cell_type": "markdown",
   "metadata": {},
   "source": [
    "**Specific Feature Touch-Ups** We need to edit some features to make them more useful to us. "
   ]
  },
  {
   "cell_type": "code",
   "execution_count": 12,
   "metadata": {},
   "outputs": [],
   "source": [
    "# Replace 'NaN' with 'user'\n",
    "df.distinguished.replace(to_replace=np.NaN, value='user', inplace=True)\n",
    "\n",
    "# Convert created_utc to datetime\n",
    "df['time'] = pd.to_datetime(df.created_utc, unit='s')"
   ]
  },
  {
   "cell_type": "code",
   "execution_count": 13,
   "metadata": {},
   "outputs": [
    {
     "data": {
      "text/plain": [
       "Index(['created_utc', 'ups', 'subreddit_id', 'link_id', 'name', 'score_hidden',\n",
       "       'subreddit', 'gilded', 'downs', 'author', 'score', 'body',\n",
       "       'distinguished', 'edited', 'controversiality', 'parent_id', 'time'],\n",
       "      dtype='object')"
      ]
     },
     "execution_count": 13,
     "metadata": {},
     "output_type": "execute_result"
    }
   ],
   "source": [
    "df.columns"
   ]
  },
  {
   "cell_type": "markdown",
   "metadata": {},
   "source": [
    "**Size**"
   ]
  },
  {
   "cell_type": "code",
   "execution_count": 14,
   "metadata": {},
   "outputs": [
    {
     "data": {
      "text/plain": [
       "'0.7425327008497477 GB'"
      ]
     },
     "execution_count": 14,
     "metadata": {},
     "output_type": "execute_result"
    }
   ],
   "source": [
    "f\"{df.memory_usage(deep=True).sum() / 1023.0**3} GB\""
   ]
  },
  {
   "cell_type": "markdown",
   "metadata": {},
   "source": [
    "Note that we have narrowed our dataset from `5.13GB` to `0.73GB`. Quite a reduction!"
   ]
  },
  {
   "cell_type": "markdown",
   "metadata": {},
   "source": [
    "## Additional Variable Creation"
   ]
  },
  {
   "cell_type": "markdown",
   "metadata": {},
   "source": [
    "- `time_lapse` - (in seconds) An interesting feature for a given observation would be the amount of time since the first comment in a thread. Let's calculate this. "
   ]
  },
  {
   "cell_type": "code",
   "execution_count": 15,
   "metadata": {},
   "outputs": [],
   "source": [
    "# Find the time of the first comment in a thread\n",
    "df_first_comment = df[['link_id', 'time']].groupby(by=['link_id']).min()\n",
    "\n",
    "# Create a dictionary of {link_id -> timestamp} pairs\n",
    "df_first_comment_dict = df_first_comment.to_dict('index')\n",
    "\n",
    "# Funct that takes in {link_id, timestamp} pair & returns the time elapsed since the first comment in that link_id.\n",
    "def time_lapse(x):\n",
    "    return df_first_comment_dict[x]['time']\n",
    "\n",
    "# Add a column of the time_elapsed from the first comment in a link_id\n",
    "df['time_lapse'] = df.time - df.link_id.apply(time_lapse)\n",
    "\n",
    "# Convert the type of time_lapse back to seconds\n",
    "df.time_lapse = df.time_lapse.apply(lambda x: x.total_seconds())"
   ]
  },
  {
   "cell_type": "markdown",
   "metadata": {},
   "source": [
    "An interesting observation is that there are on average `23.60` comments-per-thread.  "
   ]
  },
  {
   "cell_type": "code",
   "execution_count": 16,
   "metadata": {},
   "outputs": [
    {
     "data": {
      "text/plain": [
       "29.494779358054398"
      ]
     },
     "execution_count": 16,
     "metadata": {},
     "output_type": "execute_result"
    }
   ],
   "source": [
    "# Total comments / unique threads \n",
    "len(df.link_id) / len(df.link_id.unique())"
   ]
  },
  {
   "cell_type": "code",
   "execution_count": 17,
   "metadata": {
    "scrolled": true
   },
   "outputs": [
    {
     "data": {
      "image/png": "[encoded data removed]",
      "text/plain": [
       "<matplotlib.figure.Figure at 0x115656e80>"
      ]
     },
     "metadata": {},
     "output_type": "display_data"
    }
   ],
   "source": [
    "# hours after first comment in thread\n",
    "(df.time_lapse / (60*60)).hist(bins=800).set_xlim((0, 48));"
   ]
  },
  {
   "cell_type": "markdown",
   "metadata": {},
   "source": [
    "We see that most comment threads die after 40 hours. Because of this behaviour, we find that the `retrieved_on` feature is rather superfluous, as mentioned above. Thus, we don't worry that the data collection process diminished the score in any particular way. "
   ]
  },
  {
   "cell_type": "markdown",
   "metadata": {},
   "source": [
    "## Parent Based Features"
   ]
  },
  {
   "cell_type": "markdown",
   "metadata": {},
   "source": [
    "- `depth`: depth of comment in its thread\n",
    "- `parent_score`: score of parent comment. If no score for a `parent_id`, use median(parent_score)\n",
    "- `time_since_parent`: time since parent comment in seconds"
   ]
  },
  {
   "cell_type": "code",
   "execution_count": 18,
   "metadata": {},
   "outputs": [],
   "source": [
    "def pd_to_dict(df, index='', column=''):\n",
    "    return pd.Series(df[column].values, index=df[index]).to_dict()\n",
    "\n",
    "comment_to_parent_dict = pd_to_dict(df[['name', 'parent_id']],\n",
    "                                    index='name', column='parent_id')\n",
    "\n",
    "def get_depth(x):\n",
    "    counter = 0\n",
    "    temp = x\n",
    "    while True:\n",
    "        if temp[:3] == 't3_':\n",
    "            return counter\n",
    "        try:\n",
    "            temp = comment_to_parent_dict[temp]\n",
    "        except KeyError:\n",
    "            return counter\n",
    "        counter += 1\n",
    "        \n",
    "df['depth'] = df['name'].apply(get_depth)\n",
    "comment_to_score = pd_to_dict(df[['name', 'score']],\n",
    "                              index='name', column='score')\n",
    "\n",
    "def get_parent_score(x):\n",
    "    try:\n",
    "        return comment_to_score[x]\n",
    "    except:\n",
    "        return np.nan\n",
    "\n",
    "df['parent_score'] = df.parent_id.apply(lambda x: get_parent_score(x))\n",
    "imp_val = df.parent_score.median()\n",
    "df.parent_score.fillna(imp_val, inplace=True)\n",
    "\n",
    "comment_to_time = pd_to_dict(df[['name', 'time']],\n",
    "                              index='name', column='time')\n",
    "\n",
    "def get_time_since_parent(pi):\n",
    "    try:\n",
    "        return comment_to_time[pi]\n",
    "    except:\n",
    "        return np.nan\n",
    "\n",
    "df['time_since_parent'] = df.parent_id.apply(get_time_since_parent)\n",
    "df.loc[df.time_since_parent.isna(), 'time_since_parent'] = df.time\n",
    "df.time_since_parent = df.time - df.time_since_parent\n",
    "df.time_since_parent = df.time_since_parent.apply(lambda x: x.total_seconds())"
   ]
  },
  {
   "cell_type": "code",
   "execution_count": 19,
   "metadata": {},
   "outputs": [
    {
     "data": {
      "text/plain": [
       "0.0"
      ]
     },
     "execution_count": 19,
     "metadata": {},
     "output_type": "execute_result"
    }
   ],
   "source": [
    "sum(df.parent_score != df.parent_score) / len(df.parent_score)"
   ]
  },
  {
   "cell_type": "code",
   "execution_count": 20,
   "metadata": {},
   "outputs": [
    {
     "data": {
      "text/html": [
       "<div>\n",
       "<style scoped>\n",
       "    .dataframe tbody tr th:only-of-type {\n",
       "        vertical-align: middle;\n",
       "    }\n",
       "\n",
       "    .dataframe tbody tr th {\n",
       "        vertical-align: top;\n",
       "    }\n",
       "\n",
       "    .dataframe thead th {\n",
       "        text-align: right;\n",
       "    }\n",
       "</style>\n",
       "<table border=\"1\" class=\"dataframe\">\n",
       "  <thead>\n",
       "    <tr style=\"text-align: right;\">\n",
       "      <th></th>\n",
       "      <th>732330</th>\n",
       "      <th>732331</th>\n",
       "      <th>732332</th>\n",
       "    </tr>\n",
       "  </thead>\n",
       "  <tbody>\n",
       "    <tr>\n",
       "      <th>created_utc</th>\n",
       "      <td>1430438556</td>\n",
       "      <td>1430438571</td>\n",
       "      <td>1430438572</td>\n",
       "    </tr>\n",
       "    <tr>\n",
       "      <th>ups</th>\n",
       "      <td>4</td>\n",
       "      <td>2</td>\n",
       "      <td>2</td>\n",
       "    </tr>\n",
       "    <tr>\n",
       "      <th>subreddit_id</th>\n",
       "      <td>t5_2qh55</td>\n",
       "      <td>t5_2qh55</td>\n",
       "      <td>t5_2qh55</td>\n",
       "    </tr>\n",
       "    <tr>\n",
       "      <th>link_id</th>\n",
       "      <td>t3_34gagr</td>\n",
       "      <td>t3_34dogt</td>\n",
       "      <td>t3_34drd4</td>\n",
       "    </tr>\n",
       "    <tr>\n",
       "      <th>name</th>\n",
       "      <td>t1_cqugc7x</td>\n",
       "      <td>t1_cqugcj4</td>\n",
       "      <td>t1_cqugcjl</td>\n",
       "    </tr>\n",
       "    <tr>\n",
       "      <th>score_hidden</th>\n",
       "      <td>0</td>\n",
       "      <td>0</td>\n",
       "      <td>0</td>\n",
       "    </tr>\n",
       "    <tr>\n",
       "      <th>subreddit</th>\n",
       "      <td>food</td>\n",
       "      <td>food</td>\n",
       "      <td>food</td>\n",
       "    </tr>\n",
       "    <tr>\n",
       "      <th>gilded</th>\n",
       "      <td>0</td>\n",
       "      <td>0</td>\n",
       "      <td>0</td>\n",
       "    </tr>\n",
       "    <tr>\n",
       "      <th>downs</th>\n",
       "      <td>0</td>\n",
       "      <td>0</td>\n",
       "      <td>0</td>\n",
       "    </tr>\n",
       "    <tr>\n",
       "      <th>author</th>\n",
       "      <td>FightWithTools</td>\n",
       "      <td>BlakShuck</td>\n",
       "      <td>westhest</td>\n",
       "    </tr>\n",
       "    <tr>\n",
       "      <th>score</th>\n",
       "      <td>4</td>\n",
       "      <td>2</td>\n",
       "      <td>2</td>\n",
       "    </tr>\n",
       "    <tr>\n",
       "      <th>body</th>\n",
       "      <td>This is true. From what I understand, the best...</td>\n",
       "      <td>This is the first 'Ulster/Belfast/Irish' fry I...</td>\n",
       "      <td>I'm not from Austria but I'm an American livin...</td>\n",
       "    </tr>\n",
       "    <tr>\n",
       "      <th>distinguished</th>\n",
       "      <td>user</td>\n",
       "      <td>user</td>\n",
       "      <td>user</td>\n",
       "    </tr>\n",
       "    <tr>\n",
       "      <th>edited</th>\n",
       "      <td>0</td>\n",
       "      <td>0</td>\n",
       "      <td>0</td>\n",
       "    </tr>\n",
       "    <tr>\n",
       "      <th>controversiality</th>\n",
       "      <td>0</td>\n",
       "      <td>0</td>\n",
       "      <td>0</td>\n",
       "    </tr>\n",
       "    <tr>\n",
       "      <th>parent_id</th>\n",
       "      <td>t3_34gagr</td>\n",
       "      <td>t1_cqtnslf</td>\n",
       "      <td>t1_cqu48b0</td>\n",
       "    </tr>\n",
       "    <tr>\n",
       "      <th>time</th>\n",
       "      <td>2015-05-01 00:02:36</td>\n",
       "      <td>2015-05-01 00:02:51</td>\n",
       "      <td>2015-05-01 00:02:52</td>\n",
       "    </tr>\n",
       "    <tr>\n",
       "      <th>time_lapse</th>\n",
       "      <td>0</td>\n",
       "      <td>0</td>\n",
       "      <td>0</td>\n",
       "    </tr>\n",
       "    <tr>\n",
       "      <th>depth</th>\n",
       "      <td>1</td>\n",
       "      <td>1</td>\n",
       "      <td>1</td>\n",
       "    </tr>\n",
       "    <tr>\n",
       "      <th>parent_score</th>\n",
       "      <td>4</td>\n",
       "      <td>4</td>\n",
       "      <td>4</td>\n",
       "    </tr>\n",
       "    <tr>\n",
       "      <th>time_since_parent</th>\n",
       "      <td>0</td>\n",
       "      <td>0</td>\n",
       "      <td>0</td>\n",
       "    </tr>\n",
       "  </tbody>\n",
       "</table>\n",
       "</div>"
      ],
      "text/plain": [
       "                                                              732330  \\\n",
       "created_utc                                               1430438556   \n",
       "ups                                                                4   \n",
       "subreddit_id                                                t5_2qh55   \n",
       "link_id                                                    t3_34gagr   \n",
       "name                                                      t1_cqugc7x   \n",
       "score_hidden                                                       0   \n",
       "subreddit                                                       food   \n",
       "gilded                                                             0   \n",
       "downs                                                              0   \n",
       "author                                                FightWithTools   \n",
       "score                                                              4   \n",
       "body               This is true. From what I understand, the best...   \n",
       "distinguished                                                   user   \n",
       "edited                                                             0   \n",
       "controversiality                                                   0   \n",
       "parent_id                                                  t3_34gagr   \n",
       "time                                             2015-05-01 00:02:36   \n",
       "time_lapse                                                         0   \n",
       "depth                                                              1   \n",
       "parent_score                                                       4   \n",
       "time_since_parent                                                  0   \n",
       "\n",
       "                                                              732331  \\\n",
       "created_utc                                               1430438571   \n",
       "ups                                                                2   \n",
       "subreddit_id                                                t5_2qh55   \n",
       "link_id                                                    t3_34dogt   \n",
       "name                                                      t1_cqugcj4   \n",
       "score_hidden                                                       0   \n",
       "subreddit                                                       food   \n",
       "gilded                                                             0   \n",
       "downs                                                              0   \n",
       "author                                                     BlakShuck   \n",
       "score                                                              2   \n",
       "body               This is the first 'Ulster/Belfast/Irish' fry I...   \n",
       "distinguished                                                   user   \n",
       "edited                                                             0   \n",
       "controversiality                                                   0   \n",
       "parent_id                                                 t1_cqtnslf   \n",
       "time                                             2015-05-01 00:02:51   \n",
       "time_lapse                                                         0   \n",
       "depth                                                              1   \n",
       "parent_score                                                       4   \n",
       "time_since_parent                                                  0   \n",
       "\n",
       "                                                              732332  \n",
       "created_utc                                               1430438572  \n",
       "ups                                                                2  \n",
       "subreddit_id                                                t5_2qh55  \n",
       "link_id                                                    t3_34drd4  \n",
       "name                                                      t1_cqugcjl  \n",
       "score_hidden                                                       0  \n",
       "subreddit                                                       food  \n",
       "gilded                                                             0  \n",
       "downs                                                              0  \n",
       "author                                                      westhest  \n",
       "score                                                              2  \n",
       "body               I'm not from Austria but I'm an American livin...  \n",
       "distinguished                                                   user  \n",
       "edited                                                             0  \n",
       "controversiality                                                   0  \n",
       "parent_id                                                 t1_cqu48b0  \n",
       "time                                             2015-05-01 00:02:52  \n",
       "time_lapse                                                         0  \n",
       "depth                                                              1  \n",
       "parent_score                                                       4  \n",
       "time_since_parent                                                  0  "
      ]
     },
     "execution_count": 20,
     "metadata": {},
     "output_type": "execute_result"
    }
   ],
   "source": [
    "df.head(3).T"
   ]
  },
  {
   "cell_type": "markdown",
   "metadata": {},
   "source": [
    "## Comment Content Based Features"
   ]
  },
  {
   "cell_type": "markdown",
   "metadata": {},
   "source": [
    "- `linked_sr` - A list of subreddits mentioned in the comment\n",
    "- `linked_urls` - A list of urls mentioned in the comment. \n",
    "    - We'll limit the amount of URL & subreddit features to the top-15, respectively. We want to use each URL as a binary feature. We don't want the amount of URL features we are going to add to be outrageous.\n",
    "\n",
    "\n",
    "\n",
    "\n",
    "Perhaps more useful features than respective arrays of subreddits & urls would be a simple count\n",
    "- `no_of_linked_sr`: count of respective subreddit there were in a given comment\n",
    "- `no_of_linked_urls`: count of respective urls there were in a given comment \n",
    "- `subjectivity` - Count how many times the personal pronoun `I` occurs in a comment. \n",
    "- `is_edited`: `edited` is a timestamp that indicates when the comment was last edited. Also useful would be a variable that indicates whether the comment was edited or not.\n",
    "- `quoted` - Check if the comment quotes another comment. \n",
    "- `no_quoted` - Check the number of quotes in a comment"
   ]
  },
  {
   "cell_type": "markdown",
   "metadata": {},
   "source": [
    "### `linked_sr`"
   ]
  },
  {
   "cell_type": "markdown",
   "metadata": {},
   "source": [
    "`linked_sr` - A list of subreddits mentioned in the comment."
   ]
  },
  {
   "cell_type": "code",
   "execution_count": 21,
   "metadata": {},
   "outputs": [],
   "source": [
    "# Extract an array of subreddit links in a post & use as a feature\n",
    "df['linked_sr'] = df.body.apply(lambda x: re.findall(r\"/r/([^\\s/]+)\", x))\n",
    "\n",
    "# Remove the subreddits mentioned from the actual comment\n",
    "df['body'] = df.body.apply(lambda x: re.sub(r\"(/r/[^\\s/]+)\", '', x))"
   ]
  },
  {
   "cell_type": "markdown",
   "metadata": {},
   "source": [
    "### `linked_urls`"
   ]
  },
  {
   "cell_type": "markdown",
   "metadata": {},
   "source": [
    "`linked_urls` - A list of urls mentioned in the comment. "
   ]
  },
  {
   "cell_type": "code",
   "execution_count": 22,
   "metadata": {},
   "outputs": [],
   "source": [
    "# Nasty Regular Extraction to extract a link\n",
    "url_regex = r'http[s]?://(?:[a-zA-Z]|[0-9]|[$-_@.&+]|[!*\\(\\),]|(?:%[0-9a-fA-F][0-9a-fA-F]))+'\n",
    "\n",
    "def get_domains(x):\n",
    "    \"\"\"\n",
    "    Given a comment (String), extract an array of urls' domain names mentioned in the comment\n",
    "    \"\"\"\n",
    "    x = x.replace(' = ', '=')\n",
    "    x = x.replace(' : ', ':')\n",
    "    x = x.replace(' / ', '?')\n",
    "    urls = re.findall(url_regex, x)\n",
    "    try:\n",
    "        domain_names = [urlparse(url).netloc.split('.')[-2] for url in urls]\n",
    "    except:\n",
    "        return []\n",
    "    return domain_names\n",
    "\n",
    "# Create the feature for each observation\n",
    "df['linked_urls'] = df.body.apply(lambda x: get_domains(x))"
   ]
  },
  {
   "cell_type": "code",
   "execution_count": 23,
   "metadata": {},
   "outputs": [],
   "source": [
    "def remove_urls(x):\n",
    "    \"\"\"\n",
    "    Given a comment, replace the url component with an empty string. \n",
    "    \"\"\"\n",
    "    x = x.replace(' = ', '=')\n",
    "    x = x.replace(' : ', ':')\n",
    "    x = x.replace(' / ', '?')\n",
    "    return re.sub(url_regex, '', x)\n",
    "\n",
    "# Remove the URL from each comment \n",
    "df['body'] = df.body.apply(lambda x: remove_urls(x))"
   ]
  },
  {
   "cell_type": "markdown",
   "metadata": {},
   "source": [
    "### `no_of_linked_sr` & `no_of_linked_urls`"
   ]
  },
  {
   "cell_type": "markdown",
   "metadata": {},
   "source": [
    "`no_of_linked_sr`, `no_of_linked_urls` - Perhaps more useful features than respective arrays of subreddits & urls would be a simple count of how many respective subreddit & urls there were in a given comment"
   ]
  },
  {
   "cell_type": "code",
   "execution_count": 24,
   "metadata": {
    "scrolled": true
   },
   "outputs": [],
   "source": [
    "# Create a how-many-subreddit-links-were-in-this-comment? feature\n",
    "df['no_of_linked_sr'] = df['linked_sr'].apply(lambda x: len(x))\n",
    "\n",
    "# Create a how-many-urls-were-in-this-comment? feature\n",
    "df['no_of_linked_urls'] = df['linked_urls'].apply(lambda x: len(x))"
   ]
  },
  {
   "cell_type": "markdown",
   "metadata": {},
   "source": [
    "**Notes** - On average there are `0.027` subreddits mentioned per post & `0.077` URLs per post. "
   ]
  },
  {
   "cell_type": "code",
   "execution_count": 25,
   "metadata": {},
   "outputs": [
    {
     "name": "stdout",
     "output_type": "stream",
     "text": [
      "Subreddit-links-per-post  0.025753461377091977\n",
      "URL-links-per-post        0.07793415808120834\n"
     ]
    }
   ],
   "source": [
    "print(f\"Subreddit-links-per-post  {sum(df.no_of_linked_sr) / len(df.body)}\")\n",
    "print(f\"URL-links-per-post        {sum(df.no_of_linked_urls) / len(df.body)}\")"
   ]
  },
  {
   "cell_type": "markdown",
   "metadata": {},
   "source": [
    "Here is a list of the subreddits most referred to – "
   ]
  },
  {
   "cell_type": "code",
   "execution_count": 26,
   "metadata": {},
   "outputs": [
    {
     "data": {
      "text/plain": [
       "[('worldnews', 4946),\n",
       " ('worldnews)', 2796),\n",
       " ('worldnews.', 2489),\n",
       " ('help', 2387),\n",
       " ('worldnews](http:', 2387),\n",
       " ('food),', 1594),\n",
       " ('gaming', 1435),\n",
       " ('food)', 1283),\n",
       " ('movies', 1225),\n",
       " ('science', 1044),\n",
       " ('movies)', 467),\n",
       " ('EverythingScience.', 459),\n",
       " ('AutoModerator', 452),\n",
       " ('conspiracy', 241),\n",
       " ('science.', 206)]"
      ]
     },
     "execution_count": 26,
     "metadata": {},
     "output_type": "execute_result"
    }
   ],
   "source": [
    "all_linked_sr = []\n",
    "for l in df.linked_sr.values:\n",
    "    all_linked_sr += l\n",
    "\n",
    "top_sr_links = Counter(all_linked_sr)\n",
    "top_sr_links.most_common(15)"
   ]
  },
  {
   "cell_type": "markdown",
   "metadata": {},
   "source": [
    "Here is a list of the URLs most referred to – "
   ]
  },
  {
   "cell_type": "code",
   "execution_count": 27,
   "metadata": {},
   "outputs": [
    {
     "data": {
      "text/plain": [
       "[('reddit', 20232),\n",
       " ('youtube', 14216),\n",
       " ('wikipedia', 11078),\n",
       " ('imgur', 8154),\n",
       " ('youtu', 3616),\n",
       " ('redditblog', 2393),\n",
       " ('imdb', 2132),\n",
       " ('co', 1811),\n",
       " ('theguardian', 823),\n",
       " ('google', 733),\n",
       " ('github', 606),\n",
       " ('wordpress', 556),\n",
       " ('nytimes', 508),\n",
       " ('twitter', 432),\n",
       " ('amazon', 425)]"
      ]
     },
     "execution_count": 27,
     "metadata": {},
     "output_type": "execute_result"
    }
   ],
   "source": [
    "all_linked_urls = []\n",
    "for l in df.linked_urls.values:\n",
    "    all_linked_urls += l\n",
    "\n",
    "top_url_links = Counter(all_linked_urls)\n",
    "top_url_links.most_common(15)"
   ]
  },
  {
   "cell_type": "markdown",
   "metadata": {},
   "source": [
    "We'll limit the amount of URL & subreddit features to the top-15, respectively. Why? We want to use each URL as a binary feature. We don't want the amount of URL features we are going to add to be outrageous. "
   ]
  },
  {
   "cell_type": "code",
   "execution_count": 28,
   "metadata": {},
   "outputs": [],
   "source": [
    "# Find the most common URLs\n",
    "allowed_urls = [i[0] for i in top_url_links.most_common(15)]\n",
    "\n",
    "def remove_urls(x):\n",
    "    \"\"\"\n",
    "    Given a list of URLs, keep only those in the top-15. \n",
    "    \"\"\"\n",
    "    y = []\n",
    "    for i in x:\n",
    "        if i in allowed_urls:\n",
    "            y += [i]\n",
    "    return y\n",
    "\n",
    "# Keep only the popular URLs \n",
    "df['linked_urls'] = df['linked_urls'].apply(lambda x: remove_urls(x))"
   ]
  },
  {
   "cell_type": "markdown",
   "metadata": {},
   "source": [
    "### `subjectivity`"
   ]
  },
  {
   "cell_type": "markdown",
   "metadata": {},
   "source": [
    "`subjectivity` - Count how many times the personal pronoun `I` occurs in a comment. "
   ]
  },
  {
   "cell_type": "code",
   "execution_count": 29,
   "metadata": {},
   "outputs": [],
   "source": [
    "# Implement the above\n",
    "df['subjectivity'] = df['body'].str.count('I ')"
   ]
  },
  {
   "cell_type": "markdown",
   "metadata": {},
   "source": [
    "### `is_edited`"
   ]
  },
  {
   "cell_type": "markdown",
   "metadata": {},
   "source": [
    "`is_edited` – `edited` is a timestamp that indicates when the comment was last edited. Also useful would be a variable that indicates whether the comment was edited or not."
   ]
  },
  {
   "cell_type": "code",
   "execution_count": 30,
   "metadata": {},
   "outputs": [],
   "source": [
    "# Create a column indicating if the comment is edited or not\n",
    "df['is_edited'] = df.edited.apply(lambda x: x > 0)"
   ]
  },
  {
   "cell_type": "code",
   "execution_count": 31,
   "metadata": {
    "scrolled": true
   },
   "outputs": [
    {
     "data": {
      "text/plain": [
       "'Edited/All = 0.03422188942240455'"
      ]
     },
     "execution_count": 31,
     "metadata": {},
     "output_type": "execute_result"
    }
   ],
   "source": [
    "f\"Edited/All = {sum(df.is_edited) / len(df.is_edited)}\""
   ]
  },
  {
   "cell_type": "markdown",
   "metadata": {},
   "source": [
    "**Notes** - Only 3% of comments were edited."
   ]
  },
  {
   "cell_type": "markdown",
   "metadata": {},
   "source": [
    "### `quoted`"
   ]
  },
  {
   "cell_type": "markdown",
   "metadata": {},
   "source": [
    "`quoted` - Check if the comment quotes another comment. "
   ]
  },
  {
   "cell_type": "code",
   "execution_count": 32,
   "metadata": {},
   "outputs": [],
   "source": [
    "# if the comment quotes another comment, indicate that with a boolean\n",
    "df['is_quoted'] = df.body.str.contains('&gt;')"
   ]
  },
  {
   "cell_type": "markdown",
   "metadata": {},
   "source": [
    "### `no_quoted`"
   ]
  },
  {
   "cell_type": "markdown",
   "metadata": {},
   "source": [
    "`no_quoted` - Check the number of quotes in a comment"
   ]
  },
  {
   "cell_type": "code",
   "execution_count": 33,
   "metadata": {},
   "outputs": [],
   "source": [
    "# Implement the above\n",
    "df['no_quoted'] = df.body.str.count('&gt;')"
   ]
  },
  {
   "cell_type": "code",
   "execution_count": 34,
   "metadata": {},
   "outputs": [
    {
     "data": {
      "text/html": [
       "<div>\n",
       "<style scoped>\n",
       "    .dataframe tbody tr th:only-of-type {\n",
       "        vertical-align: middle;\n",
       "    }\n",
       "\n",
       "    .dataframe tbody tr th {\n",
       "        vertical-align: top;\n",
       "    }\n",
       "\n",
       "    .dataframe thead th {\n",
       "        text-align: right;\n",
       "    }\n",
       "</style>\n",
       "<table border=\"1\" class=\"dataframe\">\n",
       "  <thead>\n",
       "    <tr style=\"text-align: right;\">\n",
       "      <th></th>\n",
       "      <th>732330</th>\n",
       "      <th>732331</th>\n",
       "      <th>732332</th>\n",
       "    </tr>\n",
       "  </thead>\n",
       "  <tbody>\n",
       "    <tr>\n",
       "      <th>created_utc</th>\n",
       "      <td>1430438556</td>\n",
       "      <td>1430438571</td>\n",
       "      <td>1430438572</td>\n",
       "    </tr>\n",
       "    <tr>\n",
       "      <th>ups</th>\n",
       "      <td>4</td>\n",
       "      <td>2</td>\n",
       "      <td>2</td>\n",
       "    </tr>\n",
       "    <tr>\n",
       "      <th>subreddit_id</th>\n",
       "      <td>t5_2qh55</td>\n",
       "      <td>t5_2qh55</td>\n",
       "      <td>t5_2qh55</td>\n",
       "    </tr>\n",
       "    <tr>\n",
       "      <th>link_id</th>\n",
       "      <td>t3_34gagr</td>\n",
       "      <td>t3_34dogt</td>\n",
       "      <td>t3_34drd4</td>\n",
       "    </tr>\n",
       "    <tr>\n",
       "      <th>name</th>\n",
       "      <td>t1_cqugc7x</td>\n",
       "      <td>t1_cqugcj4</td>\n",
       "      <td>t1_cqugcjl</td>\n",
       "    </tr>\n",
       "    <tr>\n",
       "      <th>score_hidden</th>\n",
       "      <td>0</td>\n",
       "      <td>0</td>\n",
       "      <td>0</td>\n",
       "    </tr>\n",
       "    <tr>\n",
       "      <th>subreddit</th>\n",
       "      <td>food</td>\n",
       "      <td>food</td>\n",
       "      <td>food</td>\n",
       "    </tr>\n",
       "    <tr>\n",
       "      <th>gilded</th>\n",
       "      <td>0</td>\n",
       "      <td>0</td>\n",
       "      <td>0</td>\n",
       "    </tr>\n",
       "    <tr>\n",
       "      <th>downs</th>\n",
       "      <td>0</td>\n",
       "      <td>0</td>\n",
       "      <td>0</td>\n",
       "    </tr>\n",
       "    <tr>\n",
       "      <th>author</th>\n",
       "      <td>FightWithTools</td>\n",
       "      <td>BlakShuck</td>\n",
       "      <td>westhest</td>\n",
       "    </tr>\n",
       "    <tr>\n",
       "      <th>score</th>\n",
       "      <td>4</td>\n",
       "      <td>2</td>\n",
       "      <td>2</td>\n",
       "    </tr>\n",
       "    <tr>\n",
       "      <th>body</th>\n",
       "      <td>This is true. From what I understand, the best...</td>\n",
       "      <td>This is the first 'Ulster/Belfast/Irish' fry I...</td>\n",
       "      <td>I'm not from Austria but I'm an American livin...</td>\n",
       "    </tr>\n",
       "    <tr>\n",
       "      <th>distinguished</th>\n",
       "      <td>user</td>\n",
       "      <td>user</td>\n",
       "      <td>user</td>\n",
       "    </tr>\n",
       "    <tr>\n",
       "      <th>edited</th>\n",
       "      <td>0</td>\n",
       "      <td>0</td>\n",
       "      <td>0</td>\n",
       "    </tr>\n",
       "    <tr>\n",
       "      <th>controversiality</th>\n",
       "      <td>0</td>\n",
       "      <td>0</td>\n",
       "      <td>0</td>\n",
       "    </tr>\n",
       "    <tr>\n",
       "      <th>parent_id</th>\n",
       "      <td>t3_34gagr</td>\n",
       "      <td>t1_cqtnslf</td>\n",
       "      <td>t1_cqu48b0</td>\n",
       "    </tr>\n",
       "    <tr>\n",
       "      <th>time</th>\n",
       "      <td>2015-05-01 00:02:36</td>\n",
       "      <td>2015-05-01 00:02:51</td>\n",
       "      <td>2015-05-01 00:02:52</td>\n",
       "    </tr>\n",
       "    <tr>\n",
       "      <th>time_lapse</th>\n",
       "      <td>0</td>\n",
       "      <td>0</td>\n",
       "      <td>0</td>\n",
       "    </tr>\n",
       "    <tr>\n",
       "      <th>depth</th>\n",
       "      <td>1</td>\n",
       "      <td>1</td>\n",
       "      <td>1</td>\n",
       "    </tr>\n",
       "    <tr>\n",
       "      <th>parent_score</th>\n",
       "      <td>4</td>\n",
       "      <td>4</td>\n",
       "      <td>4</td>\n",
       "    </tr>\n",
       "    <tr>\n",
       "      <th>time_since_parent</th>\n",
       "      <td>0</td>\n",
       "      <td>0</td>\n",
       "      <td>0</td>\n",
       "    </tr>\n",
       "    <tr>\n",
       "      <th>linked_sr</th>\n",
       "      <td>[]</td>\n",
       "      <td>[]</td>\n",
       "      <td>[]</td>\n",
       "    </tr>\n",
       "    <tr>\n",
       "      <th>linked_urls</th>\n",
       "      <td>[]</td>\n",
       "      <td>[]</td>\n",
       "      <td>[]</td>\n",
       "    </tr>\n",
       "    <tr>\n",
       "      <th>no_of_linked_sr</th>\n",
       "      <td>0</td>\n",
       "      <td>0</td>\n",
       "      <td>0</td>\n",
       "    </tr>\n",
       "    <tr>\n",
       "      <th>no_of_linked_urls</th>\n",
       "      <td>0</td>\n",
       "      <td>0</td>\n",
       "      <td>0</td>\n",
       "    </tr>\n",
       "    <tr>\n",
       "      <th>subjectivity</th>\n",
       "      <td>1</td>\n",
       "      <td>0</td>\n",
       "      <td>3</td>\n",
       "    </tr>\n",
       "    <tr>\n",
       "      <th>is_edited</th>\n",
       "      <td>False</td>\n",
       "      <td>False</td>\n",
       "      <td>False</td>\n",
       "    </tr>\n",
       "    <tr>\n",
       "      <th>is_quoted</th>\n",
       "      <td>False</td>\n",
       "      <td>False</td>\n",
       "      <td>False</td>\n",
       "    </tr>\n",
       "    <tr>\n",
       "      <th>no_quoted</th>\n",
       "      <td>0</td>\n",
       "      <td>0</td>\n",
       "      <td>0</td>\n",
       "    </tr>\n",
       "  </tbody>\n",
       "</table>\n",
       "</div>"
      ],
      "text/plain": [
       "                                                              732330  \\\n",
       "created_utc                                               1430438556   \n",
       "ups                                                                4   \n",
       "subreddit_id                                                t5_2qh55   \n",
       "link_id                                                    t3_34gagr   \n",
       "name                                                      t1_cqugc7x   \n",
       "score_hidden                                                       0   \n",
       "subreddit                                                       food   \n",
       "gilded                                                             0   \n",
       "downs                                                              0   \n",
       "author                                                FightWithTools   \n",
       "score                                                              4   \n",
       "body               This is true. From what I understand, the best...   \n",
       "distinguished                                                   user   \n",
       "edited                                                             0   \n",
       "controversiality                                                   0   \n",
       "parent_id                                                  t3_34gagr   \n",
       "time                                             2015-05-01 00:02:36   \n",
       "time_lapse                                                         0   \n",
       "depth                                                              1   \n",
       "parent_score                                                       4   \n",
       "time_since_parent                                                  0   \n",
       "linked_sr                                                         []   \n",
       "linked_urls                                                       []   \n",
       "no_of_linked_sr                                                    0   \n",
       "no_of_linked_urls                                                  0   \n",
       "subjectivity                                                       1   \n",
       "is_edited                                                      False   \n",
       "is_quoted                                                      False   \n",
       "no_quoted                                                          0   \n",
       "\n",
       "                                                              732331  \\\n",
       "created_utc                                               1430438571   \n",
       "ups                                                                2   \n",
       "subreddit_id                                                t5_2qh55   \n",
       "link_id                                                    t3_34dogt   \n",
       "name                                                      t1_cqugcj4   \n",
       "score_hidden                                                       0   \n",
       "subreddit                                                       food   \n",
       "gilded                                                             0   \n",
       "downs                                                              0   \n",
       "author                                                     BlakShuck   \n",
       "score                                                              2   \n",
       "body               This is the first 'Ulster/Belfast/Irish' fry I...   \n",
       "distinguished                                                   user   \n",
       "edited                                                             0   \n",
       "controversiality                                                   0   \n",
       "parent_id                                                 t1_cqtnslf   \n",
       "time                                             2015-05-01 00:02:51   \n",
       "time_lapse                                                         0   \n",
       "depth                                                              1   \n",
       "parent_score                                                       4   \n",
       "time_since_parent                                                  0   \n",
       "linked_sr                                                         []   \n",
       "linked_urls                                                       []   \n",
       "no_of_linked_sr                                                    0   \n",
       "no_of_linked_urls                                                  0   \n",
       "subjectivity                                                       0   \n",
       "is_edited                                                      False   \n",
       "is_quoted                                                      False   \n",
       "no_quoted                                                          0   \n",
       "\n",
       "                                                              732332  \n",
       "created_utc                                               1430438572  \n",
       "ups                                                                2  \n",
       "subreddit_id                                                t5_2qh55  \n",
       "link_id                                                    t3_34drd4  \n",
       "name                                                      t1_cqugcjl  \n",
       "score_hidden                                                       0  \n",
       "subreddit                                                       food  \n",
       "gilded                                                             0  \n",
       "downs                                                              0  \n",
       "author                                                      westhest  \n",
       "score                                                              2  \n",
       "body               I'm not from Austria but I'm an American livin...  \n",
       "distinguished                                                   user  \n",
       "edited                                                             0  \n",
       "controversiality                                                   0  \n",
       "parent_id                                                 t1_cqu48b0  \n",
       "time                                             2015-05-01 00:02:52  \n",
       "time_lapse                                                         0  \n",
       "depth                                                              1  \n",
       "parent_score                                                       4  \n",
       "time_since_parent                                                  0  \n",
       "linked_sr                                                         []  \n",
       "linked_urls                                                       []  \n",
       "no_of_linked_sr                                                    0  \n",
       "no_of_linked_urls                                                  0  \n",
       "subjectivity                                                       3  \n",
       "is_edited                                                      False  \n",
       "is_quoted                                                      False  \n",
       "no_quoted                                                          0  "
      ]
     },
     "execution_count": 34,
     "metadata": {},
     "output_type": "execute_result"
    }
   ],
   "source": [
    "df.head(3).T"
   ]
  },
  {
   "cell_type": "markdown",
   "metadata": {},
   "source": [
    "**Notes**\n",
    "- On average there are `0.027` subreddits mentioned per post & `0.077` URLs per post. \n",
    "- Only 3% of comments were edited.\n",
    "- subjectivity is highly skewed, maybe categorical would be better"
   ]
  },
  {
   "cell_type": "code",
   "execution_count": 35,
   "metadata": {},
   "outputs": [
    {
     "name": "stdout",
     "output_type": "stream",
     "text": [
      "Subreddit-links-per-post  0.025753461377091977\n",
      "URL-links-per-post        0.07793415808120834\n"
     ]
    }
   ],
   "source": [
    "print(f\"Subreddit-links-per-post  {sum(df.no_of_linked_sr) / len(df.body)}\")\n",
    "print(f\"URL-links-per-post        {sum(df.no_of_linked_urls) / len(df.body)}\")"
   ]
  },
  {
   "cell_type": "code",
   "execution_count": 36,
   "metadata": {
    "scrolled": true
   },
   "outputs": [
    {
     "data": {
      "text/plain": [
       "'Edited/All = 0.03422188942240455'"
      ]
     },
     "execution_count": 36,
     "metadata": {},
     "output_type": "execute_result"
    }
   ],
   "source": [
    "f\"Edited/All = {sum(df.is_edited) / len(df.is_edited)}\""
   ]
  },
  {
   "cell_type": "markdown",
   "metadata": {},
   "source": [
    "Here is a list of the subreddits most referred to – "
   ]
  },
  {
   "cell_type": "code",
   "execution_count": 37,
   "metadata": {},
   "outputs": [
    {
     "data": {
      "text/plain": [
       "[('worldnews', 4946),\n",
       " ('worldnews)', 2796),\n",
       " ('worldnews.', 2489),\n",
       " ('help', 2387),\n",
       " ('worldnews](http:', 2387),\n",
       " ('food),', 1594),\n",
       " ('gaming', 1435),\n",
       " ('food)', 1283),\n",
       " ('movies', 1225),\n",
       " ('science', 1044),\n",
       " ('movies)', 467),\n",
       " ('EverythingScience.', 459),\n",
       " ('AutoModerator', 452),\n",
       " ('conspiracy', 241),\n",
       " ('science.', 206)]"
      ]
     },
     "execution_count": 37,
     "metadata": {},
     "output_type": "execute_result"
    }
   ],
   "source": [
    "top_sr_links.most_common(15)"
   ]
  },
  {
   "cell_type": "markdown",
   "metadata": {},
   "source": [
    "Here is a list of the URLs most referred to – "
   ]
  },
  {
   "cell_type": "code",
   "execution_count": 38,
   "metadata": {},
   "outputs": [
    {
     "data": {
      "text/plain": [
       "[('reddit', 20232),\n",
       " ('youtube', 14216),\n",
       " ('wikipedia', 11078),\n",
       " ('imgur', 8154),\n",
       " ('youtu', 3616),\n",
       " ('redditblog', 2393),\n",
       " ('imdb', 2132),\n",
       " ('co', 1811),\n",
       " ('theguardian', 823),\n",
       " ('google', 733),\n",
       " ('github', 606),\n",
       " ('wordpress', 556),\n",
       " ('nytimes', 508),\n",
       " ('twitter', 432),\n",
       " ('amazon', 425)]"
      ]
     },
     "execution_count": 38,
     "metadata": {},
     "output_type": "execute_result"
    }
   ],
   "source": [
    "top_url_links.most_common(15)"
   ]
  },
  {
   "cell_type": "code",
   "execution_count": 39,
   "metadata": {},
   "outputs": [
    {
     "data": {
      "image/png": "[encoded data removed]",
      "text/plain": [
       "<matplotlib.figure.Figure at 0x1b06ff9d30>"
      ]
     },
     "metadata": {},
     "output_type": "display_data"
    }
   ],
   "source": [
    "df.subjectivity.hist(bins=100)\n",
    "plt.show()"
   ]
  },
  {
   "cell_type": "code",
   "execution_count": 40,
   "metadata": {},
   "outputs": [
    {
     "data": {
      "text/html": [
       "<div>\n",
       "<style scoped>\n",
       "    .dataframe tbody tr th:only-of-type {\n",
       "        vertical-align: middle;\n",
       "    }\n",
       "\n",
       "    .dataframe tbody tr th {\n",
       "        vertical-align: top;\n",
       "    }\n",
       "\n",
       "    .dataframe thead th {\n",
       "        text-align: right;\n",
       "    }\n",
       "</style>\n",
       "<table border=\"1\" class=\"dataframe\">\n",
       "  <thead>\n",
       "    <tr style=\"text-align: right;\">\n",
       "      <th></th>\n",
       "      <th>732330</th>\n",
       "      <th>732331</th>\n",
       "      <th>732332</th>\n",
       "    </tr>\n",
       "  </thead>\n",
       "  <tbody>\n",
       "    <tr>\n",
       "      <th>created_utc</th>\n",
       "      <td>1430438556</td>\n",
       "      <td>1430438571</td>\n",
       "      <td>1430438572</td>\n",
       "    </tr>\n",
       "    <tr>\n",
       "      <th>ups</th>\n",
       "      <td>4</td>\n",
       "      <td>2</td>\n",
       "      <td>2</td>\n",
       "    </tr>\n",
       "    <tr>\n",
       "      <th>subreddit_id</th>\n",
       "      <td>t5_2qh55</td>\n",
       "      <td>t5_2qh55</td>\n",
       "      <td>t5_2qh55</td>\n",
       "    </tr>\n",
       "    <tr>\n",
       "      <th>link_id</th>\n",
       "      <td>t3_34gagr</td>\n",
       "      <td>t3_34dogt</td>\n",
       "      <td>t3_34drd4</td>\n",
       "    </tr>\n",
       "    <tr>\n",
       "      <th>name</th>\n",
       "      <td>t1_cqugc7x</td>\n",
       "      <td>t1_cqugcj4</td>\n",
       "      <td>t1_cqugcjl</td>\n",
       "    </tr>\n",
       "    <tr>\n",
       "      <th>score_hidden</th>\n",
       "      <td>0</td>\n",
       "      <td>0</td>\n",
       "      <td>0</td>\n",
       "    </tr>\n",
       "    <tr>\n",
       "      <th>subreddit</th>\n",
       "      <td>food</td>\n",
       "      <td>food</td>\n",
       "      <td>food</td>\n",
       "    </tr>\n",
       "    <tr>\n",
       "      <th>gilded</th>\n",
       "      <td>0</td>\n",
       "      <td>0</td>\n",
       "      <td>0</td>\n",
       "    </tr>\n",
       "    <tr>\n",
       "      <th>downs</th>\n",
       "      <td>0</td>\n",
       "      <td>0</td>\n",
       "      <td>0</td>\n",
       "    </tr>\n",
       "    <tr>\n",
       "      <th>author</th>\n",
       "      <td>FightWithTools</td>\n",
       "      <td>BlakShuck</td>\n",
       "      <td>westhest</td>\n",
       "    </tr>\n",
       "    <tr>\n",
       "      <th>score</th>\n",
       "      <td>4</td>\n",
       "      <td>2</td>\n",
       "      <td>2</td>\n",
       "    </tr>\n",
       "    <tr>\n",
       "      <th>body</th>\n",
       "      <td>This is true. From what I understand, the best...</td>\n",
       "      <td>This is the first 'Ulster/Belfast/Irish' fry I...</td>\n",
       "      <td>I'm not from Austria but I'm an American livin...</td>\n",
       "    </tr>\n",
       "    <tr>\n",
       "      <th>distinguished</th>\n",
       "      <td>user</td>\n",
       "      <td>user</td>\n",
       "      <td>user</td>\n",
       "    </tr>\n",
       "    <tr>\n",
       "      <th>edited</th>\n",
       "      <td>0</td>\n",
       "      <td>0</td>\n",
       "      <td>0</td>\n",
       "    </tr>\n",
       "    <tr>\n",
       "      <th>controversiality</th>\n",
       "      <td>0</td>\n",
       "      <td>0</td>\n",
       "      <td>0</td>\n",
       "    </tr>\n",
       "    <tr>\n",
       "      <th>parent_id</th>\n",
       "      <td>t3_34gagr</td>\n",
       "      <td>t1_cqtnslf</td>\n",
       "      <td>t1_cqu48b0</td>\n",
       "    </tr>\n",
       "    <tr>\n",
       "      <th>time</th>\n",
       "      <td>2015-05-01 00:02:36</td>\n",
       "      <td>2015-05-01 00:02:51</td>\n",
       "      <td>2015-05-01 00:02:52</td>\n",
       "    </tr>\n",
       "    <tr>\n",
       "      <th>time_lapse</th>\n",
       "      <td>0</td>\n",
       "      <td>0</td>\n",
       "      <td>0</td>\n",
       "    </tr>\n",
       "    <tr>\n",
       "      <th>depth</th>\n",
       "      <td>1</td>\n",
       "      <td>1</td>\n",
       "      <td>1</td>\n",
       "    </tr>\n",
       "    <tr>\n",
       "      <th>parent_score</th>\n",
       "      <td>4</td>\n",
       "      <td>4</td>\n",
       "      <td>4</td>\n",
       "    </tr>\n",
       "    <tr>\n",
       "      <th>time_since_parent</th>\n",
       "      <td>0</td>\n",
       "      <td>0</td>\n",
       "      <td>0</td>\n",
       "    </tr>\n",
       "    <tr>\n",
       "      <th>linked_sr</th>\n",
       "      <td>[]</td>\n",
       "      <td>[]</td>\n",
       "      <td>[]</td>\n",
       "    </tr>\n",
       "    <tr>\n",
       "      <th>linked_urls</th>\n",
       "      <td>[]</td>\n",
       "      <td>[]</td>\n",
       "      <td>[]</td>\n",
       "    </tr>\n",
       "    <tr>\n",
       "      <th>no_of_linked_sr</th>\n",
       "      <td>0</td>\n",
       "      <td>0</td>\n",
       "      <td>0</td>\n",
       "    </tr>\n",
       "    <tr>\n",
       "      <th>no_of_linked_urls</th>\n",
       "      <td>0</td>\n",
       "      <td>0</td>\n",
       "      <td>0</td>\n",
       "    </tr>\n",
       "    <tr>\n",
       "      <th>subjectivity</th>\n",
       "      <td>1</td>\n",
       "      <td>0</td>\n",
       "      <td>3</td>\n",
       "    </tr>\n",
       "    <tr>\n",
       "      <th>is_edited</th>\n",
       "      <td>False</td>\n",
       "      <td>False</td>\n",
       "      <td>False</td>\n",
       "    </tr>\n",
       "    <tr>\n",
       "      <th>is_quoted</th>\n",
       "      <td>False</td>\n",
       "      <td>False</td>\n",
       "      <td>False</td>\n",
       "    </tr>\n",
       "    <tr>\n",
       "      <th>no_quoted</th>\n",
       "      <td>0</td>\n",
       "      <td>0</td>\n",
       "      <td>0</td>\n",
       "    </tr>\n",
       "  </tbody>\n",
       "</table>\n",
       "</div>"
      ],
      "text/plain": [
       "                                                              732330  \\\n",
       "created_utc                                               1430438556   \n",
       "ups                                                                4   \n",
       "subreddit_id                                                t5_2qh55   \n",
       "link_id                                                    t3_34gagr   \n",
       "name                                                      t1_cqugc7x   \n",
       "score_hidden                                                       0   \n",
       "subreddit                                                       food   \n",
       "gilded                                                             0   \n",
       "downs                                                              0   \n",
       "author                                                FightWithTools   \n",
       "score                                                              4   \n",
       "body               This is true. From what I understand, the best...   \n",
       "distinguished                                                   user   \n",
       "edited                                                             0   \n",
       "controversiality                                                   0   \n",
       "parent_id                                                  t3_34gagr   \n",
       "time                                             2015-05-01 00:02:36   \n",
       "time_lapse                                                         0   \n",
       "depth                                                              1   \n",
       "parent_score                                                       4   \n",
       "time_since_parent                                                  0   \n",
       "linked_sr                                                         []   \n",
       "linked_urls                                                       []   \n",
       "no_of_linked_sr                                                    0   \n",
       "no_of_linked_urls                                                  0   \n",
       "subjectivity                                                       1   \n",
       "is_edited                                                      False   \n",
       "is_quoted                                                      False   \n",
       "no_quoted                                                          0   \n",
       "\n",
       "                                                              732331  \\\n",
       "created_utc                                               1430438571   \n",
       "ups                                                                2   \n",
       "subreddit_id                                                t5_2qh55   \n",
       "link_id                                                    t3_34dogt   \n",
       "name                                                      t1_cqugcj4   \n",
       "score_hidden                                                       0   \n",
       "subreddit                                                       food   \n",
       "gilded                                                             0   \n",
       "downs                                                              0   \n",
       "author                                                     BlakShuck   \n",
       "score                                                              2   \n",
       "body               This is the first 'Ulster/Belfast/Irish' fry I...   \n",
       "distinguished                                                   user   \n",
       "edited                                                             0   \n",
       "controversiality                                                   0   \n",
       "parent_id                                                 t1_cqtnslf   \n",
       "time                                             2015-05-01 00:02:51   \n",
       "time_lapse                                                         0   \n",
       "depth                                                              1   \n",
       "parent_score                                                       4   \n",
       "time_since_parent                                                  0   \n",
       "linked_sr                                                         []   \n",
       "linked_urls                                                       []   \n",
       "no_of_linked_sr                                                    0   \n",
       "no_of_linked_urls                                                  0   \n",
       "subjectivity                                                       0   \n",
       "is_edited                                                      False   \n",
       "is_quoted                                                      False   \n",
       "no_quoted                                                          0   \n",
       "\n",
       "                                                              732332  \n",
       "created_utc                                               1430438572  \n",
       "ups                                                                2  \n",
       "subreddit_id                                                t5_2qh55  \n",
       "link_id                                                    t3_34drd4  \n",
       "name                                                      t1_cqugcjl  \n",
       "score_hidden                                                       0  \n",
       "subreddit                                                       food  \n",
       "gilded                                                             0  \n",
       "downs                                                              0  \n",
       "author                                                      westhest  \n",
       "score                                                              2  \n",
       "body               I'm not from Austria but I'm an American livin...  \n",
       "distinguished                                                   user  \n",
       "edited                                                             0  \n",
       "controversiality                                                   0  \n",
       "parent_id                                                 t1_cqu48b0  \n",
       "time                                             2015-05-01 00:02:52  \n",
       "time_lapse                                                         0  \n",
       "depth                                                              1  \n",
       "parent_score                                                       4  \n",
       "time_since_parent                                                  0  \n",
       "linked_sr                                                         []  \n",
       "linked_urls                                                       []  \n",
       "no_of_linked_sr                                                    0  \n",
       "no_of_linked_urls                                                  0  \n",
       "subjectivity                                                       3  \n",
       "is_edited                                                      False  \n",
       "is_quoted                                                      False  \n",
       "no_quoted                                                          0  "
      ]
     },
     "execution_count": 40,
     "metadata": {},
     "output_type": "execute_result"
    }
   ],
   "source": [
    "df.head(3).T"
   ]
  },
  {
   "cell_type": "markdown",
   "metadata": {},
   "source": [
    "## Sentiment Based Features"
   ]
  },
  {
   "cell_type": "markdown",
   "metadata": {},
   "source": [
    "This cell will take a few minutes to run.\n",
    "-  `senti_neg`: negative score of comment\n",
    "- `senti_neu`: neutral score of comment\n",
    "- `senti_pos`: positive score of comment\n",
    "- `senti_comp`: compound score of comment"
   ]
  },
  {
   "cell_type": "code",
   "execution_count": 41,
   "metadata": {},
   "outputs": [
    {
     "name": "stderr",
     "output_type": "stream",
     "text": [
      "/anaconda3/lib/python3.6/site-packages/requests/__init__.py:80: RequestsDependencyWarning: urllib3 (1.24.1) or chardet (3.0.4) doesn't match a supported version!\n",
      "  RequestsDependencyWarning)\n",
      "Process ForkPoolWorker-3:\n",
      "Process ForkPoolWorker-1:\n",
      "Process ForkPoolWorker-2:\n",
      "Process ForkPoolWorker-4:\n",
      "Traceback (most recent call last):\n",
      "Traceback (most recent call last):\n",
      "Traceback (most recent call last):\n",
      "Traceback (most recent call last):\n",
      "  File \"/anaconda3/lib/python3.6/multiprocessing/process.py\", line 258, in _bootstrap\n",
      "    self.run()\n",
      "  File \"/anaconda3/lib/python3.6/multiprocessing/process.py\", line 258, in _bootstrap\n",
      "    self.run()\n",
      "  File \"/anaconda3/lib/python3.6/multiprocessing/process.py\", line 258, in _bootstrap\n",
      "    self.run()\n",
      "  File \"/anaconda3/lib/python3.6/multiprocessing/process.py\", line 258, in _bootstrap\n",
      "    self.run()\n",
      "  File \"/anaconda3/lib/python3.6/multiprocessing/process.py\", line 93, in run\n",
      "    self._target(*self._args, **self._kwargs)\n",
      "  File \"/anaconda3/lib/python3.6/multiprocessing/process.py\", line 93, in run\n",
      "    self._target(*self._args, **self._kwargs)\n",
      "  File \"/anaconda3/lib/python3.6/multiprocessing/process.py\", line 93, in run\n",
      "    self._target(*self._args, **self._kwargs)\n",
      "  File \"/anaconda3/lib/python3.6/multiprocessing/pool.py\", line 119, in worker\n",
      "    result = (True, func(*args, **kwds))\n",
      "  File \"/anaconda3/lib/python3.6/multiprocessing/pool.py\", line 119, in worker\n",
      "    result = (True, func(*args, **kwds))\n",
      "  File \"/anaconda3/lib/python3.6/multiprocessing/process.py\", line 93, in run\n",
      "    self._target(*self._args, **self._kwargs)\n",
      "  File \"/anaconda3/lib/python3.6/multiprocessing/pool.py\", line 119, in worker\n",
      "    result = (True, func(*args, **kwds))\n",
      "  File \"/anaconda3/lib/python3.6/multiprocessing/pool.py\", line 44, in mapstar\n",
      "    return list(map(*args))\n",
      "  File \"/anaconda3/lib/python3.6/multiprocessing/pool.py\", line 44, in mapstar\n",
      "    return list(map(*args))\n",
      "  File \"/anaconda3/lib/python3.6/multiprocessing/pool.py\", line 119, in worker\n",
      "    result = (True, func(*args, **kwds))\n",
      "  File \"/anaconda3/lib/python3.6/multiprocessing/pool.py\", line 44, in mapstar\n",
      "    return list(map(*args))\n",
      "  File \"<ipython-input-41-b42ea318d3cd>\", line 12, in wrapper_get_sentiment\n",
      "    df['sentiment'] = df['body'].apply(get_sentiment)\n",
      "  File \"<ipython-input-41-b42ea318d3cd>\", line 12, in wrapper_get_sentiment\n",
      "    df['sentiment'] = df['body'].apply(get_sentiment)\n",
      "  File \"/anaconda3/lib/python3.6/multiprocessing/pool.py\", line 44, in mapstar\n",
      "    return list(map(*args))\n",
      "  File \"/anaconda3/lib/python3.6/site-packages/pandas/core/series.py\", line 3194, in apply\n",
      "    mapped = lib.map_infer(values, f, convert=convert_dtype)\n",
      "  File \"<ipython-input-41-b42ea318d3cd>\", line 12, in wrapper_get_sentiment\n",
      "    df['sentiment'] = df['body'].apply(get_sentiment)\n",
      "  File \"pandas/_libs/src/inference.pyx\", line 1472, in pandas._libs.lib.map_infer\n",
      "  File \"<ipython-input-41-b42ea318d3cd>\", line 12, in wrapper_get_sentiment\n",
      "    df['sentiment'] = df['body'].apply(get_sentiment)\n",
      "  File \"/anaconda3/lib/python3.6/site-packages/pandas/core/series.py\", line 3194, in apply\n",
      "    mapped = lib.map_infer(values, f, convert=convert_dtype)\n",
      "  File \"/anaconda3/lib/python3.6/site-packages/pandas/core/series.py\", line 3194, in apply\n",
      "    mapped = lib.map_infer(values, f, convert=convert_dtype)\n",
      "  File \"pandas/_libs/src/inference.pyx\", line 1472, in pandas._libs.lib.map_infer\n",
      "  File \"/anaconda3/lib/python3.6/site-packages/pandas/core/series.py\", line 3194, in apply\n",
      "    mapped = lib.map_infer(values, f, convert=convert_dtype)\n",
      "  File \"<ipython-input-41-b42ea318d3cd>\", line 8, in get_sentiment\n",
      "    return analyser.polarity_scores(x)\n",
      "  File \"pandas/_libs/src/inference.pyx\", line 1472, in pandas._libs.lib.map_infer\n",
      "  File \"/anaconda3/lib/python3.6/site-packages/vaderSentiment/vaderSentiment.py\", line 259, in polarity_scores\n",
      "    sentitext = SentiText(text)\n",
      "  File \"pandas/_libs/src/inference.pyx\", line 1472, in pandas._libs.lib.map_infer\n",
      "  File \"<ipython-input-41-b42ea318d3cd>\", line 8, in get_sentiment\n",
      "    return analyser.polarity_scores(x)\n",
      "  File \"<ipython-input-41-b42ea318d3cd>\", line 8, in get_sentiment\n",
      "    return analyser.polarity_scores(x)\n",
      "  File \"<ipython-input-41-b42ea318d3cd>\", line 8, in get_sentiment\n",
      "    return analyser.polarity_scores(x)\n",
      "  File \"/anaconda3/lib/python3.6/site-packages/vaderSentiment/vaderSentiment.py\", line 164, in __init__\n",
      "    self.words_and_emoticons = self._words_and_emoticons()\n",
      "  File \"/anaconda3/lib/python3.6/site-packages/vaderSentiment/vaderSentiment.py\", line 259, in polarity_scores\n",
      "    sentitext = SentiText(text)\n",
      "  File \"/anaconda3/lib/python3.6/site-packages/vaderSentiment/vaderSentiment.py\", line 259, in polarity_scores\n",
      "    sentitext = SentiText(text)\n",
      "  File \"/anaconda3/lib/python3.6/site-packages/vaderSentiment/vaderSentiment.py\", line 256, in polarity_scores\n",
      "    text_no_emoji_lst.append(token)\n",
      "  File \"/anaconda3/lib/python3.6/site-packages/vaderSentiment/vaderSentiment.py\", line 164, in __init__\n",
      "    self.words_and_emoticons = self._words_and_emoticons()\n",
      "  File \"/anaconda3/lib/python3.6/site-packages/vaderSentiment/vaderSentiment.py\", line 164, in __init__\n",
      "    self.words_and_emoticons = self._words_and_emoticons()\n",
      "  File \"/anaconda3/lib/python3.6/site-packages/vaderSentiment/vaderSentiment.py\", line 196, in _words_and_emoticons\n",
      "    words_punc_dict = self._words_plus_punc()\n",
      "KeyboardInterrupt\n",
      "  File \"/anaconda3/lib/python3.6/site-packages/vaderSentiment/vaderSentiment.py\", line 196, in _words_and_emoticons\n",
      "    words_punc_dict = self._words_plus_punc()\n",
      "  File \"/anaconda3/lib/python3.6/site-packages/vaderSentiment/vaderSentiment.py\", line 196, in _words_and_emoticons\n",
      "    words_punc_dict = self._words_plus_punc()\n",
      "  File \"/anaconda3/lib/python3.6/site-packages/vaderSentiment/vaderSentiment.py\", line 183, in _words_plus_punc\n",
      "    punc_before = {''.join(p): p[1] for p in product(PUNC_LIST, words_only)}\n",
      "  File \"/anaconda3/lib/python3.6/site-packages/vaderSentiment/vaderSentiment.py\", line 183, in _words_plus_punc\n",
      "    punc_before = {''.join(p): p[1] for p in product(PUNC_LIST, words_only)}\n",
      "  File \"/anaconda3/lib/python3.6/site-packages/vaderSentiment/vaderSentiment.py\", line 183, in <dictcomp>\n",
      "    punc_before = {''.join(p): p[1] for p in product(PUNC_LIST, words_only)}\n",
      "  File \"/anaconda3/lib/python3.6/site-packages/vaderSentiment/vaderSentiment.py\", line 183, in <dictcomp>\n",
      "    punc_before = {''.join(p): p[1] for p in product(PUNC_LIST, words_only)}\n",
      "  File \"/anaconda3/lib/python3.6/site-packages/vaderSentiment/vaderSentiment.py\", line 183, in _words_plus_punc\n",
      "    punc_before = {''.join(p): p[1] for p in product(PUNC_LIST, words_only)}\n",
      "KeyboardInterrupt\n",
      "KeyboardInterrupt\n",
      "  File \"/anaconda3/lib/python3.6/site-packages/vaderSentiment/vaderSentiment.py\", line 183, in <dictcomp>\n",
      "    punc_before = {''.join(p): p[1] for p in product(PUNC_LIST, words_only)}\n",
      "KeyboardInterrupt\n"
     ]
    },
    {
     "ename": "KeyboardInterrupt",
     "evalue": "",
     "output_type": "error",
     "traceback": [
      "\u001b[0;31m---------------------------------------------------------------------------\u001b[0m",
      "\u001b[0;31mKeyboardInterrupt\u001b[0m                         Traceback (most recent call last)",
      "\u001b[0;32m<ipython-input-41-b42ea318d3cd>\u001b[0m in \u001b[0;36m<module>\u001b[0;34m()\u001b[0m\n\u001b[1;32m     25\u001b[0m \u001b[0;34m\u001b[0m\u001b[0m\n\u001b[1;32m     26\u001b[0m \u001b[0;31m# add a column for each score to our data\u001b[0m\u001b[0;34m\u001b[0m\u001b[0;34m\u001b[0m\u001b[0m\n\u001b[0;32m---> 27\u001b[0;31m \u001b[0msentiment\u001b[0m \u001b[0;34m=\u001b[0m \u001b[0mparallelize_dataframe\u001b[0m\u001b[0;34m(\u001b[0m\u001b[0mdf\u001b[0m\u001b[0;34m[\u001b[0m\u001b[0;34m'body'\u001b[0m\u001b[0;34m]\u001b[0m\u001b[0;34m.\u001b[0m\u001b[0mto_frame\u001b[0m\u001b[0;34m(\u001b[0m\u001b[0;34m)\u001b[0m\u001b[0;34m,\u001b[0m \u001b[0mwrapper_get_sentiment\u001b[0m\u001b[0;34m)\u001b[0m\u001b[0;34m\u001b[0m\u001b[0m\n\u001b[0m\u001b[1;32m     28\u001b[0m \u001b[0msentiment\u001b[0m\u001b[0;34m.\u001b[0m\u001b[0mdrop\u001b[0m\u001b[0;34m(\u001b[0m\u001b[0;34m[\u001b[0m\u001b[0;34m'body'\u001b[0m\u001b[0;34m]\u001b[0m\u001b[0;34m,\u001b[0m \u001b[0maxis\u001b[0m\u001b[0;34m=\u001b[0m\u001b[0;36m1\u001b[0m\u001b[0;34m,\u001b[0m \u001b[0minplace\u001b[0m\u001b[0;34m=\u001b[0m\u001b[0;32mTrue\u001b[0m\u001b[0;34m)\u001b[0m\u001b[0;34m\u001b[0m\u001b[0m\n\u001b[1;32m     29\u001b[0m \u001b[0mdf\u001b[0m\u001b[0;34m[\u001b[0m\u001b[0;34m'senti_neg'\u001b[0m\u001b[0;34m]\u001b[0m \u001b[0;34m=\u001b[0m \u001b[0msentiment\u001b[0m\u001b[0;34m[\u001b[0m\u001b[0;34m'sentiment'\u001b[0m\u001b[0;34m]\u001b[0m\u001b[0;34m.\u001b[0m\u001b[0mapply\u001b[0m\u001b[0;34m(\u001b[0m\u001b[0;32mlambda\u001b[0m \u001b[0mx\u001b[0m\u001b[0;34m:\u001b[0m \u001b[0mx\u001b[0m\u001b[0;34m[\u001b[0m\u001b[0;34m'neg'\u001b[0m\u001b[0;34m]\u001b[0m\u001b[0;34m)\u001b[0m\u001b[0;34m\u001b[0m\u001b[0m\n",
      "\u001b[0;32m<ipython-input-41-b42ea318d3cd>\u001b[0m in \u001b[0;36mparallelize_dataframe\u001b[0;34m(df, func)\u001b[0m\n\u001b[1;32m     19\u001b[0m     \u001b[0mdf_split\u001b[0m \u001b[0;34m=\u001b[0m \u001b[0mnp\u001b[0m\u001b[0;34m.\u001b[0m\u001b[0marray_split\u001b[0m\u001b[0;34m(\u001b[0m\u001b[0mdf\u001b[0m\u001b[0;34m,\u001b[0m \u001b[0mnum_partitions\u001b[0m\u001b[0;34m)\u001b[0m\u001b[0;34m\u001b[0m\u001b[0m\n\u001b[1;32m     20\u001b[0m     \u001b[0mpool\u001b[0m \u001b[0;34m=\u001b[0m \u001b[0mPool\u001b[0m\u001b[0;34m(\u001b[0m\u001b[0mnum_cores\u001b[0m\u001b[0;34m)\u001b[0m\u001b[0;34m\u001b[0m\u001b[0m\n\u001b[0;32m---> 21\u001b[0;31m     \u001b[0mdf\u001b[0m \u001b[0;34m=\u001b[0m \u001b[0mpd\u001b[0m\u001b[0;34m.\u001b[0m\u001b[0mconcat\u001b[0m\u001b[0;34m(\u001b[0m\u001b[0mpool\u001b[0m\u001b[0;34m.\u001b[0m\u001b[0mmap\u001b[0m\u001b[0;34m(\u001b[0m\u001b[0mfunc\u001b[0m\u001b[0;34m,\u001b[0m \u001b[0mdf_split\u001b[0m\u001b[0;34m)\u001b[0m\u001b[0;34m)\u001b[0m\u001b[0;34m\u001b[0m\u001b[0m\n\u001b[0m\u001b[1;32m     22\u001b[0m     \u001b[0mpool\u001b[0m\u001b[0;34m.\u001b[0m\u001b[0mclose\u001b[0m\u001b[0;34m(\u001b[0m\u001b[0;34m)\u001b[0m\u001b[0;34m\u001b[0m\u001b[0m\n\u001b[1;32m     23\u001b[0m     \u001b[0mpool\u001b[0m\u001b[0;34m.\u001b[0m\u001b[0mjoin\u001b[0m\u001b[0;34m(\u001b[0m\u001b[0;34m)\u001b[0m\u001b[0;34m\u001b[0m\u001b[0m\n",
      "\u001b[0;32m/anaconda3/lib/python3.6/multiprocessing/pool.py\u001b[0m in \u001b[0;36mmap\u001b[0;34m(self, func, iterable, chunksize)\u001b[0m\n\u001b[1;32m    264\u001b[0m         \u001b[0;32min\u001b[0m \u001b[0ma\u001b[0m \u001b[0mlist\u001b[0m \u001b[0mthat\u001b[0m \u001b[0;32mis\u001b[0m \u001b[0mreturned\u001b[0m\u001b[0;34m.\u001b[0m\u001b[0;34m\u001b[0m\u001b[0m\n\u001b[1;32m    265\u001b[0m         '''\n\u001b[0;32m--> 266\u001b[0;31m         \u001b[0;32mreturn\u001b[0m \u001b[0mself\u001b[0m\u001b[0;34m.\u001b[0m\u001b[0m_map_async\u001b[0m\u001b[0;34m(\u001b[0m\u001b[0mfunc\u001b[0m\u001b[0;34m,\u001b[0m \u001b[0miterable\u001b[0m\u001b[0;34m,\u001b[0m \u001b[0mmapstar\u001b[0m\u001b[0;34m,\u001b[0m \u001b[0mchunksize\u001b[0m\u001b[0;34m)\u001b[0m\u001b[0;34m.\u001b[0m\u001b[0mget\u001b[0m\u001b[0;34m(\u001b[0m\u001b[0;34m)\u001b[0m\u001b[0;34m\u001b[0m\u001b[0m\n\u001b[0m\u001b[1;32m    267\u001b[0m \u001b[0;34m\u001b[0m\u001b[0m\n\u001b[1;32m    268\u001b[0m     \u001b[0;32mdef\u001b[0m \u001b[0mstarmap\u001b[0m\u001b[0;34m(\u001b[0m\u001b[0mself\u001b[0m\u001b[0;34m,\u001b[0m \u001b[0mfunc\u001b[0m\u001b[0;34m,\u001b[0m \u001b[0miterable\u001b[0m\u001b[0;34m,\u001b[0m \u001b[0mchunksize\u001b[0m\u001b[0;34m=\u001b[0m\u001b[0;32mNone\u001b[0m\u001b[0;34m)\u001b[0m\u001b[0;34m:\u001b[0m\u001b[0;34m\u001b[0m\u001b[0m\n",
      "\u001b[0;32m/anaconda3/lib/python3.6/multiprocessing/pool.py\u001b[0m in \u001b[0;36mget\u001b[0;34m(self, timeout)\u001b[0m\n\u001b[1;32m    636\u001b[0m \u001b[0;34m\u001b[0m\u001b[0m\n\u001b[1;32m    637\u001b[0m     \u001b[0;32mdef\u001b[0m \u001b[0mget\u001b[0m\u001b[0;34m(\u001b[0m\u001b[0mself\u001b[0m\u001b[0;34m,\u001b[0m \u001b[0mtimeout\u001b[0m\u001b[0;34m=\u001b[0m\u001b[0;32mNone\u001b[0m\u001b[0;34m)\u001b[0m\u001b[0;34m:\u001b[0m\u001b[0;34m\u001b[0m\u001b[0m\n\u001b[0;32m--> 638\u001b[0;31m         \u001b[0mself\u001b[0m\u001b[0;34m.\u001b[0m\u001b[0mwait\u001b[0m\u001b[0;34m(\u001b[0m\u001b[0mtimeout\u001b[0m\u001b[0;34m)\u001b[0m\u001b[0;34m\u001b[0m\u001b[0m\n\u001b[0m\u001b[1;32m    639\u001b[0m         \u001b[0;32mif\u001b[0m \u001b[0;32mnot\u001b[0m \u001b[0mself\u001b[0m\u001b[0;34m.\u001b[0m\u001b[0mready\u001b[0m\u001b[0;34m(\u001b[0m\u001b[0;34m)\u001b[0m\u001b[0;34m:\u001b[0m\u001b[0;34m\u001b[0m\u001b[0m\n\u001b[1;32m    640\u001b[0m             \u001b[0;32mraise\u001b[0m \u001b[0mTimeoutError\u001b[0m\u001b[0;34m\u001b[0m\u001b[0m\n",
      "\u001b[0;32m/anaconda3/lib/python3.6/multiprocessing/pool.py\u001b[0m in \u001b[0;36mwait\u001b[0;34m(self, timeout)\u001b[0m\n\u001b[1;32m    633\u001b[0m \u001b[0;34m\u001b[0m\u001b[0m\n\u001b[1;32m    634\u001b[0m     \u001b[0;32mdef\u001b[0m \u001b[0mwait\u001b[0m\u001b[0;34m(\u001b[0m\u001b[0mself\u001b[0m\u001b[0;34m,\u001b[0m \u001b[0mtimeout\u001b[0m\u001b[0;34m=\u001b[0m\u001b[0;32mNone\u001b[0m\u001b[0;34m)\u001b[0m\u001b[0;34m:\u001b[0m\u001b[0;34m\u001b[0m\u001b[0m\n\u001b[0;32m--> 635\u001b[0;31m         \u001b[0mself\u001b[0m\u001b[0;34m.\u001b[0m\u001b[0m_event\u001b[0m\u001b[0;34m.\u001b[0m\u001b[0mwait\u001b[0m\u001b[0;34m(\u001b[0m\u001b[0mtimeout\u001b[0m\u001b[0;34m)\u001b[0m\u001b[0;34m\u001b[0m\u001b[0m\n\u001b[0m\u001b[1;32m    636\u001b[0m \u001b[0;34m\u001b[0m\u001b[0m\n\u001b[1;32m    637\u001b[0m     \u001b[0;32mdef\u001b[0m \u001b[0mget\u001b[0m\u001b[0;34m(\u001b[0m\u001b[0mself\u001b[0m\u001b[0;34m,\u001b[0m \u001b[0mtimeout\u001b[0m\u001b[0;34m=\u001b[0m\u001b[0;32mNone\u001b[0m\u001b[0;34m)\u001b[0m\u001b[0;34m:\u001b[0m\u001b[0;34m\u001b[0m\u001b[0m\n",
      "\u001b[0;32m/anaconda3/lib/python3.6/threading.py\u001b[0m in \u001b[0;36mwait\u001b[0;34m(self, timeout)\u001b[0m\n\u001b[1;32m    549\u001b[0m             \u001b[0msignaled\u001b[0m \u001b[0;34m=\u001b[0m \u001b[0mself\u001b[0m\u001b[0;34m.\u001b[0m\u001b[0m_flag\u001b[0m\u001b[0;34m\u001b[0m\u001b[0m\n\u001b[1;32m    550\u001b[0m             \u001b[0;32mif\u001b[0m \u001b[0;32mnot\u001b[0m \u001b[0msignaled\u001b[0m\u001b[0;34m:\u001b[0m\u001b[0;34m\u001b[0m\u001b[0m\n\u001b[0;32m--> 551\u001b[0;31m                 \u001b[0msignaled\u001b[0m \u001b[0;34m=\u001b[0m \u001b[0mself\u001b[0m\u001b[0;34m.\u001b[0m\u001b[0m_cond\u001b[0m\u001b[0;34m.\u001b[0m\u001b[0mwait\u001b[0m\u001b[0;34m(\u001b[0m\u001b[0mtimeout\u001b[0m\u001b[0;34m)\u001b[0m\u001b[0;34m\u001b[0m\u001b[0m\n\u001b[0m\u001b[1;32m    552\u001b[0m             \u001b[0;32mreturn\u001b[0m \u001b[0msignaled\u001b[0m\u001b[0;34m\u001b[0m\u001b[0m\n\u001b[1;32m    553\u001b[0m \u001b[0;34m\u001b[0m\u001b[0m\n",
      "\u001b[0;32m/anaconda3/lib/python3.6/threading.py\u001b[0m in \u001b[0;36mwait\u001b[0;34m(self, timeout)\u001b[0m\n\u001b[1;32m    293\u001b[0m         \u001b[0;32mtry\u001b[0m\u001b[0;34m:\u001b[0m    \u001b[0;31m# restore state no matter what (e.g., KeyboardInterrupt)\u001b[0m\u001b[0;34m\u001b[0m\u001b[0m\n\u001b[1;32m    294\u001b[0m             \u001b[0;32mif\u001b[0m \u001b[0mtimeout\u001b[0m \u001b[0;32mis\u001b[0m \u001b[0;32mNone\u001b[0m\u001b[0;34m:\u001b[0m\u001b[0;34m\u001b[0m\u001b[0m\n\u001b[0;32m--> 295\u001b[0;31m                 \u001b[0mwaiter\u001b[0m\u001b[0;34m.\u001b[0m\u001b[0macquire\u001b[0m\u001b[0;34m(\u001b[0m\u001b[0;34m)\u001b[0m\u001b[0;34m\u001b[0m\u001b[0m\n\u001b[0m\u001b[1;32m    296\u001b[0m                 \u001b[0mgotit\u001b[0m \u001b[0;34m=\u001b[0m \u001b[0;32mTrue\u001b[0m\u001b[0;34m\u001b[0m\u001b[0m\n\u001b[1;32m    297\u001b[0m             \u001b[0;32melse\u001b[0m\u001b[0;34m:\u001b[0m\u001b[0;34m\u001b[0m\u001b[0m\n",
      "\u001b[0;31mKeyboardInterrupt\u001b[0m: "
     ]
    }
   ],
   "source": [
    "from vaderSentiment.vaderSentiment import SentimentIntensityAnalyzer\n",
    "\n",
    "# sentiment analyzer\n",
    "analyser = SentimentIntensityAnalyzer() # http://t-redactyl.io/blog/2017/04/using-vader-to-handle-sentiment-analysis-with-social-media-text.html\n",
    "\n",
    "# get sentiment scores \n",
    "def get_sentiment(x):\n",
    "    return analyser.polarity_scores(x)\n",
    "\n",
    "# get sentiment scores from 'body' column of dataframe\n",
    "def wrapper_get_sentiment(df):\n",
    "    df['sentiment'] = df['body'].apply(get_sentiment)\n",
    "    return df\n",
    "\n",
    "# to apply operation in parallel\n",
    "num_partitions = 100\n",
    "num_cores = 4\n",
    "def parallelize_dataframe(df, func):\n",
    "    df_split = np.array_split(df, num_partitions)\n",
    "    pool = Pool(num_cores)\n",
    "    df = pd.concat(pool.map(func, df_split))\n",
    "    pool.close()\n",
    "    pool.join()\n",
    "    return df\n",
    "\n",
    "# add a column for each score to our data\n",
    "sentiment = parallelize_dataframe(df['body'].to_frame(), wrapper_get_sentiment)\n",
    "sentiment.drop(['body'], axis=1, inplace=True)\n",
    "df['senti_neg'] = sentiment['sentiment'].apply(lambda x: x['neg'])\n",
    "df['senti_neu'] = sentiment['sentiment'].apply(lambda x: x['neu'])\n",
    "df['senti_pos'] = sentiment['sentiment'].apply(lambda x: x['pos'])\n",
    "df['senti_comp'] = sentiment['sentiment'].apply(lambda x: x['compound'])\n",
    "del sentiment"
   ]
  },
  {
   "cell_type": "code",
   "execution_count": null,
   "metadata": {},
   "outputs": [],
   "source": [
    "print(df.shape)\n",
    "df.head(3).T"
   ]
  },
  {
   "cell_type": "code",
   "execution_count": null,
   "metadata": {},
   "outputs": [],
   "source": [
    "# save new data\n",
    "df.to_pickle('Data/working_sub.pkl')"
   ]
  },
  {
   "cell_type": "markdown",
   "metadata": {},
   "source": [
    "## Comment Length Based Features"
   ]
  },
  {
   "cell_type": "markdown",
   "metadata": {},
   "source": [
    "- `word_count`: number of words in comment"
   ]
  },
  {
   "cell_type": "code",
   "execution_count": null,
   "metadata": {},
   "outputs": [],
   "source": [
    "df = pd.read_pickle('Data/working_sub.pkl')"
   ]
  },
  {
   "cell_type": "code",
   "execution_count": null,
   "metadata": {},
   "outputs": [],
   "source": [
    "# get number of words in comment\n",
    "def get_word_count(df):\n",
    "    df['word_count'] = df['body'].apply(lambda x: len(x.split()))\n",
    "    return df\n",
    "\n",
    "word_counts = parallelize_dataframe(df['body'].to_frame(), get_word_count)\n",
    "df['word_counts'] = word_counts.word_count\n",
    "del word_counts"
   ]
  },
  {
   "cell_type": "code",
   "execution_count": null,
   "metadata": {},
   "outputs": [],
   "source": [
    "print(df.shape)\n",
    "df.head(3).T"
   ]
  },
  {
   "cell_type": "code",
   "execution_count": null,
   "metadata": {},
   "outputs": [],
   "source": [
    "# save new data\n",
    "df.to_pickle('Data/working_sub.pkl')"
   ]
  },
  {
   "cell_type": "markdown",
   "metadata": {},
   "source": [
    "## Comment2Vec Based Features"
   ]
  },
  {
   "cell_type": "markdown",
   "metadata": {},
   "source": [
    "- `doc2vec`: centroid of 50 dimensional word embeddings. About 2.3% are NA. This happened when either child or parent comment could not be embedded.\n",
    "- `cos_angle`: cosine similarity between comment and its parent. About 3.23% are NA. This happened when either child or parent comment could not be embedded."
   ]
  },
  {
   "cell_type": "code",
   "execution_count": null,
   "metadata": {},
   "outputs": [],
   "source": [
    "df = pd.read_pickle('Data/working_sub.pkl')"
   ]
  },
  {
   "cell_type": "code",
   "execution_count": null,
   "metadata": {},
   "outputs": [],
   "source": [
    "table = str.maketrans({key: ' ' for key in string.digits + string.punctuation + '\\t\\n\\r'})\n",
    "\n",
    "def load_glove(filename):\n",
    "    glove = {}\n",
    "    with open(filename, 'r') as read_file:\n",
    "        for line in read_file:\n",
    "            key = line.split(' ')[0]\n",
    "            vector = np.array(line.split(' ')[1:], dtype=np.float)\n",
    "            glove[key] = vector\n",
    "    return glove\n",
    "\n",
    "def words(text):\n",
    "    text = text.lower()\n",
    "    text = text.translate(table).strip()\n",
    "    terms = text.split(' ')\n",
    "    terms = [t for t in terms if len(t) > 2]\n",
    "    terms = [t for t in terms if t not in ENGLISH_STOP_WORDS]\n",
    "    return terms\n",
    "\n",
    "def doc2vec(text, gloves):\n",
    "    count_words = 0\n",
    "    final_vector = 0\n",
    "    terms = words(text)\n",
    "    for t in terms:\n",
    "        if t in gloves.keys():\n",
    "            count_words += 1\n",
    "            final_vector += gloves[t]\n",
    "    if count_words != 0:\n",
    "        return final_vector / count_words\n",
    "    else:\n",
    "        return None\n",
    "\n",
    "gloves = load_glove('Data/glove.6B.50d.txt')\n",
    "\n",
    "def wrapper_get_centroid(df):\n",
    "    df['doc2vec'] = df['body'].apply(lambda x: doc2vec(x, gloves))\n",
    "    return df\n",
    "\n",
    "# get centroid of each comment\n",
    "doc2vec_vals = parallelize_dataframe(df['body'].to_frame(), wrapper_get_centroid)\n",
    "doc2vec_vals = doc2vec_vals.doc2vec.values\n",
    "df['doc2vec'] = doc2vec_vals\n",
    "\n",
    "comment_to_body = pd_to_dict(df[['name', 'body']],\n",
    "                                index='name', column='body')\n",
    "comment_to_parent = pd_to_dict(df[['name', 'parent_id']],\n",
    "                                index='name', column='parent_id')\n",
    "\n",
    "\n",
    "def get_pseudo_parent(x):\n",
    "    counter = 0\n",
    "    temp = x\n",
    "    while True:\n",
    "        if temp[:3] == 't3_':\n",
    "#             print(counter)\n",
    "            return temp\n",
    "        try:\n",
    "#             print(temp)\n",
    "            temp1 = temp\n",
    "            temp = comment_to_parent[temp1]\n",
    "            temp2 = comment_to_parent[temp]\n",
    "        except KeyError:\n",
    "#             print(counter)\n",
    "#             print(':(')\n",
    "            return temp1\n",
    "        counter += 1\n",
    "        \n",
    "# print(get_pseudo_parent('t1_cquhctp)\n",
    "\n",
    "def get_cosine_angle(cmnt_id):\n",
    "    child = comment_to_body[cmnt_id]\n",
    "    try:\n",
    "        parent = comment_to_body[comment_to_parent[cmnt_id]]\n",
    "    except KeyError:\n",
    "        try:\n",
    "            parent = comment_to_body[get_pseudo_parent(cmnt_id)]\n",
    "        except KeyError:\n",
    "            return np.nan\n",
    "    child = doc2vec(child, gloves)\n",
    "    parent = doc2vec(parent, gloves)\n",
    "    if child is None:\n",
    "        return np.nan\n",
    "    if parent is None:\n",
    "        return np.nan\n",
    "    return child.dot(parent)\n",
    "\n",
    "def wrapper_get_cosine(df):\n",
    "    df['cosine_angle'] = df['name'].apply(get_cosine_angle)\n",
    "    return df\n",
    "\n",
    "# get cosine angle between comment and its parent's comment centroid\n",
    "cosine_angle = parallelize_dataframe(df['name'].to_frame(), wrapper_get_cosine)\n",
    "df['cos_angle'] = cosine_angle.cosine_angle\n",
    "del gloves\n",
    "del doc2vec\n",
    "del cosine_angle"
   ]
  },
  {
   "cell_type": "code",
   "execution_count": null,
   "metadata": {},
   "outputs": [],
   "source": [
    "print(df.shape)\n",
    "df.head(3).T"
   ]
  },
  {
   "cell_type": "code",
   "execution_count": null,
   "metadata": {},
   "outputs": [],
   "source": [
    "# pd.read_pickle('Data/working_dataset_v1.pkl')"
   ]
  },
  {
   "cell_type": "code",
   "execution_count": null,
   "metadata": {},
   "outputs": [],
   "source": [
    "sum(df.doc2vec != df.doc2vec) / len(df.doc2vec)"
   ]
  },
  {
   "cell_type": "code",
   "execution_count": null,
   "metadata": {},
   "outputs": [],
   "source": [
    "sum(df.cos_angle != df.cos_angle) / len(df.cos_angle)"
   ]
  },
  {
   "cell_type": "code",
   "execution_count": null,
   "metadata": {},
   "outputs": [],
   "source": [
    "# save new data\n",
    "df.to_pickle('Data/working_dataset_v1.pkl')"
   ]
  },
  {
   "cell_type": "code",
   "execution_count": null,
   "metadata": {},
   "outputs": [],
   "source": [
    "f\"{df.memory_usage(deep=True).sum() / 1023.0**3} GB\""
   ]
  },
  {
   "cell_type": "code",
   "execution_count": null,
   "metadata": {},
   "outputs": [],
   "source": []
  }
 ],
 "metadata": {
  "kernelspec": {
   "display_name": "Python 3",
   "language": "python",
   "name": "python3"
  },
  "language_info": {
   "codemirror_mode": {
    "name": "ipython",
    "version": 3
   },
   "file_extension": ".py",
   "mimetype": "text/x-python",
   "name": "python",
   "nbconvert_exporter": "python",
   "pygments_lexer": "ipython3",
   "version": "3.6.4"
  }
 },
 "nbformat": 4,
 "nbformat_minor": 2
}
