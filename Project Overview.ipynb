{
 "cells": [
  {
   "cell_type": "markdown",
   "metadata": {},
   "source": [
    "# Objective"
   ]
  },
  {
   "cell_type": "markdown",
   "metadata": {},
   "source": [
    "To predict how popular a comment will get, given the comment text, user history, sub-reddit and thread details."
   ]
  },
  {
   "cell_type": "markdown",
   "metadata": {},
   "source": [
    "# Data Source"
   ]
  },
  {
   "cell_type": "markdown",
   "metadata": {},
   "source": [
    "For now we will work with the following data, if in future we find that this data lacks variety, we can use switch to data from different source (There are quite few sources for reddit data, shouldn't be a problem).\n",
    "\n",
    "* [data source link](https://github.com/linanqiu/reddit-dataset)\n"
   ]
  },
  {
   "cell_type": "markdown",
   "metadata": {},
   "source": [
    "# Reference Papers/Write-ups"
   ]
  },
  {
   "cell_type": "markdown",
   "metadata": {},
   "source": [
    "* [Predicting Comment Karma on Internet Forums](http://cs229.stanford.edu/proj2014/Daria%20Lamberson,Leo%20Martel,%20Simon%20Zheng,Hacking%20the%20Hivemind.pdf)\n",
    "* [Predicting Comment Karma by Subreddit](http://yoavz.com/reddit_karma.pdf)\n",
    "   - github link concerning [this paper](https://github.com/yoavz/predict_reddit_comments) "
   ]
  },
  {
   "cell_type": "markdown",
   "metadata": {},
   "source": [
    "# FAQ about reddit"
   ]
  },
  {
   "cell_type": "markdown",
   "metadata": {},
   "source": [
    "* [what is karma](https://www.reddit.com/r/NoStupidQuestions/comments/2idfhk/what_is_link_karma/)\n",
    "* [what is reddit](https://www.reddit.com/wiki/faq)"
   ]
  }
 ],
 "metadata": {
  "kernelspec": {
   "display_name": "Python 3",
   "language": "python",
   "name": "python3"
  },
  "language_info": {
   "codemirror_mode": {
    "name": "ipython",
    "version": 3
   },
   "file_extension": ".py",
   "mimetype": "text/x-python",
   "name": "python",
   "nbconvert_exporter": "python",
   "pygments_lexer": "ipython3",
   "version": "3.6.5"
  }
 },
 "nbformat": 4,
 "nbformat_minor": 2
}
