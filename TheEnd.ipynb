{
 "cells": [
  {
   "cell_type": "code",
   "execution_count": 1,
   "metadata": {
    "ExecuteTime": {
     "end_time": "2018-12-05T05:56:22.375541Z",
     "start_time": "2018-12-05T05:56:21.755561Z"
    }
   },
   "outputs": [],
   "source": [
    "import re\n",
    "\n",
    "import pandas as pd\n",
    "import re, string\n",
    "import numpy as np\n",
    "import matplotlib.pyplot as plt\n",
    "\n",
    "from pathlib import Path\n",
    "from collections import Counter\n",
    "from multiprocessing import Pool\n",
    "from urllib.parse import urlparse\n",
    "\n",
    "%matplotlib inline"
   ]
  },
  {
   "cell_type": "code",
   "execution_count": 2,
   "metadata": {
    "ExecuteTime": {
     "end_time": "2018-12-05T05:56:25.152281Z",
     "start_time": "2018-12-05T05:56:24.362457Z"
    }
   },
   "outputs": [],
   "source": [
    "from sklearn.metrics import mean_squared_error, r2_score\n",
    "from sklearn.model_selection import train_test_split\n",
    "from sklearn.preprocessing import LabelBinarizer, MultiLabelBinarizer\n",
    "from sklearn.feature_extraction.text import TfidfVectorizer\n",
    "from sklearn.linear_model import LinearRegression"
   ]
  },
  {
   "cell_type": "code",
   "execution_count": 3,
   "metadata": {
    "ExecuteTime": {
     "end_time": "2018-12-05T05:56:25.206920Z",
     "start_time": "2018-12-05T05:56:25.203276Z"
    }
   },
   "outputs": [],
   "source": [
    "path = Path('Data/')"
   ]
  },
  {
   "cell_type": "code",
   "execution_count": 4,
   "metadata": {
    "ExecuteTime": {
     "end_time": "2018-12-05T05:56:32.276012Z",
     "start_time": "2018-12-05T05:56:25.657087Z"
    }
   },
   "outputs": [
    {
     "name": "stderr",
     "output_type": "stream",
     "text": [
      "/home/gokul/anaconda3/lib/python3.6/site-packages/pandas/io/feather_format.py:112: FutureWarning: `nthreads` argument is deprecated, pass `use_threads` instead\n",
      "  return feather.read_dataframe(path, nthreads=nthreads)\n"
     ]
    }
   ],
   "source": [
    "df = pd.read_feather(path/'May2015_subset.fthr')"
   ]
  },
  {
   "cell_type": "code",
   "execution_count": 5,
   "metadata": {
    "ExecuteTime": {
     "end_time": "2018-12-05T05:56:32.281832Z",
     "start_time": "2018-12-05T05:56:32.278605Z"
    }
   },
   "outputs": [],
   "source": [
    "subreddit_list = ['worldnews', 'movies', 'gaming', 'science', 'food']"
   ]
  },
  {
   "cell_type": "code",
   "execution_count": 6,
   "metadata": {
    "ExecuteTime": {
     "end_time": "2018-12-05T05:56:34.225298Z",
     "start_time": "2018-12-05T05:56:32.284210Z"
    }
   },
   "outputs": [],
   "source": [
    "df = df[df.subreddit.isin(subreddit_list)]"
   ]
  },
  {
   "cell_type": "code",
   "execution_count": 7,
   "metadata": {
    "ExecuteTime": {
     "end_time": "2018-12-05T05:56:34.233587Z",
     "start_time": "2018-12-05T05:56:34.227653Z"
    }
   },
   "outputs": [],
   "source": [
    "df.reset_index(inplace=True, drop=True)"
   ]
  },
  {
   "cell_type": "code",
   "execution_count": 8,
   "metadata": {
    "ExecuteTime": {
     "end_time": "2018-12-05T05:56:35.248627Z",
     "start_time": "2018-12-05T05:56:34.236073Z"
    }
   },
   "outputs": [],
   "source": [
    "df['subreddit'] = df.subreddit.astype('category')\n",
    "df['subreddit_id'] = df.subreddit_id.astype('category')\n",
    "df['distinguished'] = df.distinguished.astype('category')"
   ]
  },
  {
   "cell_type": "code",
   "execution_count": 9,
   "metadata": {
    "ExecuteTime": {
     "end_time": "2018-12-05T05:56:35.894784Z",
     "start_time": "2018-12-05T05:56:35.251121Z"
    }
   },
   "outputs": [],
   "source": [
    "df['is_flair'] = ~df.author_flair_text.apply(lambda x: x is None)\n",
    "df['is_flair_css'] = ~df.author_flair_css_class.apply(lambda x: x is None)"
   ]
  },
  {
   "cell_type": "markdown",
   "metadata": {},
   "source": [
    "Columns with no extra information"
   ]
  },
  {
   "cell_type": "code",
   "execution_count": 10,
   "metadata": {
    "ExecuteTime": {
     "end_time": "2018-12-05T05:56:38.797062Z",
     "start_time": "2018-12-05T05:56:35.897502Z"
    }
   },
   "outputs": [
    {
     "name": "stdout",
     "output_type": "stream",
     "text": [
      "score_hidden\n",
      "removal_reason\n",
      "downs\n",
      "archived\n"
     ]
    }
   ],
   "source": [
    "for col in df.columns:\n",
    "    if len(df[col].unique()) == 1:\n",
    "        print(col)"
   ]
  },
  {
   "cell_type": "code",
   "execution_count": 11,
   "metadata": {
    "ExecuteTime": {
     "end_time": "2018-12-05T05:56:38.989502Z",
     "start_time": "2018-12-05T05:56:38.799559Z"
    }
   },
   "outputs": [],
   "source": [
    "df.drop(['archived', 'id', 'removal_reason',\n",
    "         'score_hidden', 'downs', 'subreddit_id',\n",
    "         'author_flair_css_class', 'author_flair_text',\n",
    "         'author'], axis=1, inplace=True)"
   ]
  },
  {
   "cell_type": "code",
   "execution_count": 12,
   "metadata": {
    "ExecuteTime": {
     "end_time": "2018-12-05T05:56:39.210134Z",
     "start_time": "2018-12-05T05:56:39.161211Z"
    }
   },
   "outputs": [
    {
     "data": {
      "text/plain": [
       "49"
      ]
     },
     "execution_count": 12,
     "metadata": {},
     "output_type": "execute_result"
    }
   ],
   "source": [
    "import gc\n",
    "gc.collect()"
   ]
  },
  {
   "cell_type": "code",
   "execution_count": 13,
   "metadata": {
    "ExecuteTime": {
     "end_time": "2018-12-05T05:56:41.871057Z",
     "start_time": "2018-12-05T05:56:40.061850Z"
    },
    "scrolled": true
   },
   "outputs": [
    {
     "data": {
      "image/png": "[encoded data removed]",
      "text/plain": [
       "<Figure size 432x288 with 1 Axes>"
      ]
     },
     "metadata": {},
     "output_type": "display_data"
    }
   ],
   "source": [
    "plt.hist(df.score, log=True, bins=300);"
   ]
  },
  {
   "cell_type": "code",
   "execution_count": 14,
   "metadata": {
    "ExecuteTime": {
     "end_time": "2018-12-05T05:56:42.549933Z",
     "start_time": "2018-12-05T05:56:42.531322Z"
    }
   },
   "outputs": [
    {
     "data": {
      "text/plain": [
       "worldnews    490354\n",
       "movies       376601\n",
       "gaming       361265\n",
       "science       89413\n",
       "food          55231\n",
       "Name: subreddit, dtype: int64"
      ]
     },
     "execution_count": 14,
     "metadata": {},
     "output_type": "execute_result"
    }
   ],
   "source": [
    "df.subreddit.value_counts()"
   ]
  },
  {
   "cell_type": "code",
   "execution_count": 15,
   "metadata": {
    "ExecuteTime": {
     "end_time": "2018-12-05T05:56:43.942694Z",
     "start_time": "2018-12-05T05:56:43.915984Z"
    }
   },
   "outputs": [],
   "source": [
    "df['time'] = pd.to_datetime(df.created_utc, unit='s')"
   ]
  },
  {
   "cell_type": "code",
   "execution_count": 16,
   "metadata": {
    "ExecuteTime": {
     "end_time": "2018-12-05T05:56:44.717109Z",
     "start_time": "2018-12-05T05:56:44.538944Z"
    }
   },
   "outputs": [],
   "source": [
    "df.drop(['created_utc'], axis=1, inplace=True)"
   ]
  },
  {
   "cell_type": "code",
   "execution_count": 17,
   "metadata": {
    "ExecuteTime": {
     "end_time": "2018-12-05T05:56:45.393885Z",
     "start_time": "2018-12-05T05:56:45.354468Z"
    }
   },
   "outputs": [
    {
     "data": {
      "text/html": [
       "<div>\n",
       "<style scoped>\n",
       "    .dataframe tbody tr th:only-of-type {\n",
       "        vertical-align: middle;\n",
       "    }\n",
       "\n",
       "    .dataframe tbody tr th {\n",
       "        vertical-align: top;\n",
       "    }\n",
       "\n",
       "    .dataframe thead th {\n",
       "        text-align: right;\n",
       "    }\n",
       "</style>\n",
       "<table border=\"1\" class=\"dataframe\">\n",
       "  <thead>\n",
       "    <tr style=\"text-align: right;\">\n",
       "      <th></th>\n",
       "      <th>1372859</th>\n",
       "      <th>1372860</th>\n",
       "      <th>1372861</th>\n",
       "      <th>1372862</th>\n",
       "      <th>1372863</th>\n",
       "    </tr>\n",
       "  </thead>\n",
       "  <tbody>\n",
       "    <tr>\n",
       "      <th>ups</th>\n",
       "      <td>1</td>\n",
       "      <td>1</td>\n",
       "      <td>170</td>\n",
       "      <td>9</td>\n",
       "      <td>37</td>\n",
       "    </tr>\n",
       "    <tr>\n",
       "      <th>link_id</th>\n",
       "      <td>t3_37z0mw</td>\n",
       "      <td>t3_37z0mw</td>\n",
       "      <td>t3_37zl5z</td>\n",
       "      <td>t3_380j06</td>\n",
       "      <td>t3_37z0mw</td>\n",
       "    </tr>\n",
       "    <tr>\n",
       "      <th>name</th>\n",
       "      <td>t1_crrbebf</td>\n",
       "      <td>t1_crrbecs</td>\n",
       "      <td>t1_crrbedn</td>\n",
       "      <td>t1_crrbefm</td>\n",
       "      <td>t1_crrbeft</td>\n",
       "    </tr>\n",
       "    <tr>\n",
       "      <th>subreddit</th>\n",
       "      <td>worldnews</td>\n",
       "      <td>worldnews</td>\n",
       "      <td>worldnews</td>\n",
       "      <td>worldnews</td>\n",
       "      <td>worldnews</td>\n",
       "    </tr>\n",
       "    <tr>\n",
       "      <th>gilded</th>\n",
       "      <td>0</td>\n",
       "      <td>0</td>\n",
       "      <td>0</td>\n",
       "      <td>0</td>\n",
       "      <td>0</td>\n",
       "    </tr>\n",
       "    <tr>\n",
       "      <th>score</th>\n",
       "      <td>1</td>\n",
       "      <td>1</td>\n",
       "      <td>170</td>\n",
       "      <td>9</td>\n",
       "      <td>37</td>\n",
       "    </tr>\n",
       "    <tr>\n",
       "      <th>retrieved_on</th>\n",
       "      <td>1433505915</td>\n",
       "      <td>1433505915</td>\n",
       "      <td>1433505916</td>\n",
       "      <td>1433505916</td>\n",
       "      <td>1433505916</td>\n",
       "    </tr>\n",
       "    <tr>\n",
       "      <th>body</th>\n",
       "      <td>The key there is \"unless they're sociopaths\". ...</td>\n",
       "      <td>Pretty sure they don't just behead people outr...</td>\n",
       "      <td>Because it's not typically done to babies. It'...</td>\n",
       "      <td>&amp;gt; Nothing they are doing is illegal under i...</td>\n",
       "      <td>Apart from the risk of inhalation pneumonia.</td>\n",
       "    </tr>\n",
       "    <tr>\n",
       "      <th>distinguished</th>\n",
       "      <td>NaN</td>\n",
       "      <td>NaN</td>\n",
       "      <td>NaN</td>\n",
       "      <td>NaN</td>\n",
       "      <td>NaN</td>\n",
       "    </tr>\n",
       "    <tr>\n",
       "      <th>edited</th>\n",
       "      <td>0</td>\n",
       "      <td>0</td>\n",
       "      <td>0</td>\n",
       "      <td>0</td>\n",
       "      <td>0</td>\n",
       "    </tr>\n",
       "    <tr>\n",
       "      <th>controversiality</th>\n",
       "      <td>0</td>\n",
       "      <td>0</td>\n",
       "      <td>0</td>\n",
       "      <td>0</td>\n",
       "      <td>0</td>\n",
       "    </tr>\n",
       "    <tr>\n",
       "      <th>parent_id</th>\n",
       "      <td>t1_crr9oyk</td>\n",
       "      <td>t1_crraioh</td>\n",
       "      <td>t1_crrax76</td>\n",
       "      <td>t1_crrb19g</td>\n",
       "      <td>t1_crrb2cx</td>\n",
       "    </tr>\n",
       "    <tr>\n",
       "      <th>is_flair</th>\n",
       "      <td>False</td>\n",
       "      <td>False</td>\n",
       "      <td>False</td>\n",
       "      <td>False</td>\n",
       "      <td>False</td>\n",
       "    </tr>\n",
       "    <tr>\n",
       "      <th>is_flair_css</th>\n",
       "      <td>False</td>\n",
       "      <td>False</td>\n",
       "      <td>False</td>\n",
       "      <td>False</td>\n",
       "      <td>False</td>\n",
       "    </tr>\n",
       "    <tr>\n",
       "      <th>time</th>\n",
       "      <td>2015-05-31 23:59:38</td>\n",
       "      <td>2015-05-31 23:59:40</td>\n",
       "      <td>2015-05-31 23:59:41</td>\n",
       "      <td>2015-05-31 23:59:44</td>\n",
       "      <td>2015-05-31 23:59:45</td>\n",
       "    </tr>\n",
       "  </tbody>\n",
       "</table>\n",
       "</div>"
      ],
      "text/plain": [
       "                                                            1372859  \\\n",
       "ups                                                               1   \n",
       "link_id                                                   t3_37z0mw   \n",
       "name                                                     t1_crrbebf   \n",
       "subreddit                                                 worldnews   \n",
       "gilded                                                            0   \n",
       "score                                                             1   \n",
       "retrieved_on                                             1433505915   \n",
       "body              The key there is \"unless they're sociopaths\". ...   \n",
       "distinguished                                                   NaN   \n",
       "edited                                                            0   \n",
       "controversiality                                                  0   \n",
       "parent_id                                                t1_crr9oyk   \n",
       "is_flair                                                      False   \n",
       "is_flair_css                                                  False   \n",
       "time                                            2015-05-31 23:59:38   \n",
       "\n",
       "                                                            1372860  \\\n",
       "ups                                                               1   \n",
       "link_id                                                   t3_37z0mw   \n",
       "name                                                     t1_crrbecs   \n",
       "subreddit                                                 worldnews   \n",
       "gilded                                                            0   \n",
       "score                                                             1   \n",
       "retrieved_on                                             1433505915   \n",
       "body              Pretty sure they don't just behead people outr...   \n",
       "distinguished                                                   NaN   \n",
       "edited                                                            0   \n",
       "controversiality                                                  0   \n",
       "parent_id                                                t1_crraioh   \n",
       "is_flair                                                      False   \n",
       "is_flair_css                                                  False   \n",
       "time                                            2015-05-31 23:59:40   \n",
       "\n",
       "                                                            1372861  \\\n",
       "ups                                                             170   \n",
       "link_id                                                   t3_37zl5z   \n",
       "name                                                     t1_crrbedn   \n",
       "subreddit                                                 worldnews   \n",
       "gilded                                                            0   \n",
       "score                                                           170   \n",
       "retrieved_on                                             1433505916   \n",
       "body              Because it's not typically done to babies. It'...   \n",
       "distinguished                                                   NaN   \n",
       "edited                                                            0   \n",
       "controversiality                                                  0   \n",
       "parent_id                                                t1_crrax76   \n",
       "is_flair                                                      False   \n",
       "is_flair_css                                                  False   \n",
       "time                                            2015-05-31 23:59:41   \n",
       "\n",
       "                                                            1372862  \\\n",
       "ups                                                               9   \n",
       "link_id                                                   t3_380j06   \n",
       "name                                                     t1_crrbefm   \n",
       "subreddit                                                 worldnews   \n",
       "gilded                                                            0   \n",
       "score                                                             9   \n",
       "retrieved_on                                             1433505916   \n",
       "body              &gt; Nothing they are doing is illegal under i...   \n",
       "distinguished                                                   NaN   \n",
       "edited                                                            0   \n",
       "controversiality                                                  0   \n",
       "parent_id                                                t1_crrb19g   \n",
       "is_flair                                                      False   \n",
       "is_flair_css                                                  False   \n",
       "time                                            2015-05-31 23:59:44   \n",
       "\n",
       "                                                       1372863  \n",
       "ups                                                         37  \n",
       "link_id                                              t3_37z0mw  \n",
       "name                                                t1_crrbeft  \n",
       "subreddit                                            worldnews  \n",
       "gilded                                                       0  \n",
       "score                                                       37  \n",
       "retrieved_on                                        1433505916  \n",
       "body              Apart from the risk of inhalation pneumonia.  \n",
       "distinguished                                              NaN  \n",
       "edited                                                       0  \n",
       "controversiality                                             0  \n",
       "parent_id                                           t1_crrb2cx  \n",
       "is_flair                                                 False  \n",
       "is_flair_css                                             False  \n",
       "time                                       2015-05-31 23:59:45  "
      ]
     },
     "execution_count": 17,
     "metadata": {},
     "output_type": "execute_result"
    }
   ],
   "source": [
    "df.tail().T"
   ]
  },
  {
   "cell_type": "code",
   "execution_count": 18,
   "metadata": {
    "ExecuteTime": {
     "end_time": "2018-12-05T05:56:47.648858Z",
     "start_time": "2018-12-05T05:56:47.580533Z"
    }
   },
   "outputs": [],
   "source": [
    "dfl = pd.read_pickle('Data/scrape/df_final.pkl')"
   ]
  },
  {
   "cell_type": "code",
   "execution_count": 19,
   "metadata": {
    "ExecuteTime": {
     "end_time": "2018-12-05T05:56:48.265084Z",
     "start_time": "2018-12-05T05:56:48.259735Z"
    }
   },
   "outputs": [
    {
     "data": {
      "text/plain": [
       "(45400, 18)"
      ]
     },
     "execution_count": 19,
     "metadata": {},
     "output_type": "execute_result"
    }
   ],
   "source": [
    "dfl.shape"
   ]
  },
  {
   "cell_type": "markdown",
   "metadata": {},
   "source": [
    "Over lapping columns"
   ]
  },
  {
   "cell_type": "code",
   "execution_count": 20,
   "metadata": {
    "ExecuteTime": {
     "end_time": "2018-12-05T05:56:49.421300Z",
     "start_time": "2018-12-05T05:56:49.415851Z"
    }
   },
   "outputs": [
    {
     "data": {
      "text/plain": [
       "['ups', 'score', 'distinguished', 'edited']"
      ]
     },
     "execution_count": 20,
     "metadata": {},
     "output_type": "execute_result"
    }
   ],
   "source": [
    "[c for c in df.columns if c in dfl.columns]"
   ]
  },
  {
   "cell_type": "code",
   "execution_count": 21,
   "metadata": {
    "ExecuteTime": {
     "end_time": "2018-12-05T05:56:51.019192Z",
     "start_time": "2018-12-05T05:56:50.869542Z"
    }
   },
   "outputs": [
    {
     "name": "stdout",
     "output_type": "stream",
     "text": [
      "locked\n",
      "downs\n",
      "is_original_content\n",
      "view_count\n"
     ]
    }
   ],
   "source": [
    "for col in dfl.columns:\n",
    "    if len(dfl[col].unique()) == 1:\n",
    "        print(col)"
   ]
  },
  {
   "cell_type": "markdown",
   "metadata": {},
   "source": [
    "This will save some precious RAM when joining the data frame!!"
   ]
  },
  {
   "cell_type": "code",
   "execution_count": 22,
   "metadata": {
    "ExecuteTime": {
     "end_time": "2018-12-05T05:56:59.011028Z",
     "start_time": "2018-12-05T05:56:58.730926Z"
    }
   },
   "outputs": [],
   "source": [
    "dfl['url'] = dfl.url.astype('category')\n",
    "dfl['selftext'] = dfl.selftext.astype('category')\n",
    "dfl['title'] = dfl.title.astype('category')"
   ]
  },
  {
   "cell_type": "code",
   "execution_count": 23,
   "metadata": {
    "ExecuteTime": {
     "end_time": "2018-12-05T05:57:01.434425Z",
     "start_time": "2018-12-05T05:57:01.359150Z"
    }
   },
   "outputs": [],
   "source": [
    "dfl['link_created_time'] = pd.to_datetime(dfl.created_utc, unit='s')"
   ]
  },
  {
   "cell_type": "code",
   "execution_count": 24,
   "metadata": {
    "ExecuteTime": {
     "end_time": "2018-12-05T05:57:07.836809Z",
     "start_time": "2018-12-05T05:57:07.826713Z"
    }
   },
   "outputs": [],
   "source": [
    "dfl.drop(['locked', 'downs', 'is_original_content',\n",
    "          'view_count', 'distinguished', 'edited',\n",
    "          'num_crossposts', 'spoiler', 'created_utc'], axis=1, inplace=True)"
   ]
  },
  {
   "cell_type": "code",
   "execution_count": 25,
   "metadata": {
    "ExecuteTime": {
     "end_time": "2018-12-05T05:57:08.678532Z",
     "start_time": "2018-12-05T05:57:08.670069Z"
    }
   },
   "outputs": [],
   "source": [
    "dfl.rename(columns={'sub_id':'link_id', \n",
    "                    'ups': 'link_ups',\n",
    "                    'score': 'link_score'}, inplace=True)"
   ]
  },
  {
   "cell_type": "code",
   "execution_count": 26,
   "metadata": {
    "ExecuteTime": {
     "end_time": "2018-12-05T05:57:10.944465Z",
     "start_time": "2018-12-05T05:57:10.865996Z"
    }
   },
   "outputs": [
    {
     "data": {
      "text/html": [
       "<div>\n",
       "<style scoped>\n",
       "    .dataframe tbody tr th:only-of-type {\n",
       "        vertical-align: middle;\n",
       "    }\n",
       "\n",
       "    .dataframe tbody tr th {\n",
       "        vertical-align: top;\n",
       "    }\n",
       "\n",
       "    .dataframe thead th {\n",
       "        text-align: right;\n",
       "    }\n",
       "</style>\n",
       "<table border=\"1\" class=\"dataframe\">\n",
       "  <thead>\n",
       "    <tr style=\"text-align: right;\">\n",
       "      <th></th>\n",
       "      <th>45395</th>\n",
       "      <th>45396</th>\n",
       "      <th>45397</th>\n",
       "      <th>45398</th>\n",
       "      <th>45399</th>\n",
       "    </tr>\n",
       "  </thead>\n",
       "  <tbody>\n",
       "    <tr>\n",
       "      <th>link_id</th>\n",
       "      <td>t3_380j06</td>\n",
       "      <td>t3_380k50</td>\n",
       "      <td>t3_380ld3</td>\n",
       "      <td>t3_380lty</td>\n",
       "      <td>t3_380msc</td>\n",
       "    </tr>\n",
       "    <tr>\n",
       "      <th>url</th>\n",
       "      <td>https://www.yahoo.com/news/us-demands-immediat...</td>\n",
       "      <td>http://www.irishtimes.com/news/world/middle-ea...</td>\n",
       "      <td>http://www.timesofisrael.com/israels-army-skir...</td>\n",
       "      <td>http://time.com/3902702/us-college-student-isi...</td>\n",
       "      <td>http://www.healthy4u.net/2015/05/30/easy-diet-...</td>\n",
       "    </tr>\n",
       "    <tr>\n",
       "      <th>num_comments</th>\n",
       "      <td>10</td>\n",
       "      <td>1</td>\n",
       "      <td>6</td>\n",
       "      <td>5</td>\n",
       "      <td>1</td>\n",
       "    </tr>\n",
       "    <tr>\n",
       "      <th>over_18</th>\n",
       "      <td>False</td>\n",
       "      <td>False</td>\n",
       "      <td>False</td>\n",
       "      <td>False</td>\n",
       "      <td>False</td>\n",
       "    </tr>\n",
       "    <tr>\n",
       "      <th>link_score</th>\n",
       "      <td>9</td>\n",
       "      <td>9</td>\n",
       "      <td>0</td>\n",
       "      <td>8</td>\n",
       "      <td>1</td>\n",
       "    </tr>\n",
       "    <tr>\n",
       "      <th>selftext</th>\n",
       "      <td></td>\n",
       "      <td></td>\n",
       "      <td></td>\n",
       "      <td></td>\n",
       "      <td></td>\n",
       "    </tr>\n",
       "    <tr>\n",
       "      <th>title</th>\n",
       "      <td>US hits out at China over sea reclamation, vow...</td>\n",
       "      <td>Israel moves to toughen sentences for stone-th...</td>\n",
       "      <td>Israel's Army operating program to convert Jew...</td>\n",
       "      <td>Hero Student Tries to Stop ISIS Attack in Saud...</td>\n",
       "      <td>easy diet</td>\n",
       "    </tr>\n",
       "    <tr>\n",
       "      <th>upvote_ratio</th>\n",
       "      <td>0.62</td>\n",
       "      <td>0.84</td>\n",
       "      <td>0.38</td>\n",
       "      <td>0.68</td>\n",
       "      <td>1</td>\n",
       "    </tr>\n",
       "    <tr>\n",
       "      <th>link_ups</th>\n",
       "      <td>9</td>\n",
       "      <td>9</td>\n",
       "      <td>0</td>\n",
       "      <td>8</td>\n",
       "      <td>1</td>\n",
       "    </tr>\n",
       "    <tr>\n",
       "      <th>link_created_time</th>\n",
       "      <td>2015-05-31 23:19:50</td>\n",
       "      <td>2015-05-31 23:29:11</td>\n",
       "      <td>2015-05-31 23:38:41</td>\n",
       "      <td>2015-05-31 23:42:18</td>\n",
       "      <td>2015-05-31 23:50:20</td>\n",
       "    </tr>\n",
       "  </tbody>\n",
       "</table>\n",
       "</div>"
      ],
      "text/plain": [
       "                                                               45395  \\\n",
       "link_id                                                    t3_380j06   \n",
       "url                https://www.yahoo.com/news/us-demands-immediat...   \n",
       "num_comments                                                      10   \n",
       "over_18                                                        False   \n",
       "link_score                                                         9   \n",
       "selftext                                                               \n",
       "title              US hits out at China over sea reclamation, vow...   \n",
       "upvote_ratio                                                    0.62   \n",
       "link_ups                                                           9   \n",
       "link_created_time                                2015-05-31 23:19:50   \n",
       "\n",
       "                                                               45396  \\\n",
       "link_id                                                    t3_380k50   \n",
       "url                http://www.irishtimes.com/news/world/middle-ea...   \n",
       "num_comments                                                       1   \n",
       "over_18                                                        False   \n",
       "link_score                                                         9   \n",
       "selftext                                                               \n",
       "title              Israel moves to toughen sentences for stone-th...   \n",
       "upvote_ratio                                                    0.84   \n",
       "link_ups                                                           9   \n",
       "link_created_time                                2015-05-31 23:29:11   \n",
       "\n",
       "                                                               45397  \\\n",
       "link_id                                                    t3_380ld3   \n",
       "url                http://www.timesofisrael.com/israels-army-skir...   \n",
       "num_comments                                                       6   \n",
       "over_18                                                        False   \n",
       "link_score                                                         0   \n",
       "selftext                                                               \n",
       "title              Israel's Army operating program to convert Jew...   \n",
       "upvote_ratio                                                    0.38   \n",
       "link_ups                                                           0   \n",
       "link_created_time                                2015-05-31 23:38:41   \n",
       "\n",
       "                                                               45398  \\\n",
       "link_id                                                    t3_380lty   \n",
       "url                http://time.com/3902702/us-college-student-isi...   \n",
       "num_comments                                                       5   \n",
       "over_18                                                        False   \n",
       "link_score                                                         8   \n",
       "selftext                                                               \n",
       "title              Hero Student Tries to Stop ISIS Attack in Saud...   \n",
       "upvote_ratio                                                    0.68   \n",
       "link_ups                                                           8   \n",
       "link_created_time                                2015-05-31 23:42:18   \n",
       "\n",
       "                                                               45399  \n",
       "link_id                                                    t3_380msc  \n",
       "url                http://www.healthy4u.net/2015/05/30/easy-diet-...  \n",
       "num_comments                                                       1  \n",
       "over_18                                                        False  \n",
       "link_score                                                         1  \n",
       "selftext                                                              \n",
       "title                                                      easy diet  \n",
       "upvote_ratio                                                       1  \n",
       "link_ups                                                           1  \n",
       "link_created_time                                2015-05-31 23:50:20  "
      ]
     },
     "execution_count": 26,
     "metadata": {},
     "output_type": "execute_result"
    }
   ],
   "source": [
    "dfl.tail().T"
   ]
  },
  {
   "cell_type": "code",
   "execution_count": 27,
   "metadata": {
    "ExecuteTime": {
     "end_time": "2018-12-05T05:57:15.437810Z",
     "start_time": "2018-12-05T05:57:13.982852Z"
    }
   },
   "outputs": [],
   "source": [
    "df = df.merge(dfl, on='link_id', how='left')\n",
    "# for some reason the join doesn't work\n",
    "# df = df.join(other=dfl, on='link_id', how='outer')"
   ]
  },
  {
   "cell_type": "code",
   "execution_count": 28,
   "metadata": {
    "ExecuteTime": {
     "end_time": "2018-12-05T05:57:15.445713Z",
     "start_time": "2018-12-05T05:57:15.440365Z"
    }
   },
   "outputs": [
    {
     "data": {
      "text/plain": [
       "(1372864, 24)"
      ]
     },
     "execution_count": 28,
     "metadata": {},
     "output_type": "execute_result"
    }
   ],
   "source": [
    "df.shape"
   ]
  },
  {
   "cell_type": "code",
   "execution_count": 29,
   "metadata": {
    "ExecuteTime": {
     "end_time": "2018-12-05T05:57:17.576579Z",
     "start_time": "2018-12-05T05:57:16.186641Z"
    }
   },
   "outputs": [
    {
     "data": {
      "text/plain": [
       "'0.9037070584606572 GB'"
      ]
     },
     "execution_count": 29,
     "metadata": {},
     "output_type": "execute_result"
    }
   ],
   "source": [
    "f\"{df.memory_usage(deep=True).sum() / 1023.0**3} GB\""
   ]
  },
  {
   "cell_type": "code",
   "execution_count": 30,
   "metadata": {
    "ExecuteTime": {
     "end_time": "2018-12-05T05:57:17.705902Z",
     "start_time": "2018-12-05T05:57:17.702497Z"
    }
   },
   "outputs": [],
   "source": [
    "def pd_to_dict(df, index='', column=''):\n",
    "    return pd.Series(df[column].values, index=df[index]).to_dict()"
   ]
  },
  {
   "cell_type": "code",
   "execution_count": 31,
   "metadata": {
    "ExecuteTime": {
     "end_time": "2018-12-05T05:57:18.476075Z",
     "start_time": "2018-12-05T05:57:18.461146Z"
    }
   },
   "outputs": [],
   "source": [
    "df['time_since_link'] = df.time - df.link_created_time"
   ]
  },
  {
   "cell_type": "code",
   "execution_count": 32,
   "metadata": {
    "ExecuteTime": {
     "end_time": "2018-12-05T05:57:34.272522Z",
     "start_time": "2018-12-05T05:57:19.189005Z"
    }
   },
   "outputs": [],
   "source": [
    "df.time_since_link = df.time_since_link.apply(lambda x: x.total_seconds())"
   ]
  },
  {
   "cell_type": "code",
   "execution_count": 33,
   "metadata": {
    "ExecuteTime": {
     "end_time": "2018-12-05T05:57:38.697096Z",
     "start_time": "2018-12-05T05:57:34.274854Z"
    }
   },
   "outputs": [],
   "source": [
    "comment_to_parent_dict = pd_to_dict(df[['name', 'parent_id']],\n",
    "                                    index='name', column='parent_id')\n",
    "\n",
    "def get_depth(x):\n",
    "    counter = 0\n",
    "    temp = x\n",
    "    while True:\n",
    "        if temp[:3] == 't3_':\n",
    "            return counter\n",
    "        try:\n",
    "            temp = comment_to_parent_dict[temp]\n",
    "        except KeyError:\n",
    "            return np.nan\n",
    "        counter += 1\n",
    "        \n",
    "df['depth'] = df['name'].apply(get_depth)"
   ]
  },
  {
   "cell_type": "markdown",
   "metadata": {},
   "source": [
    "Just keeping the domain"
   ]
  },
  {
   "cell_type": "code",
   "execution_count": 34,
   "metadata": {
    "ExecuteTime": {
     "end_time": "2018-12-05T05:57:48.286563Z",
     "start_time": "2018-12-05T05:57:38.699435Z"
    }
   },
   "outputs": [],
   "source": [
    "df['url'] = df.url.astype('str').apply(lambda x: urlparse(x)[1])\n",
    "dfl['url'] = dfl.url.astype('category')"
   ]
  },
  {
   "cell_type": "code",
   "execution_count": 35,
   "metadata": {
    "ExecuteTime": {
     "end_time": "2018-12-05T05:57:52.909316Z",
     "start_time": "2018-12-05T05:57:48.289286Z"
    }
   },
   "outputs": [],
   "source": [
    "df['linked_sr'] = df.body.apply(lambda x: re.findall(r\"/r/([^\\s/]+)\", x))\n",
    "df['body'] = df.body.apply(lambda x: re.sub(r\"(/r/[^\\s/]+)\", '', x))"
   ]
  },
  {
   "cell_type": "code",
   "execution_count": 36,
   "metadata": {
    "ExecuteTime": {
     "end_time": "2018-12-05T05:57:52.915832Z",
     "start_time": "2018-12-05T05:57:52.912066Z"
    }
   },
   "outputs": [],
   "source": [
    "regex = re.compile('[^a-zA-Z]')"
   ]
  },
  {
   "cell_type": "code",
   "execution_count": 37,
   "metadata": {
    "ExecuteTime": {
     "end_time": "2018-12-05T05:57:54.189952Z",
     "start_time": "2018-12-05T05:57:52.918413Z"
    }
   },
   "outputs": [],
   "source": [
    "df['linked_sr'] = df.linked_sr.apply(lambda x: [regex.sub('', i).lower() for i in x])"
   ]
  },
  {
   "cell_type": "code",
   "execution_count": 38,
   "metadata": {
    "ExecuteTime": {
     "end_time": "2018-12-05T05:58:07.850577Z",
     "start_time": "2018-12-05T05:57:54.192267Z"
    }
   },
   "outputs": [],
   "source": [
    "url_regex = r'http[s]?://(?:[a-zA-Z]|[0-9]|[$-_@.&+]|[!*\\(\\),]|(?:%[0-9a-fA-F][0-9a-fA-F]))+'\n",
    "\n",
    "def get_domains(x):\n",
    "    x = x.replace(' = ', '=')\n",
    "    x = x.replace(' : ', ':')\n",
    "    x = x.replace(' / ', '?')\n",
    "    urls = re.findall(url_regex, x)\n",
    "    try:\n",
    "        domain_names = [urlparse(url)[1] for url in urls]\n",
    "    except:\n",
    "        return []\n",
    "    return domain_names\n",
    "\n",
    "def remove_urls(x):\n",
    "    x = x.replace(' = ', '=')\n",
    "    x = x.replace(' : ', ':')\n",
    "    x = x.replace(' / ', '?')\n",
    "    return re.sub(url_regex, '', x)\n",
    "\n",
    "\n",
    "df['linked_urls'] = df.body.apply(lambda x: get_domains(x))\n",
    "df['body'] = df.body.apply(lambda x: remove_urls(x))"
   ]
  },
  {
   "cell_type": "code",
   "execution_count": 39,
   "metadata": {
    "ExecuteTime": {
     "end_time": "2018-12-05T05:58:09.232272Z",
     "start_time": "2018-12-05T05:58:07.853673Z"
    }
   },
   "outputs": [],
   "source": [
    "df['no_of_linked_sr'] = df['linked_sr'].apply(lambda x: len(x))\n",
    "df['no_of_linked_urls'] = df['linked_urls'].apply(lambda x: len(x))"
   ]
  },
  {
   "cell_type": "code",
   "execution_count": 40,
   "metadata": {
    "ExecuteTime": {
     "end_time": "2018-12-05T05:58:10.533664Z",
     "start_time": "2018-12-05T05:58:09.235280Z"
    }
   },
   "outputs": [],
   "source": [
    "top_url_links = []\n",
    "\n",
    "for sub in df.subreddit.unique():\n",
    "    all_linked_urls = []\n",
    "    for l in df[df.subreddit == sub].linked_urls.values:\n",
    "        all_linked_urls += l\n",
    "\n",
    "    top_url_links += Counter(all_linked_urls).most_common(5)\n",
    "\n",
    "allowed_urls = list(set([i[0] for i in top_url_links]))"
   ]
  },
  {
   "cell_type": "code",
   "execution_count": 41,
   "metadata": {
    "ExecuteTime": {
     "end_time": "2018-12-05T05:58:11.100149Z",
     "start_time": "2018-12-05T05:58:10.537985Z"
    }
   },
   "outputs": [],
   "source": [
    "top_sr_links = []\n",
    "\n",
    "for sub in df.subreddit.unique():\n",
    "    all_linked_sr = []\n",
    "    for l in df[df.subreddit == sub].linked_sr.values:\n",
    "        all_linked_sr += l\n",
    "\n",
    "    top_sr_links += Counter(all_linked_sr).most_common(5)\n",
    "\n",
    "allowed_sr = list(set([i[0] for i in top_sr_links]))"
   ]
  },
  {
   "cell_type": "code",
   "execution_count": 42,
   "metadata": {
    "ExecuteTime": {
     "end_time": "2018-12-05T05:58:13.280774Z",
     "start_time": "2018-12-05T05:58:11.102673Z"
    }
   },
   "outputs": [],
   "source": [
    "def remove_sr(x):\n",
    "    y = []\n",
    "    for i in x:\n",
    "        if i in allowed_sr:\n",
    "            y += [i]\n",
    "    return y\n",
    "\n",
    "def remove_urls(x):\n",
    "    y = []\n",
    "    for i in x:\n",
    "        if i in allowed_urls:\n",
    "            y += [i]\n",
    "    return y\n",
    "\n",
    "df['a_linked_urls'] = df['linked_urls'].apply(lambda x: remove_urls(x))\n",
    "df['a_linked_sr'] = df['linked_sr'].apply(lambda x: remove_sr(x))"
   ]
  },
  {
   "cell_type": "code",
   "execution_count": 43,
   "metadata": {
    "ExecuteTime": {
     "end_time": "2018-12-05T05:58:15.649327Z",
     "start_time": "2018-12-05T05:58:13.283302Z"
    }
   },
   "outputs": [],
   "source": [
    "comment_to_score = pd_to_dict(df[['name', 'score']],\n",
    "                              index='name', column='score')\n",
    "\n",
    "def get_score(x):\n",
    "    try:\n",
    "        return comment_to_score[x]\n",
    "    except:\n",
    "        return np.nan\n",
    "\n",
    "df['parent_score'] = df.parent_id.apply(lambda x: get_score(x))\n",
    "imp_val = df.parent_score.median()\n",
    "df.parent_score.fillna(imp_val, inplace=True)"
   ]
  },
  {
   "cell_type": "code",
   "execution_count": 44,
   "metadata": {
    "ExecuteTime": {
     "end_time": "2018-12-05T05:58:15.656042Z",
     "start_time": "2018-12-05T05:58:15.651866Z"
    }
   },
   "outputs": [],
   "source": [
    "def get_comment_tree_root(x):\n",
    "    if comment_to_parent_dict[x][:3] == 't3_':\n",
    "        return x\n",
    "    try:\n",
    "        return get_comment_tree_root(comment_to_parent_dict[x])\n",
    "    except KeyError:\n",
    "        return np.nan"
   ]
  },
  {
   "cell_type": "code",
   "execution_count": 45,
   "metadata": {
    "ExecuteTime": {
     "end_time": "2018-12-05T05:58:18.593799Z",
     "start_time": "2018-12-05T05:58:15.658788Z"
    }
   },
   "outputs": [],
   "source": [
    "df['comment_tree_root_id'] = df.name.apply(get_comment_tree_root)"
   ]
  },
  {
   "cell_type": "code",
   "execution_count": 46,
   "metadata": {
    "ExecuteTime": {
     "end_time": "2018-12-05T05:58:19.665299Z",
     "start_time": "2018-12-05T05:58:18.596678Z"
    }
   },
   "outputs": [],
   "source": [
    "df['comment_tree_root_score'] = df.comment_tree_root_id.apply(lambda x: get_score(x))"
   ]
  },
  {
   "cell_type": "code",
   "execution_count": 47,
   "metadata": {
    "ExecuteTime": {
     "end_time": "2018-12-05T05:58:27.373721Z",
     "start_time": "2018-12-05T05:58:19.668045Z"
    }
   },
   "outputs": [],
   "source": [
    "comment_to_time = pd_to_dict(df[['name', 'time']],\n",
    "                              index='name', column='time')\n",
    "\n",
    "def get_time(x):\n",
    "    try:\n",
    "        return comment_to_time[x]\n",
    "    except:\n",
    "        return np.nan"
   ]
  },
  {
   "cell_type": "code",
   "execution_count": 48,
   "metadata": {
    "ExecuteTime": {
     "end_time": "2018-12-05T05:58:28.407910Z",
     "start_time": "2018-12-05T05:58:27.376048Z"
    }
   },
   "outputs": [],
   "source": [
    "df['time_since_comment_tree_root'] = df.time - df.comment_tree_root_id.apply(get_time)"
   ]
  },
  {
   "cell_type": "code",
   "execution_count": 49,
   "metadata": {
    "ExecuteTime": {
     "end_time": "2018-12-05T05:58:43.556806Z",
     "start_time": "2018-12-05T05:58:28.410450Z"
    }
   },
   "outputs": [],
   "source": [
    "df.time_since_comment_tree_root = df.time_since_comment_tree_root.apply(lambda x: x.total_seconds())"
   ]
  },
  {
   "cell_type": "code",
   "execution_count": 50,
   "metadata": {
    "ExecuteTime": {
     "end_time": "2018-12-05T05:58:45.060364Z",
     "start_time": "2018-12-05T05:58:43.559364Z"
    }
   },
   "outputs": [],
   "source": [
    "df['subjectivity'] = df['body'].str.count('I ')"
   ]
  },
  {
   "cell_type": "code",
   "execution_count": 51,
   "metadata": {
    "ExecuteTime": {
     "end_time": "2018-12-05T05:58:45.432138Z",
     "start_time": "2018-12-05T05:58:45.062888Z"
    }
   },
   "outputs": [],
   "source": [
    "df['is_edited'] = df.edited.apply(lambda x: x > 0)"
   ]
  },
  {
   "cell_type": "code",
   "execution_count": 52,
   "metadata": {
    "ExecuteTime": {
     "end_time": "2018-12-05T05:58:45.723883Z",
     "start_time": "2018-12-05T05:58:45.434649Z"
    }
   },
   "outputs": [],
   "source": [
    "from vaderSentiment.vaderSentiment import SentimentIntensityAnalyzer\n",
    "analyser = SentimentIntensityAnalyzer()"
   ]
  },
  {
   "cell_type": "code",
   "execution_count": 53,
   "metadata": {
    "ExecuteTime": {
     "end_time": "2018-12-05T05:58:45.730164Z",
     "start_time": "2018-12-05T05:58:45.726719Z"
    }
   },
   "outputs": [],
   "source": [
    "def get_sentiment(x):\n",
    "    return analyser.polarity_scores(x)"
   ]
  },
  {
   "cell_type": "code",
   "execution_count": 54,
   "metadata": {
    "ExecuteTime": {
     "end_time": "2018-12-05T05:58:45.738377Z",
     "start_time": "2018-12-05T05:58:45.732922Z"
    }
   },
   "outputs": [],
   "source": [
    "from multiprocessing import Pool\n",
    "\n",
    "num_partitions = 100\n",
    "num_cores = 6\n",
    "\n",
    "def parallelize_dataframe(df, func):\n",
    "    df_split = np.array_split(df, num_partitions)\n",
    "    pool = Pool(num_cores)\n",
    "    df = pd.concat(pool.map(func, df_split))\n",
    "    pool.close()\n",
    "    pool.join()\n",
    "    return df"
   ]
  },
  {
   "cell_type": "code",
   "execution_count": 55,
   "metadata": {
    "ExecuteTime": {
     "end_time": "2018-12-05T06:04:36.414612Z",
     "start_time": "2018-12-05T05:58:45.741100Z"
    }
   },
   "outputs": [],
   "source": [
    "def wrapper_get_sentiment(df):\n",
    "    df['sentiment'] = df['body'].apply(get_sentiment)\n",
    "    return df\n",
    "\n",
    "sentiment = parallelize_dataframe(df['body'].to_frame(), wrapper_get_sentiment)\n",
    "\n",
    "df['senti_neg'] = sentiment['sentiment'].apply(lambda x: x['neg'])\n",
    "df['senti_neu'] = sentiment['sentiment'].apply(lambda x: x['neu'])\n",
    "df['senti_pos'] = sentiment['sentiment'].apply(lambda x: x['pos'])\n",
    "df['senti_comp'] = sentiment['sentiment'].apply(lambda x: x['compound'])\n",
    "\n",
    "del sentiment"
   ]
  },
  {
   "cell_type": "code",
   "execution_count": 56,
   "metadata": {
    "ExecuteTime": {
     "end_time": "2018-12-05T06:04:37.086154Z",
     "start_time": "2018-12-05T06:04:36.417275Z"
    }
   },
   "outputs": [
    {
     "data": {
      "text/plain": [
       "42"
      ]
     },
     "execution_count": 56,
     "metadata": {},
     "output_type": "execute_result"
    }
   ],
   "source": [
    "gc.collect()"
   ]
  },
  {
   "cell_type": "code",
   "execution_count": 57,
   "metadata": {
    "ExecuteTime": {
     "end_time": "2018-12-05T06:04:55.158503Z",
     "start_time": "2018-12-05T06:04:37.089676Z"
    }
   },
   "outputs": [],
   "source": [
    "df['is_quoted'] = df.body.str.contains('&gt;')\n",
    "df['no_quoted'] = df.body.str.count('&gt;')\n",
    "df['time_since_parent'] = df.parent_id.apply(get_time)\n",
    "df.loc[df.time_since_parent.isna(), 'time_since_parent'] = df.time\n",
    "df.time_since_parent = df.time - df.time_since_parent\n",
    "df.time_since_parent = df.time_since_parent.apply(lambda x: x.total_seconds())"
   ]
  },
  {
   "cell_type": "code",
   "execution_count": 58,
   "metadata": {
    "ExecuteTime": {
     "end_time": "2018-12-05T06:04:55.768554Z",
     "start_time": "2018-12-05T06:04:55.160749Z"
    }
   },
   "outputs": [],
   "source": [
    "df['is_root'] = df.parent_id.str.startswith('t3_')"
   ]
  },
  {
   "cell_type": "code",
   "execution_count": 59,
   "metadata": {
    "ExecuteTime": {
     "end_time": "2018-12-05T06:04:55.787642Z",
     "start_time": "2018-12-05T06:04:55.770803Z"
    }
   },
   "outputs": [],
   "source": [
    "df['is_selftext'] = df.selftext.str.len() > 1"
   ]
  },
  {
   "cell_type": "code",
   "execution_count": 60,
   "metadata": {
    "ExecuteTime": {
     "end_time": "2018-12-05T06:04:55.794435Z",
     "start_time": "2018-12-05T06:04:55.789907Z"
    }
   },
   "outputs": [
    {
     "data": {
      "text/plain": [
       "(1372864, 47)"
      ]
     },
     "execution_count": 60,
     "metadata": {},
     "output_type": "execute_result"
    }
   ],
   "source": [
    "df.shape"
   ]
  },
  {
   "cell_type": "code",
   "execution_count": 62,
   "metadata": {
    "ExecuteTime": {
     "end_time": "2018-12-05T06:14:05.761291Z",
     "start_time": "2018-12-05T06:14:02.623414Z"
    }
   },
   "outputs": [],
   "source": [
    "def get_word_count(df):\n",
    "    df['word_count'] = df['body'].apply(lambda x: len(x.split()))\n",
    "    return df\n",
    "\n",
    "word_counts = parallelize_dataframe(df['body'].to_frame(), get_word_count)\n",
    "df['word_counts'] = word_counts.word_count\n",
    "\n",
    "del word_counts"
   ]
  },
  {
   "cell_type": "code",
   "execution_count": 127,
   "metadata": {
    "ExecuteTime": {
     "end_time": "2018-12-05T07:09:03.326857Z",
     "start_time": "2018-12-05T07:09:02.655970Z"
    }
   },
   "outputs": [
    {
     "data": {
      "text/plain": [
       "609"
      ]
     },
     "execution_count": 127,
     "metadata": {},
     "output_type": "execute_result"
    }
   ],
   "source": [
    "import gc\n",
    "gc.collect()"
   ]
  },
  {
   "cell_type": "markdown",
   "metadata": {},
   "source": [
    "Using Pandas `.query` method for high performance subsetting.\n",
    "check [this out](https://jakevdp.github.io/PythonDataScienceHandbook/03.12-performance-eval-and-query.html)"
   ]
  },
  {
   "cell_type": "code",
   "execution_count": 124,
   "metadata": {
    "ExecuteTime": {
     "end_time": "2018-12-05T07:05:17.159225Z",
     "start_time": "2018-12-05T07:05:17.146839Z"
    }
   },
   "outputs": [],
   "source": [
    "def get_past_stats(x):\n",
    "    lid = x[0]\n",
    "    t = x[1]\n",
    "    temp = df.query(f\"link_id == '{lid}' and time < '{t}'\")\n",
    "    no_of_cmnts = temp.shape[0]\n",
    "    score = temp['score'].sum()\n",
    "    p = temp.query('score >= 0')['score'].sum()\n",
    "    n = abs(temp.query('score < 0')['score'].sum())\n",
    "    if not (p == 0 and n == 0):\n",
    "        up_ratio = p / (p + n)\n",
    "    else:\n",
    "        up_ratio = 1\n",
    "    return no_of_cmnts, score, up_ratio"
   ]
  },
  {
   "cell_type": "code",
   "execution_count": 131,
   "metadata": {
    "ExecuteTime": {
     "end_time": "2018-12-05T19:16:45.384682Z",
     "start_time": "2018-12-05T19:16:45.376906Z"
    }
   },
   "outputs": [],
   "source": [
    "def wrapper_past_stats(df):\n",
    "    df['pat_stats'] = df.apply(get_past_stats, axis=1)\n",
    "    return df\n",
    "\n",
    "past_stats = parallelize_dataframe(dft, wrapper_past_stats)"
   ]
  },
  {
   "cell_type": "code",
   "execution_count": null,
   "metadata": {
    "ExecuteTime": {
     "end_time": "2018-12-05T10:59:01.739212Z",
     "start_time": "2018-12-05T07:15:12.314Z"
    }
   },
   "outputs": [],
   "source": [
    "gc.collect()"
   ]
  },
  {
   "cell_type": "code",
   "execution_count": 6,
   "metadata": {
    "ExecuteTime": {
     "end_time": "2018-12-03T07:31:31.439241Z",
     "start_time": "2018-12-03T07:31:31.435270Z"
    }
   },
   "outputs": [],
   "source": [
    "import string\n",
    "from sklearn.feature_extraction.stop_words import ENGLISH_STOP_WORDS"
   ]
  },
  {
   "cell_type": "code",
   "execution_count": 7,
   "metadata": {
    "ExecuteTime": {
     "end_time": "2018-12-03T07:33:15.412888Z",
     "start_time": "2018-12-03T07:31:32.867628Z"
    }
   },
   "outputs": [],
   "source": [
    "table = str.maketrans({key: ' ' for key in string.digits + string.punctuation + '\\t\\n\\r'})\n",
    "\n",
    "def load_glove(filename):\n",
    "    glove = {}\n",
    "    with open(filename, 'r') as read_file:\n",
    "        for line in read_file:\n",
    "            key = line.split(' ')[0]\n",
    "            vector = np.array(line.split(' ')[1:], dtype=np.float)\n",
    "            glove[key] = vector\n",
    "\n",
    "    return glove\n",
    "\n",
    "def words(text):\n",
    "    text = text.lower()\n",
    "    text = text.translate(table).strip()\n",
    "    terms = text.split(' ')\n",
    "    terms = [t for t in terms if len(t) > 2]\n",
    "    terms = [t for t in terms if t not in ENGLISH_STOP_WORDS]\n",
    "\n",
    "    return terms\n",
    "\n",
    "def get_doc2vec(text, gloves):\n",
    "    count_words = 0\n",
    "    final_vector = 0\n",
    "    terms = words(text)\n",
    "\n",
    "    for t in terms:\n",
    "        if t in gloves.keys():\n",
    "            count_words += 1\n",
    "            final_vector += gloves[t]\n",
    "    if count_words != 0:\n",
    "        return final_vector / count_words\n",
    "    else:\n",
    "        return None\n",
    "\n",
    "gloves = load_glove('Data/glove.twitter.27B.200d.txt')"
   ]
  },
  {
   "cell_type": "code",
   "execution_count": 8,
   "metadata": {
    "ExecuteTime": {
     "end_time": "2018-12-03T07:33:15.419380Z",
     "start_time": "2018-12-03T07:33:15.415912Z"
    }
   },
   "outputs": [],
   "source": [
    "from scipy.spatial.distance import cosine"
   ]
  },
  {
   "cell_type": "code",
   "execution_count": 13,
   "metadata": {
    "ExecuteTime": {
     "end_time": "2018-12-03T07:35:58.979785Z",
     "start_time": "2018-12-03T07:35:10.567784Z"
    }
   },
   "outputs": [],
   "source": [
    "comment_to_body = pd_to_dict(df[['name', 'body']],\n",
    "                                index='name', column='body')\n",
    "comment_to_parent = pd_to_dict(df[['name', 'parent_id']],\n",
    "                                index='name', column='parent_id')\n",
    "\n",
    "def get_cosine_angle(cmnt_id):\n",
    "    child = comment_to_body[cmnt_id]\n",
    "    try:\n",
    "        parent = comment_to_body[comment_to_parent[cmnt_id]]\n",
    "    except KeyError:\n",
    "        return None\n",
    "    child = get_doc2vec(child, gloves)\n",
    "    parent = get_doc2vec(parent, gloves)\n",
    "    if child is None:\n",
    "        return None\n",
    "    if parent is None:\n",
    "        return None\n",
    "    return cosine(child, parent)\n",
    "\n",
    "def wrapper_get_cosine(df):\n",
    "    df['cosine_angle'] = df['name'].apply(get_cosine_angle)\n",
    "    return df\n",
    "\n",
    "cosine_angle = parallelize_dataframe(df['name'].to_frame(), wrapper_get_cosine)\n",
    "\n",
    "df['parent_cos_angle'] = cosine_angle.cosine_angle\n",
    "\n",
    "del cosine_angle"
   ]
  },
  {
   "cell_type": "code",
   "execution_count": 14,
   "metadata": {
    "ExecuteTime": {
     "end_time": "2018-12-03T07:36:03.230224Z",
     "start_time": "2018-12-03T07:36:01.881453Z"
    }
   },
   "outputs": [],
   "source": [
    "comment_to_body = pd_to_dict(df[['name', 'body']],\n",
    "                                index='name', column='body')\n",
    "comment_to_title = pd_to_dict(df[['name', 'title']],\n",
    "                                index='name', column='title')"
   ]
  },
  {
   "cell_type": "code",
   "execution_count": 15,
   "metadata": {
    "ExecuteTime": {
     "end_time": "2018-12-03T07:36:04.182032Z",
     "start_time": "2018-12-03T07:36:04.177088Z"
    }
   },
   "outputs": [],
   "source": [
    "def get_cosine_angle(cmnt_id):\n",
    "    child = comment_to_body[cmnt_id]\n",
    "    try:\n",
    "        parent = comment_to_title[cmnt_id]\n",
    "        child = get_doc2vec(child, gloves)\n",
    "        parent = get_doc2vec(parent, gloves)\n",
    "    except:\n",
    "        return None\n",
    "    if child is None:\n",
    "        return None\n",
    "    if parent is None:\n",
    "        return None\n",
    "    return cosine(child, parent)\n",
    "\n",
    "def wrapper_get_cosine(df):\n",
    "    df['cosine_angle2'] = df['name'].apply(get_cosine_angle)\n",
    "    return df"
   ]
  },
  {
   "cell_type": "code",
   "execution_count": 16,
   "metadata": {
    "ExecuteTime": {
     "end_time": "2018-12-03T07:37:01.954947Z",
     "start_time": "2018-12-03T07:36:05.411498Z"
    }
   },
   "outputs": [],
   "source": [
    "cosine_angle = parallelize_dataframe(df['name'].to_frame(), wrapper_get_cosine)"
   ]
  },
  {
   "cell_type": "code",
   "execution_count": 20,
   "metadata": {
    "ExecuteTime": {
     "end_time": "2018-12-03T07:37:27.683051Z",
     "start_time": "2018-12-03T07:37:27.662752Z"
    }
   },
   "outputs": [],
   "source": [
    "df['title_cos_angle'] = cosine_angle.cosine_angle2\n",
    "\n",
    "del cosine_angle\n",
    "del comment_to_body\n",
    "del comment_to_parent\n",
    "del comment_to_parent_dict\n",
    "del comment_to_score\n",
    "del comment_to_time\n",
    "del comment_to_title\n",
    "del glovesd"
   ]
  },
  {
   "cell_type": "code",
   "execution_count": 21,
   "metadata": {
    "ExecuteTime": {
     "end_time": "2018-12-03T07:37:36.258820Z",
     "start_time": "2018-12-03T07:37:36.248101Z"
    }
   },
   "outputs": [
    {
     "data": {
      "text/plain": [
       "(1372864, 49)"
      ]
     },
     "execution_count": 21,
     "metadata": {},
     "output_type": "execute_result"
    }
   ],
   "source": [
    "df.shape"
   ]
  },
  {
   "cell_type": "code",
   "execution_count": 75,
   "metadata": {
    "ExecuteTime": {
     "end_time": "2018-12-03T07:51:43.496066Z",
     "start_time": "2018-12-03T07:51:36.855827Z"
    }
   },
   "outputs": [],
   "source": [
    "# df.to_pickle('Data/new_data.pkl')\n",
    "df = pd.read_pickle('Data/new_data.pkl')"
   ]
  },
  {
   "cell_type": "markdown",
   "metadata": {},
   "source": [
    "Cleaning"
   ]
  },
  {
   "cell_type": "code",
   "execution_count": 44,
   "metadata": {
    "ExecuteTime": {
     "end_time": "2018-12-03T07:41:34.193127Z",
     "start_time": "2018-12-03T07:41:34.186811Z"
    }
   },
   "outputs": [
    {
     "data": {
      "text/plain": [
       "Index(['ups', 'link_id', 'name', 'subreddit', 'gilded', 'score',\n",
       "       'retrieved_on', 'body', 'distinguished', 'edited', 'controversiality',\n",
       "       'parent_id', 'is_flair', 'is_flair_css', 'time', 'url', 'num_comments',\n",
       "       'over_18', 'link_score', 'selftext', 'title', 'upvote_ratio',\n",
       "       'link_ups', 'link_created_time', 'time_since_link', 'depth',\n",
       "       'linked_sr', 'linked_urls', 'no_of_linked_sr', 'no_of_linked_urls',\n",
       "       'a_linked_urls', 'a_linked_sr', 'parent_score', 'comment_tree_root_id',\n",
       "       'comment_tree_root_score', 'time_since_comment_tree_root',\n",
       "       'subjectivity', 'is_edited', 'senti_neg', 'senti_neu', 'senti_pos',\n",
       "       'senti_comp', 'is_quoted', 'no_quoted', 'time_since_parent',\n",
       "       'word_counts', 'cos_angle', 'title_cos_angle', 'parent_cos_angle',\n",
       "       'is_root', 'is_selftext'],\n",
       "      dtype='object')"
      ]
     },
     "execution_count": 44,
     "metadata": {},
     "output_type": "execute_result"
    }
   ],
   "source": [
    "df.columns"
   ]
  },
  {
   "cell_type": "code",
   "execution_count": 76,
   "metadata": {
    "ExecuteTime": {
     "end_time": "2018-12-03T07:51:43.662049Z",
     "start_time": "2018-12-03T07:51:43.500659Z"
    }
   },
   "outputs": [],
   "source": [
    "df.distinguished.replace(to_replace=np.NaN, value='user', inplace=True)\n",
    "df['distinguished'] = df.distinguished.astype('category')"
   ]
  },
  {
   "cell_type": "code",
   "execution_count": 77,
   "metadata": {
    "ExecuteTime": {
     "end_time": "2018-12-03T07:51:45.309963Z",
     "start_time": "2018-12-03T07:51:44.573144Z"
    }
   },
   "outputs": [],
   "source": [
    "df = df[~df.depth.isna()]"
   ]
  },
  {
   "cell_type": "code",
   "execution_count": 78,
   "metadata": {
    "ExecuteTime": {
     "end_time": "2018-12-03T07:51:49.516232Z",
     "start_time": "2018-12-03T07:51:48.224179Z"
    }
   },
   "outputs": [],
   "source": [
    "df.drop(['cos_angle'], inplace=True, axis=1)"
   ]
  },
  {
   "cell_type": "code",
   "execution_count": 80,
   "metadata": {
    "ExecuteTime": {
     "end_time": "2018-12-03T07:52:10.840161Z",
     "start_time": "2018-12-03T07:52:10.805430Z"
    }
   },
   "outputs": [],
   "source": [
    "df.loc[df.is_root, 'parent_cos_angle'] = 1"
   ]
  },
  {
   "cell_type": "code",
   "execution_count": 81,
   "metadata": {
    "ExecuteTime": {
     "end_time": "2018-12-03T07:52:13.473586Z",
     "start_time": "2018-12-03T07:52:13.444317Z"
    }
   },
   "outputs": [
    {
     "data": {
      "text/plain": [
       "285.0"
      ]
     },
     "execution_count": 81,
     "metadata": {},
     "output_type": "execute_result"
    }
   ],
   "source": [
    "df.word_counts.quantile(0.995)"
   ]
  },
  {
   "cell_type": "code",
   "execution_count": 82,
   "metadata": {
    "ExecuteTime": {
     "end_time": "2018-12-03T07:52:14.871169Z",
     "start_time": "2018-12-03T07:52:14.133213Z"
    }
   },
   "outputs": [],
   "source": [
    "df = df[df['word_counts'] < 280]"
   ]
  },
  {
   "cell_type": "code",
   "execution_count": 83,
   "metadata": {
    "ExecuteTime": {
     "end_time": "2018-12-03T07:52:18.021071Z",
     "start_time": "2018-12-03T07:52:15.552775Z"
    }
   },
   "outputs": [],
   "source": [
    "df = df[df.body != '[deleted]']\n",
    "df = df[df.body != '[removed]']\n",
    "df = df[df.body != '']"
   ]
  },
  {
   "cell_type": "code",
   "execution_count": 84,
   "metadata": {
    "ExecuteTime": {
     "end_time": "2018-12-03T07:52:18.027012Z",
     "start_time": "2018-12-03T07:52:18.023776Z"
    }
   },
   "outputs": [],
   "source": [
    "df.reset_index(inplace=True, drop=True)"
   ]
  },
  {
   "cell_type": "code",
   "execution_count": 90,
   "metadata": {
    "ExecuteTime": {
     "end_time": "2018-12-03T07:52:56.200203Z",
     "start_time": "2018-12-03T07:52:54.932468Z"
    }
   },
   "outputs": [],
   "source": [
    "df = df[~df.title_cos_angle.isna()]\n",
    "df = df[~df.parent_cos_angle.isna()]"
   ]
  },
  {
   "cell_type": "code",
   "execution_count": 91,
   "metadata": {
    "ExecuteTime": {
     "end_time": "2018-12-03T07:52:56.813076Z",
     "start_time": "2018-12-03T07:52:56.808245Z"
    }
   },
   "outputs": [
    {
     "data": {
      "text/plain": [
       "(1176815, 50)"
      ]
     },
     "execution_count": 91,
     "metadata": {},
     "output_type": "execute_result"
    }
   ],
   "source": [
    "df.shape"
   ]
  },
  {
   "cell_type": "code",
   "execution_count": 92,
   "metadata": {
    "ExecuteTime": {
     "end_time": "2018-12-03T07:53:36.319257Z",
     "start_time": "2018-12-03T07:53:36.192705Z"
    }
   },
   "outputs": [],
   "source": [
    "import seaborn as sns"
   ]
  },
  {
   "cell_type": "code",
   "execution_count": 93,
   "metadata": {
    "ExecuteTime": {
     "end_time": "2018-12-03T07:53:54.545832Z",
     "start_time": "2018-12-03T07:53:54.180321Z"
    }
   },
   "outputs": [
    {
     "data": {
      "text/plain": [
       "<matplotlib.axes._subplots.AxesSubplot at 0x7f2748947390>"
      ]
     },
     "execution_count": 93,
     "metadata": {},
     "output_type": "execute_result"
    },
    {
     "data": {
      "image/png": "[encoded data removed]",
      "text/plain": [
       "<Figure size 432x288 with 1 Axes>"
      ]
     },
     "metadata": {},
     "output_type": "display_data"
    }
   ],
   "source": [
    "sns.countplot(data=df, x='subreddit')"
   ]
  },
  {
   "cell_type": "code",
   "execution_count": 94,
   "metadata": {
    "ExecuteTime": {
     "end_time": "2018-12-03T07:54:58.756789Z",
     "start_time": "2018-12-03T07:54:58.748259Z"
    }
   },
   "outputs": [
    {
     "data": {
      "text/plain": [
       "Index(['ups', 'link_id', 'name', 'subreddit', 'gilded', 'score',\n",
       "       'retrieved_on', 'body', 'distinguished', 'edited', 'controversiality',\n",
       "       'parent_id', 'is_flair', 'is_flair_css', 'time', 'url', 'num_comments',\n",
       "       'over_18', 'link_score', 'selftext', 'title', 'upvote_ratio',\n",
       "       'link_ups', 'link_created_time', 'time_since_link', 'depth',\n",
       "       'linked_sr', 'linked_urls', 'no_of_linked_sr', 'no_of_linked_urls',\n",
       "       'a_linked_urls', 'a_linked_sr', 'parent_score', 'comment_tree_root_id',\n",
       "       'comment_tree_root_score', 'time_since_comment_tree_root',\n",
       "       'subjectivity', 'is_edited', 'senti_neg', 'senti_neu', 'senti_pos',\n",
       "       'senti_comp', 'is_quoted', 'no_quoted', 'time_since_parent',\n",
       "       'word_counts', 'title_cos_angle', 'parent_cos_angle', 'is_root',\n",
       "       'is_selftext'],\n",
       "      dtype='object')"
      ]
     },
     "execution_count": 94,
     "metadata": {},
     "output_type": "execute_result"
    }
   ],
   "source": [
    "df.columns"
   ]
  },
  {
   "cell_type": "code",
   "execution_count": 103,
   "metadata": {
    "ExecuteTime": {
     "end_time": "2018-12-03T08:06:26.149980Z",
     "start_time": "2018-12-03T08:06:26.143958Z"
    }
   },
   "outputs": [],
   "source": [
    "cat_cols = ['subreddit', 'distinguished', 'is_flair', 'is_flair_css']\n",
    "bool_cols = ['over_18', 'is_edited', 'is_quoted', 'is_root', 'is_selftext']\n",
    "# multi_label = url\n",
    "numeric_cols = ['gilded', 'controversiality', 'num_comments', 'link_score',\n",
    "                'upvote_ratio', 'link_ups', 'time_since_link', 'depth',\n",
    "                'no_of_linked_sr', 'no_of_linked_urls', 'parent_score',\n",
    "                'comment_tree_root_score', 'time_since_comment_tree_root',\n",
    "                'subjectivity', 'senti_neg', 'senti_pos', 'senti_neu',\n",
    "                'senti_comp', 'no_quoted', 'time_since_parent', 'word_counts',\n",
    "                'title_cos_angle', 'parent_cos_angle']"
   ]
  },
  {
   "cell_type": "code",
   "execution_count": 98,
   "metadata": {
    "ExecuteTime": {
     "end_time": "2018-12-03T08:02:20.739422Z",
     "start_time": "2018-12-03T08:02:20.734111Z"
    }
   },
   "outputs": [],
   "source": [
    "from scipy.sparse import hstack"
   ]
  },
  {
   "cell_type": "code",
   "execution_count": 99,
   "metadata": {
    "ExecuteTime": {
     "end_time": "2018-12-03T08:02:28.930556Z",
     "start_time": "2018-12-03T08:02:28.923641Z"
    }
   },
   "outputs": [],
   "source": [
    "lb = LabelBinarizer()"
   ]
  },
  {
   "cell_type": "code",
   "execution_count": 106,
   "metadata": {
    "ExecuteTime": {
     "end_time": "2018-12-03T08:08:47.987810Z",
     "start_time": "2018-12-03T08:08:35.992810Z"
    }
   },
   "outputs": [],
   "source": [
    "cat = [lb.fit_transform(df[col]) for col in cat_cols]\n",
    "bol = [df[col].astype('int') for col in bool_cols]\n",
    "t = df.loc[:, numeric_cols].values\n",
    "final = [t] + bol + cat"
   ]
  },
  {
   "cell_type": "code",
   "execution_count": 118,
   "metadata": {
    "ExecuteTime": {
     "end_time": "2018-12-03T08:12:45.079741Z",
     "start_time": "2018-12-03T08:12:44.306216Z"
    }
   },
   "outputs": [],
   "source": [
    "y = df.score.values\n",
    "x = np.column_stack(tuple(final))"
   ]
  },
  {
   "cell_type": "code",
   "execution_count": 120,
   "metadata": {
    "ExecuteTime": {
     "end_time": "2018-12-03T08:12:52.966477Z",
     "start_time": "2018-12-03T08:12:52.953468Z"
    }
   },
   "outputs": [
    {
     "data": {
      "text/plain": [
       "(1176815, 50)"
      ]
     },
     "execution_count": 120,
     "metadata": {},
     "output_type": "execute_result"
    }
   ],
   "source": [
    "df.shape"
   ]
  },
  {
   "cell_type": "code",
   "execution_count": 119,
   "metadata": {
    "ExecuteTime": {
     "end_time": "2018-12-03T08:12:50.217536Z",
     "start_time": "2018-12-03T08:12:50.209183Z"
    }
   },
   "outputs": [
    {
     "data": {
      "text/plain": [
       "(1176815, 38)"
      ]
     },
     "execution_count": 119,
     "metadata": {},
     "output_type": "execute_result"
    }
   ],
   "source": [
    "x.shape"
   ]
  },
  {
   "cell_type": "code",
   "execution_count": 121,
   "metadata": {
    "ExecuteTime": {
     "end_time": "2018-12-03T08:13:47.940497Z",
     "start_time": "2018-12-03T08:13:45.608927Z"
    }
   },
   "outputs": [],
   "source": [
    "X_train, X_test, y_train, y_test = train_test_split(x, y, test_size=0.2,\n",
    "                                                    random_state=42)"
   ]
  },
  {
   "cell_type": "code",
   "execution_count": 122,
   "metadata": {
    "ExecuteTime": {
     "end_time": "2018-12-03T08:13:55.861216Z",
     "start_time": "2018-12-03T08:13:55.827148Z"
    }
   },
   "outputs": [],
   "source": [
    "from sklearn.ensemble import RandomForestRegressor"
   ]
  },
  {
   "cell_type": "code",
   "execution_count": 123,
   "metadata": {
    "ExecuteTime": {
     "end_time": "2018-12-03T08:18:18.745991Z",
     "start_time": "2018-12-03T08:14:15.046746Z"
    }
   },
   "outputs": [
    {
     "data": {
      "text/plain": [
       "RandomForestRegressor(bootstrap=True, criterion='mse', max_depth=None,\n",
       "           max_features='auto', max_leaf_nodes=None,\n",
       "           min_impurity_decrease=0.0, min_impurity_split=None,\n",
       "           min_samples_leaf=10, min_samples_split=2,\n",
       "           min_weight_fraction_leaf=0.0, n_estimators=40, n_jobs=-1,\n",
       "           oob_score=False, random_state=None, verbose=0, warm_start=False)"
      ]
     },
     "execution_count": 123,
     "metadata": {},
     "output_type": "execute_result"
    }
   ],
   "source": [
    "m = RandomForestRegressor(n_jobs=-1, n_estimators=40, min_samples_leaf=10)\n",
    "m.fit(X_train, y_train)"
   ]
  },
  {
   "cell_type": "code",
   "execution_count": 124,
   "metadata": {
    "ExecuteTime": {
     "end_time": "2018-12-03T08:18:20.210896Z",
     "start_time": "2018-12-03T08:18:18.749974Z"
    }
   },
   "outputs": [
    {
     "name": "stdout",
     "output_type": "stream",
     "text": [
      "R-Sq: 0.7532\n",
      "RMSE: 36.22493185419671\n"
     ]
    }
   ],
   "source": [
    "y_predicted = m.predict(X_test)\n",
    "r2 = r2_score(y_test, y_predicted)\n",
    "mse = mean_squared_error(y_test, y_predicted)\n",
    "print(f\"R-Sq: {r2:.4}\")\n",
    "print(f\"RMSE: {np.sqrt(mse)}\")"
   ]
  },
  {
   "cell_type": "code",
   "execution_count": 126,
   "metadata": {
    "ExecuteTime": {
     "end_time": "2018-12-03T08:18:32.625666Z",
     "start_time": "2018-12-03T08:18:31.022911Z"
    }
   },
   "outputs": [
    {
     "data": {
      "image/png": "[encoded data removed]",
      "text/plain": [
       "<Figure size 432x288 with 1 Axes>"
      ]
     },
     "metadata": {},
     "output_type": "display_data"
    }
   ],
   "source": [
    "plt.hist(abs(y_test - y_predicted), bins=400, range=[0, 500], log=True);"
   ]
  },
  {
   "cell_type": "code",
   "execution_count": 127,
   "metadata": {
    "ExecuteTime": {
     "end_time": "2018-12-03T08:20:38.444906Z",
     "start_time": "2018-12-03T08:20:38.435862Z"
    }
   },
   "outputs": [],
   "source": [
    "from sklearn.ensemble import GradientBoostingRegressor"
   ]
  },
  {
   "cell_type": "code",
   "execution_count": 128,
   "metadata": {
    "ExecuteTime": {
     "end_time": "2018-12-03T08:27:55.774576Z",
     "start_time": "2018-12-03T08:20:45.331063Z"
    }
   },
   "outputs": [
    {
     "data": {
      "text/plain": [
       "GradientBoostingRegressor(alpha=0.9, criterion='friedman_mse', init=None,\n",
       "             learning_rate=0.1, loss='ls', max_depth=3, max_features=None,\n",
       "             max_leaf_nodes=None, min_impurity_decrease=0.0,\n",
       "             min_impurity_split=None, min_samples_leaf=10,\n",
       "             min_samples_split=2, min_weight_fraction_leaf=0.0,\n",
       "             n_estimators=100, n_iter_no_change=None, presort='auto',\n",
       "             random_state=None, subsample=1.0, tol=0.0001,\n",
       "             validation_fraction=0.1, verbose=0, warm_start=False)"
      ]
     },
     "execution_count": 128,
     "metadata": {},
     "output_type": "execute_result"
    }
   ],
   "source": [
    "m = GradientBoostingRegressor(n_estimators=100, min_samples_leaf=10)\n",
    "m.fit(X_train, y_train)"
   ]
  },
  {
   "cell_type": "code",
   "execution_count": 129,
   "metadata": {
    "ExecuteTime": {
     "end_time": "2018-12-03T08:27:56.986009Z",
     "start_time": "2018-12-03T08:27:55.777190Z"
    }
   },
   "outputs": [
    {
     "name": "stdout",
     "output_type": "stream",
     "text": [
      "R-Sq: 0.6794\n",
      "RMSE: 41.28348575152193\n"
     ]
    }
   ],
   "source": [
    "y_predicted = m.predict(X_test)\n",
    "r2 = r2_score(y_test, y_predicted)\n",
    "mse = mean_squared_error(y_test, y_predicted)\n",
    "print(f\"R-Sq: {r2:.4}\")\n",
    "print(f\"RMSE: {np.sqrt(mse)}\")"
   ]
  },
  {
   "cell_type": "code",
   "execution_count": 130,
   "metadata": {
    "ExecuteTime": {
     "end_time": "2018-12-03T08:27:58.588932Z",
     "start_time": "2018-12-03T08:27:56.989004Z"
    }
   },
   "outputs": [
    {
     "data": {
      "image/png": "[encoded data removed]",
      "text/plain": [
       "<Figure size 432x288 with 1 Axes>"
      ]
     },
     "metadata": {},
     "output_type": "display_data"
    }
   ],
   "source": [
    "plt.hist(abs(y_test - y_predicted), bins=400, range=[0, 500], log=True);"
   ]
  },
  {
   "cell_type": "code",
   "execution_count": null,
   "metadata": {},
   "outputs": [],
   "source": []
  }
 ],
 "metadata": {
  "kernelspec": {
   "display_name": "Python 3",
   "language": "python",
   "name": "python3"
  },
  "language_info": {
   "codemirror_mode": {
    "name": "ipython",
    "version": 3
   },
   "file_extension": ".py",
   "mimetype": "text/x-python",
   "name": "python",
   "nbconvert_exporter": "python",
   "pygments_lexer": "ipython3",
   "version": "3.6.5"
  }
 },
 "nbformat": 4,
 "nbformat_minor": 2
}
