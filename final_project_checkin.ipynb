{
 "cells": [
  {
   "cell_type": "markdown",
   "metadata": {},
   "source": [
    "Final Project Check-in 2018-11-16\n",
    "------"
   ]
  },
  {
   "cell_type": "markdown",
   "metadata": {},
   "source": [
    "Group Name\n",
    "-----\n",
    "Data Explorers"
   ]
  },
  {
   "cell_type": "markdown",
   "metadata": {},
   "source": [
    "Student Names\n",
    "----"
   ]
  },
  {
   "cell_type": "markdown",
   "metadata": {},
   "source": [
    "1. Adam Reevesman\n",
    "2. Gokul Krishna\n",
    "3. Hai Le\n",
    "4. Maximillian Alfaro \n",
    "5. Prakhar Agrawal:"
   ]
  },
  {
   "cell_type": "code",
   "execution_count": 1,
   "metadata": {},
   "outputs": [],
   "source": [
    "import numpy as np\n",
    "import matplotlib.pyplot as plt\n",
    "%matplotlib inline\n",
    "import pandas as pd\n",
    "from pathlib import Path\n",
    "import re\n",
    "import seaborn as sns\n",
    "from sklearn.preprocessing import LabelBinarizer, MultiLabelBinarizer\n",
    "from vaderSentiment.vaderSentiment import SentimentIntensityAnalyzer"
   ]
  },
  {
   "cell_type": "markdown",
   "metadata": {},
   "source": [
    "Load Data\n",
    "-----"
   ]
  },
  {
   "cell_type": "code",
   "execution_count": 2,
   "metadata": {},
   "outputs": [
    {
     "name": "stderr",
     "output_type": "stream",
     "text": [
      "/anaconda3/envs/ml/lib/python3.6/site-packages/pandas/io/feather_format.py:112: FutureWarning: `nthreads` argument is deprecated, pass `use_threads` instead\n",
      "  return feather.read_dataframe(path, nthreads=nthreads)\n"
     ]
    }
   ],
   "source": [
    "path = Path('Data/')\n",
    "df = pd.read_feather('Data/May2015_subset.fthr')"
   ]
  },
  {
   "cell_type": "code",
   "execution_count": 39,
   "metadata": {},
   "outputs": [
    {
     "data": {
      "text/html": [
       "<div>\n",
       "<style scoped>\n",
       "    .dataframe tbody tr th:only-of-type {\n",
       "        vertical-align: middle;\n",
       "    }\n",
       "\n",
       "    .dataframe tbody tr th {\n",
       "        vertical-align: top;\n",
       "    }\n",
       "\n",
       "    .dataframe thead th {\n",
       "        text-align: right;\n",
       "    }\n",
       "</style>\n",
       "<table border=\"1\" class=\"dataframe\">\n",
       "  <thead>\n",
       "    <tr style=\"text-align: right;\">\n",
       "      <th></th>\n",
       "      <th>6195169</th>\n",
       "      <th>6195170</th>\n",
       "      <th>6195171</th>\n",
       "    </tr>\n",
       "  </thead>\n",
       "  <tbody>\n",
       "    <tr>\n",
       "      <th>created_utc</th>\n",
       "      <td>1433116781</td>\n",
       "      <td>1433116784</td>\n",
       "      <td>1433116785</td>\n",
       "    </tr>\n",
       "    <tr>\n",
       "      <th>ups</th>\n",
       "      <td>170</td>\n",
       "      <td>9</td>\n",
       "      <td>37</td>\n",
       "    </tr>\n",
       "    <tr>\n",
       "      <th>link_id</th>\n",
       "      <td>t3_37zl5z</td>\n",
       "      <td>t3_380j06</td>\n",
       "      <td>t3_37z0mw</td>\n",
       "    </tr>\n",
       "    <tr>\n",
       "      <th>name</th>\n",
       "      <td>t1_crrbedn</td>\n",
       "      <td>t1_crrbefm</td>\n",
       "      <td>t1_crrbeft</td>\n",
       "    </tr>\n",
       "    <tr>\n",
       "      <th>subreddit</th>\n",
       "      <td>worldnews</td>\n",
       "      <td>worldnews</td>\n",
       "      <td>worldnews</td>\n",
       "    </tr>\n",
       "    <tr>\n",
       "      <th>id</th>\n",
       "      <td>crrbedn</td>\n",
       "      <td>crrbefm</td>\n",
       "      <td>crrbeft</td>\n",
       "    </tr>\n",
       "    <tr>\n",
       "      <th>score</th>\n",
       "      <td>170</td>\n",
       "      <td>9</td>\n",
       "      <td>37</td>\n",
       "    </tr>\n",
       "    <tr>\n",
       "      <th>body</th>\n",
       "      <td>Because it's not typically done to babies It's...</td>\n",
       "      <td>&amp;gt Nothing they are doing is illegal under in...</td>\n",
       "      <td>Apart from the risk of inhalation pneumonia</td>\n",
       "    </tr>\n",
       "    <tr>\n",
       "      <th>distinguished</th>\n",
       "      <td>NaN</td>\n",
       "      <td>NaN</td>\n",
       "      <td>NaN</td>\n",
       "    </tr>\n",
       "    <tr>\n",
       "      <th>controversiality</th>\n",
       "      <td>0</td>\n",
       "      <td>0</td>\n",
       "      <td>0</td>\n",
       "    </tr>\n",
       "    <tr>\n",
       "      <th>parent_id</th>\n",
       "      <td>t1_crrax76</td>\n",
       "      <td>t1_crrb19g</td>\n",
       "      <td>t1_crrb2cx</td>\n",
       "    </tr>\n",
       "    <tr>\n",
       "      <th>time</th>\n",
       "      <td>2015-05-31 23:59:41</td>\n",
       "      <td>2015-05-31 23:59:44</td>\n",
       "      <td>2015-05-31 23:59:45</td>\n",
       "    </tr>\n",
       "    <tr>\n",
       "      <th>time_lapse</th>\n",
       "      <td>14023</td>\n",
       "      <td>1786</td>\n",
       "      <td>24920</td>\n",
       "    </tr>\n",
       "    <tr>\n",
       "      <th>depth</th>\n",
       "      <td>4</td>\n",
       "      <td>2</td>\n",
       "      <td>6</td>\n",
       "    </tr>\n",
       "    <tr>\n",
       "      <th>respond_to_comment</th>\n",
       "      <td>1</td>\n",
       "      <td>1</td>\n",
       "      <td>1</td>\n",
       "    </tr>\n",
       "    <tr>\n",
       "      <th>respond_to_link</th>\n",
       "      <td>0</td>\n",
       "      <td>0</td>\n",
       "      <td>0</td>\n",
       "    </tr>\n",
       "    <tr>\n",
       "      <th>subjectivity</th>\n",
       "      <td>0</td>\n",
       "      <td>0</td>\n",
       "      <td>0</td>\n",
       "    </tr>\n",
       "    <tr>\n",
       "      <th>word_count</th>\n",
       "      <td>67</td>\n",
       "      <td>123</td>\n",
       "      <td>7</td>\n",
       "    </tr>\n",
       "    <tr>\n",
       "      <th>linked_sr</th>\n",
       "      <td>[]</td>\n",
       "      <td>[]</td>\n",
       "      <td>[]</td>\n",
       "    </tr>\n",
       "    <tr>\n",
       "      <th>no_of_linked_sr</th>\n",
       "      <td>0</td>\n",
       "      <td>0</td>\n",
       "      <td>0</td>\n",
       "    </tr>\n",
       "  </tbody>\n",
       "</table>\n",
       "</div>"
      ],
      "text/plain": [
       "                                                              6195169  \\\n",
       "created_utc                                                1433116781   \n",
       "ups                                                               170   \n",
       "link_id                                                     t3_37zl5z   \n",
       "name                                                       t1_crrbedn   \n",
       "subreddit                                                   worldnews   \n",
       "id                                                            crrbedn   \n",
       "score                                                             170   \n",
       "body                Because it's not typically done to babies It's...   \n",
       "distinguished                                                     NaN   \n",
       "controversiality                                                    0   \n",
       "parent_id                                                  t1_crrax76   \n",
       "time                                              2015-05-31 23:59:41   \n",
       "time_lapse                                                      14023   \n",
       "depth                                                               4   \n",
       "respond_to_comment                                                  1   \n",
       "respond_to_link                                                     0   \n",
       "subjectivity                                                        0   \n",
       "word_count                                                         67   \n",
       "linked_sr                                                          []   \n",
       "no_of_linked_sr                                                     0   \n",
       "\n",
       "                                                              6195170  \\\n",
       "created_utc                                                1433116784   \n",
       "ups                                                                 9   \n",
       "link_id                                                     t3_380j06   \n",
       "name                                                       t1_crrbefm   \n",
       "subreddit                                                   worldnews   \n",
       "id                                                            crrbefm   \n",
       "score                                                               9   \n",
       "body                &gt Nothing they are doing is illegal under in...   \n",
       "distinguished                                                     NaN   \n",
       "controversiality                                                    0   \n",
       "parent_id                                                  t1_crrb19g   \n",
       "time                                              2015-05-31 23:59:44   \n",
       "time_lapse                                                       1786   \n",
       "depth                                                               2   \n",
       "respond_to_comment                                                  1   \n",
       "respond_to_link                                                     0   \n",
       "subjectivity                                                        0   \n",
       "word_count                                                        123   \n",
       "linked_sr                                                          []   \n",
       "no_of_linked_sr                                                     0   \n",
       "\n",
       "                                                        6195171  \n",
       "created_utc                                          1433116785  \n",
       "ups                                                          37  \n",
       "link_id                                               t3_37z0mw  \n",
       "name                                                 t1_crrbeft  \n",
       "subreddit                                             worldnews  \n",
       "id                                                      crrbeft  \n",
       "score                                                        37  \n",
       "body                Apart from the risk of inhalation pneumonia  \n",
       "distinguished                                               NaN  \n",
       "controversiality                                              0  \n",
       "parent_id                                            t1_crrb2cx  \n",
       "time                                        2015-05-31 23:59:45  \n",
       "time_lapse                                                24920  \n",
       "depth                                                         6  \n",
       "respond_to_comment                                            1  \n",
       "respond_to_link                                               0  \n",
       "subjectivity                                                  0  \n",
       "word_count                                                    7  \n",
       "linked_sr                                                    []  \n",
       "no_of_linked_sr                                               0  "
      ]
     },
     "execution_count": 39,
     "metadata": {},
     "output_type": "execute_result"
    }
   ],
   "source": [
    "df.tail(3).T"
   ]
  },
  {
   "cell_type": "markdown",
   "metadata": {},
   "source": [
    "Preprocessing and Feature Engineering\n",
    "-----"
   ]
  },
  {
   "cell_type": "markdown",
   "metadata": {},
   "source": [
    "First is to exclude columns that are not helpful."
   ]
  },
  {
   "cell_type": "code",
   "execution_count": 4,
   "metadata": {},
   "outputs": [],
   "source": [
    "excluded_var = ['subreddit_id', 'score_hidden', 'author_flair_css_class', \n",
    "                'author_flair_text', 'removal_reason', 'gilded', 'downs', 'archived', \n",
    "                'author', 'retrieved_on', 'edited']\n",
    "df = df.drop(excluded_var, axis=1)"
   ]
  },
  {
   "cell_type": "code",
   "execution_count": 5,
   "metadata": {},
   "outputs": [],
   "source": [
    "df['subreddit'] = df.subreddit.astype('category')\n",
    "# fill na in `distinguised` with 0\n",
    "df['distinguished'].fillna('None', inplace=True)\n",
    "df['distinguished'] = df.distinguished.astype('category')\n",
    "df['link_id'] = df.link_id.astype('category')"
   ]
  },
  {
   "cell_type": "markdown",
   "metadata": {},
   "source": [
    "And make sure the data is in the format we want, eg. for time data to be in datetime format."
   ]
  },
  {
   "cell_type": "code",
   "execution_count": 6,
   "metadata": {},
   "outputs": [],
   "source": [
    "# Convert into date-time type\n",
    "df['time'] = pd.to_datetime(df.created_utc, unit='s')"
   ]
  },
  {
   "cell_type": "markdown",
   "metadata": {},
   "source": [
    "Then we create features based on the raw data we have."
   ]
  },
  {
   "cell_type": "code",
   "execution_count": 7,
   "metadata": {},
   "outputs": [],
   "source": [
    "# Compute the time lapse of each comment compared with the first one\n",
    "df_first_comment = df[['link_id', 'time']].groupby(by=['link_id']).min()\n",
    "df_first_comment_dict = df_first_comment.to_dict('index')\n",
    "\n",
    "def time_zero(x):\n",
    "    return df_first_comment_dict[x]['time']\n",
    "\n",
    "df['time_lapse'] = df.time - df.link_id.apply(time_zero)\n",
    "\n",
    "df['time_lapse'] = df.time_lapse.apply(lambda x: x.seconds)  # convert into seconds"
   ]
  },
  {
   "cell_type": "code",
   "execution_count": 8,
   "metadata": {},
   "outputs": [],
   "source": [
    "# Compute the depth of the comment in the thread\n",
    "def pd_to_dict(df, index='', column=''):\n",
    "    dft = df.copy(deep=True)\n",
    "    dft.index = dft[index]\n",
    "    dft = dft.drop([index], axis=1)\n",
    "    res = dft.to_dict()[column]\n",
    "    del dft\n",
    "    return res\n",
    "\n",
    "comment_to_parent_dict = pd_to_dict(df[['name', 'parent_id']],\n",
    "                                    index='name', column='parent_id')\n",
    "\n",
    "def get_depth(x):\n",
    "    counter = 0\n",
    "    temp = x\n",
    "    while True:\n",
    "        if temp[:3] == 't3_':\n",
    "            return counter\n",
    "        try:\n",
    "            temp = comment_to_parent_dict[temp]\n",
    "        except KeyError:\n",
    "            return np.nan\n",
    "        counter += 1\n",
    "        \n",
    "df['depth'] = df['name'].apply(get_depth)"
   ]
  },
  {
   "cell_type": "markdown",
   "metadata": {},
   "source": [
    "A fraction of records doesn't have a proper `parent_id` which results in nulls in our derived feature `depth`. So we will remove those rows."
   ]
  },
  {
   "cell_type": "code",
   "execution_count": 9,
   "metadata": {},
   "outputs": [],
   "source": [
    "df = df[df.depth.isna() == False]"
   ]
  },
  {
   "cell_type": "markdown",
   "metadata": {},
   "source": [
    "Now we can also get rid of unuseful records, ie. those whose comment text was deleted."
   ]
  },
  {
   "cell_type": "code",
   "execution_count": 24,
   "metadata": {},
   "outputs": [],
   "source": [
    "df = df[~(df.body == '[deleted]')]"
   ]
  },
  {
   "cell_type": "code",
   "execution_count": 26,
   "metadata": {},
   "outputs": [],
   "source": [
    "# Comment types: response to other comments or to links\n",
    "df['respond_to_comment']=np.where(df['parent_id'].str.startswith('t1'), 1,0)\n",
    "df['respond_to_link']=np.where(df['parent_id'].str.startswith('t3'),1,0)"
   ]
  },
  {
   "cell_type": "code",
   "execution_count": 53,
   "metadata": {},
   "outputs": [],
   "source": [
    "# Subjectivity of the comments\n",
    "df['subjectivity'] = df['body'].str.count('i ')"
   ]
  },
  {
   "cell_type": "code",
   "execution_count": 58,
   "metadata": {},
   "outputs": [],
   "source": [
    "# word count \n",
    "df['body'] = df['body'].str.replace('[.,?!;:]', '')  # remove punctuations\n",
    "df['word_count'] = df['body'].str.split().str.len()\n",
    "\n",
    "# remove comments that have  more than 300 words (outliers)\n",
    "df = df[df['word_count'] < 300]"
   ]
  },
  {
   "cell_type": "code",
   "execution_count": 59,
   "metadata": {},
   "outputs": [],
   "source": [
    "# word count categorical variable\n",
    "bins=[-1, 25, 50, 100, 300]\n",
    "df['word_count_cat'] = pd.cut(df['word_count'], \n",
    "                                  bins, labels=['short', 'medium', 'long', 'very long'])"
   ]
  },
  {
   "cell_type": "code",
   "execution_count": 32,
   "metadata": {},
   "outputs": [],
   "source": [
    "df['linked_sr'] = df.body.apply(lambda x: re.findall(r\"/r/([^\\s/]+)\", x))\n",
    "df['no_of_linked_sr'] = df['linked_sr'].apply(lambda x: len(x))"
   ]
  },
  {
   "cell_type": "code",
   "execution_count": 40,
   "metadata": {},
   "outputs": [],
   "source": [
    "df['weekday'] = df['time'].dt.dayofweek\n",
    "df['weekday'] = df.weekday.astype('category')"
   ]
  },
  {
   "cell_type": "code",
   "execution_count": 60,
   "metadata": {},
   "outputs": [
    {
     "data": {
      "text/html": [
       "<div>\n",
       "<style scoped>\n",
       "    .dataframe tbody tr th:only-of-type {\n",
       "        vertical-align: middle;\n",
       "    }\n",
       "\n",
       "    .dataframe tbody tr th {\n",
       "        vertical-align: top;\n",
       "    }\n",
       "\n",
       "    .dataframe thead th {\n",
       "        text-align: right;\n",
       "    }\n",
       "</style>\n",
       "<table border=\"1\" class=\"dataframe\">\n",
       "  <thead>\n",
       "    <tr style=\"text-align: right;\">\n",
       "      <th></th>\n",
       "      <th>1</th>\n",
       "      <th>11</th>\n",
       "      <th>14</th>\n",
       "    </tr>\n",
       "  </thead>\n",
       "  <tbody>\n",
       "    <tr>\n",
       "      <th>created_utc</th>\n",
       "      <td>1430438411</td>\n",
       "      <td>1430438501</td>\n",
       "      <td>1430438525</td>\n",
       "    </tr>\n",
       "    <tr>\n",
       "      <th>ups</th>\n",
       "      <td>12</td>\n",
       "      <td>1</td>\n",
       "      <td>2</td>\n",
       "    </tr>\n",
       "    <tr>\n",
       "      <th>link_id</th>\n",
       "      <td>t3_34gfze</td>\n",
       "      <td>t3_34gma5</td>\n",
       "      <td>t3_34gma5</td>\n",
       "    </tr>\n",
       "    <tr>\n",
       "      <th>name</th>\n",
       "      <td>t1_cqug99n</td>\n",
       "      <td>t1_cqugb3u</td>\n",
       "      <td>t1_cqugbkt</td>\n",
       "    </tr>\n",
       "    <tr>\n",
       "      <th>subreddit</th>\n",
       "      <td>anime</td>\n",
       "      <td>anime</td>\n",
       "      <td>anime</td>\n",
       "    </tr>\n",
       "    <tr>\n",
       "      <th>id</th>\n",
       "      <td>cqug99n</td>\n",
       "      <td>cqugb3u</td>\n",
       "      <td>cqugbkt</td>\n",
       "    </tr>\n",
       "    <tr>\n",
       "      <th>score</th>\n",
       "      <td>12</td>\n",
       "      <td>1</td>\n",
       "      <td>2</td>\n",
       "    </tr>\n",
       "    <tr>\n",
       "      <th>body</th>\n",
       "      <td>I could participate in this but by that time y...</td>\n",
       "      <td>There are shows that I'm sure are brilliant bu...</td>\n",
       "      <td>Good writing Good directing Good sound design</td>\n",
       "    </tr>\n",
       "    <tr>\n",
       "      <th>distinguished</th>\n",
       "      <td>NaN</td>\n",
       "      <td>NaN</td>\n",
       "      <td>NaN</td>\n",
       "    </tr>\n",
       "    <tr>\n",
       "      <th>controversiality</th>\n",
       "      <td>0</td>\n",
       "      <td>0</td>\n",
       "      <td>0</td>\n",
       "    </tr>\n",
       "    <tr>\n",
       "      <th>parent_id</th>\n",
       "      <td>t3_34gfze</td>\n",
       "      <td>t3_34gma5</td>\n",
       "      <td>t3_34gma5</td>\n",
       "    </tr>\n",
       "    <tr>\n",
       "      <th>time</th>\n",
       "      <td>2015-05-01 00:00:11</td>\n",
       "      <td>2015-05-01 00:01:41</td>\n",
       "      <td>2015-05-01 00:02:05</td>\n",
       "    </tr>\n",
       "    <tr>\n",
       "      <th>time_lapse</th>\n",
       "      <td>0</td>\n",
       "      <td>77</td>\n",
       "      <td>101</td>\n",
       "    </tr>\n",
       "    <tr>\n",
       "      <th>depth</th>\n",
       "      <td>1</td>\n",
       "      <td>1</td>\n",
       "      <td>1</td>\n",
       "    </tr>\n",
       "    <tr>\n",
       "      <th>respond_to_comment</th>\n",
       "      <td>0</td>\n",
       "      <td>0</td>\n",
       "      <td>0</td>\n",
       "    </tr>\n",
       "    <tr>\n",
       "      <th>respond_to_link</th>\n",
       "      <td>1</td>\n",
       "      <td>1</td>\n",
       "      <td>1</td>\n",
       "    </tr>\n",
       "    <tr>\n",
       "      <th>subjectivity</th>\n",
       "      <td>0</td>\n",
       "      <td>0</td>\n",
       "      <td>0</td>\n",
       "    </tr>\n",
       "    <tr>\n",
       "      <th>word_count</th>\n",
       "      <td>14</td>\n",
       "      <td>18</td>\n",
       "      <td>7</td>\n",
       "    </tr>\n",
       "    <tr>\n",
       "      <th>linked_sr</th>\n",
       "      <td>[]</td>\n",
       "      <td>[]</td>\n",
       "      <td>[]</td>\n",
       "    </tr>\n",
       "    <tr>\n",
       "      <th>no_of_linked_sr</th>\n",
       "      <td>0</td>\n",
       "      <td>0</td>\n",
       "      <td>0</td>\n",
       "    </tr>\n",
       "    <tr>\n",
       "      <th>weekday</th>\n",
       "      <td>4</td>\n",
       "      <td>4</td>\n",
       "      <td>4</td>\n",
       "    </tr>\n",
       "    <tr>\n",
       "      <th>word_count_cat</th>\n",
       "      <td>short</td>\n",
       "      <td>short</td>\n",
       "      <td>short</td>\n",
       "    </tr>\n",
       "  </tbody>\n",
       "</table>\n",
       "</div>"
      ],
      "text/plain": [
       "                                                                   1   \\\n",
       "created_utc                                                1430438411   \n",
       "ups                                                                12   \n",
       "link_id                                                     t3_34gfze   \n",
       "name                                                       t1_cqug99n   \n",
       "subreddit                                                       anime   \n",
       "id                                                            cqug99n   \n",
       "score                                                              12   \n",
       "body                I could participate in this but by that time y...   \n",
       "distinguished                                                     NaN   \n",
       "controversiality                                                    0   \n",
       "parent_id                                                   t3_34gfze   \n",
       "time                                              2015-05-01 00:00:11   \n",
       "time_lapse                                                          0   \n",
       "depth                                                               1   \n",
       "respond_to_comment                                                  0   \n",
       "respond_to_link                                                     1   \n",
       "subjectivity                                                        0   \n",
       "word_count                                                         14   \n",
       "linked_sr                                                          []   \n",
       "no_of_linked_sr                                                     0   \n",
       "weekday                                                             4   \n",
       "word_count_cat                                                  short   \n",
       "\n",
       "                                                                   11  \\\n",
       "created_utc                                                1430438501   \n",
       "ups                                                                 1   \n",
       "link_id                                                     t3_34gma5   \n",
       "name                                                       t1_cqugb3u   \n",
       "subreddit                                                       anime   \n",
       "id                                                            cqugb3u   \n",
       "score                                                               1   \n",
       "body                There are shows that I'm sure are brilliant bu...   \n",
       "distinguished                                                     NaN   \n",
       "controversiality                                                    0   \n",
       "parent_id                                                   t3_34gma5   \n",
       "time                                              2015-05-01 00:01:41   \n",
       "time_lapse                                                         77   \n",
       "depth                                                               1   \n",
       "respond_to_comment                                                  0   \n",
       "respond_to_link                                                     1   \n",
       "subjectivity                                                        0   \n",
       "word_count                                                         18   \n",
       "linked_sr                                                          []   \n",
       "no_of_linked_sr                                                     0   \n",
       "weekday                                                             4   \n",
       "word_count_cat                                                  short   \n",
       "\n",
       "                                                               14  \n",
       "created_utc                                            1430438525  \n",
       "ups                                                             2  \n",
       "link_id                                                 t3_34gma5  \n",
       "name                                                   t1_cqugbkt  \n",
       "subreddit                                                   anime  \n",
       "id                                                        cqugbkt  \n",
       "score                                                           2  \n",
       "body                Good writing Good directing Good sound design  \n",
       "distinguished                                                 NaN  \n",
       "controversiality                                                0  \n",
       "parent_id                                               t3_34gma5  \n",
       "time                                          2015-05-01 00:02:05  \n",
       "time_lapse                                                    101  \n",
       "depth                                                           1  \n",
       "respond_to_comment                                              0  \n",
       "respond_to_link                                                 1  \n",
       "subjectivity                                                    0  \n",
       "word_count                                                      7  \n",
       "linked_sr                                                      []  \n",
       "no_of_linked_sr                                                 0  \n",
       "weekday                                                         4  \n",
       "word_count_cat                                              short  "
      ]
     },
     "execution_count": 60,
     "metadata": {},
     "output_type": "execute_result"
    }
   ],
   "source": [
    "df.head(3).T"
   ]
  },
  {
   "cell_type": "markdown",
   "metadata": {},
   "source": [
    "Fit scikit-learn model\n",
    "----"
   ]
  },
  {
   "cell_type": "code",
   "execution_count": 34,
   "metadata": {},
   "outputs": [],
   "source": [
    "from sklearn.metrics import mean_squared_error, r2_score\n",
    "from sklearn.model_selection import train_test_split\n",
    "from sklearn.preprocessing import LabelBinarizer"
   ]
  },
  {
   "cell_type": "code",
   "execution_count": null,
   "metadata": {},
   "outputs": [],
   "source": [
    "binary_variables = []\n",
    "multi_variables = ['subreddit', 'distinguished',  ]"
   ]
  },
  {
   "cell_type": "code",
   "execution_count": 61,
   "metadata": {
    "scrolled": true
   },
   "outputs": [
    {
     "data": {
      "text/plain": [
       "Index(['created_utc', 'ups', 'link_id', 'name', 'subreddit', 'id', 'score',\n",
       "       'body', 'distinguished', 'controversiality', 'parent_id', 'time',\n",
       "       'time_lapse', 'depth', 'respond_to_comment', 'respond_to_link',\n",
       "       'subjectivity', 'word_count', 'linked_sr', 'no_of_linked_sr', 'weekday',\n",
       "       'word_count_cat'],\n",
       "      dtype='object')"
      ]
     },
     "execution_count": 61,
     "metadata": {},
     "output_type": "execute_result"
    }
   ],
   "source": [
    "df.columns"
   ]
  },
  {
   "cell_type": "code",
   "execution_count": null,
   "metadata": {},
   "outputs": [],
   "source": [
    "y = comments.ups.values\n",
    "x = np.concatenate((subreddit_lb.fit_transform(comments.subreddit),\n",
    "                    meta_lb.fit_transform(comments.meta),\n",
    "                    # linked_sr_lb.fit_transform(comments.linked_sr),\n",
    "                    linked_urls_lb.fit_transform(comments.a_linked_urls),\n",
    "                    comments.loc[:, col_numeric].values), axis=1)"
   ]
  },
  {
   "cell_type": "code",
   "execution_count": null,
   "metadata": {},
   "outputs": [],
   "source": [
    "X_train, X_test, y_train, y_test = train_test_split(x, y, test_size=0.2,\n",
    "                                                    random_state=3)"
   ]
  },
  {
   "cell_type": "code",
   "execution_count": null,
   "metadata": {},
   "outputs": [],
   "source": [
    "lm_model = LinearRegression()\n",
    "lm_model.fit(X_train, y_train)\n",
    "y_predicted = lm_model.predict(X_test)"
   ]
  },
  {
   "cell_type": "markdown",
   "metadata": {},
   "source": [
    "Evaluation Metric\n",
    "----"
   ]
  },
  {
   "cell_type": "code",
   "execution_count": null,
   "metadata": {},
   "outputs": [],
   "source": [
    "mse = mean_squared_error(y_test, y_predicted)\n",
    "print(f\"{mse:.4}\")"
   ]
  },
  {
   "cell_type": "code",
   "execution_count": null,
   "metadata": {},
   "outputs": [],
   "source": [
    "r2 = r2_score(y_test, y_predicted)\n",
    "print(f\"{r2:.4}\")"
   ]
  }
 ],
 "metadata": {
  "kernelspec": {
   "display_name": "Python 3",
   "language": "python",
   "name": "python3"
  },
  "language_info": {
   "codemirror_mode": {
    "name": "ipython",
    "version": 3
   },
   "file_extension": ".py",
   "mimetype": "text/x-python",
   "name": "python",
   "nbconvert_exporter": "python",
   "pygments_lexer": "ipython3",
   "version": "3.6.6"
  }
 },
 "nbformat": 4,
 "nbformat_minor": 2
}
